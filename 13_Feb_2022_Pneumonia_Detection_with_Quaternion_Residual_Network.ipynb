{
  "nbformat": 4,
  "nbformat_minor": 0,
  "metadata": {
    "colab": {
      "name": "13 Feb 2022_Pneumonia_Detection_with_Quaternion_Residual_Network.ipynb",
      "provenance": [],
      "collapsed_sections": [],
      "include_colab_link": true
    },
    "kernelspec": {
      "name": "python3",
      "display_name": "Python 3"
    },
    "accelerator": "GPU"
  },
  "cells": [
    {
      "cell_type": "markdown",
      "metadata": {
        "id": "view-in-github",
        "colab_type": "text"
      },
      "source": [
        "<a href=\"https://colab.research.google.com/github/singhsukhendra/2015/blob/master/13_Feb_2022_Pneumonia_Detection_with_Quaternion_Residual_Network.ipynb\" target=\"_parent\"><img src=\"https://colab.research.google.com/assets/colab-badge.svg\" alt=\"Open In Colab\"/></a>"
      ]
    },
    {
      "cell_type": "code",
      "metadata": {
        "id": "bm3z_Bcgq8J3",
        "colab": {
          "base_uri": "https://localhost:8080/"
        },
        "outputId": "e6c6c80b-c904-4f89-fc6d-91e3e6e56066"
      },
      "source": [
        "!pip install kaggle"
      ],
      "execution_count": 1,
      "outputs": [
        {
          "output_type": "stream",
          "name": "stdout",
          "text": [
            "Requirement already satisfied: kaggle in /usr/local/lib/python3.7/dist-packages (1.5.12)\n",
            "Requirement already satisfied: python-slugify in /usr/local/lib/python3.7/dist-packages (from kaggle) (5.0.2)\n",
            "Requirement already satisfied: certifi in /usr/local/lib/python3.7/dist-packages (from kaggle) (2021.10.8)\n",
            "Requirement already satisfied: tqdm in /usr/local/lib/python3.7/dist-packages (from kaggle) (4.62.3)\n",
            "Requirement already satisfied: six>=1.10 in /usr/local/lib/python3.7/dist-packages (from kaggle) (1.15.0)\n",
            "Requirement already satisfied: python-dateutil in /usr/local/lib/python3.7/dist-packages (from kaggle) (2.8.2)\n",
            "Requirement already satisfied: requests in /usr/local/lib/python3.7/dist-packages (from kaggle) (2.23.0)\n",
            "Requirement already satisfied: urllib3 in /usr/local/lib/python3.7/dist-packages (from kaggle) (1.24.3)\n",
            "Requirement already satisfied: text-unidecode>=1.3 in /usr/local/lib/python3.7/dist-packages (from python-slugify->kaggle) (1.3)\n",
            "Requirement already satisfied: idna<3,>=2.5 in /usr/local/lib/python3.7/dist-packages (from requests->kaggle) (2.10)\n",
            "Requirement already satisfied: chardet<4,>=3.0.2 in /usr/local/lib/python3.7/dist-packages (from requests->kaggle) (3.0.4)\n"
          ]
        }
      ]
    },
    {
      "cell_type": "code",
      "source": [
        "! pip install numpy-quaternion"
      ],
      "metadata": {
        "colab": {
          "base_uri": "https://localhost:8080/"
        },
        "id": "bzBWU5TH7XoR",
        "outputId": "99c22337-3092-44b1-a36c-e7551736f552"
      },
      "execution_count": 87,
      "outputs": [
        {
          "output_type": "stream",
          "name": "stdout",
          "text": [
            "Collecting numpy-quaternion\n",
            "  Downloading numpy-quaternion-2022.2.10.14.20.39.tar.gz (59 kB)\n",
            "\u001b[?25l\r\u001b[K     |█████▌                          | 10 kB 22.2 MB/s eta 0:00:01\r\u001b[K     |███████████                     | 20 kB 29.0 MB/s eta 0:00:01\r\u001b[K     |████████████████▌               | 30 kB 33.5 MB/s eta 0:00:01\r\u001b[K     |██████████████████████          | 40 kB 36.0 MB/s eta 0:00:01\r\u001b[K     |███████████████████████████▍    | 51 kB 29.3 MB/s eta 0:00:01\r\u001b[K     |████████████████████████████████| 59 kB 6.3 MB/s \n",
            "\u001b[?25h  Installing build dependencies ... \u001b[?25l\u001b[?25hdone\n",
            "  Getting requirements to build wheel ... \u001b[?25l\u001b[?25hdone\n",
            "    Preparing wheel metadata ... \u001b[?25l\u001b[?25hdone\n",
            "Requirement already satisfied: numpy>=1.13 in /usr/local/lib/python3.7/dist-packages (from numpy-quaternion) (1.19.5)\n",
            "Building wheels for collected packages: numpy-quaternion\n",
            "  Building wheel for numpy-quaternion (PEP 517) ... \u001b[?25l\u001b[?25hdone\n",
            "  Created wheel for numpy-quaternion: filename=numpy_quaternion-2022.2.10.14.20.39-cp37-cp37m-linux_x86_64.whl size=158264 sha256=a0cb4387a4e953dbf932000c856b2f33b8e83a12c78532ffe74db976176ad5ca\n",
            "  Stored in directory: /root/.cache/pip/wheels/b3/44/fe/028fa4a206311e9103ec53704f93b9a6e953adca4e3db0270a\n",
            "Successfully built numpy-quaternion\n",
            "Installing collected packages: numpy-quaternion\n",
            "Successfully installed numpy-quaternion-2022.2.10.14.20.39\n"
          ]
        }
      ]
    },
    {
      "cell_type": "code",
      "source": [
        ""
      ],
      "metadata": {
        "id": "eeLKrO3K_I8V"
      },
      "execution_count": 1,
      "outputs": []
    },
    {
      "cell_type": "code",
      "metadata": {
        "id": "qDJG2WbbrJdt",
        "colab": {
          "base_uri": "https://localhost:8080/"
        },
        "outputId": "41f87dbe-9d52-48e1-b01d-cd61f5681a9b"
      },
      "source": [
        "!pip install keras==\"2.2.4\""
      ],
      "execution_count": 2,
      "outputs": [
        {
          "output_type": "stream",
          "name": "stdout",
          "text": [
            "Collecting keras==2.2.4\n",
            "  Downloading Keras-2.2.4-py2.py3-none-any.whl (312 kB)\n",
            "\u001b[?25l\r\u001b[K     |█                               | 10 kB 23.9 MB/s eta 0:00:01\r\u001b[K     |██                              | 20 kB 27.0 MB/s eta 0:00:01\r\u001b[K     |███▏                            | 30 kB 29.0 MB/s eta 0:00:01\r\u001b[K     |████▏                           | 40 kB 24.4 MB/s eta 0:00:01\r\u001b[K     |█████▎                          | 51 kB 19.1 MB/s eta 0:00:01\r\u001b[K     |██████▎                         | 61 kB 16.1 MB/s eta 0:00:01\r\u001b[K     |███████▍                        | 71 kB 15.0 MB/s eta 0:00:01\r\u001b[K     |████████▍                       | 81 kB 16.0 MB/s eta 0:00:01\r\u001b[K     |█████████▍                      | 92 kB 16.2 MB/s eta 0:00:01\r\u001b[K     |██████████▌                     | 102 kB 15.4 MB/s eta 0:00:01\r\u001b[K     |███████████▌                    | 112 kB 15.4 MB/s eta 0:00:01\r\u001b[K     |████████████▋                   | 122 kB 15.4 MB/s eta 0:00:01\r\u001b[K     |█████████████▋                  | 133 kB 15.4 MB/s eta 0:00:01\r\u001b[K     |██████████████▊                 | 143 kB 15.4 MB/s eta 0:00:01\r\u001b[K     |███████████████▊                | 153 kB 15.4 MB/s eta 0:00:01\r\u001b[K     |████████████████▊               | 163 kB 15.4 MB/s eta 0:00:01\r\u001b[K     |█████████████████▉              | 174 kB 15.4 MB/s eta 0:00:01\r\u001b[K     |██████████████████▉             | 184 kB 15.4 MB/s eta 0:00:01\r\u001b[K     |████████████████████            | 194 kB 15.4 MB/s eta 0:00:01\r\u001b[K     |█████████████████████           | 204 kB 15.4 MB/s eta 0:00:01\r\u001b[K     |██████████████████████          | 215 kB 15.4 MB/s eta 0:00:01\r\u001b[K     |███████████████████████         | 225 kB 15.4 MB/s eta 0:00:01\r\u001b[K     |████████████████████████▏       | 235 kB 15.4 MB/s eta 0:00:01\r\u001b[K     |█████████████████████████▏      | 245 kB 15.4 MB/s eta 0:00:01\r\u001b[K     |██████████████████████████▏     | 256 kB 15.4 MB/s eta 0:00:01\r\u001b[K     |███████████████████████████▎    | 266 kB 15.4 MB/s eta 0:00:01\r\u001b[K     |████████████████████████████▎   | 276 kB 15.4 MB/s eta 0:00:01\r\u001b[K     |█████████████████████████████▍  | 286 kB 15.4 MB/s eta 0:00:01\r\u001b[K     |██████████████████████████████▍ | 296 kB 15.4 MB/s eta 0:00:01\r\u001b[K     |███████████████████████████████▌| 307 kB 15.4 MB/s eta 0:00:01\r\u001b[K     |████████████████████████████████| 312 kB 15.4 MB/s \n",
            "\u001b[?25hRequirement already satisfied: six>=1.9.0 in /usr/local/lib/python3.7/dist-packages (from keras==2.2.4) (1.15.0)\n",
            "Requirement already satisfied: keras-preprocessing>=1.0.5 in /usr/local/lib/python3.7/dist-packages (from keras==2.2.4) (1.1.2)\n",
            "Requirement already satisfied: numpy>=1.9.1 in /usr/local/lib/python3.7/dist-packages (from keras==2.2.4) (1.19.5)\n",
            "Collecting keras-applications>=1.0.6\n",
            "  Downloading Keras_Applications-1.0.8-py3-none-any.whl (50 kB)\n",
            "\u001b[K     |████████████████████████████████| 50 kB 8.8 MB/s \n",
            "\u001b[?25hRequirement already satisfied: pyyaml in /usr/local/lib/python3.7/dist-packages (from keras==2.2.4) (3.13)\n",
            "Requirement already satisfied: h5py in /usr/local/lib/python3.7/dist-packages (from keras==2.2.4) (3.1.0)\n",
            "Requirement already satisfied: scipy>=0.14 in /usr/local/lib/python3.7/dist-packages (from keras==2.2.4) (1.4.1)\n",
            "Requirement already satisfied: cached-property in /usr/local/lib/python3.7/dist-packages (from h5py->keras==2.2.4) (1.5.2)\n",
            "Installing collected packages: keras-applications, keras\n",
            "  Attempting uninstall: keras\n",
            "    Found existing installation: keras 2.7.0\n",
            "    Uninstalling keras-2.7.0:\n",
            "      Successfully uninstalled keras-2.7.0\n",
            "\u001b[31mERROR: pip's dependency resolver does not currently take into account all the packages that are installed. This behaviour is the source of the following dependency conflicts.\n",
            "tensorflow 2.7.0 requires keras<2.8,>=2.7.0rc0, but you have keras 2.2.4 which is incompatible.\u001b[0m\n",
            "Successfully installed keras-2.2.4 keras-applications-1.0.8\n"
          ]
        }
      ]
    },
    {
      "cell_type": "code",
      "metadata": {
        "id": "9vcX1sn1rOgi",
        "colab": {
          "base_uri": "https://localhost:8080/"
        },
        "outputId": "0ad154aa-fafe-40c1-ce27-034e5522cb0d"
      },
      "source": [
        "!pip install tensorflow==1.15"
      ],
      "execution_count": 3,
      "outputs": [
        {
          "output_type": "stream",
          "name": "stdout",
          "text": [
            "Collecting tensorflow==1.15\n",
            "  Downloading tensorflow-1.15.0-cp37-cp37m-manylinux2010_x86_64.whl (412.3 MB)\n",
            "\u001b[K     |████████████████████████████████| 412.3 MB 24 kB/s \n",
            "\u001b[?25hCollecting tensorflow-estimator==1.15.1\n",
            "  Downloading tensorflow_estimator-1.15.1-py2.py3-none-any.whl (503 kB)\n",
            "\u001b[K     |████████████████████████████████| 503 kB 48.2 MB/s \n",
            "\u001b[?25hRequirement already satisfied: wheel>=0.26 in /usr/local/lib/python3.7/dist-packages (from tensorflow==1.15) (0.37.1)\n",
            "Requirement already satisfied: absl-py>=0.7.0 in /usr/local/lib/python3.7/dist-packages (from tensorflow==1.15) (1.0.0)\n",
            "Requirement already satisfied: keras-applications>=1.0.8 in /usr/local/lib/python3.7/dist-packages (from tensorflow==1.15) (1.0.8)\n",
            "Requirement already satisfied: protobuf>=3.6.1 in /usr/local/lib/python3.7/dist-packages (from tensorflow==1.15) (3.17.3)\n",
            "Requirement already satisfied: opt-einsum>=2.3.2 in /usr/local/lib/python3.7/dist-packages (from tensorflow==1.15) (3.3.0)\n",
            "Requirement already satisfied: termcolor>=1.1.0 in /usr/local/lib/python3.7/dist-packages (from tensorflow==1.15) (1.1.0)\n",
            "Collecting gast==0.2.2\n",
            "  Downloading gast-0.2.2.tar.gz (10 kB)\n",
            "Requirement already satisfied: six>=1.10.0 in /usr/local/lib/python3.7/dist-packages (from tensorflow==1.15) (1.15.0)\n",
            "Collecting tensorboard<1.16.0,>=1.15.0\n",
            "  Downloading tensorboard-1.15.0-py3-none-any.whl (3.8 MB)\n",
            "\u001b[K     |████████████████████████████████| 3.8 MB 41.3 MB/s \n",
            "\u001b[?25hRequirement already satisfied: astor>=0.6.0 in /usr/local/lib/python3.7/dist-packages (from tensorflow==1.15) (0.8.1)\n",
            "Requirement already satisfied: numpy<2.0,>=1.16.0 in /usr/local/lib/python3.7/dist-packages (from tensorflow==1.15) (1.19.5)\n",
            "Requirement already satisfied: wrapt>=1.11.1 in /usr/local/lib/python3.7/dist-packages (from tensorflow==1.15) (1.13.3)\n",
            "Requirement already satisfied: grpcio>=1.8.6 in /usr/local/lib/python3.7/dist-packages (from tensorflow==1.15) (1.43.0)\n",
            "Requirement already satisfied: google-pasta>=0.1.6 in /usr/local/lib/python3.7/dist-packages (from tensorflow==1.15) (0.2.0)\n",
            "Requirement already satisfied: keras-preprocessing>=1.0.5 in /usr/local/lib/python3.7/dist-packages (from tensorflow==1.15) (1.1.2)\n",
            "Requirement already satisfied: h5py in /usr/local/lib/python3.7/dist-packages (from keras-applications>=1.0.8->tensorflow==1.15) (3.1.0)\n",
            "Requirement already satisfied: werkzeug>=0.11.15 in /usr/local/lib/python3.7/dist-packages (from tensorboard<1.16.0,>=1.15.0->tensorflow==1.15) (1.0.1)\n",
            "Requirement already satisfied: markdown>=2.6.8 in /usr/local/lib/python3.7/dist-packages (from tensorboard<1.16.0,>=1.15.0->tensorflow==1.15) (3.3.6)\n",
            "Requirement already satisfied: setuptools>=41.0.0 in /usr/local/lib/python3.7/dist-packages (from tensorboard<1.16.0,>=1.15.0->tensorflow==1.15) (57.4.0)\n",
            "Requirement already satisfied: importlib-metadata>=4.4 in /usr/local/lib/python3.7/dist-packages (from markdown>=2.6.8->tensorboard<1.16.0,>=1.15.0->tensorflow==1.15) (4.10.1)\n",
            "Requirement already satisfied: typing-extensions>=3.6.4 in /usr/local/lib/python3.7/dist-packages (from importlib-metadata>=4.4->markdown>=2.6.8->tensorboard<1.16.0,>=1.15.0->tensorflow==1.15) (3.10.0.2)\n",
            "Requirement already satisfied: zipp>=0.5 in /usr/local/lib/python3.7/dist-packages (from importlib-metadata>=4.4->markdown>=2.6.8->tensorboard<1.16.0,>=1.15.0->tensorflow==1.15) (3.7.0)\n",
            "Requirement already satisfied: cached-property in /usr/local/lib/python3.7/dist-packages (from h5py->keras-applications>=1.0.8->tensorflow==1.15) (1.5.2)\n",
            "Building wheels for collected packages: gast\n",
            "  Building wheel for gast (setup.py) ... \u001b[?25l\u001b[?25hdone\n",
            "  Created wheel for gast: filename=gast-0.2.2-py3-none-any.whl size=7554 sha256=9a4731cd8687c6850b27cd04bc894f970164f460e137b9c03897ddb2900611f4\n",
            "  Stored in directory: /root/.cache/pip/wheels/21/7f/02/420f32a803f7d0967b48dd823da3f558c5166991bfd204eef3\n",
            "Successfully built gast\n",
            "Installing collected packages: tensorflow-estimator, tensorboard, gast, tensorflow\n",
            "  Attempting uninstall: tensorflow-estimator\n",
            "    Found existing installation: tensorflow-estimator 2.7.0\n",
            "    Uninstalling tensorflow-estimator-2.7.0:\n",
            "      Successfully uninstalled tensorflow-estimator-2.7.0\n",
            "  Attempting uninstall: tensorboard\n",
            "    Found existing installation: tensorboard 2.7.0\n",
            "    Uninstalling tensorboard-2.7.0:\n",
            "      Successfully uninstalled tensorboard-2.7.0\n",
            "  Attempting uninstall: gast\n",
            "    Found existing installation: gast 0.4.0\n",
            "    Uninstalling gast-0.4.0:\n",
            "      Successfully uninstalled gast-0.4.0\n",
            "  Attempting uninstall: tensorflow\n",
            "    Found existing installation: tensorflow 2.7.0\n",
            "    Uninstalling tensorflow-2.7.0:\n",
            "      Successfully uninstalled tensorflow-2.7.0\n",
            "\u001b[31mERROR: pip's dependency resolver does not currently take into account all the packages that are installed. This behaviour is the source of the following dependency conflicts.\n",
            "tensorflow-probability 0.15.0 requires gast>=0.3.2, but you have gast 0.2.2 which is incompatible.\n",
            "kapre 0.3.7 requires tensorflow>=2.0.0, but you have tensorflow 1.15.0 which is incompatible.\u001b[0m\n",
            "Successfully installed gast-0.2.2 tensorboard-1.15.0 tensorflow-1.15.0 tensorflow-estimator-1.15.1\n"
          ]
        }
      ]
    },
    {
      "cell_type": "code",
      "metadata": {
        "id": "NU8uoUkcrYEw"
      },
      "source": [
        "!mkdir -p ~/.kaggle/\n",
        "!cp kaggle.json ~/.kaggle/"
      ],
      "execution_count": 4,
      "outputs": []
    },
    {
      "cell_type": "code",
      "metadata": {
        "id": "YeeFuFZtsDUI",
        "colab": {
          "base_uri": "https://localhost:8080/"
        },
        "outputId": "8fd0bdb0-8693-4464-f2f5-53b752ebce6e"
      },
      "source": [
        "!kaggle datasets download -d paultimothymooney/chest-xray-pneumonia"
      ],
      "execution_count": 5,
      "outputs": [
        {
          "output_type": "stream",
          "name": "stdout",
          "text": [
            "Warning: Your Kaggle API key is readable by other users on this system! To fix this, you can run 'chmod 600 /root/.kaggle/kaggle.json'\n",
            "Downloading chest-xray-pneumonia.zip to /content\n",
            "100% 2.29G/2.29G [00:34<00:00, 86.8MB/s]\n",
            "100% 2.29G/2.29G [00:34<00:00, 70.7MB/s]\n"
          ]
        }
      ]
    },
    {
      "cell_type": "code",
      "metadata": {
        "id": "d1whZNjgvfHu"
      },
      "source": [
        "\n",
        "import zipfile\n",
        "with zipfile.ZipFile(\"/content/chest-xray-pneumonia.zip\",\"r\") as zip_ref:\n",
        "    zip_ref.extractall(\"chest-xray-pneumonia\")"
      ],
      "execution_count": 6,
      "outputs": []
    },
    {
      "cell_type": "code",
      "metadata": {
        "id": "aNBD8eABtMUJ"
      },
      "source": [
        "! mkdir data_used"
      ],
      "execution_count": 7,
      "outputs": []
    },
    {
      "cell_type": "code",
      "metadata": {
        "id": "FF738dIOzyXu"
      },
      "source": [
        "!mkdir data_used/NORMAL"
      ],
      "execution_count": 8,
      "outputs": []
    },
    {
      "cell_type": "code",
      "metadata": {
        "id": "l_HfM3tGzzTa"
      },
      "source": [
        "!mkdir data_used/PNEUMONIA"
      ],
      "execution_count": 9,
      "outputs": []
    },
    {
      "cell_type": "code",
      "metadata": {
        "id": "PR7BL4vMRFoj"
      },
      "source": [
        "! cp -r /content/chest-xray-pneumonia/chest_xray/chest_xray/train/NORMAL/*.jpeg   /content/data_used/NORMAL"
      ],
      "execution_count": 10,
      "outputs": []
    },
    {
      "cell_type": "code",
      "metadata": {
        "id": "CBQKu5yVRMAh"
      },
      "source": [
        "! cp -r /content/chest-xray-pneumonia/chest_xray/chest_xray/test/NORMAL/*.jpeg   /content/data_used/NORMAL"
      ],
      "execution_count": 11,
      "outputs": []
    },
    {
      "cell_type": "code",
      "metadata": {
        "id": "ESLCNfZBRMvh"
      },
      "source": [
        "! cp -r /content/chest-xray-pneumonia/chest_xray/chest_xray/val/NORMAL/*.jpeg   /content/data_used/NORMAL"
      ],
      "execution_count": 12,
      "outputs": []
    },
    {
      "cell_type": "code",
      "metadata": {
        "id": "fxbeAAYoQ4_2"
      },
      "source": [
        "! cp -r /content/chest-xray-pneumonia/chest_xray/chest_xray/train/PNEUMONIA/*.jpeg   /content/data_used/PNEUMONIA"
      ],
      "execution_count": 13,
      "outputs": []
    },
    {
      "cell_type": "code",
      "metadata": {
        "id": "OWlwaCwaRA7F"
      },
      "source": [
        "! cp -r /content/chest-xray-pneumonia/chest_xray/chest_xray/test/PNEUMONIA/*.jpeg   /content/data_used/PNEUMONIA"
      ],
      "execution_count": 14,
      "outputs": []
    },
    {
      "cell_type": "code",
      "metadata": {
        "id": "oTW6bBnAtb06"
      },
      "source": [
        "! cp -r /content/chest-xray-pneumonia/chest_xray/chest_xray/val/PNEUMONIA/*.jpeg   /content/data_used/PNEUMONIA"
      ],
      "execution_count": 15,
      "outputs": []
    },
    {
      "cell_type": "code",
      "metadata": {
        "id": "n8ZgYZxsodN7"
      },
      "source": [
        "import zipfile\n",
        "\n",
        "with zipfile.ZipFile(\"complexnn.zip\",\"r\") as zip_ref:\n",
        "    zip_ref.extractall()"
      ],
      "execution_count": 16,
      "outputs": []
    },
    {
      "cell_type": "code",
      "metadata": {
        "id": "ayD-eyE5cIUg"
      },
      "source": [
        ""
      ],
      "execution_count": 16,
      "outputs": []
    },
    {
      "cell_type": "code",
      "metadata": {
        "id": "VANz-UBvdJdV"
      },
      "source": [
        ""
      ],
      "execution_count": 16,
      "outputs": []
    },
    {
      "cell_type": "code",
      "metadata": {
        "id": "esgXl_scoiop"
      },
      "source": [
        "import pandas as pd\n",
        "import numpy as np\n",
        "import os\n",
        "\n",
        "from glob import glob\n",
        "import itertools\n",
        "import fnmatch\n",
        "import random\n",
        "import matplotlib.pylab as plt\n",
        "#import seaborn as sns\n",
        "import cv2\n",
        "from sklearn.model_selection import train_test_split\n",
        "%matplotlib inline"
      ],
      "execution_count": 17,
      "outputs": []
    },
    {
      "cell_type": "code",
      "metadata": {
        "id": "0PVZlJ6IolPd",
        "colab": {
          "base_uri": "https://localhost:8080/"
        },
        "outputId": "5e06280a-e345-4d71-a2de-37f18f98669c"
      },
      "source": [
        "imagePatches = glob('/content/data_used/*/*.jpeg', recursive=True)\n",
        "for filename in imagePatches[0:1000]:\n",
        "    print(filename)"
      ],
      "execution_count": 18,
      "outputs": [
        {
          "output_type": "stream",
          "name": "stdout",
          "text": [
            "/content/data_used/PNEUMONIA/person1481_bacteria_3866.jpeg\n",
            "/content/data_used/PNEUMONIA/person438_virus_889.jpeg\n",
            "/content/data_used/PNEUMONIA/person421_virus_866.jpeg\n",
            "/content/data_used/PNEUMONIA/person21_bacteria_72.jpeg\n",
            "/content/data_used/PNEUMONIA/person87_bacteria_433.jpeg\n",
            "/content/data_used/PNEUMONIA/person23_bacteria_95.jpeg\n",
            "/content/data_used/PNEUMONIA/person467_bacteria_1988.jpeg\n",
            "/content/data_used/PNEUMONIA/person298_bacteria_1410.jpeg\n",
            "/content/data_used/PNEUMONIA/person1197_virus_2039.jpeg\n",
            "/content/data_used/PNEUMONIA/person732_bacteria_2634.jpeg\n",
            "/content/data_used/PNEUMONIA/person1476_bacteria_3842.jpeg\n",
            "/content/data_used/PNEUMONIA/person149_virus_299.jpeg\n",
            "/content/data_used/PNEUMONIA/person255_bacteria_1160.jpeg\n",
            "/content/data_used/PNEUMONIA/person1649_virus_2850.jpeg\n",
            "/content/data_used/PNEUMONIA/person911_virus_1567.jpeg\n",
            "/content/data_used/PNEUMONIA/person1290_virus_2215.jpeg\n",
            "/content/data_used/PNEUMONIA/person829_bacteria_2740.jpeg\n",
            "/content/data_used/PNEUMONIA/person351_bacteria_1620.jpeg\n",
            "/content/data_used/PNEUMONIA/person1608_bacteria_4235.jpeg\n",
            "/content/data_used/PNEUMONIA/person113_bacteria_541.jpeg\n",
            "/content/data_used/PNEUMONIA/person1526_bacteria_3986.jpeg\n",
            "/content/data_used/PNEUMONIA/person633_bacteria_2522.jpeg\n",
            "/content/data_used/PNEUMONIA/person779_bacteria_2683.jpeg\n",
            "/content/data_used/PNEUMONIA/person1550_bacteria_4051.jpeg\n",
            "/content/data_used/PNEUMONIA/person458_bacteria_1953.jpeg\n",
            "/content/data_used/PNEUMONIA/person1449_bacteria_3743.jpeg\n",
            "/content/data_used/PNEUMONIA/person1310_bacteria_3302.jpeg\n",
            "/content/data_used/PNEUMONIA/person734_virus_1355.jpeg\n",
            "/content/data_used/PNEUMONIA/person1083_virus_1795.jpeg\n",
            "/content/data_used/PNEUMONIA/person1067_bacteria_3001.jpeg\n",
            "/content/data_used/PNEUMONIA/person615_virus_1184.jpeg\n",
            "/content/data_used/PNEUMONIA/person1706_bacteria_4516.jpeg\n",
            "/content/data_used/PNEUMONIA/person1430_bacteria_3695.jpeg\n",
            "/content/data_used/PNEUMONIA/person1949_bacteria_4880.jpeg\n",
            "/content/data_used/PNEUMONIA/person418_bacteria_1843.jpeg\n",
            "/content/data_used/PNEUMONIA/person1087_bacteria_3027.jpeg\n",
            "/content/data_used/PNEUMONIA/person25_bacteria_118.jpeg\n",
            "/content/data_used/PNEUMONIA/person44_virus_93.jpeg\n",
            "/content/data_used/PNEUMONIA/person773_virus_1402.jpeg\n",
            "/content/data_used/PNEUMONIA/person17_virus_48.jpeg\n",
            "/content/data_used/PNEUMONIA/person622_virus_1196.jpeg\n",
            "/content/data_used/PNEUMONIA/person1670_bacteria_4425.jpeg\n",
            "/content/data_used/PNEUMONIA/person883_bacteria_2807.jpeg\n",
            "/content/data_used/PNEUMONIA/person1411_bacteria_3591.jpeg\n",
            "/content/data_used/PNEUMONIA/person1353_virus_2333.jpeg\n",
            "/content/data_used/PNEUMONIA/person1643_virus_2843.jpeg\n",
            "/content/data_used/PNEUMONIA/person491_virus_997.jpeg\n",
            "/content/data_used/PNEUMONIA/person475_bacteria_2022.jpeg\n",
            "/content/data_used/PNEUMONIA/person1278_virus_2201.jpeg\n",
            "/content/data_used/PNEUMONIA/person388_virus_775.jpeg\n",
            "/content/data_used/PNEUMONIA/person61_bacteria_288.jpeg\n",
            "/content/data_used/PNEUMONIA/person432_virus_881.jpeg\n",
            "/content/data_used/PNEUMONIA/person266_bacteria_1248.jpeg\n",
            "/content/data_used/PNEUMONIA/person359_virus_738.jpeg\n",
            "/content/data_used/PNEUMONIA/person301_bacteria_1424.jpeg\n",
            "/content/data_used/PNEUMONIA/person745_virus_1368.jpeg\n",
            "/content/data_used/PNEUMONIA/person1343_bacteria_3409.jpeg\n",
            "/content/data_used/PNEUMONIA/person1398_virus_2401.jpeg\n",
            "/content/data_used/PNEUMONIA/person530_bacteria_2233.jpeg\n",
            "/content/data_used/PNEUMONIA/person348_bacteria_1603.jpeg\n",
            "/content/data_used/PNEUMONIA/person58_bacteria_275.jpeg\n",
            "/content/data_used/PNEUMONIA/person1514_bacteria_3964.jpeg\n",
            "/content/data_used/PNEUMONIA/person370_virus_752.jpeg\n",
            "/content/data_used/PNEUMONIA/person1665_bacteria_4415.jpeg\n",
            "/content/data_used/PNEUMONIA/person721_virus_1340.jpeg\n",
            "/content/data_used/PNEUMONIA/person1031_virus_1723.jpeg\n",
            "/content/data_used/PNEUMONIA/person1028_bacteria_2959.jpeg\n",
            "/content/data_used/PNEUMONIA/person1159_virus_1944.jpeg\n",
            "/content/data_used/PNEUMONIA/person1732_bacteria_4564.jpeg\n",
            "/content/data_used/PNEUMONIA/person97_bacteria_468.jpeg\n",
            "/content/data_used/PNEUMONIA/person277_virus_571.jpeg\n",
            "/content/data_used/PNEUMONIA/person1010_bacteria_2941.jpeg\n",
            "/content/data_used/PNEUMONIA/person1033_bacteria_2966.jpeg\n",
            "/content/data_used/PNEUMONIA/person158_bacteria_745.jpeg\n",
            "/content/data_used/PNEUMONIA/person160_virus_316.jpeg\n",
            "/content/data_used/PNEUMONIA/person754_virus_1379.jpeg\n",
            "/content/data_used/PNEUMONIA/person1171_bacteria_3118.jpeg\n",
            "/content/data_used/PNEUMONIA/person637_virus_1218.jpeg\n",
            "/content/data_used/PNEUMONIA/person612_bacteria_2477.jpeg\n",
            "/content/data_used/PNEUMONIA/person4_bacteria_14.jpeg\n",
            "/content/data_used/PNEUMONIA/person28_bacteria_139.jpeg\n",
            "/content/data_used/PNEUMONIA/person1632_virus_2827.jpeg\n",
            "/content/data_used/PNEUMONIA/person931_virus_1592.jpeg\n",
            "/content/data_used/PNEUMONIA/person382_bacteria_1739.jpeg\n",
            "/content/data_used/PNEUMONIA/person499_virus_1008.jpeg\n",
            "/content/data_used/PNEUMONIA/person139_bacteria_664.jpeg\n",
            "/content/data_used/PNEUMONIA/person710_bacteria_2611.jpeg\n",
            "/content/data_used/PNEUMONIA/person1619_bacteria_4267.jpeg\n",
            "/content/data_used/PNEUMONIA/person74_virus_135.jpeg\n",
            "/content/data_used/PNEUMONIA/person854_bacteria_2776.jpeg\n",
            "/content/data_used/PNEUMONIA/person140_virus_285.jpeg\n",
            "/content/data_used/PNEUMONIA/person918_bacteria_2843.jpeg\n",
            "/content/data_used/PNEUMONIA/person1295_virus_2223.jpeg\n",
            "/content/data_used/PNEUMONIA/person679_virus_1270.jpeg\n",
            "/content/data_used/PNEUMONIA/person326_virus_673.jpeg\n",
            "/content/data_used/PNEUMONIA/person620_virus_1191.jpeg\n",
            "/content/data_used/PNEUMONIA/person441_bacteria_1907.jpeg\n",
            "/content/data_used/PNEUMONIA/person859_virus_1504.jpeg\n",
            "/content/data_used/PNEUMONIA/person1284_bacteria_3247.jpeg\n",
            "/content/data_used/PNEUMONIA/person1430_bacteria_3696.jpeg\n",
            "/content/data_used/PNEUMONIA/person1395_bacteria_3544.jpeg\n",
            "/content/data_used/PNEUMONIA/person38_bacteria_196.jpeg\n",
            "/content/data_used/PNEUMONIA/person1465_virus_2537.jpeg\n",
            "/content/data_used/PNEUMONIA/person1286_virus_2209.jpeg\n",
            "/content/data_used/PNEUMONIA/person545_virus_1081.jpeg\n",
            "/content/data_used/PNEUMONIA/person51_bacteria_244.jpeg\n",
            "/content/data_used/PNEUMONIA/person905_bacteria_2830.jpeg\n",
            "/content/data_used/PNEUMONIA/person150_bacteria_716.jpeg\n",
            "/content/data_used/PNEUMONIA/person52_bacteria_249.jpeg\n",
            "/content/data_used/PNEUMONIA/person442_virus_902.jpeg\n",
            "/content/data_used/PNEUMONIA/person1346_virus_2322.jpeg\n",
            "/content/data_used/PNEUMONIA/person995_bacteria_2923.jpeg\n",
            "/content/data_used/PNEUMONIA/person1602_bacteria_4218.jpeg\n",
            "/content/data_used/PNEUMONIA/person1491_bacteria_3893.jpeg\n",
            "/content/data_used/PNEUMONIA/person146_bacteria_703.jpeg\n",
            "/content/data_used/PNEUMONIA/person281_bacteria_1327.jpeg\n",
            "/content/data_used/PNEUMONIA/person793_virus_1424.jpeg\n",
            "/content/data_used/PNEUMONIA/person307_virus_629.jpeg\n",
            "/content/data_used/PNEUMONIA/person544_virus_1075.jpeg\n",
            "/content/data_used/PNEUMONIA/person1149_bacteria_3094.jpeg\n",
            "/content/data_used/PNEUMONIA/person500_bacteria_2110.jpeg\n",
            "/content/data_used/PNEUMONIA/person1372_bacteria_3500.jpeg\n",
            "/content/data_used/PNEUMONIA/person568_bacteria_2358.jpeg\n",
            "/content/data_used/PNEUMONIA/person790_virus_1421.jpeg\n",
            "/content/data_used/PNEUMONIA/person949_bacteria_2874.jpeg\n",
            "/content/data_used/PNEUMONIA/person1361_bacteria_3477.jpeg\n",
            "/content/data_used/PNEUMONIA/person1328_virus_2294.jpeg\n",
            "/content/data_used/PNEUMONIA/person1697_bacteria_4496.jpeg\n",
            "/content/data_used/PNEUMONIA/person998_bacteria_2927.jpeg\n",
            "/content/data_used/PNEUMONIA/person1571_bacteria_4110.jpeg\n",
            "/content/data_used/PNEUMONIA/person959_bacteria_2884.jpeg\n",
            "/content/data_used/PNEUMONIA/person579_bacteria_2383.jpeg\n",
            "/content/data_used/PNEUMONIA/person1414_bacteria_3628.jpeg\n",
            "/content/data_used/PNEUMONIA/person133_bacteria_637.jpeg\n",
            "/content/data_used/PNEUMONIA/person392_virus_782.jpeg\n",
            "/content/data_used/PNEUMONIA/person501_bacteria_2116.jpeg\n",
            "/content/data_used/PNEUMONIA/person1170_virus_1970.jpeg\n",
            "/content/data_used/PNEUMONIA/person51_bacteria_241.jpeg\n",
            "/content/data_used/PNEUMONIA/person343_virus_704.jpeg\n",
            "/content/data_used/PNEUMONIA/person1461_virus_2510.jpeg\n",
            "/content/data_used/PNEUMONIA/person1041_bacteria_2975.jpeg\n",
            "/content/data_used/PNEUMONIA/person1647_virus_2848.jpeg\n",
            "/content/data_used/PNEUMONIA/person575_virus_1119.jpeg\n",
            "/content/data_used/PNEUMONIA/person1926_bacteria_4835.jpeg\n",
            "/content/data_used/PNEUMONIA/person267_bacteria_1250.jpeg\n",
            "/content/data_used/PNEUMONIA/person1540_virus_2680.jpeg\n",
            "/content/data_used/PNEUMONIA/person111_virus_212.jpeg\n",
            "/content/data_used/PNEUMONIA/person1503_virus_2613.jpeg\n",
            "/content/data_used/PNEUMONIA/person384_bacteria_1755.jpeg\n",
            "/content/data_used/PNEUMONIA/person1044_bacteria_2978.jpeg\n",
            "/content/data_used/PNEUMONIA/person16_bacteria_55.jpeg\n",
            "/content/data_used/PNEUMONIA/person1_virus_13.jpeg\n",
            "/content/data_used/PNEUMONIA/person136_bacteria_650.jpeg\n",
            "/content/data_used/PNEUMONIA/person141_virus_287.jpeg\n",
            "/content/data_used/PNEUMONIA/person128_bacteria_608.jpeg\n",
            "/content/data_used/PNEUMONIA/person660_virus_1244.jpeg\n",
            "/content/data_used/PNEUMONIA/person366_bacteria_1664.jpeg\n",
            "/content/data_used/PNEUMONIA/person624_virus_1198.jpeg\n",
            "/content/data_used/PNEUMONIA/person331_bacteria_1529.jpeg\n",
            "/content/data_used/PNEUMONIA/person411_bacteria_1826.jpeg\n",
            "/content/data_used/PNEUMONIA/person162_virus_320.jpeg\n",
            "/content/data_used/PNEUMONIA/person881_bacteria_2805.jpeg\n",
            "/content/data_used/PNEUMONIA/person1896_bacteria_4788.jpeg\n",
            "/content/data_used/PNEUMONIA/person1409_virus_2413.jpeg\n",
            "/content/data_used/PNEUMONIA/person924_virus_1581.jpeg\n",
            "/content/data_used/PNEUMONIA/person1247_bacteria_3203.jpeg\n",
            "/content/data_used/PNEUMONIA/person588_virus_1134.jpeg\n",
            "/content/data_used/PNEUMONIA/person108_bacteria_511.jpeg\n",
            "/content/data_used/PNEUMONIA/person145_bacteria_696.jpeg\n",
            "/content/data_used/PNEUMONIA/person711_virus_1309.jpeg\n",
            "/content/data_used/PNEUMONIA/person718_virus_1316.jpeg\n",
            "/content/data_used/PNEUMONIA/person457_bacteria_1949.jpeg\n",
            "/content/data_used/PNEUMONIA/person25_bacteria_117.jpeg\n",
            "/content/data_used/PNEUMONIA/person530_bacteria_2231.jpeg\n",
            "/content/data_used/PNEUMONIA/person78_virus_140.jpeg\n",
            "/content/data_used/PNEUMONIA/person48_bacteria_230.jpeg\n",
            "/content/data_used/PNEUMONIA/person1661_virus_2872.jpeg\n",
            "/content/data_used/PNEUMONIA/person349_bacteria_1606.jpeg\n",
            "/content/data_used/PNEUMONIA/person1511_bacteria_3955.jpeg\n",
            "/content/data_used/PNEUMONIA/person1_virus_11.jpeg\n",
            "/content/data_used/PNEUMONIA/person306_bacteria_1440.jpeg\n",
            "/content/data_used/PNEUMONIA/person1258_bacteria_3216.jpeg\n",
            "/content/data_used/PNEUMONIA/person469_virus_965.jpeg\n",
            "/content/data_used/PNEUMONIA/person486_bacteria_2051.jpeg\n",
            "/content/data_used/PNEUMONIA/person451_bacteria_1942.jpeg\n",
            "/content/data_used/PNEUMONIA/person1317_virus_2273.jpeg\n",
            "/content/data_used/PNEUMONIA/person431_bacteria_1872.jpeg\n",
            "/content/data_used/PNEUMONIA/person460_bacteria_1958.jpeg\n",
            "/content/data_used/PNEUMONIA/person1102_virus_1822.jpeg\n",
            "/content/data_used/PNEUMONIA/person547_bacteria_2294.jpeg\n",
            "/content/data_used/PNEUMONIA/person111_bacteria_533.jpeg\n",
            "/content/data_used/PNEUMONIA/person1108_bacteria_3049.jpeg\n",
            "/content/data_used/PNEUMONIA/person1014_bacteria_2945.jpeg\n",
            "/content/data_used/PNEUMONIA/person788_virus_1419.jpeg\n",
            "/content/data_used/PNEUMONIA/person1438_bacteria_3718.jpeg\n",
            "/content/data_used/PNEUMONIA/person307_bacteria_1442.jpeg\n",
            "/content/data_used/PNEUMONIA/person1317_bacteria_3332.jpeg\n",
            "/content/data_used/PNEUMONIA/person930_bacteria_2855.jpeg\n",
            "/content/data_used/PNEUMONIA/person628_bacteria_2505.jpeg\n",
            "/content/data_used/PNEUMONIA/person1095_virus_1815.jpeg\n",
            "/content/data_used/PNEUMONIA/person1544_virus_2685.jpeg\n",
            "/content/data_used/PNEUMONIA/person71_virus_131.jpeg\n",
            "/content/data_used/PNEUMONIA/person1491_virus_2597.jpeg\n",
            "/content/data_used/PNEUMONIA/person899_virus_1553.jpeg\n",
            "/content/data_used/PNEUMONIA/person1748_bacteria_4588.jpeg\n",
            "/content/data_used/PNEUMONIA/person377_bacteria_1717.jpeg\n",
            "/content/data_used/PNEUMONIA/person1469_bacteria_3827.jpeg\n",
            "/content/data_used/PNEUMONIA/person769_bacteria_2673.jpeg\n",
            "/content/data_used/PNEUMONIA/person540_bacteria_2271.jpeg\n",
            "/content/data_used/PNEUMONIA/person1666_bacteria_4416.jpeg\n",
            "/content/data_used/PNEUMONIA/person1644_bacteria_4358.jpeg\n",
            "/content/data_used/PNEUMONIA/person1287_virus_2210.jpeg\n",
            "/content/data_used/PNEUMONIA/person445_virus_915.jpeg\n",
            "/content/data_used/PNEUMONIA/person124_virus_237.jpeg\n",
            "/content/data_used/PNEUMONIA/person780_virus_1411.jpeg\n",
            "/content/data_used/PNEUMONIA/person337_bacteria_1557.jpeg\n",
            "/content/data_used/PNEUMONIA/person161_bacteria_757.jpeg\n",
            "/content/data_used/PNEUMONIA/person1249_virus_2118.jpeg\n",
            "/content/data_used/PNEUMONIA/person113_bacteria_542.jpeg\n",
            "/content/data_used/PNEUMONIA/person385_bacteria_1765.jpeg\n",
            "/content/data_used/PNEUMONIA/person438_bacteria_1892.jpeg\n",
            "/content/data_used/PNEUMONIA/person547_bacteria_2296.jpeg\n",
            "/content/data_used/PNEUMONIA/person1715_bacteria_4532.jpeg\n",
            "/content/data_used/PNEUMONIA/person1236_bacteria_3192.jpeg\n",
            "/content/data_used/PNEUMONIA/person1347_virus_2323.jpeg\n",
            "/content/data_used/PNEUMONIA/person1633_virus_2829.jpeg\n",
            "/content/data_used/PNEUMONIA/person373_bacteria_1709.jpeg\n",
            "/content/data_used/PNEUMONIA/person1584_bacteria_4148.jpeg\n",
            "/content/data_used/PNEUMONIA/person629_virus_1207.jpeg\n",
            "/content/data_used/PNEUMONIA/person1256_bacteria_3214.jpeg\n",
            "/content/data_used/PNEUMONIA/person1669_virus_2885.jpeg\n",
            "/content/data_used/PNEUMONIA/person325_virus_665.jpeg\n",
            "/content/data_used/PNEUMONIA/person1576_bacteria_4129.jpeg\n",
            "/content/data_used/PNEUMONIA/person574_bacteria_2372.jpeg\n",
            "/content/data_used/PNEUMONIA/person1614_bacteria_4248.jpeg\n",
            "/content/data_used/PNEUMONIA/person1751_bacteria_4592.jpeg\n",
            "/content/data_used/PNEUMONIA/person1046_bacteria_2980.jpeg\n",
            "/content/data_used/PNEUMONIA/person83_bacteria_409.jpeg\n",
            "/content/data_used/PNEUMONIA/person1019_bacteria_2950.jpeg\n",
            "/content/data_used/PNEUMONIA/person441_bacteria_1915.jpeg\n",
            "/content/data_used/PNEUMONIA/person1918_bacteria_4825.jpeg\n",
            "/content/data_used/PNEUMONIA/person1512_virus_2631.jpeg\n",
            "/content/data_used/PNEUMONIA/person337_bacteria_1563.jpeg\n",
            "/content/data_used/PNEUMONIA/person445_virus_914.jpeg\n",
            "/content/data_used/PNEUMONIA/person1466_virus_2543.jpeg\n",
            "/content/data_used/PNEUMONIA/person1331_virus_2299.jpeg\n",
            "/content/data_used/PNEUMONIA/person1408_bacteria_3581.jpeg\n",
            "/content/data_used/PNEUMONIA/person724_virus_1344.jpeg\n",
            "/content/data_used/PNEUMONIA/person1623_virus_2813.jpeg\n",
            "/content/data_used/PNEUMONIA/person1242_virus_2108.jpeg\n",
            "/content/data_used/PNEUMONIA/person1439_virus_2453.jpeg\n",
            "/content/data_used/PNEUMONIA/person1542_virus_2683.jpeg\n",
            "/content/data_used/PNEUMONIA/person575_bacteria_2374.jpeg\n",
            "/content/data_used/PNEUMONIA/person1429_virus_2443.jpeg\n",
            "/content/data_used/PNEUMONIA/person841_bacteria_2760.jpeg\n",
            "/content/data_used/PNEUMONIA/person1413_virus_2423.jpeg\n",
            "/content/data_used/PNEUMONIA/person1321_virus_2279.jpeg\n",
            "/content/data_used/PNEUMONIA/person348_virus_716.jpeg\n",
            "/content/data_used/PNEUMONIA/person1568_virus_2723.jpeg\n",
            "/content/data_used/PNEUMONIA/person548_bacteria_2299.jpeg\n",
            "/content/data_used/PNEUMONIA/person1482_virus_2570.jpeg\n",
            "/content/data_used/PNEUMONIA/person1376_bacteria_3511.jpeg\n",
            "/content/data_used/PNEUMONIA/person1634_bacteria_4334.jpeg\n",
            "/content/data_used/PNEUMONIA/person614_virus_1183.jpeg\n",
            "/content/data_used/PNEUMONIA/person482_bacteria_2044.jpeg\n",
            "/content/data_used/PNEUMONIA/person581_bacteria_2390.jpeg\n",
            "/content/data_used/PNEUMONIA/person963_bacteria_2888.jpeg\n",
            "/content/data_used/PNEUMONIA/person933_bacteria_2858.jpeg\n",
            "/content/data_used/PNEUMONIA/person898_virus_1552.jpeg\n",
            "/content/data_used/PNEUMONIA/person537_bacteria_2265.jpeg\n",
            "/content/data_used/PNEUMONIA/person1851_bacteria_4722.jpeg\n",
            "/content/data_used/PNEUMONIA/person909_virus_1565.jpeg\n",
            "/content/data_used/PNEUMONIA/person442_virus_903.jpeg\n",
            "/content/data_used/PNEUMONIA/person848_virus_1493.jpeg\n",
            "/content/data_used/PNEUMONIA/person327_virus_679.jpeg\n",
            "/content/data_used/PNEUMONIA/person669_bacteria_2562.jpeg\n",
            "/content/data_used/PNEUMONIA/person264_bacteria_1229.jpeg\n",
            "/content/data_used/PNEUMONIA/person585_bacteria_2411.jpeg\n",
            "/content/data_used/PNEUMONIA/person127_bacteria_602.jpeg\n",
            "/content/data_used/PNEUMONIA/person502_virus_1012.jpeg\n",
            "/content/data_used/PNEUMONIA/person544_virus_1076.jpeg\n",
            "/content/data_used/PNEUMONIA/person258_bacteria_1208.jpeg\n",
            "/content/data_used/PNEUMONIA/person1411_virus_2415.jpeg\n",
            "/content/data_used/PNEUMONIA/person371_bacteria_1694.jpeg\n",
            "/content/data_used/PNEUMONIA/person536_bacteria_2260.jpeg\n",
            "/content/data_used/PNEUMONIA/person1241_virus_2106.jpeg\n",
            "/content/data_used/PNEUMONIA/person278_bacteria_1313.jpeg\n",
            "/content/data_used/PNEUMONIA/person381_bacteria_1731.jpeg\n",
            "/content/data_used/PNEUMONIA/person1680_bacteria_4455.jpeg\n",
            "/content/data_used/PNEUMONIA/person1599_virus_2776.jpeg\n",
            "/content/data_used/PNEUMONIA/person268_virus_553.jpeg\n",
            "/content/data_used/PNEUMONIA/person1018_virus_1706.jpeg\n",
            "/content/data_used/PNEUMONIA/person1672_virus_2888.jpeg\n",
            "/content/data_used/PNEUMONIA/person1199_bacteria_3149.jpeg\n",
            "/content/data_used/PNEUMONIA/person2_bacteria_3.jpeg\n",
            "/content/data_used/PNEUMONIA/person276_bacteria_1298.jpeg\n",
            "/content/data_used/PNEUMONIA/person311_bacteria_1453.jpeg\n",
            "/content/data_used/PNEUMONIA/person1903_bacteria_4797.jpeg\n",
            "/content/data_used/PNEUMONIA/person1454_bacteria_3779.jpeg\n",
            "/content/data_used/PNEUMONIA/person1088_virus_1800.jpeg\n",
            "/content/data_used/PNEUMONIA/person37_virus_82.jpeg\n",
            "/content/data_used/PNEUMONIA/person995_virus_1676.jpeg\n",
            "/content/data_used/PNEUMONIA/person276_bacteria_1295.jpeg\n",
            "/content/data_used/PNEUMONIA/person1270_bacteria_3230.jpeg\n",
            "/content/data_used/PNEUMONIA/person500_bacteria_2108.jpeg\n",
            "/content/data_used/PNEUMONIA/person485_virus_988.jpeg\n",
            "/content/data_used/PNEUMONIA/person493_bacteria_2086.jpeg\n",
            "/content/data_used/PNEUMONIA/person1499_bacteria_3915.jpeg\n",
            "/content/data_used/PNEUMONIA/person1042_virus_1737.jpeg\n",
            "/content/data_used/PNEUMONIA/person1248_bacteria_3204.jpeg\n",
            "/content/data_used/PNEUMONIA/person24_bacteria_110.jpeg\n",
            "/content/data_used/PNEUMONIA/person101_bacteria_486.jpeg\n",
            "/content/data_used/PNEUMONIA/person751_bacteria_2654.jpeg\n",
            "/content/data_used/PNEUMONIA/person1563_bacteria_4092.jpeg\n",
            "/content/data_used/PNEUMONIA/person556_bacteria_2326.jpeg\n",
            "/content/data_used/PNEUMONIA/person344_virus_705.jpeg\n",
            "/content/data_used/PNEUMONIA/person895_virus_1547.jpeg\n",
            "/content/data_used/PNEUMONIA/person1571_bacteria_4108.jpeg\n",
            "/content/data_used/PNEUMONIA/person1295_bacteria_3258.jpeg\n",
            "/content/data_used/PNEUMONIA/person1453_virus_2485.jpeg\n",
            "/content/data_used/PNEUMONIA/person1482_bacteria_3874.jpeg\n",
            "/content/data_used/PNEUMONIA/person780_bacteria_2684.jpeg\n",
            "/content/data_used/PNEUMONIA/person61_bacteria_289.jpeg\n",
            "/content/data_used/PNEUMONIA/person119_bacteria_565.jpeg\n",
            "/content/data_used/PNEUMONIA/person1628_bacteria_4298.jpeg\n",
            "/content/data_used/PNEUMONIA/person1528_virus_2662.jpeg\n",
            "/content/data_used/PNEUMONIA/person59_virus_116.jpeg\n",
            "/content/data_used/PNEUMONIA/person1111_bacteria_3052.jpeg\n",
            "/content/data_used/PNEUMONIA/person1156_bacteria_3101.jpeg\n",
            "/content/data_used/PNEUMONIA/person64_bacteria_319.jpeg\n",
            "/content/data_used/PNEUMONIA/person351_bacteria_1622.jpeg\n",
            "/content/data_used/PNEUMONIA/person1701_bacteria_4504.jpeg\n",
            "/content/data_used/PNEUMONIA/person1354_bacteria_3448.jpeg\n",
            "/content/data_used/PNEUMONIA/person437_virus_888.jpeg\n",
            "/content/data_used/PNEUMONIA/person1614_virus_2800.jpeg\n",
            "/content/data_used/PNEUMONIA/person943_bacteria_2868.jpeg\n",
            "/content/data_used/PNEUMONIA/person1157_virus_1937.jpeg\n",
            "/content/data_used/PNEUMONIA/person705_virus_1302.jpeg\n",
            "/content/data_used/PNEUMONIA/person419_virus_857.jpeg\n",
            "/content/data_used/PNEUMONIA/person132_virus_266.jpeg\n",
            "/content/data_used/PNEUMONIA/person277_bacteria_1305.jpeg\n",
            "/content/data_used/PNEUMONIA/person596_bacteria_2444.jpeg\n",
            "/content/data_used/PNEUMONIA/person259_bacteria_1219.jpeg\n",
            "/content/data_used/PNEUMONIA/person1454_bacteria_3778.jpeg\n",
            "/content/data_used/PNEUMONIA/person549_bacteria_2303.jpeg\n",
            "/content/data_used/PNEUMONIA/person1482_virus_2573.jpeg\n",
            "/content/data_used/PNEUMONIA/person1646_bacteria_4368.jpeg\n",
            "/content/data_used/PNEUMONIA/person1381_bacteria_3516.jpeg\n",
            "/content/data_used/PNEUMONIA/person1097_bacteria_3038.jpeg\n",
            "/content/data_used/PNEUMONIA/person101_virus_188.jpeg\n",
            "/content/data_used/PNEUMONIA/person91_bacteria_446.jpeg\n",
            "/content/data_used/PNEUMONIA/person75_bacteria_367.jpeg\n",
            "/content/data_used/PNEUMONIA/person99_virus_183.jpeg\n",
            "/content/data_used/PNEUMONIA/person396_bacteria_1796.jpeg\n",
            "/content/data_used/PNEUMONIA/person1480_virus_2566.jpeg\n",
            "/content/data_used/PNEUMONIA/person1332_virus_2300.jpeg\n",
            "/content/data_used/PNEUMONIA/person81_bacteria_396.jpeg\n",
            "/content/data_used/PNEUMONIA/person83_bacteria_412.jpeg\n",
            "/content/data_used/PNEUMONIA/person1214_bacteria_3166.jpeg\n",
            "/content/data_used/PNEUMONIA/person1771_bacteria_4615.jpeg\n",
            "/content/data_used/PNEUMONIA/person1888_bacteria_4775.jpeg\n",
            "/content/data_used/PNEUMONIA/person385_bacteria_1766.jpeg\n",
            "/content/data_used/PNEUMONIA/person1676_virus_2892.jpeg\n",
            "/content/data_used/PNEUMONIA/person654_bacteria_2546.jpeg\n",
            "/content/data_used/PNEUMONIA/person1668_virus_2882.jpeg\n",
            "/content/data_used/PNEUMONIA/person292_virus_602.jpeg\n",
            "/content/data_used/PNEUMONIA/person1096_virus_1816.jpeg\n",
            "/content/data_used/PNEUMONIA/person30_bacteria_151.jpeg\n",
            "/content/data_used/PNEUMONIA/person1691_bacteria_4481.jpeg\n",
            "/content/data_used/PNEUMONIA/person351_bacteria_1621.jpeg\n",
            "/content/data_used/PNEUMONIA/person1320_virus_2277.jpeg\n",
            "/content/data_used/PNEUMONIA/person19_bacteria_61.jpeg\n",
            "/content/data_used/PNEUMONIA/person1636_bacteria_4337.jpeg\n",
            "/content/data_used/PNEUMONIA/person441_bacteria_1918.jpeg\n",
            "/content/data_used/PNEUMONIA/person1501_virus_2611.jpeg\n",
            "/content/data_used/PNEUMONIA/person257_bacteria_1195.jpeg\n",
            "/content/data_used/PNEUMONIA/person400_virus_794.jpeg\n",
            "/content/data_used/PNEUMONIA/person27_bacteria_137.jpeg\n",
            "/content/data_used/PNEUMONIA/person803_virus_1436.jpeg\n",
            "/content/data_used/PNEUMONIA/person1509_bacteria_3951.jpeg\n",
            "/content/data_used/PNEUMONIA/person489_bacteria_2064.jpeg\n",
            "/content/data_used/PNEUMONIA/person145_virus_295.jpeg\n",
            "/content/data_used/PNEUMONIA/person124_bacteria_591.jpeg\n",
            "/content/data_used/PNEUMONIA/person173_bacteria_829.jpeg\n",
            "/content/data_used/PNEUMONIA/person1395_virus_2398.jpeg\n",
            "/content/data_used/PNEUMONIA/person140_bacteria_667.jpeg\n",
            "/content/data_used/PNEUMONIA/person448_bacteria_1933.jpeg\n",
            "/content/data_used/PNEUMONIA/person319_bacteria_1477.jpeg\n",
            "/content/data_used/PNEUMONIA/person1644_bacteria_4356.jpeg\n",
            "/content/data_used/PNEUMONIA/person1946_bacteria_4874.jpeg\n",
            "/content/data_used/PNEUMONIA/person38_bacteria_195.jpeg\n",
            "/content/data_used/PNEUMONIA/person988_virus_1666.jpeg\n",
            "/content/data_used/PNEUMONIA/person600_bacteria_2457.jpeg\n",
            "/content/data_used/PNEUMONIA/person530_virus_1052.jpeg\n",
            "/content/data_used/PNEUMONIA/person1470_bacteria_3829.jpeg\n",
            "/content/data_used/PNEUMONIA/person878_bacteria_2801.jpeg\n",
            "/content/data_used/PNEUMONIA/person1058_bacteria_2992.jpeg\n",
            "/content/data_used/PNEUMONIA/person1412_bacteria_3612.jpeg\n",
            "/content/data_used/PNEUMONIA/person1644_bacteria_4362.jpeg\n",
            "/content/data_used/PNEUMONIA/person1525_virus_2659.jpeg\n",
            "/content/data_used/PNEUMONIA/person1352_bacteria_3445.jpeg\n",
            "/content/data_used/PNEUMONIA/person1381_bacteria_3517.jpeg\n",
            "/content/data_used/PNEUMONIA/person1597_bacteria_4187.jpeg\n",
            "/content/data_used/PNEUMONIA/person1239_bacteria_3195.jpeg\n",
            "/content/data_used/PNEUMONIA/person880_bacteria_2804.jpeg\n",
            "/content/data_used/PNEUMONIA/person64_virus_122.jpeg\n",
            "/content/data_used/PNEUMONIA/person23_bacteria_100.jpeg\n",
            "/content/data_used/PNEUMONIA/person585_virus_1129.jpeg\n",
            "/content/data_used/PNEUMONIA/person477_bacteria_2030.jpeg\n",
            "/content/data_used/PNEUMONIA/person1473_virus_2551.jpeg\n",
            "/content/data_used/PNEUMONIA/person593_bacteria_2435.jpeg\n",
            "/content/data_used/PNEUMONIA/person9_bacteria_39.jpeg\n",
            "/content/data_used/PNEUMONIA/person548_bacteria_2301.jpeg\n",
            "/content/data_used/PNEUMONIA/person475_bacteria_2023.jpeg\n",
            "/content/data_used/PNEUMONIA/person1432_bacteria_3699.jpeg\n",
            "/content/data_used/PNEUMONIA/person1499_virus_2609.jpeg\n",
            "/content/data_used/PNEUMONIA/person549_virus_1089.jpeg\n",
            "/content/data_used/PNEUMONIA/person761_bacteria_2665.jpeg\n",
            "/content/data_used/PNEUMONIA/person1481_bacteria_3864.jpeg\n",
            "/content/data_used/PNEUMONIA/person172_bacteria_827.jpeg\n",
            "/content/data_used/PNEUMONIA/person459_bacteria_1957.jpeg\n",
            "/content/data_used/PNEUMONIA/person702_virus_1299.jpeg\n",
            "/content/data_used/PNEUMONIA/person1349_bacteria_3439.jpeg\n",
            "/content/data_used/PNEUMONIA/person1716_bacteria_4533.jpeg\n",
            "/content/data_used/PNEUMONIA/person24_virus_58.jpeg\n",
            "/content/data_used/PNEUMONIA/person1530_bacteria_4000.jpeg\n",
            "/content/data_used/PNEUMONIA/person1129_bacteria_3070.jpeg\n",
            "/content/data_used/PNEUMONIA/person389_virus_778.jpeg\n",
            "/content/data_used/PNEUMONIA/person1048_virus_1744.jpeg\n",
            "/content/data_used/PNEUMONIA/person3_bacteria_10.jpeg\n",
            "/content/data_used/PNEUMONIA/person1679_bacteria_4449.jpeg\n",
            "/content/data_used/PNEUMONIA/person159_bacteria_746.jpeg\n",
            "/content/data_used/PNEUMONIA/person1320_bacteria_3342.jpeg\n",
            "/content/data_used/PNEUMONIA/person1731_bacteria_4563.jpeg\n",
            "/content/data_used/PNEUMONIA/person515_bacteria_2190.jpeg\n",
            "/content/data_used/PNEUMONIA/person125_virus_254.jpeg\n",
            "/content/data_used/PNEUMONIA/person548_bacteria_2298.jpeg\n",
            "/content/data_used/PNEUMONIA/person1377_virus_2369.jpeg\n",
            "/content/data_used/PNEUMONIA/person1668_bacteria_4421.jpeg\n",
            "/content/data_used/PNEUMONIA/person687_bacteria_2583.jpeg\n",
            "/content/data_used/PNEUMONIA/person495_virus_1001.jpeg\n",
            "/content/data_used/PNEUMONIA/person743_bacteria_2646.jpeg\n",
            "/content/data_used/PNEUMONIA/person1663_bacteria_4412.jpeg\n",
            "/content/data_used/PNEUMONIA/person512_bacteria_2154.jpeg\n",
            "/content/data_used/PNEUMONIA/person75_virus_136.jpeg\n",
            "/content/data_used/PNEUMONIA/person1620_bacteria_4272.jpeg\n",
            "/content/data_used/PNEUMONIA/person66_bacteria_326.jpeg\n",
            "/content/data_used/PNEUMONIA/person1145_virus_1905.jpeg\n",
            "/content/data_used/PNEUMONIA/person779_virus_1410.jpeg\n",
            "/content/data_used/PNEUMONIA/person1496_bacteria_3909.jpeg\n",
            "/content/data_used/PNEUMONIA/person337_bacteria_1566.jpeg\n",
            "/content/data_used/PNEUMONIA/person510_bacteria_2148.jpeg\n",
            "/content/data_used/PNEUMONIA/person563_bacteria_2339.jpeg\n",
            "/content/data_used/PNEUMONIA/person330_virus_683.jpeg\n",
            "/content/data_used/PNEUMONIA/person1108_virus_1833.jpeg\n",
            "/content/data_used/PNEUMONIA/person409_bacteria_1824.jpeg\n",
            "/content/data_used/PNEUMONIA/person1179_bacteria_3127.jpeg\n",
            "/content/data_used/PNEUMONIA/person270_virus_555.jpeg\n",
            "/content/data_used/PNEUMONIA/person133_bacteria_634.jpeg\n",
            "/content/data_used/PNEUMONIA/person1015_virus_1702.jpeg\n",
            "/content/data_used/PNEUMONIA/person20_bacteria_66.jpeg\n",
            "/content/data_used/PNEUMONIA/person1576_bacteria_4121.jpeg\n",
            "/content/data_used/PNEUMONIA/person764_virus_1392.jpeg\n",
            "/content/data_used/PNEUMONIA/person1312_bacteria_3318.jpeg\n",
            "/content/data_used/PNEUMONIA/person487_bacteria_2060.jpeg\n",
            "/content/data_used/PNEUMONIA/person97_virus_181.jpeg\n",
            "/content/data_used/PNEUMONIA/person292_bacteria_1378.jpeg\n",
            "/content/data_used/PNEUMONIA/person849_bacteria_2770.jpeg\n",
            "/content/data_used/PNEUMONIA/person279_virus_576.jpeg\n",
            "/content/data_used/PNEUMONIA/person1321_bacteria_3358.jpeg\n",
            "/content/data_used/PNEUMONIA/person55_bacteria_264.jpeg\n",
            "/content/data_used/PNEUMONIA/person512_bacteria_2155.jpeg\n",
            "/content/data_used/PNEUMONIA/person3_virus_16.jpeg\n",
            "/content/data_used/PNEUMONIA/person266_bacteria_1240.jpeg\n",
            "/content/data_used/PNEUMONIA/person1719_bacteria_4542.jpeg\n",
            "/content/data_used/PNEUMONIA/person1602_virus_2780.jpeg\n",
            "/content/data_used/PNEUMONIA/person31_bacteria_161.jpeg\n",
            "/content/data_used/PNEUMONIA/person265_bacteria_1236.jpeg\n",
            "/content/data_used/PNEUMONIA/person929_bacteria_2854.jpeg\n",
            "/content/data_used/PNEUMONIA/person43_virus_92.jpeg\n",
            "/content/data_used/PNEUMONIA/person49_virus_101.jpeg\n",
            "/content/data_used/PNEUMONIA/person1656_virus_2862.jpeg\n",
            "/content/data_used/PNEUMONIA/person1216_bacteria_3168.jpeg\n",
            "/content/data_used/PNEUMONIA/person414_virus_845.jpeg\n",
            "/content/data_used/PNEUMONIA/person1474_virus_2557.jpeg\n",
            "/content/data_used/PNEUMONIA/person508_bacteria_2143.jpeg\n",
            "/content/data_used/PNEUMONIA/person1294_bacteria_3257.jpeg\n",
            "/content/data_used/PNEUMONIA/person938_virus_1600.jpeg\n",
            "/content/data_used/PNEUMONIA/person1158_virus_1941.jpeg\n",
            "/content/data_used/PNEUMONIA/person629_bacteria_2506.jpeg\n",
            "/content/data_used/PNEUMONIA/person874_bacteria_2797.jpeg\n",
            "/content/data_used/PNEUMONIA/person1179_virus_2006.jpeg\n",
            "/content/data_used/PNEUMONIA/person721_bacteria_2623.jpeg\n",
            "/content/data_used/PNEUMONIA/person1557_bacteria_4065.jpeg\n",
            "/content/data_used/PNEUMONIA/person296_bacteria_1395.jpeg\n",
            "/content/data_used/PNEUMONIA/person162_virus_321.jpeg\n",
            "/content/data_used/PNEUMONIA/person354_virus_729.jpeg\n",
            "/content/data_used/PNEUMONIA/person310_bacteria_1451.jpeg\n",
            "/content/data_used/PNEUMONIA/person23_bacteria_94.jpeg\n",
            "/content/data_used/PNEUMONIA/person901_virus_1555.jpeg\n",
            "/content/data_used/PNEUMONIA/person1176_bacteria_3123.jpeg\n",
            "/content/data_used/PNEUMONIA/person1363_virus_2346.jpeg\n",
            "/content/data_used/PNEUMONIA/person1180_virus_2008.jpeg\n",
            "/content/data_used/PNEUMONIA/person398_bacteria_1801.jpeg\n",
            "/content/data_used/PNEUMONIA/person23_bacteria_85.jpeg\n",
            "/content/data_used/PNEUMONIA/person1507_bacteria_3944.jpeg\n",
            "/content/data_used/PNEUMONIA/person1242_virus_2109.jpeg\n",
            "/content/data_used/PNEUMONIA/person121_bacteria_580.jpeg\n",
            "/content/data_used/PNEUMONIA/person1385_bacteria_3524.jpeg\n",
            "/content/data_used/PNEUMONIA/person535_bacteria_2256.jpeg\n",
            "/content/data_used/PNEUMONIA/person1242_bacteria_3198.jpeg\n",
            "/content/data_used/PNEUMONIA/person429_virus_877.jpeg\n",
            "/content/data_used/PNEUMONIA/person690_bacteria_2587.jpeg\n",
            "/content/data_used/PNEUMONIA/person1620_virus_2807.jpeg\n",
            "/content/data_used/PNEUMONIA/person611_bacteria_2476.jpeg\n",
            "/content/data_used/PNEUMONIA/person537_bacteria_2262.jpeg\n",
            "/content/data_used/PNEUMONIA/person1790_bacteria_4638.jpeg\n",
            "/content/data_used/PNEUMONIA/person1539_bacteria_4022.jpeg\n",
            "/content/data_used/PNEUMONIA/person110_bacteria_531.jpeg\n",
            "/content/data_used/PNEUMONIA/person598_virus_1154.jpeg\n",
            "/content/data_used/PNEUMONIA/person884_virus_1534.jpeg\n",
            "/content/data_used/PNEUMONIA/person1119_virus_1844.jpeg\n",
            "/content/data_used/PNEUMONIA/person1185_bacteria_3133.jpeg\n",
            "/content/data_used/PNEUMONIA/person1535_bacteria_4016.jpeg\n",
            "/content/data_used/PNEUMONIA/person299_bacteria_1419.jpeg\n",
            "/content/data_used/PNEUMONIA/person912_bacteria_2837.jpeg\n",
            "/content/data_used/PNEUMONIA/person945_bacteria_2870.jpeg\n",
            "/content/data_used/PNEUMONIA/person274_bacteria_1288.jpeg\n",
            "/content/data_used/PNEUMONIA/person267_bacteria_1253.jpeg\n",
            "/content/data_used/PNEUMONIA/person71_bacteria_350.jpeg\n",
            "/content/data_used/PNEUMONIA/person1181_bacteria_3129.jpeg\n",
            "/content/data_used/PNEUMONIA/person1488_virus_2589.jpeg\n",
            "/content/data_used/PNEUMONIA/person1628_bacteria_4295.jpeg\n",
            "/content/data_used/PNEUMONIA/person1417_bacteria_3635.jpeg\n",
            "/content/data_used/PNEUMONIA/person319_bacteria_1480.jpeg\n",
            "/content/data_used/PNEUMONIA/person383_bacteria_1753.jpeg\n",
            "/content/data_used/PNEUMONIA/person1000_virus_1681.jpeg\n",
            "/content/data_used/PNEUMONIA/person1223_virus_2073.jpeg\n",
            "/content/data_used/PNEUMONIA/person355_bacteria_1637.jpeg\n",
            "/content/data_used/PNEUMONIA/person434_bacteria_1877.jpeg\n",
            "/content/data_used/PNEUMONIA/person336_bacteria_1552.jpeg\n",
            "/content/data_used/PNEUMONIA/person1359_virus_2340.jpeg\n",
            "/content/data_used/PNEUMONIA/person990_bacteria_2917.jpeg\n",
            "/content/data_used/PNEUMONIA/person300_bacteria_1423.jpeg\n",
            "/content/data_used/PNEUMONIA/person494_bacteria_2088.jpeg\n",
            "/content/data_used/PNEUMONIA/person1308_virus_2253.jpeg\n",
            "/content/data_used/PNEUMONIA/person458_bacteria_1954.jpeg\n",
            "/content/data_used/PNEUMONIA/person1010_virus_1695.jpeg\n",
            "/content/data_used/PNEUMONIA/person1211_bacteria_3163.jpeg\n",
            "/content/data_used/PNEUMONIA/person699_virus_1295.jpeg\n",
            "/content/data_used/PNEUMONIA/person12_bacteria_46.jpeg\n",
            "/content/data_used/PNEUMONIA/person1074_bacteria_3012.jpeg\n",
            "/content/data_used/PNEUMONIA/person1341_virus_2313.jpeg\n",
            "/content/data_used/PNEUMONIA/person1230_bacteria_3185.jpeg\n",
            "/content/data_used/PNEUMONIA/person371_bacteria_1699.jpeg\n",
            "/content/data_used/PNEUMONIA/person1187_bacteria_3136.jpeg\n",
            "/content/data_used/PNEUMONIA/person155_bacteria_731.jpeg\n",
            "/content/data_used/PNEUMONIA/person1091_virus_1810.jpeg\n",
            "/content/data_used/PNEUMONIA/person1598_bacteria_4198.jpeg\n",
            "/content/data_used/PNEUMONIA/person82_bacteria_402.jpeg\n",
            "/content/data_used/PNEUMONIA/person1231_bacteria_3186.jpeg\n",
            "/content/data_used/PNEUMONIA/person471_bacteria_2004.jpeg\n",
            "/content/data_used/PNEUMONIA/person1005_virus_1688.jpeg\n",
            "/content/data_used/PNEUMONIA/person595_virus_1147.jpeg\n",
            "/content/data_used/PNEUMONIA/person363_bacteria_1653.jpeg\n",
            "/content/data_used/PNEUMONIA/person1_bacteria_1.jpeg\n",
            "/content/data_used/PNEUMONIA/person518_bacteria_2200.jpeg\n",
            "/content/data_used/PNEUMONIA/person1203_bacteria_3154.jpeg\n",
            "/content/data_used/PNEUMONIA/person586_bacteria_2418.jpeg\n",
            "/content/data_used/PNEUMONIA/person1313_virus_2264.jpeg\n",
            "/content/data_used/PNEUMONIA/person309_virus_632.jpeg\n",
            "/content/data_used/PNEUMONIA/person482_bacteria_2043.jpeg\n",
            "/content/data_used/PNEUMONIA/person83_bacteria_407.jpeg\n",
            "/content/data_used/PNEUMONIA/person124_bacteria_589.jpeg\n",
            "/content/data_used/PNEUMONIA/person785_bacteria_2689.jpeg\n",
            "/content/data_used/PNEUMONIA/person1020_bacteria_2951.jpeg\n",
            "/content/data_used/PNEUMONIA/person561_bacteria_2331.jpeg\n",
            "/content/data_used/PNEUMONIA/person400_bacteria_1807.jpeg\n",
            "/content/data_used/PNEUMONIA/person552_virus_1092.jpeg\n",
            "/content/data_used/PNEUMONIA/person8_bacteria_37.jpeg\n",
            "/content/data_used/PNEUMONIA/person1107_virus_1832.jpeg\n",
            "/content/data_used/PNEUMONIA/person621_virus_1194.jpeg\n",
            "/content/data_used/PNEUMONIA/person475_bacteria_2024.jpeg\n",
            "/content/data_used/PNEUMONIA/person1436_bacteria_3712.jpeg\n",
            "/content/data_used/PNEUMONIA/person64_bacteria_316.jpeg\n",
            "/content/data_used/PNEUMONIA/person462_bacteria_1967.jpeg\n",
            "/content/data_used/PNEUMONIA/person1562_bacteria_4078.jpeg\n",
            "/content/data_used/PNEUMONIA/person616_virus_1186.jpeg\n",
            "/content/data_used/PNEUMONIA/person313_bacteria_1457.jpeg\n",
            "/content/data_used/PNEUMONIA/person25_bacteria_121.jpeg\n",
            "/content/data_used/PNEUMONIA/person103_bacteria_489.jpeg\n",
            "/content/data_used/PNEUMONIA/person1393_virus_2396.jpeg\n",
            "/content/data_used/PNEUMONIA/person1709_bacteria_4522.jpeg\n",
            "/content/data_used/PNEUMONIA/person458_bacteria_1950.jpeg\n",
            "/content/data_used/PNEUMONIA/person1343_virus_2316.jpeg\n",
            "/content/data_used/PNEUMONIA/person605_bacteria_2467.jpeg\n",
            "/content/data_used/PNEUMONIA/person735_virus_1356.jpeg\n",
            "/content/data_used/PNEUMONIA/person26_bacteria_130.jpeg\n",
            "/content/data_used/PNEUMONIA/person1784_bacteria_4631.jpeg\n",
            "/content/data_used/PNEUMONIA/person19_virus_50.jpeg\n",
            "/content/data_used/PNEUMONIA/person569_virus_1110.jpeg\n",
            "/content/data_used/PNEUMONIA/person1473_virus_2553.jpeg\n",
            "/content/data_used/PNEUMONIA/person1423_bacteria_3650.jpeg\n",
            "/content/data_used/PNEUMONIA/person1595_virus_2771.jpeg\n",
            "/content/data_used/PNEUMONIA/person481_virus_983.jpeg\n",
            "/content/data_used/PNEUMONIA/person475_bacteria_2025.jpeg\n",
            "/content/data_used/PNEUMONIA/person1507_bacteria_3948.jpeg\n",
            "/content/data_used/PNEUMONIA/person1787_bacteria_4634.jpeg\n",
            "/content/data_used/PNEUMONIA/person629_bacteria_2509.jpeg\n",
            "/content/data_used/PNEUMONIA/person921_bacteria_2846.jpeg\n",
            "/content/data_used/PNEUMONIA/person1527_virus_2661.jpeg\n",
            "/content/data_used/PNEUMONIA/person629_bacteria_2507.jpeg\n",
            "/content/data_used/PNEUMONIA/person71_bacteria_351.jpeg\n",
            "/content/data_used/PNEUMONIA/person333_virus_688.jpeg\n",
            "/content/data_used/PNEUMONIA/person258_bacteria_1205.jpeg\n",
            "/content/data_used/PNEUMONIA/person659_bacteria_2551.jpeg\n",
            "/content/data_used/PNEUMONIA/person314_bacteria_1461.jpeg\n",
            "/content/data_used/PNEUMONIA/person1462_virus_2512.jpeg\n",
            "/content/data_used/PNEUMONIA/person263_bacteria_1227.jpeg\n",
            "/content/data_used/PNEUMONIA/person956_bacteria_2881.jpeg\n",
            "/content/data_used/PNEUMONIA/person110_virus_207.jpeg\n",
            "/content/data_used/PNEUMONIA/person1433_virus_2447.jpeg\n",
            "/content/data_used/PNEUMONIA/person101_bacteria_483.jpeg\n",
            "/content/data_used/PNEUMONIA/person124_virus_231.jpeg\n",
            "/content/data_used/PNEUMONIA/person663_virus_1248.jpeg\n",
            "/content/data_used/PNEUMONIA/person1040_bacteria_2974.jpeg\n",
            "/content/data_used/PNEUMONIA/person1669_virus_2884.jpeg\n",
            "/content/data_used/PNEUMONIA/person82_bacteria_404.jpeg\n",
            "/content/data_used/PNEUMONIA/person321_bacteria_1484.jpeg\n",
            "/content/data_used/PNEUMONIA/person1493_bacteria_3898.jpeg\n",
            "/content/data_used/PNEUMONIA/person983_virus_1660.jpeg\n",
            "/content/data_used/PNEUMONIA/person274_bacteria_1290.jpeg\n",
            "/content/data_used/PNEUMONIA/person797_virus_1429.jpeg\n",
            "/content/data_used/PNEUMONIA/person133_bacteria_633.jpeg\n",
            "/content/data_used/PNEUMONIA/person440_bacteria_1897.jpeg\n",
            "/content/data_used/PNEUMONIA/person507_virus_1019.jpeg\n",
            "/content/data_used/PNEUMONIA/person38_bacteria_194.jpeg\n",
            "/content/data_used/PNEUMONIA/person1345_bacteria_3427.jpeg\n",
            "/content/data_used/PNEUMONIA/person863_virus_1508.jpeg\n",
            "/content/data_used/PNEUMONIA/person73_bacteria_358.jpeg\n",
            "/content/data_used/PNEUMONIA/person414_bacteria_1835.jpeg\n",
            "/content/data_used/PNEUMONIA/person1484_virus_2576.jpeg\n",
            "/content/data_used/PNEUMONIA/person491_bacteria_2075.jpeg\n",
            "/content/data_used/PNEUMONIA/person62_bacteria_298.jpeg\n",
            "/content/data_used/PNEUMONIA/person488_bacteria_2061.jpeg\n",
            "/content/data_used/PNEUMONIA/person26_bacteria_123.jpeg\n",
            "/content/data_used/PNEUMONIA/person9_bacteria_40.jpeg\n",
            "/content/data_used/PNEUMONIA/person288_virus_587.jpeg\n",
            "/content/data_used/PNEUMONIA/person1625_virus_2817.jpeg\n",
            "/content/data_used/PNEUMONIA/person258_bacteria_1216.jpeg\n",
            "/content/data_used/PNEUMONIA/person1929_bacteria_4839.jpeg\n",
            "/content/data_used/PNEUMONIA/person27_bacteria_136.jpeg\n",
            "/content/data_used/PNEUMONIA/person1383_virus_2377.jpeg\n",
            "/content/data_used/PNEUMONIA/person445_bacteria_1930.jpeg\n",
            "/content/data_used/PNEUMONIA/person1665_virus_2878.jpeg\n",
            "/content/data_used/PNEUMONIA/person364_virus_743.jpeg\n",
            "/content/data_used/PNEUMONIA/person89_virus_168.jpeg\n",
            "/content/data_used/PNEUMONIA/person126_virus_255.jpeg\n",
            "/content/data_used/PNEUMONIA/person110_virus_206.jpeg\n",
            "/content/data_used/PNEUMONIA/person387_bacteria_1769.jpeg\n",
            "/content/data_used/PNEUMONIA/person25_bacteria_116.jpeg\n",
            "/content/data_used/PNEUMONIA/person1077_bacteria_3017.jpeg\n",
            "/content/data_used/PNEUMONIA/person475_bacteria_2021.jpeg\n",
            "/content/data_used/PNEUMONIA/person921_virus_1578.jpeg\n",
            "/content/data_used/PNEUMONIA/person114_bacteria_545.jpeg\n",
            "/content/data_used/PNEUMONIA/person1596_bacteria_4184.jpeg\n",
            "/content/data_used/PNEUMONIA/person566_bacteria_2351.jpeg\n",
            "/content/data_used/PNEUMONIA/person70_virus_130.jpeg\n",
            "/content/data_used/PNEUMONIA/person1907_bacteria_4806.jpeg\n",
            "/content/data_used/PNEUMONIA/person892_bacteria_2817.jpeg\n",
            "/content/data_used/PNEUMONIA/person1238_bacteria_3194.jpeg\n",
            "/content/data_used/PNEUMONIA/person600_bacteria_2458.jpeg\n",
            "/content/data_used/PNEUMONIA/person38_bacteria_192.jpeg\n",
            "/content/data_used/PNEUMONIA/person338_bacteria_1567.jpeg\n",
            "/content/data_used/PNEUMONIA/person576_bacteria_2376.jpeg\n",
            "/content/data_used/PNEUMONIA/person30_bacteria_149.jpeg\n",
            "/content/data_used/PNEUMONIA/person749_virus_1374.jpeg\n",
            "/content/data_used/PNEUMONIA/person900_virus_1554.jpeg\n",
            "/content/data_used/PNEUMONIA/person26_virus_60.jpeg\n",
            "/content/data_used/PNEUMONIA/person30_bacteria_147.jpeg\n",
            "/content/data_used/PNEUMONIA/person1770_bacteria_4614.jpeg\n",
            "/content/data_used/PNEUMONIA/person1872_bacteria_4751.jpeg\n",
            "/content/data_used/PNEUMONIA/person364_bacteria_1658.jpeg\n",
            "/content/data_used/PNEUMONIA/person87_virus_160.jpeg\n",
            "/content/data_used/PNEUMONIA/person599_bacteria_2455.jpeg\n",
            "/content/data_used/PNEUMONIA/person60_bacteria_285.jpeg\n",
            "/content/data_used/PNEUMONIA/person301_virus_622.jpeg\n",
            "/content/data_used/PNEUMONIA/person618_bacteria_2489.jpeg\n",
            "/content/data_used/PNEUMONIA/person371_bacteria_1696.jpeg\n",
            "/content/data_used/PNEUMONIA/person1310_bacteria_3300.jpeg\n",
            "/content/data_used/PNEUMONIA/person1433_bacteria_3705.jpeg\n",
            "/content/data_used/PNEUMONIA/person1670_bacteria_4427.jpeg\n",
            "/content/data_used/PNEUMONIA/person367_virus_747.jpeg\n",
            "/content/data_used/PNEUMONIA/person572_bacteria_2368.jpeg\n",
            "/content/data_used/PNEUMONIA/person564_bacteria_2345.jpeg\n",
            "/content/data_used/PNEUMONIA/person23_bacteria_89.jpeg\n",
            "/content/data_used/PNEUMONIA/person1478_bacteria_3848.jpeg\n",
            "/content/data_used/PNEUMONIA/person139_bacteria_661.jpeg\n",
            "/content/data_used/PNEUMONIA/person1590_bacteria_4175.jpeg\n",
            "/content/data_used/PNEUMONIA/person36_bacteria_184.jpeg\n",
            "/content/data_used/PNEUMONIA/person66_bacteria_324.jpeg\n",
            "/content/data_used/PNEUMONIA/person40_bacteria_205.jpeg\n",
            "/content/data_used/PNEUMONIA/person1046_virus_1742.jpeg\n",
            "/content/data_used/PNEUMONIA/person291_virus_596.jpeg\n",
            "/content/data_used/PNEUMONIA/person40_bacteria_203.jpeg\n",
            "/content/data_used/PNEUMONIA/person904_bacteria_2829.jpeg\n",
            "/content/data_used/PNEUMONIA/person477_bacteria_2028.jpeg\n",
            "/content/data_used/PNEUMONIA/person589_bacteria_2425.jpeg\n",
            "/content/data_used/PNEUMONIA/person880_virus_1529.jpeg\n",
            "/content/data_used/PNEUMONIA/person763_bacteria_2667.jpeg\n",
            "/content/data_used/PNEUMONIA/person886_bacteria_2810.jpeg\n",
            "/content/data_used/PNEUMONIA/person100_bacteria_480.jpeg\n",
            "/content/data_used/PNEUMONIA/person712_virus_1310.jpeg\n",
            "/content/data_used/PNEUMONIA/person331_virus_684.jpeg\n",
            "/content/data_used/PNEUMONIA/person63_bacteria_306.jpeg\n",
            "/content/data_used/PNEUMONIA/person616_bacteria_2487.jpeg\n",
            "/content/data_used/PNEUMONIA/person573_virus_1116.jpeg\n",
            "/content/data_used/PNEUMONIA/person26_bacteria_133.jpeg\n",
            "/content/data_used/PNEUMONIA/person401_virus_797.jpeg\n",
            "/content/data_used/PNEUMONIA/person1638_bacteria_4340.jpeg\n",
            "/content/data_used/PNEUMONIA/person1881_bacteria_4767.jpeg\n",
            "/content/data_used/PNEUMONIA/person1590_virus_2764.jpeg\n",
            "/content/data_used/PNEUMONIA/person1652_bacteria_4383.jpeg\n",
            "/content/data_used/PNEUMONIA/person1893_bacteria_4781.jpeg\n",
            "/content/data_used/PNEUMONIA/person1627_virus_2819.jpeg\n",
            "/content/data_used/PNEUMONIA/person427_bacteria_1866.jpeg\n",
            "/content/data_used/PNEUMONIA/person1286_bacteria_3249.jpeg\n",
            "/content/data_used/PNEUMONIA/person320_virus_647.jpeg\n",
            "/content/data_used/PNEUMONIA/person1430_bacteria_3693.jpeg\n",
            "/content/data_used/PNEUMONIA/person253_bacteria_1157.jpeg\n",
            "/content/data_used/PNEUMONIA/person1463_bacteria_3811.jpeg\n",
            "/content/data_used/PNEUMONIA/person888_bacteria_2812.jpeg\n",
            "/content/data_used/PNEUMONIA/person1764_bacteria_4607.jpeg\n",
            "/content/data_used/PNEUMONIA/person1536_bacteria_4018.jpeg\n",
            "/content/data_used/PNEUMONIA/person258_bacteria_1209.jpeg\n",
            "/content/data_used/PNEUMONIA/person450_bacteria_1941.jpeg\n",
            "/content/data_used/PNEUMONIA/person1180_virus_2011.jpeg\n",
            "/content/data_used/PNEUMONIA/person1848_bacteria_4719.jpeg\n",
            "/content/data_used/PNEUMONIA/person61_bacteria_294.jpeg\n",
            "/content/data_used/PNEUMONIA/person427_bacteria_1864.jpeg\n",
            "/content/data_used/PNEUMONIA/person1453_bacteria_3772.jpeg\n",
            "/content/data_used/PNEUMONIA/person873_bacteria_2796.jpeg\n",
            "/content/data_used/PNEUMONIA/person33_bacteria_174.jpeg\n",
            "/content/data_used/PNEUMONIA/person306_virus_628.jpeg\n",
            "/content/data_used/PNEUMONIA/person1566_bacteria_4099.jpeg\n",
            "/content/data_used/PNEUMONIA/person408_bacteria_1823.jpeg\n",
            "/content/data_used/PNEUMONIA/person841_bacteria_2761.jpeg\n",
            "/content/data_used/PNEUMONIA/person1361_bacteria_3476.jpeg\n",
            "/content/data_used/PNEUMONIA/person1374_virus_2365.jpeg\n",
            "/content/data_used/PNEUMONIA/person308_virus_630.jpeg\n",
            "/content/data_used/PNEUMONIA/person30_bacteria_154.jpeg\n",
            "/content/data_used/PNEUMONIA/person124_virus_249.jpeg\n",
            "/content/data_used/PNEUMONIA/person745_bacteria_2648.jpeg\n",
            "/content/data_used/PNEUMONIA/person815_bacteria_2726.jpeg\n",
            "/content/data_used/PNEUMONIA/person1582_bacteria_4140.jpeg\n",
            "/content/data_used/PNEUMONIA/person1911_bacteria_4815.jpeg\n",
            "/content/data_used/PNEUMONIA/person136_bacteria_652.jpeg\n",
            "/content/data_used/PNEUMONIA/person1458_virus_2501.jpeg\n",
            "/content/data_used/PNEUMONIA/person1164_virus_1956.jpeg\n",
            "/content/data_used/PNEUMONIA/person706_virus_1304.jpeg\n",
            "/content/data_used/PNEUMONIA/person124_virus_238.jpeg\n",
            "/content/data_used/PNEUMONIA/person541_virus_1071.jpeg\n",
            "/content/data_used/PNEUMONIA/person1413_bacteria_3620.jpeg\n",
            "/content/data_used/PNEUMONIA/person894_bacteria_2819.jpeg\n",
            "/content/data_used/PNEUMONIA/person1081_virus_1793.jpeg\n",
            "/content/data_used/PNEUMONIA/person49_bacteria_237.jpeg\n",
            "/content/data_used/PNEUMONIA/person1471_virus_2549.jpeg\n",
            "/content/data_used/PNEUMONIA/person278_virus_572.jpeg\n",
            "/content/data_used/PNEUMONIA/person67_bacteria_332.jpeg\n",
            "/content/data_used/PNEUMONIA/person94_virus_176.jpeg\n",
            "/content/data_used/PNEUMONIA/person51_bacteria_243.jpeg\n",
            "/content/data_used/PNEUMONIA/person368_virus_748.jpeg\n",
            "/content/data_used/PNEUMONIA/person648_virus_1230.jpeg\n",
            "/content/data_used/PNEUMONIA/person1217_bacteria_3169.jpeg\n",
            "/content/data_used/PNEUMONIA/person317_bacteria_1471.jpeg\n",
            "/content/data_used/PNEUMONIA/person543_bacteria_2284.jpeg\n",
            "/content/data_used/PNEUMONIA/person701_virus_1297.jpeg\n",
            "/content/data_used/PNEUMONIA/person647_virus_1229.jpeg\n",
            "/content/data_used/PNEUMONIA/person331_bacteria_1528.jpeg\n",
            "/content/data_used/PNEUMONIA/person1679_bacteria_4450.jpeg\n",
            "/content/data_used/PNEUMONIA/person91_bacteria_449.jpeg\n",
            "/content/data_used/PNEUMONIA/person888_virus_1538.jpeg\n",
            "/content/data_used/PNEUMONIA/person1272_virus_2190.jpeg\n",
            "/content/data_used/PNEUMONIA/person437_bacteria_1887.jpeg\n",
            "/content/data_used/PNEUMONIA/person82_bacteria_405.jpeg\n",
            "/content/data_used/PNEUMONIA/person1635_bacteria_4335.jpeg\n",
            "/content/data_used/PNEUMONIA/person502_virus_1011.jpeg\n",
            "/content/data_used/PNEUMONIA/person1152_virus_1930.jpeg\n",
            "/content/data_used/PNEUMONIA/person1839_bacteria_4705.jpeg\n",
            "/content/data_used/PNEUMONIA/person583_bacteria_2409.jpeg\n",
            "/content/data_used/PNEUMONIA/person1391_bacteria_3536.jpeg\n",
            "/content/data_used/PNEUMONIA/person365_virus_745.jpeg\n",
            "/content/data_used/PNEUMONIA/person76_bacteria_370.jpeg\n",
            "/content/data_used/PNEUMONIA/person563_bacteria_2335.jpeg\n",
            "/content/data_used/PNEUMONIA/person630_virus_1209.jpeg\n",
            "/content/data_used/PNEUMONIA/person107_virus_197.jpeg\n",
            "/content/data_used/PNEUMONIA/person1312_bacteria_3313.jpeg\n",
            "/content/data_used/PNEUMONIA/person811_bacteria_2721.jpeg\n",
            "/content/data_used/PNEUMONIA/person1026_virus_1718.jpeg\n",
            "/content/data_used/PNEUMONIA/person1339_bacteria_3399.jpeg\n",
            "/content/data_used/PNEUMONIA/person132_bacteria_632.jpeg\n",
            "/content/data_used/PNEUMONIA/person38_bacteria_191.jpeg\n",
            "/content/data_used/PNEUMONIA/person147_bacteria_711.jpeg\n",
            "/content/data_used/PNEUMONIA/person255_bacteria_1188.jpeg\n",
            "/content/data_used/PNEUMONIA/person292_virus_600.jpeg\n",
            "/content/data_used/PNEUMONIA/person1324_virus_2284.jpeg\n",
            "/content/data_used/PNEUMONIA/person1927_bacteria_4837.jpeg\n",
            "/content/data_used/PNEUMONIA/person739_bacteria_2642.jpeg\n",
            "/content/data_used/PNEUMONIA/person1561_bacteria_4077.jpeg\n",
            "/content/data_used/PNEUMONIA/person1100_virus_1820.jpeg\n",
            "/content/data_used/PNEUMONIA/person1222_virus_2071.jpeg\n",
            "/content/data_used/PNEUMONIA/person383_bacteria_1748.jpeg\n",
            "/content/data_used/PNEUMONIA/person301_bacteria_1427.jpeg\n",
            "/content/data_used/PNEUMONIA/person360_virus_739.jpeg\n",
            "/content/data_used/PNEUMONIA/person78_bacteria_380.jpeg\n",
            "/content/data_used/PNEUMONIA/person630_bacteria_2513.jpeg\n",
            "/content/data_used/PNEUMONIA/person853_bacteria_2774.jpeg\n",
            "/content/data_used/PNEUMONIA/person59_bacteria_281.jpeg\n",
            "/content/data_used/PNEUMONIA/person1028_bacteria_2960.jpeg\n",
            "/content/data_used/PNEUMONIA/person1308_bacteria_3288.jpeg\n",
            "/content/data_used/PNEUMONIA/person506_bacteria_2138.jpeg\n",
            "/content/data_used/PNEUMONIA/person367_bacteria_1665.jpeg\n",
            "/content/data_used/PNEUMONIA/person753_virus_1378.jpeg\n",
            "/content/data_used/PNEUMONIA/person1611_bacteria_4241.jpeg\n",
            "/content/data_used/PNEUMONIA/person108_virus_199.jpeg\n",
            "/content/data_used/PNEUMONIA/person1306_bacteria_3272.jpeg\n",
            "/content/data_used/PNEUMONIA/person331_bacteria_1527.jpeg\n",
            "/content/data_used/PNEUMONIA/person1427_virus_2441.jpeg\n",
            "/content/data_used/PNEUMONIA/person877_bacteria_2800.jpeg\n",
            "/content/data_used/PNEUMONIA/person1019_virus_1707.jpeg\n",
            "/content/data_used/PNEUMONIA/person750_bacteria_2653.jpeg\n",
            "/content/data_used/PNEUMONIA/person1254_virus_2130.jpeg\n",
            "/content/data_used/PNEUMONIA/person347_bacteria_1594.jpeg\n",
            "/content/data_used/PNEUMONIA/person1139_virus_1882.jpeg\n",
            "/content/data_used/PNEUMONIA/person1411_bacteria_3603.jpeg\n",
            "/content/data_used/PNEUMONIA/person294_bacteria_1382.jpeg\n",
            "/content/data_used/PNEUMONIA/person354_bacteria_1632.jpeg\n",
            "/content/data_used/PNEUMONIA/person459_virus_947.jpeg\n",
            "/content/data_used/PNEUMONIA/person1628_bacteria_4293.jpeg\n",
            "/content/data_used/PNEUMONIA/person1073_bacteria_3008.jpeg\n",
            "/content/data_used/PNEUMONIA/person91_bacteria_448.jpeg\n",
            "/content/data_used/PNEUMONIA/person1488_virus_2585.jpeg\n",
            "/content/data_used/PNEUMONIA/person1818_bacteria_4676.jpeg\n",
            "/content/data_used/PNEUMONIA/person1440_bacteria_3723.jpeg\n",
            "/content/data_used/PNEUMONIA/person639_virus_1220.jpeg\n",
            "/content/data_used/PNEUMONIA/person130_virus_263.jpeg\n",
            "/content/data_used/PNEUMONIA/person402_bacteria_1812.jpeg\n",
            "/content/data_used/PNEUMONIA/person597_bacteria_2450.jpeg\n",
            "/content/data_used/PNEUMONIA/person759_virus_1387.jpeg\n",
            "/content/data_used/PNEUMONIA/person1595_bacteria_4183.jpeg\n",
            "/content/data_used/PNEUMONIA/person1169_virus_1968.jpeg\n",
            "/content/data_used/PNEUMONIA/person100_bacteria_481.jpeg\n",
            "/content/data_used/PNEUMONIA/person477_bacteria_2029.jpeg\n",
            "/content/data_used/PNEUMONIA/person88_bacteria_437.jpeg\n",
            "/content/data_used/PNEUMONIA/person1492_virus_2599.jpeg\n",
            "/content/data_used/PNEUMONIA/person33_bacteria_169.jpeg\n",
            "/content/data_used/PNEUMONIA/person1261_bacteria_3219.jpeg\n",
            "/content/data_used/PNEUMONIA/person876_bacteria_2799.jpeg\n",
            "/content/data_used/PNEUMONIA/person51_bacteria_242.jpeg\n",
            "/content/data_used/PNEUMONIA/person97_virus_180.jpeg\n",
            "/content/data_used/PNEUMONIA/person1663_bacteria_4411.jpeg\n",
            "/content/data_used/PNEUMONIA/person104_virus_191.jpeg\n",
            "/content/data_used/PNEUMONIA/person441_bacteria_1900.jpeg\n",
            "/content/data_used/PNEUMONIA/person321_bacteria_1486.jpeg\n",
            "/content/data_used/PNEUMONIA/person1283_bacteria_3246.jpeg\n",
            "/content/data_used/PNEUMONIA/person296_bacteria_1397.jpeg\n",
            "/content/data_used/PNEUMONIA/person680_bacteria_2575.jpeg\n",
            "/content/data_used/PNEUMONIA/person871_bacteria_2793.jpeg\n",
            "/content/data_used/PNEUMONIA/person1038_bacteria_2972.jpeg\n",
            "/content/data_used/PNEUMONIA/person1376_virus_2367.jpeg\n",
            "/content/data_used/PNEUMONIA/person808_virus_1442.jpeg\n",
            "/content/data_used/PNEUMONIA/person359_bacteria_1642.jpeg\n",
            "/content/data_used/PNEUMONIA/person531_bacteria_2242.jpeg\n",
            "/content/data_used/PNEUMONIA/person28_bacteria_143.jpeg\n",
            "/content/data_used/PNEUMONIA/person73_bacteria_359.jpeg\n",
            "/content/data_used/PNEUMONIA/person155_bacteria_729.jpeg\n",
            "/content/data_used/PNEUMONIA/person101_virus_187.jpeg\n",
            "/content/data_used/PNEUMONIA/person605_virus_1166.jpeg\n",
            "/content/data_used/PNEUMONIA/person608_bacteria_2471.jpeg\n",
            "/content/data_used/PNEUMONIA/person256_virus_537.jpeg\n",
            "/content/data_used/PNEUMONIA/person1952_bacteria_4883.jpeg\n",
            "/content/data_used/PNEUMONIA/person1667_virus_2881.jpeg\n",
            "/content/data_used/PNEUMONIA/person289_virus_593.jpeg\n",
            "/content/data_used/PNEUMONIA/person1628_bacteria_4297.jpeg\n",
            "/content/data_used/PNEUMONIA/person478_virus_975.jpeg\n",
            "/content/data_used/PNEUMONIA/person920_bacteria_2845.jpeg\n",
            "/content/data_used/PNEUMONIA/person368_bacteria_1672.jpeg\n",
            "/content/data_used/PNEUMONIA/person1377_bacteria_3512.jpeg\n",
            "/content/data_used/PNEUMONIA/person830_virus_1466.jpeg\n",
            "/content/data_used/PNEUMONIA/person1365_bacteria_3489.jpeg\n",
            "/content/data_used/PNEUMONIA/person23_bacteria_103.jpeg\n",
            "/content/data_used/PNEUMONIA/person906_bacteria_2831.jpeg\n",
            "/content/data_used/PNEUMONIA/person458_bacteria_1955.jpeg\n",
            "/content/data_used/PNEUMONIA/person1585_bacteria_4151.jpeg\n",
            "/content/data_used/PNEUMONIA/person645_virus_1226.jpeg\n",
            "/content/data_used/PNEUMONIA/person967_bacteria_2892.jpeg\n",
            "/content/data_used/PNEUMONIA/person1605_bacteria_4226.jpeg\n",
            "/content/data_used/PNEUMONIA/person707_virus_1305.jpeg\n",
            "/content/data_used/PNEUMONIA/person325_virus_664.jpeg\n",
            "/content/data_used/PNEUMONIA/person781_virus_1412.jpeg\n",
            "/content/data_used/PNEUMONIA/person1_virus_8.jpeg\n",
            "/content/data_used/PNEUMONIA/person1486_bacteria_3883.jpeg\n",
            "/content/data_used/PNEUMONIA/person1105_bacteria_3046.jpeg\n",
            "/content/data_used/PNEUMONIA/person1405_bacteria_3566.jpeg\n",
            "/content/data_used/PNEUMONIA/person111_bacteria_537.jpeg\n",
            "/content/data_used/PNEUMONIA/person420_bacteria_1848.jpeg\n",
            "/content/data_used/PNEUMONIA/person461_virus_949.jpeg\n",
            "/content/data_used/PNEUMONIA/person422_bacteria_1853.jpeg\n",
            "/content/data_used/PNEUMONIA/person1497_bacteria_3912.jpeg\n",
            "/content/data_used/PNEUMONIA/person994_bacteria_2922.jpeg\n",
            "/content/data_used/PNEUMONIA/person152_bacteria_721.jpeg\n",
            "/content/data_used/PNEUMONIA/person117_bacteria_556.jpeg\n",
            "/content/data_used/PNEUMONIA/person1023_bacteria_2954.jpeg\n",
            "/content/data_used/PNEUMONIA/person156_virus_308.jpeg\n",
            "/content/data_used/PNEUMONIA/person1270_virus_2163.jpeg\n",
            "/content/data_used/PNEUMONIA/person76_bacteria_371.jpeg\n",
            "/content/data_used/PNEUMONIA/person1252_virus_2124.jpeg\n",
            "/content/data_used/PNEUMONIA/person119_bacteria_566.jpeg\n",
            "/content/data_used/PNEUMONIA/person1156_virus_1936.jpeg\n",
            "/content/data_used/PNEUMONIA/person1537_bacteria_4020.jpeg\n",
            "/content/data_used/PNEUMONIA/person1177_virus_2002.jpeg\n",
            "/content/data_used/PNEUMONIA/person666_bacteria_2558.jpeg\n",
            "/content/data_used/PNEUMONIA/person277_bacteria_1303.jpeg\n",
            "/content/data_used/PNEUMONIA/person565_bacteria_2348.jpeg\n",
            "/content/data_used/PNEUMONIA/person297_bacteria_1400.jpeg\n",
            "/content/data_used/PNEUMONIA/person996_bacteria_2924.jpeg\n",
            "/content/data_used/PNEUMONIA/person1024_virus_1716.jpeg\n",
            "/content/data_used/PNEUMONIA/person1474_virus_2556.jpeg\n",
            "/content/data_used/PNEUMONIA/person384_virus_769.jpeg\n",
            "/content/data_used/PNEUMONIA/person318_bacteria_1474.jpeg\n",
            "/content/data_used/PNEUMONIA/person492_bacteria_2085.jpeg\n",
            "/content/data_used/PNEUMONIA/person458_virus_945.jpeg\n",
            "/content/data_used/PNEUMONIA/person925_bacteria_2850.jpeg\n",
            "/content/data_used/PNEUMONIA/person1628_virus_2822.jpeg\n",
            "/content/data_used/PNEUMONIA/person510_bacteria_2150.jpeg\n",
            "/content/data_used/PNEUMONIA/person744_virus_1367.jpeg\n",
            "/content/data_used/PNEUMONIA/person7_bacteria_29.jpeg\n",
            "/content/data_used/PNEUMONIA/person1819_bacteria_4677.jpeg\n",
            "/content/data_used/PNEUMONIA/person413_bacteria_1833.jpeg\n",
            "/content/data_used/PNEUMONIA/person314_bacteria_1462.jpeg\n",
            "/content/data_used/PNEUMONIA/person1418_bacteria_3638.jpeg\n",
            "/content/data_used/PNEUMONIA/person656_virus_1238.jpeg\n",
            "/content/data_used/PNEUMONIA/person52_bacteria_251.jpeg\n",
            "/content/data_used/PNEUMONIA/person937_virus_1599.jpeg\n",
            "/content/data_used/PNEUMONIA/person909_bacteria_2834.jpeg\n",
            "/content/data_used/PNEUMONIA/person1502_bacteria_3924.jpeg\n",
            "/content/data_used/PNEUMONIA/person45_virus_95.jpeg\n",
            "/content/data_used/PNEUMONIA/person1201_bacteria_3151.jpeg\n",
            "/content/data_used/PNEUMONIA/person370_bacteria_1688.jpeg\n",
            "/content/data_used/PNEUMONIA/person927_bacteria_2852.jpeg\n",
            "/content/data_used/PNEUMONIA/person947_bacteria_2872.jpeg\n",
            "/content/data_used/PNEUMONIA/person1319_virus_2276.jpeg\n",
            "/content/data_used/PNEUMONIA/person1615_bacteria_4249.jpeg\n",
            "/content/data_used/PNEUMONIA/person937_bacteria_2862.jpeg\n",
            "/content/data_used/PNEUMONIA/person418_virus_852.jpeg\n",
            "/content/data_used/PNEUMONIA/person438_bacteria_1893.jpeg\n",
            "/content/data_used/PNEUMONIA/person23_bacteria_105.jpeg\n",
            "/content/data_used/PNEUMONIA/person1619_bacteria_4269.jpeg\n",
            "/content/data_used/PNEUMONIA/person1535_bacteria_4017.jpeg\n",
            "/content/data_used/PNEUMONIA/person62_bacteria_300.jpeg\n",
            "/content/data_used/PNEUMONIA/person319_bacteria_1475.jpeg\n",
            "/content/data_used/PNEUMONIA/person1131_bacteria_3073.jpeg\n",
            "/content/data_used/PNEUMONIA/person1121_virus_1846.jpeg\n",
            "/content/data_used/PNEUMONIA/person42_virus_89.jpeg\n",
            "/content/data_used/PNEUMONIA/person981_bacteria_2908.jpeg\n",
            "/content/data_used/PNEUMONIA/person339_bacteria_1574.jpeg\n",
            "/content/data_used/PNEUMONIA/person1618_virus_2805.jpeg\n",
            "/content/data_used/PNEUMONIA/person1940_bacteria_4861.jpeg\n",
            "/content/data_used/PNEUMONIA/person1224_virus_2074.jpeg\n",
            "/content/data_used/PNEUMONIA/person428_virus_876.jpeg\n",
            "/content/data_used/PNEUMONIA/person30_bacteria_148.jpeg\n",
            "/content/data_used/PNEUMONIA/person1433_bacteria_3701.jpeg\n",
            "/content/data_used/PNEUMONIA/person1026_bacteria_2957.jpeg\n",
            "/content/data_used/PNEUMONIA/person300_bacteria_1422.jpeg\n",
            "/content/data_used/PNEUMONIA/person130_bacteria_627.jpeg\n",
            "/content/data_used/PNEUMONIA/person489_bacteria_2066.jpeg\n",
            "/content/data_used/PNEUMONIA/person85_bacteria_422.jpeg\n",
            "/content/data_used/PNEUMONIA/person1092_virus_1811.jpeg\n",
            "/content/data_used/PNEUMONIA/person1514_virus_2633.jpeg\n",
            "/content/data_used/PNEUMONIA/person1009_virus_1694.jpeg\n",
            "/content/data_used/PNEUMONIA/person462_bacteria_1968.jpeg\n",
            "/content/data_used/PNEUMONIA/person782_bacteria_2686.jpeg\n",
            "/content/data_used/PNEUMONIA/person124_bacteria_590.jpeg\n",
            "/content/data_used/PNEUMONIA/person730_virus_1351.jpeg\n",
            "/content/data_used/PNEUMONIA/person1883_bacteria_4769.jpeg\n",
            "/content/data_used/PNEUMONIA/person78_bacteria_382.jpeg\n",
            "/content/data_used/PNEUMONIA/person1290_virus_2216.jpeg\n",
            "/content/data_used/PNEUMONIA/person348_virus_719.jpeg\n",
            "/content/data_used/PNEUMONIA/person23_bacteria_82.jpeg\n",
            "/content/data_used/PNEUMONIA/person1375_bacteria_3510.jpeg\n",
            "/content/data_used/PNEUMONIA/person339_bacteria_1573.jpeg\n",
            "/content/data_used/PNEUMONIA/person596_bacteria_2443.jpeg\n",
            "/content/data_used/PNEUMONIA/person1644_bacteria_4361.jpeg\n",
            "/content/data_used/PNEUMONIA/person315_bacteria_1465.jpeg\n",
            "/content/data_used/PNEUMONIA/person571_virus_1114.jpeg\n",
            "/content/data_used/PNEUMONIA/person1628_virus_2821.jpeg\n",
            "/content/data_used/PNEUMONIA/person443_bacteria_1923.jpeg\n",
            "/content/data_used/PNEUMONIA/person543_bacteria_2283.jpeg\n",
            "/content/data_used/PNEUMONIA/person674_bacteria_2568.jpeg\n",
            "/content/data_used/PNEUMONIA/person442_virus_905.jpeg\n"
          ]
        }
      ]
    },
    {
      "cell_type": "code",
      "source": [
        ""
      ],
      "metadata": {
        "id": "9in8IoPd_SgD"
      },
      "execution_count": 18,
      "outputs": []
    },
    {
      "cell_type": "code",
      "metadata": {
        "id": "4dY9EiJbovKR",
        "colab": {
          "base_uri": "https://localhost:8080/"
        },
        "outputId": "b06fe2b5-8232-429a-fecf-465a9faeffd8"
      },
      "source": [
        "patternZero = '*IM*.jpeg'\n",
        "patternOne = '*person*.jpeg'\n",
        "classZero = fnmatch.filter(imagePatches, patternZero)\n",
        "classOne = fnmatch.filter(imagePatches, patternOne)\n",
        "print(\"IDC(-)\\n\\n\",classZero[0:5],'\\n')\n",
        "print(\"IDC(+)\\n\\n\",classOne[0:5])"
      ],
      "execution_count": 19,
      "outputs": [
        {
          "output_type": "stream",
          "name": "stdout",
          "text": [
            "IDC(-)\n",
            "\n",
            " ['/content/data_used/NORMAL/NORMAL2-IM-1396-0001.jpeg', '/content/data_used/NORMAL/NORMAL2-IM-1321-0001.jpeg', '/content/data_used/NORMAL/NORMAL2-IM-0569-0001.jpeg', '/content/data_used/NORMAL/NORMAL2-IM-0603-0001.jpeg', '/content/data_used/NORMAL/NORMAL2-IM-0627-0001.jpeg'] \n",
            "\n",
            "IDC(+)\n",
            "\n",
            " ['/content/data_used/PNEUMONIA/person1481_bacteria_3866.jpeg', '/content/data_used/PNEUMONIA/person438_virus_889.jpeg', '/content/data_used/PNEUMONIA/person421_virus_866.jpeg', '/content/data_used/PNEUMONIA/person21_bacteria_72.jpeg', '/content/data_used/PNEUMONIA/person87_bacteria_433.jpeg']\n"
          ]
        }
      ]
    },
    {
      "cell_type": "code",
      "metadata": {
        "id": "6NdRVSpwv9D8",
        "colab": {
          "base_uri": "https://localhost:8080/"
        },
        "outputId": "108134aa-3cc9-4f7e-a44f-77cd52f9ba41"
      },
      "source": [
        "print(len(classZero))\n",
        "print(len(classOne))"
      ],
      "execution_count": 20,
      "outputs": [
        {
          "output_type": "stream",
          "name": "stdout",
          "text": [
            "1583\n",
            "4273\n"
          ]
        }
      ]
    },
    {
      "cell_type": "code",
      "metadata": {
        "id": "cQbT9IlEozHD"
      },
      "source": [
        "X=[]\n",
        "y=[]\n",
        "\n",
        "for u in classZero:\n",
        "  X.append(u)\n",
        "  y.append(0)\n",
        "\n",
        "for u in classOne:\n",
        "  X.append(u)\n",
        "  y.append(1)"
      ],
      "execution_count": 21,
      "outputs": []
    },
    {
      "cell_type": "code",
      "metadata": {
        "id": "gyAP06j_o5y5"
      },
      "source": [
        "df = pd.DataFrame()\n",
        "df[\"images\"]=X\n",
        "df[\"labels\"]=y\n",
        "df=df.sample(frac=1)"
      ],
      "execution_count": 22,
      "outputs": []
    },
    {
      "cell_type": "code",
      "metadata": {
        "id": "86jc5Cqzo-ha"
      },
      "source": [
        "def RgbToQuaternion(img):\n",
        " b,g,r = cv2.split(img)\n",
        "\n",
        " M=np.zeros((50,50,4))\n",
        " M[:,:,1]=r\n",
        " M[:,:,2]=g\n",
        " M[:,:,3]=b\n",
        " return(np.array(M))"
      ],
      "execution_count": 23,
      "outputs": []
    },
    {
      "cell_type": "code",
      "metadata": {
        "id": "NlZUb-10pCcQ"
      },
      "source": [
        "def batch_generator(df,batch_size,steps):\n",
        " idx=1\n",
        " while True: \n",
        "  yield load_data(df,idx-1,batch_size)## Yields data\n",
        "  if idx < steps:\n",
        "    idx+=1\n",
        "  else:\n",
        "    idx=1"
      ],
      "execution_count": 24,
      "outputs": []
    },
    {
      "cell_type": "code",
      "metadata": {
        "id": "cyVdNldPpI84"
      },
      "source": [
        "def load_data(df,idx,batch_size):\n",
        " start=idx*batch_size\n",
        " end=(idx+1)*batch_size\n",
        " x = []\n",
        " y = [] \n",
        " for  row  in df.values[start:end,:]:\n",
        "  img=row[0]\n",
        "\n",
        "  full_size_image = cv2.imread(img)\n",
        "  X=cv2.resize(full_size_image, (50,50), interpolation=cv2.INTER_CUBIC)\n",
        "\n",
        "  image = RgbToQuaternion(X) /255.\n",
        "  x.append(image) \n",
        "  y.append(row[-1] )\n",
        "\n",
        " return (np.array(x).reshape(-1,50,50,4), np.array(y).reshape(-1))"
      ],
      "execution_count": 25,
      "outputs": []
    },
    {
      "cell_type": "code",
      "metadata": {
        "id": "V29ZJA8RpM7k"
      },
      "source": [
        "df_train, df = train_test_split(df, test_size=0.20)\n",
        "df_test, df_val = train_test_split(df, test_size=0.5)"
      ],
      "execution_count": 26,
      "outputs": []
    },
    {
      "cell_type": "code",
      "metadata": {
        "id": "R-yYJW8tWhm6"
      },
      "source": [
        ""
      ],
      "execution_count": 26,
      "outputs": []
    },
    {
      "cell_type": "code",
      "metadata": {
        "id": "FQl7Oj4HpS20",
        "colab": {
          "base_uri": "https://localhost:8080/"
        },
        "outputId": "b12d2578-31b9-42e8-dec6-b8fd8dca2f41"
      },
      "source": [
        "from   complexnn                             import *\n",
        "import keras\n",
        "from   keras.layers                          import *\n",
        "from   keras.models                          import Model\n",
        "import keras.backend                         as     K\n",
        "import numpy                                 as     np"
      ],
      "execution_count": 27,
      "outputs": [
        {
          "output_type": "stream",
          "name": "stderr",
          "text": [
            "Using TensorFlow backend.\n"
          ]
        }
      ]
    },
    {
      "cell_type": "code",
      "metadata": {
        "id": "scrD3pE8pTa5"
      },
      "source": [
        "from keras.optimizers import adam\n",
        "opt = adam(lr = 0.001,decay=1e-6)"
      ],
      "execution_count": 28,
      "outputs": []
    },
    {
      "cell_type": "code",
      "metadata": {
        "id": "x91xqzQI6Mx2"
      },
      "source": [
        "def residual_block(mod_, f_in, f_out, strides_ = (1,1), use_shortcut_ = False):   \n",
        "    shortcut_ = mod_\n",
        "    \n",
        "    k_ = (1,1)\n",
        "    \n",
        "    mod_ = QuaternionConv2D(f_in, kernel_size=k_, strides=(1,1), padding = \"same\")(mod_)\n",
        "    mod_ = BatchNormalization()(mod_)\n",
        "    mod_ = ELU()(mod_)\n",
        "    \n",
        "    mod_ = QuaternionConv2D(f_in, kernel_size=k_, strides=strides_, padding = \"same\")(mod_)\n",
        "    mod_ = BatchNormalization()(mod_)\n",
        "    mod_ = ELU()(mod_)\n",
        "    \n",
        "    mod_ = QuaternionConv2D(f_out, kernel_size=k_, strides=(1,1), padding = \"same\")(mod_)\n",
        "    mod_ = BatchNormalization()(mod_)\n",
        "    mod_ = ELU()(mod_)\n",
        "    \n",
        "    if use_shortcut_ == True or strides_ != (1,1):\n",
        "        shortcut_ = QuaternionConv2D(f_out, kernel_size=k_, strides=strides_, padding = \"same\")(shortcut_)\n",
        "        shortcut_ = BatchNormalization()(shortcut_)\n",
        "        \n",
        "    mod_ = Add()([shortcut_, mod_])\n",
        "    mod_ = ReLU()(mod_)\n",
        "    \n",
        "    return mod_"
      ],
      "execution_count": 29,
      "outputs": []
    },
    {
      "cell_type": "code",
      "metadata": {
        "id": "wf2l0CgN6OwO"
      },
      "source": [
        "def model_build(in_):\n",
        "    \n",
        "    k_=(1,1)\n",
        "    \n",
        "    mod_ = QuaternionConv2D(16, kernel_size=k_, strides = (1,1), padding = \"same\")(in_)\n",
        "    \n",
        "    mod_ = BatchNormalization()(mod_)\n",
        "    \n",
        "    mod_ = ReLU()(mod_)\n",
        "    \n",
        "    mod_ = MaxPooling2D()(mod_)\n",
        "    \n",
        "    mod_ = residual_block(mod_, 16, 32, use_shortcut_=True)\n",
        "    \n",
        "    mod_ = MaxPooling2D()(mod_)\n",
        "    \n",
        "    mod_ = residual_block(mod_, 32, 64, use_shortcut_=True)\n",
        "    \n",
        "    mod_ = MaxPooling2D()(mod_)\n",
        "    \n",
        "    mod_ = residual_block(mod_, 64, 96, use_shortcut_=True)\n",
        "    \n",
        "    mod_ = MaxPooling2D()(mod_)\n",
        "    \n",
        "    mod_ = residual_block(mod_, 96, 128, use_shortcut_=True)\n",
        "    \n",
        "    mod_ = MaxPooling2D()(mod_)\n",
        "    \n",
        "    mod_ = GlobalAveragePooling2D()(mod_)\n",
        "    \n",
        "    mod_ = Dense(512, activation = \"relu\")(mod_)\n",
        "    \n",
        "    mod_ = Dropout(0.5)(mod_)\n",
        "    \n",
        "    mod_ = Dense(1, activation=\"sigmoid\")(mod_)\n",
        "    \n",
        "    return mod_"
      ],
      "execution_count": 30,
      "outputs": []
    },
    {
      "cell_type": "code",
      "metadata": {
        "id": "fN8TNhyZ0m3U"
      },
      "source": [
        "def recall_m(y_true, y_pred):\n",
        "    true_positives = K.sum(K.round(K.clip(y_true * y_pred, 0, 1)))\n",
        "    possible_positives = K.sum(K.round(K.clip(y_true, 0, 1)))\n",
        "    recall = true_positives / (possible_positives + K.epsilon())\n",
        "    return recall\n",
        "\n",
        "def precision_m(y_true, y_pred):\n",
        "    true_positives = K.sum(K.round(K.clip(y_true * y_pred, 0, 1)))\n",
        "    predicted_positives = K.sum(K.round(K.clip(y_pred, 0, 1)))\n",
        "    precision = true_positives / (predicted_positives + K.epsilon())\n",
        "    return precision\n",
        "\n",
        "def f1_m(y_true, y_pred):\n",
        "    precision = precision_m(y_true, y_pred)\n",
        "    recall = recall_m(y_true, y_pred)\n",
        "    return 2*((precision*recall)/(precision+recall+K.epsilon()))"
      ],
      "execution_count": 31,
      "outputs": []
    },
    {
      "cell_type": "code",
      "metadata": {
        "id": "Bl7huBsapW1F",
        "colab": {
          "base_uri": "https://localhost:8080/"
        },
        "outputId": "80752751-f727-454b-a6ed-6b83cf8bcd91"
      },
      "source": [
        "in_ = Input((50,50,4))\n",
        "model_ = model_build(in_)"
      ],
      "execution_count": 32,
      "outputs": [
        {
          "output_type": "stream",
          "name": "stdout",
          "text": [
            "WARNING:tensorflow:From /usr/local/lib/python3.7/dist-packages/keras/backend/tensorflow_backend.py:74: The name tf.get_default_graph is deprecated. Please use tf.compat.v1.get_default_graph instead.\n",
            "\n",
            "WARNING:tensorflow:From /usr/local/lib/python3.7/dist-packages/keras/backend/tensorflow_backend.py:517: The name tf.placeholder is deprecated. Please use tf.compat.v1.placeholder instead.\n",
            "\n",
            "WARNING:tensorflow:From /usr/local/lib/python3.7/dist-packages/keras/backend/tensorflow_backend.py:174: The name tf.get_default_session is deprecated. Please use tf.compat.v1.get_default_session instead.\n",
            "\n",
            "WARNING:tensorflow:From /usr/local/lib/python3.7/dist-packages/keras/backend/tensorflow_backend.py:181: The name tf.ConfigProto is deprecated. Please use tf.compat.v1.ConfigProto instead.\n",
            "\n",
            "WARNING:tensorflow:From /usr/local/lib/python3.7/dist-packages/keras/backend/tensorflow_backend.py:186: The name tf.Session is deprecated. Please use tf.compat.v1.Session instead.\n",
            "\n",
            "WARNING:tensorflow:From /usr/local/lib/python3.7/dist-packages/keras/backend/tensorflow_backend.py:190: The name tf.global_variables is deprecated. Please use tf.compat.v1.global_variables instead.\n",
            "\n",
            "WARNING:tensorflow:From /usr/local/lib/python3.7/dist-packages/keras/backend/tensorflow_backend.py:199: The name tf.is_variable_initialized is deprecated. Please use tf.compat.v1.is_variable_initialized instead.\n",
            "\n",
            "WARNING:tensorflow:From /usr/local/lib/python3.7/dist-packages/keras/backend/tensorflow_backend.py:206: The name tf.variables_initializer is deprecated. Please use tf.compat.v1.variables_initializer instead.\n",
            "\n",
            "WARNING:tensorflow:From /usr/local/lib/python3.7/dist-packages/keras/backend/tensorflow_backend.py:1834: The name tf.nn.fused_batch_norm is deprecated. Please use tf.compat.v1.nn.fused_batch_norm instead.\n",
            "\n",
            "WARNING:tensorflow:From /usr/local/lib/python3.7/dist-packages/keras/backend/tensorflow_backend.py:133: The name tf.placeholder_with_default is deprecated. Please use tf.compat.v1.placeholder_with_default instead.\n",
            "\n",
            "WARNING:tensorflow:From /usr/local/lib/python3.7/dist-packages/keras/backend/tensorflow_backend.py:3976: The name tf.nn.max_pool is deprecated. Please use tf.nn.max_pool2d instead.\n",
            "\n",
            "WARNING:tensorflow:From /usr/local/lib/python3.7/dist-packages/keras/backend/tensorflow_backend.py:4138: The name tf.random_uniform is deprecated. Please use tf.random.uniform instead.\n",
            "\n",
            "WARNING:tensorflow:From /usr/local/lib/python3.7/dist-packages/keras/backend/tensorflow_backend.py:3445: calling dropout (from tensorflow.python.ops.nn_ops) with keep_prob is deprecated and will be removed in a future version.\n",
            "Instructions for updating:\n",
            "Please use `rate` instead of `keep_prob`. Rate should be set to `rate = 1 - keep_prob`.\n"
          ]
        }
      ]
    },
    {
      "cell_type": "code",
      "metadata": {
        "id": "Y9zNnD_C5ymO",
        "colab": {
          "base_uri": "https://localhost:8080/"
        },
        "outputId": "40d0aa2a-4d9f-4223-ee45-5c01e6dc2208"
      },
      "source": [
        "model = Model(input = in_, output = model_)"
      ],
      "execution_count": 33,
      "outputs": [
        {
          "output_type": "stream",
          "name": "stderr",
          "text": [
            "/usr/local/lib/python3.7/dist-packages/ipykernel_launcher.py:1: UserWarning: Update your `Model` call to the Keras 2 API: `Model(inputs=Tensor(\"in..., outputs=Tensor(\"de...)`\n",
            "  \"\"\"Entry point for launching an IPython kernel.\n"
          ]
        }
      ]
    },
    {
      "cell_type": "code",
      "source": [
        "import numpy as np\n",
        "import pandas as pd\n",
        "import matplotlib.pyplot as plt\n",
        "import seaborn as sns\n",
        "import tensorflow as tf\n",
        "from tensorflow.keras.models import Sequential\n",
        "from tensorflow.keras.layers import Dense, Conv2D , MaxPool2D , Flatten , Dropout , BatchNormalization, GlobalAveragePooling2D\n",
        "from tensorflow.keras.preprocessing.image import ImageDataGenerator, array_to_img, img_to_array\n",
        "from sklearn.model_selection import train_test_split\n",
        "from sklearn.metrics import classification_report,confusion_matrix\n",
        "from tensorflow.keras.callbacks import ReduceLROnPlateau\n",
        "import cv2\n",
        "import os"
      ],
      "metadata": {
        "id": "DUt-QaWsTpn6"
      },
      "execution_count": 34,
      "outputs": []
    },
    {
      "cell_type": "code",
      "source": [
        "METRICS = [\n",
        "      tf.keras.metrics.TruePositives(name='tp'),\n",
        "      tf.keras.metrics.FalsePositives(name='fp'),\n",
        "      tf.keras.metrics.TrueNegatives(name='tn'),\n",
        "      tf.keras.metrics.FalseNegatives(name='fn'), \n",
        "      tf.keras.metrics.BinaryAccuracy(name='accuracy'),\n",
        "      tf.keras.metrics.Precision(name='precision'),\n",
        "      tf.keras.metrics.Recall(name='recall'),\n",
        "      tf.keras.metrics.AUC(name='roc', curve='ROC'), # roc curve\n",
        "      tf.keras.metrics.AUC(name='prc', curve='PR') # precision-recall curve\n",
        "]"
      ],
      "metadata": {
        "colab": {
          "base_uri": "https://localhost:8080/"
        },
        "id": "DO3eaGiPThhU",
        "outputId": "6103a8ed-6aaa-4f5b-97e2-013426f33319"
      },
      "execution_count": 35,
      "outputs": [
        {
          "output_type": "stream",
          "name": "stdout",
          "text": [
            "WARNING:tensorflow:From /usr/local/lib/python3.7/dist-packages/tensorflow_core/python/ops/resource_variable_ops.py:1630: calling BaseResourceVariable.__init__ (from tensorflow.python.ops.resource_variable_ops) with constraint is deprecated and will be removed in a future version.\n",
            "Instructions for updating:\n",
            "If using Keras pass *_constraint arguments to layers.\n"
          ]
        }
      ]
    },
    {
      "cell_type": "code",
      "metadata": {
        "id": "DkpAkRI056K7",
        "colab": {
          "base_uri": "https://localhost:8080/"
        },
        "outputId": "598d0f75-3f38-49c7-83f9-2844956a209b"
      },
      "source": [
        "           \n",
        "model.compile(optimizer=opt, loss='binary_crossentropy', metrics=['accuracy',precision_m,recall_m,f1_m])"
      ],
      "execution_count": 36,
      "outputs": [
        {
          "output_type": "stream",
          "name": "stdout",
          "text": [
            "WARNING:tensorflow:From /usr/local/lib/python3.7/dist-packages/keras/optimizers.py:790: The name tf.train.Optimizer is deprecated. Please use tf.compat.v1.train.Optimizer instead.\n",
            "\n",
            "WARNING:tensorflow:From /usr/local/lib/python3.7/dist-packages/keras/backend/tensorflow_backend.py:3376: The name tf.log is deprecated. Please use tf.math.log instead.\n",
            "\n",
            "WARNING:tensorflow:From /usr/local/lib/python3.7/dist-packages/tensorflow_core/python/ops/nn_impl.py:183: where (from tensorflow.python.ops.array_ops) is deprecated and will be removed in a future version.\n",
            "Instructions for updating:\n",
            "Use tf.where in 2.0, which has the same broadcast rule as np.where\n"
          ]
        }
      ]
    },
    {
      "cell_type": "code",
      "metadata": {
        "id": "9anher7jpaFM",
        "colab": {
          "base_uri": "https://localhost:8080/"
        },
        "outputId": "eb8d20c8-988e-4e25-d6f1-e58b7a8d2c76"
      },
      "source": [
        "history =model.fit_generator(batch_generator(df_train, 128,len(df_train)//128),\\\n",
        "                    steps_per_epoch=len(df_train)//128,epochs=50,\\\n",
        "                    verbose=1,validation_data=batch_generator(df_val, 64,len(df_val)//64),validation_steps=len(df_val)//64)"
      ],
      "execution_count": 37,
      "outputs": [
        {
          "output_type": "stream",
          "name": "stdout",
          "text": [
            "WARNING:tensorflow:From /usr/local/lib/python3.7/dist-packages/keras/backend/tensorflow_backend.py:986: The name tf.assign_add is deprecated. Please use tf.compat.v1.assign_add instead.\n",
            "\n",
            "WARNING:tensorflow:From /usr/local/lib/python3.7/dist-packages/keras/backend/tensorflow_backend.py:973: The name tf.assign is deprecated. Please use tf.compat.v1.assign instead.\n",
            "\n",
            "Epoch 1/50\n",
            "36/36 [==============================] - 75s 2s/step - loss: 0.5597 - acc: 0.8411 - precision_m: 0.8958 - recall_m: 0.8947 - f1_m: 0.8848 - val_loss: 1.0147 - val_acc: 0.5208 - val_precision_m: 1.0000 - val_recall_m: 0.3626 - val_f1_m: 0.5302\n",
            "Epoch 2/50\n",
            "36/36 [==============================] - 65s 2s/step - loss: 0.2492 - acc: 0.9023 - precision_m: 0.9343 - recall_m: 0.9339 - f1_m: 0.9329 - val_loss: 1.0183 - val_acc: 0.5521 - val_precision_m: 0.9882 - val_recall_m: 0.4082 - val_f1_m: 0.5765\n",
            "Epoch 3/50\n",
            "36/36 [==============================] - 67s 2s/step - loss: 0.1993 - acc: 0.9234 - precision_m: 0.9459 - recall_m: 0.9503 - f1_m: 0.9472 - val_loss: 0.6777 - val_acc: 0.7135 - val_precision_m: 0.9755 - val_recall_m: 0.6349 - val_f1_m: 0.7678\n",
            "Epoch 4/50\n",
            "36/36 [==============================] - 68s 2s/step - loss: 0.1822 - acc: 0.9293 - precision_m: 0.9489 - recall_m: 0.9552 - f1_m: 0.9513 - val_loss: 0.2524 - val_acc: 0.8854 - val_precision_m: 0.9650 - val_recall_m: 0.8792 - val_f1_m: 0.9193\n",
            "Epoch 5/50\n",
            "36/36 [==============================] - 69s 2s/step - loss: 0.1562 - acc: 0.9410 - precision_m: 0.9568 - recall_m: 0.9636 - f1_m: 0.9595 - val_loss: 0.4711 - val_acc: 0.8056 - val_precision_m: 0.9793 - val_recall_m: 0.7579 - val_f1_m: 0.8536\n",
            "Epoch 6/50\n",
            "36/36 [==============================] - 69s 2s/step - loss: 0.1375 - acc: 0.9479 - precision_m: 0.9590 - recall_m: 0.9702 - f1_m: 0.9641 - val_loss: 0.7313 - val_acc: 0.6944 - val_precision_m: 0.9889 - val_recall_m: 0.6020 - val_f1_m: 0.7465\n",
            "Epoch 7/50\n",
            "36/36 [==============================] - 70s 2s/step - loss: 0.1189 - acc: 0.9553 - precision_m: 0.9673 - recall_m: 0.9720 - f1_m: 0.9692 - val_loss: 0.6569 - val_acc: 0.7170 - val_precision_m: 0.9856 - val_recall_m: 0.6339 - val_f1_m: 0.7707\n",
            "Epoch 8/50\n",
            "36/36 [==============================] - 70s 2s/step - loss: 0.1069 - acc: 0.9638 - precision_m: 0.9721 - recall_m: 0.9794 - f1_m: 0.9754 - val_loss: 0.3234 - val_acc: 0.8715 - val_precision_m: 0.9789 - val_recall_m: 0.8476 - val_f1_m: 0.9081\n",
            "Epoch 9/50\n",
            "36/36 [==============================] - 70s 2s/step - loss: 0.0791 - acc: 0.9705 - precision_m: 0.9766 - recall_m: 0.9831 - f1_m: 0.9797 - val_loss: 0.4670 - val_acc: 0.8507 - val_precision_m: 0.9757 - val_recall_m: 0.8231 - val_f1_m: 0.8922\n",
            "Epoch 10/50\n",
            "36/36 [==============================] - 70s 2s/step - loss: 0.0721 - acc: 0.9737 - precision_m: 0.9804 - recall_m: 0.9840 - f1_m: 0.9819 - val_loss: 0.4921 - val_acc: 0.8524 - val_precision_m: 0.9868 - val_recall_m: 0.8162 - val_f1_m: 0.8923\n",
            "Epoch 11/50\n",
            "36/36 [==============================] - 70s 2s/step - loss: 0.0808 - acc: 0.9659 - precision_m: 0.9746 - recall_m: 0.9799 - f1_m: 0.9768 - val_loss: 0.6685 - val_acc: 0.7708 - val_precision_m: 0.9877 - val_recall_m: 0.7050 - val_f1_m: 0.8212\n",
            "Epoch 12/50\n",
            "36/36 [==============================] - 70s 2s/step - loss: 0.0755 - acc: 0.9694 - precision_m: 0.9755 - recall_m: 0.9831 - f1_m: 0.9790 - val_loss: 0.2536 - val_acc: 0.9271 - val_precision_m: 0.9502 - val_recall_m: 0.9544 - val_f1_m: 0.9514\n",
            "Epoch 13/50\n",
            "36/36 [==============================] - 70s 2s/step - loss: 0.0760 - acc: 0.9703 - precision_m: 0.9787 - recall_m: 0.9807 - f1_m: 0.9795 - val_loss: 0.7712 - val_acc: 0.7535 - val_precision_m: 0.9805 - val_recall_m: 0.6863 - val_f1_m: 0.8055\n",
            "Epoch 14/50\n",
            "36/36 [==============================] - 70s 2s/step - loss: 0.0692 - acc: 0.9718 - precision_m: 0.9801 - recall_m: 0.9818 - f1_m: 0.9807 - val_loss: 0.7835 - val_acc: 0.7691 - val_precision_m: 0.9690 - val_recall_m: 0.7192 - val_f1_m: 0.8238\n",
            "Epoch 15/50\n",
            "36/36 [==============================] - 70s 2s/step - loss: 0.0945 - acc: 0.9627 - precision_m: 0.9741 - recall_m: 0.9760 - f1_m: 0.9743 - val_loss: 1.2056 - val_acc: 0.6424 - val_precision_m: 0.9914 - val_recall_m: 0.5281 - val_f1_m: 0.6880\n",
            "Epoch 16/50\n",
            "36/36 [==============================] - 70s 2s/step - loss: 0.0639 - acc: 0.9757 - precision_m: 0.9824 - recall_m: 0.9845 - f1_m: 0.9831 - val_loss: 0.9557 - val_acc: 0.7639 - val_precision_m: 0.9781 - val_recall_m: 0.7022 - val_f1_m: 0.8147\n",
            "Epoch 17/50\n",
            "36/36 [==============================] - 70s 2s/step - loss: 0.0523 - acc: 0.9809 - precision_m: 0.9849 - recall_m: 0.9892 - f1_m: 0.9869 - val_loss: 0.3193 - val_acc: 0.9167 - val_precision_m: 0.9602 - val_recall_m: 0.9286 - val_f1_m: 0.9436\n",
            "Epoch 18/50\n",
            "36/36 [==============================] - 70s 2s/step - loss: 0.0482 - acc: 0.9824 - precision_m: 0.9872 - recall_m: 0.9886 - f1_m: 0.9878 - val_loss: 0.3882 - val_acc: 0.8819 - val_precision_m: 0.9719 - val_recall_m: 0.8675 - val_f1_m: 0.9161\n",
            "Epoch 19/50\n",
            "36/36 [==============================] - 70s 2s/step - loss: 0.0498 - acc: 0.9820 - precision_m: 0.9854 - recall_m: 0.9903 - f1_m: 0.9877 - val_loss: 0.2290 - val_acc: 0.9288 - val_precision_m: 0.9458 - val_recall_m: 0.9608 - val_f1_m: 0.9526\n",
            "Epoch 20/50\n",
            "36/36 [==============================] - 70s 2s/step - loss: 0.0491 - acc: 0.9816 - precision_m: 0.9853 - recall_m: 0.9893 - f1_m: 0.9871 - val_loss: 0.9622 - val_acc: 0.7292 - val_precision_m: 0.9868 - val_recall_m: 0.6498 - val_f1_m: 0.7816\n",
            "Epoch 21/50\n",
            "36/36 [==============================] - 70s 2s/step - loss: 0.0511 - acc: 0.9809 - precision_m: 0.9863 - recall_m: 0.9877 - f1_m: 0.9868 - val_loss: 0.2752 - val_acc: 0.9236 - val_precision_m: 0.9573 - val_recall_m: 0.9426 - val_f1_m: 0.9491\n",
            "Epoch 22/50\n",
            "36/36 [==============================] - 70s 2s/step - loss: 0.0444 - acc: 0.9835 - precision_m: 0.9898 - recall_m: 0.9878 - f1_m: 0.9887 - val_loss: 0.3274 - val_acc: 0.9288 - val_precision_m: 0.9398 - val_recall_m: 0.9678 - val_f1_m: 0.9531\n",
            "Epoch 23/50\n",
            "36/36 [==============================] - 70s 2s/step - loss: 0.0504 - acc: 0.9789 - precision_m: 0.9857 - recall_m: 0.9856 - f1_m: 0.9855 - val_loss: 0.3123 - val_acc: 0.9323 - val_precision_m: 0.9349 - val_recall_m: 0.9795 - val_f1_m: 0.9559\n",
            "Epoch 24/50\n",
            "36/36 [==============================] - 70s 2s/step - loss: 0.0433 - acc: 0.9831 - precision_m: 0.9880 - recall_m: 0.9888 - f1_m: 0.9883 - val_loss: 0.2379 - val_acc: 0.9323 - val_precision_m: 0.9567 - val_recall_m: 0.9540 - val_f1_m: 0.9546\n",
            "Epoch 25/50\n",
            "36/36 [==============================] - 70s 2s/step - loss: 0.0382 - acc: 0.9872 - precision_m: 0.9916 - recall_m: 0.9911 - f1_m: 0.9912 - val_loss: 0.4047 - val_acc: 0.9010 - val_precision_m: 0.9593 - val_recall_m: 0.9071 - val_f1_m: 0.9320\n",
            "Epoch 26/50\n",
            "36/36 [==============================] - 70s 2s/step - loss: 0.0376 - acc: 0.9844 - precision_m: 0.9891 - recall_m: 0.9897 - f1_m: 0.9892 - val_loss: 0.3798 - val_acc: 0.9410 - val_precision_m: 0.9417 - val_recall_m: 0.9841 - val_f1_m: 0.9619\n",
            "Epoch 27/50\n",
            "36/36 [==============================] - 70s 2s/step - loss: 0.0443 - acc: 0.9822 - precision_m: 0.9873 - recall_m: 0.9885 - f1_m: 0.9877 - val_loss: 0.3547 - val_acc: 0.8993 - val_precision_m: 0.9633 - val_recall_m: 0.9007 - val_f1_m: 0.9305\n",
            "Epoch 28/50\n",
            "36/36 [==============================] - 69s 2s/step - loss: 0.0396 - acc: 0.9861 - precision_m: 0.9893 - recall_m: 0.9917 - f1_m: 0.9904 - val_loss: 0.3485 - val_acc: 0.9340 - val_precision_m: 0.9355 - val_recall_m: 0.9814 - val_f1_m: 0.9572\n",
            "Epoch 29/50\n",
            "36/36 [==============================] - 69s 2s/step - loss: 0.0268 - acc: 0.9900 - precision_m: 0.9924 - recall_m: 0.9940 - f1_m: 0.9932 - val_loss: 0.6061 - val_acc: 0.8542 - val_precision_m: 0.9736 - val_recall_m: 0.8297 - val_f1_m: 0.8952\n",
            "Epoch 30/50\n",
            "36/36 [==============================] - 68s 2s/step - loss: 0.0279 - acc: 0.9902 - precision_m: 0.9935 - recall_m: 0.9931 - f1_m: 0.9932 - val_loss: 0.3516 - val_acc: 0.9149 - val_precision_m: 0.9598 - val_recall_m: 0.9267 - val_f1_m: 0.9427\n",
            "Epoch 31/50\n",
            "36/36 [==============================] - 84s 2s/step - loss: 0.0094 - acc: 0.9972 - precision_m: 0.9974 - recall_m: 0.9988 - f1_m: 0.9981 - val_loss: 0.5422 - val_acc: 0.8906 - val_precision_m: 0.9756 - val_recall_m: 0.8775 - val_f1_m: 0.9226\n",
            "Epoch 32/50\n",
            "36/36 [==============================] - 70s 2s/step - loss: 0.0100 - acc: 0.9959 - precision_m: 0.9966 - recall_m: 0.9976 - f1_m: 0.9971 - val_loss: 0.6705 - val_acc: 0.8785 - val_precision_m: 0.9677 - val_recall_m: 0.8684 - val_f1_m: 0.9145\n",
            "Epoch 33/50\n",
            "36/36 [==============================] - 75s 2s/step - loss: 0.0091 - acc: 0.9961 - precision_m: 0.9971 - recall_m: 0.9976 - f1_m: 0.9973 - val_loss: 0.5015 - val_acc: 0.8993 - val_precision_m: 0.9664 - val_recall_m: 0.8986 - val_f1_m: 0.9304\n",
            "Epoch 34/50\n",
            "36/36 [==============================] - 70s 2s/step - loss: 0.0077 - acc: 0.9970 - precision_m: 0.9975 - recall_m: 0.9982 - f1_m: 0.9978 - val_loss: 0.4416 - val_acc: 0.9219 - val_precision_m: 0.9661 - val_recall_m: 0.9282 - val_f1_m: 0.9465\n",
            "Epoch 35/50\n",
            "36/36 [==============================] - 69s 2s/step - loss: 0.0051 - acc: 0.9980 - precision_m: 0.9979 - recall_m: 0.9994 - f1_m: 0.9986 - val_loss: 0.4769 - val_acc: 0.9219 - val_precision_m: 0.9741 - val_recall_m: 0.9222 - val_f1_m: 0.9468\n",
            "Epoch 36/50\n",
            "36/36 [==============================] - 70s 2s/step - loss: 0.0068 - acc: 0.9970 - precision_m: 0.9982 - recall_m: 0.9976 - f1_m: 0.9979 - val_loss: 0.4517 - val_acc: 0.9288 - val_precision_m: 0.9650 - val_recall_m: 0.9404 - val_f1_m: 0.9521\n",
            "Epoch 37/50\n",
            "36/36 [==============================] - 70s 2s/step - loss: 0.0023 - acc: 0.9991 - precision_m: 0.9994 - recall_m: 0.9994 - f1_m: 0.9994 - val_loss: 0.4594 - val_acc: 0.9253 - val_precision_m: 0.9569 - val_recall_m: 0.9446 - val_f1_m: 0.9501\n",
            "Epoch 38/50\n",
            "36/36 [==============================] - 69s 2s/step - loss: 0.0052 - acc: 0.9974 - precision_m: 0.9988 - recall_m: 0.9976 - f1_m: 0.9982 - val_loss: 0.6550 - val_acc: 0.9028 - val_precision_m: 0.9642 - val_recall_m: 0.9063 - val_f1_m: 0.9333\n",
            "Epoch 39/50\n",
            "36/36 [==============================] - 69s 2s/step - loss: 0.0100 - acc: 0.9967 - precision_m: 0.9982 - recall_m: 0.9973 - f1_m: 0.9978 - val_loss: 0.4244 - val_acc: 0.9236 - val_precision_m: 0.9530 - val_recall_m: 0.9470 - val_f1_m: 0.9494\n",
            "Epoch 40/50\n",
            "36/36 [==============================] - 68s 2s/step - loss: 0.0064 - acc: 0.9978 - precision_m: 0.9983 - recall_m: 0.9988 - f1_m: 0.9985 - val_loss: 0.3773 - val_acc: 0.9288 - val_precision_m: 0.9472 - val_recall_m: 0.9604 - val_f1_m: 0.9533\n",
            "Epoch 41/50\n",
            "36/36 [==============================] - 68s 2s/step - loss: 0.0052 - acc: 0.9983 - precision_m: 0.9991 - recall_m: 0.9985 - f1_m: 0.9988 - val_loss: 0.4501 - val_acc: 0.9236 - val_precision_m: 0.9612 - val_recall_m: 0.9374 - val_f1_m: 0.9485\n",
            "Epoch 42/50\n",
            "36/36 [==============================] - 68s 2s/step - loss: 0.0039 - acc: 0.9985 - precision_m: 0.9985 - recall_m: 0.9994 - f1_m: 0.9989 - val_loss: 0.8213 - val_acc: 0.8750 - val_precision_m: 0.9684 - val_recall_m: 0.8644 - val_f1_m: 0.9125\n",
            "Epoch 43/50\n",
            "36/36 [==============================] - 68s 2s/step - loss: 0.0109 - acc: 0.9963 - precision_m: 0.9968 - recall_m: 0.9982 - f1_m: 0.9975 - val_loss: 0.8229 - val_acc: 0.8837 - val_precision_m: 0.9777 - val_recall_m: 0.8661 - val_f1_m: 0.9177\n",
            "Epoch 44/50\n",
            "36/36 [==============================] - 68s 2s/step - loss: 0.0075 - acc: 0.9974 - precision_m: 0.9983 - recall_m: 0.9983 - f1_m: 0.9983 - val_loss: 0.4526 - val_acc: 0.9184 - val_precision_m: 0.9610 - val_recall_m: 0.9306 - val_f1_m: 0.9449\n",
            "Epoch 45/50\n",
            "36/36 [==============================] - 67s 2s/step - loss: 0.0151 - acc: 0.9954 - precision_m: 0.9962 - recall_m: 0.9977 - f1_m: 0.9969 - val_loss: 0.3726 - val_acc: 0.9184 - val_precision_m: 0.9477 - val_recall_m: 0.9448 - val_f1_m: 0.9457\n",
            "Epoch 46/50\n",
            "36/36 [==============================] - 67s 2s/step - loss: 0.0156 - acc: 0.9948 - precision_m: 0.9962 - recall_m: 0.9967 - f1_m: 0.9964 - val_loss: 0.4163 - val_acc: 0.9392 - val_precision_m: 0.9355 - val_recall_m: 0.9885 - val_f1_m: 0.9606\n",
            "Epoch 47/50\n",
            "36/36 [==============================] - 66s 2s/step - loss: 0.0194 - acc: 0.9924 - precision_m: 0.9940 - recall_m: 0.9957 - f1_m: 0.9948 - val_loss: 0.4206 - val_acc: 0.9201 - val_precision_m: 0.9479 - val_recall_m: 0.9470 - val_f1_m: 0.9468\n",
            "Epoch 48/50\n",
            "36/36 [==============================] - 67s 2s/step - loss: 0.0175 - acc: 0.9933 - precision_m: 0.9955 - recall_m: 0.9953 - f1_m: 0.9954 - val_loss: 0.5785 - val_acc: 0.8906 - val_precision_m: 0.9695 - val_recall_m: 0.8826 - val_f1_m: 0.9238\n",
            "Epoch 49/50\n",
            "36/36 [==============================] - 67s 2s/step - loss: 0.0135 - acc: 0.9948 - precision_m: 0.9958 - recall_m: 0.9970 - f1_m: 0.9964 - val_loss: 0.3681 - val_acc: 0.9340 - val_precision_m: 0.9430 - val_recall_m: 0.9728 - val_f1_m: 0.9569\n",
            "Epoch 50/50\n",
            "36/36 [==============================] - 67s 2s/step - loss: 0.0183 - acc: 0.9922 - precision_m: 0.9949 - recall_m: 0.9945 - f1_m: 0.9946 - val_loss: 0.5211 - val_acc: 0.9115 - val_precision_m: 0.9584 - val_recall_m: 0.9234 - val_f1_m: 0.9397\n"
          ]
        }
      ]
    },
    {
      "cell_type": "markdown",
      "metadata": {
        "id": "jxJ-xRy2mqWA"
      },
      "source": [
        ""
      ]
    },
    {
      "cell_type": "code",
      "metadata": {
        "id": "IqHWpWRWppOC",
        "colab": {
          "base_uri": "https://localhost:8080/"
        },
        "outputId": "9d6e1e4a-f1ad-4f59-9368-dcaee47d5f12"
      },
      "source": [
        "model.summary()\n"
      ],
      "execution_count": 38,
      "outputs": [
        {
          "output_type": "stream",
          "name": "stdout",
          "text": [
            "__________________________________________________________________________________________________\n",
            "Layer (type)                    Output Shape         Param #     Connected to                     \n",
            "==================================================================================================\n",
            "input_1 (InputLayer)            (None, 50, 50, 4)    0                                            \n",
            "__________________________________________________________________________________________________\n",
            "quaternion_conv2d_1 (Quaternion (None, 50, 50, 64)   128         input_1[0][0]                    \n",
            "__________________________________________________________________________________________________\n",
            "batch_normalization_1 (BatchNor (None, 50, 50, 64)   256         quaternion_conv2d_1[0][0]        \n",
            "__________________________________________________________________________________________________\n",
            "re_lu_1 (ReLU)                  (None, 50, 50, 64)   0           batch_normalization_1[0][0]      \n",
            "__________________________________________________________________________________________________\n",
            "max_pooling2d_1 (MaxPooling2D)  (None, 25, 25, 64)   0           re_lu_1[0][0]                    \n",
            "__________________________________________________________________________________________________\n",
            "quaternion_conv2d_2 (Quaternion (None, 25, 25, 64)   1088        max_pooling2d_1[0][0]            \n",
            "__________________________________________________________________________________________________\n",
            "batch_normalization_2 (BatchNor (None, 25, 25, 64)   256         quaternion_conv2d_2[0][0]        \n",
            "__________________________________________________________________________________________________\n",
            "elu_1 (ELU)                     (None, 25, 25, 64)   0           batch_normalization_2[0][0]      \n",
            "__________________________________________________________________________________________________\n",
            "quaternion_conv2d_3 (Quaternion (None, 25, 25, 64)   1088        elu_1[0][0]                      \n",
            "__________________________________________________________________________________________________\n",
            "batch_normalization_3 (BatchNor (None, 25, 25, 64)   256         quaternion_conv2d_3[0][0]        \n",
            "__________________________________________________________________________________________________\n",
            "elu_2 (ELU)                     (None, 25, 25, 64)   0           batch_normalization_3[0][0]      \n",
            "__________________________________________________________________________________________________\n",
            "quaternion_conv2d_4 (Quaternion (None, 25, 25, 128)  2176        elu_2[0][0]                      \n",
            "__________________________________________________________________________________________________\n",
            "quaternion_conv2d_5 (Quaternion (None, 25, 25, 128)  2176        max_pooling2d_1[0][0]            \n",
            "__________________________________________________________________________________________________\n",
            "batch_normalization_4 (BatchNor (None, 25, 25, 128)  512         quaternion_conv2d_4[0][0]        \n",
            "__________________________________________________________________________________________________\n",
            "batch_normalization_5 (BatchNor (None, 25, 25, 128)  512         quaternion_conv2d_5[0][0]        \n",
            "__________________________________________________________________________________________________\n",
            "elu_3 (ELU)                     (None, 25, 25, 128)  0           batch_normalization_4[0][0]      \n",
            "__________________________________________________________________________________________________\n",
            "add_1 (Add)                     (None, 25, 25, 128)  0           batch_normalization_5[0][0]      \n",
            "                                                                 elu_3[0][0]                      \n",
            "__________________________________________________________________________________________________\n",
            "re_lu_2 (ReLU)                  (None, 25, 25, 128)  0           add_1[0][0]                      \n",
            "__________________________________________________________________________________________________\n",
            "max_pooling2d_2 (MaxPooling2D)  (None, 12, 12, 128)  0           re_lu_2[0][0]                    \n",
            "__________________________________________________________________________________________________\n",
            "quaternion_conv2d_6 (Quaternion (None, 12, 12, 128)  4224        max_pooling2d_2[0][0]            \n",
            "__________________________________________________________________________________________________\n",
            "batch_normalization_6 (BatchNor (None, 12, 12, 128)  512         quaternion_conv2d_6[0][0]        \n",
            "__________________________________________________________________________________________________\n",
            "elu_4 (ELU)                     (None, 12, 12, 128)  0           batch_normalization_6[0][0]      \n",
            "__________________________________________________________________________________________________\n",
            "quaternion_conv2d_7 (Quaternion (None, 12, 12, 128)  4224        elu_4[0][0]                      \n",
            "__________________________________________________________________________________________________\n",
            "batch_normalization_7 (BatchNor (None, 12, 12, 128)  512         quaternion_conv2d_7[0][0]        \n",
            "__________________________________________________________________________________________________\n",
            "elu_5 (ELU)                     (None, 12, 12, 128)  0           batch_normalization_7[0][0]      \n",
            "__________________________________________________________________________________________________\n",
            "quaternion_conv2d_8 (Quaternion (None, 12, 12, 256)  8448        elu_5[0][0]                      \n",
            "__________________________________________________________________________________________________\n",
            "quaternion_conv2d_9 (Quaternion (None, 12, 12, 256)  8448        max_pooling2d_2[0][0]            \n",
            "__________________________________________________________________________________________________\n",
            "batch_normalization_8 (BatchNor (None, 12, 12, 256)  1024        quaternion_conv2d_8[0][0]        \n",
            "__________________________________________________________________________________________________\n",
            "batch_normalization_9 (BatchNor (None, 12, 12, 256)  1024        quaternion_conv2d_9[0][0]        \n",
            "__________________________________________________________________________________________________\n",
            "elu_6 (ELU)                     (None, 12, 12, 256)  0           batch_normalization_8[0][0]      \n",
            "__________________________________________________________________________________________________\n",
            "add_2 (Add)                     (None, 12, 12, 256)  0           batch_normalization_9[0][0]      \n",
            "                                                                 elu_6[0][0]                      \n",
            "__________________________________________________________________________________________________\n",
            "re_lu_3 (ReLU)                  (None, 12, 12, 256)  0           add_2[0][0]                      \n",
            "__________________________________________________________________________________________________\n",
            "max_pooling2d_3 (MaxPooling2D)  (None, 6, 6, 256)    0           re_lu_3[0][0]                    \n",
            "__________________________________________________________________________________________________\n",
            "quaternion_conv2d_10 (Quaternio (None, 6, 6, 256)    16640       max_pooling2d_3[0][0]            \n",
            "__________________________________________________________________________________________________\n",
            "batch_normalization_10 (BatchNo (None, 6, 6, 256)    1024        quaternion_conv2d_10[0][0]       \n",
            "__________________________________________________________________________________________________\n",
            "elu_7 (ELU)                     (None, 6, 6, 256)    0           batch_normalization_10[0][0]     \n",
            "__________________________________________________________________________________________________\n",
            "quaternion_conv2d_11 (Quaternio (None, 6, 6, 256)    16640       elu_7[0][0]                      \n",
            "__________________________________________________________________________________________________\n",
            "batch_normalization_11 (BatchNo (None, 6, 6, 256)    1024        quaternion_conv2d_11[0][0]       \n",
            "__________________________________________________________________________________________________\n",
            "elu_8 (ELU)                     (None, 6, 6, 256)    0           batch_normalization_11[0][0]     \n",
            "__________________________________________________________________________________________________\n",
            "quaternion_conv2d_12 (Quaternio (None, 6, 6, 384)    24960       elu_8[0][0]                      \n",
            "__________________________________________________________________________________________________\n",
            "quaternion_conv2d_13 (Quaternio (None, 6, 6, 384)    24960       max_pooling2d_3[0][0]            \n",
            "__________________________________________________________________________________________________\n",
            "batch_normalization_12 (BatchNo (None, 6, 6, 384)    1536        quaternion_conv2d_12[0][0]       \n",
            "__________________________________________________________________________________________________\n",
            "batch_normalization_13 (BatchNo (None, 6, 6, 384)    1536        quaternion_conv2d_13[0][0]       \n",
            "__________________________________________________________________________________________________\n",
            "elu_9 (ELU)                     (None, 6, 6, 384)    0           batch_normalization_12[0][0]     \n",
            "__________________________________________________________________________________________________\n",
            "add_3 (Add)                     (None, 6, 6, 384)    0           batch_normalization_13[0][0]     \n",
            "                                                                 elu_9[0][0]                      \n",
            "__________________________________________________________________________________________________\n",
            "re_lu_4 (ReLU)                  (None, 6, 6, 384)    0           add_3[0][0]                      \n",
            "__________________________________________________________________________________________________\n",
            "max_pooling2d_4 (MaxPooling2D)  (None, 3, 3, 384)    0           re_lu_4[0][0]                    \n",
            "__________________________________________________________________________________________________\n",
            "quaternion_conv2d_14 (Quaternio (None, 3, 3, 384)    37248       max_pooling2d_4[0][0]            \n",
            "__________________________________________________________________________________________________\n",
            "batch_normalization_14 (BatchNo (None, 3, 3, 384)    1536        quaternion_conv2d_14[0][0]       \n",
            "__________________________________________________________________________________________________\n",
            "elu_10 (ELU)                    (None, 3, 3, 384)    0           batch_normalization_14[0][0]     \n",
            "__________________________________________________________________________________________________\n",
            "quaternion_conv2d_15 (Quaternio (None, 3, 3, 384)    37248       elu_10[0][0]                     \n",
            "__________________________________________________________________________________________________\n",
            "batch_normalization_15 (BatchNo (None, 3, 3, 384)    1536        quaternion_conv2d_15[0][0]       \n",
            "__________________________________________________________________________________________________\n",
            "elu_11 (ELU)                    (None, 3, 3, 384)    0           batch_normalization_15[0][0]     \n",
            "__________________________________________________________________________________________________\n",
            "quaternion_conv2d_16 (Quaternio (None, 3, 3, 512)    49664       elu_11[0][0]                     \n",
            "__________________________________________________________________________________________________\n",
            "quaternion_conv2d_17 (Quaternio (None, 3, 3, 512)    49664       max_pooling2d_4[0][0]            \n",
            "__________________________________________________________________________________________________\n",
            "batch_normalization_16 (BatchNo (None, 3, 3, 512)    2048        quaternion_conv2d_16[0][0]       \n",
            "__________________________________________________________________________________________________\n",
            "batch_normalization_17 (BatchNo (None, 3, 3, 512)    2048        quaternion_conv2d_17[0][0]       \n",
            "__________________________________________________________________________________________________\n",
            "elu_12 (ELU)                    (None, 3, 3, 512)    0           batch_normalization_16[0][0]     \n",
            "__________________________________________________________________________________________________\n",
            "add_4 (Add)                     (None, 3, 3, 512)    0           batch_normalization_17[0][0]     \n",
            "                                                                 elu_12[0][0]                     \n",
            "__________________________________________________________________________________________________\n",
            "re_lu_5 (ReLU)                  (None, 3, 3, 512)    0           add_4[0][0]                      \n",
            "__________________________________________________________________________________________________\n",
            "max_pooling2d_5 (MaxPooling2D)  (None, 1, 1, 512)    0           re_lu_5[0][0]                    \n",
            "__________________________________________________________________________________________________\n",
            "global_average_pooling2d_1 (Glo (None, 512)          0           max_pooling2d_5[0][0]            \n",
            "__________________________________________________________________________________________________\n",
            "dense_1 (Dense)                 (None, 512)          262656      global_average_pooling2d_1[0][0] \n",
            "__________________________________________________________________________________________________\n",
            "dropout_1 (Dropout)             (None, 512)          0           dense_1[0][0]                    \n",
            "__________________________________________________________________________________________________\n",
            "dense_2 (Dense)                 (None, 1)            513         dropout_1[0][0]                  \n",
            "==================================================================================================\n",
            "Total params: 569,345\n",
            "Trainable params: 560,769\n",
            "Non-trainable params: 8,576\n",
            "__________________________________________________________________________________________________\n"
          ]
        }
      ]
    },
    {
      "cell_type": "code",
      "source": [
        "import numpy as np"
      ],
      "metadata": {
        "id": "p1sr26ZfztRy"
      },
      "execution_count": null,
      "outputs": []
    },
    {
      "cell_type": "code",
      "source": [
        " np.save('bcq.npy',history.history)"
      ],
      "metadata": {
        "id": "g8EpqZNEzJWI"
      },
      "execution_count": 83,
      "outputs": []
    },
    {
      "cell_type": "code",
      "source": [
        "history.history"
      ],
      "metadata": {
        "colab": {
          "base_uri": "https://localhost:8080/"
        },
        "id": "h2FB-3bw5ssK",
        "outputId": "4934ab42-651c-4ff4-d612-68194db0b57f"
      },
      "execution_count": 84,
      "outputs": [
        {
          "output_type": "execute_result",
          "data": {
            "text/plain": [
              "{'acc': [0.8411458333333334,\n",
              "  0.90234375,\n",
              "  0.9233940972222222,\n",
              "  0.9292534722222222,\n",
              "  0.9409722222222222,\n",
              "  0.9479166666666666,\n",
              "  0.9552951388888888,\n",
              "  0.9637586805555556,\n",
              "  0.9704861111111112,\n",
              "  0.9737413194444444,\n",
              "  0.9659288194444444,\n",
              "  0.9694010416666666,\n",
              "  0.9702690972222222,\n",
              "  0.9717881944444444,\n",
              "  0.9626736111111112,\n",
              "  0.9756944444444444,\n",
              "  0.9809027777777778,\n",
              "  0.982421875,\n",
              "  0.9819878472222222,\n",
              "  0.9815538194444444,\n",
              "  0.9809027777777778,\n",
              "  0.9835069444444444,\n",
              "  0.9789496527777778,\n",
              "  0.9830729166666666,\n",
              "  0.9871961805555556,\n",
              "  0.984375,\n",
              "  0.9822048611111112,\n",
              "  0.9861111111111112,\n",
              "  0.9900173611111112,\n",
              "  0.990234375,\n",
              "  0.9971788194444444,\n",
              "  0.9958767361111112,\n",
              "  0.99609375,\n",
              "  0.9969618055555556,\n",
              "  0.998046875,\n",
              "  0.9969618055555556,\n",
              "  0.9991319444444444,\n",
              "  0.9973958333333334,\n",
              "  0.9967447916666666,\n",
              "  0.9978298611111112,\n",
              "  0.9982638888888888,\n",
              "  0.9984809027777778,\n",
              "  0.9963107638888888,\n",
              "  0.9973958333333334,\n",
              "  0.9954427083333334,\n",
              "  0.9947916666666666,\n",
              "  0.9924045138888888,\n",
              "  0.9932725694444444,\n",
              "  0.9947916666666666,\n",
              "  0.9921875],\n",
              " 'f1_m': [0.8847846670283211,\n",
              "  0.9328929897811677,\n",
              "  0.9472192757659488,\n",
              "  0.9513427697949939,\n",
              "  0.9595453242460886,\n",
              "  0.964117760459582,\n",
              "  0.9692079077164332,\n",
              "  0.975378672281901,\n",
              "  0.9796707166565789,\n",
              "  0.9819020628929138,\n",
              "  0.9768272075388167,\n",
              "  0.9789721965789795,\n",
              "  0.9794527010785209,\n",
              "  0.9806545393334495,\n",
              "  0.9743064244588217,\n",
              "  0.9831296536657546,\n",
              "  0.9868860459989972,\n",
              "  0.9877724233600829,\n",
              "  0.9877066959937414,\n",
              "  0.9871340360906389,\n",
              "  0.9868423094352087,\n",
              "  0.9887483219305674,\n",
              "  0.9854872789647844,\n",
              "  0.9882906128962835,\n",
              "  0.99122444457478,\n",
              "  0.9892304009861417,\n",
              "  0.9876953760782877,\n",
              "  0.9903761214680142,\n",
              "  0.9931520935561922,\n",
              "  0.9932320250405205,\n",
              "  0.9980878896183438,\n",
              "  0.9970986313290067,\n",
              "  0.997310017546018,\n",
              "  0.9978364722596275,\n",
              "  0.9986262122790018,\n",
              "  0.9978638026449416,\n",
              "  0.9993892229265637,\n",
              "  0.9981713742017746,\n",
              "  0.9977502309613757,\n",
              "  0.9985414213604398,\n",
              "  0.9988074683480792,\n",
              "  0.9989248149924808,\n",
              "  0.9974767002794478,\n",
              "  0.9982507195737627,\n",
              "  0.9969183388683531,\n",
              "  0.9964161465565363,\n",
              "  0.9948132584492365,\n",
              "  0.9954047037495507,\n",
              "  0.9963626580105888,\n",
              "  0.994642092121972],\n",
              " 'loss': [0.5597092248499393,\n",
              "  0.24919112482004696,\n",
              "  0.19932633224460813,\n",
              "  0.18224782248338064,\n",
              "  0.15619792830612925,\n",
              "  0.13749779988494185,\n",
              "  0.1188805668304364,\n",
              "  0.10690038775404294,\n",
              "  0.07911090532110797,\n",
              "  0.07212495679656665,\n",
              "  0.08084188484483296,\n",
              "  0.07554693401066793,\n",
              "  0.07595317986690336,\n",
              "  0.06923903959492843,\n",
              "  0.09450447300655974,\n",
              "  0.06387500713268916,\n",
              "  0.05225393644327091,\n",
              "  0.048203334781444736,\n",
              "  0.0497665018774569,\n",
              "  0.04911815173303088,\n",
              "  0.051050390543726586,\n",
              "  0.04443836375139654,\n",
              "  0.05037363378020624,\n",
              "  0.04326818426812275,\n",
              "  0.038247369048703045,\n",
              "  0.037643585793880954,\n",
              "  0.044329102028213024,\n",
              "  0.03963709586403436,\n",
              "  0.026773312465391226,\n",
              "  0.027916075286662415,\n",
              "  0.009449634462523844,\n",
              "  0.009992717784674218,\n",
              "  0.00910632083832752,\n",
              "  0.0076538762279799106,\n",
              "  0.00513468721247692,\n",
              "  0.006780119410703062,\n",
              "  0.0023443387658011895,\n",
              "  0.005176358150492888,\n",
              "  0.010027021725869013,\n",
              "  0.006377593908028858,\n",
              "  0.005194835338948501,\n",
              "  0.003920031327046066,\n",
              "  0.010866329629304042,\n",
              "  0.007525464131807287,\n",
              "  0.015119812202303566,\n",
              "  0.015591396241992092,\n",
              "  0.019407909295599286,\n",
              "  0.01747715435986821,\n",
              "  0.013544542650278244,\n",
              "  0.01825219453571157],\n",
              " 'precision_m': [0.8958203047513962,\n",
              "  0.9343156201971902,\n",
              "  0.9458502911859088,\n",
              "  0.9489417241679298,\n",
              "  0.9568426923619376,\n",
              "  0.9589891582727432,\n",
              "  0.9672998603847291,\n",
              "  0.9720589634444978,\n",
              "  0.9765819079346127,\n",
              "  0.9803615808486938,\n",
              "  0.9745923512511783,\n",
              "  0.9754863629738489,\n",
              "  0.9787222858932283,\n",
              "  0.9801246143049664,\n",
              "  0.9740631646580167,\n",
              "  0.9824467086129718,\n",
              "  0.9848945289850235,\n",
              "  0.9871555484003491,\n",
              "  0.9853629287746217,\n",
              "  0.9853145579497019,\n",
              "  0.9862905177805159,\n",
              "  0.9898333979977502,\n",
              "  0.98567695915699,\n",
              "  0.9880261470874151,\n",
              "  0.9915705339776145,\n",
              "  0.9890765034490161,\n",
              "  0.987251857916514,\n",
              "  0.9892625047100915,\n",
              "  0.992362865143352,\n",
              "  0.993482791715198,\n",
              "  0.9974246140983369,\n",
              "  0.9966367665264342,\n",
              "  0.997107618384891,\n",
              "  0.9975166188346015,\n",
              "  0.9978654798534181,\n",
              "  0.9981580989228355,\n",
              "  0.9993688497278426,\n",
              "  0.9987993836402893,\n",
              "  0.9981846577591367,\n",
              "  0.9983054945866267,\n",
              "  0.9991392294565836,\n",
              "  0.9984800898366504,\n",
              "  0.9968264649311701,\n",
              "  0.9982794059647454,\n",
              "  0.9962078813049529,\n",
              "  0.9961506161424849,\n",
              "  0.9940155744552612,\n",
              "  0.9955388423469331,\n",
              "  0.9957781732082367,\n",
              "  0.9948959019449022],\n",
              " 'recall_m': [0.8947042860090733,\n",
              "  0.9339453412426842,\n",
              "  0.9502551870213615,\n",
              "  0.9552053246233199,\n",
              "  0.9636209143532647,\n",
              "  0.9702344685792923,\n",
              "  0.971964923871888,\n",
              "  0.979425859120157,\n",
              "  0.9831474936670728,\n",
              "  0.9840063452720642,\n",
              "  0.9798716240459018,\n",
              "  0.9831113467613856,\n",
              "  0.9806759059429169,\n",
              "  0.9817881964974933,\n",
              "  0.9760036021471024,\n",
              "  0.9845084100961685,\n",
              "  0.9891545093721814,\n",
              "  0.988601932922999,\n",
              "  0.9902963737646738,\n",
              "  0.9892584797408845,\n",
              "  0.9876968479818768,\n",
              "  0.9878014806244109,\n",
              "  0.9856271263625886,\n",
              "  0.9888474924696816,\n",
              "  0.9910564521948496,\n",
              "  0.9896980656517876,\n",
              "  0.9885267946455214,\n",
              "  0.9917459239562353,\n",
              "  0.994040396478441,\n",
              "  0.9931262218289905,\n",
              "  0.9987714621755812,\n",
              "  0.9975953665044572,\n",
              "  0.9975552790694766,\n",
              "  0.9981890883710649,\n",
              "  0.9994020048114989,\n",
              "  0.9976030041774114,\n",
              "  0.9994163297944598,\n",
              "  0.9975631253586875,\n",
              "  0.9973439938492246,\n",
              "  0.99879523118337,\n",
              "  0.9984919412268533,\n",
              "  0.9993847327099906,\n",
              "  0.9981696936819289,\n",
              "  0.9982516434457567,\n",
              "  0.9976705445183648,\n",
              "  0.996713227695889,\n",
              "  0.9956772840685315,\n",
              "  0.9953332228793038,\n",
              "  0.9969960136546029,\n",
              "  0.9944827589723799],\n",
              " 'val_acc': [0.5208333333333334,\n",
              "  0.5520833333333334,\n",
              "  0.7135416666666666,\n",
              "  0.8854166666666666,\n",
              "  0.8055555555555556,\n",
              "  0.6944444444444444,\n",
              "  0.7170138888888888,\n",
              "  0.8715277777777778,\n",
              "  0.8506944444444444,\n",
              "  0.8524305555555556,\n",
              "  0.7708333333333334,\n",
              "  0.9270833333333334,\n",
              "  0.7534722222222222,\n",
              "  0.7690972222222222,\n",
              "  0.6423611111111112,\n",
              "  0.7638888888888888,\n",
              "  0.9166666666666666,\n",
              "  0.8819444444444444,\n",
              "  0.9288194444444444,\n",
              "  0.7291666666666666,\n",
              "  0.9236111111111112,\n",
              "  0.9288194444444444,\n",
              "  0.9322916666666666,\n",
              "  0.9322916666666666,\n",
              "  0.9010416666666666,\n",
              "  0.9409722222222222,\n",
              "  0.8993055555555556,\n",
              "  0.9340277777777778,\n",
              "  0.8541666666666666,\n",
              "  0.9149305555555556,\n",
              "  0.890625,\n",
              "  0.8784722222222222,\n",
              "  0.8993055555555556,\n",
              "  0.921875,\n",
              "  0.921875,\n",
              "  0.9288194444444444,\n",
              "  0.9253472222222222,\n",
              "  0.9027777777777778,\n",
              "  0.9236111111111112,\n",
              "  0.9288194444444444,\n",
              "  0.9236111111111112,\n",
              "  0.875,\n",
              "  0.8836805555555556,\n",
              "  0.9184027777777778,\n",
              "  0.9184027777777778,\n",
              "  0.9392361111111112,\n",
              "  0.9201388888888888,\n",
              "  0.890625,\n",
              "  0.9340277777777778,\n",
              "  0.9114583333333334],\n",
              " 'val_f1_m': [0.5301814509762658,\n",
              "  0.576503896050983,\n",
              "  0.7678072386317782,\n",
              "  0.9192781448364258,\n",
              "  0.8535989854070876,\n",
              "  0.7464517222510444,\n",
              "  0.7707319392098321,\n",
              "  0.908117413520813,\n",
              "  0.8922086159388224,\n",
              "  0.8923488325542874,\n",
              "  0.8211925559573703,\n",
              "  0.9514419304000007,\n",
              "  0.8054904010560777,\n",
              "  0.82376586066352,\n",
              "  0.6880262957678901,\n",
              "  0.8146610657374064,\n",
              "  0.9436162975099351,\n",
              "  0.9160979721281264,\n",
              "  0.9526128901375664,\n",
              "  0.7816433972782559,\n",
              "  0.9491191042794122,\n",
              "  0.9530677199363708,\n",
              "  0.9559266169865926,\n",
              "  0.9546472430229187,\n",
              "  0.9319516486591763,\n",
              "  0.9619445469644334,\n",
              "  0.9305374754799737,\n",
              "  0.957168698310852,\n",
              "  0.8952464196417067,\n",
              "  0.942671987745497,\n",
              "  0.9225849045647515,\n",
              "  0.9145387874709235,\n",
              "  0.9304181204901801,\n",
              "  0.9465286334355673,\n",
              "  0.9468025697602166,\n",
              "  0.9521001577377319,\n",
              "  0.9500723150041368,\n",
              "  0.9333245952924093,\n",
              "  0.9494291345278422,\n",
              "  0.9532537195417616,\n",
              "  0.948523587650723,\n",
              "  0.9124885532591078,\n",
              "  0.9177230265405443,\n",
              "  0.9449011153644986,\n",
              "  0.9456750022040473,\n",
              "  0.9606239795684814,\n",
              "  0.9468046824137369,\n",
              "  0.923783110247718,\n",
              "  0.9569309221373664,\n",
              "  0.9397220677799649],\n",
              " 'val_loss': [1.0146914389398363,\n",
              "  1.0183312230639987,\n",
              "  0.6776588360468546,\n",
              "  0.25236007736788857,\n",
              "  0.4711379243267907,\n",
              "  0.7313491966989305,\n",
              "  0.6568715241220262,\n",
              "  0.3234177711937163,\n",
              "  0.4670221640004052,\n",
              "  0.4921138882637024,\n",
              "  0.6684902707735697,\n",
              "  0.25359879516892964,\n",
              "  0.7711503903071085,\n",
              "  0.783529433939192,\n",
              "  1.2056460711691115,\n",
              "  0.9557212988535563,\n",
              "  0.3193274372153812,\n",
              "  0.3882446636756261,\n",
              "  0.22902514309518868,\n",
              "  0.9621610045433044,\n",
              "  0.27518533832497066,\n",
              "  0.3274102873272366,\n",
              "  0.3122725652323829,\n",
              "  0.23785365372896194,\n",
              "  0.40465989460547763,\n",
              "  0.3798075480412485,\n",
              "  0.354709741142061,\n",
              "  0.3485180655908253,\n",
              "  0.6061263812912835,\n",
              "  0.3515501245856285,\n",
              "  0.5421984824869368,\n",
              "  0.6704658468564352,\n",
              "  0.5014953745736016,\n",
              "  0.4416307070189052,\n",
              "  0.47694307565689087,\n",
              "  0.4516785624954436,\n",
              "  0.4594072600205739,\n",
              "  0.6549569103452895,\n",
              "  0.4243979487154219,\n",
              "  0.3772621990905868,\n",
              "  0.450112071302202,\n",
              "  0.8213365111086104,\n",
              "  0.8228671749432882,\n",
              "  0.4526454508304596,\n",
              "  0.3725665012995402,\n",
              "  0.4162803866590063,\n",
              "  0.42064470301071805,\n",
              "  0.5784720215532515,\n",
              "  0.36812520109944874,\n",
              "  0.5211432427167892],\n",
              " 'val_precision_m': [1.0,\n",
              "  0.9881730477015177,\n",
              "  0.9755219883388944,\n",
              "  0.96495031648212,\n",
              "  0.9792822466956245,\n",
              "  0.9888742831018236,\n",
              "  0.9856126639578078,\n",
              "  0.9788629942470126,\n",
              "  0.9756521450148689,\n",
              "  0.986828002664778,\n",
              "  0.9876945747269524,\n",
              "  0.9502202537324693,\n",
              "  0.980542884932624,\n",
              "  0.9690328240394592,\n",
              "  0.9914021160867479,\n",
              "  0.9781164328257242,\n",
              "  0.9601571096314324,\n",
              "  0.9718624552090963,\n",
              "  0.9457822309599982,\n",
              "  0.986848407321506,\n",
              "  0.957334213786655,\n",
              "  0.9398068653212653,\n",
              "  0.934942881266276,\n",
              "  0.9566927684677972,\n",
              "  0.9592901004685296,\n",
              "  0.9416938490337796,\n",
              "  0.9632757372326322,\n",
              "  0.9354844888051351,\n",
              "  0.9736184544033475,\n",
              "  0.9598405692312453,\n",
              "  0.9756124019622803,\n",
              "  0.9676503671540154,\n",
              "  0.9664174384540982,\n",
              "  0.9660664399464926,\n",
              "  0.974104642868042,\n",
              "  0.9649617407057021,\n",
              "  0.9568949672910902,\n",
              "  0.9642399350802103,\n",
              "  0.9529661536216736,\n",
              "  0.947150813208686,\n",
              "  0.9611757530106438,\n",
              "  0.9684042400783963,\n",
              "  0.9776531590355767,\n",
              "  0.9610025882720947,\n",
              "  0.9477337532573276,\n",
              "  0.9354816211594476,\n",
              "  0.9478681286176046,\n",
              "  0.969529304239485,\n",
              "  0.9429732428656684,\n",
              "  0.9584158460299174],\n",
              " 'val_recall_m': [0.362594207127889,\n",
              "  0.4082382983631558,\n",
              "  0.6349235441949632,\n",
              "  0.879192054271698,\n",
              "  0.7579014367527432,\n",
              "  0.6019622551070319,\n",
              "  0.6339435444937812,\n",
              "  0.8476299908426073,\n",
              "  0.8231125275293986,\n",
              "  0.8161706063482497,\n",
              "  0.7049572931395637,\n",
              "  0.954382578531901,\n",
              "  0.6862642301453484,\n",
              "  0.7191730274094476,\n",
              "  0.5280797812673781,\n",
              "  0.7021851076020135,\n",
              "  0.9285908142725626,\n",
              "  0.8675221602121989,\n",
              "  0.9607903560002645,\n",
              "  0.6498202946450975,\n",
              "  0.9425864881939359,\n",
              "  0.9678254789776273,\n",
              "  0.9795061151186625,\n",
              "  0.9539675580130683,\n",
              "  0.9071294003062778,\n",
              "  0.9840681685341729,\n",
              "  0.9007374379369948,\n",
              "  0.9813817275895013,\n",
              "  0.8296627468532987,\n",
              "  0.9266716241836548,\n",
              "  0.8774645196066962,\n",
              "  0.8683583868874444,\n",
              "  0.8986320429378085,\n",
              "  0.9281652834680345,\n",
              "  0.9221945603688558,\n",
              "  0.9404245681232877,\n",
              "  0.9446152382426791,\n",
              "  0.9062656693988376,\n",
              "  0.9469529324107699,\n",
              "  0.9604302446047465,\n",
              "  0.9374283154805502,\n",
              "  0.8644024001227485,\n",
              "  0.8660629259215461,\n",
              "  0.930626822842492,\n",
              "  0.9448496765560574,\n",
              "  0.9884612229135301,\n",
              "  0.9470207426283095,\n",
              "  0.8825675116644965,\n",
              "  0.9727904200553894,\n",
              "  0.9234372840987312]}"
            ]
          },
          "metadata": {},
          "execution_count": 84
        }
      ]
    },
    {
      "cell_type": "code",
      "source": [
        "import pandas as pd\n",
        "\n",
        "\n",
        "\n",
        "# convert the history.history dict to a pandas DataFrame:     \n",
        "hist_df = pd.DataFrame(history.history) \n",
        "\n",
        "# save to json:  \n",
        "hist_json_file = 'history.json' \n",
        "with open(hist_json_file, mode='w') as f:\n",
        "    hist_df.to_json(f)\n",
        "\n",
        "# or save to csv: \n",
        "hist_csv_file = 'history.csv'\n",
        "with open(hist_csv_file, mode='w') as f:\n",
        "    hist_df.to_csv(f)"
      ],
      "metadata": {
        "id": "yBW4NQIaOaIU"
      },
      "execution_count": 39,
      "outputs": []
    },
    {
      "cell_type": "code",
      "source": [
        "def plot_metrics(history):\n",
        "    \n",
        "    fig = plt.gcf()\n",
        "    fig.set_size_inches(20, 3 * 4)\n",
        "\n",
        "    metrics = ['roc','accuracy','loss', 'prc', 'precision', 'recall']\n",
        "    for n, metric in enumerate(metrics):\n",
        "        lims = {'loss': {0,2}}\n",
        "        name = metric.replace(\"_\",\" \").capitalize()\n",
        "        sp = plt.subplot(2, 3, n + 1)\n",
        "        plt.plot(history.epoch, history.history[metric], color='C0', label='Train')\n",
        "        plt.plot(history.epoch, history.history['val_'+metric],\n",
        "                 color='C1', linestyle=\"--\", label='Val')\n",
        "        plt.xlabel('Epoch')\n",
        "        plt.ylabel(name)\n",
        "        if metric in lims:\n",
        "            plt.ylim(lims[metric])\n",
        "\n",
        "        plt.legend()"
      ],
      "metadata": {
        "id": "TQXuv1mwAw04"
      },
      "execution_count": 42,
      "outputs": []
    },
    {
      "cell_type": "code",
      "metadata": {
        "id": "JLEW_7vM0iPQ"
      },
      "source": [
        "print(history.history.keys())"
      ],
      "execution_count": null,
      "outputs": []
    },
    {
      "cell_type": "code",
      "source": [
        "# serialize model to JSON\n",
        "model_json = model.to_json()\n",
        "with open(\"model.json\", \"w\") as json_file:             \n",
        "     json_file.write(model_json) \n",
        "\n",
        "# serialize weights to HDF5\n",
        "model.save_weights(\"model.h5\")\n",
        "print(\"Saved model to disk\")"
      ],
      "metadata": {
        "colab": {
          "base_uri": "https://localhost:8080/",
          "height": 396
        },
        "id": "hYUIubSn7EHj",
        "outputId": "5f705b4b-decc-4b02-fde9-611f35b2ab70"
      },
      "execution_count": 88,
      "outputs": [
        {
          "output_type": "error",
          "ename": "NameError",
          "evalue": "ignored",
          "traceback": [
            "\u001b[0;31m---------------------------------------------------------------------------\u001b[0m",
            "\u001b[0;31mNameError\u001b[0m                                 Traceback (most recent call last)",
            "\u001b[0;32m<ipython-input-88-0c4d52e14e10>\u001b[0m in \u001b[0;36m<module>\u001b[0;34m()\u001b[0m\n\u001b[1;32m      1\u001b[0m \u001b[0;31m# serialize model to JSON\u001b[0m\u001b[0;34m\u001b[0m\u001b[0;34m\u001b[0m\u001b[0;34m\u001b[0m\u001b[0m\n\u001b[0;32m----> 2\u001b[0;31m \u001b[0mmodel_json\u001b[0m \u001b[0;34m=\u001b[0m \u001b[0mmodel\u001b[0m\u001b[0;34m.\u001b[0m\u001b[0mto_json\u001b[0m\u001b[0;34m(\u001b[0m\u001b[0;34m)\u001b[0m\u001b[0;34m\u001b[0m\u001b[0;34m\u001b[0m\u001b[0m\n\u001b[0m\u001b[1;32m      3\u001b[0m \u001b[0;32mwith\u001b[0m \u001b[0mopen\u001b[0m\u001b[0;34m(\u001b[0m\u001b[0;34m\"model.json\"\u001b[0m\u001b[0;34m,\u001b[0m \u001b[0;34m\"w\"\u001b[0m\u001b[0;34m)\u001b[0m \u001b[0;32mas\u001b[0m \u001b[0mjson_file\u001b[0m\u001b[0;34m:\u001b[0m\u001b[0;34m\u001b[0m\u001b[0;34m\u001b[0m\u001b[0m\n\u001b[1;32m      4\u001b[0m      \u001b[0mjson_file\u001b[0m\u001b[0;34m.\u001b[0m\u001b[0mwrite\u001b[0m\u001b[0;34m(\u001b[0m\u001b[0mmodel_json\u001b[0m\u001b[0;34m)\u001b[0m\u001b[0;34m\u001b[0m\u001b[0;34m\u001b[0m\u001b[0m\n\u001b[1;32m      5\u001b[0m \u001b[0;34m\u001b[0m\u001b[0m\n",
            "\u001b[0;32m/usr/local/lib/python3.7/dist-packages/keras/engine/network.py\u001b[0m in \u001b[0;36mto_json\u001b[0;34m(self, **kwargs)\u001b[0m\n\u001b[1;32m   1210\u001b[0m             \u001b[0;32mraise\u001b[0m \u001b[0mTypeError\u001b[0m\u001b[0;34m(\u001b[0m\u001b[0;34m'Not JSON Serializable:'\u001b[0m\u001b[0;34m,\u001b[0m \u001b[0mobj\u001b[0m\u001b[0;34m)\u001b[0m\u001b[0;34m\u001b[0m\u001b[0;34m\u001b[0m\u001b[0m\n\u001b[1;32m   1211\u001b[0m \u001b[0;34m\u001b[0m\u001b[0m\n\u001b[0;32m-> 1212\u001b[0;31m         \u001b[0mmodel_config\u001b[0m \u001b[0;34m=\u001b[0m \u001b[0mself\u001b[0m\u001b[0;34m.\u001b[0m\u001b[0m_updated_config\u001b[0m\u001b[0;34m(\u001b[0m\u001b[0;34m)\u001b[0m\u001b[0;34m\u001b[0m\u001b[0;34m\u001b[0m\u001b[0m\n\u001b[0m\u001b[1;32m   1213\u001b[0m         \u001b[0;32mreturn\u001b[0m \u001b[0mjson\u001b[0m\u001b[0;34m.\u001b[0m\u001b[0mdumps\u001b[0m\u001b[0;34m(\u001b[0m\u001b[0mmodel_config\u001b[0m\u001b[0;34m,\u001b[0m \u001b[0mdefault\u001b[0m\u001b[0;34m=\u001b[0m\u001b[0mget_json_type\u001b[0m\u001b[0;34m,\u001b[0m \u001b[0;34m**\u001b[0m\u001b[0mkwargs\u001b[0m\u001b[0;34m)\u001b[0m\u001b[0;34m\u001b[0m\u001b[0;34m\u001b[0m\u001b[0m\n\u001b[1;32m   1214\u001b[0m \u001b[0;34m\u001b[0m\u001b[0m\n",
            "\u001b[0;32m/usr/local/lib/python3.7/dist-packages/keras/engine/network.py\u001b[0m in \u001b[0;36m_updated_config\u001b[0;34m(self)\u001b[0m\n\u001b[1;32m   1174\u001b[0m         \u001b[0;32mfrom\u001b[0m \u001b[0;34m.\u001b[0m\u001b[0;34m.\u001b[0m \u001b[0;32mimport\u001b[0m \u001b[0m__version__\u001b[0m \u001b[0;32mas\u001b[0m \u001b[0mkeras_version\u001b[0m\u001b[0;34m\u001b[0m\u001b[0;34m\u001b[0m\u001b[0m\n\u001b[1;32m   1175\u001b[0m \u001b[0;34m\u001b[0m\u001b[0m\n\u001b[0;32m-> 1176\u001b[0;31m         \u001b[0mconfig\u001b[0m \u001b[0;34m=\u001b[0m \u001b[0mself\u001b[0m\u001b[0;34m.\u001b[0m\u001b[0mget_config\u001b[0m\u001b[0;34m(\u001b[0m\u001b[0;34m)\u001b[0m\u001b[0;34m\u001b[0m\u001b[0;34m\u001b[0m\u001b[0m\n\u001b[0m\u001b[1;32m   1177\u001b[0m         model_config = {\n\u001b[1;32m   1178\u001b[0m             \u001b[0;34m'class_name'\u001b[0m\u001b[0;34m:\u001b[0m \u001b[0mself\u001b[0m\u001b[0;34m.\u001b[0m\u001b[0m__class__\u001b[0m\u001b[0;34m.\u001b[0m\u001b[0m__name__\u001b[0m\u001b[0;34m,\u001b[0m\u001b[0;34m\u001b[0m\u001b[0;34m\u001b[0m\u001b[0m\n",
            "\u001b[0;32m/usr/local/lib/python3.7/dist-packages/keras/engine/network.py\u001b[0m in \u001b[0;36mget_config\u001b[0;34m(self)\u001b[0m\n\u001b[1;32m    858\u001b[0m         \u001b[0;32mfor\u001b[0m \u001b[0mlayer\u001b[0m \u001b[0;32min\u001b[0m \u001b[0mself\u001b[0m\u001b[0;34m.\u001b[0m\u001b[0mlayers\u001b[0m\u001b[0;34m:\u001b[0m  \u001b[0;31m# From the earliest layers on.\u001b[0m\u001b[0;34m\u001b[0m\u001b[0;34m\u001b[0m\u001b[0m\n\u001b[1;32m    859\u001b[0m             \u001b[0mlayer_class_name\u001b[0m \u001b[0;34m=\u001b[0m \u001b[0mlayer\u001b[0m\u001b[0;34m.\u001b[0m\u001b[0m__class__\u001b[0m\u001b[0;34m.\u001b[0m\u001b[0m__name__\u001b[0m\u001b[0;34m\u001b[0m\u001b[0;34m\u001b[0m\u001b[0m\n\u001b[0;32m--> 860\u001b[0;31m             \u001b[0mlayer_config\u001b[0m \u001b[0;34m=\u001b[0m \u001b[0mlayer\u001b[0m\u001b[0;34m.\u001b[0m\u001b[0mget_config\u001b[0m\u001b[0;34m(\u001b[0m\u001b[0;34m)\u001b[0m\u001b[0;34m\u001b[0m\u001b[0;34m\u001b[0m\u001b[0m\n\u001b[0m\u001b[1;32m    861\u001b[0m             \u001b[0mfiltered_inbound_nodes\u001b[0m \u001b[0;34m=\u001b[0m \u001b[0;34m[\u001b[0m\u001b[0;34m]\u001b[0m\u001b[0;34m\u001b[0m\u001b[0;34m\u001b[0m\u001b[0m\n\u001b[1;32m    862\u001b[0m             \u001b[0;32mfor\u001b[0m \u001b[0moriginal_node_index\u001b[0m\u001b[0;34m,\u001b[0m \u001b[0mnode\u001b[0m \u001b[0;32min\u001b[0m \u001b[0menumerate\u001b[0m\u001b[0;34m(\u001b[0m\u001b[0mlayer\u001b[0m\u001b[0;34m.\u001b[0m\u001b[0m_inbound_nodes\u001b[0m\u001b[0;34m)\u001b[0m\u001b[0;34m:\u001b[0m\u001b[0;34m\u001b[0m\u001b[0;34m\u001b[0m\u001b[0m\n",
            "\u001b[0;32m/content/complexnn/conv.py\u001b[0m in \u001b[0;36mget_config\u001b[0;34m(self)\u001b[0m\n\u001b[1;32m    654\u001b[0m \u001b[0;34m\u001b[0m\u001b[0m\n\u001b[1;32m    655\u001b[0m     \u001b[0;32mdef\u001b[0m \u001b[0mget_config\u001b[0m\u001b[0;34m(\u001b[0m\u001b[0mself\u001b[0m\u001b[0;34m)\u001b[0m\u001b[0;34m:\u001b[0m\u001b[0;34m\u001b[0m\u001b[0;34m\u001b[0m\u001b[0m\n\u001b[0;32m--> 656\u001b[0;31m         \u001b[0mconfig\u001b[0m \u001b[0;34m=\u001b[0m \u001b[0msuper\u001b[0m\u001b[0;34m(\u001b[0m\u001b[0mQuaternionConv2D\u001b[0m\u001b[0;34m,\u001b[0m \u001b[0mself\u001b[0m\u001b[0;34m)\u001b[0m\u001b[0;34m.\u001b[0m\u001b[0mget_config\u001b[0m\u001b[0;34m(\u001b[0m\u001b[0;34m)\u001b[0m\u001b[0;34m\u001b[0m\u001b[0;34m\u001b[0m\u001b[0m\n\u001b[0m\u001b[1;32m    657\u001b[0m         \u001b[0mconfig\u001b[0m\u001b[0;34m.\u001b[0m\u001b[0mpop\u001b[0m\u001b[0;34m(\u001b[0m\u001b[0;34m'rank'\u001b[0m\u001b[0;34m)\u001b[0m\u001b[0;34m\u001b[0m\u001b[0;34m\u001b[0m\u001b[0m\n\u001b[1;32m    658\u001b[0m         \u001b[0;32mreturn\u001b[0m \u001b[0mconfig\u001b[0m\u001b[0;34m\u001b[0m\u001b[0;34m\u001b[0m\u001b[0m\n",
            "\u001b[0;32m/content/complexnn/conv.py\u001b[0m in \u001b[0;36mget_config\u001b[0;34m(self)\u001b[0m\n\u001b[1;32m    385\u001b[0m             \u001b[0;34m'normalize_weight'\u001b[0m\u001b[0;34m:\u001b[0m \u001b[0mself\u001b[0m\u001b[0;34m.\u001b[0m\u001b[0mnormalize_weight\u001b[0m\u001b[0;34m,\u001b[0m\u001b[0;34m\u001b[0m\u001b[0;34m\u001b[0m\u001b[0m\n\u001b[1;32m    386\u001b[0m             \u001b[0;34m'kernel_initializer'\u001b[0m\u001b[0;34m:\u001b[0m \u001b[0msanitizedInitSer\u001b[0m\u001b[0;34m(\u001b[0m\u001b[0mself\u001b[0m\u001b[0;34m.\u001b[0m\u001b[0mkernel_initializer\u001b[0m\u001b[0;34m)\u001b[0m\u001b[0;34m,\u001b[0m\u001b[0;34m\u001b[0m\u001b[0;34m\u001b[0m\u001b[0m\n\u001b[0;32m--> 387\u001b[0;31m             \u001b[0;34m'bias_initializer'\u001b[0m\u001b[0;34m:\u001b[0m \u001b[0msanitizedInitSer\u001b[0m\u001b[0;34m(\u001b[0m\u001b[0mself\u001b[0m\u001b[0;34m.\u001b[0m\u001b[0mbias_initializer\u001b[0m\u001b[0;34m)\u001b[0m\u001b[0;34m,\u001b[0m\u001b[0;34m\u001b[0m\u001b[0;34m\u001b[0m\u001b[0m\n\u001b[0m\u001b[1;32m    388\u001b[0m             \u001b[0;34m'gamma_diag_initializer'\u001b[0m\u001b[0;34m:\u001b[0m \u001b[0msanitizedInitSer\u001b[0m\u001b[0;34m(\u001b[0m\u001b[0mself\u001b[0m\u001b[0;34m.\u001b[0m\u001b[0mgamma_diag_initializer\u001b[0m\u001b[0;34m)\u001b[0m\u001b[0;34m,\u001b[0m\u001b[0;34m\u001b[0m\u001b[0;34m\u001b[0m\u001b[0m\n\u001b[1;32m    389\u001b[0m             \u001b[0;34m'gamma_off_initializer'\u001b[0m\u001b[0;34m:\u001b[0m \u001b[0msanitizedInitSer\u001b[0m\u001b[0;34m(\u001b[0m\u001b[0mself\u001b[0m\u001b[0;34m.\u001b[0m\u001b[0mgamma_off_initializer\u001b[0m\u001b[0;34m)\u001b[0m\u001b[0;34m,\u001b[0m\u001b[0;34m\u001b[0m\u001b[0;34m\u001b[0m\u001b[0m\n",
            "\u001b[0;32m/content/complexnn/conv.py\u001b[0m in \u001b[0;36msanitizedInitSer\u001b[0;34m(init)\u001b[0m\n\u001b[1;32m    807\u001b[0m     \u001b[0;32mif\u001b[0m \u001b[0minit\u001b[0m \u001b[0;32min\u001b[0m \u001b[0;34m[\u001b[0m\u001b[0msqrt_init\u001b[0m\u001b[0;34m]\u001b[0m\u001b[0;34m:\u001b[0m\u001b[0;34m\u001b[0m\u001b[0;34m\u001b[0m\u001b[0m\n\u001b[1;32m    808\u001b[0m         \u001b[0;32mreturn\u001b[0m \u001b[0;34m\"sqrt_init\"\u001b[0m\u001b[0;34m\u001b[0m\u001b[0;34m\u001b[0m\u001b[0m\n\u001b[0;32m--> 809\u001b[0;31m     \u001b[0;32melif\u001b[0m \u001b[0minit\u001b[0m \u001b[0;34m==\u001b[0m \u001b[0;34m\"quaternion\"\u001b[0m \u001b[0;32mor\u001b[0m \u001b[0misinstance\u001b[0m\u001b[0;34m(\u001b[0m\u001b[0minit\u001b[0m\u001b[0;34m,\u001b[0m \u001b[0mQuaternionInit\u001b[0m\u001b[0;34m)\u001b[0m\u001b[0;34m:\u001b[0m\u001b[0;34m\u001b[0m\u001b[0;34m\u001b[0m\u001b[0m\n\u001b[0m\u001b[1;32m    810\u001b[0m         \u001b[0;32mreturn\u001b[0m \u001b[0;34m\"quaternion\"\u001b[0m\u001b[0;34m\u001b[0m\u001b[0;34m\u001b[0m\u001b[0m\n\u001b[1;32m    811\u001b[0m     \u001b[0;32melif\u001b[0m \u001b[0minit\u001b[0m \u001b[0;34m==\u001b[0m \u001b[0;34m\"quaternion_independent\"\u001b[0m \u001b[0;32mor\u001b[0m \u001b[0misinstance\u001b[0m\u001b[0;34m(\u001b[0m\u001b[0minit\u001b[0m\u001b[0;34m,\u001b[0m \u001b[0mQuaternionIndependentFilters\u001b[0m\u001b[0;34m)\u001b[0m\u001b[0;34m:\u001b[0m\u001b[0;34m\u001b[0m\u001b[0;34m\u001b[0m\u001b[0m\n",
            "\u001b[0;31mNameError\u001b[0m: name 'QuaternionInit' is not defined"
          ]
        }
      ]
    },
    {
      "cell_type": "code",
      "source": [
        "epochs = [i for i in range(50)]\n",
        "fig , ax = plt.subplots(1,2)\n",
        "train_acc = history.history['acc']\n",
        "train_loss = history.history['loss']\n",
        "val_acc = history.history['val_acc']\n",
        "val_loss = history.history['val_loss']\n",
        "fig.set_size_inches(20,10)\n",
        "\n",
        "ax[0].plot(epochs , train_acc , 'go-' , label = 'Training Accuracy')\n",
        "ax[0].plot(epochs , val_acc , 'ro-' , label = 'Validation Accuracy')\n",
        "ax[0].set_title('Training & Validation Accuracy')\n",
        "ax[0].legend()\n",
        "ax[0].set_xlabel(\"Epochs\")\n",
        "ax[0].set_ylabel(\"Accuracy\")\n",
        "\n",
        "ax[1].plot(epochs , train_loss , 'g-o' , label = 'Training Loss')\n",
        "ax[1].plot(epochs , val_loss , 'r-o' , label = 'Validation Loss')\n",
        "ax[1].set_title('Testing Accuracy & Loss')\n",
        "ax[1].legend()\n",
        "ax[1].set_xlabel(\"Epochs\")\n",
        "ax[1].set_ylabel(\"Training & Validation Loss\")\n",
        "plt.show()"
      ],
      "metadata": {
        "id": "XkJsMpXpBLAQ",
        "colab": {
          "base_uri": "https://localhost:8080/",
          "height": 441
        },
        "outputId": "b845c464-15f0-4f7c-efa3-d633a482ece3"
      },
      "execution_count": 47,
      "outputs": [
        {
          "output_type": "display_data",
          "data": {
            "image/png": "[encoded data removed]",
            "text/plain": [
              "<Figure size 1440x720 with 2 Axes>"
            ]
          },
          "metadata": {
            "needs_background": "light"
          }
        }
      ]
    },
    {
      "cell_type": "code",
      "source": [
        "epochs = [i for i in range(50)]\n",
        "fig , ax = plt.subplots(1,2)\n",
        "train_precision_m = history.history['precision_m']\n",
        "train_recall_m = history.history['recall_m']\n",
        "val_precision_m = history.history['val_precision_m']\n",
        "val_recall_m = history.history['val_recall_m']\n",
        "fig.set_size_inches(20,10)\n",
        "\n",
        "ax[0].plot(epochs , train_precision_m , 'go-' , label = 'Training precision_m')\n",
        "ax[0].plot(epochs , val_precision_m , 'ro-' , label = 'Validation precision_my')\n",
        "ax[0].set_title('Training & Validation precision')\n",
        "ax[0].legend()\n",
        "ax[0].set_xlabel(\"Epochs\")\n",
        "ax[0].set_ylabel(\"precsion\")\n",
        "\n",
        "ax[1].plot(epochs , train_recall_m , 'g-o' , label = 'Training recall_m')\n",
        "ax[1].plot(epochs , val_recall_m , 'r-o' , label = 'Validation recall_m')\n",
        "ax[1].set_title('Testing Accuracy & recall_m')\n",
        "ax[1].legend()\n",
        "ax[1].set_xlabel(\"Epochs\")\n",
        "ax[1].set_ylabel(\"Training & Validation recall_m\")\n",
        "plt.show()"
      ],
      "metadata": {
        "colab": {
          "base_uri": "https://localhost:8080/",
          "height": 445
        },
        "id": "JN-CPmTK8DIc",
        "outputId": "fbab1ce1-7b43-46f8-c4fd-6d314d16fb2c"
      },
      "execution_count": 95,
      "outputs": [
        {
          "output_type": "display_data",
          "data": {
            "image/png": "[encoded data removed]",
            "text/plain": [
              "<Figure size 1440x720 with 2 Axes>"
            ]
          },
          "metadata": {}
        }
      ]
    },
    {
      "cell_type": "code",
      "source": [
        "epochs = [i for i in range(50)]\n",
        "fig , ax = plt.subplots(1,2)\n",
        "train_f1_m = history.history['f1_m']\n",
        "\n",
        "val_f1_m = history.history['val_f1_m']\n",
        "\n",
        "fig.set_size_inches(20,10)\n",
        "\n",
        "ax[0].plot(epochs , train_f1_m , 'go-' , label = 'Training f1_m')\n",
        "ax[0].plot(epochs , val_f1_m , 'ro-' , label = 'Validation f1_m')\n",
        "ax[0].set_title('Training & Validation f1_m')\n",
        "ax[0].legend()\n",
        "ax[0].set_xlabel(\"Epochs\")\n",
        "ax[0].set_ylabel(\"f1_m\")\n",
        "\n",
        "\n",
        "plt.show()"
      ],
      "metadata": {
        "colab": {
          "base_uri": "https://localhost:8080/",
          "height": 444
        },
        "id": "bucbVOL-_d5q",
        "outputId": "26984794-f0af-4bf7-d3e4-3c481185c6f0"
      },
      "execution_count": 96,
      "outputs": [
        {
          "output_type": "display_data",
          "data": {
            "image/png": "[encoded data removed]",
            "text/plain": [
              "<Figure size 1440x720 with 2 Axes>"
            ]
          },
          "metadata": {}
        }
      ]
    },
    {
      "cell_type": "code",
      "source": [
        ""
      ],
      "metadata": {
        "colab": {
          "base_uri": "https://localhost:8080/",
          "height": 171
        },
        "id": "BTOqZNmg75wr",
        "outputId": "2d25aae1-41c0-4b80-daee-c038c294b204"
      },
      "execution_count": 90,
      "outputs": [
        {
          "output_type": "error",
          "ename": "NameError",
          "evalue": "ignored",
          "traceback": [
            "\u001b[0;31m---------------------------------------------------------------------------\u001b[0m",
            "\u001b[0;31mNameError\u001b[0m                                 Traceback (most recent call last)",
            "\u001b[0;32m<ipython-input-90-0ac08b9eada6>\u001b[0m in \u001b[0;36m<module>\u001b[0;34m()\u001b[0m\n\u001b[0;32m----> 1\u001b[0;31m \u001b[0mhistory\u001b[0m\u001b[0;34m.\u001b[0m\u001b[0mhistory\u001b[0m\u001b[0;34m(\u001b[0m\u001b[0mkeys\u001b[0m\u001b[0;34m)\u001b[0m\u001b[0;34m\u001b[0m\u001b[0;34m\u001b[0m\u001b[0m\n\u001b[0m",
            "\u001b[0;31mNameError\u001b[0m: name 'keys' is not defined"
          ]
        }
      ]
    },
    {
      "cell_type": "code",
      "metadata": {
        "id": "hPFYD1H7psfz",
        "colab": {
          "base_uri": "https://localhost:8080/",
          "height": 611
        },
        "outputId": "ed7ce38b-4ce3-462b-9342-fec376192691"
      },
      "source": [
        "# tensorboard logs \n",
        "print(history.history.keys())\n",
        "#  \"Accuracy\"\n",
        "plt.plot(history.history['acc'])\n",
        "plt.plot(history.history['val_acc'])\n",
        "plt.title('model accuracy')\n",
        "plt.ylabel('accuracy')\n",
        "plt.xlabel('epoch')\n",
        "plt.legend(['train', 'validation'], loc='upper left')\n",
        "plt.show()\n",
        "# \"Loss\"\n",
        "plt.plot(history.history['loss'])\n",
        "plt.plot(history.history['val_loss'])\n",
        "plt.title('model loss')\n",
        "plt.ylabel('loss')\n",
        "plt.xlabel('epoch')\n",
        "plt.legend(['train', 'validation'], loc='upper left')\n",
        "plt.show()"
      ],
      "execution_count": 48,
      "outputs": [
        {
          "output_type": "stream",
          "name": "stdout",
          "text": [
            "dict_keys(['val_loss', 'val_acc', 'val_precision_m', 'val_recall_m', 'val_f1_m', 'loss', 'acc', 'precision_m', 'recall_m', 'f1_m'])\n"
          ]
        },
        {
          "output_type": "display_data",
          "data": {
            "image/png": "[encoded data removed]",
            "text/plain": [
              "<Figure size 432x288 with 1 Axes>"
            ]
          },
          "metadata": {
            "needs_background": "light"
          }
        },
        {
          "output_type": "display_data",
          "data": {
            "image/png": "[encoded data removed]",
            "text/plain": [
              "<Figure size 432x288 with 1 Axes>"
            ]
          },
          "metadata": {
            "needs_background": "light"
          }
        }
      ]
    },
    {
      "cell_type": "code",
      "source": [
        ""
      ],
      "metadata": {
        "id": "QlBbZ2bhBJHv"
      },
      "execution_count": null,
      "outputs": []
    },
    {
      "cell_type": "code",
      "metadata": {
        "id": "mN_joYZ6WxHD",
        "colab": {
          "base_uri": "https://localhost:8080/"
        },
        "outputId": "6f98336e-853d-49a4-a2f6-5f35cf1b2e4a"
      },
      "source": [
        "print('\\nhistory dict:', history.history)"
      ],
      "execution_count": 49,
      "outputs": [
        {
          "output_type": "stream",
          "name": "stdout",
          "text": [
            "\n",
            "history dict: {'val_loss': [1.0146914389398363, 1.0183312230639987, 0.6776588360468546, 0.25236007736788857, 0.4711379243267907, 0.7313491966989305, 0.6568715241220262, 0.3234177711937163, 0.4670221640004052, 0.4921138882637024, 0.6684902707735697, 0.25359879516892964, 0.7711503903071085, 0.783529433939192, 1.2056460711691115, 0.9557212988535563, 0.3193274372153812, 0.3882446636756261, 0.22902514309518868, 0.9621610045433044, 0.27518533832497066, 0.3274102873272366, 0.3122725652323829, 0.23785365372896194, 0.40465989460547763, 0.3798075480412485, 0.354709741142061, 0.3485180655908253, 0.6061263812912835, 0.3515501245856285, 0.5421984824869368, 0.6704658468564352, 0.5014953745736016, 0.4416307070189052, 0.47694307565689087, 0.4516785624954436, 0.4594072600205739, 0.6549569103452895, 0.4243979487154219, 0.3772621990905868, 0.450112071302202, 0.8213365111086104, 0.8228671749432882, 0.4526454508304596, 0.3725665012995402, 0.4162803866590063, 0.42064470301071805, 0.5784720215532515, 0.36812520109944874, 0.5211432427167892], 'val_acc': [0.5208333333333334, 0.5520833333333334, 0.7135416666666666, 0.8854166666666666, 0.8055555555555556, 0.6944444444444444, 0.7170138888888888, 0.8715277777777778, 0.8506944444444444, 0.8524305555555556, 0.7708333333333334, 0.9270833333333334, 0.7534722222222222, 0.7690972222222222, 0.6423611111111112, 0.7638888888888888, 0.9166666666666666, 0.8819444444444444, 0.9288194444444444, 0.7291666666666666, 0.9236111111111112, 0.9288194444444444, 0.9322916666666666, 0.9322916666666666, 0.9010416666666666, 0.9409722222222222, 0.8993055555555556, 0.9340277777777778, 0.8541666666666666, 0.9149305555555556, 0.890625, 0.8784722222222222, 0.8993055555555556, 0.921875, 0.921875, 0.9288194444444444, 0.9253472222222222, 0.9027777777777778, 0.9236111111111112, 0.9288194444444444, 0.9236111111111112, 0.875, 0.8836805555555556, 0.9184027777777778, 0.9184027777777778, 0.9392361111111112, 0.9201388888888888, 0.890625, 0.9340277777777778, 0.9114583333333334], 'val_precision_m': [1.0, 0.9881730477015177, 0.9755219883388944, 0.96495031648212, 0.9792822466956245, 0.9888742831018236, 0.9856126639578078, 0.9788629942470126, 0.9756521450148689, 0.986828002664778, 0.9876945747269524, 0.9502202537324693, 0.980542884932624, 0.9690328240394592, 0.9914021160867479, 0.9781164328257242, 0.9601571096314324, 0.9718624552090963, 0.9457822309599982, 0.986848407321506, 0.957334213786655, 0.9398068653212653, 0.934942881266276, 0.9566927684677972, 0.9592901004685296, 0.9416938490337796, 0.9632757372326322, 0.9354844888051351, 0.9736184544033475, 0.9598405692312453, 0.9756124019622803, 0.9676503671540154, 0.9664174384540982, 0.9660664399464926, 0.974104642868042, 0.9649617407057021, 0.9568949672910902, 0.9642399350802103, 0.9529661536216736, 0.947150813208686, 0.9611757530106438, 0.9684042400783963, 0.9776531590355767, 0.9610025882720947, 0.9477337532573276, 0.9354816211594476, 0.9478681286176046, 0.969529304239485, 0.9429732428656684, 0.9584158460299174], 'val_recall_m': [0.362594207127889, 0.4082382983631558, 0.6349235441949632, 0.879192054271698, 0.7579014367527432, 0.6019622551070319, 0.6339435444937812, 0.8476299908426073, 0.8231125275293986, 0.8161706063482497, 0.7049572931395637, 0.954382578531901, 0.6862642301453484, 0.7191730274094476, 0.5280797812673781, 0.7021851076020135, 0.9285908142725626, 0.8675221602121989, 0.9607903560002645, 0.6498202946450975, 0.9425864881939359, 0.9678254789776273, 0.9795061151186625, 0.9539675580130683, 0.9071294003062778, 0.9840681685341729, 0.9007374379369948, 0.9813817275895013, 0.8296627468532987, 0.9266716241836548, 0.8774645196066962, 0.8683583868874444, 0.8986320429378085, 0.9281652834680345, 0.9221945603688558, 0.9404245681232877, 0.9446152382426791, 0.9062656693988376, 0.9469529324107699, 0.9604302446047465, 0.9374283154805502, 0.8644024001227485, 0.8660629259215461, 0.930626822842492, 0.9448496765560574, 0.9884612229135301, 0.9470207426283095, 0.8825675116644965, 0.9727904200553894, 0.9234372840987312], 'val_f1_m': [0.5301814509762658, 0.576503896050983, 0.7678072386317782, 0.9192781448364258, 0.8535989854070876, 0.7464517222510444, 0.7707319392098321, 0.908117413520813, 0.8922086159388224, 0.8923488325542874, 0.8211925559573703, 0.9514419304000007, 0.8054904010560777, 0.82376586066352, 0.6880262957678901, 0.8146610657374064, 0.9436162975099351, 0.9160979721281264, 0.9526128901375664, 0.7816433972782559, 0.9491191042794122, 0.9530677199363708, 0.9559266169865926, 0.9546472430229187, 0.9319516486591763, 0.9619445469644334, 0.9305374754799737, 0.957168698310852, 0.8952464196417067, 0.942671987745497, 0.9225849045647515, 0.9145387874709235, 0.9304181204901801, 0.9465286334355673, 0.9468025697602166, 0.9521001577377319, 0.9500723150041368, 0.9333245952924093, 0.9494291345278422, 0.9532537195417616, 0.948523587650723, 0.9124885532591078, 0.9177230265405443, 0.9449011153644986, 0.9456750022040473, 0.9606239795684814, 0.9468046824137369, 0.923783110247718, 0.9569309221373664, 0.9397220677799649], 'loss': [0.5597092248499393, 0.24919112482004696, 0.19932633224460813, 0.18224782248338064, 0.15619792830612925, 0.13749779988494185, 0.1188805668304364, 0.10690038775404294, 0.07911090532110797, 0.07212495679656665, 0.08084188484483296, 0.07554693401066793, 0.07595317986690336, 0.06923903959492843, 0.09450447300655974, 0.06387500713268916, 0.05225393644327091, 0.048203334781444736, 0.0497665018774569, 0.04911815173303088, 0.051050390543726586, 0.04443836375139654, 0.05037363378020624, 0.04326818426812275, 0.038247369048703045, 0.037643585793880954, 0.044329102028213024, 0.03963709586403436, 0.026773312465391226, 0.027916075286662415, 0.009449634462523844, 0.009992717784674218, 0.00910632083832752, 0.0076538762279799106, 0.00513468721247692, 0.006780119410703062, 0.0023443387658011895, 0.005176358150492888, 0.010027021725869013, 0.006377593908028858, 0.005194835338948501, 0.003920031327046066, 0.010866329629304042, 0.007525464131807287, 0.015119812202303566, 0.015591396241992092, 0.019407909295599286, 0.01747715435986821, 0.013544542650278244, 0.01825219453571157], 'acc': [0.8411458333333334, 0.90234375, 0.9233940972222222, 0.9292534722222222, 0.9409722222222222, 0.9479166666666666, 0.9552951388888888, 0.9637586805555556, 0.9704861111111112, 0.9737413194444444, 0.9659288194444444, 0.9694010416666666, 0.9702690972222222, 0.9717881944444444, 0.9626736111111112, 0.9756944444444444, 0.9809027777777778, 0.982421875, 0.9819878472222222, 0.9815538194444444, 0.9809027777777778, 0.9835069444444444, 0.9789496527777778, 0.9830729166666666, 0.9871961805555556, 0.984375, 0.9822048611111112, 0.9861111111111112, 0.9900173611111112, 0.990234375, 0.9971788194444444, 0.9958767361111112, 0.99609375, 0.9969618055555556, 0.998046875, 0.9969618055555556, 0.9991319444444444, 0.9973958333333334, 0.9967447916666666, 0.9978298611111112, 0.9982638888888888, 0.9984809027777778, 0.9963107638888888, 0.9973958333333334, 0.9954427083333334, 0.9947916666666666, 0.9924045138888888, 0.9932725694444444, 0.9947916666666666, 0.9921875], 'precision_m': [0.8958203047513962, 0.9343156201971902, 0.9458502911859088, 0.9489417241679298, 0.9568426923619376, 0.9589891582727432, 0.9672998603847291, 0.9720589634444978, 0.9765819079346127, 0.9803615808486938, 0.9745923512511783, 0.9754863629738489, 0.9787222858932283, 0.9801246143049664, 0.9740631646580167, 0.9824467086129718, 0.9848945289850235, 0.9871555484003491, 0.9853629287746217, 0.9853145579497019, 0.9862905177805159, 0.9898333979977502, 0.98567695915699, 0.9880261470874151, 0.9915705339776145, 0.9890765034490161, 0.987251857916514, 0.9892625047100915, 0.992362865143352, 0.993482791715198, 0.9974246140983369, 0.9966367665264342, 0.997107618384891, 0.9975166188346015, 0.9978654798534181, 0.9981580989228355, 0.9993688497278426, 0.9987993836402893, 0.9981846577591367, 0.9983054945866267, 0.9991392294565836, 0.9984800898366504, 0.9968264649311701, 0.9982794059647454, 0.9962078813049529, 0.9961506161424849, 0.9940155744552612, 0.9955388423469331, 0.9957781732082367, 0.9948959019449022], 'recall_m': [0.8947042860090733, 0.9339453412426842, 0.9502551870213615, 0.9552053246233199, 0.9636209143532647, 0.9702344685792923, 0.971964923871888, 0.979425859120157, 0.9831474936670728, 0.9840063452720642, 0.9798716240459018, 0.9831113467613856, 0.9806759059429169, 0.9817881964974933, 0.9760036021471024, 0.9845084100961685, 0.9891545093721814, 0.988601932922999, 0.9902963737646738, 0.9892584797408845, 0.9876968479818768, 0.9878014806244109, 0.9856271263625886, 0.9888474924696816, 0.9910564521948496, 0.9896980656517876, 0.9885267946455214, 0.9917459239562353, 0.994040396478441, 0.9931262218289905, 0.9987714621755812, 0.9975953665044572, 0.9975552790694766, 0.9981890883710649, 0.9994020048114989, 0.9976030041774114, 0.9994163297944598, 0.9975631253586875, 0.9973439938492246, 0.99879523118337, 0.9984919412268533, 0.9993847327099906, 0.9981696936819289, 0.9982516434457567, 0.9976705445183648, 0.996713227695889, 0.9956772840685315, 0.9953332228793038, 0.9969960136546029, 0.9944827589723799], 'f1_m': [0.8847846670283211, 0.9328929897811677, 0.9472192757659488, 0.9513427697949939, 0.9595453242460886, 0.964117760459582, 0.9692079077164332, 0.975378672281901, 0.9796707166565789, 0.9819020628929138, 0.9768272075388167, 0.9789721965789795, 0.9794527010785209, 0.9806545393334495, 0.9743064244588217, 0.9831296536657546, 0.9868860459989972, 0.9877724233600829, 0.9877066959937414, 0.9871340360906389, 0.9868423094352087, 0.9887483219305674, 0.9854872789647844, 0.9882906128962835, 0.99122444457478, 0.9892304009861417, 0.9876953760782877, 0.9903761214680142, 0.9931520935561922, 0.9932320250405205, 0.9980878896183438, 0.9970986313290067, 0.997310017546018, 0.9978364722596275, 0.9986262122790018, 0.9978638026449416, 0.9993892229265637, 0.9981713742017746, 0.9977502309613757, 0.9985414213604398, 0.9988074683480792, 0.9989248149924808, 0.9974767002794478, 0.9982507195737627, 0.9969183388683531, 0.9964161465565363, 0.9948132584492365, 0.9954047037495507, 0.9963626580105888, 0.994642092121972]}\n"
          ]
        }
      ]
    },
    {
      "cell_type": "markdown",
      "metadata": {
        "id": "i2soOKFq1ctk"
      },
      "source": [
        "# Evaluation on testing set "
      ]
    },
    {
      "cell_type": "code",
      "metadata": {
        "id": "-npqPviY0Bkr",
        "colab": {
          "base_uri": "https://localhost:8080/"
        },
        "outputId": "a75da022-c802-4d64-90c6-9cd59e9c9fa3"
      },
      "source": [
        "\n",
        "loss, accuracy, f1_score, precision, recall = model.evaluate_generator(batch_generator(df_test[:256], 256,len(df_test[:256])//256),steps=len(df_test[:256])//256,verbose=1)"
      ],
      "execution_count": 50,
      "outputs": [
        {
          "output_type": "stream",
          "name": "stdout",
          "text": [
            "\r1/1 [==============================] - 4s 4s/step\n"
          ]
        }
      ]
    },
    {
      "cell_type": "code",
      "source": [
        "print(model.evaluate_generator(batch_generator(df_test[:256], 256,len(df_test[:256])//256),steps=len(df_test[:256])//256,verbose=1))"
      ],
      "metadata": {
        "id": "ad0UcLKvDKAQ",
        "colab": {
          "base_uri": "https://localhost:8080/"
        },
        "outputId": "66aa36ca-99aa-4531-89ed-2f0d548bf26d"
      },
      "execution_count": 51,
      "outputs": [
        {
          "output_type": "stream",
          "name": "stdout",
          "text": [
            "\r1/1 [==============================] - 5s 5s/step\n",
            "[0.5287721157073975, 0.89453125, 0.9709302186965942, 0.8835979104042053, 0.9252077341079712]\n"
          ]
        }
      ]
    },
    {
      "cell_type": "code",
      "source": [
        "print(model.evaluate_generator(batch_generator(df_train[:256], 256,len(df_train[:256])//256),steps=len(df_train[:256])//256,verbose=1))"
      ],
      "metadata": {
        "id": "BaBQkFP-DaaP",
        "colab": {
          "base_uri": "https://localhost:8080/"
        },
        "outputId": "17ddd7e0-3fd0-4a6d-8ee6-3c8568b1505e"
      },
      "execution_count": 52,
      "outputs": [
        {
          "output_type": "stream",
          "name": "stdout",
          "text": [
            "\r1/1 [==============================] - 6s 6s/step\n",
            "[0.1006704568862915, 0.96875, 1.0, 0.95652174949646, 0.9777777194976807]\n"
          ]
        }
      ]
    },
    {
      "cell_type": "code",
      "source": [
        "print(model.evaluate_generator(batch_generator(df_val[:256], 256,len(df_val[:256])//256),steps=len(df_val[:256])//256,verbose=1))"
      ],
      "metadata": {
        "id": "hb4w1uOIE-DX",
        "colab": {
          "base_uri": "https://localhost:8080/"
        },
        "outputId": "a27306b9-e143-4af1-d9ec-054098bf1dcd"
      },
      "execution_count": 53,
      "outputs": [
        {
          "output_type": "stream",
          "name": "stdout",
          "text": [
            "\r1/1 [==============================] - 5s 5s/step\n",
            "[0.48387932777404785, 0.90625, 0.967391312122345, 0.9081632494926453, 0.9368420243263245]\n"
          ]
        }
      ]
    },
    {
      "cell_type": "code",
      "source": [
        "help(model.evaluate_generator)"
      ],
      "metadata": {
        "id": "1xkZBtt8Ga43",
        "colab": {
          "base_uri": "https://localhost:8080/"
        },
        "outputId": "88631fcf-4752-4220-c948-2e442e83030d"
      },
      "execution_count": 54,
      "outputs": [
        {
          "output_type": "stream",
          "name": "stdout",
          "text": [
            "Help on method evaluate_generator in module keras.engine.training:\n",
            "\n",
            "evaluate_generator(generator, steps=None, max_queue_size=10, workers=1, use_multiprocessing=False, verbose=0) method of keras.engine.training.Model instance\n",
            "    Evaluates the model on a data generator.\n",
            "    \n",
            "    The generator should return the same kind of data\n",
            "    as accepted by `test_on_batch`.\n",
            "    \n",
            "    # Arguments\n",
            "        generator: Generator yielding tuples (inputs, targets)\n",
            "            or (inputs, targets, sample_weights)\n",
            "            or an instance of Sequence (keras.utils.Sequence)\n",
            "            object in order to avoid duplicate data\n",
            "            when using multiprocessing.\n",
            "        steps: Total number of steps (batches of samples)\n",
            "            to yield from `generator` before stopping.\n",
            "            Optional for `Sequence`: if unspecified, will use\n",
            "            the `len(generator)` as a number of steps.\n",
            "        max_queue_size: maximum size for the generator queue\n",
            "        workers: Integer. Maximum number of processes to spin up\n",
            "            when using process based threading.\n",
            "            If unspecified, `workers` will default to 1. If 0, will\n",
            "            execute the generator on the main thread.\n",
            "        use_multiprocessing: if True, use process based threading.\n",
            "            Note that because\n",
            "            this implementation relies on multiprocessing,\n",
            "            you should not pass\n",
            "            non picklable arguments to the generator\n",
            "            as they can't be passed\n",
            "            easily to children processes.\n",
            "        verbose: verbosity mode, 0 or 1.\n",
            "    \n",
            "    # Returns\n",
            "        Scalar test loss (if the model has a single output and no metrics)\n",
            "        or list of scalars (if the model has multiple outputs\n",
            "        and/or metrics). The attribute `model.metrics_names` will give you\n",
            "        the display labels for the scalar outputs.\n",
            "    \n",
            "    # Raises\n",
            "        ValueError: In case the generator yields\n",
            "            data in an invalid format.\n",
            "\n"
          ]
        }
      ]
    },
    {
      "cell_type": "markdown",
      "metadata": {
        "id": "4rapfUmhiyFQ"
      },
      "source": [
        "### **The performance metrics**"
      ]
    },
    {
      "cell_type": "code",
      "metadata": {
        "id": "w6VOqcdlrKXT",
        "colab": {
          "base_uri": "https://localhost:8080/"
        },
        "outputId": "a5f9be99-147b-4617-f635-869403524939"
      },
      "source": [
        "from sklearn.metrics import confusion_matrix\n",
        "\n",
        "y_pred=model.predict_generator(batch_generator(df_test[:256], 256,len(df_test[:256])//256),steps=len(df_test[:256])//256,verbose=1)\n",
        "\n",
        "y_true=df_test[:256].labels\n",
        "array=confusion_matrix(y_true, (1.2*y_pred).round(),normalize=\"true\")"
      ],
      "execution_count": 55,
      "outputs": [
        {
          "output_type": "stream",
          "name": "stdout",
          "text": [
            "\r1/1 [==============================] - 6s 6s/step\n"
          ]
        }
      ]
    },
    {
      "cell_type": "code",
      "source": [
        "import seaborn as sn\n",
        "\n",
        "df_cm = pd.DataFrame(array, range(2), range(2))\n",
        "# plt.figure(figsize=(10,7))\n",
        "sn.set(font_scale=1.4) # for label size\n",
        "sn.heatmap(df_cm, annot=True, annot_kws={\"size\": 16}) # font size\n",
        "\n",
        "plt.show()"
      ],
      "metadata": {
        "id": "nR8Og5OBkdTd",
        "colab": {
          "base_uri": "https://localhost:8080/",
          "height": 273
        },
        "outputId": "726f8327-d4b5-46a1-c0a0-3eca22584ce9"
      },
      "execution_count": 56,
      "outputs": [
        {
          "output_type": "display_data",
          "data": {
            "image/png": "[encoded data removed]",
            "text/plain": [
              "<Figure size 432x288 with 2 Axes>"
            ]
          },
          "metadata": {}
        }
      ]
    },
    {
      "cell_type": "code",
      "source": [
        "from sklearn.datasets import make_circles\n",
        "from sklearn.metrics import accuracy_score\n",
        "from sklearn.metrics import precision_score\n",
        "from sklearn.metrics import recall_score\n",
        "from sklearn.metrics import f1_score\n",
        "from sklearn.metrics import cohen_kappa_score\n",
        "from sklearn.metrics import roc_auc_score\n",
        "from sklearn.metrics import confusion_matrix\n",
        "from keras.models import Sequential\n",
        "from keras.layers import Dense"
      ],
      "metadata": {
        "id": "YWEy-dGoH7cV"
      },
      "execution_count": 57,
      "outputs": []
    },
    {
      "cell_type": "code",
      "source": [
        "accuracy = accuracy_score(y_true, (1.2*y_pred).round())"
      ],
      "metadata": {
        "id": "5puhANpbHwLt"
      },
      "execution_count": 58,
      "outputs": []
    },
    {
      "cell_type": "code",
      "source": [
        "accuracy"
      ],
      "metadata": {
        "id": "WvkI7h3yIENk",
        "colab": {
          "base_uri": "https://localhost:8080/"
        },
        "outputId": "2201e267-f9b7-43f2-8358-841f18d9cc6d"
      },
      "execution_count": 59,
      "outputs": [
        {
          "output_type": "execute_result",
          "data": {
            "text/plain": [
              "0.90625"
            ]
          },
          "metadata": {},
          "execution_count": 59
        }
      ]
    },
    {
      "cell_type": "code",
      "source": [
        "# accuracy: (tp + tn) / (p + n)\n",
        "accuracy = accuracy_score(y_true, (1.2*y_pred).round())\n",
        "print('Accuracy: %f' % accuracy)\n",
        "# precision tp / (tp + fp)\n",
        "precision = precision_score(y_true, (1.2*y_pred).round())\n",
        "print('Precision: %f' % precision)\n",
        "# recall: tp / (tp + fn)\n",
        "recall = recall_score(y_true, (1.2*y_pred).round())\n",
        "print('Recall: %f' % recall)\n",
        "# f1: 2 tp / (2 tp + fp + fn)\n",
        "f1 = f1_score(y_true, (1.2*y_pred).round())\n",
        "print('F1 score: %f' % f1)\n",
        " \n",
        "# kappa\n",
        "kappa = cohen_kappa_score(y_true, (1.2*y_pred).round())\n",
        "print('Cohens kappa: %f' % kappa)\n",
        "# ROC AUC\n",
        "auc = roc_auc_score(y_true, (1.2*y_pred).round())\n",
        "print('ROC AUC: %f' % auc)\n",
        "# confusion matrix\n",
        "matrix = confusion_matrix(y_true, (1.2*y_pred).round())\n",
        "print(matrix)"
      ],
      "metadata": {
        "id": "rPQwlHeDIPSs",
        "colab": {
          "base_uri": "https://localhost:8080/"
        },
        "outputId": "590c8c81-02c5-45b0-fc7b-8d80b5f521ed"
      },
      "execution_count": 60,
      "outputs": [
        {
          "output_type": "stream",
          "name": "stdout",
          "text": [
            "Accuracy: 0.906250\n",
            "Precision: 0.971429\n",
            "Recall: 0.899471\n",
            "F1 score: 0.934066\n",
            "Cohens kappa: 0.772731\n",
            "ROC AUC: 0.912422\n",
            "[[ 62   5]\n",
            " [ 19 170]]\n"
          ]
        }
      ]
    },
    {
      "cell_type": "code",
      "source": [
        "from sklearn import metrics"
      ],
      "metadata": {
        "id": "qhiXiZW6ho24"
      },
      "execution_count": 61,
      "outputs": []
    },
    {
      "cell_type": "code",
      "source": [
        "fpr, tpr, threshold = metrics.roc_curve(y_true, (1.2*y_pred).round())\n",
        "roc_auc = metrics.auc(fpr, tpr)\n",
        "\n",
        "plt.title('Receiver Operating Characteristic')\n",
        "plt.plot(fpr, tpr, 'b', label='AUC = %0.2f' % roc_auc)\n",
        "plt.legend(loc='lower right')\n",
        "plt.plot([0, 1], [0, 1], 'r--')\n",
        "plt.xlim([0, 1])\n",
        "plt.ylim([0, 1])\n",
        "plt.ylabel('True Positive Rate')\n",
        "plt.xlabel('False Positive Rate')\n",
        "plt.show()"
      ],
      "metadata": {
        "id": "IHkkDLqVJbZM",
        "colab": {
          "base_uri": "https://localhost:8080/",
          "height": 315
        },
        "outputId": "988b0f22-fe0a-4345-8916-3da3f1ed6d99"
      },
      "execution_count": 62,
      "outputs": [
        {
          "output_type": "display_data",
          "data": {
            "image/png": "[encoded data removed]",
            "text/plain": [
              "<Figure size 432x288 with 1 Axes>"
            ]
          },
          "metadata": {}
        }
      ]
    },
    {
      "cell_type": "code",
      "source": [
        "print(metrics.accuracy_score(y_true, (1.2*y_pred).round()))"
      ],
      "metadata": {
        "id": "D390ZWCFKRZc",
        "colab": {
          "base_uri": "https://localhost:8080/"
        },
        "outputId": "95f718e2-7d3b-4b11-ce78-2c2bbbf2c9ea"
      },
      "execution_count": 63,
      "outputs": [
        {
          "output_type": "stream",
          "name": "stdout",
          "text": [
            "0.90625\n"
          ]
        }
      ]
    },
    {
      "cell_type": "code",
      "source": [
        "import numpy as np\n",
        "import pandas as pd\n",
        "import seaborn as sns\n",
        "import matplotlib.pyplot as plt\n",
        "\n",
        "# machine learning libraries\n",
        "\n",
        "import statsmodels.api as sm\n",
        "from sklearn.model_selection import train_test_split\n",
        "from sklearn.preprocessing import StandardScaler\n",
        "from sklearn.linear_model import LogisticRegression\n",
        "from statsmodels.stats.outliers_influence import variance_inflation_factor\n",
        "from sklearn.feature_selection import RFE\n",
        "from sklearn.metrics import confusion_matrix\n",
        "\n",
        "from sklearn.metrics import roc_curve,roc_auc_score\n",
        "\n",
        "import warnings\n",
        "warnings.filterwarnings('ignore')"
      ],
      "metadata": {
        "id": "3DabFXjfLgJD",
        "colab": {
          "base_uri": "https://localhost:8080/"
        },
        "outputId": "ba2d11f5-1e98-4d59-c3cd-efa227a24806"
      },
      "execution_count": 64,
      "outputs": [
        {
          "output_type": "stream",
          "name": "stderr",
          "text": [
            "/usr/local/lib/python3.7/dist-packages/statsmodels/tools/_testing.py:19: FutureWarning: pandas.util.testing is deprecated. Use the functions in the public API at pandas.testing instead.\n",
            "  import pandas.util.testing as tm\n"
          ]
        }
      ]
    },
    {
      "cell_type": "code",
      "source": [
        " # Now let's calculate accuracy sensitivity and specificity for various probability cutoffs.\n",
        "cutoff_df = pd.DataFrame( columns = ['Probability','Accuracy','Sensitivity','Specificity'])\n",
        "from sklearn.metrics import confusion_matrix\n",
        "\n",
        "# TP = confusion[1,1] # true positive \n",
        "# TN = confusion[0,0] # true negatives\n",
        "# FP = confusion[0,1] # false positives\n",
        "# FN = confusion[1,0] # false negatives\n",
        "\n",
        "num = [0.0,0.1,0.2,0.3,0.4,0.5,0.6,0.7,0.8,0.9]\n",
        "for i in num:\n",
        "    cm1 = metrics.confusion_matrix(y_true, (1.2*y_pred).round())\n",
        "    total1=sum(sum(cm1))\n",
        "    Accuracy = (cm1[0,0]+cm1[1,1])/total1\n",
        "    \n",
        "    Specificity = cm1[0,0]/(cm1[0,0]+cm1[0,1])\n",
        "    Sensitivity = cm1[1,1]/(cm1[1,0]+cm1[1,1])\n",
        "    cutoff_df.loc[i] =[ i ,Accuracy,Sensitivity,Specificity]\n",
        "print(cutoff_df)"
      ],
      "metadata": {
        "id": "5rI3siAzKikk",
        "colab": {
          "base_uri": "https://localhost:8080/"
        },
        "outputId": "e13fd4e0-2292-4d72-9de8-631797fffe2a"
      },
      "execution_count": 65,
      "outputs": [
        {
          "output_type": "stream",
          "name": "stdout",
          "text": [
            "     Probability  Accuracy  Sensitivity  Specificity\n",
            "0.0          0.0   0.90625     0.899471     0.925373\n",
            "0.1          0.1   0.90625     0.899471     0.925373\n",
            "0.2          0.2   0.90625     0.899471     0.925373\n",
            "0.3          0.3   0.90625     0.899471     0.925373\n",
            "0.4          0.4   0.90625     0.899471     0.925373\n",
            "0.5          0.5   0.90625     0.899471     0.925373\n",
            "0.6          0.6   0.90625     0.899471     0.925373\n",
            "0.7          0.7   0.90625     0.899471     0.925373\n",
            "0.8          0.8   0.90625     0.899471     0.925373\n",
            "0.9          0.9   0.90625     0.899471     0.925373\n"
          ]
        }
      ]
    },
    {
      "cell_type": "code",
      "source": [
        "print(Accuracy,Sensitivity,Specificity)"
      ],
      "metadata": {
        "id": "d0OmDokKLqWK",
        "colab": {
          "base_uri": "https://localhost:8080/"
        },
        "outputId": "3798b550-643f-4c88-b6c8-d707f6a573ee"
      },
      "execution_count": 66,
      "outputs": [
        {
          "output_type": "stream",
          "name": "stdout",
          "text": [
            "0.90625 0.8994708994708994 0.9253731343283582\n"
          ]
        }
      ]
    },
    {
      "cell_type": "code",
      "source": [
        "import matplotlib.pyplot as plt\n",
        "# Let's plot accuracy sensitivity and specificity for various probabilities.\n",
        "cutoff_df.plot.line(x='Probability', y=['Accuracy','Sensitivity','Specificity'])\n",
        "plt.show()"
      ],
      "metadata": {
        "id": "4ZGG4CKAPNJp",
        "colab": {
          "base_uri": "https://localhost:8080/",
          "height": 295
        },
        "outputId": "e347916a-fae3-4ef8-af65-0fe75a82f5cd"
      },
      "execution_count": 67,
      "outputs": [
        {
          "output_type": "display_data",
          "data": {
            "image/png": "[encoded data removed]",
            "text/plain": [
              "<Figure size 432x288 with 1 Axes>"
            ]
          },
          "metadata": {}
        }
      ]
    },
    {
      "cell_type": "code",
      "source": [
        "# # Let's plot accuracy sensitivity and specificity for various probabilities.\n",
        "\n",
        "\n",
        "import matplotlib.pyplot as plt\n",
        "\n",
        "\n",
        "cutoff_df = pd.DataFrame( columns = ['Probability','Accuracy','Sensitivity','Specificity'])\n",
        "\n",
        "plt.show()\n",
        "plt.savefig('ss')"
      ],
      "metadata": {
        "id": "Dewbpm0cLzxK",
        "colab": {
          "base_uri": "https://localhost:8080/",
          "height": 35
        },
        "outputId": "a34d1431-beee-44f1-848a-3b44dcabc9a5"
      },
      "execution_count": 68,
      "outputs": [
        {
          "output_type": "display_data",
          "data": {
            "text/plain": [
              "<Figure size 432x288 with 0 Axes>"
            ]
          },
          "metadata": {}
        }
      ]
    },
    {
      "cell_type": "code",
      "metadata": {
        "id": "MmEE2CXl3Ug9",
        "colab": {
          "base_uri": "https://localhost:8080/",
          "height": 273
        },
        "outputId": "8930070d-2eb6-4c13-c815-a752b1c5c090"
      },
      "source": [
        "import seaborn as sn\n",
        "\n",
        "df_cm = pd.DataFrame(array, range(2), range(2))\n",
        "# plt.figure(figsize=(10,7))\n",
        "sn.set(font_scale=1.4) # for label size\n",
        "sn.heatmap(df_cm, annot=True, annot_kws={\"size\": 16}) # font size\n",
        "\n",
        "plt.show()"
      ],
      "execution_count": 69,
      "outputs": [
        {
          "output_type": "display_data",
          "data": {
            "image/png": "[encoded data removed]",
            "text/plain": [
              "<Figure size 432x288 with 2 Axes>"
            ]
          },
          "metadata": {}
        }
      ]
    },
    {
      "cell_type": "code",
      "source": [
        "df_cm"
      ],
      "metadata": {
        "id": "pFSLNMoPG8KP",
        "colab": {
          "base_uri": "https://localhost:8080/",
          "height": 112
        },
        "outputId": "1ca48bde-fde5-49b4-b6bb-cd78f6df169b"
      },
      "execution_count": 70,
      "outputs": [
        {
          "output_type": "execute_result",
          "data": {
            "text/html": [
              "\n",
              "  <div id=\"df-562f52a1-b472-45d2-b69f-4272f973a303\">\n",
              "    <div class=\"colab-df-container\">\n",
              "      <div>\n",
              "<style scoped>\n",
              "    .dataframe tbody tr th:only-of-type {\n",
              "        vertical-align: middle;\n",
              "    }\n",
              "\n",
              "    .dataframe tbody tr th {\n",
              "        vertical-align: top;\n",
              "    }\n",
              "\n",
              "    .dataframe thead th {\n",
              "        text-align: right;\n",
              "    }\n",
              "</style>\n",
              "<table border=\"1\" class=\"dataframe\">\n",
              "  <thead>\n",
              "    <tr style=\"text-align: right;\">\n",
              "      <th></th>\n",
              "      <th>0</th>\n",
              "      <th>1</th>\n",
              "    </tr>\n",
              "  </thead>\n",
              "  <tbody>\n",
              "    <tr>\n",
              "      <th>0</th>\n",
              "      <td>0.925373</td>\n",
              "      <td>0.074627</td>\n",
              "    </tr>\n",
              "    <tr>\n",
              "      <th>1</th>\n",
              "      <td>0.100529</td>\n",
              "      <td>0.899471</td>\n",
              "    </tr>\n",
              "  </tbody>\n",
              "</table>\n",
              "</div>\n",
              "      <button class=\"colab-df-convert\" onclick=\"convertToInteractive('df-562f52a1-b472-45d2-b69f-4272f973a303')\"\n",
              "              title=\"Convert this dataframe to an interactive table.\"\n",
              "              style=\"display:none;\">\n",
              "        \n",
              "  <svg xmlns=\"http://www.w3.org/2000/svg\" height=\"24px\"viewBox=\"0 0 24 24\"\n",
              "       width=\"24px\">\n",
              "    <path d=\"M0 0h24v24H0V0z\" fill=\"none\"/>\n",
              "    <path d=\"M18.56 5.44l.94 2.06.94-2.06 2.06-.94-2.06-.94-.94-2.06-.94 2.06-2.06.94zm-11 1L8.5 8.5l.94-2.06 2.06-.94-2.06-.94L8.5 2.5l-.94 2.06-2.06.94zm10 10l.94 2.06.94-2.06 2.06-.94-2.06-.94-.94-2.06-.94 2.06-2.06.94z\"/><path d=\"M17.41 7.96l-1.37-1.37c-.4-.4-.92-.59-1.43-.59-.52 0-1.04.2-1.43.59L10.3 9.45l-7.72 7.72c-.78.78-.78 2.05 0 2.83L4 21.41c.39.39.9.59 1.41.59.51 0 1.02-.2 1.41-.59l7.78-7.78 2.81-2.81c.8-.78.8-2.07 0-2.86zM5.41 20L4 18.59l7.72-7.72 1.47 1.35L5.41 20z\"/>\n",
              "  </svg>\n",
              "      </button>\n",
              "      \n",
              "  <style>\n",
              "    .colab-df-container {\n",
              "      display:flex;\n",
              "      flex-wrap:wrap;\n",
              "      gap: 12px;\n",
              "    }\n",
              "\n",
              "    .colab-df-convert {\n",
              "      background-color: #E8F0FE;\n",
              "      border: none;\n",
              "      border-radius: 50%;\n",
              "      cursor: pointer;\n",
              "      display: none;\n",
              "      fill: #1967D2;\n",
              "      height: 32px;\n",
              "      padding: 0 0 0 0;\n",
              "      width: 32px;\n",
              "    }\n",
              "\n",
              "    .colab-df-convert:hover {\n",
              "      background-color: #E2EBFA;\n",
              "      box-shadow: 0px 1px 2px rgba(60, 64, 67, 0.3), 0px 1px 3px 1px rgba(60, 64, 67, 0.15);\n",
              "      fill: #174EA6;\n",
              "    }\n",
              "\n",
              "    [theme=dark] .colab-df-convert {\n",
              "      background-color: #3B4455;\n",
              "      fill: #D2E3FC;\n",
              "    }\n",
              "\n",
              "    [theme=dark] .colab-df-convert:hover {\n",
              "      background-color: #434B5C;\n",
              "      box-shadow: 0px 1px 3px 1px rgba(0, 0, 0, 0.15);\n",
              "      filter: drop-shadow(0px 1px 2px rgba(0, 0, 0, 0.3));\n",
              "      fill: #FFFFFF;\n",
              "    }\n",
              "  </style>\n",
              "\n",
              "      <script>\n",
              "        const buttonEl =\n",
              "          document.querySelector('#df-562f52a1-b472-45d2-b69f-4272f973a303 button.colab-df-convert');\n",
              "        buttonEl.style.display =\n",
              "          google.colab.kernel.accessAllowed ? 'block' : 'none';\n",
              "\n",
              "        async function convertToInteractive(key) {\n",
              "          const element = document.querySelector('#df-562f52a1-b472-45d2-b69f-4272f973a303');\n",
              "          const dataTable =\n",
              "            await google.colab.kernel.invokeFunction('convertToInteractive',\n",
              "                                                     [key], {});\n",
              "          if (!dataTable) return;\n",
              "\n",
              "          const docLinkHtml = 'Like what you see? Visit the ' +\n",
              "            '<a target=\"_blank\" href=https://colab.research.google.com/notebooks/data_table.ipynb>data table notebook</a>'\n",
              "            + ' to learn more about interactive tables.';\n",
              "          element.innerHTML = '';\n",
              "          dataTable['output_type'] = 'display_data';\n",
              "          await google.colab.output.renderOutput(dataTable, element);\n",
              "          const docLink = document.createElement('div');\n",
              "          docLink.innerHTML = docLinkHtml;\n",
              "          element.appendChild(docLink);\n",
              "        }\n",
              "      </script>\n",
              "    </div>\n",
              "  </div>\n",
              "  "
            ],
            "text/plain": [
              "          0         1\n",
              "0  0.925373  0.074627\n",
              "1  0.100529  0.899471"
            ]
          },
          "metadata": {},
          "execution_count": 70
        }
      ]
    },
    {
      "cell_type": "code",
      "source": [
        "help(model.predict_generator)"
      ],
      "metadata": {
        "id": "ZZ4PVR5fGrq-",
        "colab": {
          "base_uri": "https://localhost:8080/"
        },
        "outputId": "d94e0548-a386-4974-9f34-0669a369fa54"
      },
      "execution_count": 71,
      "outputs": [
        {
          "output_type": "stream",
          "name": "stdout",
          "text": [
            "Help on method predict_generator in module keras.engine.training:\n",
            "\n",
            "predict_generator(generator, steps=None, max_queue_size=10, workers=1, use_multiprocessing=False, verbose=0) method of keras.engine.training.Model instance\n",
            "    Generates predictions for the input samples from a data generator.\n",
            "    \n",
            "    The generator should return the same kind of data as accepted by\n",
            "    `predict_on_batch`.\n",
            "    \n",
            "    # Arguments\n",
            "        generator: Generator yielding batches of input samples\n",
            "            or an instance of Sequence (keras.utils.Sequence)\n",
            "            object in order to avoid duplicate data\n",
            "            when using multiprocessing.\n",
            "        steps: Total number of steps (batches of samples)\n",
            "            to yield from `generator` before stopping.\n",
            "            Optional for `Sequence`: if unspecified, will use\n",
            "            the `len(generator)` as a number of steps.\n",
            "        max_queue_size: Maximum size for the generator queue.\n",
            "        workers: Integer. Maximum number of processes to spin up\n",
            "            when using process based threading.\n",
            "            If unspecified, `workers` will default to 1. If 0, will\n",
            "            execute the generator on the main thread.\n",
            "        use_multiprocessing: If `True`, use process based threading.\n",
            "            Note that because\n",
            "            this implementation relies on multiprocessing,\n",
            "            you should not pass\n",
            "            non picklable arguments to the generator\n",
            "            as they can't be passed\n",
            "            easily to children processes.\n",
            "        verbose: verbosity mode, 0 or 1.\n",
            "    \n",
            "    # Returns\n",
            "        Numpy array(s) of predictions.\n",
            "    \n",
            "    # Raises\n",
            "        ValueError: In case the generator yields\n",
            "            data in an invalid format.\n",
            "\n"
          ]
        }
      ]
    },
    {
      "cell_type": "code",
      "metadata": {
        "id": "mPiq2i-ezhYK",
        "colab": {
          "base_uri": "https://localhost:8080/"
        },
        "outputId": "3ecff2d2-6248-43a7-cdfd-789c7210d854"
      },
      "source": [
        "print(accuracy, f1_score, precision, recall)"
      ],
      "execution_count": 72,
      "outputs": [
        {
          "output_type": "stream",
          "name": "stdout",
          "text": [
            "0.90625 <function f1_score at 0x7fd2f0c5d7a0> 0.9714285714285714 0.8994708994708994\n"
          ]
        }
      ]
    },
    {
      "cell_type": "code",
      "metadata": {
        "id": "L-BPbhLgpMD3"
      },
      "source": [
        "sensitivity=recall"
      ],
      "execution_count": 73,
      "outputs": []
    },
    {
      "cell_type": "code",
      "metadata": {
        "id": "G9XP9HFqvxpr",
        "colab": {
          "base_uri": "https://localhost:8080/"
        },
        "outputId": "fbd9d1c9-f580-4910-f99c-f9213ad30c83"
      },
      "source": [
        "sensitivity"
      ],
      "execution_count": 74,
      "outputs": [
        {
          "output_type": "execute_result",
          "data": {
            "text/plain": [
              "0.8994708994708994"
            ]
          },
          "metadata": {},
          "execution_count": 74
        }
      ]
    },
    {
      "cell_type": "code",
      "metadata": {
        "id": "swe1iFPErQtI"
      },
      "source": [
        "tn, fp, fn, tp =array.ravel()"
      ],
      "execution_count": 75,
      "outputs": []
    },
    {
      "cell_type": "code",
      "metadata": {
        "id": "4WpiFp7mvUvt",
        "colab": {
          "base_uri": "https://localhost:8080/"
        },
        "outputId": "9e4e94c5-ac81-4930-d8f6-3442e7daeae7"
      },
      "source": [
        "tn, fp, fn, tp"
      ],
      "execution_count": 76,
      "outputs": [
        {
          "output_type": "execute_result",
          "data": {
            "text/plain": [
              "(0.9253731343283582,\n",
              " 0.07462686567164178,\n",
              " 0.10052910052910052,\n",
              " 0.8994708994708994)"
            ]
          },
          "metadata": {},
          "execution_count": 76
        }
      ]
    },
    {
      "cell_type": "code",
      "metadata": {
        "id": "-SKGwcHovcj6"
      },
      "source": [
        "specificity =tn / (tn + fp)"
      ],
      "execution_count": 77,
      "outputs": []
    },
    {
      "cell_type": "code",
      "metadata": {
        "id": "qjdK3Ad8vukt",
        "colab": {
          "base_uri": "https://localhost:8080/"
        },
        "outputId": "483b843f-945d-4334-d8a5-3fd529270fca"
      },
      "source": [
        "specificity"
      ],
      "execution_count": 78,
      "outputs": [
        {
          "output_type": "execute_result",
          "data": {
            "text/plain": [
              "0.9253731343283582"
            ]
          },
          "metadata": {},
          "execution_count": 78
        }
      ]
    },
    {
      "cell_type": "code",
      "metadata": {
        "id": "kPQP8Rk71N1v"
      },
      "source": [
        "from sklearn.metrics import roc_curve\n",
        "from sklearn.metrics import roc_auc_score"
      ],
      "execution_count": 79,
      "outputs": []
    },
    {
      "cell_type": "code",
      "metadata": {
        "id": "gV1kwZjt3MT4",
        "colab": {
          "base_uri": "https://localhost:8080/",
          "height": 315
        },
        "outputId": "e7651fdb-efbd-4141-9365-157240460a58"
      },
      "source": [
        "import sklearn.metrics as metrics\n",
        "# calculate the fpr and tpr for all thresholds of the classification\n",
        "\n",
        "fpr, tpr, threshold = metrics.roc_curve(y_true,y_pred)\n",
        "roc_auc = metrics.auc(fpr, tpr)\n",
        "\n",
        "# method I: plt\n",
        "import matplotlib.pyplot as plt\n",
        "plt.title('Receiver Operating Characteristic')\n",
        "plt.plot(fpr, tpr, 'b', label = 'AUC = %0.2f' % roc_auc)\n",
        "plt.legend(loc = 'lower right')\n",
        "plt.plot([0, 1], [0, 1],'r--')\n",
        "plt.xlim([0, 1])\n",
        "plt.ylim([0, 1])\n",
        "plt.ylabel('True Positive Rate')\n",
        "plt.xlabel('False Positive Rate')\n",
        "plt.show()"
      ],
      "execution_count": 80,
      "outputs": [
        {
          "output_type": "display_data",
          "data": {
            "image/png": "[encoded data removed]",
            "text/plain": [
              "<Figure size 432x288 with 1 Axes>"
            ]
          },
          "metadata": {}
        }
      ]
    },
    {
      "cell_type": "code",
      "metadata": {
        "id": "Miq1KLPhU2BA"
      },
      "source": [
        "model.save_weights('mymodel_weights')"
      ],
      "execution_count": 81,
      "outputs": []
    },
    {
      "cell_type": "code",
      "metadata": {
        "id": "6HDwJNltV7fx",
        "colab": {
          "base_uri": "https://localhost:8080/",
          "height": 342
        },
        "outputId": "45bb8a4c-c7fe-4594-8499-03541f0dc07a"
      },
      "source": [
        "model.load_weights('/content/mymodel_weights')"
      ],
      "execution_count": 82,
      "outputs": [
        {
          "output_type": "error",
          "ename": "AttributeError",
          "evalue": "ignored",
          "traceback": [
            "\u001b[0;31m---------------------------------------------------------------------------\u001b[0m",
            "\u001b[0;31mAttributeError\u001b[0m                            Traceback (most recent call last)",
            "\u001b[0;32m<ipython-input-82-ba52aa3040c2>\u001b[0m in \u001b[0;36m<module>\u001b[0;34m()\u001b[0m\n\u001b[0;32m----> 1\u001b[0;31m \u001b[0mmodel\u001b[0m\u001b[0;34m.\u001b[0m\u001b[0mload_weights\u001b[0m\u001b[0;34m(\u001b[0m\u001b[0;34m'/content/mymodel_weights'\u001b[0m\u001b[0;34m)\u001b[0m\u001b[0;34m\u001b[0m\u001b[0;34m\u001b[0m\u001b[0m\n\u001b[0m",
            "\u001b[0;32m/usr/local/lib/python3.7/dist-packages/keras/engine/network.py\u001b[0m in \u001b[0;36mload_weights\u001b[0;34m(self, filepath, by_name, skip_mismatch, reshape)\u001b[0m\n\u001b[1;32m   1164\u001b[0m             \u001b[0;32melse\u001b[0m\u001b[0;34m:\u001b[0m\u001b[0;34m\u001b[0m\u001b[0;34m\u001b[0m\u001b[0m\n\u001b[1;32m   1165\u001b[0m                 saving.load_weights_from_hdf5_group(\n\u001b[0;32m-> 1166\u001b[0;31m                     f, self.layers, reshape=reshape)\n\u001b[0m\u001b[1;32m   1167\u001b[0m \u001b[0;34m\u001b[0m\u001b[0m\n\u001b[1;32m   1168\u001b[0m     \u001b[0;32mdef\u001b[0m \u001b[0m_updated_config\u001b[0m\u001b[0;34m(\u001b[0m\u001b[0mself\u001b[0m\u001b[0;34m)\u001b[0m\u001b[0;34m:\u001b[0m\u001b[0;34m\u001b[0m\u001b[0;34m\u001b[0m\u001b[0m\n",
            "\u001b[0;32m/usr/local/lib/python3.7/dist-packages/keras/engine/saving.py\u001b[0m in \u001b[0;36mload_weights_from_hdf5_group\u001b[0;34m(f, layers, reshape)\u001b[0m\n\u001b[1;32m   1002\u001b[0m     \"\"\"\n\u001b[1;32m   1003\u001b[0m     \u001b[0;32mif\u001b[0m \u001b[0;34m'keras_version'\u001b[0m \u001b[0;32min\u001b[0m \u001b[0mf\u001b[0m\u001b[0;34m.\u001b[0m\u001b[0mattrs\u001b[0m\u001b[0;34m:\u001b[0m\u001b[0;34m\u001b[0m\u001b[0;34m\u001b[0m\u001b[0m\n\u001b[0;32m-> 1004\u001b[0;31m         \u001b[0moriginal_keras_version\u001b[0m \u001b[0;34m=\u001b[0m \u001b[0mf\u001b[0m\u001b[0;34m.\u001b[0m\u001b[0mattrs\u001b[0m\u001b[0;34m[\u001b[0m\u001b[0;34m'keras_version'\u001b[0m\u001b[0;34m]\u001b[0m\u001b[0;34m.\u001b[0m\u001b[0mdecode\u001b[0m\u001b[0;34m(\u001b[0m\u001b[0;34m'utf8'\u001b[0m\u001b[0;34m)\u001b[0m\u001b[0;34m\u001b[0m\u001b[0;34m\u001b[0m\u001b[0m\n\u001b[0m\u001b[1;32m   1005\u001b[0m     \u001b[0;32melse\u001b[0m\u001b[0;34m:\u001b[0m\u001b[0;34m\u001b[0m\u001b[0;34m\u001b[0m\u001b[0m\n\u001b[1;32m   1006\u001b[0m         \u001b[0moriginal_keras_version\u001b[0m \u001b[0;34m=\u001b[0m \u001b[0;34m'1'\u001b[0m\u001b[0;34m\u001b[0m\u001b[0;34m\u001b[0m\u001b[0m\n",
            "\u001b[0;31mAttributeError\u001b[0m: 'str' object has no attribute 'decode'"
          ]
        }
      ]
    }
  ]
}