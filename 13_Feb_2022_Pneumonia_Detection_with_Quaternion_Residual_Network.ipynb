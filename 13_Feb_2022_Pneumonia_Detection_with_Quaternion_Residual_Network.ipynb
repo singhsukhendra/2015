{
  "nbformat": 4,
  "nbformat_minor": 0,
  "metadata": {
    "colab": {
      "name": "13 Feb 2022_Pneumonia_Detection_with_Quaternion_Residual_Network.ipynb",
      "provenance": [],
      "collapsed_sections": [],
      "include_colab_link": true
    },
    "kernelspec": {
      "name": "python3",
      "display_name": "Python 3"
    },
    "accelerator": "GPU"
  },
  "cells": [
    {
      "cell_type": "markdown",
      "metadata": {
        "id": "view-in-github",
        "colab_type": "text"
      },
      "source": [
        "<a href=\"https://colab.research.google.com/github/singhsukhendra/2015/blob/master/13_Feb_2022_Pneumonia_Detection_with_Quaternion_Residual_Network.ipynb\" target=\"_parent\"><img src=\"https://colab.research.google.com/assets/colab-badge.svg\" alt=\"Open In Colab\"/></a>"
      ]
    },
    {
      "cell_type": "code",
      "metadata": {
        "id": "bm3z_Bcgq8J3",
        "colab": {
          "base_uri": "https://localhost:8080/"
        },
        "outputId": "e4da2300-5767-4bb9-8585-9877b004e3a2"
      },
      "source": [
        "!pip install kaggle"
      ],
      "execution_count": 1,
      "outputs": [
        {
          "output_type": "stream",
          "name": "stdout",
          "text": [
            "Requirement already satisfied: kaggle in /usr/local/lib/python3.7/dist-packages (1.5.12)\n",
            "Requirement already satisfied: tqdm in /usr/local/lib/python3.7/dist-packages (from kaggle) (4.62.3)\n",
            "Requirement already satisfied: certifi in /usr/local/lib/python3.7/dist-packages (from kaggle) (2021.10.8)\n",
            "Requirement already satisfied: requests in /usr/local/lib/python3.7/dist-packages (from kaggle) (2.23.0)\n",
            "Requirement already satisfied: six>=1.10 in /usr/local/lib/python3.7/dist-packages (from kaggle) (1.15.0)\n",
            "Requirement already satisfied: urllib3 in /usr/local/lib/python3.7/dist-packages (from kaggle) (1.24.3)\n",
            "Requirement already satisfied: python-dateutil in /usr/local/lib/python3.7/dist-packages (from kaggle) (2.8.2)\n",
            "Requirement already satisfied: python-slugify in /usr/local/lib/python3.7/dist-packages (from kaggle) (5.0.2)\n",
            "Requirement already satisfied: text-unidecode>=1.3 in /usr/local/lib/python3.7/dist-packages (from python-slugify->kaggle) (1.3)\n",
            "Requirement already satisfied: chardet<4,>=3.0.2 in /usr/local/lib/python3.7/dist-packages (from requests->kaggle) (3.0.4)\n",
            "Requirement already satisfied: idna<3,>=2.5 in /usr/local/lib/python3.7/dist-packages (from requests->kaggle) (2.10)\n"
          ]
        }
      ]
    },
    {
      "cell_type": "code",
      "source": [
        ""
      ],
      "metadata": {
        "id": "eeLKrO3K_I8V"
      },
      "execution_count": 1,
      "outputs": []
    },
    {
      "cell_type": "code",
      "metadata": {
        "id": "qDJG2WbbrJdt",
        "colab": {
          "base_uri": "https://localhost:8080/"
        },
        "outputId": "34698caa-2f91-4727-b004-d8ebd6336f91"
      },
      "source": [
        "!pip install keras==\"2.2.4\""
      ],
      "execution_count": 2,
      "outputs": [
        {
          "output_type": "stream",
          "name": "stdout",
          "text": [
            "Collecting keras==2.2.4\n",
            "  Downloading Keras-2.2.4-py2.py3-none-any.whl (312 kB)\n",
            "\u001b[?25l\r\u001b[K     |█                               | 10 kB 16.8 MB/s eta 0:00:01\r\u001b[K     |██                              | 20 kB 22.1 MB/s eta 0:00:01\r\u001b[K     |███▏                            | 30 kB 10.9 MB/s eta 0:00:01\r\u001b[K     |████▏                           | 40 kB 8.8 MB/s eta 0:00:01\r\u001b[K     |█████▎                          | 51 kB 5.2 MB/s eta 0:00:01\r\u001b[K     |██████▎                         | 61 kB 5.4 MB/s eta 0:00:01\r\u001b[K     |███████▍                        | 71 kB 5.3 MB/s eta 0:00:01\r\u001b[K     |████████▍                       | 81 kB 5.0 MB/s eta 0:00:01\r\u001b[K     |█████████▍                      | 92 kB 5.6 MB/s eta 0:00:01\r\u001b[K     |██████████▌                     | 102 kB 5.0 MB/s eta 0:00:01\r\u001b[K     |███████████▌                    | 112 kB 5.0 MB/s eta 0:00:01\r\u001b[K     |████████████▋                   | 122 kB 5.0 MB/s eta 0:00:01\r\u001b[K     |█████████████▋                  | 133 kB 5.0 MB/s eta 0:00:01\r\u001b[K     |██████████████▊                 | 143 kB 5.0 MB/s eta 0:00:01\r\u001b[K     |███████████████▊                | 153 kB 5.0 MB/s eta 0:00:01\r\u001b[K     |████████████████▊               | 163 kB 5.0 MB/s eta 0:00:01\r\u001b[K     |█████████████████▉              | 174 kB 5.0 MB/s eta 0:00:01\r\u001b[K     |██████████████████▉             | 184 kB 5.0 MB/s eta 0:00:01\r\u001b[K     |████████████████████            | 194 kB 5.0 MB/s eta 0:00:01\r\u001b[K     |█████████████████████           | 204 kB 5.0 MB/s eta 0:00:01\r\u001b[K     |██████████████████████          | 215 kB 5.0 MB/s eta 0:00:01\r\u001b[K     |███████████████████████         | 225 kB 5.0 MB/s eta 0:00:01\r\u001b[K     |████████████████████████▏       | 235 kB 5.0 MB/s eta 0:00:01\r\u001b[K     |█████████████████████████▏      | 245 kB 5.0 MB/s eta 0:00:01\r\u001b[K     |██████████████████████████▏     | 256 kB 5.0 MB/s eta 0:00:01\r\u001b[K     |███████████████████████████▎    | 266 kB 5.0 MB/s eta 0:00:01\r\u001b[K     |████████████████████████████▎   | 276 kB 5.0 MB/s eta 0:00:01\r\u001b[K     |█████████████████████████████▍  | 286 kB 5.0 MB/s eta 0:00:01\r\u001b[K     |██████████████████████████████▍ | 296 kB 5.0 MB/s eta 0:00:01\r\u001b[K     |███████████████████████████████▌| 307 kB 5.0 MB/s eta 0:00:01\r\u001b[K     |████████████████████████████████| 312 kB 5.0 MB/s \n",
            "\u001b[?25hRequirement already satisfied: scipy>=0.14 in /usr/local/lib/python3.7/dist-packages (from keras==2.2.4) (1.4.1)\n",
            "Requirement already satisfied: six>=1.9.0 in /usr/local/lib/python3.7/dist-packages (from keras==2.2.4) (1.15.0)\n",
            "Collecting keras-applications>=1.0.6\n",
            "  Downloading Keras_Applications-1.0.8-py3-none-any.whl (50 kB)\n",
            "\u001b[K     |████████████████████████████████| 50 kB 6.7 MB/s \n",
            "\u001b[?25hRequirement already satisfied: keras-preprocessing>=1.0.5 in /usr/local/lib/python3.7/dist-packages (from keras==2.2.4) (1.1.2)\n",
            "Requirement already satisfied: pyyaml in /usr/local/lib/python3.7/dist-packages (from keras==2.2.4) (3.13)\n",
            "Requirement already satisfied: numpy>=1.9.1 in /usr/local/lib/python3.7/dist-packages (from keras==2.2.4) (1.19.5)\n",
            "Requirement already satisfied: h5py in /usr/local/lib/python3.7/dist-packages (from keras==2.2.4) (3.1.0)\n",
            "Requirement already satisfied: cached-property in /usr/local/lib/python3.7/dist-packages (from h5py->keras==2.2.4) (1.5.2)\n",
            "Installing collected packages: keras-applications, keras\n",
            "  Attempting uninstall: keras\n",
            "    Found existing installation: keras 2.7.0\n",
            "    Uninstalling keras-2.7.0:\n",
            "      Successfully uninstalled keras-2.7.0\n",
            "\u001b[31mERROR: pip's dependency resolver does not currently take into account all the packages that are installed. This behaviour is the source of the following dependency conflicts.\n",
            "tensorflow 2.7.0 requires keras<2.8,>=2.7.0rc0, but you have keras 2.2.4 which is incompatible.\u001b[0m\n",
            "Successfully installed keras-2.2.4 keras-applications-1.0.8\n"
          ]
        }
      ]
    },
    {
      "cell_type": "code",
      "metadata": {
        "id": "9vcX1sn1rOgi",
        "colab": {
          "base_uri": "https://localhost:8080/"
        },
        "outputId": "96d25e38-8bf1-4cee-91d4-404c0bcb9475"
      },
      "source": [
        "!pip install tensorflow==1.15"
      ],
      "execution_count": 3,
      "outputs": [
        {
          "output_type": "stream",
          "name": "stdout",
          "text": [
            "Collecting tensorflow==1.15\n",
            "  Downloading tensorflow-1.15.0-cp37-cp37m-manylinux2010_x86_64.whl (412.3 MB)\n",
            "\u001b[K     |████████████████████████████████| 412.3 MB 24 kB/s \n",
            "\u001b[?25hCollecting tensorflow-estimator==1.15.1\n",
            "  Downloading tensorflow_estimator-1.15.1-py2.py3-none-any.whl (503 kB)\n",
            "\u001b[K     |████████████████████████████████| 503 kB 35.0 MB/s \n",
            "\u001b[?25hCollecting tensorboard<1.16.0,>=1.15.0\n",
            "  Downloading tensorboard-1.15.0-py3-none-any.whl (3.8 MB)\n",
            "\u001b[K     |████████████████████████████████| 3.8 MB 31.7 MB/s \n",
            "\u001b[?25hRequirement already satisfied: protobuf>=3.6.1 in /usr/local/lib/python3.7/dist-packages (from tensorflow==1.15) (3.17.3)\n",
            "Requirement already satisfied: numpy<2.0,>=1.16.0 in /usr/local/lib/python3.7/dist-packages (from tensorflow==1.15) (1.19.5)\n",
            "Collecting gast==0.2.2\n",
            "  Downloading gast-0.2.2.tar.gz (10 kB)\n",
            "Requirement already satisfied: wrapt>=1.11.1 in /usr/local/lib/python3.7/dist-packages (from tensorflow==1.15) (1.13.3)\n",
            "Requirement already satisfied: absl-py>=0.7.0 in /usr/local/lib/python3.7/dist-packages (from tensorflow==1.15) (1.0.0)\n",
            "Requirement already satisfied: grpcio>=1.8.6 in /usr/local/lib/python3.7/dist-packages (from tensorflow==1.15) (1.43.0)\n",
            "Requirement already satisfied: opt-einsum>=2.3.2 in /usr/local/lib/python3.7/dist-packages (from tensorflow==1.15) (3.3.0)\n",
            "Requirement already satisfied: six>=1.10.0 in /usr/local/lib/python3.7/dist-packages (from tensorflow==1.15) (1.15.0)\n",
            "Requirement already satisfied: termcolor>=1.1.0 in /usr/local/lib/python3.7/dist-packages (from tensorflow==1.15) (1.1.0)\n",
            "Requirement already satisfied: wheel>=0.26 in /usr/local/lib/python3.7/dist-packages (from tensorflow==1.15) (0.37.1)\n",
            "Requirement already satisfied: keras-applications>=1.0.8 in /usr/local/lib/python3.7/dist-packages (from tensorflow==1.15) (1.0.8)\n",
            "Requirement already satisfied: google-pasta>=0.1.6 in /usr/local/lib/python3.7/dist-packages (from tensorflow==1.15) (0.2.0)\n",
            "Requirement already satisfied: keras-preprocessing>=1.0.5 in /usr/local/lib/python3.7/dist-packages (from tensorflow==1.15) (1.1.2)\n",
            "Requirement already satisfied: astor>=0.6.0 in /usr/local/lib/python3.7/dist-packages (from tensorflow==1.15) (0.8.1)\n",
            "Requirement already satisfied: h5py in /usr/local/lib/python3.7/dist-packages (from keras-applications>=1.0.8->tensorflow==1.15) (3.1.0)\n",
            "Requirement already satisfied: werkzeug>=0.11.15 in /usr/local/lib/python3.7/dist-packages (from tensorboard<1.16.0,>=1.15.0->tensorflow==1.15) (1.0.1)\n",
            "Requirement already satisfied: setuptools>=41.0.0 in /usr/local/lib/python3.7/dist-packages (from tensorboard<1.16.0,>=1.15.0->tensorflow==1.15) (57.4.0)\n",
            "Requirement already satisfied: markdown>=2.6.8 in /usr/local/lib/python3.7/dist-packages (from tensorboard<1.16.0,>=1.15.0->tensorflow==1.15) (3.3.6)\n",
            "Requirement already satisfied: importlib-metadata>=4.4 in /usr/local/lib/python3.7/dist-packages (from markdown>=2.6.8->tensorboard<1.16.0,>=1.15.0->tensorflow==1.15) (4.10.1)\n",
            "Requirement already satisfied: typing-extensions>=3.6.4 in /usr/local/lib/python3.7/dist-packages (from importlib-metadata>=4.4->markdown>=2.6.8->tensorboard<1.16.0,>=1.15.0->tensorflow==1.15) (3.10.0.2)\n",
            "Requirement already satisfied: zipp>=0.5 in /usr/local/lib/python3.7/dist-packages (from importlib-metadata>=4.4->markdown>=2.6.8->tensorboard<1.16.0,>=1.15.0->tensorflow==1.15) (3.7.0)\n",
            "Requirement already satisfied: cached-property in /usr/local/lib/python3.7/dist-packages (from h5py->keras-applications>=1.0.8->tensorflow==1.15) (1.5.2)\n",
            "Building wheels for collected packages: gast\n",
            "  Building wheel for gast (setup.py) ... \u001b[?25l\u001b[?25hdone\n",
            "  Created wheel for gast: filename=gast-0.2.2-py3-none-any.whl size=7554 sha256=18ea1e65dca4a648c2860185f7e247c9963c4fc201db9cf1a4cf2ca712577a2a\n",
            "  Stored in directory: /root/.cache/pip/wheels/21/7f/02/420f32a803f7d0967b48dd823da3f558c5166991bfd204eef3\n",
            "Successfully built gast\n",
            "Installing collected packages: tensorflow-estimator, tensorboard, gast, tensorflow\n",
            "  Attempting uninstall: tensorflow-estimator\n",
            "    Found existing installation: tensorflow-estimator 2.7.0\n",
            "    Uninstalling tensorflow-estimator-2.7.0:\n",
            "      Successfully uninstalled tensorflow-estimator-2.7.0\n",
            "  Attempting uninstall: tensorboard\n",
            "    Found existing installation: tensorboard 2.7.0\n",
            "    Uninstalling tensorboard-2.7.0:\n",
            "      Successfully uninstalled tensorboard-2.7.0\n",
            "  Attempting uninstall: gast\n",
            "    Found existing installation: gast 0.4.0\n",
            "    Uninstalling gast-0.4.0:\n",
            "      Successfully uninstalled gast-0.4.0\n",
            "  Attempting uninstall: tensorflow\n",
            "    Found existing installation: tensorflow 2.7.0\n",
            "    Uninstalling tensorflow-2.7.0:\n",
            "      Successfully uninstalled tensorflow-2.7.0\n",
            "\u001b[31mERROR: pip's dependency resolver does not currently take into account all the packages that are installed. This behaviour is the source of the following dependency conflicts.\n",
            "tensorflow-probability 0.15.0 requires gast>=0.3.2, but you have gast 0.2.2 which is incompatible.\n",
            "kapre 0.3.7 requires tensorflow>=2.0.0, but you have tensorflow 1.15.0 which is incompatible.\u001b[0m\n",
            "Successfully installed gast-0.2.2 tensorboard-1.15.0 tensorflow-1.15.0 tensorflow-estimator-1.15.1\n"
          ]
        }
      ]
    },
    {
      "cell_type": "code",
      "metadata": {
        "id": "NU8uoUkcrYEw"
      },
      "source": [
        "!mkdir -p ~/.kaggle/\n",
        "!cp kaggle.json ~/.kaggle/"
      ],
      "execution_count": 7,
      "outputs": []
    },
    {
      "cell_type": "code",
      "metadata": {
        "id": "YeeFuFZtsDUI",
        "colab": {
          "base_uri": "https://localhost:8080/"
        },
        "outputId": "434336a2-2705-49ad-a7a8-a857f40f8558"
      },
      "source": [
        "!kaggle datasets download -d paultimothymooney/chest-xray-pneumonia"
      ],
      "execution_count": 8,
      "outputs": [
        {
          "output_type": "stream",
          "name": "stdout",
          "text": [
            "Warning: Your Kaggle API key is readable by other users on this system! To fix this, you can run 'chmod 600 /root/.kaggle/kaggle.json'\n",
            "Downloading chest-xray-pneumonia.zip to /content\n",
            " 99% 2.28G/2.29G [00:14<00:00, 164MB/s]\n",
            "100% 2.29G/2.29G [00:14<00:00, 168MB/s]\n"
          ]
        }
      ]
    },
    {
      "cell_type": "code",
      "metadata": {
        "id": "d1whZNjgvfHu"
      },
      "source": [
        "\n",
        "import zipfile\n",
        "with zipfile.ZipFile(\"/content/chest-xray-pneumonia.zip\",\"r\") as zip_ref:\n",
        "    zip_ref.extractall(\"chest-xray-pneumonia\")"
      ],
      "execution_count": 9,
      "outputs": []
    },
    {
      "cell_type": "code",
      "metadata": {
        "id": "aNBD8eABtMUJ"
      },
      "source": [
        "! mkdir data_used"
      ],
      "execution_count": 10,
      "outputs": []
    },
    {
      "cell_type": "code",
      "metadata": {
        "id": "FF738dIOzyXu"
      },
      "source": [
        "!mkdir data_used/NORMAL"
      ],
      "execution_count": 11,
      "outputs": []
    },
    {
      "cell_type": "code",
      "metadata": {
        "id": "l_HfM3tGzzTa"
      },
      "source": [
        "!mkdir data_used/PNEUMONIA"
      ],
      "execution_count": 12,
      "outputs": []
    },
    {
      "cell_type": "code",
      "metadata": {
        "id": "PR7BL4vMRFoj"
      },
      "source": [
        "! cp -r /content/chest-xray-pneumonia/chest_xray/chest_xray/train/NORMAL/*.jpeg   /content/data_used/NORMAL"
      ],
      "execution_count": 13,
      "outputs": []
    },
    {
      "cell_type": "code",
      "metadata": {
        "id": "CBQKu5yVRMAh"
      },
      "source": [
        "! cp -r /content/chest-xray-pneumonia/chest_xray/chest_xray/test/NORMAL/*.jpeg   /content/data_used/NORMAL"
      ],
      "execution_count": 14,
      "outputs": []
    },
    {
      "cell_type": "code",
      "metadata": {
        "id": "ESLCNfZBRMvh"
      },
      "source": [
        "! cp -r /content/chest-xray-pneumonia/chest_xray/chest_xray/val/NORMAL/*.jpeg   /content/data_used/NORMAL"
      ],
      "execution_count": 15,
      "outputs": []
    },
    {
      "cell_type": "code",
      "metadata": {
        "id": "fxbeAAYoQ4_2"
      },
      "source": [
        "! cp -r /content/chest-xray-pneumonia/chest_xray/chest_xray/train/PNEUMONIA/*.jpeg   /content/data_used/PNEUMONIA"
      ],
      "execution_count": 16,
      "outputs": []
    },
    {
      "cell_type": "code",
      "metadata": {
        "id": "OWlwaCwaRA7F"
      },
      "source": [
        "! cp -r /content/chest-xray-pneumonia/chest_xray/chest_xray/test/PNEUMONIA/*.jpeg   /content/data_used/PNEUMONIA"
      ],
      "execution_count": 17,
      "outputs": []
    },
    {
      "cell_type": "code",
      "metadata": {
        "id": "oTW6bBnAtb06"
      },
      "source": [
        "! cp -r /content/chest-xray-pneumonia/chest_xray/chest_xray/val/PNEUMONIA/*.jpeg   /content/data_used/PNEUMONIA"
      ],
      "execution_count": 18,
      "outputs": []
    },
    {
      "cell_type": "code",
      "metadata": {
        "id": "n8ZgYZxsodN7"
      },
      "source": [
        "import zipfile\n",
        "\n",
        "with zipfile.ZipFile(\"complexnn.zip\",\"r\") as zip_ref:\n",
        "    zip_ref.extractall()"
      ],
      "execution_count": 19,
      "outputs": []
    },
    {
      "cell_type": "code",
      "metadata": {
        "id": "ayD-eyE5cIUg"
      },
      "source": [
        ""
      ],
      "execution_count": 19,
      "outputs": []
    },
    {
      "cell_type": "code",
      "metadata": {
        "id": "VANz-UBvdJdV"
      },
      "source": [
        ""
      ],
      "execution_count": 19,
      "outputs": []
    },
    {
      "cell_type": "code",
      "metadata": {
        "id": "esgXl_scoiop"
      },
      "source": [
        "import pandas as pd\n",
        "import numpy as np\n",
        "import os\n",
        "\n",
        "from glob import glob\n",
        "import itertools\n",
        "import fnmatch\n",
        "import random\n",
        "import matplotlib.pylab as plt\n",
        "#import seaborn as sns\n",
        "import cv2\n",
        "from sklearn.model_selection import train_test_split\n",
        "%matplotlib inline"
      ],
      "execution_count": 20,
      "outputs": []
    },
    {
      "cell_type": "code",
      "metadata": {
        "id": "0PVZlJ6IolPd",
        "colab": {
          "base_uri": "https://localhost:8080/"
        },
        "outputId": "c44f8a46-37d4-45e7-d4a6-de3f80a9a27a"
      },
      "source": [
        "imagePatches = glob('/content/data_used/*/*.jpeg', recursive=True)\n",
        "for filename in imagePatches[0:1000]:\n",
        "    print(filename)"
      ],
      "execution_count": 21,
      "outputs": [
        {
          "output_type": "stream",
          "name": "stdout",
          "text": [
            "/content/data_used/PNEUMONIA/person1481_bacteria_3866.jpeg\n",
            "/content/data_used/PNEUMONIA/person438_virus_889.jpeg\n",
            "/content/data_used/PNEUMONIA/person421_virus_866.jpeg\n",
            "/content/data_used/PNEUMONIA/person21_bacteria_72.jpeg\n",
            "/content/data_used/PNEUMONIA/person87_bacteria_433.jpeg\n",
            "/content/data_used/PNEUMONIA/person23_bacteria_95.jpeg\n",
            "/content/data_used/PNEUMONIA/person467_bacteria_1988.jpeg\n",
            "/content/data_used/PNEUMONIA/person298_bacteria_1410.jpeg\n",
            "/content/data_used/PNEUMONIA/person1197_virus_2039.jpeg\n",
            "/content/data_used/PNEUMONIA/person732_bacteria_2634.jpeg\n",
            "/content/data_used/PNEUMONIA/person1476_bacteria_3842.jpeg\n",
            "/content/data_used/PNEUMONIA/person149_virus_299.jpeg\n",
            "/content/data_used/PNEUMONIA/person255_bacteria_1160.jpeg\n",
            "/content/data_used/PNEUMONIA/person1649_virus_2850.jpeg\n",
            "/content/data_used/PNEUMONIA/person911_virus_1567.jpeg\n",
            "/content/data_used/PNEUMONIA/person1290_virus_2215.jpeg\n",
            "/content/data_used/PNEUMONIA/person829_bacteria_2740.jpeg\n",
            "/content/data_used/PNEUMONIA/person351_bacteria_1620.jpeg\n",
            "/content/data_used/PNEUMONIA/person1608_bacteria_4235.jpeg\n",
            "/content/data_used/PNEUMONIA/person113_bacteria_541.jpeg\n",
            "/content/data_used/PNEUMONIA/person1526_bacteria_3986.jpeg\n",
            "/content/data_used/PNEUMONIA/person633_bacteria_2522.jpeg\n",
            "/content/data_used/PNEUMONIA/person779_bacteria_2683.jpeg\n",
            "/content/data_used/PNEUMONIA/person1550_bacteria_4051.jpeg\n",
            "/content/data_used/PNEUMONIA/person458_bacteria_1953.jpeg\n",
            "/content/data_used/PNEUMONIA/person1449_bacteria_3743.jpeg\n",
            "/content/data_used/PNEUMONIA/person1310_bacteria_3302.jpeg\n",
            "/content/data_used/PNEUMONIA/person734_virus_1355.jpeg\n",
            "/content/data_used/PNEUMONIA/person1083_virus_1795.jpeg\n",
            "/content/data_used/PNEUMONIA/person1067_bacteria_3001.jpeg\n",
            "/content/data_used/PNEUMONIA/person615_virus_1184.jpeg\n",
            "/content/data_used/PNEUMONIA/person1706_bacteria_4516.jpeg\n",
            "/content/data_used/PNEUMONIA/person1430_bacteria_3695.jpeg\n",
            "/content/data_used/PNEUMONIA/person1949_bacteria_4880.jpeg\n",
            "/content/data_used/PNEUMONIA/person418_bacteria_1843.jpeg\n",
            "/content/data_used/PNEUMONIA/person1087_bacteria_3027.jpeg\n",
            "/content/data_used/PNEUMONIA/person25_bacteria_118.jpeg\n",
            "/content/data_used/PNEUMONIA/person44_virus_93.jpeg\n",
            "/content/data_used/PNEUMONIA/person773_virus_1402.jpeg\n",
            "/content/data_used/PNEUMONIA/person17_virus_48.jpeg\n",
            "/content/data_used/PNEUMONIA/person622_virus_1196.jpeg\n",
            "/content/data_used/PNEUMONIA/person1670_bacteria_4425.jpeg\n",
            "/content/data_used/PNEUMONIA/person883_bacteria_2807.jpeg\n",
            "/content/data_used/PNEUMONIA/person1411_bacteria_3591.jpeg\n",
            "/content/data_used/PNEUMONIA/person1353_virus_2333.jpeg\n",
            "/content/data_used/PNEUMONIA/person1643_virus_2843.jpeg\n",
            "/content/data_used/PNEUMONIA/person491_virus_997.jpeg\n",
            "/content/data_used/PNEUMONIA/person475_bacteria_2022.jpeg\n",
            "/content/data_used/PNEUMONIA/person1278_virus_2201.jpeg\n",
            "/content/data_used/PNEUMONIA/person388_virus_775.jpeg\n",
            "/content/data_used/PNEUMONIA/person61_bacteria_288.jpeg\n",
            "/content/data_used/PNEUMONIA/person432_virus_881.jpeg\n",
            "/content/data_used/PNEUMONIA/person266_bacteria_1248.jpeg\n",
            "/content/data_used/PNEUMONIA/person359_virus_738.jpeg\n",
            "/content/data_used/PNEUMONIA/person301_bacteria_1424.jpeg\n",
            "/content/data_used/PNEUMONIA/person745_virus_1368.jpeg\n",
            "/content/data_used/PNEUMONIA/person1343_bacteria_3409.jpeg\n",
            "/content/data_used/PNEUMONIA/person1398_virus_2401.jpeg\n",
            "/content/data_used/PNEUMONIA/person530_bacteria_2233.jpeg\n",
            "/content/data_used/PNEUMONIA/person348_bacteria_1603.jpeg\n",
            "/content/data_used/PNEUMONIA/person58_bacteria_275.jpeg\n",
            "/content/data_used/PNEUMONIA/person1514_bacteria_3964.jpeg\n",
            "/content/data_used/PNEUMONIA/person370_virus_752.jpeg\n",
            "/content/data_used/PNEUMONIA/person1665_bacteria_4415.jpeg\n",
            "/content/data_used/PNEUMONIA/person721_virus_1340.jpeg\n",
            "/content/data_used/PNEUMONIA/person1031_virus_1723.jpeg\n",
            "/content/data_used/PNEUMONIA/person1028_bacteria_2959.jpeg\n",
            "/content/data_used/PNEUMONIA/person1159_virus_1944.jpeg\n",
            "/content/data_used/PNEUMONIA/person1732_bacteria_4564.jpeg\n",
            "/content/data_used/PNEUMONIA/person97_bacteria_468.jpeg\n",
            "/content/data_used/PNEUMONIA/person277_virus_571.jpeg\n",
            "/content/data_used/PNEUMONIA/person1010_bacteria_2941.jpeg\n",
            "/content/data_used/PNEUMONIA/person1033_bacteria_2966.jpeg\n",
            "/content/data_used/PNEUMONIA/person158_bacteria_745.jpeg\n",
            "/content/data_used/PNEUMONIA/person160_virus_316.jpeg\n",
            "/content/data_used/PNEUMONIA/person754_virus_1379.jpeg\n",
            "/content/data_used/PNEUMONIA/person1171_bacteria_3118.jpeg\n",
            "/content/data_used/PNEUMONIA/person637_virus_1218.jpeg\n",
            "/content/data_used/PNEUMONIA/person612_bacteria_2477.jpeg\n",
            "/content/data_used/PNEUMONIA/person4_bacteria_14.jpeg\n",
            "/content/data_used/PNEUMONIA/person28_bacteria_139.jpeg\n",
            "/content/data_used/PNEUMONIA/person1632_virus_2827.jpeg\n",
            "/content/data_used/PNEUMONIA/person931_virus_1592.jpeg\n",
            "/content/data_used/PNEUMONIA/person382_bacteria_1739.jpeg\n",
            "/content/data_used/PNEUMONIA/person499_virus_1008.jpeg\n",
            "/content/data_used/PNEUMONIA/person139_bacteria_664.jpeg\n",
            "/content/data_used/PNEUMONIA/person710_bacteria_2611.jpeg\n",
            "/content/data_used/PNEUMONIA/person1619_bacteria_4267.jpeg\n",
            "/content/data_used/PNEUMONIA/person74_virus_135.jpeg\n",
            "/content/data_used/PNEUMONIA/person854_bacteria_2776.jpeg\n",
            "/content/data_used/PNEUMONIA/person140_virus_285.jpeg\n",
            "/content/data_used/PNEUMONIA/person918_bacteria_2843.jpeg\n",
            "/content/data_used/PNEUMONIA/person1295_virus_2223.jpeg\n",
            "/content/data_used/PNEUMONIA/person679_virus_1270.jpeg\n",
            "/content/data_used/PNEUMONIA/person326_virus_673.jpeg\n",
            "/content/data_used/PNEUMONIA/person620_virus_1191.jpeg\n",
            "/content/data_used/PNEUMONIA/person441_bacteria_1907.jpeg\n",
            "/content/data_used/PNEUMONIA/person859_virus_1504.jpeg\n",
            "/content/data_used/PNEUMONIA/person1284_bacteria_3247.jpeg\n",
            "/content/data_used/PNEUMONIA/person1430_bacteria_3696.jpeg\n",
            "/content/data_used/PNEUMONIA/person1395_bacteria_3544.jpeg\n",
            "/content/data_used/PNEUMONIA/person38_bacteria_196.jpeg\n",
            "/content/data_used/PNEUMONIA/person1465_virus_2537.jpeg\n",
            "/content/data_used/PNEUMONIA/person1286_virus_2209.jpeg\n",
            "/content/data_used/PNEUMONIA/person545_virus_1081.jpeg\n",
            "/content/data_used/PNEUMONIA/person51_bacteria_244.jpeg\n",
            "/content/data_used/PNEUMONIA/person905_bacteria_2830.jpeg\n",
            "/content/data_used/PNEUMONIA/person150_bacteria_716.jpeg\n",
            "/content/data_used/PNEUMONIA/person52_bacteria_249.jpeg\n",
            "/content/data_used/PNEUMONIA/person442_virus_902.jpeg\n",
            "/content/data_used/PNEUMONIA/person1346_virus_2322.jpeg\n",
            "/content/data_used/PNEUMONIA/person995_bacteria_2923.jpeg\n",
            "/content/data_used/PNEUMONIA/person1602_bacteria_4218.jpeg\n",
            "/content/data_used/PNEUMONIA/person1491_bacteria_3893.jpeg\n",
            "/content/data_used/PNEUMONIA/person146_bacteria_703.jpeg\n",
            "/content/data_used/PNEUMONIA/person281_bacteria_1327.jpeg\n",
            "/content/data_used/PNEUMONIA/person793_virus_1424.jpeg\n",
            "/content/data_used/PNEUMONIA/person307_virus_629.jpeg\n",
            "/content/data_used/PNEUMONIA/person544_virus_1075.jpeg\n",
            "/content/data_used/PNEUMONIA/person1149_bacteria_3094.jpeg\n",
            "/content/data_used/PNEUMONIA/person500_bacteria_2110.jpeg\n",
            "/content/data_used/PNEUMONIA/person1372_bacteria_3500.jpeg\n",
            "/content/data_used/PNEUMONIA/person568_bacteria_2358.jpeg\n",
            "/content/data_used/PNEUMONIA/person790_virus_1421.jpeg\n",
            "/content/data_used/PNEUMONIA/person949_bacteria_2874.jpeg\n",
            "/content/data_used/PNEUMONIA/person1361_bacteria_3477.jpeg\n",
            "/content/data_used/PNEUMONIA/person1328_virus_2294.jpeg\n",
            "/content/data_used/PNEUMONIA/person1697_bacteria_4496.jpeg\n",
            "/content/data_used/PNEUMONIA/person998_bacteria_2927.jpeg\n",
            "/content/data_used/PNEUMONIA/person1571_bacteria_4110.jpeg\n",
            "/content/data_used/PNEUMONIA/person959_bacteria_2884.jpeg\n",
            "/content/data_used/PNEUMONIA/person579_bacteria_2383.jpeg\n",
            "/content/data_used/PNEUMONIA/person1414_bacteria_3628.jpeg\n",
            "/content/data_used/PNEUMONIA/person133_bacteria_637.jpeg\n",
            "/content/data_used/PNEUMONIA/person392_virus_782.jpeg\n",
            "/content/data_used/PNEUMONIA/person501_bacteria_2116.jpeg\n",
            "/content/data_used/PNEUMONIA/person1170_virus_1970.jpeg\n",
            "/content/data_used/PNEUMONIA/person51_bacteria_241.jpeg\n",
            "/content/data_used/PNEUMONIA/person343_virus_704.jpeg\n",
            "/content/data_used/PNEUMONIA/person1461_virus_2510.jpeg\n",
            "/content/data_used/PNEUMONIA/person1041_bacteria_2975.jpeg\n",
            "/content/data_used/PNEUMONIA/person1647_virus_2848.jpeg\n",
            "/content/data_used/PNEUMONIA/person575_virus_1119.jpeg\n",
            "/content/data_used/PNEUMONIA/person1926_bacteria_4835.jpeg\n",
            "/content/data_used/PNEUMONIA/person267_bacteria_1250.jpeg\n",
            "/content/data_used/PNEUMONIA/person1540_virus_2680.jpeg\n",
            "/content/data_used/PNEUMONIA/person111_virus_212.jpeg\n",
            "/content/data_used/PNEUMONIA/person1503_virus_2613.jpeg\n",
            "/content/data_used/PNEUMONIA/person384_bacteria_1755.jpeg\n",
            "/content/data_used/PNEUMONIA/person1044_bacteria_2978.jpeg\n",
            "/content/data_used/PNEUMONIA/person16_bacteria_55.jpeg\n",
            "/content/data_used/PNEUMONIA/person1_virus_13.jpeg\n",
            "/content/data_used/PNEUMONIA/person136_bacteria_650.jpeg\n",
            "/content/data_used/PNEUMONIA/person141_virus_287.jpeg\n",
            "/content/data_used/PNEUMONIA/person128_bacteria_608.jpeg\n",
            "/content/data_used/PNEUMONIA/person660_virus_1244.jpeg\n",
            "/content/data_used/PNEUMONIA/person366_bacteria_1664.jpeg\n",
            "/content/data_used/PNEUMONIA/person624_virus_1198.jpeg\n",
            "/content/data_used/PNEUMONIA/person331_bacteria_1529.jpeg\n",
            "/content/data_used/PNEUMONIA/person411_bacteria_1826.jpeg\n",
            "/content/data_used/PNEUMONIA/person162_virus_320.jpeg\n",
            "/content/data_used/PNEUMONIA/person881_bacteria_2805.jpeg\n",
            "/content/data_used/PNEUMONIA/person1896_bacteria_4788.jpeg\n",
            "/content/data_used/PNEUMONIA/person1409_virus_2413.jpeg\n",
            "/content/data_used/PNEUMONIA/person924_virus_1581.jpeg\n",
            "/content/data_used/PNEUMONIA/person1247_bacteria_3203.jpeg\n",
            "/content/data_used/PNEUMONIA/person588_virus_1134.jpeg\n",
            "/content/data_used/PNEUMONIA/person108_bacteria_511.jpeg\n",
            "/content/data_used/PNEUMONIA/person145_bacteria_696.jpeg\n",
            "/content/data_used/PNEUMONIA/person711_virus_1309.jpeg\n",
            "/content/data_used/PNEUMONIA/person718_virus_1316.jpeg\n",
            "/content/data_used/PNEUMONIA/person457_bacteria_1949.jpeg\n",
            "/content/data_used/PNEUMONIA/person25_bacteria_117.jpeg\n",
            "/content/data_used/PNEUMONIA/person530_bacteria_2231.jpeg\n",
            "/content/data_used/PNEUMONIA/person78_virus_140.jpeg\n",
            "/content/data_used/PNEUMONIA/person48_bacteria_230.jpeg\n",
            "/content/data_used/PNEUMONIA/person1661_virus_2872.jpeg\n",
            "/content/data_used/PNEUMONIA/person349_bacteria_1606.jpeg\n",
            "/content/data_used/PNEUMONIA/person1511_bacteria_3955.jpeg\n",
            "/content/data_used/PNEUMONIA/person1_virus_11.jpeg\n",
            "/content/data_used/PNEUMONIA/person306_bacteria_1440.jpeg\n",
            "/content/data_used/PNEUMONIA/person1258_bacteria_3216.jpeg\n",
            "/content/data_used/PNEUMONIA/person469_virus_965.jpeg\n",
            "/content/data_used/PNEUMONIA/person486_bacteria_2051.jpeg\n",
            "/content/data_used/PNEUMONIA/person451_bacteria_1942.jpeg\n",
            "/content/data_used/PNEUMONIA/person1317_virus_2273.jpeg\n",
            "/content/data_used/PNEUMONIA/person431_bacteria_1872.jpeg\n",
            "/content/data_used/PNEUMONIA/person460_bacteria_1958.jpeg\n",
            "/content/data_used/PNEUMONIA/person1102_virus_1822.jpeg\n",
            "/content/data_used/PNEUMONIA/person547_bacteria_2294.jpeg\n",
            "/content/data_used/PNEUMONIA/person111_bacteria_533.jpeg\n",
            "/content/data_used/PNEUMONIA/person1108_bacteria_3049.jpeg\n",
            "/content/data_used/PNEUMONIA/person1014_bacteria_2945.jpeg\n",
            "/content/data_used/PNEUMONIA/person788_virus_1419.jpeg\n",
            "/content/data_used/PNEUMONIA/person1438_bacteria_3718.jpeg\n",
            "/content/data_used/PNEUMONIA/person307_bacteria_1442.jpeg\n",
            "/content/data_used/PNEUMONIA/person1317_bacteria_3332.jpeg\n",
            "/content/data_used/PNEUMONIA/person930_bacteria_2855.jpeg\n",
            "/content/data_used/PNEUMONIA/person628_bacteria_2505.jpeg\n",
            "/content/data_used/PNEUMONIA/person1095_virus_1815.jpeg\n",
            "/content/data_used/PNEUMONIA/person1544_virus_2685.jpeg\n",
            "/content/data_used/PNEUMONIA/person71_virus_131.jpeg\n",
            "/content/data_used/PNEUMONIA/person1491_virus_2597.jpeg\n",
            "/content/data_used/PNEUMONIA/person899_virus_1553.jpeg\n",
            "/content/data_used/PNEUMONIA/person1748_bacteria_4588.jpeg\n",
            "/content/data_used/PNEUMONIA/person377_bacteria_1717.jpeg\n",
            "/content/data_used/PNEUMONIA/person1469_bacteria_3827.jpeg\n",
            "/content/data_used/PNEUMONIA/person769_bacteria_2673.jpeg\n",
            "/content/data_used/PNEUMONIA/person540_bacteria_2271.jpeg\n",
            "/content/data_used/PNEUMONIA/person1666_bacteria_4416.jpeg\n",
            "/content/data_used/PNEUMONIA/person1644_bacteria_4358.jpeg\n",
            "/content/data_used/PNEUMONIA/person1287_virus_2210.jpeg\n",
            "/content/data_used/PNEUMONIA/person445_virus_915.jpeg\n",
            "/content/data_used/PNEUMONIA/person124_virus_237.jpeg\n",
            "/content/data_used/PNEUMONIA/person780_virus_1411.jpeg\n",
            "/content/data_used/PNEUMONIA/person337_bacteria_1557.jpeg\n",
            "/content/data_used/PNEUMONIA/person161_bacteria_757.jpeg\n",
            "/content/data_used/PNEUMONIA/person1249_virus_2118.jpeg\n",
            "/content/data_used/PNEUMONIA/person113_bacteria_542.jpeg\n",
            "/content/data_used/PNEUMONIA/person385_bacteria_1765.jpeg\n",
            "/content/data_used/PNEUMONIA/person438_bacteria_1892.jpeg\n",
            "/content/data_used/PNEUMONIA/person547_bacteria_2296.jpeg\n",
            "/content/data_used/PNEUMONIA/person1715_bacteria_4532.jpeg\n",
            "/content/data_used/PNEUMONIA/person1236_bacteria_3192.jpeg\n",
            "/content/data_used/PNEUMONIA/person1347_virus_2323.jpeg\n",
            "/content/data_used/PNEUMONIA/person1633_virus_2829.jpeg\n",
            "/content/data_used/PNEUMONIA/person373_bacteria_1709.jpeg\n",
            "/content/data_used/PNEUMONIA/person1584_bacteria_4148.jpeg\n",
            "/content/data_used/PNEUMONIA/person629_virus_1207.jpeg\n",
            "/content/data_used/PNEUMONIA/person1256_bacteria_3214.jpeg\n",
            "/content/data_used/PNEUMONIA/person1669_virus_2885.jpeg\n",
            "/content/data_used/PNEUMONIA/person325_virus_665.jpeg\n",
            "/content/data_used/PNEUMONIA/person1576_bacteria_4129.jpeg\n",
            "/content/data_used/PNEUMONIA/person574_bacteria_2372.jpeg\n",
            "/content/data_used/PNEUMONIA/person1614_bacteria_4248.jpeg\n",
            "/content/data_used/PNEUMONIA/person1751_bacteria_4592.jpeg\n",
            "/content/data_used/PNEUMONIA/person1046_bacteria_2980.jpeg\n",
            "/content/data_used/PNEUMONIA/person83_bacteria_409.jpeg\n",
            "/content/data_used/PNEUMONIA/person1019_bacteria_2950.jpeg\n",
            "/content/data_used/PNEUMONIA/person441_bacteria_1915.jpeg\n",
            "/content/data_used/PNEUMONIA/person1918_bacteria_4825.jpeg\n",
            "/content/data_used/PNEUMONIA/person1512_virus_2631.jpeg\n",
            "/content/data_used/PNEUMONIA/person337_bacteria_1563.jpeg\n",
            "/content/data_used/PNEUMONIA/person445_virus_914.jpeg\n",
            "/content/data_used/PNEUMONIA/person1466_virus_2543.jpeg\n",
            "/content/data_used/PNEUMONIA/person1331_virus_2299.jpeg\n",
            "/content/data_used/PNEUMONIA/person1408_bacteria_3581.jpeg\n",
            "/content/data_used/PNEUMONIA/person724_virus_1344.jpeg\n",
            "/content/data_used/PNEUMONIA/person1623_virus_2813.jpeg\n",
            "/content/data_used/PNEUMONIA/person1242_virus_2108.jpeg\n",
            "/content/data_used/PNEUMONIA/person1439_virus_2453.jpeg\n",
            "/content/data_used/PNEUMONIA/person1542_virus_2683.jpeg\n",
            "/content/data_used/PNEUMONIA/person575_bacteria_2374.jpeg\n",
            "/content/data_used/PNEUMONIA/person1429_virus_2443.jpeg\n",
            "/content/data_used/PNEUMONIA/person841_bacteria_2760.jpeg\n",
            "/content/data_used/PNEUMONIA/person1413_virus_2423.jpeg\n",
            "/content/data_used/PNEUMONIA/person1321_virus_2279.jpeg\n",
            "/content/data_used/PNEUMONIA/person348_virus_716.jpeg\n",
            "/content/data_used/PNEUMONIA/person1568_virus_2723.jpeg\n",
            "/content/data_used/PNEUMONIA/person548_bacteria_2299.jpeg\n",
            "/content/data_used/PNEUMONIA/person1482_virus_2570.jpeg\n",
            "/content/data_used/PNEUMONIA/person1376_bacteria_3511.jpeg\n",
            "/content/data_used/PNEUMONIA/person1634_bacteria_4334.jpeg\n",
            "/content/data_used/PNEUMONIA/person614_virus_1183.jpeg\n",
            "/content/data_used/PNEUMONIA/person482_bacteria_2044.jpeg\n",
            "/content/data_used/PNEUMONIA/person581_bacteria_2390.jpeg\n",
            "/content/data_used/PNEUMONIA/person963_bacteria_2888.jpeg\n",
            "/content/data_used/PNEUMONIA/person933_bacteria_2858.jpeg\n",
            "/content/data_used/PNEUMONIA/person898_virus_1552.jpeg\n",
            "/content/data_used/PNEUMONIA/person537_bacteria_2265.jpeg\n",
            "/content/data_used/PNEUMONIA/person1851_bacteria_4722.jpeg\n",
            "/content/data_used/PNEUMONIA/person909_virus_1565.jpeg\n",
            "/content/data_used/PNEUMONIA/person442_virus_903.jpeg\n",
            "/content/data_used/PNEUMONIA/person848_virus_1493.jpeg\n",
            "/content/data_used/PNEUMONIA/person327_virus_679.jpeg\n",
            "/content/data_used/PNEUMONIA/person669_bacteria_2562.jpeg\n",
            "/content/data_used/PNEUMONIA/person264_bacteria_1229.jpeg\n",
            "/content/data_used/PNEUMONIA/person585_bacteria_2411.jpeg\n",
            "/content/data_used/PNEUMONIA/person127_bacteria_602.jpeg\n",
            "/content/data_used/PNEUMONIA/person502_virus_1012.jpeg\n",
            "/content/data_used/PNEUMONIA/person544_virus_1076.jpeg\n",
            "/content/data_used/PNEUMONIA/person258_bacteria_1208.jpeg\n",
            "/content/data_used/PNEUMONIA/person1411_virus_2415.jpeg\n",
            "/content/data_used/PNEUMONIA/person371_bacteria_1694.jpeg\n",
            "/content/data_used/PNEUMONIA/person536_bacteria_2260.jpeg\n",
            "/content/data_used/PNEUMONIA/person1241_virus_2106.jpeg\n",
            "/content/data_used/PNEUMONIA/person278_bacteria_1313.jpeg\n",
            "/content/data_used/PNEUMONIA/person381_bacteria_1731.jpeg\n",
            "/content/data_used/PNEUMONIA/person1680_bacteria_4455.jpeg\n",
            "/content/data_used/PNEUMONIA/person1599_virus_2776.jpeg\n",
            "/content/data_used/PNEUMONIA/person268_virus_553.jpeg\n",
            "/content/data_used/PNEUMONIA/person1018_virus_1706.jpeg\n",
            "/content/data_used/PNEUMONIA/person1672_virus_2888.jpeg\n",
            "/content/data_used/PNEUMONIA/person1199_bacteria_3149.jpeg\n",
            "/content/data_used/PNEUMONIA/person2_bacteria_3.jpeg\n",
            "/content/data_used/PNEUMONIA/person276_bacteria_1298.jpeg\n",
            "/content/data_used/PNEUMONIA/person311_bacteria_1453.jpeg\n",
            "/content/data_used/PNEUMONIA/person1903_bacteria_4797.jpeg\n",
            "/content/data_used/PNEUMONIA/person1454_bacteria_3779.jpeg\n",
            "/content/data_used/PNEUMONIA/person1088_virus_1800.jpeg\n",
            "/content/data_used/PNEUMONIA/person37_virus_82.jpeg\n",
            "/content/data_used/PNEUMONIA/person995_virus_1676.jpeg\n",
            "/content/data_used/PNEUMONIA/person276_bacteria_1295.jpeg\n",
            "/content/data_used/PNEUMONIA/person1270_bacteria_3230.jpeg\n",
            "/content/data_used/PNEUMONIA/person500_bacteria_2108.jpeg\n",
            "/content/data_used/PNEUMONIA/person485_virus_988.jpeg\n",
            "/content/data_used/PNEUMONIA/person493_bacteria_2086.jpeg\n",
            "/content/data_used/PNEUMONIA/person1499_bacteria_3915.jpeg\n",
            "/content/data_used/PNEUMONIA/person1042_virus_1737.jpeg\n",
            "/content/data_used/PNEUMONIA/person1248_bacteria_3204.jpeg\n",
            "/content/data_used/PNEUMONIA/person24_bacteria_110.jpeg\n",
            "/content/data_used/PNEUMONIA/person101_bacteria_486.jpeg\n",
            "/content/data_used/PNEUMONIA/person751_bacteria_2654.jpeg\n",
            "/content/data_used/PNEUMONIA/person1563_bacteria_4092.jpeg\n",
            "/content/data_used/PNEUMONIA/person556_bacteria_2326.jpeg\n",
            "/content/data_used/PNEUMONIA/person344_virus_705.jpeg\n",
            "/content/data_used/PNEUMONIA/person895_virus_1547.jpeg\n",
            "/content/data_used/PNEUMONIA/person1571_bacteria_4108.jpeg\n",
            "/content/data_used/PNEUMONIA/person1295_bacteria_3258.jpeg\n",
            "/content/data_used/PNEUMONIA/person1453_virus_2485.jpeg\n",
            "/content/data_used/PNEUMONIA/person1482_bacteria_3874.jpeg\n",
            "/content/data_used/PNEUMONIA/person780_bacteria_2684.jpeg\n",
            "/content/data_used/PNEUMONIA/person61_bacteria_289.jpeg\n",
            "/content/data_used/PNEUMONIA/person119_bacteria_565.jpeg\n",
            "/content/data_used/PNEUMONIA/person1628_bacteria_4298.jpeg\n",
            "/content/data_used/PNEUMONIA/person1528_virus_2662.jpeg\n",
            "/content/data_used/PNEUMONIA/person59_virus_116.jpeg\n",
            "/content/data_used/PNEUMONIA/person1111_bacteria_3052.jpeg\n",
            "/content/data_used/PNEUMONIA/person1156_bacteria_3101.jpeg\n",
            "/content/data_used/PNEUMONIA/person64_bacteria_319.jpeg\n",
            "/content/data_used/PNEUMONIA/person351_bacteria_1622.jpeg\n",
            "/content/data_used/PNEUMONIA/person1701_bacteria_4504.jpeg\n",
            "/content/data_used/PNEUMONIA/person1354_bacteria_3448.jpeg\n",
            "/content/data_used/PNEUMONIA/person437_virus_888.jpeg\n",
            "/content/data_used/PNEUMONIA/person1614_virus_2800.jpeg\n",
            "/content/data_used/PNEUMONIA/person943_bacteria_2868.jpeg\n",
            "/content/data_used/PNEUMONIA/person1157_virus_1937.jpeg\n",
            "/content/data_used/PNEUMONIA/person705_virus_1302.jpeg\n",
            "/content/data_used/PNEUMONIA/person419_virus_857.jpeg\n",
            "/content/data_used/PNEUMONIA/person132_virus_266.jpeg\n",
            "/content/data_used/PNEUMONIA/person277_bacteria_1305.jpeg\n",
            "/content/data_used/PNEUMONIA/person596_bacteria_2444.jpeg\n",
            "/content/data_used/PNEUMONIA/person259_bacteria_1219.jpeg\n",
            "/content/data_used/PNEUMONIA/person1454_bacteria_3778.jpeg\n",
            "/content/data_used/PNEUMONIA/person549_bacteria_2303.jpeg\n",
            "/content/data_used/PNEUMONIA/person1482_virus_2573.jpeg\n",
            "/content/data_used/PNEUMONIA/person1646_bacteria_4368.jpeg\n",
            "/content/data_used/PNEUMONIA/person1381_bacteria_3516.jpeg\n",
            "/content/data_used/PNEUMONIA/person1097_bacteria_3038.jpeg\n",
            "/content/data_used/PNEUMONIA/person101_virus_188.jpeg\n",
            "/content/data_used/PNEUMONIA/person91_bacteria_446.jpeg\n",
            "/content/data_used/PNEUMONIA/person75_bacteria_367.jpeg\n",
            "/content/data_used/PNEUMONIA/person99_virus_183.jpeg\n",
            "/content/data_used/PNEUMONIA/person396_bacteria_1796.jpeg\n",
            "/content/data_used/PNEUMONIA/person1480_virus_2566.jpeg\n",
            "/content/data_used/PNEUMONIA/person1332_virus_2300.jpeg\n",
            "/content/data_used/PNEUMONIA/person81_bacteria_396.jpeg\n",
            "/content/data_used/PNEUMONIA/person83_bacteria_412.jpeg\n",
            "/content/data_used/PNEUMONIA/person1214_bacteria_3166.jpeg\n",
            "/content/data_used/PNEUMONIA/person1771_bacteria_4615.jpeg\n",
            "/content/data_used/PNEUMONIA/person1888_bacteria_4775.jpeg\n",
            "/content/data_used/PNEUMONIA/person385_bacteria_1766.jpeg\n",
            "/content/data_used/PNEUMONIA/person1676_virus_2892.jpeg\n",
            "/content/data_used/PNEUMONIA/person654_bacteria_2546.jpeg\n",
            "/content/data_used/PNEUMONIA/person1668_virus_2882.jpeg\n",
            "/content/data_used/PNEUMONIA/person292_virus_602.jpeg\n",
            "/content/data_used/PNEUMONIA/person1096_virus_1816.jpeg\n",
            "/content/data_used/PNEUMONIA/person30_bacteria_151.jpeg\n",
            "/content/data_used/PNEUMONIA/person1691_bacteria_4481.jpeg\n",
            "/content/data_used/PNEUMONIA/person351_bacteria_1621.jpeg\n",
            "/content/data_used/PNEUMONIA/person1320_virus_2277.jpeg\n",
            "/content/data_used/PNEUMONIA/person19_bacteria_61.jpeg\n",
            "/content/data_used/PNEUMONIA/person1636_bacteria_4337.jpeg\n",
            "/content/data_used/PNEUMONIA/person441_bacteria_1918.jpeg\n",
            "/content/data_used/PNEUMONIA/person1501_virus_2611.jpeg\n",
            "/content/data_used/PNEUMONIA/person257_bacteria_1195.jpeg\n",
            "/content/data_used/PNEUMONIA/person400_virus_794.jpeg\n",
            "/content/data_used/PNEUMONIA/person27_bacteria_137.jpeg\n",
            "/content/data_used/PNEUMONIA/person803_virus_1436.jpeg\n",
            "/content/data_used/PNEUMONIA/person1509_bacteria_3951.jpeg\n",
            "/content/data_used/PNEUMONIA/person489_bacteria_2064.jpeg\n",
            "/content/data_used/PNEUMONIA/person145_virus_295.jpeg\n",
            "/content/data_used/PNEUMONIA/person124_bacteria_591.jpeg\n",
            "/content/data_used/PNEUMONIA/person173_bacteria_829.jpeg\n",
            "/content/data_used/PNEUMONIA/person1395_virus_2398.jpeg\n",
            "/content/data_used/PNEUMONIA/person140_bacteria_667.jpeg\n",
            "/content/data_used/PNEUMONIA/person448_bacteria_1933.jpeg\n",
            "/content/data_used/PNEUMONIA/person319_bacteria_1477.jpeg\n",
            "/content/data_used/PNEUMONIA/person1644_bacteria_4356.jpeg\n",
            "/content/data_used/PNEUMONIA/person1946_bacteria_4874.jpeg\n",
            "/content/data_used/PNEUMONIA/person38_bacteria_195.jpeg\n",
            "/content/data_used/PNEUMONIA/person988_virus_1666.jpeg\n",
            "/content/data_used/PNEUMONIA/person600_bacteria_2457.jpeg\n",
            "/content/data_used/PNEUMONIA/person530_virus_1052.jpeg\n",
            "/content/data_used/PNEUMONIA/person1470_bacteria_3829.jpeg\n",
            "/content/data_used/PNEUMONIA/person878_bacteria_2801.jpeg\n",
            "/content/data_used/PNEUMONIA/person1058_bacteria_2992.jpeg\n",
            "/content/data_used/PNEUMONIA/person1412_bacteria_3612.jpeg\n",
            "/content/data_used/PNEUMONIA/person1644_bacteria_4362.jpeg\n",
            "/content/data_used/PNEUMONIA/person1525_virus_2659.jpeg\n",
            "/content/data_used/PNEUMONIA/person1352_bacteria_3445.jpeg\n",
            "/content/data_used/PNEUMONIA/person1381_bacteria_3517.jpeg\n",
            "/content/data_used/PNEUMONIA/person1597_bacteria_4187.jpeg\n",
            "/content/data_used/PNEUMONIA/person1239_bacteria_3195.jpeg\n",
            "/content/data_used/PNEUMONIA/person880_bacteria_2804.jpeg\n",
            "/content/data_used/PNEUMONIA/person64_virus_122.jpeg\n",
            "/content/data_used/PNEUMONIA/person23_bacteria_100.jpeg\n",
            "/content/data_used/PNEUMONIA/person585_virus_1129.jpeg\n",
            "/content/data_used/PNEUMONIA/person477_bacteria_2030.jpeg\n",
            "/content/data_used/PNEUMONIA/person1473_virus_2551.jpeg\n",
            "/content/data_used/PNEUMONIA/person593_bacteria_2435.jpeg\n",
            "/content/data_used/PNEUMONIA/person9_bacteria_39.jpeg\n",
            "/content/data_used/PNEUMONIA/person548_bacteria_2301.jpeg\n",
            "/content/data_used/PNEUMONIA/person475_bacteria_2023.jpeg\n",
            "/content/data_used/PNEUMONIA/person1432_bacteria_3699.jpeg\n",
            "/content/data_used/PNEUMONIA/person1499_virus_2609.jpeg\n",
            "/content/data_used/PNEUMONIA/person549_virus_1089.jpeg\n",
            "/content/data_used/PNEUMONIA/person761_bacteria_2665.jpeg\n",
            "/content/data_used/PNEUMONIA/person1481_bacteria_3864.jpeg\n",
            "/content/data_used/PNEUMONIA/person172_bacteria_827.jpeg\n",
            "/content/data_used/PNEUMONIA/person459_bacteria_1957.jpeg\n",
            "/content/data_used/PNEUMONIA/person702_virus_1299.jpeg\n",
            "/content/data_used/PNEUMONIA/person1349_bacteria_3439.jpeg\n",
            "/content/data_used/PNEUMONIA/person1716_bacteria_4533.jpeg\n",
            "/content/data_used/PNEUMONIA/person24_virus_58.jpeg\n",
            "/content/data_used/PNEUMONIA/person1530_bacteria_4000.jpeg\n",
            "/content/data_used/PNEUMONIA/person1129_bacteria_3070.jpeg\n",
            "/content/data_used/PNEUMONIA/person389_virus_778.jpeg\n",
            "/content/data_used/PNEUMONIA/person1048_virus_1744.jpeg\n",
            "/content/data_used/PNEUMONIA/person3_bacteria_10.jpeg\n",
            "/content/data_used/PNEUMONIA/person1679_bacteria_4449.jpeg\n",
            "/content/data_used/PNEUMONIA/person159_bacteria_746.jpeg\n",
            "/content/data_used/PNEUMONIA/person1320_bacteria_3342.jpeg\n",
            "/content/data_used/PNEUMONIA/person1731_bacteria_4563.jpeg\n",
            "/content/data_used/PNEUMONIA/person515_bacteria_2190.jpeg\n",
            "/content/data_used/PNEUMONIA/person125_virus_254.jpeg\n",
            "/content/data_used/PNEUMONIA/person548_bacteria_2298.jpeg\n",
            "/content/data_used/PNEUMONIA/person1377_virus_2369.jpeg\n",
            "/content/data_used/PNEUMONIA/person1668_bacteria_4421.jpeg\n",
            "/content/data_used/PNEUMONIA/person687_bacteria_2583.jpeg\n",
            "/content/data_used/PNEUMONIA/person495_virus_1001.jpeg\n",
            "/content/data_used/PNEUMONIA/person743_bacteria_2646.jpeg\n",
            "/content/data_used/PNEUMONIA/person1663_bacteria_4412.jpeg\n",
            "/content/data_used/PNEUMONIA/person512_bacteria_2154.jpeg\n",
            "/content/data_used/PNEUMONIA/person75_virus_136.jpeg\n",
            "/content/data_used/PNEUMONIA/person1620_bacteria_4272.jpeg\n",
            "/content/data_used/PNEUMONIA/person66_bacteria_326.jpeg\n",
            "/content/data_used/PNEUMONIA/person1145_virus_1905.jpeg\n",
            "/content/data_used/PNEUMONIA/person779_virus_1410.jpeg\n",
            "/content/data_used/PNEUMONIA/person1496_bacteria_3909.jpeg\n",
            "/content/data_used/PNEUMONIA/person337_bacteria_1566.jpeg\n",
            "/content/data_used/PNEUMONIA/person510_bacteria_2148.jpeg\n",
            "/content/data_used/PNEUMONIA/person563_bacteria_2339.jpeg\n",
            "/content/data_used/PNEUMONIA/person330_virus_683.jpeg\n",
            "/content/data_used/PNEUMONIA/person1108_virus_1833.jpeg\n",
            "/content/data_used/PNEUMONIA/person409_bacteria_1824.jpeg\n",
            "/content/data_used/PNEUMONIA/person1179_bacteria_3127.jpeg\n",
            "/content/data_used/PNEUMONIA/person270_virus_555.jpeg\n",
            "/content/data_used/PNEUMONIA/person133_bacteria_634.jpeg\n",
            "/content/data_used/PNEUMONIA/person1015_virus_1702.jpeg\n",
            "/content/data_used/PNEUMONIA/person20_bacteria_66.jpeg\n",
            "/content/data_used/PNEUMONIA/person1576_bacteria_4121.jpeg\n",
            "/content/data_used/PNEUMONIA/person764_virus_1392.jpeg\n",
            "/content/data_used/PNEUMONIA/person1312_bacteria_3318.jpeg\n",
            "/content/data_used/PNEUMONIA/person487_bacteria_2060.jpeg\n",
            "/content/data_used/PNEUMONIA/person97_virus_181.jpeg\n",
            "/content/data_used/PNEUMONIA/person292_bacteria_1378.jpeg\n",
            "/content/data_used/PNEUMONIA/person849_bacteria_2770.jpeg\n",
            "/content/data_used/PNEUMONIA/person279_virus_576.jpeg\n",
            "/content/data_used/PNEUMONIA/person1321_bacteria_3358.jpeg\n",
            "/content/data_used/PNEUMONIA/person55_bacteria_264.jpeg\n",
            "/content/data_used/PNEUMONIA/person512_bacteria_2155.jpeg\n",
            "/content/data_used/PNEUMONIA/person3_virus_16.jpeg\n",
            "/content/data_used/PNEUMONIA/person266_bacteria_1240.jpeg\n",
            "/content/data_used/PNEUMONIA/person1719_bacteria_4542.jpeg\n",
            "/content/data_used/PNEUMONIA/person1602_virus_2780.jpeg\n",
            "/content/data_used/PNEUMONIA/person31_bacteria_161.jpeg\n",
            "/content/data_used/PNEUMONIA/person265_bacteria_1236.jpeg\n",
            "/content/data_used/PNEUMONIA/person929_bacteria_2854.jpeg\n",
            "/content/data_used/PNEUMONIA/person43_virus_92.jpeg\n",
            "/content/data_used/PNEUMONIA/person49_virus_101.jpeg\n",
            "/content/data_used/PNEUMONIA/person1656_virus_2862.jpeg\n",
            "/content/data_used/PNEUMONIA/person1216_bacteria_3168.jpeg\n",
            "/content/data_used/PNEUMONIA/person414_virus_845.jpeg\n",
            "/content/data_used/PNEUMONIA/person1474_virus_2557.jpeg\n",
            "/content/data_used/PNEUMONIA/person508_bacteria_2143.jpeg\n",
            "/content/data_used/PNEUMONIA/person1294_bacteria_3257.jpeg\n",
            "/content/data_used/PNEUMONIA/person938_virus_1600.jpeg\n",
            "/content/data_used/PNEUMONIA/person1158_virus_1941.jpeg\n",
            "/content/data_used/PNEUMONIA/person629_bacteria_2506.jpeg\n",
            "/content/data_used/PNEUMONIA/person874_bacteria_2797.jpeg\n",
            "/content/data_used/PNEUMONIA/person1179_virus_2006.jpeg\n",
            "/content/data_used/PNEUMONIA/person721_bacteria_2623.jpeg\n",
            "/content/data_used/PNEUMONIA/person1557_bacteria_4065.jpeg\n",
            "/content/data_used/PNEUMONIA/person296_bacteria_1395.jpeg\n",
            "/content/data_used/PNEUMONIA/person162_virus_321.jpeg\n",
            "/content/data_used/PNEUMONIA/person354_virus_729.jpeg\n",
            "/content/data_used/PNEUMONIA/person310_bacteria_1451.jpeg\n",
            "/content/data_used/PNEUMONIA/person23_bacteria_94.jpeg\n",
            "/content/data_used/PNEUMONIA/person901_virus_1555.jpeg\n",
            "/content/data_used/PNEUMONIA/person1176_bacteria_3123.jpeg\n",
            "/content/data_used/PNEUMONIA/person1363_virus_2346.jpeg\n",
            "/content/data_used/PNEUMONIA/person1180_virus_2008.jpeg\n",
            "/content/data_used/PNEUMONIA/person398_bacteria_1801.jpeg\n",
            "/content/data_used/PNEUMONIA/person23_bacteria_85.jpeg\n",
            "/content/data_used/PNEUMONIA/person1507_bacteria_3944.jpeg\n",
            "/content/data_used/PNEUMONIA/person1242_virus_2109.jpeg\n",
            "/content/data_used/PNEUMONIA/person121_bacteria_580.jpeg\n",
            "/content/data_used/PNEUMONIA/person1385_bacteria_3524.jpeg\n",
            "/content/data_used/PNEUMONIA/person535_bacteria_2256.jpeg\n",
            "/content/data_used/PNEUMONIA/person1242_bacteria_3198.jpeg\n",
            "/content/data_used/PNEUMONIA/person429_virus_877.jpeg\n",
            "/content/data_used/PNEUMONIA/person690_bacteria_2587.jpeg\n",
            "/content/data_used/PNEUMONIA/person1620_virus_2807.jpeg\n",
            "/content/data_used/PNEUMONIA/person611_bacteria_2476.jpeg\n",
            "/content/data_used/PNEUMONIA/person537_bacteria_2262.jpeg\n",
            "/content/data_used/PNEUMONIA/person1790_bacteria_4638.jpeg\n",
            "/content/data_used/PNEUMONIA/person1539_bacteria_4022.jpeg\n",
            "/content/data_used/PNEUMONIA/person110_bacteria_531.jpeg\n",
            "/content/data_used/PNEUMONIA/person598_virus_1154.jpeg\n",
            "/content/data_used/PNEUMONIA/person884_virus_1534.jpeg\n",
            "/content/data_used/PNEUMONIA/person1119_virus_1844.jpeg\n",
            "/content/data_used/PNEUMONIA/person1185_bacteria_3133.jpeg\n",
            "/content/data_used/PNEUMONIA/person1535_bacteria_4016.jpeg\n",
            "/content/data_used/PNEUMONIA/person299_bacteria_1419.jpeg\n",
            "/content/data_used/PNEUMONIA/person912_bacteria_2837.jpeg\n",
            "/content/data_used/PNEUMONIA/person945_bacteria_2870.jpeg\n",
            "/content/data_used/PNEUMONIA/person274_bacteria_1288.jpeg\n",
            "/content/data_used/PNEUMONIA/person267_bacteria_1253.jpeg\n",
            "/content/data_used/PNEUMONIA/person71_bacteria_350.jpeg\n",
            "/content/data_used/PNEUMONIA/person1181_bacteria_3129.jpeg\n",
            "/content/data_used/PNEUMONIA/person1488_virus_2589.jpeg\n",
            "/content/data_used/PNEUMONIA/person1628_bacteria_4295.jpeg\n",
            "/content/data_used/PNEUMONIA/person1417_bacteria_3635.jpeg\n",
            "/content/data_used/PNEUMONIA/person319_bacteria_1480.jpeg\n",
            "/content/data_used/PNEUMONIA/person383_bacteria_1753.jpeg\n",
            "/content/data_used/PNEUMONIA/person1000_virus_1681.jpeg\n",
            "/content/data_used/PNEUMONIA/person1223_virus_2073.jpeg\n",
            "/content/data_used/PNEUMONIA/person355_bacteria_1637.jpeg\n",
            "/content/data_used/PNEUMONIA/person434_bacteria_1877.jpeg\n",
            "/content/data_used/PNEUMONIA/person336_bacteria_1552.jpeg\n",
            "/content/data_used/PNEUMONIA/person1359_virus_2340.jpeg\n",
            "/content/data_used/PNEUMONIA/person990_bacteria_2917.jpeg\n",
            "/content/data_used/PNEUMONIA/person300_bacteria_1423.jpeg\n",
            "/content/data_used/PNEUMONIA/person494_bacteria_2088.jpeg\n",
            "/content/data_used/PNEUMONIA/person1308_virus_2253.jpeg\n",
            "/content/data_used/PNEUMONIA/person458_bacteria_1954.jpeg\n",
            "/content/data_used/PNEUMONIA/person1010_virus_1695.jpeg\n",
            "/content/data_used/PNEUMONIA/person1211_bacteria_3163.jpeg\n",
            "/content/data_used/PNEUMONIA/person699_virus_1295.jpeg\n",
            "/content/data_used/PNEUMONIA/person12_bacteria_46.jpeg\n",
            "/content/data_used/PNEUMONIA/person1074_bacteria_3012.jpeg\n",
            "/content/data_used/PNEUMONIA/person1341_virus_2313.jpeg\n",
            "/content/data_used/PNEUMONIA/person1230_bacteria_3185.jpeg\n",
            "/content/data_used/PNEUMONIA/person371_bacteria_1699.jpeg\n",
            "/content/data_used/PNEUMONIA/person1187_bacteria_3136.jpeg\n",
            "/content/data_used/PNEUMONIA/person155_bacteria_731.jpeg\n",
            "/content/data_used/PNEUMONIA/person1091_virus_1810.jpeg\n",
            "/content/data_used/PNEUMONIA/person1598_bacteria_4198.jpeg\n",
            "/content/data_used/PNEUMONIA/person82_bacteria_402.jpeg\n",
            "/content/data_used/PNEUMONIA/person1231_bacteria_3186.jpeg\n",
            "/content/data_used/PNEUMONIA/person471_bacteria_2004.jpeg\n",
            "/content/data_used/PNEUMONIA/person1005_virus_1688.jpeg\n",
            "/content/data_used/PNEUMONIA/person595_virus_1147.jpeg\n",
            "/content/data_used/PNEUMONIA/person363_bacteria_1653.jpeg\n",
            "/content/data_used/PNEUMONIA/person1_bacteria_1.jpeg\n",
            "/content/data_used/PNEUMONIA/person518_bacteria_2200.jpeg\n",
            "/content/data_used/PNEUMONIA/person1203_bacteria_3154.jpeg\n",
            "/content/data_used/PNEUMONIA/person586_bacteria_2418.jpeg\n",
            "/content/data_used/PNEUMONIA/person1313_virus_2264.jpeg\n",
            "/content/data_used/PNEUMONIA/person309_virus_632.jpeg\n",
            "/content/data_used/PNEUMONIA/person482_bacteria_2043.jpeg\n",
            "/content/data_used/PNEUMONIA/person83_bacteria_407.jpeg\n",
            "/content/data_used/PNEUMONIA/person124_bacteria_589.jpeg\n",
            "/content/data_used/PNEUMONIA/person785_bacteria_2689.jpeg\n",
            "/content/data_used/PNEUMONIA/person1020_bacteria_2951.jpeg\n",
            "/content/data_used/PNEUMONIA/person561_bacteria_2331.jpeg\n",
            "/content/data_used/PNEUMONIA/person400_bacteria_1807.jpeg\n",
            "/content/data_used/PNEUMONIA/person552_virus_1092.jpeg\n",
            "/content/data_used/PNEUMONIA/person8_bacteria_37.jpeg\n",
            "/content/data_used/PNEUMONIA/person1107_virus_1832.jpeg\n",
            "/content/data_used/PNEUMONIA/person621_virus_1194.jpeg\n",
            "/content/data_used/PNEUMONIA/person475_bacteria_2024.jpeg\n",
            "/content/data_used/PNEUMONIA/person1436_bacteria_3712.jpeg\n",
            "/content/data_used/PNEUMONIA/person64_bacteria_316.jpeg\n",
            "/content/data_used/PNEUMONIA/person462_bacteria_1967.jpeg\n",
            "/content/data_used/PNEUMONIA/person1562_bacteria_4078.jpeg\n",
            "/content/data_used/PNEUMONIA/person616_virus_1186.jpeg\n",
            "/content/data_used/PNEUMONIA/person313_bacteria_1457.jpeg\n",
            "/content/data_used/PNEUMONIA/person25_bacteria_121.jpeg\n",
            "/content/data_used/PNEUMONIA/person103_bacteria_489.jpeg\n",
            "/content/data_used/PNEUMONIA/person1393_virus_2396.jpeg\n",
            "/content/data_used/PNEUMONIA/person1709_bacteria_4522.jpeg\n",
            "/content/data_used/PNEUMONIA/person458_bacteria_1950.jpeg\n",
            "/content/data_used/PNEUMONIA/person1343_virus_2316.jpeg\n",
            "/content/data_used/PNEUMONIA/person605_bacteria_2467.jpeg\n",
            "/content/data_used/PNEUMONIA/person735_virus_1356.jpeg\n",
            "/content/data_used/PNEUMONIA/person26_bacteria_130.jpeg\n",
            "/content/data_used/PNEUMONIA/person1784_bacteria_4631.jpeg\n",
            "/content/data_used/PNEUMONIA/person19_virus_50.jpeg\n",
            "/content/data_used/PNEUMONIA/person569_virus_1110.jpeg\n",
            "/content/data_used/PNEUMONIA/person1473_virus_2553.jpeg\n",
            "/content/data_used/PNEUMONIA/person1423_bacteria_3650.jpeg\n",
            "/content/data_used/PNEUMONIA/person1595_virus_2771.jpeg\n",
            "/content/data_used/PNEUMONIA/person481_virus_983.jpeg\n",
            "/content/data_used/PNEUMONIA/person475_bacteria_2025.jpeg\n",
            "/content/data_used/PNEUMONIA/person1507_bacteria_3948.jpeg\n",
            "/content/data_used/PNEUMONIA/person1787_bacteria_4634.jpeg\n",
            "/content/data_used/PNEUMONIA/person629_bacteria_2509.jpeg\n",
            "/content/data_used/PNEUMONIA/person921_bacteria_2846.jpeg\n",
            "/content/data_used/PNEUMONIA/person1527_virus_2661.jpeg\n",
            "/content/data_used/PNEUMONIA/person629_bacteria_2507.jpeg\n",
            "/content/data_used/PNEUMONIA/person71_bacteria_351.jpeg\n",
            "/content/data_used/PNEUMONIA/person333_virus_688.jpeg\n",
            "/content/data_used/PNEUMONIA/person258_bacteria_1205.jpeg\n",
            "/content/data_used/PNEUMONIA/person659_bacteria_2551.jpeg\n",
            "/content/data_used/PNEUMONIA/person314_bacteria_1461.jpeg\n",
            "/content/data_used/PNEUMONIA/person1462_virus_2512.jpeg\n",
            "/content/data_used/PNEUMONIA/person263_bacteria_1227.jpeg\n",
            "/content/data_used/PNEUMONIA/person956_bacteria_2881.jpeg\n",
            "/content/data_used/PNEUMONIA/person110_virus_207.jpeg\n",
            "/content/data_used/PNEUMONIA/person1433_virus_2447.jpeg\n",
            "/content/data_used/PNEUMONIA/person101_bacteria_483.jpeg\n",
            "/content/data_used/PNEUMONIA/person124_virus_231.jpeg\n",
            "/content/data_used/PNEUMONIA/person663_virus_1248.jpeg\n",
            "/content/data_used/PNEUMONIA/person1040_bacteria_2974.jpeg\n",
            "/content/data_used/PNEUMONIA/person1669_virus_2884.jpeg\n",
            "/content/data_used/PNEUMONIA/person82_bacteria_404.jpeg\n",
            "/content/data_used/PNEUMONIA/person321_bacteria_1484.jpeg\n",
            "/content/data_used/PNEUMONIA/person1493_bacteria_3898.jpeg\n",
            "/content/data_used/PNEUMONIA/person983_virus_1660.jpeg\n",
            "/content/data_used/PNEUMONIA/person274_bacteria_1290.jpeg\n",
            "/content/data_used/PNEUMONIA/person797_virus_1429.jpeg\n",
            "/content/data_used/PNEUMONIA/person133_bacteria_633.jpeg\n",
            "/content/data_used/PNEUMONIA/person440_bacteria_1897.jpeg\n",
            "/content/data_used/PNEUMONIA/person507_virus_1019.jpeg\n",
            "/content/data_used/PNEUMONIA/person38_bacteria_194.jpeg\n",
            "/content/data_used/PNEUMONIA/person1345_bacteria_3427.jpeg\n",
            "/content/data_used/PNEUMONIA/person863_virus_1508.jpeg\n",
            "/content/data_used/PNEUMONIA/person73_bacteria_358.jpeg\n",
            "/content/data_used/PNEUMONIA/person414_bacteria_1835.jpeg\n",
            "/content/data_used/PNEUMONIA/person1484_virus_2576.jpeg\n",
            "/content/data_used/PNEUMONIA/person491_bacteria_2075.jpeg\n",
            "/content/data_used/PNEUMONIA/person62_bacteria_298.jpeg\n",
            "/content/data_used/PNEUMONIA/person488_bacteria_2061.jpeg\n",
            "/content/data_used/PNEUMONIA/person26_bacteria_123.jpeg\n",
            "/content/data_used/PNEUMONIA/person9_bacteria_40.jpeg\n",
            "/content/data_used/PNEUMONIA/person288_virus_587.jpeg\n",
            "/content/data_used/PNEUMONIA/person1625_virus_2817.jpeg\n",
            "/content/data_used/PNEUMONIA/person258_bacteria_1216.jpeg\n",
            "/content/data_used/PNEUMONIA/person1929_bacteria_4839.jpeg\n",
            "/content/data_used/PNEUMONIA/person27_bacteria_136.jpeg\n",
            "/content/data_used/PNEUMONIA/person1383_virus_2377.jpeg\n",
            "/content/data_used/PNEUMONIA/person445_bacteria_1930.jpeg\n",
            "/content/data_used/PNEUMONIA/person1665_virus_2878.jpeg\n",
            "/content/data_used/PNEUMONIA/person364_virus_743.jpeg\n",
            "/content/data_used/PNEUMONIA/person89_virus_168.jpeg\n",
            "/content/data_used/PNEUMONIA/person126_virus_255.jpeg\n",
            "/content/data_used/PNEUMONIA/person110_virus_206.jpeg\n",
            "/content/data_used/PNEUMONIA/person387_bacteria_1769.jpeg\n",
            "/content/data_used/PNEUMONIA/person25_bacteria_116.jpeg\n",
            "/content/data_used/PNEUMONIA/person1077_bacteria_3017.jpeg\n",
            "/content/data_used/PNEUMONIA/person475_bacteria_2021.jpeg\n",
            "/content/data_used/PNEUMONIA/person921_virus_1578.jpeg\n",
            "/content/data_used/PNEUMONIA/person114_bacteria_545.jpeg\n",
            "/content/data_used/PNEUMONIA/person1596_bacteria_4184.jpeg\n",
            "/content/data_used/PNEUMONIA/person566_bacteria_2351.jpeg\n",
            "/content/data_used/PNEUMONIA/person70_virus_130.jpeg\n",
            "/content/data_used/PNEUMONIA/person1907_bacteria_4806.jpeg\n",
            "/content/data_used/PNEUMONIA/person892_bacteria_2817.jpeg\n",
            "/content/data_used/PNEUMONIA/person1238_bacteria_3194.jpeg\n",
            "/content/data_used/PNEUMONIA/person600_bacteria_2458.jpeg\n",
            "/content/data_used/PNEUMONIA/person38_bacteria_192.jpeg\n",
            "/content/data_used/PNEUMONIA/person338_bacteria_1567.jpeg\n",
            "/content/data_used/PNEUMONIA/person576_bacteria_2376.jpeg\n",
            "/content/data_used/PNEUMONIA/person30_bacteria_149.jpeg\n",
            "/content/data_used/PNEUMONIA/person749_virus_1374.jpeg\n",
            "/content/data_used/PNEUMONIA/person900_virus_1554.jpeg\n",
            "/content/data_used/PNEUMONIA/person26_virus_60.jpeg\n",
            "/content/data_used/PNEUMONIA/person30_bacteria_147.jpeg\n",
            "/content/data_used/PNEUMONIA/person1770_bacteria_4614.jpeg\n",
            "/content/data_used/PNEUMONIA/person1872_bacteria_4751.jpeg\n",
            "/content/data_used/PNEUMONIA/person364_bacteria_1658.jpeg\n",
            "/content/data_used/PNEUMONIA/person87_virus_160.jpeg\n",
            "/content/data_used/PNEUMONIA/person599_bacteria_2455.jpeg\n",
            "/content/data_used/PNEUMONIA/person60_bacteria_285.jpeg\n",
            "/content/data_used/PNEUMONIA/person301_virus_622.jpeg\n",
            "/content/data_used/PNEUMONIA/person618_bacteria_2489.jpeg\n",
            "/content/data_used/PNEUMONIA/person371_bacteria_1696.jpeg\n",
            "/content/data_used/PNEUMONIA/person1310_bacteria_3300.jpeg\n",
            "/content/data_used/PNEUMONIA/person1433_bacteria_3705.jpeg\n",
            "/content/data_used/PNEUMONIA/person1670_bacteria_4427.jpeg\n",
            "/content/data_used/PNEUMONIA/person367_virus_747.jpeg\n",
            "/content/data_used/PNEUMONIA/person572_bacteria_2368.jpeg\n",
            "/content/data_used/PNEUMONIA/person564_bacteria_2345.jpeg\n",
            "/content/data_used/PNEUMONIA/person23_bacteria_89.jpeg\n",
            "/content/data_used/PNEUMONIA/person1478_bacteria_3848.jpeg\n",
            "/content/data_used/PNEUMONIA/person139_bacteria_661.jpeg\n",
            "/content/data_used/PNEUMONIA/person1590_bacteria_4175.jpeg\n",
            "/content/data_used/PNEUMONIA/person36_bacteria_184.jpeg\n",
            "/content/data_used/PNEUMONIA/person66_bacteria_324.jpeg\n",
            "/content/data_used/PNEUMONIA/person40_bacteria_205.jpeg\n",
            "/content/data_used/PNEUMONIA/person1046_virus_1742.jpeg\n",
            "/content/data_used/PNEUMONIA/person291_virus_596.jpeg\n",
            "/content/data_used/PNEUMONIA/person40_bacteria_203.jpeg\n",
            "/content/data_used/PNEUMONIA/person904_bacteria_2829.jpeg\n",
            "/content/data_used/PNEUMONIA/person477_bacteria_2028.jpeg\n",
            "/content/data_used/PNEUMONIA/person589_bacteria_2425.jpeg\n",
            "/content/data_used/PNEUMONIA/person880_virus_1529.jpeg\n",
            "/content/data_used/PNEUMONIA/person763_bacteria_2667.jpeg\n",
            "/content/data_used/PNEUMONIA/person886_bacteria_2810.jpeg\n",
            "/content/data_used/PNEUMONIA/person100_bacteria_480.jpeg\n",
            "/content/data_used/PNEUMONIA/person712_virus_1310.jpeg\n",
            "/content/data_used/PNEUMONIA/person331_virus_684.jpeg\n",
            "/content/data_used/PNEUMONIA/person63_bacteria_306.jpeg\n",
            "/content/data_used/PNEUMONIA/person616_bacteria_2487.jpeg\n",
            "/content/data_used/PNEUMONIA/person573_virus_1116.jpeg\n",
            "/content/data_used/PNEUMONIA/person26_bacteria_133.jpeg\n",
            "/content/data_used/PNEUMONIA/person401_virus_797.jpeg\n",
            "/content/data_used/PNEUMONIA/person1638_bacteria_4340.jpeg\n",
            "/content/data_used/PNEUMONIA/person1881_bacteria_4767.jpeg\n",
            "/content/data_used/PNEUMONIA/person1590_virus_2764.jpeg\n",
            "/content/data_used/PNEUMONIA/person1652_bacteria_4383.jpeg\n",
            "/content/data_used/PNEUMONIA/person1893_bacteria_4781.jpeg\n",
            "/content/data_used/PNEUMONIA/person1627_virus_2819.jpeg\n",
            "/content/data_used/PNEUMONIA/person427_bacteria_1866.jpeg\n",
            "/content/data_used/PNEUMONIA/person1286_bacteria_3249.jpeg\n",
            "/content/data_used/PNEUMONIA/person320_virus_647.jpeg\n",
            "/content/data_used/PNEUMONIA/person1430_bacteria_3693.jpeg\n",
            "/content/data_used/PNEUMONIA/person253_bacteria_1157.jpeg\n",
            "/content/data_used/PNEUMONIA/person1463_bacteria_3811.jpeg\n",
            "/content/data_used/PNEUMONIA/person888_bacteria_2812.jpeg\n",
            "/content/data_used/PNEUMONIA/person1764_bacteria_4607.jpeg\n",
            "/content/data_used/PNEUMONIA/person1536_bacteria_4018.jpeg\n",
            "/content/data_used/PNEUMONIA/person258_bacteria_1209.jpeg\n",
            "/content/data_used/PNEUMONIA/person450_bacteria_1941.jpeg\n",
            "/content/data_used/PNEUMONIA/person1180_virus_2011.jpeg\n",
            "/content/data_used/PNEUMONIA/person1848_bacteria_4719.jpeg\n",
            "/content/data_used/PNEUMONIA/person61_bacteria_294.jpeg\n",
            "/content/data_used/PNEUMONIA/person427_bacteria_1864.jpeg\n",
            "/content/data_used/PNEUMONIA/person1453_bacteria_3772.jpeg\n",
            "/content/data_used/PNEUMONIA/person873_bacteria_2796.jpeg\n",
            "/content/data_used/PNEUMONIA/person33_bacteria_174.jpeg\n",
            "/content/data_used/PNEUMONIA/person306_virus_628.jpeg\n",
            "/content/data_used/PNEUMONIA/person1566_bacteria_4099.jpeg\n",
            "/content/data_used/PNEUMONIA/person408_bacteria_1823.jpeg\n",
            "/content/data_used/PNEUMONIA/person841_bacteria_2761.jpeg\n",
            "/content/data_used/PNEUMONIA/person1361_bacteria_3476.jpeg\n",
            "/content/data_used/PNEUMONIA/person1374_virus_2365.jpeg\n",
            "/content/data_used/PNEUMONIA/person308_virus_630.jpeg\n",
            "/content/data_used/PNEUMONIA/person30_bacteria_154.jpeg\n",
            "/content/data_used/PNEUMONIA/person124_virus_249.jpeg\n",
            "/content/data_used/PNEUMONIA/person745_bacteria_2648.jpeg\n",
            "/content/data_used/PNEUMONIA/person815_bacteria_2726.jpeg\n",
            "/content/data_used/PNEUMONIA/person1582_bacteria_4140.jpeg\n",
            "/content/data_used/PNEUMONIA/person1911_bacteria_4815.jpeg\n",
            "/content/data_used/PNEUMONIA/person136_bacteria_652.jpeg\n",
            "/content/data_used/PNEUMONIA/person1458_virus_2501.jpeg\n",
            "/content/data_used/PNEUMONIA/person1164_virus_1956.jpeg\n",
            "/content/data_used/PNEUMONIA/person706_virus_1304.jpeg\n",
            "/content/data_used/PNEUMONIA/person124_virus_238.jpeg\n",
            "/content/data_used/PNEUMONIA/person541_virus_1071.jpeg\n",
            "/content/data_used/PNEUMONIA/person1413_bacteria_3620.jpeg\n",
            "/content/data_used/PNEUMONIA/person894_bacteria_2819.jpeg\n",
            "/content/data_used/PNEUMONIA/person1081_virus_1793.jpeg\n",
            "/content/data_used/PNEUMONIA/person49_bacteria_237.jpeg\n",
            "/content/data_used/PNEUMONIA/person1471_virus_2549.jpeg\n",
            "/content/data_used/PNEUMONIA/person278_virus_572.jpeg\n",
            "/content/data_used/PNEUMONIA/person67_bacteria_332.jpeg\n",
            "/content/data_used/PNEUMONIA/person94_virus_176.jpeg\n",
            "/content/data_used/PNEUMONIA/person51_bacteria_243.jpeg\n",
            "/content/data_used/PNEUMONIA/person368_virus_748.jpeg\n",
            "/content/data_used/PNEUMONIA/person648_virus_1230.jpeg\n",
            "/content/data_used/PNEUMONIA/person1217_bacteria_3169.jpeg\n",
            "/content/data_used/PNEUMONIA/person317_bacteria_1471.jpeg\n",
            "/content/data_used/PNEUMONIA/person543_bacteria_2284.jpeg\n",
            "/content/data_used/PNEUMONIA/person701_virus_1297.jpeg\n",
            "/content/data_used/PNEUMONIA/person647_virus_1229.jpeg\n",
            "/content/data_used/PNEUMONIA/person331_bacteria_1528.jpeg\n",
            "/content/data_used/PNEUMONIA/person1679_bacteria_4450.jpeg\n",
            "/content/data_used/PNEUMONIA/person91_bacteria_449.jpeg\n",
            "/content/data_used/PNEUMONIA/person888_virus_1538.jpeg\n",
            "/content/data_used/PNEUMONIA/person1272_virus_2190.jpeg\n",
            "/content/data_used/PNEUMONIA/person437_bacteria_1887.jpeg\n",
            "/content/data_used/PNEUMONIA/person82_bacteria_405.jpeg\n",
            "/content/data_used/PNEUMONIA/person1635_bacteria_4335.jpeg\n",
            "/content/data_used/PNEUMONIA/person502_virus_1011.jpeg\n",
            "/content/data_used/PNEUMONIA/person1152_virus_1930.jpeg\n",
            "/content/data_used/PNEUMONIA/person1839_bacteria_4705.jpeg\n",
            "/content/data_used/PNEUMONIA/person583_bacteria_2409.jpeg\n",
            "/content/data_used/PNEUMONIA/person1391_bacteria_3536.jpeg\n",
            "/content/data_used/PNEUMONIA/person365_virus_745.jpeg\n",
            "/content/data_used/PNEUMONIA/person76_bacteria_370.jpeg\n",
            "/content/data_used/PNEUMONIA/person563_bacteria_2335.jpeg\n",
            "/content/data_used/PNEUMONIA/person630_virus_1209.jpeg\n",
            "/content/data_used/PNEUMONIA/person107_virus_197.jpeg\n",
            "/content/data_used/PNEUMONIA/person1312_bacteria_3313.jpeg\n",
            "/content/data_used/PNEUMONIA/person811_bacteria_2721.jpeg\n",
            "/content/data_used/PNEUMONIA/person1026_virus_1718.jpeg\n",
            "/content/data_used/PNEUMONIA/person1339_bacteria_3399.jpeg\n",
            "/content/data_used/PNEUMONIA/person132_bacteria_632.jpeg\n",
            "/content/data_used/PNEUMONIA/person38_bacteria_191.jpeg\n",
            "/content/data_used/PNEUMONIA/person147_bacteria_711.jpeg\n",
            "/content/data_used/PNEUMONIA/person255_bacteria_1188.jpeg\n",
            "/content/data_used/PNEUMONIA/person292_virus_600.jpeg\n",
            "/content/data_used/PNEUMONIA/person1324_virus_2284.jpeg\n",
            "/content/data_used/PNEUMONIA/person1927_bacteria_4837.jpeg\n",
            "/content/data_used/PNEUMONIA/person739_bacteria_2642.jpeg\n",
            "/content/data_used/PNEUMONIA/person1561_bacteria_4077.jpeg\n",
            "/content/data_used/PNEUMONIA/person1100_virus_1820.jpeg\n",
            "/content/data_used/PNEUMONIA/person1222_virus_2071.jpeg\n",
            "/content/data_used/PNEUMONIA/person383_bacteria_1748.jpeg\n",
            "/content/data_used/PNEUMONIA/person301_bacteria_1427.jpeg\n",
            "/content/data_used/PNEUMONIA/person360_virus_739.jpeg\n",
            "/content/data_used/PNEUMONIA/person78_bacteria_380.jpeg\n",
            "/content/data_used/PNEUMONIA/person630_bacteria_2513.jpeg\n",
            "/content/data_used/PNEUMONIA/person853_bacteria_2774.jpeg\n",
            "/content/data_used/PNEUMONIA/person59_bacteria_281.jpeg\n",
            "/content/data_used/PNEUMONIA/person1028_bacteria_2960.jpeg\n",
            "/content/data_used/PNEUMONIA/person1308_bacteria_3288.jpeg\n",
            "/content/data_used/PNEUMONIA/person506_bacteria_2138.jpeg\n",
            "/content/data_used/PNEUMONIA/person367_bacteria_1665.jpeg\n",
            "/content/data_used/PNEUMONIA/person753_virus_1378.jpeg\n",
            "/content/data_used/PNEUMONIA/person1611_bacteria_4241.jpeg\n",
            "/content/data_used/PNEUMONIA/person108_virus_199.jpeg\n",
            "/content/data_used/PNEUMONIA/person1306_bacteria_3272.jpeg\n",
            "/content/data_used/PNEUMONIA/person331_bacteria_1527.jpeg\n",
            "/content/data_used/PNEUMONIA/person1427_virus_2441.jpeg\n",
            "/content/data_used/PNEUMONIA/person877_bacteria_2800.jpeg\n",
            "/content/data_used/PNEUMONIA/person1019_virus_1707.jpeg\n",
            "/content/data_used/PNEUMONIA/person750_bacteria_2653.jpeg\n",
            "/content/data_used/PNEUMONIA/person1254_virus_2130.jpeg\n",
            "/content/data_used/PNEUMONIA/person347_bacteria_1594.jpeg\n",
            "/content/data_used/PNEUMONIA/person1139_virus_1882.jpeg\n",
            "/content/data_used/PNEUMONIA/person1411_bacteria_3603.jpeg\n",
            "/content/data_used/PNEUMONIA/person294_bacteria_1382.jpeg\n",
            "/content/data_used/PNEUMONIA/person354_bacteria_1632.jpeg\n",
            "/content/data_used/PNEUMONIA/person459_virus_947.jpeg\n",
            "/content/data_used/PNEUMONIA/person1628_bacteria_4293.jpeg\n",
            "/content/data_used/PNEUMONIA/person1073_bacteria_3008.jpeg\n",
            "/content/data_used/PNEUMONIA/person91_bacteria_448.jpeg\n",
            "/content/data_used/PNEUMONIA/person1488_virus_2585.jpeg\n",
            "/content/data_used/PNEUMONIA/person1818_bacteria_4676.jpeg\n",
            "/content/data_used/PNEUMONIA/person1440_bacteria_3723.jpeg\n",
            "/content/data_used/PNEUMONIA/person639_virus_1220.jpeg\n",
            "/content/data_used/PNEUMONIA/person130_virus_263.jpeg\n",
            "/content/data_used/PNEUMONIA/person402_bacteria_1812.jpeg\n",
            "/content/data_used/PNEUMONIA/person597_bacteria_2450.jpeg\n",
            "/content/data_used/PNEUMONIA/person759_virus_1387.jpeg\n",
            "/content/data_used/PNEUMONIA/person1595_bacteria_4183.jpeg\n",
            "/content/data_used/PNEUMONIA/person1169_virus_1968.jpeg\n",
            "/content/data_used/PNEUMONIA/person100_bacteria_481.jpeg\n",
            "/content/data_used/PNEUMONIA/person477_bacteria_2029.jpeg\n",
            "/content/data_used/PNEUMONIA/person88_bacteria_437.jpeg\n",
            "/content/data_used/PNEUMONIA/person1492_virus_2599.jpeg\n",
            "/content/data_used/PNEUMONIA/person33_bacteria_169.jpeg\n",
            "/content/data_used/PNEUMONIA/person1261_bacteria_3219.jpeg\n",
            "/content/data_used/PNEUMONIA/person876_bacteria_2799.jpeg\n",
            "/content/data_used/PNEUMONIA/person51_bacteria_242.jpeg\n",
            "/content/data_used/PNEUMONIA/person97_virus_180.jpeg\n",
            "/content/data_used/PNEUMONIA/person1663_bacteria_4411.jpeg\n",
            "/content/data_used/PNEUMONIA/person104_virus_191.jpeg\n",
            "/content/data_used/PNEUMONIA/person441_bacteria_1900.jpeg\n",
            "/content/data_used/PNEUMONIA/person321_bacteria_1486.jpeg\n",
            "/content/data_used/PNEUMONIA/person1283_bacteria_3246.jpeg\n",
            "/content/data_used/PNEUMONIA/person296_bacteria_1397.jpeg\n",
            "/content/data_used/PNEUMONIA/person680_bacteria_2575.jpeg\n",
            "/content/data_used/PNEUMONIA/person871_bacteria_2793.jpeg\n",
            "/content/data_used/PNEUMONIA/person1038_bacteria_2972.jpeg\n",
            "/content/data_used/PNEUMONIA/person1376_virus_2367.jpeg\n",
            "/content/data_used/PNEUMONIA/person808_virus_1442.jpeg\n",
            "/content/data_used/PNEUMONIA/person359_bacteria_1642.jpeg\n",
            "/content/data_used/PNEUMONIA/person531_bacteria_2242.jpeg\n",
            "/content/data_used/PNEUMONIA/person28_bacteria_143.jpeg\n",
            "/content/data_used/PNEUMONIA/person73_bacteria_359.jpeg\n",
            "/content/data_used/PNEUMONIA/person155_bacteria_729.jpeg\n",
            "/content/data_used/PNEUMONIA/person101_virus_187.jpeg\n",
            "/content/data_used/PNEUMONIA/person605_virus_1166.jpeg\n",
            "/content/data_used/PNEUMONIA/person608_bacteria_2471.jpeg\n",
            "/content/data_used/PNEUMONIA/person256_virus_537.jpeg\n",
            "/content/data_used/PNEUMONIA/person1952_bacteria_4883.jpeg\n",
            "/content/data_used/PNEUMONIA/person1667_virus_2881.jpeg\n",
            "/content/data_used/PNEUMONIA/person289_virus_593.jpeg\n",
            "/content/data_used/PNEUMONIA/person1628_bacteria_4297.jpeg\n",
            "/content/data_used/PNEUMONIA/person478_virus_975.jpeg\n",
            "/content/data_used/PNEUMONIA/person920_bacteria_2845.jpeg\n",
            "/content/data_used/PNEUMONIA/person368_bacteria_1672.jpeg\n",
            "/content/data_used/PNEUMONIA/person1377_bacteria_3512.jpeg\n",
            "/content/data_used/PNEUMONIA/person830_virus_1466.jpeg\n",
            "/content/data_used/PNEUMONIA/person1365_bacteria_3489.jpeg\n",
            "/content/data_used/PNEUMONIA/person23_bacteria_103.jpeg\n",
            "/content/data_used/PNEUMONIA/person906_bacteria_2831.jpeg\n",
            "/content/data_used/PNEUMONIA/person458_bacteria_1955.jpeg\n",
            "/content/data_used/PNEUMONIA/person1585_bacteria_4151.jpeg\n",
            "/content/data_used/PNEUMONIA/person645_virus_1226.jpeg\n",
            "/content/data_used/PNEUMONIA/person967_bacteria_2892.jpeg\n",
            "/content/data_used/PNEUMONIA/person1605_bacteria_4226.jpeg\n",
            "/content/data_used/PNEUMONIA/person707_virus_1305.jpeg\n",
            "/content/data_used/PNEUMONIA/person325_virus_664.jpeg\n",
            "/content/data_used/PNEUMONIA/person781_virus_1412.jpeg\n",
            "/content/data_used/PNEUMONIA/person1_virus_8.jpeg\n",
            "/content/data_used/PNEUMONIA/person1486_bacteria_3883.jpeg\n",
            "/content/data_used/PNEUMONIA/person1105_bacteria_3046.jpeg\n",
            "/content/data_used/PNEUMONIA/person1405_bacteria_3566.jpeg\n",
            "/content/data_used/PNEUMONIA/person111_bacteria_537.jpeg\n",
            "/content/data_used/PNEUMONIA/person420_bacteria_1848.jpeg\n",
            "/content/data_used/PNEUMONIA/person461_virus_949.jpeg\n",
            "/content/data_used/PNEUMONIA/person422_bacteria_1853.jpeg\n",
            "/content/data_used/PNEUMONIA/person1497_bacteria_3912.jpeg\n",
            "/content/data_used/PNEUMONIA/person994_bacteria_2922.jpeg\n",
            "/content/data_used/PNEUMONIA/person152_bacteria_721.jpeg\n",
            "/content/data_used/PNEUMONIA/person117_bacteria_556.jpeg\n",
            "/content/data_used/PNEUMONIA/person1023_bacteria_2954.jpeg\n",
            "/content/data_used/PNEUMONIA/person156_virus_308.jpeg\n",
            "/content/data_used/PNEUMONIA/person1270_virus_2163.jpeg\n",
            "/content/data_used/PNEUMONIA/person76_bacteria_371.jpeg\n",
            "/content/data_used/PNEUMONIA/person1252_virus_2124.jpeg\n",
            "/content/data_used/PNEUMONIA/person119_bacteria_566.jpeg\n",
            "/content/data_used/PNEUMONIA/person1156_virus_1936.jpeg\n",
            "/content/data_used/PNEUMONIA/person1537_bacteria_4020.jpeg\n",
            "/content/data_used/PNEUMONIA/person1177_virus_2002.jpeg\n",
            "/content/data_used/PNEUMONIA/person666_bacteria_2558.jpeg\n",
            "/content/data_used/PNEUMONIA/person277_bacteria_1303.jpeg\n",
            "/content/data_used/PNEUMONIA/person565_bacteria_2348.jpeg\n",
            "/content/data_used/PNEUMONIA/person297_bacteria_1400.jpeg\n",
            "/content/data_used/PNEUMONIA/person996_bacteria_2924.jpeg\n",
            "/content/data_used/PNEUMONIA/person1024_virus_1716.jpeg\n",
            "/content/data_used/PNEUMONIA/person1474_virus_2556.jpeg\n",
            "/content/data_used/PNEUMONIA/person384_virus_769.jpeg\n",
            "/content/data_used/PNEUMONIA/person318_bacteria_1474.jpeg\n",
            "/content/data_used/PNEUMONIA/person492_bacteria_2085.jpeg\n",
            "/content/data_used/PNEUMONIA/person458_virus_945.jpeg\n",
            "/content/data_used/PNEUMONIA/person925_bacteria_2850.jpeg\n",
            "/content/data_used/PNEUMONIA/person1628_virus_2822.jpeg\n",
            "/content/data_used/PNEUMONIA/person510_bacteria_2150.jpeg\n",
            "/content/data_used/PNEUMONIA/person744_virus_1367.jpeg\n",
            "/content/data_used/PNEUMONIA/person7_bacteria_29.jpeg\n",
            "/content/data_used/PNEUMONIA/person1819_bacteria_4677.jpeg\n",
            "/content/data_used/PNEUMONIA/person413_bacteria_1833.jpeg\n",
            "/content/data_used/PNEUMONIA/person314_bacteria_1462.jpeg\n",
            "/content/data_used/PNEUMONIA/person1418_bacteria_3638.jpeg\n",
            "/content/data_used/PNEUMONIA/person656_virus_1238.jpeg\n",
            "/content/data_used/PNEUMONIA/person52_bacteria_251.jpeg\n",
            "/content/data_used/PNEUMONIA/person937_virus_1599.jpeg\n",
            "/content/data_used/PNEUMONIA/person909_bacteria_2834.jpeg\n",
            "/content/data_used/PNEUMONIA/person1502_bacteria_3924.jpeg\n",
            "/content/data_used/PNEUMONIA/person45_virus_95.jpeg\n",
            "/content/data_used/PNEUMONIA/person1201_bacteria_3151.jpeg\n",
            "/content/data_used/PNEUMONIA/person370_bacteria_1688.jpeg\n",
            "/content/data_used/PNEUMONIA/person927_bacteria_2852.jpeg\n",
            "/content/data_used/PNEUMONIA/person947_bacteria_2872.jpeg\n",
            "/content/data_used/PNEUMONIA/person1319_virus_2276.jpeg\n",
            "/content/data_used/PNEUMONIA/person1615_bacteria_4249.jpeg\n",
            "/content/data_used/PNEUMONIA/person937_bacteria_2862.jpeg\n",
            "/content/data_used/PNEUMONIA/person418_virus_852.jpeg\n",
            "/content/data_used/PNEUMONIA/person438_bacteria_1893.jpeg\n",
            "/content/data_used/PNEUMONIA/person23_bacteria_105.jpeg\n",
            "/content/data_used/PNEUMONIA/person1619_bacteria_4269.jpeg\n",
            "/content/data_used/PNEUMONIA/person1535_bacteria_4017.jpeg\n",
            "/content/data_used/PNEUMONIA/person62_bacteria_300.jpeg\n",
            "/content/data_used/PNEUMONIA/person319_bacteria_1475.jpeg\n",
            "/content/data_used/PNEUMONIA/person1131_bacteria_3073.jpeg\n",
            "/content/data_used/PNEUMONIA/person1121_virus_1846.jpeg\n",
            "/content/data_used/PNEUMONIA/person42_virus_89.jpeg\n",
            "/content/data_used/PNEUMONIA/person981_bacteria_2908.jpeg\n",
            "/content/data_used/PNEUMONIA/person339_bacteria_1574.jpeg\n",
            "/content/data_used/PNEUMONIA/person1618_virus_2805.jpeg\n",
            "/content/data_used/PNEUMONIA/person1940_bacteria_4861.jpeg\n",
            "/content/data_used/PNEUMONIA/person1224_virus_2074.jpeg\n",
            "/content/data_used/PNEUMONIA/person428_virus_876.jpeg\n",
            "/content/data_used/PNEUMONIA/person30_bacteria_148.jpeg\n",
            "/content/data_used/PNEUMONIA/person1433_bacteria_3701.jpeg\n",
            "/content/data_used/PNEUMONIA/person1026_bacteria_2957.jpeg\n",
            "/content/data_used/PNEUMONIA/person300_bacteria_1422.jpeg\n",
            "/content/data_used/PNEUMONIA/person130_bacteria_627.jpeg\n",
            "/content/data_used/PNEUMONIA/person489_bacteria_2066.jpeg\n",
            "/content/data_used/PNEUMONIA/person85_bacteria_422.jpeg\n",
            "/content/data_used/PNEUMONIA/person1092_virus_1811.jpeg\n",
            "/content/data_used/PNEUMONIA/person1514_virus_2633.jpeg\n",
            "/content/data_used/PNEUMONIA/person1009_virus_1694.jpeg\n",
            "/content/data_used/PNEUMONIA/person462_bacteria_1968.jpeg\n",
            "/content/data_used/PNEUMONIA/person782_bacteria_2686.jpeg\n",
            "/content/data_used/PNEUMONIA/person124_bacteria_590.jpeg\n",
            "/content/data_used/PNEUMONIA/person730_virus_1351.jpeg\n",
            "/content/data_used/PNEUMONIA/person1883_bacteria_4769.jpeg\n",
            "/content/data_used/PNEUMONIA/person78_bacteria_382.jpeg\n",
            "/content/data_used/PNEUMONIA/person1290_virus_2216.jpeg\n",
            "/content/data_used/PNEUMONIA/person348_virus_719.jpeg\n",
            "/content/data_used/PNEUMONIA/person23_bacteria_82.jpeg\n",
            "/content/data_used/PNEUMONIA/person1375_bacteria_3510.jpeg\n",
            "/content/data_used/PNEUMONIA/person339_bacteria_1573.jpeg\n",
            "/content/data_used/PNEUMONIA/person596_bacteria_2443.jpeg\n",
            "/content/data_used/PNEUMONIA/person1644_bacteria_4361.jpeg\n",
            "/content/data_used/PNEUMONIA/person315_bacteria_1465.jpeg\n",
            "/content/data_used/PNEUMONIA/person571_virus_1114.jpeg\n",
            "/content/data_used/PNEUMONIA/person1628_virus_2821.jpeg\n",
            "/content/data_used/PNEUMONIA/person443_bacteria_1923.jpeg\n",
            "/content/data_used/PNEUMONIA/person543_bacteria_2283.jpeg\n",
            "/content/data_used/PNEUMONIA/person674_bacteria_2568.jpeg\n",
            "/content/data_used/PNEUMONIA/person442_virus_905.jpeg\n"
          ]
        }
      ]
    },
    {
      "cell_type": "code",
      "source": [
        ""
      ],
      "metadata": {
        "id": "9in8IoPd_SgD"
      },
      "execution_count": 21,
      "outputs": []
    },
    {
      "cell_type": "code",
      "metadata": {
        "id": "4dY9EiJbovKR",
        "colab": {
          "base_uri": "https://localhost:8080/"
        },
        "outputId": "edc2cdc3-6426-4ea7-b376-af9ae2715002"
      },
      "source": [
        "patternZero = '*IM*.jpeg'\n",
        "patternOne = '*person*.jpeg'\n",
        "classZero = fnmatch.filter(imagePatches, patternZero)\n",
        "classOne = fnmatch.filter(imagePatches, patternOne)\n",
        "print(\"IDC(-)\\n\\n\",classZero[0:5],'\\n')\n",
        "print(\"IDC(+)\\n\\n\",classOne[0:5])"
      ],
      "execution_count": 22,
      "outputs": [
        {
          "output_type": "stream",
          "name": "stdout",
          "text": [
            "IDC(-)\n",
            "\n",
            " ['/content/data_used/NORMAL/NORMAL2-IM-1396-0001.jpeg', '/content/data_used/NORMAL/NORMAL2-IM-1321-0001.jpeg', '/content/data_used/NORMAL/NORMAL2-IM-0569-0001.jpeg', '/content/data_used/NORMAL/NORMAL2-IM-0603-0001.jpeg', '/content/data_used/NORMAL/NORMAL2-IM-0627-0001.jpeg'] \n",
            "\n",
            "IDC(+)\n",
            "\n",
            " ['/content/data_used/PNEUMONIA/person1481_bacteria_3866.jpeg', '/content/data_used/PNEUMONIA/person438_virus_889.jpeg', '/content/data_used/PNEUMONIA/person421_virus_866.jpeg', '/content/data_used/PNEUMONIA/person21_bacteria_72.jpeg', '/content/data_used/PNEUMONIA/person87_bacteria_433.jpeg']\n"
          ]
        }
      ]
    },
    {
      "cell_type": "code",
      "metadata": {
        "id": "6NdRVSpwv9D8",
        "colab": {
          "base_uri": "https://localhost:8080/"
        },
        "outputId": "6bc66aa9-52e7-4666-9a73-fdaf51d3f753"
      },
      "source": [
        "print(len(classZero))\n",
        "print(len(classOne))"
      ],
      "execution_count": 23,
      "outputs": [
        {
          "output_type": "stream",
          "name": "stdout",
          "text": [
            "1583\n",
            "4273\n"
          ]
        }
      ]
    },
    {
      "cell_type": "code",
      "metadata": {
        "id": "cQbT9IlEozHD"
      },
      "source": [
        "X=[]\n",
        "y=[]\n",
        "\n",
        "for u in classZero:\n",
        "  X.append(u)\n",
        "  y.append(0)\n",
        "\n",
        "for u in classOne:\n",
        "  X.append(u)\n",
        "  y.append(1)"
      ],
      "execution_count": 24,
      "outputs": []
    },
    {
      "cell_type": "code",
      "metadata": {
        "id": "gyAP06j_o5y5"
      },
      "source": [
        "df = pd.DataFrame()\n",
        "df[\"images\"]=X\n",
        "df[\"labels\"]=y\n",
        "df=df.sample(frac=1)"
      ],
      "execution_count": 25,
      "outputs": []
    },
    {
      "cell_type": "code",
      "metadata": {
        "id": "86jc5Cqzo-ha"
      },
      "source": [
        "def RgbToQuaternion(img):\n",
        " b,g,r = cv2.split(img)\n",
        "\n",
        " M=np.zeros((50,50,4))\n",
        " M[:,:,1]=r\n",
        " M[:,:,2]=g\n",
        " M[:,:,3]=b\n",
        " return(np.array(M))"
      ],
      "execution_count": 26,
      "outputs": []
    },
    {
      "cell_type": "code",
      "metadata": {
        "id": "NlZUb-10pCcQ"
      },
      "source": [
        "def batch_generator(df,batch_size,steps):\n",
        " idx=1\n",
        " while True: \n",
        "  yield load_data(df,idx-1,batch_size)## Yields data\n",
        "  if idx < steps:\n",
        "    idx+=1\n",
        "  else:\n",
        "    idx=1"
      ],
      "execution_count": 27,
      "outputs": []
    },
    {
      "cell_type": "code",
      "metadata": {
        "id": "cyVdNldPpI84"
      },
      "source": [
        "def load_data(df,idx,batch_size):\n",
        " start=idx*batch_size\n",
        " end=(idx+1)*batch_size\n",
        " x = []\n",
        " y = [] \n",
        " for  row  in df.values[start:end,:]:\n",
        "  img=row[0]\n",
        "\n",
        "  full_size_image = cv2.imread(img)\n",
        "  X=cv2.resize(full_size_image, (50,50), interpolation=cv2.INTER_CUBIC)\n",
        "\n",
        "  image = RgbToQuaternion(X) /255.\n",
        "  x.append(image) \n",
        "  y.append(row[-1] )\n",
        "\n",
        " return (np.array(x).reshape(-1,50,50,4), np.array(y).reshape(-1))"
      ],
      "execution_count": 28,
      "outputs": []
    },
    {
      "cell_type": "code",
      "metadata": {
        "id": "V29ZJA8RpM7k"
      },
      "source": [
        "df_train, df = train_test_split(df, test_size=0.20)\n",
        "df_test, df_val = train_test_split(df, test_size=0.5)"
      ],
      "execution_count": 29,
      "outputs": []
    },
    {
      "cell_type": "code",
      "metadata": {
        "id": "R-yYJW8tWhm6"
      },
      "source": [
        ""
      ],
      "execution_count": 29,
      "outputs": []
    },
    {
      "cell_type": "code",
      "metadata": {
        "id": "FQl7Oj4HpS20",
        "colab": {
          "base_uri": "https://localhost:8080/"
        },
        "outputId": "fa5e6349-cf2d-4258-a56f-7c7538532a0f"
      },
      "source": [
        "from   complexnn                             import *\n",
        "import keras\n",
        "from   keras.layers                          import *\n",
        "from   keras.models                          import Model\n",
        "import keras.backend                         as     K\n",
        "import numpy                                 as     np"
      ],
      "execution_count": 30,
      "outputs": [
        {
          "output_type": "stream",
          "name": "stderr",
          "text": [
            "Using TensorFlow backend.\n"
          ]
        }
      ]
    },
    {
      "cell_type": "code",
      "metadata": {
        "id": "scrD3pE8pTa5"
      },
      "source": [
        "from keras.optimizers import adam\n",
        "opt = adam(lr = 0.001,decay=1e-6)"
      ],
      "execution_count": 31,
      "outputs": []
    },
    {
      "cell_type": "code",
      "metadata": {
        "id": "x91xqzQI6Mx2"
      },
      "source": [
        "def residual_block(mod_, f_in, f_out, strides_ = (1,1), use_shortcut_ = False):   \n",
        "    shortcut_ = mod_\n",
        "    \n",
        "    k_ = (1,1)\n",
        "    \n",
        "    mod_ = QuaternionConv2D(f_in, kernel_size=k_, strides=(1,1), padding = \"same\")(mod_)\n",
        "    mod_ = BatchNormalization()(mod_)\n",
        "    mod_ = ELU()(mod_)\n",
        "    \n",
        "    mod_ = QuaternionConv2D(f_in, kernel_size=k_, strides=strides_, padding = \"same\")(mod_)\n",
        "    mod_ = BatchNormalization()(mod_)\n",
        "    mod_ = ELU()(mod_)\n",
        "    \n",
        "    mod_ = QuaternionConv2D(f_out, kernel_size=k_, strides=(1,1), padding = \"same\")(mod_)\n",
        "    mod_ = BatchNormalization()(mod_)\n",
        "    mod_ = ELU()(mod_)\n",
        "    \n",
        "    if use_shortcut_ == True or strides_ != (1,1):\n",
        "        shortcut_ = QuaternionConv2D(f_out, kernel_size=k_, strides=strides_, padding = \"same\")(shortcut_)\n",
        "        shortcut_ = BatchNormalization()(shortcut_)\n",
        "        \n",
        "    mod_ = Add()([shortcut_, mod_])\n",
        "    mod_ = ReLU()(mod_)\n",
        "    \n",
        "    return mod_"
      ],
      "execution_count": 32,
      "outputs": []
    },
    {
      "cell_type": "code",
      "metadata": {
        "id": "wf2l0CgN6OwO"
      },
      "source": [
        "def model_build(in_):\n",
        "    \n",
        "    k_=(1,1)\n",
        "    \n",
        "    mod_ = QuaternionConv2D(16, kernel_size=k_, strides = (1,1), padding = \"same\")(in_)\n",
        "    \n",
        "    mod_ = BatchNormalization()(mod_)\n",
        "    \n",
        "    mod_ = ReLU()(mod_)\n",
        "    \n",
        "    mod_ = MaxPooling2D()(mod_)\n",
        "    \n",
        "    mod_ = residual_block(mod_, 16, 32, use_shortcut_=True)\n",
        "    \n",
        "    mod_ = MaxPooling2D()(mod_)\n",
        "    \n",
        "    mod_ = residual_block(mod_, 32, 64, use_shortcut_=True)\n",
        "    \n",
        "    mod_ = MaxPooling2D()(mod_)\n",
        "    \n",
        "    mod_ = residual_block(mod_, 64, 96, use_shortcut_=True)\n",
        "    \n",
        "    mod_ = MaxPooling2D()(mod_)\n",
        "    \n",
        "    mod_ = residual_block(mod_, 96, 128, use_shortcut_=True)\n",
        "    \n",
        "    mod_ = MaxPooling2D()(mod_)\n",
        "    \n",
        "    mod_ = GlobalAveragePooling2D()(mod_)\n",
        "    \n",
        "    mod_ = Dense(512, activation = \"relu\")(mod_)\n",
        "    \n",
        "    mod_ = Dropout(0.5)(mod_)\n",
        "    \n",
        "    mod_ = Dense(1, activation=\"sigmoid\")(mod_)\n",
        "    \n",
        "    return mod_"
      ],
      "execution_count": 33,
      "outputs": []
    },
    {
      "cell_type": "code",
      "metadata": {
        "id": "fN8TNhyZ0m3U"
      },
      "source": [
        "def recall_m(y_true, y_pred):\n",
        "    true_positives = K.sum(K.round(K.clip(y_true * y_pred, 0, 1)))\n",
        "    possible_positives = K.sum(K.round(K.clip(y_true, 0, 1)))\n",
        "    recall = true_positives / (possible_positives + K.epsilon())\n",
        "    return recall\n",
        "\n",
        "def precision_m(y_true, y_pred):\n",
        "    true_positives = K.sum(K.round(K.clip(y_true * y_pred, 0, 1)))\n",
        "    predicted_positives = K.sum(K.round(K.clip(y_pred, 0, 1)))\n",
        "    precision = true_positives / (predicted_positives + K.epsilon())\n",
        "    return precision\n",
        "\n",
        "def f1_m(y_true, y_pred):\n",
        "    precision = precision_m(y_true, y_pred)\n",
        "    recall = recall_m(y_true, y_pred)\n",
        "    return 2*((precision*recall)/(precision+recall+K.epsilon()))"
      ],
      "execution_count": 34,
      "outputs": []
    },
    {
      "cell_type": "code",
      "metadata": {
        "id": "Bl7huBsapW1F",
        "colab": {
          "base_uri": "https://localhost:8080/"
        },
        "outputId": "652716cf-0c56-4132-d445-c09ae4f9d301"
      },
      "source": [
        "in_ = Input((50,50,4))\n",
        "model_ = model_build(in_)"
      ],
      "execution_count": 35,
      "outputs": [
        {
          "output_type": "stream",
          "name": "stdout",
          "text": [
            "WARNING:tensorflow:From /usr/local/lib/python3.7/dist-packages/keras/backend/tensorflow_backend.py:74: The name tf.get_default_graph is deprecated. Please use tf.compat.v1.get_default_graph instead.\n",
            "\n",
            "WARNING:tensorflow:From /usr/local/lib/python3.7/dist-packages/keras/backend/tensorflow_backend.py:517: The name tf.placeholder is deprecated. Please use tf.compat.v1.placeholder instead.\n",
            "\n",
            "WARNING:tensorflow:From /usr/local/lib/python3.7/dist-packages/keras/backend/tensorflow_backend.py:174: The name tf.get_default_session is deprecated. Please use tf.compat.v1.get_default_session instead.\n",
            "\n",
            "WARNING:tensorflow:From /usr/local/lib/python3.7/dist-packages/keras/backend/tensorflow_backend.py:181: The name tf.ConfigProto is deprecated. Please use tf.compat.v1.ConfigProto instead.\n",
            "\n",
            "WARNING:tensorflow:From /usr/local/lib/python3.7/dist-packages/keras/backend/tensorflow_backend.py:186: The name tf.Session is deprecated. Please use tf.compat.v1.Session instead.\n",
            "\n",
            "WARNING:tensorflow:From /usr/local/lib/python3.7/dist-packages/keras/backend/tensorflow_backend.py:190: The name tf.global_variables is deprecated. Please use tf.compat.v1.global_variables instead.\n",
            "\n",
            "WARNING:tensorflow:From /usr/local/lib/python3.7/dist-packages/keras/backend/tensorflow_backend.py:199: The name tf.is_variable_initialized is deprecated. Please use tf.compat.v1.is_variable_initialized instead.\n",
            "\n",
            "WARNING:tensorflow:From /usr/local/lib/python3.7/dist-packages/keras/backend/tensorflow_backend.py:206: The name tf.variables_initializer is deprecated. Please use tf.compat.v1.variables_initializer instead.\n",
            "\n",
            "WARNING:tensorflow:From /usr/local/lib/python3.7/dist-packages/keras/backend/tensorflow_backend.py:1834: The name tf.nn.fused_batch_norm is deprecated. Please use tf.compat.v1.nn.fused_batch_norm instead.\n",
            "\n",
            "WARNING:tensorflow:From /usr/local/lib/python3.7/dist-packages/keras/backend/tensorflow_backend.py:133: The name tf.placeholder_with_default is deprecated. Please use tf.compat.v1.placeholder_with_default instead.\n",
            "\n",
            "WARNING:tensorflow:From /usr/local/lib/python3.7/dist-packages/keras/backend/tensorflow_backend.py:3976: The name tf.nn.max_pool is deprecated. Please use tf.nn.max_pool2d instead.\n",
            "\n",
            "WARNING:tensorflow:From /usr/local/lib/python3.7/dist-packages/keras/backend/tensorflow_backend.py:4138: The name tf.random_uniform is deprecated. Please use tf.random.uniform instead.\n",
            "\n",
            "WARNING:tensorflow:From /usr/local/lib/python3.7/dist-packages/keras/backend/tensorflow_backend.py:3445: calling dropout (from tensorflow.python.ops.nn_ops) with keep_prob is deprecated and will be removed in a future version.\n",
            "Instructions for updating:\n",
            "Please use `rate` instead of `keep_prob`. Rate should be set to `rate = 1 - keep_prob`.\n"
          ]
        }
      ]
    },
    {
      "cell_type": "code",
      "metadata": {
        "id": "Y9zNnD_C5ymO",
        "colab": {
          "base_uri": "https://localhost:8080/"
        },
        "outputId": "4cd15ea5-9944-402c-fecd-881426637d53"
      },
      "source": [
        "model = Model(input = in_, output = model_)"
      ],
      "execution_count": 36,
      "outputs": [
        {
          "output_type": "stream",
          "name": "stderr",
          "text": [
            "/usr/local/lib/python3.7/dist-packages/ipykernel_launcher.py:1: UserWarning: Update your `Model` call to the Keras 2 API: `Model(inputs=Tensor(\"in..., outputs=Tensor(\"de...)`\n",
            "  \"\"\"Entry point for launching an IPython kernel.\n"
          ]
        }
      ]
    },
    {
      "cell_type": "code",
      "source": [
        "import numpy as np\n",
        "import pandas as pd\n",
        "import matplotlib.pyplot as plt\n",
        "import seaborn as sns\n",
        "import tensorflow as tf\n",
        "from tensorflow.keras.models import Sequential\n",
        "from tensorflow.keras.layers import Dense, Conv2D , MaxPool2D , Flatten , Dropout , BatchNormalization, GlobalAveragePooling2D\n",
        "from tensorflow.keras.preprocessing.image import ImageDataGenerator, array_to_img, img_to_array\n",
        "from sklearn.model_selection import train_test_split\n",
        "from sklearn.metrics import classification_report,confusion_matrix\n",
        "from tensorflow.keras.callbacks import ReduceLROnPlateau\n",
        "import cv2\n",
        "import os"
      ],
      "metadata": {
        "id": "DUt-QaWsTpn6"
      },
      "execution_count": 37,
      "outputs": []
    },
    {
      "cell_type": "code",
      "source": [
        "METRICS = [\n",
        "      tf.keras.metrics.TruePositives(name='tp'),\n",
        "      tf.keras.metrics.FalsePositives(name='fp'),\n",
        "      tf.keras.metrics.TrueNegatives(name='tn'),\n",
        "      tf.keras.metrics.FalseNegatives(name='fn'), \n",
        "      tf.keras.metrics.BinaryAccuracy(name='accuracy'),\n",
        "      tf.keras.metrics.Precision(name='precision'),\n",
        "      tf.keras.metrics.Recall(name='recall'),\n",
        "      tf.keras.metrics.AUC(name='roc', curve='ROC'), # roc curve\n",
        "      tf.keras.metrics.AUC(name='prc', curve='PR') # precision-recall curve\n",
        "]"
      ],
      "metadata": {
        "colab": {
          "base_uri": "https://localhost:8080/"
        },
        "id": "DO3eaGiPThhU",
        "outputId": "2e78f285-17a5-4628-ef72-9ee32e2651a9"
      },
      "execution_count": 38,
      "outputs": [
        {
          "output_type": "stream",
          "name": "stdout",
          "text": [
            "WARNING:tensorflow:From /usr/local/lib/python3.7/dist-packages/tensorflow_core/python/ops/resource_variable_ops.py:1630: calling BaseResourceVariable.__init__ (from tensorflow.python.ops.resource_variable_ops) with constraint is deprecated and will be removed in a future version.\n",
            "Instructions for updating:\n",
            "If using Keras pass *_constraint arguments to layers.\n"
          ]
        }
      ]
    },
    {
      "cell_type": "code",
      "metadata": {
        "id": "DkpAkRI056K7",
        "colab": {
          "base_uri": "https://localhost:8080/"
        },
        "outputId": "42197f12-e54e-48e8-f886-0a0d62b5510c"
      },
      "source": [
        "           \n",
        "model.compile(optimizer=opt, loss='binary_crossentropy', metrics=['accuracy',precision_m,recall_m,f1_m])"
      ],
      "execution_count": 39,
      "outputs": [
        {
          "output_type": "stream",
          "name": "stdout",
          "text": [
            "WARNING:tensorflow:From /usr/local/lib/python3.7/dist-packages/keras/optimizers.py:790: The name tf.train.Optimizer is deprecated. Please use tf.compat.v1.train.Optimizer instead.\n",
            "\n",
            "WARNING:tensorflow:From /usr/local/lib/python3.7/dist-packages/keras/backend/tensorflow_backend.py:3376: The name tf.log is deprecated. Please use tf.math.log instead.\n",
            "\n",
            "WARNING:tensorflow:From /usr/local/lib/python3.7/dist-packages/tensorflow_core/python/ops/nn_impl.py:183: where (from tensorflow.python.ops.array_ops) is deprecated and will be removed in a future version.\n",
            "Instructions for updating:\n",
            "Use tf.where in 2.0, which has the same broadcast rule as np.where\n"
          ]
        }
      ]
    },
    {
      "cell_type": "code",
      "metadata": {
        "id": "9anher7jpaFM",
        "colab": {
          "base_uri": "https://localhost:8080/"
        },
        "outputId": "264fd53e-9d3b-433e-9ec4-f06af606e941"
      },
      "source": [
        "history =model.fit_generator(batch_generator(df_train, 128,len(df_train)//128),\\\n",
        "                    steps_per_epoch=len(df_train)//128,epochs=50,\\\n",
        "                    verbose=1,validation_data=batch_generator(df_val, 64,len(df_val)//64),validation_steps=len(df_val)//64)"
      ],
      "execution_count": 40,
      "outputs": [
        {
          "output_type": "stream",
          "name": "stdout",
          "text": [
            "WARNING:tensorflow:From /usr/local/lib/python3.7/dist-packages/keras/backend/tensorflow_backend.py:986: The name tf.assign_add is deprecated. Please use tf.compat.v1.assign_add instead.\n",
            "\n",
            "WARNING:tensorflow:From /usr/local/lib/python3.7/dist-packages/keras/backend/tensorflow_backend.py:973: The name tf.assign is deprecated. Please use tf.compat.v1.assign instead.\n",
            "\n",
            "Epoch 1/50\n",
            "36/36 [==============================] - 76s 2s/step - loss: 0.4312 - acc: 0.8563 - precision_m: 0.9034 - recall_m: 0.9041 - f1_m: 0.9000 - val_loss: 0.9908 - val_acc: 0.6250 - val_precision_m: 0.9903 - val_recall_m: 0.4926 - val_f1_m: 0.6568\n",
            "Epoch 2/50\n",
            "36/36 [==============================] - 68s 2s/step - loss: 0.2269 - acc: 0.9108 - precision_m: 0.9373 - recall_m: 0.9414 - f1_m: 0.9386 - val_loss: 0.2770 - val_acc: 0.8872 - val_precision_m: 0.9592 - val_recall_m: 0.8836 - val_f1_m: 0.9197\n",
            "Epoch 3/50\n",
            "36/36 [==============================] - 68s 2s/step - loss: 0.1919 - acc: 0.9234 - precision_m: 0.9458 - recall_m: 0.9505 - f1_m: 0.9473 - val_loss: 0.2292 - val_acc: 0.9045 - val_precision_m: 0.9106 - val_recall_m: 0.9647 - val_f1_m: 0.9365\n",
            "Epoch 4/50\n",
            "36/36 [==============================] - 69s 2s/step - loss: 0.1913 - acc: 0.9264 - precision_m: 0.9456 - recall_m: 0.9563 - f1_m: 0.9496 - val_loss: 0.2451 - val_acc: 0.9080 - val_precision_m: 0.9716 - val_recall_m: 0.8997 - val_f1_m: 0.9342\n",
            "Epoch 5/50\n",
            "36/36 [==============================] - 66s 2s/step - loss: 0.1848 - acc: 0.9251 - precision_m: 0.9444 - recall_m: 0.9564 - f1_m: 0.9490 - val_loss: 0.3200 - val_acc: 0.8750 - val_precision_m: 0.9838 - val_recall_m: 0.8436 - val_f1_m: 0.9077\n",
            "Epoch 6/50\n",
            "36/36 [==============================] - 67s 2s/step - loss: 0.1470 - acc: 0.9423 - precision_m: 0.9555 - recall_m: 0.9666 - f1_m: 0.9604 - val_loss: 0.3610 - val_acc: 0.8698 - val_precision_m: 0.9863 - val_recall_m: 0.8329 - val_f1_m: 0.9030\n",
            "Epoch 7/50\n",
            "36/36 [==============================] - 69s 2s/step - loss: 0.1078 - acc: 0.9616 - precision_m: 0.9721 - recall_m: 0.9761 - f1_m: 0.9737 - val_loss: 0.2413 - val_acc: 0.9149 - val_precision_m: 0.9630 - val_recall_m: 0.9196 - val_f1_m: 0.9405\n",
            "Epoch 8/50\n",
            "36/36 [==============================] - 69s 2s/step - loss: 0.0829 - acc: 0.9722 - precision_m: 0.9751 - recall_m: 0.9875 - f1_m: 0.9811 - val_loss: 0.3883 - val_acc: 0.8993 - val_precision_m: 0.9719 - val_recall_m: 0.8880 - val_f1_m: 0.9278\n",
            "Epoch 9/50\n",
            "36/36 [==============================] - 68s 2s/step - loss: 0.0727 - acc: 0.9744 - precision_m: 0.9797 - recall_m: 0.9854 - f1_m: 0.9824 - val_loss: 0.2890 - val_acc: 0.9097 - val_precision_m: 0.9535 - val_recall_m: 0.9217 - val_f1_m: 0.9372\n",
            "Epoch 10/50\n",
            "36/36 [==============================] - 68s 2s/step - loss: 0.0637 - acc: 0.9798 - precision_m: 0.9825 - recall_m: 0.9902 - f1_m: 0.9863 - val_loss: 0.3060 - val_acc: 0.9080 - val_precision_m: 0.9447 - val_recall_m: 0.9292 - val_f1_m: 0.9365\n",
            "Epoch 11/50\n",
            "36/36 [==============================] - 67s 2s/step - loss: 0.0754 - acc: 0.9744 - precision_m: 0.9815 - recall_m: 0.9837 - f1_m: 0.9824 - val_loss: 0.3146 - val_acc: 0.8889 - val_precision_m: 0.8799 - val_recall_m: 0.9841 - val_f1_m: 0.9284\n",
            "Epoch 12/50\n",
            "36/36 [==============================] - 67s 2s/step - loss: 0.0698 - acc: 0.9724 - precision_m: 0.9797 - recall_m: 0.9831 - f1_m: 0.9811 - val_loss: 0.2865 - val_acc: 0.8993 - val_precision_m: 0.9359 - val_recall_m: 0.9264 - val_f1_m: 0.9306\n",
            "Epoch 13/50\n",
            "36/36 [==============================] - 67s 2s/step - loss: 0.0675 - acc: 0.9731 - precision_m: 0.9791 - recall_m: 0.9846 - f1_m: 0.9816 - val_loss: 0.4890 - val_acc: 0.8889 - val_precision_m: 0.9765 - val_recall_m: 0.8702 - val_f1_m: 0.9198\n",
            "Epoch 14/50\n",
            "36/36 [==============================] - 67s 2s/step - loss: 0.0779 - acc: 0.9705 - precision_m: 0.9787 - recall_m: 0.9815 - f1_m: 0.9797 - val_loss: 0.3519 - val_acc: 0.9045 - val_precision_m: 0.9421 - val_recall_m: 0.9264 - val_f1_m: 0.9338\n",
            "Epoch 15/50\n",
            "36/36 [==============================] - 68s 2s/step - loss: 0.0882 - acc: 0.9651 - precision_m: 0.9750 - recall_m: 0.9782 - f1_m: 0.9761 - val_loss: 0.5007 - val_acc: 0.8212 - val_precision_m: 0.9696 - val_recall_m: 0.7785 - val_f1_m: 0.8631\n",
            "Epoch 16/50\n",
            "36/36 [==============================] - 68s 2s/step - loss: 0.0677 - acc: 0.9742 - precision_m: 0.9813 - recall_m: 0.9836 - f1_m: 0.9822 - val_loss: 0.4888 - val_acc: 0.8872 - val_precision_m: 0.8761 - val_recall_m: 0.9863 - val_f1_m: 0.9273\n",
            "Epoch 17/50\n",
            "36/36 [==============================] - 69s 2s/step - loss: 0.0447 - acc: 0.9835 - precision_m: 0.9870 - recall_m: 0.9908 - f1_m: 0.9888 - val_loss: 0.6433 - val_acc: 0.8438 - val_precision_m: 0.9806 - val_recall_m: 0.8021 - val_f1_m: 0.8805\n",
            "Epoch 18/50\n",
            "36/36 [==============================] - 67s 2s/step - loss: 0.0390 - acc: 0.9835 - precision_m: 0.9862 - recall_m: 0.9915 - f1_m: 0.9887 - val_loss: 0.5478 - val_acc: 0.8854 - val_precision_m: 0.9709 - val_recall_m: 0.8681 - val_f1_m: 0.9162\n",
            "Epoch 19/50\n",
            "36/36 [==============================] - 68s 2s/step - loss: 0.0387 - acc: 0.9852 - precision_m: 0.9898 - recall_m: 0.9904 - f1_m: 0.9899 - val_loss: 0.5029 - val_acc: 0.8941 - val_precision_m: 0.9649 - val_recall_m: 0.8891 - val_f1_m: 0.9247\n",
            "Epoch 20/50\n",
            "36/36 [==============================] - 68s 2s/step - loss: 0.0402 - acc: 0.9844 - precision_m: 0.9884 - recall_m: 0.9904 - f1_m: 0.9893 - val_loss: 0.7543 - val_acc: 0.8715 - val_precision_m: 0.9656 - val_recall_m: 0.8555 - val_f1_m: 0.9070\n",
            "Epoch 21/50\n",
            "36/36 [==============================] - 68s 2s/step - loss: 0.0397 - acc: 0.9857 - precision_m: 0.9905 - recall_m: 0.9900 - f1_m: 0.9902 - val_loss: 1.5904 - val_acc: 0.7639 - val_precision_m: 0.9903 - val_recall_m: 0.6835 - val_f1_m: 0.8083\n",
            "Epoch 22/50\n",
            "36/36 [==============================] - 67s 2s/step - loss: 0.0350 - acc: 0.9850 - precision_m: 0.9887 - recall_m: 0.9909 - f1_m: 0.9897 - val_loss: 0.7212 - val_acc: 0.8420 - val_precision_m: 0.9888 - val_recall_m: 0.7936 - val_f1_m: 0.8801\n",
            "Epoch 23/50\n",
            "36/36 [==============================] - 68s 2s/step - loss: 0.0321 - acc: 0.9881 - precision_m: 0.9915 - recall_m: 0.9924 - f1_m: 0.9919 - val_loss: 0.4011 - val_acc: 0.9167 - val_precision_m: 0.9476 - val_recall_m: 0.9384 - val_f1_m: 0.9427\n",
            "Epoch 24/50\n",
            "36/36 [==============================] - 68s 2s/step - loss: 0.0319 - acc: 0.9870 - precision_m: 0.9907 - recall_m: 0.9918 - f1_m: 0.9911 - val_loss: 0.6263 - val_acc: 0.8594 - val_precision_m: 0.9755 - val_recall_m: 0.8302 - val_f1_m: 0.8964\n",
            "Epoch 25/50\n",
            "36/36 [==============================] - 68s 2s/step - loss: 0.0276 - acc: 0.9902 - precision_m: 0.9931 - recall_m: 0.9938 - f1_m: 0.9933 - val_loss: 0.8998 - val_acc: 0.8090 - val_precision_m: 0.9873 - val_recall_m: 0.7463 - val_f1_m: 0.8490\n",
            "Epoch 26/50\n",
            "36/36 [==============================] - 69s 2s/step - loss: 0.0277 - acc: 0.9902 - precision_m: 0.9912 - recall_m: 0.9952 - f1_m: 0.9932 - val_loss: 0.5151 - val_acc: 0.8906 - val_precision_m: 0.8879 - val_recall_m: 0.9744 - val_f1_m: 0.9290\n",
            "Epoch 27/50\n",
            "36/36 [==============================] - 68s 2s/step - loss: 0.0286 - acc: 0.9896 - precision_m: 0.9914 - recall_m: 0.9945 - f1_m: 0.9928 - val_loss: 0.4532 - val_acc: 0.9219 - val_precision_m: 0.9592 - val_recall_m: 0.9336 - val_f1_m: 0.9458\n",
            "Epoch 28/50\n",
            "36/36 [==============================] - 67s 2s/step - loss: 0.0285 - acc: 0.9887 - precision_m: 0.9920 - recall_m: 0.9926 - f1_m: 0.9922 - val_loss: 0.6141 - val_acc: 0.8976 - val_precision_m: 0.9576 - val_recall_m: 0.9008 - val_f1_m: 0.9280\n",
            "Epoch 29/50\n",
            "36/36 [==============================] - 70s 2s/step - loss: 0.0227 - acc: 0.9918 - precision_m: 0.9939 - recall_m: 0.9949 - f1_m: 0.9944 - val_loss: 0.8435 - val_acc: 0.8611 - val_precision_m: 0.9677 - val_recall_m: 0.8391 - val_f1_m: 0.8985\n",
            "Epoch 30/50\n",
            "36/36 [==============================] - 69s 2s/step - loss: 0.0150 - acc: 0.9937 - precision_m: 0.9953 - recall_m: 0.9960 - f1_m: 0.9956 - val_loss: 0.3970 - val_acc: 0.9167 - val_precision_m: 0.9184 - val_recall_m: 0.9743 - val_f1_m: 0.9449\n",
            "Epoch 31/50\n",
            "36/36 [==============================] - 68s 2s/step - loss: 0.0106 - acc: 0.9961 - precision_m: 0.9980 - recall_m: 0.9968 - f1_m: 0.9973 - val_loss: 0.4597 - val_acc: 0.9028 - val_precision_m: 0.9691 - val_recall_m: 0.8958 - val_f1_m: 0.9306\n",
            "Epoch 32/50\n",
            "36/36 [==============================] - 67s 2s/step - loss: 0.0140 - acc: 0.9954 - precision_m: 0.9961 - recall_m: 0.9977 - f1_m: 0.9969 - val_loss: 0.5834 - val_acc: 0.8924 - val_precision_m: 0.9690 - val_recall_m: 0.8810 - val_f1_m: 0.9226\n",
            "Epoch 33/50\n",
            "36/36 [==============================] - 67s 2s/step - loss: 0.0095 - acc: 0.9972 - precision_m: 0.9981 - recall_m: 0.9979 - f1_m: 0.9980 - val_loss: 0.4028 - val_acc: 0.9184 - val_precision_m: 0.9631 - val_recall_m: 0.9236 - val_f1_m: 0.9426\n",
            "Epoch 34/50\n",
            "36/36 [==============================] - 68s 2s/step - loss: 0.0086 - acc: 0.9972 - precision_m: 0.9980 - recall_m: 0.9982 - f1_m: 0.9981 - val_loss: 0.4818 - val_acc: 0.9010 - val_precision_m: 0.9532 - val_recall_m: 0.9106 - val_f1_m: 0.9311\n",
            "Epoch 35/50\n",
            "36/36 [==============================] - 69s 2s/step - loss: 0.0127 - acc: 0.9970 - precision_m: 0.9976 - recall_m: 0.9982 - f1_m: 0.9979 - val_loss: 0.5851 - val_acc: 0.8837 - val_precision_m: 0.9741 - val_recall_m: 0.8648 - val_f1_m: 0.9155\n",
            "Epoch 36/50\n",
            "36/36 [==============================] - 69s 2s/step - loss: 0.0034 - acc: 0.9987 - precision_m: 0.9994 - recall_m: 0.9988 - f1_m: 0.9991 - val_loss: 0.4908 - val_acc: 0.9201 - val_precision_m: 0.9254 - val_recall_m: 0.9699 - val_f1_m: 0.9466\n",
            "Epoch 37/50\n",
            "36/36 [==============================] - 68s 2s/step - loss: 0.0030 - acc: 0.9989 - precision_m: 0.9991 - recall_m: 0.9994 - f1_m: 0.9992 - val_loss: 0.4941 - val_acc: 0.9201 - val_precision_m: 0.9265 - val_recall_m: 0.9698 - val_f1_m: 0.9471\n",
            "Epoch 38/50\n",
            "36/36 [==============================] - 69s 2s/step - loss: 0.0017 - acc: 0.9998 - precision_m: 1.0000 - recall_m: 0.9997 - f1_m: 0.9999 - val_loss: 0.4932 - val_acc: 0.9184 - val_precision_m: 0.9139 - val_recall_m: 0.9817 - val_f1_m: 0.9462\n",
            "Epoch 39/50\n",
            "36/36 [==============================] - 68s 2s/step - loss: 0.0010 - acc: 0.9996 - precision_m: 0.9997 - recall_m: 0.9997 - f1_m: 0.9997 - val_loss: 0.5475 - val_acc: 0.9184 - val_precision_m: 0.9178 - val_recall_m: 0.9770 - val_f1_m: 0.9459\n",
            "Epoch 40/50\n",
            "36/36 [==============================] - 68s 2s/step - loss: 6.3493e-04 - acc: 1.0000 - precision_m: 1.0000 - recall_m: 1.0000 - f1_m: 1.0000 - val_loss: 0.4843 - val_acc: 0.9132 - val_precision_m: 0.9493 - val_recall_m: 0.9319 - val_f1_m: 0.9400\n",
            "Epoch 41/50\n",
            "36/36 [==============================] - 69s 2s/step - loss: 1.0900e-04 - acc: 1.0000 - precision_m: 1.0000 - recall_m: 1.0000 - f1_m: 1.0000 - val_loss: 0.4569 - val_acc: 0.9201 - val_precision_m: 0.9413 - val_recall_m: 0.9511 - val_f1_m: 0.9457\n",
            "Epoch 42/50\n",
            "36/36 [==============================] - 69s 2s/step - loss: 7.0584e-05 - acc: 1.0000 - precision_m: 1.0000 - recall_m: 1.0000 - f1_m: 1.0000 - val_loss: 0.4663 - val_acc: 0.9201 - val_precision_m: 0.9392 - val_recall_m: 0.9535 - val_f1_m: 0.9458\n",
            "Epoch 43/50\n",
            "36/36 [==============================] - 69s 2s/step - loss: 7.0029e-05 - acc: 1.0000 - precision_m: 1.0000 - recall_m: 1.0000 - f1_m: 1.0000 - val_loss: 0.4710 - val_acc: 0.9219 - val_precision_m: 0.9437 - val_recall_m: 0.9511 - val_f1_m: 0.9469\n",
            "Epoch 44/50\n",
            "36/36 [==============================] - 69s 2s/step - loss: 6.6719e-05 - acc: 1.0000 - precision_m: 1.0000 - recall_m: 1.0000 - f1_m: 1.0000 - val_loss: 0.4961 - val_acc: 0.9236 - val_precision_m: 0.9524 - val_recall_m: 0.9437 - val_f1_m: 0.9476\n",
            "Epoch 45/50\n",
            "36/36 [==============================] - 69s 2s/step - loss: 6.0570e-05 - acc: 1.0000 - precision_m: 1.0000 - recall_m: 1.0000 - f1_m: 1.0000 - val_loss: 0.4858 - val_acc: 0.9236 - val_precision_m: 0.9523 - val_recall_m: 0.9436 - val_f1_m: 0.9476\n",
            "Epoch 46/50\n",
            "36/36 [==============================] - 69s 2s/step - loss: 5.7664e-05 - acc: 1.0000 - precision_m: 1.0000 - recall_m: 1.0000 - f1_m: 1.0000 - val_loss: 0.4764 - val_acc: 0.9236 - val_precision_m: 0.9439 - val_recall_m: 0.9536 - val_f1_m: 0.9483\n",
            "Epoch 47/50\n",
            "36/36 [==============================] - 69s 2s/step - loss: 3.9527e-05 - acc: 1.0000 - precision_m: 1.0000 - recall_m: 1.0000 - f1_m: 1.0000 - val_loss: 0.4822 - val_acc: 0.9236 - val_precision_m: 0.9419 - val_recall_m: 0.9560 - val_f1_m: 0.9483\n",
            "Epoch 48/50\n",
            "36/36 [==============================] - 69s 2s/step - loss: 2.7988e-05 - acc: 1.0000 - precision_m: 1.0000 - recall_m: 1.0000 - f1_m: 1.0000 - val_loss: 0.4861 - val_acc: 0.9236 - val_precision_m: 0.9399 - val_recall_m: 0.9584 - val_f1_m: 0.9484\n",
            "Epoch 49/50\n",
            "36/36 [==============================] - 69s 2s/step - loss: 2.5441e-05 - acc: 1.0000 - precision_m: 1.0000 - recall_m: 1.0000 - f1_m: 1.0000 - val_loss: 0.4863 - val_acc: 0.9236 - val_precision_m: 0.9399 - val_recall_m: 0.9584 - val_f1_m: 0.9484\n",
            "Epoch 50/50\n",
            "36/36 [==============================] - 69s 2s/step - loss: 2.4778e-05 - acc: 1.0000 - precision_m: 1.0000 - recall_m: 1.0000 - f1_m: 1.0000 - val_loss: 0.4870 - val_acc: 0.9253 - val_precision_m: 0.9421 - val_recall_m: 0.9584 - val_f1_m: 0.9496\n"
          ]
        }
      ]
    },
    {
      "cell_type": "markdown",
      "metadata": {
        "id": "jxJ-xRy2mqWA"
      },
      "source": [
        ""
      ]
    },
    {
      "cell_type": "code",
      "metadata": {
        "id": "IqHWpWRWppOC",
        "colab": {
          "base_uri": "https://localhost:8080/"
        },
        "outputId": "4a797875-35e3-4d4f-913f-572a8ed0cb6e"
      },
      "source": [
        "model.summary()"
      ],
      "execution_count": 41,
      "outputs": [
        {
          "output_type": "stream",
          "name": "stdout",
          "text": [
            "__________________________________________________________________________________________________\n",
            "Layer (type)                    Output Shape         Param #     Connected to                     \n",
            "==================================================================================================\n",
            "input_1 (InputLayer)            (None, 50, 50, 4)    0                                            \n",
            "__________________________________________________________________________________________________\n",
            "quaternion_conv2d_1 (Quaternion (None, 50, 50, 64)   128         input_1[0][0]                    \n",
            "__________________________________________________________________________________________________\n",
            "batch_normalization_1 (BatchNor (None, 50, 50, 64)   256         quaternion_conv2d_1[0][0]        \n",
            "__________________________________________________________________________________________________\n",
            "re_lu_1 (ReLU)                  (None, 50, 50, 64)   0           batch_normalization_1[0][0]      \n",
            "__________________________________________________________________________________________________\n",
            "max_pooling2d_1 (MaxPooling2D)  (None, 25, 25, 64)   0           re_lu_1[0][0]                    \n",
            "__________________________________________________________________________________________________\n",
            "quaternion_conv2d_2 (Quaternion (None, 25, 25, 64)   1088        max_pooling2d_1[0][0]            \n",
            "__________________________________________________________________________________________________\n",
            "batch_normalization_2 (BatchNor (None, 25, 25, 64)   256         quaternion_conv2d_2[0][0]        \n",
            "__________________________________________________________________________________________________\n",
            "elu_1 (ELU)                     (None, 25, 25, 64)   0           batch_normalization_2[0][0]      \n",
            "__________________________________________________________________________________________________\n",
            "quaternion_conv2d_3 (Quaternion (None, 25, 25, 64)   1088        elu_1[0][0]                      \n",
            "__________________________________________________________________________________________________\n",
            "batch_normalization_3 (BatchNor (None, 25, 25, 64)   256         quaternion_conv2d_3[0][0]        \n",
            "__________________________________________________________________________________________________\n",
            "elu_2 (ELU)                     (None, 25, 25, 64)   0           batch_normalization_3[0][0]      \n",
            "__________________________________________________________________________________________________\n",
            "quaternion_conv2d_4 (Quaternion (None, 25, 25, 128)  2176        elu_2[0][0]                      \n",
            "__________________________________________________________________________________________________\n",
            "quaternion_conv2d_5 (Quaternion (None, 25, 25, 128)  2176        max_pooling2d_1[0][0]            \n",
            "__________________________________________________________________________________________________\n",
            "batch_normalization_4 (BatchNor (None, 25, 25, 128)  512         quaternion_conv2d_4[0][0]        \n",
            "__________________________________________________________________________________________________\n",
            "batch_normalization_5 (BatchNor (None, 25, 25, 128)  512         quaternion_conv2d_5[0][0]        \n",
            "__________________________________________________________________________________________________\n",
            "elu_3 (ELU)                     (None, 25, 25, 128)  0           batch_normalization_4[0][0]      \n",
            "__________________________________________________________________________________________________\n",
            "add_1 (Add)                     (None, 25, 25, 128)  0           batch_normalization_5[0][0]      \n",
            "                                                                 elu_3[0][0]                      \n",
            "__________________________________________________________________________________________________\n",
            "re_lu_2 (ReLU)                  (None, 25, 25, 128)  0           add_1[0][0]                      \n",
            "__________________________________________________________________________________________________\n",
            "max_pooling2d_2 (MaxPooling2D)  (None, 12, 12, 128)  0           re_lu_2[0][0]                    \n",
            "__________________________________________________________________________________________________\n",
            "quaternion_conv2d_6 (Quaternion (None, 12, 12, 128)  4224        max_pooling2d_2[0][0]            \n",
            "__________________________________________________________________________________________________\n",
            "batch_normalization_6 (BatchNor (None, 12, 12, 128)  512         quaternion_conv2d_6[0][0]        \n",
            "__________________________________________________________________________________________________\n",
            "elu_4 (ELU)                     (None, 12, 12, 128)  0           batch_normalization_6[0][0]      \n",
            "__________________________________________________________________________________________________\n",
            "quaternion_conv2d_7 (Quaternion (None, 12, 12, 128)  4224        elu_4[0][0]                      \n",
            "__________________________________________________________________________________________________\n",
            "batch_normalization_7 (BatchNor (None, 12, 12, 128)  512         quaternion_conv2d_7[0][0]        \n",
            "__________________________________________________________________________________________________\n",
            "elu_5 (ELU)                     (None, 12, 12, 128)  0           batch_normalization_7[0][0]      \n",
            "__________________________________________________________________________________________________\n",
            "quaternion_conv2d_8 (Quaternion (None, 12, 12, 256)  8448        elu_5[0][0]                      \n",
            "__________________________________________________________________________________________________\n",
            "quaternion_conv2d_9 (Quaternion (None, 12, 12, 256)  8448        max_pooling2d_2[0][0]            \n",
            "__________________________________________________________________________________________________\n",
            "batch_normalization_8 (BatchNor (None, 12, 12, 256)  1024        quaternion_conv2d_8[0][0]        \n",
            "__________________________________________________________________________________________________\n",
            "batch_normalization_9 (BatchNor (None, 12, 12, 256)  1024        quaternion_conv2d_9[0][0]        \n",
            "__________________________________________________________________________________________________\n",
            "elu_6 (ELU)                     (None, 12, 12, 256)  0           batch_normalization_8[0][0]      \n",
            "__________________________________________________________________________________________________\n",
            "add_2 (Add)                     (None, 12, 12, 256)  0           batch_normalization_9[0][0]      \n",
            "                                                                 elu_6[0][0]                      \n",
            "__________________________________________________________________________________________________\n",
            "re_lu_3 (ReLU)                  (None, 12, 12, 256)  0           add_2[0][0]                      \n",
            "__________________________________________________________________________________________________\n",
            "max_pooling2d_3 (MaxPooling2D)  (None, 6, 6, 256)    0           re_lu_3[0][0]                    \n",
            "__________________________________________________________________________________________________\n",
            "quaternion_conv2d_10 (Quaternio (None, 6, 6, 256)    16640       max_pooling2d_3[0][0]            \n",
            "__________________________________________________________________________________________________\n",
            "batch_normalization_10 (BatchNo (None, 6, 6, 256)    1024        quaternion_conv2d_10[0][0]       \n",
            "__________________________________________________________________________________________________\n",
            "elu_7 (ELU)                     (None, 6, 6, 256)    0           batch_normalization_10[0][0]     \n",
            "__________________________________________________________________________________________________\n",
            "quaternion_conv2d_11 (Quaternio (None, 6, 6, 256)    16640       elu_7[0][0]                      \n",
            "__________________________________________________________________________________________________\n",
            "batch_normalization_11 (BatchNo (None, 6, 6, 256)    1024        quaternion_conv2d_11[0][0]       \n",
            "__________________________________________________________________________________________________\n",
            "elu_8 (ELU)                     (None, 6, 6, 256)    0           batch_normalization_11[0][0]     \n",
            "__________________________________________________________________________________________________\n",
            "quaternion_conv2d_12 (Quaternio (None, 6, 6, 384)    24960       elu_8[0][0]                      \n",
            "__________________________________________________________________________________________________\n",
            "quaternion_conv2d_13 (Quaternio (None, 6, 6, 384)    24960       max_pooling2d_3[0][0]            \n",
            "__________________________________________________________________________________________________\n",
            "batch_normalization_12 (BatchNo (None, 6, 6, 384)    1536        quaternion_conv2d_12[0][0]       \n",
            "__________________________________________________________________________________________________\n",
            "batch_normalization_13 (BatchNo (None, 6, 6, 384)    1536        quaternion_conv2d_13[0][0]       \n",
            "__________________________________________________________________________________________________\n",
            "elu_9 (ELU)                     (None, 6, 6, 384)    0           batch_normalization_12[0][0]     \n",
            "__________________________________________________________________________________________________\n",
            "add_3 (Add)                     (None, 6, 6, 384)    0           batch_normalization_13[0][0]     \n",
            "                                                                 elu_9[0][0]                      \n",
            "__________________________________________________________________________________________________\n",
            "re_lu_4 (ReLU)                  (None, 6, 6, 384)    0           add_3[0][0]                      \n",
            "__________________________________________________________________________________________________\n",
            "max_pooling2d_4 (MaxPooling2D)  (None, 3, 3, 384)    0           re_lu_4[0][0]                    \n",
            "__________________________________________________________________________________________________\n",
            "quaternion_conv2d_14 (Quaternio (None, 3, 3, 384)    37248       max_pooling2d_4[0][0]            \n",
            "__________________________________________________________________________________________________\n",
            "batch_normalization_14 (BatchNo (None, 3, 3, 384)    1536        quaternion_conv2d_14[0][0]       \n",
            "__________________________________________________________________________________________________\n",
            "elu_10 (ELU)                    (None, 3, 3, 384)    0           batch_normalization_14[0][0]     \n",
            "__________________________________________________________________________________________________\n",
            "quaternion_conv2d_15 (Quaternio (None, 3, 3, 384)    37248       elu_10[0][0]                     \n",
            "__________________________________________________________________________________________________\n",
            "batch_normalization_15 (BatchNo (None, 3, 3, 384)    1536        quaternion_conv2d_15[0][0]       \n",
            "__________________________________________________________________________________________________\n",
            "elu_11 (ELU)                    (None, 3, 3, 384)    0           batch_normalization_15[0][0]     \n",
            "__________________________________________________________________________________________________\n",
            "quaternion_conv2d_16 (Quaternio (None, 3, 3, 512)    49664       elu_11[0][0]                     \n",
            "__________________________________________________________________________________________________\n",
            "quaternion_conv2d_17 (Quaternio (None, 3, 3, 512)    49664       max_pooling2d_4[0][0]            \n",
            "__________________________________________________________________________________________________\n",
            "batch_normalization_16 (BatchNo (None, 3, 3, 512)    2048        quaternion_conv2d_16[0][0]       \n",
            "__________________________________________________________________________________________________\n",
            "batch_normalization_17 (BatchNo (None, 3, 3, 512)    2048        quaternion_conv2d_17[0][0]       \n",
            "__________________________________________________________________________________________________\n",
            "elu_12 (ELU)                    (None, 3, 3, 512)    0           batch_normalization_16[0][0]     \n",
            "__________________________________________________________________________________________________\n",
            "add_4 (Add)                     (None, 3, 3, 512)    0           batch_normalization_17[0][0]     \n",
            "                                                                 elu_12[0][0]                     \n",
            "__________________________________________________________________________________________________\n",
            "re_lu_5 (ReLU)                  (None, 3, 3, 512)    0           add_4[0][0]                      \n",
            "__________________________________________________________________________________________________\n",
            "max_pooling2d_5 (MaxPooling2D)  (None, 1, 1, 512)    0           re_lu_5[0][0]                    \n",
            "__________________________________________________________________________________________________\n",
            "global_average_pooling2d_1 (Glo (None, 512)          0           max_pooling2d_5[0][0]            \n",
            "__________________________________________________________________________________________________\n",
            "dense_1 (Dense)                 (None, 512)          262656      global_average_pooling2d_1[0][0] \n",
            "__________________________________________________________________________________________________\n",
            "dropout_1 (Dropout)             (None, 512)          0           dense_1[0][0]                    \n",
            "__________________________________________________________________________________________________\n",
            "dense_2 (Dense)                 (None, 1)            513         dropout_1[0][0]                  \n",
            "==================================================================================================\n",
            "Total params: 569,345\n",
            "Trainable params: 560,769\n",
            "Non-trainable params: 8,576\n",
            "__________________________________________________________________________________________________\n"
          ]
        }
      ]
    },
    {
      "cell_type": "code",
      "source": [
        "import pandas as pd\n",
        "\n",
        "\n",
        "\n",
        "# convert the history.history dict to a pandas DataFrame:     \n",
        "hist_df = pd.DataFrame(history.history) \n",
        "\n",
        "# save to json:  \n",
        "hist_json_file = 'history.json' \n",
        "with open(hist_json_file, mode='w') as f:\n",
        "    hist_df.to_json(f)\n",
        "\n",
        "# or save to csv: \n",
        "hist_csv_file = 'history.csv'\n",
        "with open(hist_csv_file, mode='w') as f:\n",
        "    hist_df.to_csv(f)"
      ],
      "metadata": {
        "id": "yBW4NQIaOaIU"
      },
      "execution_count": 42,
      "outputs": []
    },
    {
      "cell_type": "code",
      "metadata": {
        "id": "JLEW_7vM0iPQ",
        "colab": {
          "base_uri": "https://localhost:8080/"
        },
        "outputId": "b73fcebc-8b5a-41ca-c0ee-a1236a48ce0e"
      },
      "source": [
        "print(history.history.keys())"
      ],
      "execution_count": 43,
      "outputs": [
        {
          "output_type": "stream",
          "name": "stdout",
          "text": [
            "dict_keys(['val_loss', 'val_acc', 'val_precision_m', 'val_recall_m', 'val_f1_m', 'loss', 'acc', 'precision_m', 'recall_m', 'f1_m'])\n"
          ]
        }
      ]
    },
    {
      "cell_type": "code",
      "metadata": {
        "id": "hPFYD1H7psfz",
        "colab": {
          "base_uri": "https://localhost:8080/",
          "height": 611
        },
        "outputId": "1ab857b4-9548-4937-a826-dafd5271ea6f"
      },
      "source": [
        "# tensorboard logs \n",
        "print(history.history.keys())\n",
        "#  \"Accuracy\"\n",
        "plt.plot(history.history['acc'])\n",
        "plt.plot(history.history['val_acc'])\n",
        "plt.title('model accuracy')\n",
        "plt.ylabel('accuracy')\n",
        "plt.xlabel('epoch')\n",
        "plt.legend(['train', 'validation'], loc='upper left')\n",
        "plt.show()\n",
        "# \"Loss\"\n",
        "plt.plot(history.history['loss'])\n",
        "plt.plot(history.history['val_loss'])\n",
        "plt.title('model loss')\n",
        "plt.ylabel('loss')\n",
        "plt.xlabel('epoch')\n",
        "plt.legend(['train', 'validation'], loc='upper left')\n",
        "plt.show()"
      ],
      "execution_count": 44,
      "outputs": [
        {
          "output_type": "stream",
          "name": "stdout",
          "text": [
            "dict_keys(['val_loss', 'val_acc', 'val_precision_m', 'val_recall_m', 'val_f1_m', 'loss', 'acc', 'precision_m', 'recall_m', 'f1_m'])\n"
          ]
        },
        {
          "output_type": "display_data",
          "data": {
            "image/png": "[encoded data removed]",
            "text/plain": [
              "<Figure size 432x288 with 1 Axes>"
            ]
          },
          "metadata": {
            "needs_background": "light"
          }
        },
        {
          "output_type": "display_data",
          "data": {
            "image/png": "[encoded data removed]",
            "text/plain": [
              "<Figure size 432x288 with 1 Axes>"
            ]
          },
          "metadata": {
            "needs_background": "light"
          }
        }
      ]
    },
    {
      "cell_type": "code",
      "metadata": {
        "id": "mN_joYZ6WxHD",
        "colab": {
          "base_uri": "https://localhost:8080/"
        },
        "outputId": "fcc70f95-06a5-49e7-8089-44e1a7ecd24d"
      },
      "source": [
        "print('\\nhistory dict:', history.history)"
      ],
      "execution_count": 45,
      "outputs": [
        {
          "output_type": "stream",
          "name": "stdout",
          "text": [
            "\n",
            "history dict: {'val_loss': [0.9907740420765347, 0.2769828455315696, 0.22921029064390394, 0.24513457053237492, 0.31996528804302216, 0.3609912478261524, 0.24129826741086113, 0.38833966851234436, 0.288980047735903, 0.3060155510902405, 0.3145558171802097, 0.2865292661719852, 0.48895782563421464, 0.3518543806340959, 0.5007474190658994, 0.48877421021461487, 0.6433300971984863, 0.5477604667345682, 0.5029280715518527, 0.7543434831831191, 1.5904279549916585, 0.7212356726328532, 0.4011047888133261, 0.6263147228293948, 0.8998021086057028, 0.5151029212607278, 0.4532288925515281, 0.6140684170855416, 0.8434782094425626, 0.39700278143088025, 0.4596980694267485, 0.5833951069249047, 0.4028071363766988, 0.4818193291624387, 0.5851323025094138, 0.49084481762515175, 0.49409429066711, 0.4931722796625561, 0.5474594599670835, 0.4842810225155618, 0.4568873710102505, 0.4662551267279519, 0.4710223260853026, 0.4960712045431137, 0.4857683330774307, 0.4764002710580826, 0.4821636709902022, 0.486055130759875, 0.48626872566011214, 0.48702967663606006], 'val_acc': [0.625, 0.8871527777777778, 0.9045138888888888, 0.9079861111111112, 0.875, 0.8697916666666666, 0.9149305555555556, 0.8993055555555556, 0.9097222222222222, 0.9079861111111112, 0.8888888888888888, 0.8993055555555556, 0.8888888888888888, 0.9045138888888888, 0.8211805555555556, 0.8871527777777778, 0.84375, 0.8854166666666666, 0.8940972222222222, 0.8715277777777778, 0.7638888888888888, 0.8420138888888888, 0.9166666666666666, 0.859375, 0.8090277777777778, 0.890625, 0.921875, 0.8975694444444444, 0.8611111111111112, 0.9166666666666666, 0.9027777777777778, 0.8923611111111112, 0.9184027777777778, 0.9010416666666666, 0.8836805555555556, 0.9201388888888888, 0.9201388888888888, 0.9184027777777778, 0.9184027777777778, 0.9131944444444444, 0.9201388888888888, 0.9201388888888888, 0.921875, 0.9236111111111112, 0.9236111111111112, 0.9236111111111112, 0.9236111111111112, 0.9236111111111112, 0.9236111111111112, 0.9253472222222222], 'val_precision_m': [0.990264548195733, 0.9591856400171915, 0.910634458065033, 0.9715543919139438, 0.9838497307565477, 0.9863049123022292, 0.963005542755127, 0.9719164768854777, 0.9535024232334561, 0.9447416663169861, 0.8798718055089315, 0.9359434247016907, 0.976472814877828, 0.9420721663369073, 0.9695583383242289, 0.876121805773841, 0.980645497639974, 0.9708759321106805, 0.9648875527911716, 0.9656133055686951, 0.9902837938732572, 0.98879916800393, 0.947574237982432, 0.9754569133122762, 0.9872963958316379, 0.8879344132211473, 0.9592429796854655, 0.9576192299524943, 0.9677375621265836, 0.9184227850702074, 0.9690838522381253, 0.9690216779708862, 0.9631160232755873, 0.9532448715633817, 0.9740913245413039, 0.9254278143246969, 0.9265166587299771, 0.9138949182298448, 0.9178313281801012, 0.9493124352561103, 0.9412661194801331, 0.9391937984360589, 0.943728400601281, 0.952370372083452, 0.9523093766636319, 0.943949388133155, 0.9418765505154928, 0.9398984511693319, 0.9398984511693319, 0.9420655104849074], 'val_recall_m': [0.49260321259498596, 0.8835785388946533, 0.9647092223167419, 0.8997432125939263, 0.8435525761710273, 0.8328848150041368, 0.9195625252193875, 0.88795006275177, 0.9217482341660393, 0.9291946887969971, 0.9840668572319878, 0.926403178109063, 0.8701606525315179, 0.926378952132331, 0.7785275843408372, 0.9863086806403266, 0.8021267321374681, 0.8680988483958774, 0.8891263339254591, 0.8554608027140299, 0.6834770176145766, 0.7936458587646484, 0.9384306934144762, 0.8302320904201932, 0.7463412019941542, 0.9744004540973239, 0.9335974852244059, 0.9007545775837369, 0.8390931619538201, 0.9742953843540616, 0.8957986368073357, 0.8810113867123922, 0.9235768251948886, 0.9106382860077752, 0.8647919760810004, 0.9698996411429511, 0.9698016246159872, 0.9817027913199531, 0.9769746594958835, 0.9318705134921603, 0.9511059059037102, 0.953469971815745, 0.9511059059037102, 0.9437474542193942, 0.9436423844761319, 0.9535750415590074, 0.9560441772143046, 0.9584082431263394, 0.9584082431263394, 0.9584082431263394], 'val_f1_m': [0.6568436821301779, 0.9196644888983833, 0.9365439679887559, 0.9341667691866556, 0.9076720476150513, 0.9029749234517416, 0.9405129618114896, 0.9278020527627733, 0.9371694458855523, 0.9364923437436422, 0.9283727341228061, 0.9306049545605978, 0.9198488526874118, 0.9338075651062859, 0.8630539509985182, 0.9273368650012546, 0.8805394636260139, 0.9161944720480177, 0.924733406967587, 0.9069876339700487, 0.8082508312331306, 0.8801163898573982, 0.9426707559161716, 0.896408650610182, 0.8490208188692728, 0.9289567735460069, 0.9458004699812995, 0.928026921219296, 0.8985344833797879, 0.9449374145931668, 0.9306429492102729, 0.9226328531901041, 0.9426177872551812, 0.931072817908393, 0.9155402051077949, 0.9466083447138468, 0.947091195318434, 0.9461944897969564, 0.9459477265675863, 0.9400409261385599, 0.9457119173473783, 0.9457607534196641, 0.9468783405092027, 0.9476278954082065, 0.9475688868098788, 0.9482605391078525, 0.9483120308982002, 0.9483868281046549, 0.9483868281046549, 0.9495547347598605], 'loss': [0.4312262423336506, 0.22690440466006598, 0.19186310056183073, 0.19128456980817848, 0.18483629450201988, 0.14697325829830435, 0.10776396768374576, 0.08286471685601605, 0.07267895485791895, 0.06374517967924476, 0.07542625654281841, 0.06979943858459592, 0.06747454679053691, 0.07792147114459011, 0.08820693810573882, 0.06771179469716218, 0.04467312295714186, 0.0389686908133121, 0.038695373378383614, 0.040205770120438605, 0.03969719689080699, 0.03496648777379758, 0.03211931168981311, 0.03191928977483056, 0.027560513608881995, 0.027669940234368876, 0.028570183374944866, 0.028453577769040648, 0.02267043013125658, 0.015027435302423934, 0.010553989064646885, 0.014013459631112508, 0.009482314743864764, 0.008585656752176065, 0.012680921042273339, 0.003365727151807126, 0.003004976111292813, 0.0016528817810063225, 0.0010098932256773373, 0.0006349253293996702, 0.00010900329400303437, 7.05842102459226e-05, 7.002908264692248e-05, 6.671856093968624e-05, 6.057000660398949e-05, 5.766379917481067e-05, 3.952666970184914e-05, 2.7987922054409057e-05, 2.5440788249397883e-05, 2.4778412024615034e-05], 'acc': [0.8563368055555556, 0.9108072916666666, 0.9233940972222222, 0.9264322916666666, 0.9251302083333334, 0.9422743055555556, 0.9615885416666666, 0.9722222222222222, 0.9743923611111112, 0.9798177083333334, 0.9743923611111112, 0.9724392361111112, 0.9730902777777778, 0.9704861111111112, 0.9650607638888888, 0.9741753472222222, 0.9835069444444444, 0.9835069444444444, 0.9852430555555556, 0.984375, 0.9856770833333334, 0.9850260416666666, 0.9880642361111112, 0.9869791666666666, 0.990234375, 0.990234375, 0.9895833333333334, 0.9887152777777778, 0.9917534722222222, 0.9937065972222222, 0.99609375, 0.9954427083333334, 0.9971788194444444, 0.9971788194444444, 0.9969618055555556, 0.9986979166666666, 0.9989149305555556, 0.9997829861111112, 0.9995659722222222, 1.0, 1.0, 1.0, 1.0, 1.0, 1.0, 1.0, 1.0, 1.0, 1.0, 1.0], 'precision_m': [0.9034470369418462, 0.9372943623198403, 0.9457566026184294, 0.9455745104286406, 0.9444058785835902, 0.9555039289924834, 0.9720776859256957, 0.9750500387615628, 0.979692366388109, 0.9825249016284943, 0.9815056936608421, 0.9797185725635953, 0.979056340124872, 0.978722924987475, 0.9749853478537666, 0.9813312159644233, 0.9870078166325887, 0.9861761993832059, 0.989768871002727, 0.9884266157944998, 0.9904747903347015, 0.9886578321456909, 0.9914992501338323, 0.9907209823528925, 0.9930561085542043, 0.9912209808826447, 0.9913976954089271, 0.9919801470306184, 0.9939269191688962, 0.9953327890899446, 0.997964706685808, 0.9960923592249552, 0.9981484942966037, 0.9979508287376828, 0.9976423581441244, 0.9994056704971526, 0.9991020096672906, 1.0, 0.9997165534231398, 1.0, 1.0, 1.0, 1.0, 1.0, 1.0, 1.0, 1.0, 1.0, 1.0, 1.0], 'recall_m': [0.904087386197514, 0.9414140830437342, 0.950470980670717, 0.9563169065448973, 0.9564088318083022, 0.9665808296865888, 0.9761010673311021, 0.9875392201873991, 0.9854172981447644, 0.9902477115392685, 0.98374771575133, 0.9831454008817673, 0.9845912903547287, 0.981462601158354, 0.9781725820567873, 0.9836497704188029, 0.9908060961299472, 0.9915474438005023, 0.9903815173440509, 0.9903573410378562, 0.9900133725669649, 0.9909169028202692, 0.9923922932810254, 0.9917737924390368, 0.9937538819180595, 0.9952309860123528, 0.9944639553626379, 0.9926120042800903, 0.9948825803067949, 0.9959508693880506, 0.9967686186234156, 0.9977040108707216, 0.9979060474369261, 0.9981942524512609, 0.9981688989533318, 0.9988414264387555, 0.9994025594658322, 0.999707602792316, 0.9996878902117411, 1.0, 1.0, 1.0, 1.0, 1.0, 1.0, 1.0, 1.0, 1.0, 1.0, 1.0], 'f1_m': [0.8999682582086987, 0.9385684397485521, 0.9473383790916867, 0.949625680843989, 0.9489647100369135, 0.9604362729522917, 0.9737483478254743, 0.9810669703616036, 0.9824234230650796, 0.986257071296374, 0.9824221084515253, 0.9811344924900267, 0.9815613544649548, 0.979682625995742, 0.9760558058818182, 0.9822159343295627, 0.9887777980830934, 0.9887368430693945, 0.9899256593651242, 0.9892887953254912, 0.9901560892661413, 0.9896991501251856, 0.9918711996740766, 0.9911259628004498, 0.993270551164945, 0.9931536979145474, 0.9928464988867441, 0.9921887053383721, 0.9943543672561646, 0.9956163962682089, 0.99733776681953, 0.9968720525503159, 0.9980182747046152, 0.9980656703313192, 0.9978959212700526, 0.9991189026170306, 0.999248226483663, 0.9998530265357759, 0.9997006091806624, 1.0, 1.0, 1.0, 1.0, 1.0, 1.0, 1.0, 1.0, 1.0, 1.0, 1.0]}\n"
          ]
        }
      ]
    },
    {
      "cell_type": "markdown",
      "metadata": {
        "id": "i2soOKFq1ctk"
      },
      "source": [
        "# Evaluation on testing set "
      ]
    },
    {
      "cell_type": "code",
      "metadata": {
        "id": "-npqPviY0Bkr",
        "colab": {
          "base_uri": "https://localhost:8080/"
        },
        "outputId": "0230640a-49b0-472e-abbd-a431f74f3ea8"
      },
      "source": [
        "\n",
        "loss, accuracy, f1_score, precision, recall = model.evaluate_generator(batch_generator(df_test[:256], 256,len(df_test[:256])//256),steps=len(df_test[:256])//256,verbose=1)"
      ],
      "execution_count": 46,
      "outputs": [
        {
          "output_type": "stream",
          "name": "stdout",
          "text": [
            "\r1/1 [==============================] - 5s 5s/step\n"
          ]
        }
      ]
    },
    {
      "cell_type": "code",
      "source": [
        "print(model.evaluate_generator(batch_generator(df_test[:256], 256,len(df_test[:256])//256),steps=len(df_test[:256])//256,verbose=1))"
      ],
      "metadata": {
        "colab": {
          "base_uri": "https://localhost:8080/"
        },
        "id": "ad0UcLKvDKAQ",
        "outputId": "6960dda3-4aba-4ac1-8782-7a025a85a23d"
      },
      "execution_count": 47,
      "outputs": [
        {
          "output_type": "stream",
          "name": "stdout",
          "text": [
            "\r1/1 [==============================] - 6s 6s/step\n",
            "[0.6195061802864075, 0.92578125, 0.9476439952850342, 0.9526315927505493, 0.9501311779022217]\n"
          ]
        }
      ]
    },
    {
      "cell_type": "code",
      "source": [
        "print(model.evaluate_generator(batch_generator(df_train[:256], 256,len(df_train[:256])//256),steps=len(df_train[:256])//256,verbose=1))"
      ],
      "metadata": {
        "colab": {
          "base_uri": "https://localhost:8080/"
        },
        "id": "BaBQkFP-DaaP",
        "outputId": "772d4e6f-29a0-4c73-ad4d-68af02422359"
      },
      "execution_count": 48,
      "outputs": [
        {
          "output_type": "stream",
          "name": "stdout",
          "text": [
            "\r1/1 [==============================] - 6s 6s/step\n",
            "[1.0003752322518267e-05, 1.0, 1.0, 1.0, 1.0]\n"
          ]
        }
      ]
    },
    {
      "cell_type": "code",
      "source": [
        "print(model.evaluate_generator(batch_generator(df_val[:256], 256,len(df_val[:256])//256),steps=len(df_val[:256])//256,verbose=1))"
      ],
      "metadata": {
        "colab": {
          "base_uri": "https://localhost:8080/"
        },
        "id": "hb4w1uOIE-DX",
        "outputId": "16a0e461-70bb-4fdd-dfba-684e73ab3223"
      },
      "execution_count": 49,
      "outputs": [
        {
          "output_type": "stream",
          "name": "stdout",
          "text": [
            "\r1/1 [==============================] - 6s 6s/step\n",
            "[0.5010474920272827, 0.92578125, 0.9289340376853943, 0.9734042286872864, 0.9506493210792542]\n"
          ]
        }
      ]
    },
    {
      "cell_type": "code",
      "source": [
        "help(model.evaluate_generator)"
      ],
      "metadata": {
        "colab": {
          "base_uri": "https://localhost:8080/"
        },
        "id": "1xkZBtt8Ga43",
        "outputId": "27572e73-d910-48a5-da0f-5da1b8e997fc"
      },
      "execution_count": 50,
      "outputs": [
        {
          "output_type": "stream",
          "name": "stdout",
          "text": [
            "Help on method evaluate_generator in module keras.engine.training:\n",
            "\n",
            "evaluate_generator(generator, steps=None, max_queue_size=10, workers=1, use_multiprocessing=False, verbose=0) method of keras.engine.training.Model instance\n",
            "    Evaluates the model on a data generator.\n",
            "    \n",
            "    The generator should return the same kind of data\n",
            "    as accepted by `test_on_batch`.\n",
            "    \n",
            "    # Arguments\n",
            "        generator: Generator yielding tuples (inputs, targets)\n",
            "            or (inputs, targets, sample_weights)\n",
            "            or an instance of Sequence (keras.utils.Sequence)\n",
            "            object in order to avoid duplicate data\n",
            "            when using multiprocessing.\n",
            "        steps: Total number of steps (batches of samples)\n",
            "            to yield from `generator` before stopping.\n",
            "            Optional for `Sequence`: if unspecified, will use\n",
            "            the `len(generator)` as a number of steps.\n",
            "        max_queue_size: maximum size for the generator queue\n",
            "        workers: Integer. Maximum number of processes to spin up\n",
            "            when using process based threading.\n",
            "            If unspecified, `workers` will default to 1. If 0, will\n",
            "            execute the generator on the main thread.\n",
            "        use_multiprocessing: if True, use process based threading.\n",
            "            Note that because\n",
            "            this implementation relies on multiprocessing,\n",
            "            you should not pass\n",
            "            non picklable arguments to the generator\n",
            "            as they can't be passed\n",
            "            easily to children processes.\n",
            "        verbose: verbosity mode, 0 or 1.\n",
            "    \n",
            "    # Returns\n",
            "        Scalar test loss (if the model has a single output and no metrics)\n",
            "        or list of scalars (if the model has multiple outputs\n",
            "        and/or metrics). The attribute `model.metrics_names` will give you\n",
            "        the display labels for the scalar outputs.\n",
            "    \n",
            "    # Raises\n",
            "        ValueError: In case the generator yields\n",
            "            data in an invalid format.\n",
            "\n"
          ]
        }
      ]
    },
    {
      "cell_type": "markdown",
      "metadata": {
        "id": "4rapfUmhiyFQ"
      },
      "source": [
        "### **The performance metrics**"
      ]
    },
    {
      "cell_type": "code",
      "metadata": {
        "id": "w6VOqcdlrKXT",
        "colab": {
          "base_uri": "https://localhost:8080/"
        },
        "outputId": "eaefd9d4-d667-4fd2-9388-eb2387dfb209"
      },
      "source": [
        "from sklearn.metrics import confusion_matrix\n",
        "\n",
        "y_pred=model.predict_generator(batch_generator(df_test[:256], 256,len(df_test[:256])//256),steps=len(df_test[:256])//256,verbose=1)\n",
        "\n",
        "y_true=df_test[:256].labels\n",
        "array=confusion_matrix(y_true, (1.2*y_pred).round(),normalize=\"true\")"
      ],
      "execution_count": 51,
      "outputs": [
        {
          "output_type": "stream",
          "name": "stdout",
          "text": [
            "\r1/1 [==============================] - 7s 7s/step\n"
          ]
        }
      ]
    },
    {
      "cell_type": "code",
      "source": [
        "import seaborn as sn\n",
        "\n",
        "df_cm = pd.DataFrame(array, range(2), range(2))\n",
        "# plt.figure(figsize=(10,7))\n",
        "sn.set(font_scale=1.4) # for label size\n",
        "sn.heatmap(df_cm, annot=True, annot_kws={\"size\": 16}) # font size\n",
        "\n",
        "plt.show()"
      ],
      "metadata": {
        "colab": {
          "base_uri": "https://localhost:8080/",
          "height": 273
        },
        "id": "nR8Og5OBkdTd",
        "outputId": "d4405f35-21eb-4f4a-ccb1-14d62497606d"
      },
      "execution_count": 71,
      "outputs": [
        {
          "output_type": "display_data",
          "data": {
            "image/png": "[encoded data removed]",
            "text/plain": [
              "<Figure size 432x288 with 2 Axes>"
            ]
          },
          "metadata": {}
        }
      ]
    },
    {
      "cell_type": "code",
      "source": [
        "from sklearn.datasets import make_circles\n",
        "from sklearn.metrics import accuracy_score\n",
        "from sklearn.metrics import precision_score\n",
        "from sklearn.metrics import recall_score\n",
        "from sklearn.metrics import f1_score\n",
        "from sklearn.metrics import cohen_kappa_score\n",
        "from sklearn.metrics import roc_auc_score\n",
        "from sklearn.metrics import confusion_matrix\n",
        "from keras.models import Sequential\n",
        "from keras.layers import Dense"
      ],
      "metadata": {
        "id": "YWEy-dGoH7cV"
      },
      "execution_count": 52,
      "outputs": []
    },
    {
      "cell_type": "code",
      "source": [
        "accuracy = accuracy_score(y_true, (1.2*y_pred).round())"
      ],
      "metadata": {
        "id": "5puhANpbHwLt"
      },
      "execution_count": 53,
      "outputs": []
    },
    {
      "cell_type": "code",
      "source": [
        "accuracy"
      ],
      "metadata": {
        "colab": {
          "base_uri": "https://localhost:8080/"
        },
        "id": "WvkI7h3yIENk",
        "outputId": "922253fc-b8fd-4dbd-cfbf-a8f283110dc1"
      },
      "execution_count": 54,
      "outputs": [
        {
          "output_type": "execute_result",
          "data": {
            "text/plain": [
              "0.92578125"
            ]
          },
          "metadata": {},
          "execution_count": 54
        }
      ]
    },
    {
      "cell_type": "code",
      "source": [
        "# accuracy: (tp + tn) / (p + n)\n",
        "accuracy = accuracy_score(y_true, (1.2*y_pred).round())\n",
        "print('Accuracy: %f' % accuracy)\n",
        "# precision tp / (tp + fp)\n",
        "precision = precision_score(y_true, (1.2*y_pred).round())\n",
        "print('Precision: %f' % precision)\n",
        "# recall: tp / (tp + fn)\n",
        "recall = recall_score(y_true, (1.2*y_pred).round())\n",
        "print('Recall: %f' % recall)\n",
        "# f1: 2 tp / (2 tp + fp + fn)\n",
        "f1 = f1_score(y_true, (1.2*y_pred).round())\n",
        "print('F1 score: %f' % f1)\n",
        " \n",
        "# kappa\n",
        "kappa = cohen_kappa_score(y_true, (1.2*y_pred).round())\n",
        "print('Cohens kappa: %f' % kappa)\n",
        "# ROC AUC\n",
        "auc = roc_auc_score(y_true, (1.2*y_pred).round())\n",
        "print('ROC AUC: %f' % auc)\n",
        "# confusion matrix\n",
        "matrix = confusion_matrix(y_true, (1.2*y_pred).round())\n",
        "print(matrix)"
      ],
      "metadata": {
        "colab": {
          "base_uri": "https://localhost:8080/"
        },
        "id": "rPQwlHeDIPSs",
        "outputId": "0aac0c03-ee93-471c-eb28-f7d6a95815e6"
      },
      "execution_count": 55,
      "outputs": [
        {
          "output_type": "stream",
          "name": "stdout",
          "text": [
            "Accuracy: 0.925781\n",
            "Precision: 0.947644\n",
            "Recall: 0.952632\n",
            "F1 score: 0.950131\n",
            "Cohens kappa: 0.805097\n",
            "ROC AUC: 0.900558\n",
            "[[ 56  10]\n",
            " [  9 181]]\n"
          ]
        }
      ]
    },
    {
      "cell_type": "code",
      "source": [
        "from sklearn import metrics"
      ],
      "metadata": {
        "id": "qhiXiZW6ho24"
      },
      "execution_count": 61,
      "outputs": []
    },
    {
      "cell_type": "code",
      "source": [
        "fpr, tpr, threshold = metrics.roc_curve(y_true, (1.2*y_pred).round())\n",
        "roc_auc = metrics.auc(fpr, tpr)\n",
        "\n",
        "plt.title('Receiver Operating Characteristic')\n",
        "plt.plot(fpr, tpr, 'b', label='AUC = %0.2f' % roc_auc)\n",
        "plt.legend(loc='lower right')\n",
        "plt.plot([0, 1], [0, 1], 'r--')\n",
        "plt.xlim([0, 1])\n",
        "plt.ylim([0, 1])\n",
        "plt.ylabel('True Positive Rate')\n",
        "plt.xlabel('False Positive Rate')\n",
        "plt.show()"
      ],
      "metadata": {
        "colab": {
          "base_uri": "https://localhost:8080/",
          "height": 295
        },
        "id": "IHkkDLqVJbZM",
        "outputId": "1d5987d4-74ad-4cd3-d75e-ad2d61a830b6"
      },
      "execution_count": 62,
      "outputs": [
        {
          "output_type": "display_data",
          "data": {
            "image/png": "[encoded data removed]",
            "text/plain": [
              "<Figure size 432x288 with 1 Axes>"
            ]
          },
          "metadata": {
            "needs_background": "light"
          }
        }
      ]
    },
    {
      "cell_type": "code",
      "source": [
        "print(metrics.accuracy_score(y_true, (1.2*y_pred).round()))"
      ],
      "metadata": {
        "id": "D390ZWCFKRZc"
      },
      "execution_count": null,
      "outputs": []
    },
    {
      "cell_type": "code",
      "source": [
        "import numpy as np\n",
        "import pandas as pd\n",
        "import seaborn as sns\n",
        "import matplotlib.pyplot as plt\n",
        "\n",
        "# machine learning libraries\n",
        "\n",
        "import statsmodels.api as sm\n",
        "from sklearn.model_selection import train_test_split\n",
        "from sklearn.preprocessing import StandardScaler\n",
        "from sklearn.linear_model import LogisticRegression\n",
        "from statsmodels.stats.outliers_influence import variance_inflation_factor\n",
        "from sklearn.feature_selection import RFE\n",
        "from sklearn.metrics import confusion_matrix\n",
        "\n",
        "from sklearn.metrics import roc_curve,roc_auc_score\n",
        "\n",
        "import warnings\n",
        "warnings.filterwarnings('ignore')"
      ],
      "metadata": {
        "colab": {
          "base_uri": "https://localhost:8080/"
        },
        "id": "3DabFXjfLgJD",
        "outputId": "f441fd28-3601-4e13-c239-79115e06c40f"
      },
      "execution_count": 63,
      "outputs": [
        {
          "output_type": "stream",
          "name": "stderr",
          "text": [
            "/usr/local/lib/python3.7/dist-packages/statsmodels/tools/_testing.py:19: FutureWarning: pandas.util.testing is deprecated. Use the functions in the public API at pandas.testing instead.\n",
            "  import pandas.util.testing as tm\n"
          ]
        }
      ]
    },
    {
      "cell_type": "code",
      "source": [
        " # Now let's calculate accuracy sensitivity and specificity for various probability cutoffs.\n",
        "cutoff_df = pd.DataFrame( columns = ['Probability','Accuracy','Sensitivity','Specificity'])\n",
        "from sklearn.metrics import confusion_matrix\n",
        "\n",
        "# TP = confusion[1,1] # true positive \n",
        "# TN = confusion[0,0] # true negatives\n",
        "# FP = confusion[0,1] # false positives\n",
        "# FN = confusion[1,0] # false negatives\n",
        "\n",
        "num = [0.0,0.1,0.2,0.3,0.4,0.5,0.6,0.7,0.8,0.9]\n",
        "for i in num:\n",
        "    cm1 = metrics.confusion_matrix(y_true, (1.2*y_pred).round())\n",
        "    total1=sum(sum(cm1))\n",
        "    Accuracy = (cm1[0,0]+cm1[1,1])/total1\n",
        "    \n",
        "    Specificity = cm1[0,0]/(cm1[0,0]+cm1[0,1])\n",
        "    Sensitivity = cm1[1,1]/(cm1[1,0]+cm1[1,1])\n",
        "    cutoff_df.loc[i] =[ i ,Accuracy,Sensitivity,Specificity]\n",
        "print(cutoff_df)"
      ],
      "metadata": {
        "colab": {
          "base_uri": "https://localhost:8080/"
        },
        "id": "5rI3siAzKikk",
        "outputId": "e231e460-3395-4a27-909a-f3642e4dc61d"
      },
      "execution_count": 64,
      "outputs": [
        {
          "output_type": "stream",
          "name": "stdout",
          "text": [
            "     Probability  Accuracy  Sensitivity  Specificity\n",
            "0.0          0.0  0.925781     0.952632     0.848485\n",
            "0.1          0.1  0.925781     0.952632     0.848485\n",
            "0.2          0.2  0.925781     0.952632     0.848485\n",
            "0.3          0.3  0.925781     0.952632     0.848485\n",
            "0.4          0.4  0.925781     0.952632     0.848485\n",
            "0.5          0.5  0.925781     0.952632     0.848485\n",
            "0.6          0.6  0.925781     0.952632     0.848485\n",
            "0.7          0.7  0.925781     0.952632     0.848485\n",
            "0.8          0.8  0.925781     0.952632     0.848485\n",
            "0.9          0.9  0.925781     0.952632     0.848485\n"
          ]
        }
      ]
    },
    {
      "cell_type": "code",
      "source": [
        "print(Accuracy,Sensitivity,Specificity)"
      ],
      "metadata": {
        "colab": {
          "base_uri": "https://localhost:8080/"
        },
        "id": "d0OmDokKLqWK",
        "outputId": "fe7611a5-e533-4c5f-a2e7-40db6940935e"
      },
      "execution_count": 65,
      "outputs": [
        {
          "output_type": "stream",
          "name": "stdout",
          "text": [
            "0.92578125 0.9526315789473684 0.8484848484848485\n"
          ]
        }
      ]
    },
    {
      "cell_type": "code",
      "source": [
        "import matplotlib.pyplot as plt\n",
        "# Let's plot accuracy sensitivity and specificity for various probabilities.\n",
        "cutoff_df.plot.line(x='Probability', y=['Accuracy','Sensitivity','Specificity'])\n",
        "plt.show()"
      ],
      "metadata": {
        "colab": {
          "base_uri": "https://localhost:8080/",
          "height": 279
        },
        "id": "4ZGG4CKAPNJp",
        "outputId": "4cceb6cb-8597-4626-c927-1fd2a78427a0"
      },
      "execution_count": 66,
      "outputs": [
        {
          "output_type": "display_data",
          "data": {
            "image/png": "[encoded data removed]",
            "text/plain": [
              "<Figure size 432x288 with 1 Axes>"
            ]
          },
          "metadata": {
            "needs_background": "light"
          }
        }
      ]
    },
    {
      "cell_type": "code",
      "source": [
        "# # Let's plot accuracy sensitivity and specificity for various probabilities.\n",
        "\n",
        "\n",
        "import matplotlib.pyplot as plt\n",
        "\n",
        "\n",
        "cutoff_df = pd.DataFrame( columns = ['Probability','Accuracy','Sensitivity','Specificity'])\n",
        "\n",
        "plt.show()\n",
        "plt.savefig('ss')"
      ],
      "metadata": {
        "colab": {
          "base_uri": "https://localhost:8080/",
          "height": 35
        },
        "id": "Dewbpm0cLzxK",
        "outputId": "cc6c32be-1c22-4d18-accf-86d3c3014454"
      },
      "execution_count": 67,
      "outputs": [
        {
          "output_type": "display_data",
          "data": {
            "text/plain": [
              "<Figure size 432x288 with 0 Axes>"
            ]
          },
          "metadata": {}
        }
      ]
    },
    {
      "cell_type": "code",
      "metadata": {
        "id": "MmEE2CXl3Ug9"
      },
      "source": [
        "import seaborn as sn\n",
        "\n",
        "df_cm = pd.DataFrame(array, range(2), range(2))\n",
        "# plt.figure(figsize=(10,7))\n",
        "sn.set(font_scale=1.4) # for label size\n",
        "sn.heatmap(df_cm, annot=True, annot_kws={\"size\": 16}) # font size\n",
        "\n",
        "plt.show()"
      ],
      "execution_count": null,
      "outputs": []
    },
    {
      "cell_type": "code",
      "source": [
        "df_cm"
      ],
      "metadata": {
        "colab": {
          "base_uri": "https://localhost:8080/",
          "height": 171
        },
        "id": "pFSLNMoPG8KP",
        "outputId": "fa9da251-6889-4a06-f423-8e16c7896e76"
      },
      "execution_count": 68,
      "outputs": [
        {
          "output_type": "error",
          "ename": "NameError",
          "evalue": "ignored",
          "traceback": [
            "\u001b[0;31m---------------------------------------------------------------------------\u001b[0m",
            "\u001b[0;31mNameError\u001b[0m                                 Traceback (most recent call last)",
            "\u001b[0;32m<ipython-input-68-9fa207c35d56>\u001b[0m in \u001b[0;36m<module>\u001b[0;34m()\u001b[0m\n\u001b[0;32m----> 1\u001b[0;31m \u001b[0mdf_cm\u001b[0m\u001b[0;34m\u001b[0m\u001b[0;34m\u001b[0m\u001b[0m\n\u001b[0m",
            "\u001b[0;31mNameError\u001b[0m: name 'df_cm' is not defined"
          ]
        }
      ]
    },
    {
      "cell_type": "code",
      "source": [
        "help(model.predict_generator)"
      ],
      "metadata": {
        "id": "ZZ4PVR5fGrq-"
      },
      "execution_count": null,
      "outputs": []
    },
    {
      "cell_type": "code",
      "metadata": {
        "id": "mPiq2i-ezhYK"
      },
      "source": [
        "print(accuracy, f1_score, precision, recall)"
      ],
      "execution_count": null,
      "outputs": []
    },
    {
      "cell_type": "code",
      "metadata": {
        "id": "L-BPbhLgpMD3"
      },
      "source": [
        "sensitivity=recall"
      ],
      "execution_count": null,
      "outputs": []
    },
    {
      "cell_type": "code",
      "metadata": {
        "id": "G9XP9HFqvxpr"
      },
      "source": [
        "sensitivity"
      ],
      "execution_count": null,
      "outputs": []
    },
    {
      "cell_type": "code",
      "metadata": {
        "id": "swe1iFPErQtI"
      },
      "source": [
        "tn, fp, fn, tp =array.ravel()"
      ],
      "execution_count": null,
      "outputs": []
    },
    {
      "cell_type": "code",
      "metadata": {
        "id": "4WpiFp7mvUvt"
      },
      "source": [
        "tn, fp, fn, tp"
      ],
      "execution_count": null,
      "outputs": []
    },
    {
      "cell_type": "code",
      "metadata": {
        "id": "-SKGwcHovcj6"
      },
      "source": [
        "specificity =tn / (tn + fp)"
      ],
      "execution_count": null,
      "outputs": []
    },
    {
      "cell_type": "code",
      "metadata": {
        "id": "qjdK3Ad8vukt"
      },
      "source": [
        "specificity"
      ],
      "execution_count": null,
      "outputs": []
    },
    {
      "cell_type": "code",
      "metadata": {
        "id": "kPQP8Rk71N1v"
      },
      "source": [
        "from sklearn.metrics import roc_curve\n",
        "from sklearn.metrics import roc_auc_score"
      ],
      "execution_count": null,
      "outputs": []
    },
    {
      "cell_type": "code",
      "metadata": {
        "id": "gV1kwZjt3MT4",
        "colab": {
          "base_uri": "https://localhost:8080/",
          "height": 295
        },
        "outputId": "74e4f397-8570-4fd1-d196-21b41374c5f9"
      },
      "source": [
        "import sklearn.metrics as metrics\n",
        "# calculate the fpr and tpr for all thresholds of the classification\n",
        "\n",
        "fpr, tpr, threshold = metrics.roc_curve(y_true,y_pred)\n",
        "roc_auc = metrics.auc(fpr, tpr)\n",
        "\n",
        "# method I: plt\n",
        "import matplotlib.pyplot as plt\n",
        "plt.title('Receiver Operating Characteristic')\n",
        "plt.plot(fpr, tpr, 'b', label = 'AUC = %0.2f' % roc_auc)\n",
        "plt.legend(loc = 'lower right')\n",
        "plt.plot([0, 1], [0, 1],'r--')\n",
        "plt.xlim([0, 1])\n",
        "plt.ylim([0, 1])\n",
        "plt.ylabel('True Positive Rate')\n",
        "plt.xlabel('False Positive Rate')\n",
        "plt.show()"
      ],
      "execution_count": 70,
      "outputs": [
        {
          "output_type": "display_data",
          "data": {
            "image/png": "[encoded data removed]",
            "text/plain": [
              "<Figure size 432x288 with 1 Axes>"
            ]
          },
          "metadata": {
            "needs_background": "light"
          }
        }
      ]
    },
    {
      "cell_type": "code",
      "metadata": {
        "id": "Miq1KLPhU2BA"
      },
      "source": [
        "model.save_weights('mymodel_weights')"
      ],
      "execution_count": null,
      "outputs": []
    },
    {
      "cell_type": "code",
      "metadata": {
        "id": "6HDwJNltV7fx"
      },
      "source": [
        "model.load_weights('/content/mymodel_weights')"
      ],
      "execution_count": null,
      "outputs": []
    }
  ]
}