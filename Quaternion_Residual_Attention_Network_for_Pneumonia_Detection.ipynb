{
  "nbformat": 4,
  "nbformat_minor": 0,
  "metadata": {
    "colab": {
      "name": "Quaternion_Residual_Attention_Network for Pneumonia Detection.ipynb",
      "provenance": [],
      "collapsed_sections": [],
      "include_colab_link": true
    },
    "kernelspec": {
      "name": "python3",
      "display_name": "Python 3"
    },
    "accelerator": "GPU"
  },
  "cells": [
    {
      "cell_type": "markdown",
      "metadata": {
        "id": "view-in-github",
        "colab_type": "text"
      },
      "source": [
        "<a href=\"https://colab.research.google.com/github/singhsukhendra/2015/blob/master/Quaternion_Residual_Attention_Network_for_Pneumonia_Detection.ipynb\" target=\"_parent\"><img src=\"https://colab.research.google.com/assets/colab-badge.svg\" alt=\"Open In Colab\"/></a>"
      ]
    },
    {
      "cell_type": "code",
      "metadata": {
        "id": "bm3z_Bcgq8J3",
        "colab": {
          "base_uri": "https://localhost:8080/"
        },
        "outputId": "068647c1-940e-4921-b297-ca5452ec7e66"
      },
      "source": [
        "!pip install kaggle"
      ],
      "execution_count": null,
      "outputs": [
        {
          "output_type": "stream",
          "name": "stdout",
          "text": [
            "Requirement already satisfied: kaggle in /usr/local/lib/python3.7/dist-packages (1.5.12)\n",
            "Requirement already satisfied: requests in /usr/local/lib/python3.7/dist-packages (from kaggle) (2.23.0)\n",
            "Requirement already satisfied: tqdm in /usr/local/lib/python3.7/dist-packages (from kaggle) (4.62.3)\n",
            "Requirement already satisfied: certifi in /usr/local/lib/python3.7/dist-packages (from kaggle) (2021.10.8)\n",
            "Requirement already satisfied: python-slugify in /usr/local/lib/python3.7/dist-packages (from kaggle) (6.0.1)\n",
            "Requirement already satisfied: urllib3 in /usr/local/lib/python3.7/dist-packages (from kaggle) (1.24.3)\n",
            "Requirement already satisfied: six>=1.10 in /usr/local/lib/python3.7/dist-packages (from kaggle) (1.15.0)\n",
            "Requirement already satisfied: python-dateutil in /usr/local/lib/python3.7/dist-packages (from kaggle) (2.8.2)\n",
            "Requirement already satisfied: text-unidecode>=1.3 in /usr/local/lib/python3.7/dist-packages (from python-slugify->kaggle) (1.3)\n",
            "Requirement already satisfied: idna<3,>=2.5 in /usr/local/lib/python3.7/dist-packages (from requests->kaggle) (2.10)\n",
            "Requirement already satisfied: chardet<4,>=3.0.2 in /usr/local/lib/python3.7/dist-packages (from requests->kaggle) (3.0.4)\n"
          ]
        }
      ]
    },
    {
      "cell_type": "code",
      "metadata": {
        "id": "qDJG2WbbrJdt",
        "colab": {
          "base_uri": "https://localhost:8080/"
        },
        "outputId": "6e03d9e1-8641-4df9-b7e3-1fadac3082f2"
      },
      "source": [
        "!pip install keras==\"2.2.4\""
      ],
      "execution_count": null,
      "outputs": [
        {
          "output_type": "stream",
          "name": "stdout",
          "text": [
            "Collecting keras==2.2.4\n",
            "  Downloading Keras-2.2.4-py2.py3-none-any.whl (312 kB)\n",
            "\u001b[?25l\r\u001b[K     |█                               | 10 kB 25.1 MB/s eta 0:00:01\r\u001b[K     |██                              | 20 kB 28.7 MB/s eta 0:00:01\r\u001b[K     |███▏                            | 30 kB 33.3 MB/s eta 0:00:01\r\u001b[K     |████▏                           | 40 kB 23.9 MB/s eta 0:00:01\r\u001b[K     |█████▎                          | 51 kB 19.8 MB/s eta 0:00:01\r\u001b[K     |██████▎                         | 61 kB 22.6 MB/s eta 0:00:01\r\u001b[K     |███████▍                        | 71 kB 21.4 MB/s eta 0:00:01\r\u001b[K     |████████▍                       | 81 kB 22.4 MB/s eta 0:00:01\r\u001b[K     |█████████▍                      | 92 kB 24.3 MB/s eta 0:00:01\r\u001b[K     |██████████▌                     | 102 kB 24.1 MB/s eta 0:00:01\r\u001b[K     |███████████▌                    | 112 kB 24.1 MB/s eta 0:00:01\r\u001b[K     |████████████▋                   | 122 kB 24.1 MB/s eta 0:00:01\r\u001b[K     |█████████████▋                  | 133 kB 24.1 MB/s eta 0:00:01\r\u001b[K     |██████████████▊                 | 143 kB 24.1 MB/s eta 0:00:01\r\u001b[K     |███████████████▊                | 153 kB 24.1 MB/s eta 0:00:01\r\u001b[K     |████████████████▊               | 163 kB 24.1 MB/s eta 0:00:01\r\u001b[K     |█████████████████▉              | 174 kB 24.1 MB/s eta 0:00:01\r\u001b[K     |██████████████████▉             | 184 kB 24.1 MB/s eta 0:00:01\r\u001b[K     |████████████████████            | 194 kB 24.1 MB/s eta 0:00:01\r\u001b[K     |█████████████████████           | 204 kB 24.1 MB/s eta 0:00:01\r\u001b[K     |██████████████████████          | 215 kB 24.1 MB/s eta 0:00:01\r\u001b[K     |███████████████████████         | 225 kB 24.1 MB/s eta 0:00:01\r\u001b[K     |████████████████████████▏       | 235 kB 24.1 MB/s eta 0:00:01\r\u001b[K     |█████████████████████████▏      | 245 kB 24.1 MB/s eta 0:00:01\r\u001b[K     |██████████████████████████▏     | 256 kB 24.1 MB/s eta 0:00:01\r\u001b[K     |███████████████████████████▎    | 266 kB 24.1 MB/s eta 0:00:01\r\u001b[K     |████████████████████████████▎   | 276 kB 24.1 MB/s eta 0:00:01\r\u001b[K     |█████████████████████████████▍  | 286 kB 24.1 MB/s eta 0:00:01\r\u001b[K     |██████████████████████████████▍ | 296 kB 24.1 MB/s eta 0:00:01\r\u001b[K     |███████████████████████████████▌| 307 kB 24.1 MB/s eta 0:00:01\r\u001b[K     |████████████████████████████████| 312 kB 24.1 MB/s \n",
            "\u001b[?25hRequirement already satisfied: numpy>=1.9.1 in /usr/local/lib/python3.7/dist-packages (from keras==2.2.4) (1.21.5)\n",
            "Requirement already satisfied: scipy>=0.14 in /usr/local/lib/python3.7/dist-packages (from keras==2.2.4) (1.4.1)\n",
            "Collecting keras-applications>=1.0.6\n",
            "  Downloading Keras_Applications-1.0.8-py3-none-any.whl (50 kB)\n",
            "\u001b[?25l\r\u001b[K     |██████▌                         | 10 kB 32.5 MB/s eta 0:00:01\r\u001b[K     |█████████████                   | 20 kB 37.2 MB/s eta 0:00:01\r\u001b[K     |███████████████████▍            | 30 kB 44.3 MB/s eta 0:00:01\r\u001b[K     |█████████████████████████▉      | 40 kB 45.9 MB/s eta 0:00:01\r\u001b[K     |████████████████████████████████| 50 kB 7.7 MB/s \n",
            "\u001b[?25hRequirement already satisfied: h5py in /usr/local/lib/python3.7/dist-packages (from keras==2.2.4) (3.1.0)\n",
            "Requirement already satisfied: six>=1.9.0 in /usr/local/lib/python3.7/dist-packages (from keras==2.2.4) (1.15.0)\n",
            "Requirement already satisfied: keras-preprocessing>=1.0.5 in /usr/local/lib/python3.7/dist-packages (from keras==2.2.4) (1.1.2)\n",
            "Requirement already satisfied: pyyaml in /usr/local/lib/python3.7/dist-packages (from keras==2.2.4) (3.13)\n",
            "Requirement already satisfied: cached-property in /usr/local/lib/python3.7/dist-packages (from h5py->keras==2.2.4) (1.5.2)\n",
            "Installing collected packages: keras-applications, keras\n",
            "  Attempting uninstall: keras\n",
            "    Found existing installation: keras 2.8.0\n",
            "    Uninstalling keras-2.8.0:\n",
            "      Successfully uninstalled keras-2.8.0\n",
            "\u001b[31mERROR: pip's dependency resolver does not currently take into account all the packages that are installed. This behaviour is the source of the following dependency conflicts.\n",
            "tensorflow 2.8.0 requires tf-estimator-nightly==2.8.0.dev2021122109, which is not installed.\n",
            "tensorflow 2.8.0 requires keras<2.9,>=2.8.0rc0, but you have keras 2.2.4 which is incompatible.\u001b[0m\n",
            "Successfully installed keras-2.2.4 keras-applications-1.0.8\n"
          ]
        }
      ]
    },
    {
      "cell_type": "code",
      "metadata": {
        "id": "9vcX1sn1rOgi",
        "colab": {
          "base_uri": "https://localhost:8080/"
        },
        "outputId": "4076c0fc-3e80-4535-c278-b73d6bc1da75"
      },
      "source": [
        "!pip install tensorflow==1.15"
      ],
      "execution_count": null,
      "outputs": [
        {
          "output_type": "stream",
          "name": "stdout",
          "text": [
            "Collecting tensorflow==1.15\n",
            "  Downloading tensorflow-1.15.0-cp37-cp37m-manylinux2010_x86_64.whl (412.3 MB)\n",
            "\u001b[K     |████████████████████████████████| 412.3 MB 22 kB/s \n",
            "\u001b[?25hRequirement already satisfied: astor>=0.6.0 in /usr/local/lib/python3.7/dist-packages (from tensorflow==1.15) (0.8.1)\n",
            "Collecting gast==0.2.2\n",
            "  Downloading gast-0.2.2.tar.gz (10 kB)\n",
            "Requirement already satisfied: keras-applications>=1.0.8 in /usr/local/lib/python3.7/dist-packages (from tensorflow==1.15) (1.0.8)\n",
            "Requirement already satisfied: absl-py>=0.7.0 in /usr/local/lib/python3.7/dist-packages (from tensorflow==1.15) (1.0.0)\n",
            "Requirement already satisfied: six>=1.10.0 in /usr/local/lib/python3.7/dist-packages (from tensorflow==1.15) (1.15.0)\n",
            "Requirement already satisfied: protobuf>=3.6.1 in /usr/local/lib/python3.7/dist-packages (from tensorflow==1.15) (3.17.3)\n",
            "Requirement already satisfied: grpcio>=1.8.6 in /usr/local/lib/python3.7/dist-packages (from tensorflow==1.15) (1.43.0)\n",
            "Requirement already satisfied: wrapt>=1.11.1 in /usr/local/lib/python3.7/dist-packages (from tensorflow==1.15) (1.13.3)\n",
            "Requirement already satisfied: google-pasta>=0.1.6 in /usr/local/lib/python3.7/dist-packages (from tensorflow==1.15) (0.2.0)\n",
            "Collecting tensorflow-estimator==1.15.1\n",
            "  Downloading tensorflow_estimator-1.15.1-py2.py3-none-any.whl (503 kB)\n",
            "\u001b[K     |████████████████████████████████| 503 kB 46.1 MB/s \n",
            "\u001b[?25hRequirement already satisfied: numpy<2.0,>=1.16.0 in /usr/local/lib/python3.7/dist-packages (from tensorflow==1.15) (1.21.5)\n",
            "Requirement already satisfied: wheel>=0.26 in /usr/local/lib/python3.7/dist-packages (from tensorflow==1.15) (0.37.1)\n",
            "Collecting tensorboard<1.16.0,>=1.15.0\n",
            "  Downloading tensorboard-1.15.0-py3-none-any.whl (3.8 MB)\n",
            "\u001b[K     |████████████████████████████████| 3.8 MB 57.8 MB/s \n",
            "\u001b[?25hRequirement already satisfied: opt-einsum>=2.3.2 in /usr/local/lib/python3.7/dist-packages (from tensorflow==1.15) (3.3.0)\n",
            "Requirement already satisfied: keras-preprocessing>=1.0.5 in /usr/local/lib/python3.7/dist-packages (from tensorflow==1.15) (1.1.2)\n",
            "Requirement already satisfied: termcolor>=1.1.0 in /usr/local/lib/python3.7/dist-packages (from tensorflow==1.15) (1.1.0)\n",
            "Requirement already satisfied: h5py in /usr/local/lib/python3.7/dist-packages (from keras-applications>=1.0.8->tensorflow==1.15) (3.1.0)\n",
            "Requirement already satisfied: werkzeug>=0.11.15 in /usr/local/lib/python3.7/dist-packages (from tensorboard<1.16.0,>=1.15.0->tensorflow==1.15) (1.0.1)\n",
            "Requirement already satisfied: setuptools>=41.0.0 in /usr/local/lib/python3.7/dist-packages (from tensorboard<1.16.0,>=1.15.0->tensorflow==1.15) (57.4.0)\n",
            "Requirement already satisfied: markdown>=2.6.8 in /usr/local/lib/python3.7/dist-packages (from tensorboard<1.16.0,>=1.15.0->tensorflow==1.15) (3.3.6)\n",
            "Requirement already satisfied: importlib-metadata>=4.4 in /usr/local/lib/python3.7/dist-packages (from markdown>=2.6.8->tensorboard<1.16.0,>=1.15.0->tensorflow==1.15) (4.11.1)\n",
            "Requirement already satisfied: typing-extensions>=3.6.4 in /usr/local/lib/python3.7/dist-packages (from importlib-metadata>=4.4->markdown>=2.6.8->tensorboard<1.16.0,>=1.15.0->tensorflow==1.15) (3.10.0.2)\n",
            "Requirement already satisfied: zipp>=0.5 in /usr/local/lib/python3.7/dist-packages (from importlib-metadata>=4.4->markdown>=2.6.8->tensorboard<1.16.0,>=1.15.0->tensorflow==1.15) (3.7.0)\n",
            "Requirement already satisfied: cached-property in /usr/local/lib/python3.7/dist-packages (from h5py->keras-applications>=1.0.8->tensorflow==1.15) (1.5.2)\n",
            "Building wheels for collected packages: gast\n",
            "  Building wheel for gast (setup.py) ... \u001b[?25l\u001b[?25hdone\n",
            "  Created wheel for gast: filename=gast-0.2.2-py3-none-any.whl size=7554 sha256=a1d3c9583560be1f930519f5bc11a7cc09e1ff8a0901cdbf12cd17c0eac6f374\n",
            "  Stored in directory: /root/.cache/pip/wheels/21/7f/02/420f32a803f7d0967b48dd823da3f558c5166991bfd204eef3\n",
            "Successfully built gast\n",
            "Installing collected packages: tensorflow-estimator, tensorboard, gast, tensorflow\n",
            "  Attempting uninstall: tensorflow-estimator\n",
            "    Found existing installation: tensorflow-estimator 2.8.0\n",
            "    Uninstalling tensorflow-estimator-2.8.0:\n",
            "      Successfully uninstalled tensorflow-estimator-2.8.0\n",
            "  Attempting uninstall: tensorboard\n",
            "    Found existing installation: tensorboard 2.8.0\n",
            "    Uninstalling tensorboard-2.8.0:\n",
            "      Successfully uninstalled tensorboard-2.8.0\n",
            "  Attempting uninstall: gast\n",
            "    Found existing installation: gast 0.5.3\n",
            "    Uninstalling gast-0.5.3:\n",
            "      Successfully uninstalled gast-0.5.3\n",
            "  Attempting uninstall: tensorflow\n",
            "    Found existing installation: tensorflow 2.8.0\n",
            "    Uninstalling tensorflow-2.8.0:\n",
            "      Successfully uninstalled tensorflow-2.8.0\n",
            "\u001b[31mERROR: pip's dependency resolver does not currently take into account all the packages that are installed. This behaviour is the source of the following dependency conflicts.\n",
            "tensorflow-probability 0.16.0 requires gast>=0.3.2, but you have gast 0.2.2 which is incompatible.\n",
            "kapre 0.3.7 requires tensorflow>=2.0.0, but you have tensorflow 1.15.0 which is incompatible.\u001b[0m\n",
            "Successfully installed gast-0.2.2 tensorboard-1.15.0 tensorflow-1.15.0 tensorflow-estimator-1.15.1\n"
          ]
        }
      ]
    },
    {
      "cell_type": "code",
      "metadata": {
        "id": "NU8uoUkcrYEw"
      },
      "source": [
        "!mkdir -p ~/.kaggle/\n",
        "!cp kaggle.json ~/.kaggle/"
      ],
      "execution_count": null,
      "outputs": []
    },
    {
      "cell_type": "code",
      "metadata": {
        "id": "YeeFuFZtsDUI",
        "colab": {
          "base_uri": "https://localhost:8080/"
        },
        "outputId": "213c05cf-2b64-4cbd-8614-b84f47975bca"
      },
      "source": [
        "!kaggle datasets download -d paultimothymooney/chest-xray-pneumonia"
      ],
      "execution_count": null,
      "outputs": [
        {
          "output_type": "stream",
          "name": "stdout",
          "text": [
            "Warning: Your Kaggle API key is readable by other users on this system! To fix this, you can run 'chmod 600 /root/.kaggle/kaggle.json'\n",
            "Downloading chest-xray-pneumonia.zip to /content\n",
            "100% 2.29G/2.29G [00:34<00:00, 30.8MB/s]\n",
            "100% 2.29G/2.29G [00:34<00:00, 70.7MB/s]\n"
          ]
        }
      ]
    },
    {
      "cell_type": "code",
      "metadata": {
        "id": "d1whZNjgvfHu"
      },
      "source": [
        "\n",
        "import zipfile\n",
        "with zipfile.ZipFile(\"/content/chest-xray-pneumonia.zip\",\"r\") as zip_ref:\n",
        "    zip_ref.extractall(\"chest-xray-pneumonia\")"
      ],
      "execution_count": null,
      "outputs": []
    },
    {
      "cell_type": "code",
      "metadata": {
        "id": "aNBD8eABtMUJ"
      },
      "source": [
        "! mkdir data_used"
      ],
      "execution_count": null,
      "outputs": []
    },
    {
      "cell_type": "code",
      "metadata": {
        "id": "FF738dIOzyXu"
      },
      "source": [
        "!mkdir data_used/NORMAL"
      ],
      "execution_count": null,
      "outputs": []
    },
    {
      "cell_type": "code",
      "metadata": {
        "id": "l_HfM3tGzzTa"
      },
      "source": [
        "!mkdir data_used/PNEUMONIA"
      ],
      "execution_count": null,
      "outputs": []
    },
    {
      "cell_type": "code",
      "metadata": {
        "id": "PR7BL4vMRFoj"
      },
      "source": [
        "! cp -r /content/chest-xray-pneumonia/chest_xray/chest_xray/train/NORMAL/*.jpeg   /content/data_used/NORMAL"
      ],
      "execution_count": null,
      "outputs": []
    },
    {
      "cell_type": "code",
      "metadata": {
        "id": "CBQKu5yVRMAh"
      },
      "source": [
        "! cp -r /content/chest-xray-pneumonia/chest_xray/chest_xray/test/NORMAL/*.jpeg   /content/data_used/NORMAL"
      ],
      "execution_count": null,
      "outputs": []
    },
    {
      "cell_type": "code",
      "metadata": {
        "id": "ESLCNfZBRMvh"
      },
      "source": [
        "! cp -r /content/chest-xray-pneumonia/chest_xray/chest_xray/val/NORMAL/*.jpeg   /content/data_used/NORMAL"
      ],
      "execution_count": null,
      "outputs": []
    },
    {
      "cell_type": "code",
      "metadata": {
        "id": "fxbeAAYoQ4_2"
      },
      "source": [
        "! cp -r /content/chest-xray-pneumonia/chest_xray/chest_xray/train/PNEUMONIA/*.jpeg   /content/data_used/PNEUMONIA"
      ],
      "execution_count": null,
      "outputs": []
    },
    {
      "cell_type": "code",
      "metadata": {
        "id": "OWlwaCwaRA7F"
      },
      "source": [
        "! cp -r /content/chest-xray-pneumonia/chest_xray/chest_xray/test/PNEUMONIA/*.jpeg   /content/data_used/PNEUMONIA"
      ],
      "execution_count": null,
      "outputs": []
    },
    {
      "cell_type": "code",
      "metadata": {
        "id": "oTW6bBnAtb06"
      },
      "source": [
        "! cp -r /content/chest-xray-pneumonia/chest_xray/chest_xray/val/PNEUMONIA/*.jpeg   /content/data_used/PNEUMONIA"
      ],
      "execution_count": null,
      "outputs": []
    },
    {
      "cell_type": "code",
      "metadata": {
        "id": "n8ZgYZxsodN7"
      },
      "source": [
        "import zipfile\n",
        "\n",
        "with zipfile.ZipFile(\"complexnn.zip\",\"r\") as zip_ref:\n",
        "    zip_ref.extractall()"
      ],
      "execution_count": null,
      "outputs": []
    },
    {
      "cell_type": "code",
      "metadata": {
        "id": "esgXl_scoiop"
      },
      "source": [
        "import pandas as pd\n",
        "import numpy as np\n",
        "import os\n",
        "\n",
        "from glob import glob\n",
        "import itertools\n",
        "import fnmatch\n",
        "import random\n",
        "import matplotlib.pylab as plt\n",
        "#import seaborn as sns\n",
        "import cv2\n",
        "from sklearn.model_selection import train_test_split\n",
        "%matplotlib inline"
      ],
      "execution_count": null,
      "outputs": []
    },
    {
      "cell_type": "code",
      "metadata": {
        "id": "0PVZlJ6IolPd",
        "colab": {
          "base_uri": "https://localhost:8080/"
        },
        "outputId": "389c90f9-cb1a-41cb-9af5-c32fb31c61a5"
      },
      "source": [
        "imagePatches = glob('/content/data_used/*/*.jpeg', recursive=True)\n",
        "for filename in imagePatches[0:1000]:\n",
        "    print(filename)"
      ],
      "execution_count": null,
      "outputs": [
        {
          "output_type": "stream",
          "name": "stdout",
          "text": [
            "/content/data_used/NORMAL/IM-0241-0001.jpeg\n",
            "/content/data_used/NORMAL/NORMAL2-IM-1025-0001.jpeg\n",
            "/content/data_used/NORMAL/NORMAL2-IM-0669-0001.jpeg\n",
            "/content/data_used/NORMAL/NORMAL2-IM-1168-0001.jpeg\n",
            "/content/data_used/NORMAL/NORMAL2-IM-1436-0001.jpeg\n",
            "/content/data_used/NORMAL/IM-0685-0001.jpeg\n",
            "/content/data_used/NORMAL/NORMAL2-IM-0790-0001.jpeg\n",
            "/content/data_used/NORMAL/IM-0369-0001.jpeg\n",
            "/content/data_used/NORMAL/NORMAL2-IM-0340-0001.jpeg\n",
            "/content/data_used/NORMAL/NORMAL2-IM-1104-0001.jpeg\n",
            "/content/data_used/NORMAL/NORMAL2-IM-1056-0001.jpeg\n",
            "/content/data_used/NORMAL/NORMAL2-IM-0439-0001.jpeg\n",
            "/content/data_used/NORMAL/NORMAL2-IM-0571-0001.jpeg\n",
            "/content/data_used/NORMAL/NORMAL2-IM-0019-0001.jpeg\n",
            "/content/data_used/NORMAL/NORMAL2-IM-0536-0001.jpeg\n",
            "/content/data_used/NORMAL/NORMAL2-IM-1376-0001.jpeg\n",
            "/content/data_used/NORMAL/IM-0291-0001.jpeg\n",
            "/content/data_used/NORMAL/IM-0761-0001.jpeg\n",
            "/content/data_used/NORMAL/NORMAL2-IM-0550-0001.jpeg\n",
            "/content/data_used/NORMAL/IM-0403-0001.jpeg\n",
            "/content/data_used/NORMAL/NORMAL2-IM-1125-0001.jpeg\n",
            "/content/data_used/NORMAL/NORMAL2-IM-0028-0001.jpeg\n",
            "/content/data_used/NORMAL/IM-0428-0001.jpeg\n",
            "/content/data_used/NORMAL/NORMAL2-IM-0401-0001.jpeg\n",
            "/content/data_used/NORMAL/NORMAL2-IM-0419-0001.jpeg\n",
            "/content/data_used/NORMAL/NORMAL2-IM-1094-0001-0001.jpeg\n",
            "/content/data_used/NORMAL/IM-0434-0001.jpeg\n",
            "/content/data_used/NORMAL/NORMAL2-IM-0449-0001.jpeg\n",
            "/content/data_used/NORMAL/IM-0075-0001.jpeg\n",
            "/content/data_used/NORMAL/NORMAL2-IM-1203-0001.jpeg\n",
            "/content/data_used/NORMAL/NORMAL2-IM-0460-0001.jpeg\n",
            "/content/data_used/NORMAL/NORMAL2-IM-1113-0001.jpeg\n",
            "/content/data_used/NORMAL/IM-0644-0001-0002.jpeg\n",
            "/content/data_used/NORMAL/NORMAL2-IM-0219-0001.jpeg\n",
            "/content/data_used/NORMAL/NORMAL2-IM-0665-0001.jpeg\n",
            "/content/data_used/NORMAL/NORMAL2-IM-0906-0001.jpeg\n",
            "/content/data_used/NORMAL/NORMAL2-IM-0384-0001.jpeg\n",
            "/content/data_used/NORMAL/NORMAL2-IM-0875-0001.jpeg\n",
            "/content/data_used/NORMAL/NORMAL2-IM-0395-0001.jpeg\n",
            "/content/data_used/NORMAL/NORMAL2-IM-1234-0001.jpeg\n",
            "/content/data_used/NORMAL/NORMAL2-IM-0623-0001.jpeg\n",
            "/content/data_used/NORMAL/NORMAL2-IM-0454-0001.jpeg\n",
            "/content/data_used/NORMAL/NORMAL2-IM-0983-0001-0002.jpeg\n",
            "/content/data_used/NORMAL/IM-0424-0001.jpeg\n",
            "/content/data_used/NORMAL/IM-0724-0001.jpeg\n",
            "/content/data_used/NORMAL/IM-0692-0001.jpeg\n",
            "/content/data_used/NORMAL/IM-0566-0001.jpeg\n",
            "/content/data_used/NORMAL/NORMAL2-IM-0645-0001.jpeg\n",
            "/content/data_used/NORMAL/NORMAL2-IM-0865-0001.jpeg\n",
            "/content/data_used/NORMAL/IM-0459-0001.jpeg\n",
            "/content/data_used/NORMAL/IM-0641-0001.jpeg\n",
            "/content/data_used/NORMAL/NORMAL2-IM-0648-0001.jpeg\n",
            "/content/data_used/NORMAL/IM-0643-0001.jpeg\n",
            "/content/data_used/NORMAL/IM-0421-0001.jpeg\n",
            "/content/data_used/NORMAL/NORMAL2-IM-1041-0001.jpeg\n",
            "/content/data_used/NORMAL/IM-0109-0001.jpeg\n",
            "/content/data_used/NORMAL/IM-0300-0001.jpeg\n",
            "/content/data_used/NORMAL/IM-0539-0001-0002.jpeg\n",
            "/content/data_used/NORMAL/NORMAL2-IM-0416-0001-0001.jpeg\n",
            "/content/data_used/NORMAL/NORMAL2-IM-0233-0001.jpeg\n",
            "/content/data_used/NORMAL/NORMAL2-IM-1111-0001.jpeg\n",
            "/content/data_used/NORMAL/IM-0035-0001.jpeg\n",
            "/content/data_used/NORMAL/NORMAL2-IM-0135-0001.jpeg\n",
            "/content/data_used/NORMAL/IM-0238-0001.jpeg\n",
            "/content/data_used/NORMAL/NORMAL2-IM-1365-0001.jpeg\n",
            "/content/data_used/NORMAL/IM-0307-0001.jpeg\n",
            "/content/data_used/NORMAL/IM-0083-0001.jpeg\n",
            "/content/data_used/NORMAL/NORMAL2-IM-0425-0001.jpeg\n",
            "/content/data_used/NORMAL/NORMAL2-IM-0950-0001.jpeg\n",
            "/content/data_used/NORMAL/NORMAL2-IM-1153-0001.jpeg\n",
            "/content/data_used/NORMAL/IM-0569-0001.jpeg\n",
            "/content/data_used/NORMAL/NORMAL2-IM-0378-0001.jpeg\n",
            "/content/data_used/NORMAL/IM-0712-0001.jpeg\n",
            "/content/data_used/NORMAL/NORMAL2-IM-0637-0001.jpeg\n",
            "/content/data_used/NORMAL/NORMAL2-IM-0894-0001.jpeg\n",
            "/content/data_used/NORMAL/NORMAL2-IM-0196-0001.jpeg\n",
            "/content/data_used/NORMAL/IM-0472-0001.jpeg\n",
            "/content/data_used/NORMAL/IM-0438-0001.jpeg\n",
            "/content/data_used/NORMAL/IM-0517-0001-0001.jpeg\n",
            "/content/data_used/NORMAL/IM-0500-0001.jpeg\n",
            "/content/data_used/NORMAL/NORMAL2-IM-1102-0001-0001.jpeg\n",
            "/content/data_used/NORMAL/NORMAL2-IM-1189-0001.jpeg\n",
            "/content/data_used/NORMAL/IM-0292-0001.jpeg\n",
            "/content/data_used/NORMAL/IM-0531-0001-0001.jpeg\n",
            "/content/data_used/NORMAL/NORMAL2-IM-0345-0001.jpeg\n",
            "/content/data_used/NORMAL/NORMAL2-IM-0433-0001.jpeg\n",
            "/content/data_used/NORMAL/NORMAL2-IM-0535-0001.jpeg\n",
            "/content/data_used/NORMAL/IM-0065-0001.jpeg\n",
            "/content/data_used/NORMAL/NORMAL2-IM-0481-0001.jpeg\n",
            "/content/data_used/NORMAL/NORMAL2-IM-0283-0001.jpeg\n",
            "/content/data_used/NORMAL/NORMAL2-IM-0271-0001.jpeg\n",
            "/content/data_used/NORMAL/IM-0571-0001.jpeg\n",
            "/content/data_used/NORMAL/NORMAL2-IM-0437-0001.jpeg\n",
            "/content/data_used/NORMAL/IM-0575-0001.jpeg\n",
            "/content/data_used/NORMAL/NORMAL2-IM-1118-0001.jpeg\n",
            "/content/data_used/NORMAL/NORMAL2-IM-0905-0001.jpeg\n",
            "/content/data_used/NORMAL/NORMAL2-IM-0775-0001.jpeg\n",
            "/content/data_used/NORMAL/NORMAL2-IM-0391-0001.jpeg\n",
            "/content/data_used/NORMAL/NORMAL2-IM-0328-0001.jpeg\n",
            "/content/data_used/NORMAL/NORMAL2-IM-0030-0001.jpeg\n",
            "/content/data_used/NORMAL/NORMAL2-IM-1147-0001.jpeg\n",
            "/content/data_used/NORMAL/IM-0178-0001.jpeg\n",
            "/content/data_used/NORMAL/NORMAL2-IM-0531-0001.jpeg\n",
            "/content/data_used/NORMAL/IM-0049-0001.jpeg\n",
            "/content/data_used/NORMAL/IM-0158-0001.jpeg\n",
            "/content/data_used/NORMAL/IM-0482-0001.jpeg\n",
            "/content/data_used/NORMAL/NORMAL2-IM-1190-0001.jpeg\n",
            "/content/data_used/NORMAL/NORMAL2-IM-0622-0001.jpeg\n",
            "/content/data_used/NORMAL/NORMAL2-IM-0417-0001.jpeg\n",
            "/content/data_used/NORMAL/NORMAL2-IM-0700-0001.jpeg\n",
            "/content/data_used/NORMAL/NORMAL2-IM-0870-0001.jpeg\n",
            "/content/data_used/NORMAL/NORMAL2-IM-0171-0001.jpeg\n",
            "/content/data_used/NORMAL/IM-0525-0001.jpeg\n",
            "/content/data_used/NORMAL/NORMAL2-IM-1154-0001.jpeg\n",
            "/content/data_used/NORMAL/NORMAL2-IM-0867-0001.jpeg\n",
            "/content/data_used/NORMAL/IM-0604-0001.jpeg\n",
            "/content/data_used/NORMAL/NORMAL2-IM-0503-0001.jpeg\n",
            "/content/data_used/NORMAL/IM-0381-0001.jpeg\n",
            "/content/data_used/NORMAL/NORMAL2-IM-1348-0001.jpeg\n",
            "/content/data_used/NORMAL/NORMAL2-IM-0111-0001.jpeg\n",
            "/content/data_used/NORMAL/IM-0505-0001-0002.jpeg\n",
            "/content/data_used/NORMAL/IM-0584-0001.jpeg\n",
            "/content/data_used/NORMAL/IM-0513-0001.jpeg\n",
            "/content/data_used/NORMAL/NORMAL2-IM-0907-0001.jpeg\n",
            "/content/data_used/NORMAL/NORMAL2-IM-0238-0001.jpeg\n",
            "/content/data_used/NORMAL/NORMAL2-IM-0684-0001-0001.jpeg\n",
            "/content/data_used/NORMAL/IM-0729-0001.jpeg\n",
            "/content/data_used/NORMAL/IM-0050-0001.jpeg\n",
            "/content/data_used/NORMAL/NORMAL2-IM-0686-0001.jpeg\n",
            "/content/data_used/NORMAL/NORMAL2-IM-1270-0001.jpeg\n",
            "/content/data_used/NORMAL/IM-0162-0001.jpeg\n",
            "/content/data_used/NORMAL/NORMAL2-IM-0930-0001.jpeg\n",
            "/content/data_used/NORMAL/NORMAL2-IM-0319-0001.jpeg\n",
            "/content/data_used/NORMAL/NORMAL2-IM-0653-0001.jpeg\n",
            "/content/data_used/NORMAL/NORMAL2-IM-1275-0001.jpeg\n",
            "/content/data_used/NORMAL/IM-0029-0001.jpeg\n",
            "/content/data_used/NORMAL/NORMAL2-IM-0814-0001.jpeg\n",
            "/content/data_used/NORMAL/IM-0006-0001.jpeg\n",
            "/content/data_used/NORMAL/IM-0301-0001.jpeg\n",
            "/content/data_used/NORMAL/IM-0613-0001.jpeg\n",
            "/content/data_used/NORMAL/NORMAL2-IM-0948-0001.jpeg\n",
            "/content/data_used/NORMAL/IM-0628-0001.jpeg\n",
            "/content/data_used/NORMAL/NORMAL2-IM-0680-0001.jpeg\n",
            "/content/data_used/NORMAL/IM-0529-0001.jpeg\n",
            "/content/data_used/NORMAL/IM-0433-0001.jpeg\n",
            "/content/data_used/NORMAL/NORMAL2-IM-0634-0001.jpeg\n",
            "/content/data_used/NORMAL/IM-0110-0001.jpeg\n",
            "/content/data_used/NORMAL/NORMAL2-IM-0642-0001.jpeg\n",
            "/content/data_used/NORMAL/NORMAL2-IM-0910-0001.jpeg\n",
            "/content/data_used/NORMAL/NORMAL2-IM-1351-0001.jpeg\n",
            "/content/data_used/NORMAL/NORMAL2-IM-0589-0001.jpeg\n",
            "/content/data_used/NORMAL/IM-0657-0001.jpeg\n",
            "/content/data_used/NORMAL/NORMAL2-IM-1335-0001.jpeg\n",
            "/content/data_used/NORMAL/NORMAL2-IM-0305-0001.jpeg\n",
            "/content/data_used/NORMAL/NORMAL2-IM-0259-0001.jpeg\n",
            "/content/data_used/NORMAL/NORMAL2-IM-0603-0001.jpeg\n",
            "/content/data_used/NORMAL/IM-0554-0001.jpeg\n",
            "/content/data_used/NORMAL/NORMAL2-IM-0806-0001.jpeg\n",
            "/content/data_used/NORMAL/NORMAL2-IM-0577-0001.jpeg\n",
            "/content/data_used/NORMAL/NORMAL2-IM-0132-0001.jpeg\n",
            "/content/data_used/NORMAL/IM-0637-0001.jpeg\n",
            "/content/data_used/NORMAL/IM-0379-0001.jpeg\n",
            "/content/data_used/NORMAL/NORMAL2-IM-1037-0001.jpeg\n",
            "/content/data_used/NORMAL/NORMAL2-IM-1319-0001.jpeg\n",
            "/content/data_used/NORMAL/IM-0570-0001.jpeg\n",
            "/content/data_used/NORMAL/NORMAL2-IM-1220-0001.jpeg\n",
            "/content/data_used/NORMAL/NORMAL2-IM-1170-0001.jpeg\n",
            "/content/data_used/NORMAL/IM-0356-0001.jpeg\n",
            "/content/data_used/NORMAL/NORMAL2-IM-1017-0001.jpeg\n",
            "/content/data_used/NORMAL/IM-0493-0001.jpeg\n",
            "/content/data_used/NORMAL/IM-0079-0001.jpeg\n",
            "/content/data_used/NORMAL/IM-0563-0001.jpeg\n",
            "/content/data_used/NORMAL/NORMAL2-IM-1334-0001.jpeg\n",
            "/content/data_used/NORMAL/IM-0698-0001.jpeg\n",
            "/content/data_used/NORMAL/IM-0364-0001.jpeg\n",
            "/content/data_used/NORMAL/NORMAL2-IM-0404-0001.jpeg\n",
            "/content/data_used/NORMAL/NORMAL2-IM-1100-0001.jpeg\n",
            "/content/data_used/NORMAL/IM-0314-0001.jpeg\n",
            "/content/data_used/NORMAL/IM-0475-0001.jpeg\n",
            "/content/data_used/NORMAL/NORMAL2-IM-0918-0001.jpeg\n",
            "/content/data_used/NORMAL/IM-0519-0001-0001.jpeg\n",
            "/content/data_used/NORMAL/NORMAL2-IM-0326-0001.jpeg\n",
            "/content/data_used/NORMAL/NORMAL2-IM-1288-0001.jpeg\n",
            "/content/data_used/NORMAL/NORMAL2-IM-1442-0001.jpeg\n",
            "/content/data_used/NORMAL/NORMAL2-IM-0952-0001.jpeg\n",
            "/content/data_used/NORMAL/NORMAL2-IM-0566-0001.jpeg\n",
            "/content/data_used/NORMAL/NORMAL2-IM-1295-0001.jpeg\n",
            "/content/data_used/NORMAL/NORMAL2-IM-0427-0001.jpeg\n",
            "/content/data_used/NORMAL/NORMAL2-IM-0995-0001.jpeg\n",
            "/content/data_used/NORMAL/IM-0485-0001.jpeg\n",
            "/content/data_used/NORMAL/IM-0539-0001.jpeg\n",
            "/content/data_used/NORMAL/NORMAL2-IM-0513-0001.jpeg\n",
            "/content/data_used/NORMAL/NORMAL2-IM-0465-0001.jpeg\n",
            "/content/data_used/NORMAL/NORMAL2-IM-1346-0001.jpeg\n",
            "/content/data_used/NORMAL/NORMAL2-IM-0583-0001.jpeg\n",
            "/content/data_used/NORMAL/NORMAL2-IM-0217-0001.jpeg\n",
            "/content/data_used/NORMAL/NORMAL2-IM-0826-0001.jpeg\n",
            "/content/data_used/NORMAL/NORMAL2-IM-0497-0001.jpeg\n",
            "/content/data_used/NORMAL/NORMAL2-IM-1045-0001.jpeg\n",
            "/content/data_used/NORMAL/IM-0386-0001.jpeg\n",
            "/content/data_used/NORMAL/IM-0347-0001.jpeg\n",
            "/content/data_used/NORMAL/IM-0582-0001.jpeg\n",
            "/content/data_used/NORMAL/NORMAL2-IM-1047-0001.jpeg\n",
            "/content/data_used/NORMAL/NORMAL2-IM-0374-0001-0001.jpeg\n",
            "/content/data_used/NORMAL/NORMAL2-IM-0351-0001.jpeg\n",
            "/content/data_used/NORMAL/NORMAL2-IM-0496-0001.jpeg\n",
            "/content/data_used/NORMAL/IM-0757-0001.jpeg\n",
            "/content/data_used/NORMAL/IM-0099-0001.jpeg\n",
            "/content/data_used/NORMAL/IM-0250-0001.jpeg\n",
            "/content/data_used/NORMAL/IM-0103-0001.jpeg\n",
            "/content/data_used/NORMAL/IM-0682-0001.jpeg\n",
            "/content/data_used/NORMAL/NORMAL2-IM-1341-0001.jpeg\n",
            "/content/data_used/NORMAL/IM-0534-0001.jpeg\n",
            "/content/data_used/NORMAL/IM-0456-0001.jpeg\n",
            "/content/data_used/NORMAL/NORMAL2-IM-0540-0001.jpeg\n",
            "/content/data_used/NORMAL/NORMAL2-IM-0329-0001.jpeg\n",
            "/content/data_used/NORMAL/IM-0069-0001.jpeg\n",
            "/content/data_used/NORMAL/IM-0622-0001.jpeg\n",
            "/content/data_used/NORMAL/NORMAL2-IM-0945-0001.jpeg\n",
            "/content/data_used/NORMAL/IM-0261-0001.jpeg\n",
            "/content/data_used/NORMAL/NORMAL2-IM-1318-0001.jpeg\n",
            "/content/data_used/NORMAL/NORMAL2-IM-0029-0001.jpeg\n",
            "/content/data_used/NORMAL/IM-0435-0001.jpeg\n",
            "/content/data_used/NORMAL/IM-0299-0001.jpeg\n",
            "/content/data_used/NORMAL/NORMAL2-IM-1154-0001-0001.jpeg\n",
            "/content/data_used/NORMAL/IM-0651-0001.jpeg\n",
            "/content/data_used/NORMAL/NORMAL2-IM-0988-0001.jpeg\n",
            "/content/data_used/NORMAL/NORMAL2-IM-0880-0001.jpeg\n",
            "/content/data_used/NORMAL/NORMAL2-IM-0141-0001.jpeg\n",
            "/content/data_used/NORMAL/IM-0542-0001.jpeg\n",
            "/content/data_used/NORMAL/NORMAL2-IM-0995-0001-0001.jpeg\n",
            "/content/data_used/NORMAL/NORMAL2-IM-0407-0001.jpeg\n",
            "/content/data_used/NORMAL/NORMAL2-IM-0719-0001.jpeg\n",
            "/content/data_used/NORMAL/NORMAL2-IM-1090-0001.jpeg\n",
            "/content/data_used/NORMAL/NORMAL2-IM-0357-0001.jpeg\n",
            "/content/data_used/NORMAL/IM-0516-0001.jpeg\n",
            "/content/data_used/NORMAL/NORMAL2-IM-0207-0001.jpeg\n",
            "/content/data_used/NORMAL/IM-0081-0001.jpeg\n",
            "/content/data_used/NORMAL/NORMAL2-IM-0374-0001-0002.jpeg\n",
            "/content/data_used/NORMAL/NORMAL2-IM-0273-0001.jpeg\n",
            "/content/data_used/NORMAL/IM-0568-0001.jpeg\n",
            "/content/data_used/NORMAL/NORMAL2-IM-1406-0001.jpeg\n",
            "/content/data_used/NORMAL/IM-0439-0001-0002.jpeg\n",
            "/content/data_used/NORMAL/NORMAL2-IM-1371-0001.jpeg\n",
            "/content/data_used/NORMAL/NORMAL2-IM-0725-0001.jpeg\n",
            "/content/data_used/NORMAL/NORMAL2-IM-0983-0001-0001.jpeg\n",
            "/content/data_used/NORMAL/IM-0486-0001.jpeg\n",
            "/content/data_used/NORMAL/IM-0015-0001.jpeg\n",
            "/content/data_used/NORMAL/NORMAL2-IM-1130-0001.jpeg\n",
            "/content/data_used/NORMAL/NORMAL2-IM-0659-0001.jpeg\n",
            "/content/data_used/NORMAL/IM-0620-0001.jpeg\n",
            "/content/data_used/NORMAL/NORMAL2-IM-0350-0001.jpeg\n",
            "/content/data_used/NORMAL/NORMAL2-IM-0418-0001.jpeg\n",
            "/content/data_used/NORMAL/NORMAL2-IM-0609-0001.jpeg\n",
            "/content/data_used/NORMAL/IM-0193-0001.jpeg\n",
            "/content/data_used/NORMAL/NORMAL2-IM-0256-0001.jpeg\n",
            "/content/data_used/NORMAL/NORMAL2-IM-0206-0001.jpeg\n",
            "/content/data_used/NORMAL/IM-0494-0001.jpeg\n",
            "/content/data_used/NORMAL/IM-0732-0001.jpeg\n",
            "/content/data_used/NORMAL/IM-0270-0001.jpeg\n",
            "/content/data_used/NORMAL/NORMAL2-IM-0285-0001.jpeg\n",
            "/content/data_used/NORMAL/NORMAL2-IM-1332-0001.jpeg\n",
            "/content/data_used/NORMAL/IM-0614-0001.jpeg\n",
            "/content/data_used/NORMAL/NORMAL2-IM-0276-0001.jpeg\n",
            "/content/data_used/NORMAL/IM-0439-0001-0001.jpeg\n",
            "/content/data_used/NORMAL/IM-0234-0001.jpeg\n",
            "/content/data_used/NORMAL/NORMAL2-IM-0897-0001.jpeg\n",
            "/content/data_used/NORMAL/IM-0308-0001.jpeg\n",
            "/content/data_used/NORMAL/NORMAL2-IM-0771-0001.jpeg\n",
            "/content/data_used/NORMAL/NORMAL2-IM-0579-0001.jpeg\n",
            "/content/data_used/NORMAL/NORMAL2-IM-1345-0001-0001.jpeg\n",
            "/content/data_used/NORMAL/IM-0283-0001.jpeg\n",
            "/content/data_used/NORMAL/NORMAL2-IM-1171-0001.jpeg\n",
            "/content/data_used/NORMAL/NORMAL2-IM-1105-0001.jpeg\n",
            "/content/data_used/NORMAL/NORMAL2-IM-1437-0001.jpeg\n",
            "/content/data_used/NORMAL/NORMAL2-IM-0927-0001.jpeg\n",
            "/content/data_used/NORMAL/IM-0527-0001.jpeg\n",
            "/content/data_used/NORMAL/IM-0547-0001.jpeg\n",
            "/content/data_used/NORMAL/NORMAL2-IM-1164-0001.jpeg\n",
            "/content/data_used/NORMAL/IM-0440-0001.jpeg\n",
            "/content/data_used/NORMAL/NORMAL2-IM-0690-0001.jpeg\n",
            "/content/data_used/NORMAL/IM-0649-0001.jpeg\n",
            "/content/data_used/NORMAL/NORMAL2-IM-0621-0001.jpeg\n",
            "/content/data_used/NORMAL/NORMAL2-IM-1167-0001.jpeg\n",
            "/content/data_used/NORMAL/IM-0137-0001.jpeg\n",
            "/content/data_used/NORMAL/IM-0750-0001.jpeg\n",
            "/content/data_used/NORMAL/NORMAL2-IM-0441-0001.jpeg\n",
            "/content/data_used/NORMAL/NORMAL2-IM-0727-0001.jpeg\n",
            "/content/data_used/NORMAL/NORMAL2-IM-1327-0001.jpeg\n",
            "/content/data_used/NORMAL/NORMAL2-IM-1314-0001.jpeg\n",
            "/content/data_used/NORMAL/NORMAL2-IM-0567-0001.jpeg\n",
            "/content/data_used/NORMAL/IM-0655-0001.jpeg\n",
            "/content/data_used/NORMAL/NORMAL2-IM-0359-0001.jpeg\n",
            "/content/data_used/NORMAL/NORMAL2-IM-1272-0001.jpeg\n",
            "/content/data_used/NORMAL/NORMAL2-IM-1250-0001.jpeg\n",
            "/content/data_used/NORMAL/IM-0265-0001.jpeg\n",
            "/content/data_used/NORMAL/NORMAL2-IM-1124-0001.jpeg\n",
            "/content/data_used/NORMAL/NORMAL2-IM-0403-0001.jpeg\n",
            "/content/data_used/NORMAL/NORMAL2-IM-1400-0001.jpeg\n",
            "/content/data_used/NORMAL/NORMAL2-IM-0462-0001.jpeg\n",
            "/content/data_used/NORMAL/NORMAL2-IM-1064-0001.jpeg\n",
            "/content/data_used/NORMAL/IM-0393-0001.jpeg\n",
            "/content/data_used/NORMAL/NORMAL2-IM-0851-0001.jpeg\n",
            "/content/data_used/NORMAL/IM-0491-0001-0001.jpeg\n",
            "/content/data_used/NORMAL/NORMAL2-IM-1280-0001.jpeg\n",
            "/content/data_used/NORMAL/IM-0087-0001.jpeg\n",
            "/content/data_used/NORMAL/NORMAL2-IM-0408-0001.jpeg\n",
            "/content/data_used/NORMAL/IM-0199-0001.jpeg\n",
            "/content/data_used/NORMAL/NORMAL2-IM-1161-0001.jpeg\n",
            "/content/data_used/NORMAL/NORMAL2-IM-0667-0001.jpeg\n",
            "/content/data_used/NORMAL/NORMAL2-IM-0464-0001.jpeg\n",
            "/content/data_used/NORMAL/NORMAL2-IM-1430-0001.jpeg\n",
            "/content/data_used/NORMAL/NORMAL2-IM-1243-0001.jpeg\n",
            "/content/data_used/NORMAL/NORMAL2-IM-1014-0001.jpeg\n",
            "/content/data_used/NORMAL/IM-0457-0001.jpeg\n",
            "/content/data_used/NORMAL/IM-0449-0001.jpeg\n",
            "/content/data_used/NORMAL/IM-0089-0001.jpeg\n",
            "/content/data_used/NORMAL/NORMAL2-IM-0249-0001.jpeg\n",
            "/content/data_used/NORMAL/NORMAL2-IM-0829-0001.jpeg\n",
            "/content/data_used/NORMAL/IM-0392-0001.jpeg\n",
            "/content/data_used/NORMAL/NORMAL2-IM-0428-0001.jpeg\n",
            "/content/data_used/NORMAL/IM-0043-0001.jpeg\n",
            "/content/data_used/NORMAL/NORMAL2-IM-0523-0001.jpeg\n",
            "/content/data_used/NORMAL/IM-0599-0001.jpeg\n",
            "/content/data_used/NORMAL/NORMAL2-IM-1096-0001.jpeg\n",
            "/content/data_used/NORMAL/NORMAL2-IM-0488-0001.jpeg\n",
            "/content/data_used/NORMAL/NORMAL2-IM-0551-0001.jpeg\n",
            "/content/data_used/NORMAL/NORMAL2-IM-0657-0001.jpeg\n",
            "/content/data_used/NORMAL/NORMAL2-IM-0917-0001.jpeg\n",
            "/content/data_used/NORMAL/NORMAL2-IM-0112-0001.jpeg\n",
            "/content/data_used/NORMAL/IM-0460-0001.jpeg\n",
            "/content/data_used/NORMAL/NORMAL2-IM-0292-0001.jpeg\n",
            "/content/data_used/NORMAL/IM-0480-0001.jpeg\n",
            "/content/data_used/NORMAL/NORMAL2-IM-1046-0001.jpeg\n",
            "/content/data_used/NORMAL/IM-0593-0001.jpeg\n",
            "/content/data_used/NORMAL/IM-0389-0001.jpeg\n",
            "/content/data_used/NORMAL/NORMAL2-IM-1053-0001.jpeg\n",
            "/content/data_used/NORMAL/IM-0101-0001.jpeg\n",
            "/content/data_used/NORMAL/IM-0679-0001.jpeg\n",
            "/content/data_used/NORMAL/IM-0455-0001.jpeg\n",
            "/content/data_used/NORMAL/NORMAL2-IM-0458-0001.jpeg\n",
            "/content/data_used/NORMAL/NORMAL2-IM-0839-0001.jpeg\n",
            "/content/data_used/NORMAL/IM-0294-0001.jpeg\n",
            "/content/data_used/NORMAL/IM-0272-0001.jpeg\n",
            "/content/data_used/NORMAL/IM-0022-0001.jpeg\n",
            "/content/data_used/NORMAL/IM-0532-0001.jpeg\n",
            "/content/data_used/NORMAL/IM-0481-0001.jpeg\n",
            "/content/data_used/NORMAL/NORMAL2-IM-0941-0001.jpeg\n",
            "/content/data_used/NORMAL/NORMAL2-IM-1181-0001.jpeg\n",
            "/content/data_used/NORMAL/NORMAL2-IM-0555-0001-0002.jpeg\n",
            "/content/data_used/NORMAL/IM-0017-0001.jpeg\n",
            "/content/data_used/NORMAL/NORMAL2-IM-1266-0001-0001.jpeg\n",
            "/content/data_used/NORMAL/NORMAL2-IM-1258-0001.jpeg\n",
            "/content/data_used/NORMAL/IM-0041-0001.jpeg\n",
            "/content/data_used/NORMAL/NORMAL2-IM-0832-0001-0001.jpeg\n",
            "/content/data_used/NORMAL/NORMAL2-IM-0960-0001.jpeg\n",
            "/content/data_used/NORMAL/IM-0473-0001.jpeg\n",
            "/content/data_used/NORMAL/NORMAL2-IM-1180-0001.jpeg\n",
            "/content/data_used/NORMAL/NORMAL2-IM-0576-0001.jpeg\n",
            "/content/data_used/NORMAL/IM-0551-0001-0001.jpeg\n",
            "/content/data_used/NORMAL/NORMAL2-IM-0777-0001.jpeg\n",
            "/content/data_used/NORMAL/NORMAL2-IM-1088-0001.jpeg\n",
            "/content/data_used/NORMAL/IM-0735-0001.jpeg\n",
            "/content/data_used/NORMAL/NORMAL2-IM-0325-0001.jpeg\n",
            "/content/data_used/NORMAL/NORMAL2-IM-0587-0001-0001.jpeg\n",
            "/content/data_used/NORMAL/IM-0240-0001.jpeg\n",
            "/content/data_used/NORMAL/NORMAL2-IM-1225-0001.jpeg\n",
            "/content/data_used/NORMAL/IM-0591-0001.jpeg\n",
            "/content/data_used/NORMAL/NORMAL2-IM-1022-0001.jpeg\n",
            "/content/data_used/NORMAL/NORMAL2-IM-1020-0001-0002.jpeg\n",
            "/content/data_used/NORMAL/IM-0151-0001.jpeg\n",
            "/content/data_used/NORMAL/IM-0447-0001.jpeg\n",
            "/content/data_used/NORMAL/NORMAL2-IM-1112-0001.jpeg\n",
            "/content/data_used/NORMAL/IM-0086-0001.jpeg\n",
            "/content/data_used/NORMAL/NORMAL2-IM-0696-0001.jpeg\n",
            "/content/data_used/NORMAL/NORMAL2-IM-1240-0001.jpeg\n",
            "/content/data_used/NORMAL/NORMAL2-IM-0304-0001.jpeg\n",
            "/content/data_used/NORMAL/NORMAL2-IM-0647-0001.jpeg\n",
            "/content/data_used/NORMAL/NORMAL2-IM-0818-0001-0002.jpeg\n",
            "/content/data_used/NORMAL/NORMAL2-IM-0896-0001.jpeg\n",
            "/content/data_used/NORMAL/IM-0046-0001.jpeg\n",
            "/content/data_used/NORMAL/IM-0559-0001.jpeg\n",
            "/content/data_used/NORMAL/NORMAL2-IM-1102-0001.jpeg\n",
            "/content/data_used/NORMAL/IM-0590-0001.jpeg\n",
            "/content/data_used/NORMAL/NORMAL2-IM-0980-0001.jpeg\n",
            "/content/data_used/NORMAL/NORMAL2-IM-0277-0001.jpeg\n",
            "/content/data_used/NORMAL/IM-0280-0001.jpeg\n",
            "/content/data_used/NORMAL/IM-0505-0001.jpeg\n",
            "/content/data_used/NORMAL/NORMAL2-IM-1419-0001.jpeg\n",
            "/content/data_used/NORMAL/IM-0509-0001-0001.jpeg\n",
            "/content/data_used/NORMAL/IM-0695-0001.jpeg\n",
            "/content/data_used/NORMAL/IM-0268-0001.jpeg\n",
            "/content/data_used/NORMAL/IM-0608-0001-0001.jpeg\n",
            "/content/data_used/NORMAL/NORMAL2-IM-0821-0001.jpeg\n",
            "/content/data_used/NORMAL/IM-0608-0001-0002.jpeg\n",
            "/content/data_used/NORMAL/IM-0665-0001.jpeg\n",
            "/content/data_used/NORMAL/NORMAL2-IM-0333-0001.jpeg\n",
            "/content/data_used/NORMAL/IM-0329-0001.jpeg\n",
            "/content/data_used/NORMAL/IM-0533-0001.jpeg\n",
            "/content/data_used/NORMAL/NORMAL2-IM-0241-0001.jpeg\n",
            "/content/data_used/NORMAL/NORMAL2-IM-1096-0001-0003.jpeg\n",
            "/content/data_used/NORMAL/NORMAL2-IM-0012-0001.jpeg\n",
            "/content/data_used/NORMAL/IM-0737-0001.jpeg\n",
            "/content/data_used/NORMAL/NORMAL2-IM-0692-0001.jpeg\n",
            "/content/data_used/NORMAL/IM-0600-0001.jpeg\n",
            "/content/data_used/NORMAL/IM-0437-0001.jpeg\n",
            "/content/data_used/NORMAL/IM-0618-0001-0001.jpeg\n",
            "/content/data_used/NORMAL/IM-0517-0001.jpeg\n",
            "/content/data_used/NORMAL/IM-0465-0001.jpeg\n",
            "/content/data_used/NORMAL/NORMAL2-IM-0694-0001.jpeg\n",
            "/content/data_used/NORMAL/NORMAL2-IM-0552-0001.jpeg\n",
            "/content/data_used/NORMAL/IM-0549-0001-0002.jpeg\n",
            "/content/data_used/NORMAL/NORMAL2-IM-0753-0001.jpeg\n",
            "/content/data_used/NORMAL/NORMAL2-IM-0455-0001.jpeg\n",
            "/content/data_used/NORMAL/IM-0721-0001.jpeg\n",
            "/content/data_used/NORMAL/IM-0277-0001.jpeg\n",
            "/content/data_used/NORMAL/IM-0491-0001-0002.jpeg\n",
            "/content/data_used/NORMAL/NORMAL2-IM-1188-0001.jpeg\n",
            "/content/data_used/NORMAL/NORMAL2-IM-0671-0001.jpeg\n",
            "/content/data_used/NORMAL/NORMAL2-IM-1174-0001.jpeg\n",
            "/content/data_used/NORMAL/NORMAL2-IM-0858-0001.jpeg\n",
            "/content/data_used/NORMAL/NORMAL2-IM-0976-0001.jpeg\n",
            "/content/data_used/NORMAL/IM-0538-0001.jpeg\n",
            "/content/data_used/NORMAL/IM-0286-0001.jpeg\n",
            "/content/data_used/NORMAL/NORMAL2-IM-0601-0001.jpeg\n",
            "/content/data_used/NORMAL/NORMAL2-IM-0649-0001.jpeg\n",
            "/content/data_used/NORMAL/NORMAL2-IM-1020-0001-0001.jpeg\n",
            "/content/data_used/NORMAL/NORMAL2-IM-0392-0001.jpeg\n",
            "/content/data_used/NORMAL/IM-0489-0001.jpeg\n",
            "/content/data_used/NORMAL/NORMAL2-IM-0834-0001.jpeg\n",
            "/content/data_used/NORMAL/NORMAL2-IM-0851-0001-0001.jpeg\n",
            "/content/data_used/NORMAL/NORMAL2-IM-1347-0001.jpeg\n",
            "/content/data_used/NORMAL/NORMAL2-IM-0661-0001.jpeg\n",
            "/content/data_used/NORMAL/IM-0282-0001.jpeg\n",
            "/content/data_used/NORMAL/NORMAL2-IM-1273-0001.jpeg\n",
            "/content/data_used/NORMAL/IM-0411-0001.jpeg\n",
            "/content/data_used/NORMAL/NORMAL2-IM-1305-0001.jpeg\n",
            "/content/data_used/NORMAL/IM-0215-0001.jpeg\n",
            "/content/data_used/NORMAL/NORMAL2-IM-0282-0001.jpeg\n",
            "/content/data_used/NORMAL/IM-0467-0001-0001.jpeg\n",
            "/content/data_used/NORMAL/NORMAL2-IM-1260-0001.jpeg\n",
            "/content/data_used/NORMAL/IM-0005-0001.jpeg\n",
            "/content/data_used/NORMAL/NORMAL2-IM-0139-0001.jpeg\n",
            "/content/data_used/NORMAL/IM-0177-0001.jpeg\n",
            "/content/data_used/NORMAL/NORMAL2-IM-0390-0001.jpeg\n",
            "/content/data_used/NORMAL/NORMAL2-IM-0992-0001.jpeg\n",
            "/content/data_used/NORMAL/IM-0207-0001.jpeg\n",
            "/content/data_used/NORMAL/IM-0609-0001.jpeg\n",
            "/content/data_used/NORMAL/NORMAL2-IM-0736-0001.jpeg\n",
            "/content/data_used/NORMAL/IM-0660-0001-0001.jpeg\n",
            "/content/data_used/NORMAL/IM-0149-0001.jpeg\n",
            "/content/data_used/NORMAL/NORMAL2-IM-1294-0001-0002.jpeg\n",
            "/content/data_used/NORMAL/NORMAL2-IM-0397-0001.jpeg\n",
            "/content/data_used/NORMAL/IM-0441-0001.jpeg\n",
            "/content/data_used/NORMAL/NORMAL2-IM-0246-0001.jpeg\n",
            "/content/data_used/NORMAL/NORMAL2-IM-0899-0001.jpeg\n",
            "/content/data_used/NORMAL/IM-0668-0001.jpeg\n",
            "/content/data_used/NORMAL/NORMAL2-IM-0808-0001.jpeg\n",
            "/content/data_used/NORMAL/NORMAL2-IM-1278-0001.jpeg\n",
            "/content/data_used/NORMAL/NORMAL2-IM-1244-0001.jpeg\n",
            "/content/data_used/NORMAL/IM-0525-0001-0001.jpeg\n",
            "/content/data_used/NORMAL/IM-0499-0001.jpeg\n",
            "/content/data_used/NORMAL/NORMAL2-IM-0824-0001.jpeg\n",
            "/content/data_used/NORMAL/NORMAL2-IM-0915-0001.jpeg\n",
            "/content/data_used/NORMAL/IM-0003-0001.jpeg\n",
            "/content/data_used/NORMAL/NORMAL2-IM-0499-0001.jpeg\n",
            "/content/data_used/NORMAL/NORMAL2-IM-0602-0001.jpeg\n",
            "/content/data_used/NORMAL/NORMAL2-IM-0803-0001.jpeg\n",
            "/content/data_used/NORMAL/NORMAL2-IM-0313-0001.jpeg\n",
            "/content/data_used/NORMAL/NORMAL2-IM-1091-0001.jpeg\n",
            "/content/data_used/NORMAL/NORMAL2-IM-0311-0001.jpeg\n",
            "/content/data_used/NORMAL/NORMAL2-IM-0086-0001.jpeg\n",
            "/content/data_used/NORMAL/NORMAL2-IM-0585-0001.jpeg\n",
            "/content/data_used/NORMAL/NORMAL2-IM-0683-0001.jpeg\n",
            "/content/data_used/NORMAL/NORMAL2-IM-0746-0001.jpeg\n",
            "/content/data_used/NORMAL/IM-0511-0001-0001.jpeg\n",
            "/content/data_used/NORMAL/IM-0063-0001.jpeg\n",
            "/content/data_used/NORMAL/NORMAL2-IM-0932-0001.jpeg\n",
            "/content/data_used/NORMAL/IM-0293-0001.jpeg\n",
            "/content/data_used/NORMAL/NORMAL2-IM-0886-0001.jpeg\n",
            "/content/data_used/NORMAL/NORMAL2-IM-0383-0001.jpeg\n",
            "/content/data_used/NORMAL/IM-0423-0001.jpeg\n",
            "/content/data_used/NORMAL/NORMAL2-IM-1320-0001.jpeg\n",
            "/content/data_used/NORMAL/IM-0102-0001.jpeg\n",
            "/content/data_used/NORMAL/NORMAL2-IM-0117-0001.jpeg\n",
            "/content/data_used/NORMAL/IM-0324-0001.jpeg\n",
            "/content/data_used/NORMAL/NORMAL2-IM-1306-0001.jpeg\n",
            "/content/data_used/NORMAL/IM-0242-0001.jpeg\n",
            "/content/data_used/NORMAL/NORMAL2-IM-0675-0001.jpeg\n",
            "/content/data_used/NORMAL/NORMAL2-IM-0874-0001.jpeg\n",
            "/content/data_used/NORMAL/NORMAL2-IM-0909-0001.jpeg\n",
            "/content/data_used/NORMAL/IM-0618-0001.jpeg\n",
            "/content/data_used/NORMAL/NORMAL2-IM-1086-0001.jpeg\n",
            "/content/data_used/NORMAL/NORMAL2-IM-1073-0001.jpeg\n",
            "/content/data_used/NORMAL/IM-0365-0001.jpeg\n",
            "/content/data_used/NORMAL/NORMAL2-IM-1062-0001.jpeg\n",
            "/content/data_used/NORMAL/NORMAL2-IM-0939-0001.jpeg\n",
            "/content/data_used/NORMAL/NORMAL2-IM-0515-0001.jpeg\n",
            "/content/data_used/NORMAL/NORMAL2-IM-1135-0001.jpeg\n",
            "/content/data_used/NORMAL/NORMAL2-IM-1152-0001-0001.jpeg\n",
            "/content/data_used/NORMAL/NORMAL2-IM-0983-0001.jpeg\n",
            "/content/data_used/NORMAL/NORMAL2-IM-0578-0001.jpeg\n",
            "/content/data_used/NORMAL/NORMAL2-IM-0007-0001.jpeg\n",
            "/content/data_used/NORMAL/IM-0276-0001.jpeg\n",
            "/content/data_used/NORMAL/NORMAL2-IM-1196-0001.jpeg\n",
            "/content/data_used/NORMAL/NORMAL2-IM-0448-0001.jpeg\n",
            "/content/data_used/NORMAL/NORMAL2-IM-0898-0001.jpeg\n",
            "/content/data_used/NORMAL/IM-0664-0001.jpeg\n",
            "/content/data_used/NORMAL/NORMAL2-IM-0490-0001.jpeg\n",
            "/content/data_used/NORMAL/IM-0445-0001.jpeg\n",
            "/content/data_used/NORMAL/NORMAL2-IM-1023-0001.jpeg\n",
            "/content/data_used/NORMAL/IM-0427-0001.jpeg\n",
            "/content/data_used/NORMAL/IM-0367-0001.jpeg\n",
            "/content/data_used/NORMAL/NORMAL2-IM-1427-0001.jpeg\n",
            "/content/data_used/NORMAL/NORMAL2-IM-1301-0001.jpeg\n",
            "/content/data_used/NORMAL/NORMAL2-IM-0388-0001.jpeg\n",
            "/content/data_used/NORMAL/NORMAL2-IM-0409-0001.jpeg\n",
            "/content/data_used/NORMAL/NORMAL2-IM-0673-0001.jpeg\n",
            "/content/data_used/NORMAL/IM-0289-0001.jpeg\n",
            "/content/data_used/NORMAL/IM-0592-0001.jpeg\n",
            "/content/data_used/NORMAL/IM-0469-0001.jpeg\n",
            "/content/data_used/NORMAL/IM-0437-0001-0001.jpeg\n",
            "/content/data_used/NORMAL/IM-0601-0001.jpeg\n",
            "/content/data_used/NORMAL/NORMAL2-IM-1179-0001.jpeg\n",
            "/content/data_used/NORMAL/NORMAL2-IM-0440-0001.jpeg\n",
            "/content/data_used/NORMAL/NORMAL2-IM-0364-0001.jpeg\n",
            "/content/data_used/NORMAL/IM-0736-0001.jpeg\n",
            "/content/data_used/NORMAL/NORMAL2-IM-0347-0001.jpeg\n",
            "/content/data_used/NORMAL/NORMAL2-IM-0974-0001.jpeg\n",
            "/content/data_used/NORMAL/IM-0711-0001.jpeg\n",
            "/content/data_used/NORMAL/IM-0316-0001.jpeg\n",
            "/content/data_used/NORMAL/NORMAL2-IM-1401-0001.jpeg\n",
            "/content/data_used/NORMAL/NORMAL2-IM-0027-0001.jpeg\n",
            "/content/data_used/NORMAL/IM-0187-0001.jpeg\n",
            "/content/data_used/NORMAL/IM-0145-0001.jpeg\n",
            "/content/data_used/NORMAL/NORMAL2-IM-1322-0001.jpeg\n",
            "/content/data_used/NORMAL/NORMAL2-IM-0545-0001.jpeg\n",
            "/content/data_used/NORMAL/IM-0059-0001.jpeg\n",
            "/content/data_used/NORMAL/NORMAL2-IM-0095-0001.jpeg\n",
            "/content/data_used/NORMAL/IM-0399-0001.jpeg\n",
            "/content/data_used/NORMAL/NORMAL2-IM-0302-0001.jpeg\n",
            "/content/data_used/NORMAL/NORMAL2-IM-0620-0001.jpeg\n",
            "/content/data_used/NORMAL/IM-0429-0001.jpeg\n",
            "/content/data_used/NORMAL/IM-0285-0001.jpeg\n",
            "/content/data_used/NORMAL/NORMAL2-IM-1307-0001.jpeg\n",
            "/content/data_used/NORMAL/IM-0339-0001.jpeg\n",
            "/content/data_used/NORMAL/IM-0640-0001.jpeg\n",
            "/content/data_used/NORMAL/NORMAL2-IM-1084-0001.jpeg\n",
            "/content/data_used/NORMAL/NORMAL2-IM-1258-0001-0002.jpeg\n",
            "/content/data_used/NORMAL/NORMAL2-IM-0934-0001.jpeg\n",
            "/content/data_used/NORMAL/NORMAL2-IM-0818-0001.jpeg\n",
            "/content/data_used/NORMAL/NORMAL2-IM-1149-0001.jpeg\n",
            "/content/data_used/NORMAL/IM-0752-0001.jpeg\n",
            "/content/data_used/NORMAL/NORMAL2-IM-0512-0001.jpeg\n",
            "/content/data_used/NORMAL/IM-0228-0001.jpeg\n",
            "/content/data_used/NORMAL/NORMAL2-IM-0849-0001.jpeg\n",
            "/content/data_used/NORMAL/NORMAL2-IM-1264-0001.jpeg\n",
            "/content/data_used/NORMAL/NORMAL2-IM-0468-0001.jpeg\n",
            "/content/data_used/NORMAL/IM-0362-0001.jpeg\n",
            "/content/data_used/NORMAL/NORMAL2-IM-0558-0001.jpeg\n",
            "/content/data_used/NORMAL/NORMAL2-IM-1290-0001.jpeg\n",
            "/content/data_used/NORMAL/IM-0694-0001.jpeg\n",
            "/content/data_used/NORMAL/IM-0231-0001.jpeg\n",
            "/content/data_used/NORMAL/NORMAL2-IM-1094-0001-0002.jpeg\n",
            "/content/data_used/NORMAL/NORMAL2-IM-1209-0001.jpeg\n",
            "/content/data_used/NORMAL/IM-0302-0001.jpeg\n",
            "/content/data_used/NORMAL/IM-0501-0001-0001.jpeg\n",
            "/content/data_used/NORMAL/IM-0226-0001.jpeg\n",
            "/content/data_used/NORMAL/NORMAL2-IM-0971-0001-0002.jpeg\n",
            "/content/data_used/NORMAL/IM-0533-0001-0001.jpeg\n",
            "/content/data_used/NORMAL/IM-0209-0001.jpeg\n",
            "/content/data_used/NORMAL/NORMAL2-IM-0819-0001.jpeg\n",
            "/content/data_used/NORMAL/IM-0748-0001.jpeg\n",
            "/content/data_used/NORMAL/NORMAL2-IM-1224-0001.jpeg\n",
            "/content/data_used/NORMAL/IM-0506-0001.jpeg\n",
            "/content/data_used/NORMAL/NORMAL2-IM-1039-0001.jpeg\n",
            "/content/data_used/NORMAL/NORMAL2-IM-1024-0001.jpeg\n",
            "/content/data_used/NORMAL/NORMAL2-IM-0410-0001.jpeg\n",
            "/content/data_used/NORMAL/IM-0355-0001.jpeg\n",
            "/content/data_used/NORMAL/IM-0341-0001.jpeg\n",
            "/content/data_used/NORMAL/NORMAL2-IM-0237-0001.jpeg\n",
            "/content/data_used/NORMAL/IM-0266-0001.jpeg\n",
            "/content/data_used/NORMAL/NORMAL2-IM-0447-0001.jpeg\n",
            "/content/data_used/NORMAL/NORMAL2-IM-0922-0001.jpeg\n",
            "/content/data_used/NORMAL/NORMAL2-IM-0981-0001.jpeg\n",
            "/content/data_used/NORMAL/IM-0646-0001.jpeg\n",
            "/content/data_used/NORMAL/IM-0414-0001.jpeg\n",
            "/content/data_used/NORMAL/IM-0213-0001.jpeg\n",
            "/content/data_used/NORMAL/IM-0650-0001-0002.jpeg\n",
            "/content/data_used/NORMAL/IM-0070-0001.jpeg\n",
            "/content/data_used/NORMAL/NORMAL2-IM-1328-0001.jpeg\n",
            "/content/data_used/NORMAL/NORMAL2-IM-0815-0001.jpeg\n",
            "/content/data_used/NORMAL/IM-0340-0001.jpeg\n",
            "/content/data_used/NORMAL/NORMAL2-IM-0855-0001.jpeg\n",
            "/content/data_used/NORMAL/IM-0107-0001.jpeg\n",
            "/content/data_used/NORMAL/NORMAL2-IM-0636-0001.jpeg\n",
            "/content/data_used/NORMAL/NORMAL2-IM-0424-0001.jpeg\n",
            "/content/data_used/NORMAL/NORMAL2-IM-0977-0001.jpeg\n",
            "/content/data_used/NORMAL/NORMAL2-IM-0252-0001.jpeg\n",
            "/content/data_used/NORMAL/IM-0545-0001.jpeg\n",
            "/content/data_used/NORMAL/NORMAL2-IM-1294-0001.jpeg\n",
            "/content/data_used/NORMAL/NORMAL2-IM-0846-0001.jpeg\n",
            "/content/data_used/NORMAL/IM-0660-0001-0002.jpeg\n",
            "/content/data_used/NORMAL/NORMAL2-IM-0555-0001.jpeg\n",
            "/content/data_used/NORMAL/NORMAL2-IM-1096-0001-0001.jpeg\n",
            "/content/data_used/NORMAL/NORMAL2-IM-0489-0001.jpeg\n",
            "/content/data_used/NORMAL/NORMAL2-IM-0530-0001.jpeg\n",
            "/content/data_used/NORMAL/NORMAL2-IM-0429-0001.jpeg\n",
            "/content/data_used/NORMAL/IM-0684-0001.jpeg\n",
            "/content/data_used/NORMAL/IM-0211-0001.jpeg\n",
            "/content/data_used/NORMAL/NORMAL2-IM-0811-0001.jpeg\n",
            "/content/data_used/NORMAL/IM-0225-0001.jpeg\n",
            "/content/data_used/NORMAL/IM-0243-0001.jpeg\n",
            "/content/data_used/NORMAL/NORMAL2-IM-0381-0001.jpeg\n",
            "/content/data_used/NORMAL/IM-0478-0001.jpeg\n",
            "/content/data_used/NORMAL/NORMAL2-IM-0521-0001.jpeg\n",
            "/content/data_used/NORMAL/NORMAL2-IM-1285-0001.jpeg\n",
            "/content/data_used/NORMAL/IM-0696-0001.jpeg\n",
            "/content/data_used/NORMAL/IM-0631-0001.jpeg\n",
            "/content/data_used/NORMAL/NORMAL2-IM-0993-0001.jpeg\n",
            "/content/data_used/NORMAL/NORMAL2-IM-0416-0001.jpeg\n",
            "/content/data_used/NORMAL/IM-0642-0001.jpeg\n",
            "/content/data_used/NORMAL/NORMAL2-IM-1379-0001.jpeg\n",
            "/content/data_used/NORMAL/NORMAL2-IM-0831-0001.jpeg\n",
            "/content/data_used/NORMAL/NORMAL2-IM-0307-0001.jpeg\n",
            "/content/data_used/NORMAL/IM-0237-0001.jpeg\n",
            "/content/data_used/NORMAL/NORMAL2-IM-0825-0001.jpeg\n",
            "/content/data_used/NORMAL/NORMAL2-IM-0765-0001.jpeg\n",
            "/content/data_used/NORMAL/NORMAL2-IM-0123-0001.jpeg\n",
            "/content/data_used/NORMAL/IM-0085-0001.jpeg\n",
            "/content/data_used/NORMAL/IM-0335-0001.jpeg\n",
            "/content/data_used/NORMAL/NORMAL2-IM-0041-0001.jpeg\n",
            "/content/data_used/NORMAL/IM-0323-0001.jpeg\n",
            "/content/data_used/NORMAL/IM-0586-0001.jpeg\n",
            "/content/data_used/NORMAL/NORMAL2-IM-0051-0001.jpeg\n",
            "/content/data_used/NORMAL/NORMAL2-IM-0045-0001.jpeg\n",
            "/content/data_used/NORMAL/NORMAL2-IM-0559-0001.jpeg\n",
            "/content/data_used/NORMAL/NORMAL2-IM-0895-0001.jpeg\n",
            "/content/data_used/NORMAL/IM-0467-0001.jpeg\n",
            "/content/data_used/NORMAL/NORMAL2-IM-0452-0001.jpeg\n",
            "/content/data_used/NORMAL/NORMAL2-IM-0772-0001.jpeg\n",
            "/content/data_used/NORMAL/IM-0023-0001.jpeg\n",
            "/content/data_used/NORMAL/IM-0351-0001.jpeg\n",
            "/content/data_used/NORMAL/IM-0203-0001.jpeg\n",
            "/content/data_used/NORMAL/IM-0689-0001.jpeg\n",
            "/content/data_used/NORMAL/NORMAL2-IM-0868-0001.jpeg\n",
            "/content/data_used/NORMAL/IM-0333-0001.jpeg\n",
            "/content/data_used/NORMAL/NORMAL2-IM-1349-0001.jpeg\n",
            "/content/data_used/NORMAL/IM-0111-0001.jpeg\n",
            "/content/data_used/NORMAL/NORMAL2-IM-1226-0001.jpeg\n",
            "/content/data_used/NORMAL/IM-0073-0001.jpeg\n",
            "/content/data_used/NORMAL/NORMAL2-IM-0509-0001.jpeg\n",
            "/content/data_used/NORMAL/IM-0713-0001.jpeg\n",
            "/content/data_used/NORMAL/IM-0248-0001.jpeg\n",
            "/content/data_used/NORMAL/IM-0634-0001.jpeg\n",
            "/content/data_used/NORMAL/NORMAL2-IM-1169-0001.jpeg\n",
            "/content/data_used/NORMAL/NORMAL2-IM-0491-0001.jpeg\n",
            "/content/data_used/NORMAL/IM-0544-0001.jpeg\n",
            "/content/data_used/NORMAL/IM-0222-0001.jpeg\n",
            "/content/data_used/NORMAL/IM-0727-0001.jpeg\n",
            "/content/data_used/NORMAL/IM-0410-0001.jpeg\n",
            "/content/data_used/NORMAL/NORMAL2-IM-0500-0001.jpeg\n",
            "/content/data_used/NORMAL/IM-0264-0001.jpeg\n",
            "/content/data_used/NORMAL/NORMAL2-IM-0035-0001.jpeg\n",
            "/content/data_used/NORMAL/IM-0009-0001.jpeg\n",
            "/content/data_used/NORMAL/NORMAL2-IM-0373-0001.jpeg\n",
            "/content/data_used/NORMAL/IM-0429-0001-0002.jpeg\n",
            "/content/data_used/NORMAL/IM-0067-0001.jpeg\n",
            "/content/data_used/NORMAL/IM-0255-0001.jpeg\n",
            "/content/data_used/NORMAL/NORMAL2-IM-1422-0001.jpeg\n",
            "/content/data_used/NORMAL/IM-0700-0001.jpeg\n",
            "/content/data_used/NORMAL/NORMAL2-IM-0654-0001.jpeg\n",
            "/content/data_used/NORMAL/NORMAL2-IM-0412-0001.jpeg\n",
            "/content/data_used/NORMAL/NORMAL2-IM-1241-0001.jpeg\n",
            "/content/data_used/NORMAL/IM-0629-0001-0001.jpeg\n",
            "/content/data_used/NORMAL/IM-0095-0001.jpeg\n",
            "/content/data_used/NORMAL/IM-0409-0001.jpeg\n",
            "/content/data_used/NORMAL/NORMAL2-IM-1197-0001.jpeg\n",
            "/content/data_used/NORMAL/NORMAL2-IM-1098-0001.jpeg\n",
            "/content/data_used/NORMAL/NORMAL2-IM-0693-0001.jpeg\n",
            "/content/data_used/NORMAL/NORMAL2-IM-0879-0001.jpeg\n",
            "/content/data_used/NORMAL/NORMAL2-IM-1198-0001.jpeg\n",
            "/content/data_used/NORMAL/IM-0474-0001.jpeg\n",
            "/content/data_used/NORMAL/IM-0413-0001.jpeg\n",
            "/content/data_used/NORMAL/NORMAL2-IM-1253-0001.jpeg\n",
            "/content/data_used/NORMAL/IM-0343-0001.jpeg\n",
            "/content/data_used/NORMAL/NORMAL2-IM-0869-0001.jpeg\n",
            "/content/data_used/NORMAL/NORMAL2-IM-1050-0001.jpeg\n",
            "/content/data_used/NORMAL/NORMAL2-IM-0989-0001.jpeg\n",
            "/content/data_used/NORMAL/IM-0133-0001.jpeg\n",
            "/content/data_used/NORMAL/IM-0535-0001.jpeg\n",
            "/content/data_used/NORMAL/NORMAL2-IM-0827-0001.jpeg\n",
            "/content/data_used/NORMAL/NORMAL2-IM-0406-0001.jpeg\n",
            "/content/data_used/NORMAL/NORMAL2-IM-0173-0001-0001.jpeg\n",
            "/content/data_used/NORMAL/IM-0718-0001.jpeg\n",
            "/content/data_used/NORMAL/NORMAL2-IM-0210-0001.jpeg\n",
            "/content/data_used/NORMAL/IM-0408-0001.jpeg\n",
            "/content/data_used/NORMAL/IM-0539-0001-0001.jpeg\n",
            "/content/data_used/NORMAL/IM-0358-0001.jpeg\n",
            "/content/data_used/NORMAL/IM-0650-0001-0001.jpeg\n",
            "/content/data_used/NORMAL/IM-0125-0001.jpeg\n",
            "/content/data_used/NORMAL/NORMAL2-IM-0564-0001.jpeg\n",
            "/content/data_used/NORMAL/NORMAL2-IM-0967-0001.jpeg\n",
            "/content/data_used/NORMAL/NORMAL2-IM-0871-0001.jpeg\n",
            "/content/data_used/NORMAL/NORMAL2-IM-1019-0001.jpeg\n",
            "/content/data_used/NORMAL/IM-0346-0001.jpeg\n",
            "/content/data_used/NORMAL/IM-0382-0001.jpeg\n",
            "/content/data_used/NORMAL/IM-0298-0001.jpeg\n",
            "/content/data_used/NORMAL/IM-0349-0001.jpeg\n",
            "/content/data_used/NORMAL/IM-0574-0001.jpeg\n",
            "/content/data_used/NORMAL/IM-0311-0001.jpeg\n",
            "/content/data_used/NORMAL/NORMAL2-IM-0923-0001.jpeg\n",
            "/content/data_used/NORMAL/NORMAL2-IM-0533-0001.jpeg\n",
            "/content/data_used/NORMAL/NORMAL2-IM-0580-0001.jpeg\n",
            "/content/data_used/NORMAL/NORMAL2-IM-0707-0001.jpeg\n",
            "/content/data_used/NORMAL/NORMAL2-IM-1344-0001.jpeg\n",
            "/content/data_used/NORMAL/IM-0160-0001.jpeg\n",
            "/content/data_used/NORMAL/NORMAL2-IM-1123-0001.jpeg\n",
            "/content/data_used/NORMAL/IM-0499-0001-0001.jpeg\n",
            "/content/data_used/NORMAL/IM-0325-0001.jpeg\n",
            "/content/data_used/NORMAL/NORMAL2-IM-0592-0001.jpeg\n",
            "/content/data_used/NORMAL/IM-0297-0001.jpeg\n",
            "/content/data_used/NORMAL/NORMAL2-IM-0213-0001.jpeg\n",
            "/content/data_used/NORMAL/NORMAL2-IM-1227-0001.jpeg\n",
            "/content/data_used/NORMAL/NORMAL2-IM-0629-0001.jpeg\n",
            "/content/data_used/NORMAL/IM-0754-0001.jpeg\n",
            "/content/data_used/NORMAL/NORMAL2-IM-0877-0001.jpeg\n",
            "/content/data_used/NORMAL/NORMAL2-IM-1038-0001.jpeg\n",
            "/content/data_used/NORMAL/IM-0337-0001.jpeg\n",
            "/content/data_used/NORMAL/NORMAL2-IM-0451-0001.jpeg\n",
            "/content/data_used/NORMAL/IM-0182-0001.jpeg\n",
            "/content/data_used/NORMAL/NORMAL2-IM-0840-0001.jpeg\n",
            "/content/data_used/NORMAL/NORMAL2-IM-0199-0001.jpeg\n",
            "/content/data_used/NORMAL/IM-0645-0001.jpeg\n",
            "/content/data_used/NORMAL/NORMAL2-IM-0931-0001.jpeg\n",
            "/content/data_used/NORMAL/NORMAL2-IM-0662-0001.jpeg\n",
            "/content/data_used/NORMAL/IM-0491-0001.jpeg\n",
            "/content/data_used/NORMAL/IM-0071-0001.jpeg\n",
            "/content/data_used/NORMAL/IM-0290-0001.jpeg\n",
            "/content/data_used/NORMAL/IM-0666-0001-0001.jpeg\n",
            "/content/data_used/NORMAL/IM-0154-0001.jpeg\n",
            "/content/data_used/NORMAL/NORMAL2-IM-1157-0001.jpeg\n",
            "/content/data_used/NORMAL/NORMAL2-IM-0131-0001.jpeg\n",
            "/content/data_used/NORMAL/NORMAL2-IM-1102-0001-0002.jpeg\n",
            "/content/data_used/NORMAL/IM-0562-0001.jpeg\n",
            "/content/data_used/NORMAL/IM-0595-0001.jpeg\n",
            "/content/data_used/NORMAL/IM-0530-0001.jpeg\n",
            "/content/data_used/NORMAL/IM-0405-0001.jpeg\n",
            "/content/data_used/NORMAL/NORMAL2-IM-0349-0001.jpeg\n",
            "/content/data_used/NORMAL/NORMAL2-IM-1252-0001.jpeg\n",
            "/content/data_used/NORMAL/IM-0466-0001.jpeg\n",
            "/content/data_used/NORMAL/IM-0549-0001.jpeg\n",
            "/content/data_used/NORMAL/IM-0236-0001.jpeg\n",
            "/content/data_used/NORMAL/NORMAL2-IM-0529-0001.jpeg\n",
            "/content/data_used/NORMAL/IM-0742-0001.jpeg\n",
            "/content/data_used/NORMAL/NORMAL2-IM-1145-0001.jpeg\n",
            "/content/data_used/NORMAL/IM-0644-0001.jpeg\n",
            "/content/data_used/NORMAL/NORMAL2-IM-0633-0001.jpeg\n",
            "/content/data_used/NORMAL/IM-0581-0001.jpeg\n",
            "/content/data_used/NORMAL/IM-0168-0001.jpeg\n",
            "/content/data_used/NORMAL/NORMAL2-IM-0195-0001.jpeg\n",
            "/content/data_used/NORMAL/NORMAL2-IM-1232-0001.jpeg\n",
            "/content/data_used/NORMAL/IM-0620-0001-0002.jpeg\n",
            "/content/data_used/NORMAL/IM-0561-0001.jpeg\n",
            "/content/data_used/NORMAL/IM-0557-0001.jpeg\n",
            "/content/data_used/NORMAL/NORMAL2-IM-0317-0001.jpeg\n",
            "/content/data_used/NORMAL/NORMAL2-IM-1281-0001.jpeg\n",
            "/content/data_used/NORMAL/IM-0717-0001.jpeg\n",
            "/content/data_used/NORMAL/NORMAL2-IM-1356-0001.jpeg\n",
            "/content/data_used/NORMAL/IM-0404-0001.jpeg\n",
            "/content/data_used/NORMAL/NORMAL2-IM-1296-0001.jpeg\n",
            "/content/data_used/NORMAL/IM-0495-0001.jpeg\n",
            "/content/data_used/NORMAL/NORMAL2-IM-0280-0001.jpeg\n",
            "/content/data_used/NORMAL/NORMAL2-IM-1219-0001.jpeg\n",
            "/content/data_used/NORMAL/IM-0502-0001.jpeg\n",
            "/content/data_used/NORMAL/NORMAL2-IM-1333-0001.jpeg\n",
            "/content/data_used/NORMAL/IM-0326-0001.jpeg\n",
            "/content/data_used/NORMAL/IM-0239-0001.jpeg\n",
            "/content/data_used/NORMAL/NORMAL2-IM-0965-0001.jpeg\n",
            "/content/data_used/NORMAL/NORMAL2-IM-0386-0001.jpeg\n",
            "/content/data_used/NORMAL/IM-0348-0001.jpeg\n",
            "/content/data_used/NORMAL/NORMAL2-IM-0820-0001.jpeg\n",
            "/content/data_used/NORMAL/IM-0461-0001.jpeg\n",
            "/content/data_used/NORMAL/IM-0565-0001.jpeg\n",
            "/content/data_used/NORMAL/NORMAL2-IM-0547-0001.jpeg\n",
            "/content/data_used/NORMAL/IM-0683-0001.jpeg\n",
            "/content/data_used/NORMAL/IM-0309-0001.jpeg\n",
            "/content/data_used/NORMAL/IM-0728-0001.jpeg\n",
            "/content/data_used/NORMAL/NORMAL2-IM-1051-0001.jpeg\n",
            "/content/data_used/NORMAL/IM-0257-0001.jpeg\n",
            "/content/data_used/NORMAL/IM-0551-0001.jpeg\n",
            "/content/data_used/NORMAL/IM-0221-0001.jpeg\n",
            "/content/data_used/NORMAL/IM-0453-0001-0002.jpeg\n",
            "/content/data_used/NORMAL/IM-0514-0001.jpeg\n",
            "/content/data_used/NORMAL/IM-0372-0001.jpeg\n",
            "/content/data_used/NORMAL/IM-0269-0001.jpeg\n",
            "/content/data_used/NORMAL/NORMAL2-IM-0893-0001.jpeg\n",
            "/content/data_used/NORMAL/IM-0704-0001.jpeg\n",
            "/content/data_used/NORMAL/NORMAL2-IM-1109-0001.jpeg\n",
            "/content/data_used/NORMAL/NORMAL2-IM-0797-0001.jpeg\n",
            "/content/data_used/NORMAL/NORMAL2-IM-0650-0001.jpeg\n",
            "/content/data_used/NORMAL/IM-0555-0001-0002.jpeg\n",
            "/content/data_used/NORMAL/IM-0693-0001.jpeg\n",
            "/content/data_used/NORMAL/NORMAL2-IM-0267-0001.jpeg\n",
            "/content/data_used/NORMAL/IM-0471-0001.jpeg\n",
            "/content/data_used/NORMAL/NORMAL2-IM-0872-0001.jpeg\n",
            "/content/data_used/NORMAL/IM-0036-0001.jpeg\n",
            "/content/data_used/NORMAL/NORMAL2-IM-0569-0001.jpeg\n",
            "/content/data_used/NORMAL/NORMAL2-IM-0058-0001.jpeg\n",
            "/content/data_used/NORMAL/NORMAL2-IM-1257-0001.jpeg\n",
            "/content/data_used/NORMAL/NORMAL2-IM-0463-0001.jpeg\n",
            "/content/data_used/NORMAL/IM-0629-0001-0002.jpeg\n",
            "/content/data_used/NORMAL/IM-0249-0001.jpeg\n",
            "/content/data_used/NORMAL/IM-0675-0001.jpeg\n",
            "/content/data_used/NORMAL/IM-0223-0001.jpeg\n",
            "/content/data_used/NORMAL/IM-0520-0001.jpeg\n",
            "/content/data_used/NORMAL/IM-0556-0001.jpeg\n",
            "/content/data_used/NORMAL/NORMAL2-IM-1094-0001.jpeg\n",
            "/content/data_used/NORMAL/NORMAL2-IM-1345-0001.jpeg\n",
            "/content/data_used/NORMAL/IM-0525-0001-0002.jpeg\n",
            "/content/data_used/NORMAL/NORMAL2-IM-1423-0001.jpeg\n",
            "/content/data_used/NORMAL/IM-0315-0001.jpeg\n",
            "/content/data_used/NORMAL/IM-0673-0001.jpeg\n",
            "/content/data_used/NORMAL/NORMAL2-IM-0847-0001.jpeg\n",
            "/content/data_used/NORMAL/IM-0596-0001.jpeg\n",
            "/content/data_used/NORMAL/NORMAL2-IM-1033-0001.jpeg\n",
            "/content/data_used/NORMAL/NORMAL2-IM-0873-0001.jpeg\n",
            "/content/data_used/NORMAL/NORMAL2-IM-0394-0001.jpeg\n",
            "/content/data_used/NORMAL/IM-0446-0001.jpeg\n",
            "/content/data_used/NORMAL/NORMAL2-IM-0321-0001.jpeg\n",
            "/content/data_used/NORMAL/IM-0425-0001.jpeg\n",
            "/content/data_used/NORMAL/NORMAL2-IM-1231-0001.jpeg\n",
            "/content/data_used/NORMAL/IM-0670-0001.jpeg\n",
            "/content/data_used/NORMAL/IM-0031-0001.jpeg\n",
            "/content/data_used/NORMAL/NORMAL2-IM-1059-0001.jpeg\n",
            "/content/data_used/NORMAL/IM-0350-0001.jpeg\n",
            "/content/data_used/NORMAL/NORMAL2-IM-0453-0001.jpeg\n",
            "/content/data_used/NORMAL/NORMAL2-IM-1152-0001-0002.jpeg\n",
            "/content/data_used/NORMAL/NORMAL2-IM-0807-0001.jpeg\n",
            "/content/data_used/NORMAL/IM-0383-0001.jpeg\n",
            "/content/data_used/NORMAL/IM-0733-0001.jpeg\n",
            "/content/data_used/NORMAL/IM-0511-0001.jpeg\n",
            "/content/data_used/NORMAL/NORMAL2-IM-0804-0001.jpeg\n",
            "/content/data_used/NORMAL/IM-0288-0001.jpeg\n",
            "/content/data_used/NORMAL/IM-0507-0001.jpeg\n",
            "/content/data_used/NORMAL/IM-0658-0001.jpeg\n",
            "/content/data_used/NORMAL/IM-0033-0001.jpeg\n",
            "/content/data_used/NORMAL/NORMAL2-IM-0862-0001.jpeg\n",
            "/content/data_used/NORMAL/IM-0678-0001.jpeg\n",
            "/content/data_used/NORMAL/NORMAL2-IM-0857-0001.jpeg\n",
            "/content/data_used/NORMAL/IM-0619-0001.jpeg\n",
            "/content/data_used/NORMAL/NORMAL2-IM-0997-0001.jpeg\n",
            "/content/data_used/NORMAL/NORMAL2-IM-0110-0001.jpeg\n",
            "/content/data_used/NORMAL/IM-0691-0001.jpeg\n",
            "/content/data_used/NORMAL/NORMAL2-IM-0651-0004.jpeg\n",
            "/content/data_used/NORMAL/NORMAL2-IM-1067-0001.jpeg\n",
            "/content/data_used/NORMAL/NORMAL2-IM-1276-0001.jpeg\n",
            "/content/data_used/NORMAL/NORMAL2-IM-0660-0001.jpeg\n",
            "/content/data_used/NORMAL/NORMAL2-IM-1067-0001-0001.jpeg\n",
            "/content/data_used/NORMAL/IM-0375-0001.jpeg\n",
            "/content/data_used/NORMAL/NORMAL2-IM-1200-0001.jpeg\n",
            "/content/data_used/NORMAL/IM-0374-0001.jpeg\n",
            "/content/data_used/NORMAL/NORMAL2-IM-0776-0001.jpeg\n",
            "/content/data_used/NORMAL/IM-0636-0001.jpeg\n",
            "/content/data_used/NORMAL/NORMAL2-IM-0348-0001.jpeg\n",
            "/content/data_used/NORMAL/NORMAL2-IM-0286-0001.jpeg\n",
            "/content/data_used/NORMAL/IM-0528-0001.jpeg\n",
            "/content/data_used/NORMAL/NORMAL2-IM-0374-0001.jpeg\n",
            "/content/data_used/NORMAL/NORMAL2-IM-0885-0001.jpeg\n",
            "/content/data_used/NORMAL/NORMAL2-IM-0312-0001.jpeg\n",
            "/content/data_used/NORMAL/NORMAL2-IM-0966-0001.jpeg\n",
            "/content/data_used/NORMAL/IM-0508-0001.jpeg\n",
            "/content/data_used/NORMAL/NORMAL2-IM-0652-0001.jpeg\n",
            "/content/data_used/NORMAL/NORMAL2-IM-0970-0001.jpeg\n",
            "/content/data_used/NORMAL/IM-0702-0001.jpeg\n",
            "/content/data_used/NORMAL/IM-0560-0001.jpeg\n",
            "/content/data_used/NORMAL/NORMAL2-IM-1002-0001.jpeg\n",
            "/content/data_used/NORMAL/NORMAL2-IM-1035-0001.jpeg\n",
            "/content/data_used/NORMAL/NORMAL2-IM-0343-0001.jpeg\n",
            "/content/data_used/NORMAL/IM-0650-0001.jpeg\n",
            "/content/data_used/NORMAL/NORMAL2-IM-0903-0001.jpeg\n",
            "/content/data_used/NORMAL/IM-0357-0001.jpeg\n",
            "/content/data_used/NORMAL/IM-0659-0001.jpeg\n",
            "/content/data_used/NORMAL/NORMAL2-IM-1310-0001.jpeg\n",
            "/content/data_used/NORMAL/IM-0180-0001.jpeg\n",
            "/content/data_used/NORMAL/IM-0505-0001-0001.jpeg\n",
            "/content/data_used/NORMAL/NORMAL2-IM-0502-0001.jpeg\n",
            "/content/data_used/NORMAL/IM-0189-0001.jpeg\n",
            "/content/data_used/NORMAL/NORMAL2-IM-1148-0001.jpeg\n",
            "/content/data_used/NORMAL/NORMAL2-IM-0380-0001.jpeg\n",
            "/content/data_used/NORMAL/IM-0033-0001-0002.jpeg\n",
            "/content/data_used/NORMAL/NORMAL2-IM-1279-0001.jpeg\n",
            "/content/data_used/NORMAL/IM-0501-0001-0002.jpeg\n",
            "/content/data_used/NORMAL/IM-0135-0001.jpeg\n",
            "/content/data_used/NORMAL/NORMAL2-IM-0798-0001.jpeg\n",
            "/content/data_used/NORMAL/IM-0501-0001.jpeg\n",
            "/content/data_used/NORMAL/IM-0741-0001.jpeg\n",
            "/content/data_used/NORMAL/NORMAL2-IM-0525-0001.jpeg\n",
            "/content/data_used/NORMAL/NORMAL2-IM-1106-0001.jpeg\n",
            "/content/data_used/NORMAL/IM-0622-0001-0001.jpeg\n",
            "/content/data_used/NORMAL/NORMAL2-IM-1261-0001.jpeg\n",
            "/content/data_used/NORMAL/NORMAL2-IM-1114-0001.jpeg\n",
            "/content/data_used/NORMAL/NORMAL2-IM-1163-0001.jpeg\n",
            "/content/data_used/NORMAL/NORMAL2-IM-0845-0001.jpeg\n",
            "/content/data_used/NORMAL/NORMAL2-IM-1274-0001.jpeg\n",
            "/content/data_used/NORMAL/NORMAL2-IM-0096-0001.jpeg\n",
            "/content/data_used/NORMAL/NORMAL2-IM-0596-0001.jpeg\n",
            "/content/data_used/NORMAL/NORMAL2-IM-1438-0001.jpeg\n",
            "/content/data_used/NORMAL/NORMAL2-IM-0678-0001.jpeg\n",
            "/content/data_used/NORMAL/NORMAL2-IM-0102-0001.jpeg\n",
            "/content/data_used/NORMAL/IM-0039-0001.jpeg\n",
            "/content/data_used/NORMAL/IM-0483-0001.jpeg\n",
            "/content/data_used/NORMAL/NORMAL2-IM-0876-0001.jpeg\n",
            "/content/data_used/NORMAL/NORMAL2-IM-0587-0001-0002.jpeg\n",
            "/content/data_used/NORMAL/NORMAL2-IM-1266-0001-0002.jpeg\n",
            "/content/data_used/NORMAL/NORMAL2-IM-1150-0001.jpeg\n",
            "/content/data_used/NORMAL/NORMAL2-IM-0730-0001.jpeg\n",
            "/content/data_used/NORMAL/NORMAL2-IM-0281-0001.jpeg\n",
            "/content/data_used/NORMAL/NORMAL2-IM-0129-0001.jpeg\n",
            "/content/data_used/NORMAL/NORMAL2-IM-0511-0001.jpeg\n",
            "/content/data_used/NORMAL/IM-0607-0001.jpeg\n",
            "/content/data_used/NORMAL/NORMAL2-IM-0098-0001.jpeg\n",
            "/content/data_used/NORMAL/IM-0612-0001.jpeg\n",
            "/content/data_used/NORMAL/NORMAL2-IM-0415-0001.jpeg\n",
            "/content/data_used/NORMAL/NORMAL2-IM-0942-0001.jpeg\n",
            "/content/data_used/NORMAL/NORMAL2-IM-0929-0001.jpeg\n",
            "/content/data_used/NORMAL/NORMAL2-IM-1177-0001.jpeg\n",
            "/content/data_used/NORMAL/IM-0660-0001.jpeg\n",
            "/content/data_used/NORMAL/NORMAL2-IM-0573-0001.jpeg\n",
            "/content/data_used/NORMAL/IM-0128-0001.jpeg\n",
            "/content/data_used/NORMAL/IM-0747-0001.jpeg\n",
            "/content/data_used/NORMAL/NORMAL2-IM-1142-0001.jpeg\n",
            "/content/data_used/NORMAL/NORMAL2-IM-1054-0001.jpeg\n",
            "/content/data_used/NORMAL/NORMAL2-IM-0487-0001.jpeg\n",
            "/content/data_used/NORMAL/IM-0509-0001-0002.jpeg\n",
            "/content/data_used/NORMAL/NORMAL2-IM-0475-0001.jpeg\n",
            "/content/data_used/NORMAL/NORMAL2-IM-1269-0001-0002.jpeg\n",
            "/content/data_used/NORMAL/NORMAL2-IM-0863-0001.jpeg\n",
            "/content/data_used/NORMAL/IM-0452-0001.jpeg\n",
            "/content/data_used/NORMAL/NORMAL2-IM-1237-0001.jpeg\n",
            "/content/data_used/NORMAL/NORMAL2-IM-0799-0001.jpeg\n",
            "/content/data_used/NORMAL/NORMAL2-IM-1175-0001.jpeg\n",
            "/content/data_used/NORMAL/IM-0011-0001-0001.jpeg\n",
            "/content/data_used/NORMAL/NORMAL2-IM-0860-0001.jpeg\n",
            "/content/data_used/NORMAL/NORMAL2-IM-0023-0001.jpeg\n",
            "/content/data_used/NORMAL/NORMAL2-IM-0925-0001.jpeg\n",
            "/content/data_used/NORMAL/NORMAL2-IM-1204-0001.jpeg\n",
            "/content/data_used/NORMAL/NORMAL2-IM-0887-0001.jpeg\n",
            "/content/data_used/NORMAL/IM-0548-0001.jpeg\n",
            "/content/data_used/NORMAL/NORMAL2-IM-1122-0001.jpeg\n",
            "/content/data_used/NORMAL/NORMAL2-IM-0744-0001.jpeg\n",
            "/content/data_used/NORMAL/NORMAL2-IM-1303-0001.jpeg\n",
            "/content/data_used/NORMAL/NORMAL2-IM-0493-0001.jpeg\n",
            "/content/data_used/NORMAL/NORMAL2-IM-1412-0001.jpeg\n",
            "/content/data_used/NORMAL/IM-0093-0001.jpeg\n",
            "/content/data_used/NORMAL/NORMAL2-IM-1214-0001.jpeg\n",
            "/content/data_used/NORMAL/IM-0672-0001.jpeg\n",
            "/content/data_used/NORMAL/IM-0201-0001.jpeg\n",
            "/content/data_used/NORMAL/IM-0458-0001.jpeg\n",
            "/content/data_used/NORMAL/IM-0716-0001.jpeg\n",
            "/content/data_used/NORMAL/NORMAL2-IM-0705-0001.jpeg\n",
            "/content/data_used/NORMAL/NORMAL2-IM-1277-0001-0001.jpeg\n",
            "/content/data_used/NORMAL/NORMAL2-IM-0150-0001.jpeg\n",
            "/content/data_used/NORMAL/NORMAL2-IM-1128-0001-0002.jpeg\n",
            "/content/data_used/NORMAL/NORMAL2-IM-1431-0001.jpeg\n",
            "/content/data_used/NORMAL/IM-0656-0001-0002.jpeg\n",
            "/content/data_used/NORMAL/IM-0156-0001.jpeg\n",
            "/content/data_used/NORMAL/IM-0021-0001.jpeg\n",
            "/content/data_used/NORMAL/NORMAL2-IM-0508-0001.jpeg\n",
            "/content/data_used/NORMAL/NORMAL2-IM-0395-0001-0002.jpeg\n",
            "/content/data_used/NORMAL/NORMAL2-IM-0749-0001.jpeg\n",
            "/content/data_used/NORMAL/NORMAL2-IM-1345-0001-0002.jpeg\n",
            "/content/data_used/NORMAL/NORMAL2-IM-1396-0001.jpeg\n",
            "/content/data_used/NORMAL/IM-0656-0001-0001.jpeg\n",
            "/content/data_used/NORMAL/IM-0652-0001-0002.jpeg\n",
            "/content/data_used/NORMAL/IM-0176-0001.jpeg\n",
            "/content/data_used/NORMAL/NORMAL2-IM-0435-0001.jpeg\n",
            "/content/data_used/NORMAL/NORMAL2-IM-0278-0001.jpeg\n",
            "/content/data_used/NORMAL/NORMAL2-IM-1326-0001.jpeg\n",
            "/content/data_used/NORMAL/NORMAL2-IM-1289-0001.jpeg\n",
            "/content/data_used/NORMAL/IM-0007-0001.jpeg\n",
            "/content/data_used/NORMAL/NORMAL2-IM-1242-0001.jpeg\n",
            "/content/data_used/NORMAL/IM-0028-0001.jpeg\n",
            "/content/data_used/NORMAL/IM-0371-0001.jpeg\n",
            "/content/data_used/NORMAL/NORMAL2-IM-0832-0001-0002.jpeg\n",
            "/content/data_used/NORMAL/IM-0522-0001.jpeg\n",
            "/content/data_used/NORMAL/IM-0353-0001.jpeg\n",
            "/content/data_used/NORMAL/NORMAL2-IM-1116-0001-0002.jpeg\n",
            "/content/data_used/NORMAL/IM-0680-0001.jpeg\n",
            "/content/data_used/NORMAL/IM-0519-0001-0002.jpeg\n",
            "/content/data_used/NORMAL/NORMAL2-IM-0309-0001.jpeg\n",
            "/content/data_used/NORMAL/NORMAL2-IM-0848-0001.jpeg\n",
            "/content/data_used/NORMAL/NORMAL2-IM-0687-0001.jpeg\n",
            "/content/data_used/NORMAL/NORMAL2-IM-0337-0001.jpeg\n",
            "/content/data_used/NORMAL/IM-0385-0001.jpeg\n",
            "/content/data_used/NORMAL/NORMAL2-IM-1060-0001.jpeg\n",
            "/content/data_used/NORMAL/NORMAL2-IM-0368-0001.jpeg\n",
            "/content/data_used/NORMAL/NORMAL2-IM-1329-0001.jpeg\n",
            "/content/data_used/NORMAL/NORMAL2-IM-0832-0001.jpeg\n",
            "/content/data_used/NORMAL/IM-0555-0001-0001.jpeg\n"
          ]
        }
      ]
    },
    {
      "cell_type": "code",
      "metadata": {
        "id": "4dY9EiJbovKR",
        "colab": {
          "base_uri": "https://localhost:8080/"
        },
        "outputId": "ac3ade31-e1b2-412c-a284-9126e9ab7398"
      },
      "source": [
        "patternZero = '*IM*.jpeg'\n",
        "patternOne = '*person*.jpeg'\n",
        "classZero = fnmatch.filter(imagePatches, patternZero)\n",
        "classOne = fnmatch.filter(imagePatches, patternOne)\n",
        "print(\"IDC(-)\\n\\n\",classZero[0:5],'\\n')\n",
        "print(\"IDC(+)\\n\\n\",classOne[0:5])"
      ],
      "execution_count": null,
      "outputs": [
        {
          "output_type": "stream",
          "name": "stdout",
          "text": [
            "IDC(-)\n",
            "\n",
            " ['/content/data_used/NORMAL/IM-0241-0001.jpeg', '/content/data_used/NORMAL/NORMAL2-IM-1025-0001.jpeg', '/content/data_used/NORMAL/NORMAL2-IM-0669-0001.jpeg', '/content/data_used/NORMAL/NORMAL2-IM-1168-0001.jpeg', '/content/data_used/NORMAL/NORMAL2-IM-1436-0001.jpeg'] \n",
            "\n",
            "IDC(+)\n",
            "\n",
            " ['/content/data_used/PNEUMONIA/person470_bacteria_2003.jpeg', '/content/data_used/PNEUMONIA/person1669_bacteria_4423.jpeg', '/content/data_used/PNEUMONIA/person1081_bacteria_3021.jpeg', '/content/data_used/PNEUMONIA/person1387_virus_2382.jpeg', '/content/data_used/PNEUMONIA/person257_bacteria_1199.jpeg']\n"
          ]
        }
      ]
    },
    {
      "cell_type": "code",
      "metadata": {
        "id": "6NdRVSpwv9D8",
        "colab": {
          "base_uri": "https://localhost:8080/"
        },
        "outputId": "d6d811c0-71b2-4f3d-bc4a-c1dccf6b13fd"
      },
      "source": [
        "print(len(classZero))\n",
        "print(len(classOne))"
      ],
      "execution_count": null,
      "outputs": [
        {
          "output_type": "stream",
          "name": "stdout",
          "text": [
            "1583\n",
            "4273\n"
          ]
        }
      ]
    },
    {
      "cell_type": "code",
      "metadata": {
        "id": "cQbT9IlEozHD"
      },
      "source": [
        "X=[]\n",
        "y=[]\n",
        "\n",
        "for u in classZero:\n",
        "  X.append(u)\n",
        "  y.append(0)\n",
        "\n",
        "for u in classOne:\n",
        "  X.append(u)\n",
        "  y.append(1)"
      ],
      "execution_count": null,
      "outputs": []
    },
    {
      "cell_type": "code",
      "metadata": {
        "id": "gyAP06j_o5y5"
      },
      "source": [
        "df = pd.DataFrame()\n",
        "df[\"images\"]=X\n",
        "df[\"labels\"]=y\n",
        "df=df.sample(frac=1)"
      ],
      "execution_count": null,
      "outputs": []
    },
    {
      "cell_type": "code",
      "metadata": {
        "id": "86jc5Cqzo-ha"
      },
      "source": [
        "def RgbToQuaternion(img):\n",
        " b,g,r = cv2.split(img)\n",
        "\n",
        " M=np.zeros((50,50,4))\n",
        " M[:,:,1]=r\n",
        " M[:,:,2]=g\n",
        " M[:,:,3]=b\n",
        " return(np.array(M))"
      ],
      "execution_count": null,
      "outputs": []
    },
    {
      "cell_type": "code",
      "metadata": {
        "id": "NlZUb-10pCcQ"
      },
      "source": [
        "def batch_generator(df,batch_size,steps):\n",
        " idx=1\n",
        " while True: \n",
        "  yield load_data(df,idx-1,batch_size)## Yields data\n",
        "  if idx < steps:\n",
        "    idx+=1\n",
        "  else:\n",
        "    idx=1"
      ],
      "execution_count": null,
      "outputs": []
    },
    {
      "cell_type": "code",
      "metadata": {
        "id": "cyVdNldPpI84"
      },
      "source": [
        "def load_data(df,idx,batch_size):\n",
        " start=idx*batch_size\n",
        " end=(idx+1)*batch_size\n",
        " x = []\n",
        " y = [] \n",
        " for  row  in df.values[start:end,:]:\n",
        "  img=row[0]\n",
        "\n",
        "  full_size_image = cv2.imread(img)\n",
        "  X=cv2.resize(full_size_image, (50,50), interpolation=cv2.INTER_CUBIC)\n",
        "\n",
        "  image = RgbToQuaternion(X) /255.\n",
        "  x.append(image) \n",
        "  y.append(row[-1] )\n",
        "\n",
        " return (np.array(x).reshape(-1,50,50,4), np.array(y).reshape(-1))"
      ],
      "execution_count": null,
      "outputs": []
    },
    {
      "cell_type": "code",
      "metadata": {
        "id": "V29ZJA8RpM7k"
      },
      "source": [
        "df_train, df = train_test_split(df, test_size=0.20)\n",
        "df_test, df_val = train_test_split(df, test_size=0.5)"
      ],
      "execution_count": null,
      "outputs": []
    },
    {
      "cell_type": "code",
      "metadata": {
        "id": "FQl7Oj4HpS20",
        "colab": {
          "base_uri": "https://localhost:8080/"
        },
        "outputId": "63349fc7-b892-41c7-aa89-205f27821dac"
      },
      "source": [
        "\n",
        "from   complexnn                             import *\n",
        "import keras\n",
        "from   keras.layers                          import *\n",
        "from   keras.models                          import Model\n",
        "import keras.backend                         as     K\n",
        "import numpy                                 as     np\n"
      ],
      "execution_count": null,
      "outputs": [
        {
          "output_type": "stream",
          "name": "stderr",
          "text": [
            "Using TensorFlow backend.\n"
          ]
        }
      ]
    },
    {
      "cell_type": "code",
      "source": [
        "#from   tensorflow.keras.layers                          import *"
      ],
      "metadata": {
        "id": "qWtlwF40XDqx"
      },
      "execution_count": null,
      "outputs": []
    },
    {
      "cell_type": "code",
      "source": [
        "from keras.optimizers import Adam"
      ],
      "metadata": {
        "id": "02iDVZYTclSt"
      },
      "execution_count": null,
      "outputs": []
    },
    {
      "cell_type": "code",
      "metadata": {
        "id": "scrD3pE8pTa5"
      },
      "source": [
        "#from keras.optimizers import adam\n",
        "opt = Adam(lr = 0.001,decay=1e-6)"
      ],
      "execution_count": null,
      "outputs": []
    },
    {
      "cell_type": "code",
      "source": [
        "#import tensorflow as tf\n",
        "# ensure consistency across runs\n",
        "from numpy.random import seed\n",
        "seed(1)"
      ],
      "metadata": {
        "id": "m_lEa6isT32W"
      },
      "execution_count": null,
      "outputs": []
    },
    {
      "cell_type": "code",
      "source": [
        "class ChannelAttention(keras.layers.Layer):\n",
        "      def __init__(self, filters, ratio):\n",
        "        super(ChannelAttention, self).__init__()\n",
        "        self.filters = filters\n",
        "        self.ratio = ratio\n",
        "\n",
        "        def build(self, input_shape):\n",
        "            self.shared_layer_one = tf.keras.layers.Dense(self.filters//self.ratio,\n",
        "                             activation='relu', kernel_initializer='he_normal', \n",
        "                              use_bias=True, \n",
        "                              bias_initializer='zeros')\n",
        "            self.shared_layer_two = tf.keras.layers.Dense(self.filters,\n",
        "                             kernel_initializer='he_normal',\n",
        "                             use_bias=True,\n",
        "                             bias_initializer='zeros')\n",
        "\n",
        "        def call(self, inputs):\n",
        "            # AvgPool\n",
        "            avg_pool = keras.layers.GlobalAveragePooling2D()(inputs)\n",
        "            \n",
        "\n",
        "            avg_pool = self.shared_layer_one(avg_pool)\n",
        "            avg_pool = self.shared_layer_two(avg_pool)\n",
        "\n",
        "            # MaxPool\n",
        "            max_pool = keras.layers.GlobalMaxPooling2D()(inputs)\n",
        "            max_pool = keras.layers.Reshape((1,1,filters))(max_pool)\n",
        "\n",
        "            max_pool = self.shared_layer_one(max_pool)\n",
        "            max_pool = self.shared_layer_two(max_pool)\n",
        "\n",
        "\n",
        "            attention = keras.layers.Add()([avg_pool,max_pool])\n",
        "            attention = keras.layers.Activation('sigmoid')(attention)\n",
        "            \n",
        "            return keras.layers.Multiply()([inputs, attention])\n",
        "\n",
        "class SpatialAttention(keras.layers.Layer):\n",
        "      def __init__(self, kernel_size):\n",
        "        super(SpatialAttention, self).__init__()\n",
        "        self.kernel_size = kernel_size\n",
        "        \n",
        "        def build(self, input_shape):\n",
        "            self.conv2d = keras.layers.Conv2D(filters = 1,\n",
        "                    kernel_size=self.kernel_size,\n",
        "                    strides=1,\n",
        "                    padding='same',\n",
        "                    activation='sigmoid',\n",
        "                    kernel_initializer='he_normal',\n",
        "                    use_bias=False)\n",
        "\n",
        "        def call(self, inputs):\n",
        "            \n",
        "            # AvgPool\n",
        "            avg_pool = keras.layers.Lambda(lambda x: tf.keras.backend.mean(x, axis=3, keepdims=True))(inputs)\n",
        "            \n",
        "            # MaxPool\n",
        "            max_pool = keras.layers.Lambda(lambda x: tf.keras.backend.max(x, axis=3, keepdims=True))(inputs)\n",
        "\n",
        "            attention = keras.layers.Concatenate(axis=3)([avg_pool, max_pool])\n",
        "\n",
        "            attention = self.conv2d(attention)\n",
        "\n",
        "\n",
        "            return tf.keras.layers.multiply([inputs, attention])\n",
        "\n"
      ],
      "metadata": {
        "id": "bc3DiSGyPNdu"
      },
      "execution_count": null,
      "outputs": []
    },
    {
      "cell_type": "code",
      "metadata": {
        "id": "x91xqzQI6Mx2"
      },
      "source": [
        "def residual_block(mod_, f_in, f_out, strides_ = (1,1), use_shortcut_ = False):   \n",
        "    shortcut_ = mod_\n",
        "    \n",
        "    k_ = (1,1)\n",
        "    \n",
        "    mod_ = QuaternionConv2D(f_in, kernel_size=k_, strides=(1,1), padding = \"same\")(mod_)\n",
        "    mod_ = BatchNormalization()(mod_)\n",
        "    mod_ = ELU()(mod_)\n",
        "    \n",
        "    mod_ = QuaternionConv2D(f_in, kernel_size=k_, strides=strides_, padding = \"same\")(mod_)\n",
        "    mod_ = BatchNormalization()(mod_)\n",
        "    mod_ = ELU()(mod_)\n",
        "    \n",
        "    mod_ = QuaternionConv2D(f_out, kernel_size=k_, strides=(1,1), padding = \"same\")(mod_)\n",
        "    mod_ = BatchNormalization()(mod_)\n",
        "    mod_ = ELU()(mod_)\n",
        "    \n",
        "    if use_shortcut_ == True or strides_ != (1,1):\n",
        "        shortcut_ = QuaternionConv2D(f_out, kernel_size=k_, strides=strides_, padding = \"same\")(shortcut_)\n",
        "        shortcut_ = BatchNormalization()(shortcut_)\n",
        "        \n",
        "    mod_ = Add()([shortcut_, mod_])\n",
        "    mod_ = ReLU()(mod_)\n",
        "    \n",
        "    return mod_"
      ],
      "execution_count": null,
      "outputs": []
    },
    {
      "cell_type": "code",
      "metadata": {
        "id": "wf2l0CgN6OwO"
      },
      "source": [
        "def model_build(in_):\n",
        "    \n",
        "    k_=(1,1)\n",
        "    \n",
        "    mod_ = QuaternionConv2D(16, kernel_size=k_, strides = (1,1), padding = \"same\")(in_)\n",
        "    \n",
        "    mod_ = BatchNormalization()(mod_)    \n",
        "    \n",
        "    mod_ = ReLU()(mod_)\n",
        "    mod_=  ChannelAttention(16, 8)(mod_)\n",
        "    mod_= SpatialAttention(3)(mod_)\n",
        "    mod_ = MaxPooling2D()(mod_)\n",
        "    \n",
        "    mod_ = residual_block(mod_, 16, 32, use_shortcut_=True)\n",
        "    \n",
        "    mod_ = MaxPooling2D()(mod_)\n",
        "    mod_=  ChannelAttention(16, 8)(mod_)\n",
        "    mod_= SpatialAttention(3)(mod_)\n",
        "    \n",
        "    mod_ = residual_block(mod_, 32, 64, use_shortcut_=True)\n",
        "    \n",
        "    mod_ = MaxPooling2D()(mod_)\n",
        "    mod_=  ChannelAttention(32, 8)(mod_)\n",
        "    mod_= SpatialAttention(3)(mod_)\n",
        "    \n",
        "    mod_ = residual_block(mod_, 64, 96, use_shortcut_=True)\n",
        "    \n",
        "    mod_ = MaxPooling2D()(mod_)\n",
        "    mod_=  ChannelAttention(64, 8)(mod_)\n",
        "    mod_= SpatialAttention(3)(mod_)\n",
        "    \n",
        "    mod_ = residual_block(mod_, 96, 128, use_shortcut_=True)\n",
        "    \n",
        "    mod_ = MaxPooling2D()(mod_)\n",
        "    mod_=  ChannelAttention(96, 8)(mod_)\n",
        "    mod_= SpatialAttention(3)(mod_)\n",
        "    \n",
        "    \n",
        "    mod_ = GlobalAveragePooling2D()(mod_)\n",
        "    \n",
        "    mod_ = Dense(512, activation = \"relu\")(mod_)\n",
        "    \n",
        "    mod_ = Dropout(0.5)(mod_)\n",
        "    \n",
        "    mod_ = Dense(1, activation=\"sigmoid\")(mod_)\n",
        "    \n",
        "    return mod_"
      ],
      "execution_count": null,
      "outputs": []
    },
    {
      "cell_type": "code",
      "metadata": {
        "id": "fN8TNhyZ0m3U"
      },
      "source": [
        "def recall_m(y_true, y_pred):\n",
        "    true_positives = K.sum(K.round(K.clip(y_true * y_pred, 0, 1)))\n",
        "    possible_positives = K.sum(K.round(K.clip(y_true, 0, 1)))\n",
        "    recall = true_positives / (possible_positives + K.epsilon())\n",
        "    return recall\n",
        "\n",
        "def precision_m(y_true, y_pred):\n",
        "    true_positives = K.sum(K.round(K.clip(y_true * y_pred, 0, 1)))\n",
        "    predicted_positives = K.sum(K.round(K.clip(y_pred, 0, 1)))\n",
        "    precision = true_positives / (predicted_positives + K.epsilon())\n",
        "    return precision\n",
        "\n",
        "def f1_m(y_true, y_pred):\n",
        "    precision = precision_m(y_true, y_pred)\n",
        "    recall = recall_m(y_true, y_pred)\n",
        "    return 2*((precision*recall)/(precision+recall+K.epsilon()))"
      ],
      "execution_count": null,
      "outputs": []
    },
    {
      "cell_type": "code",
      "metadata": {
        "id": "Bl7huBsapW1F",
        "colab": {
          "base_uri": "https://localhost:8080/"
        },
        "outputId": "a6e72dcd-32fa-41b0-fab8-96416d97a975"
      },
      "source": [
        "in_ = Input((50,50,4))\n",
        "model_ = model_build(in_)"
      ],
      "execution_count": null,
      "outputs": [
        {
          "output_type": "stream",
          "name": "stdout",
          "text": [
            "WARNING:tensorflow:From /usr/local/lib/python3.7/dist-packages/keras/backend/tensorflow_backend.py:74: The name tf.get_default_graph is deprecated. Please use tf.compat.v1.get_default_graph instead.\n",
            "\n",
            "WARNING:tensorflow:From /usr/local/lib/python3.7/dist-packages/keras/backend/tensorflow_backend.py:517: The name tf.placeholder is deprecated. Please use tf.compat.v1.placeholder instead.\n",
            "\n",
            "WARNING:tensorflow:From /usr/local/lib/python3.7/dist-packages/keras/backend/tensorflow_backend.py:174: The name tf.get_default_session is deprecated. Please use tf.compat.v1.get_default_session instead.\n",
            "\n",
            "WARNING:tensorflow:From /usr/local/lib/python3.7/dist-packages/keras/backend/tensorflow_backend.py:181: The name tf.ConfigProto is deprecated. Please use tf.compat.v1.ConfigProto instead.\n",
            "\n",
            "WARNING:tensorflow:From /usr/local/lib/python3.7/dist-packages/keras/backend/tensorflow_backend.py:186: The name tf.Session is deprecated. Please use tf.compat.v1.Session instead.\n",
            "\n",
            "WARNING:tensorflow:From /usr/local/lib/python3.7/dist-packages/keras/backend/tensorflow_backend.py:190: The name tf.global_variables is deprecated. Please use tf.compat.v1.global_variables instead.\n",
            "\n",
            "WARNING:tensorflow:From /usr/local/lib/python3.7/dist-packages/keras/backend/tensorflow_backend.py:199: The name tf.is_variable_initialized is deprecated. Please use tf.compat.v1.is_variable_initialized instead.\n",
            "\n",
            "WARNING:tensorflow:From /usr/local/lib/python3.7/dist-packages/keras/backend/tensorflow_backend.py:206: The name tf.variables_initializer is deprecated. Please use tf.compat.v1.variables_initializer instead.\n",
            "\n",
            "WARNING:tensorflow:From /usr/local/lib/python3.7/dist-packages/keras/backend/tensorflow_backend.py:1834: The name tf.nn.fused_batch_norm is deprecated. Please use tf.compat.v1.nn.fused_batch_norm instead.\n",
            "\n",
            "WARNING:tensorflow:From /usr/local/lib/python3.7/dist-packages/keras/backend/tensorflow_backend.py:133: The name tf.placeholder_with_default is deprecated. Please use tf.compat.v1.placeholder_with_default instead.\n",
            "\n",
            "WARNING:tensorflow:From /usr/local/lib/python3.7/dist-packages/keras/backend/tensorflow_backend.py:3976: The name tf.nn.max_pool is deprecated. Please use tf.nn.max_pool2d instead.\n",
            "\n",
            "WARNING:tensorflow:From /usr/local/lib/python3.7/dist-packages/keras/backend/tensorflow_backend.py:4138: The name tf.random_uniform is deprecated. Please use tf.random.uniform instead.\n",
            "\n",
            "WARNING:tensorflow:From /usr/local/lib/python3.7/dist-packages/keras/backend/tensorflow_backend.py:3445: calling dropout (from tensorflow.python.ops.nn_ops) with keep_prob is deprecated and will be removed in a future version.\n",
            "Instructions for updating:\n",
            "Please use `rate` instead of `keep_prob`. Rate should be set to `rate = 1 - keep_prob`.\n"
          ]
        }
      ]
    },
    {
      "cell_type": "code",
      "metadata": {
        "id": "Y9zNnD_C5ymO",
        "colab": {
          "base_uri": "https://localhost:8080/"
        },
        "outputId": "b76fabab-1958-47ac-821c-b1069343d097"
      },
      "source": [
        "model = Model(input = in_, output = model_)"
      ],
      "execution_count": null,
      "outputs": [
        {
          "output_type": "stream",
          "name": "stderr",
          "text": [
            "/usr/local/lib/python3.7/dist-packages/ipykernel_launcher.py:1: UserWarning: Update your `Model` call to the Keras 2 API: `Model(inputs=Tensor(\"in..., outputs=Tensor(\"de...)`\n",
            "  \"\"\"Entry point for launching an IPython kernel.\n"
          ]
        }
      ]
    },
    {
      "cell_type": "code",
      "source": [
        "import numpy as np\n",
        "import pandas as pd\n",
        "import matplotlib.pyplot as plt\n",
        "import seaborn as sns\n",
        "import tensorflow as tf\n",
        "from tensorflow.keras.models import Sequential\n",
        "from tensorflow.keras.layers import Dense, Conv2D , MaxPool2D , Flatten , Dropout , BatchNormalization, GlobalAveragePooling2D\n",
        "from tensorflow.keras.preprocessing.image import ImageDataGenerator, array_to_img, img_to_array\n",
        "from sklearn.model_selection import train_test_split\n",
        "from sklearn.metrics import classification_report,confusion_matrix\n",
        "from tensorflow.keras.callbacks import ReduceLROnPlateau\n",
        "import cv2\n",
        "import os"
      ],
      "metadata": {
        "id": "DUt-QaWsTpn6"
      },
      "execution_count": null,
      "outputs": []
    },
    {
      "cell_type": "code",
      "source": [
        "METRICS = [\n",
        "      tf.keras.metrics.TruePositives(name='tp'),\n",
        "      tf.keras.metrics.FalsePositives(name='fp'),\n",
        "      tf.keras.metrics.TrueNegatives(name='tn'),\n",
        "      tf.keras.metrics.FalseNegatives(name='fn'), \n",
        "      tf.keras.metrics.BinaryAccuracy(name='accuracy'),\n",
        "      tf.keras.metrics.Precision(name='precision'),\n",
        "      tf.keras.metrics.Recall(name='recall'),\n",
        "      tf.keras.metrics.AUC(name='roc', curve='ROC'), # roc curve\n",
        "      tf.keras.metrics.AUC(name='prc', curve='PR') # precision-recall curve\n",
        "]"
      ],
      "metadata": {
        "id": "DO3eaGiPThhU",
        "colab": {
          "base_uri": "https://localhost:8080/"
        },
        "outputId": "dc41598b-7117-4047-c9bc-bcdba279bfd2"
      },
      "execution_count": null,
      "outputs": [
        {
          "output_type": "stream",
          "name": "stdout",
          "text": [
            "WARNING:tensorflow:From /usr/local/lib/python3.7/dist-packages/tensorflow_core/python/ops/resource_variable_ops.py:1630: calling BaseResourceVariable.__init__ (from tensorflow.python.ops.resource_variable_ops) with constraint is deprecated and will be removed in a future version.\n",
            "Instructions for updating:\n",
            "If using Keras pass *_constraint arguments to layers.\n"
          ]
        }
      ]
    },
    {
      "cell_type": "code",
      "source": [
        "from sklearn.metrics import classification_report,confusion_matrix\n",
        "from keras.callbacks import ReduceLROnPlateau"
      ],
      "metadata": {
        "id": "gUOpqLpny1OI"
      },
      "execution_count": null,
      "outputs": []
    },
    {
      "cell_type": "code",
      "source": [
        "learning_rate_reduction = ReduceLROnPlateau(monitor='val_acc', patience=2, verbose=1, factor=0.8)"
      ],
      "metadata": {
        "id": "b-9V323DyoQg"
      },
      "execution_count": null,
      "outputs": []
    },
    {
      "cell_type": "code",
      "metadata": {
        "id": "DkpAkRI056K7",
        "colab": {
          "base_uri": "https://localhost:8080/"
        },
        "outputId": "d661c24a-1257-4572-b473-29a0593be62e"
      },
      "source": [
        "           \n",
        "model.compile(optimizer=opt, loss='binary_crossentropy', metrics=['accuracy',precision_m,recall_m,f1_m])"
      ],
      "execution_count": null,
      "outputs": [
        {
          "output_type": "stream",
          "name": "stdout",
          "text": [
            "WARNING:tensorflow:From /usr/local/lib/python3.7/dist-packages/keras/optimizers.py:790: The name tf.train.Optimizer is deprecated. Please use tf.compat.v1.train.Optimizer instead.\n",
            "\n",
            "WARNING:tensorflow:From /usr/local/lib/python3.7/dist-packages/keras/backend/tensorflow_backend.py:3376: The name tf.log is deprecated. Please use tf.math.log instead.\n",
            "\n",
            "WARNING:tensorflow:From /usr/local/lib/python3.7/dist-packages/tensorflow_core/python/ops/nn_impl.py:183: where (from tensorflow.python.ops.array_ops) is deprecated and will be removed in a future version.\n",
            "Instructions for updating:\n",
            "Use tf.where in 2.0, which has the same broadcast rule as np.where\n"
          ]
        }
      ]
    },
    {
      "cell_type": "code",
      "metadata": {
        "id": "9anher7jpaFM",
        "colab": {
          "base_uri": "https://localhost:8080/"
        },
        "outputId": "72de0fe8-10c6-46e3-e994-d3bbb1292c8d"
      },
      "source": [
        "history =model.fit_generator(batch_generator(df_train, 128,len(df_train)//128),\\\n",
        "                    steps_per_epoch=len(df_train)//128,epochs=70,\\\n",
        "                    verbose=1,validation_data=batch_generator(df_val, 64,len(df_val)//64),validation_steps=len(df_val)//64)"
      ],
      "execution_count": null,
      "outputs": [
        {
          "output_type": "stream",
          "name": "stdout",
          "text": [
            "WARNING:tensorflow:From /usr/local/lib/python3.7/dist-packages/keras/backend/tensorflow_backend.py:986: The name tf.assign_add is deprecated. Please use tf.compat.v1.assign_add instead.\n",
            "\n",
            "WARNING:tensorflow:From /usr/local/lib/python3.7/dist-packages/keras/backend/tensorflow_backend.py:973: The name tf.assign is deprecated. Please use tf.compat.v1.assign instead.\n",
            "\n",
            "Epoch 1/70\n",
            "36/36 [==============================] - 80s 2s/step - loss: 0.6515 - acc: 0.8260 - precision_m: 0.8781 - recall_m: 0.8845 - f1_m: 0.8724 - val_loss: 1.0154 - val_acc: 0.4653 - val_precision_m: 0.9921 - val_recall_m: 0.2985 - val_f1_m: 0.4563\n",
            "Epoch 2/70\n",
            "36/36 [==============================] - 69s 2s/step - loss: 0.2449 - acc: 0.9021 - precision_m: 0.9307 - recall_m: 0.9372 - f1_m: 0.9326 - val_loss: 1.0494 - val_acc: 0.6059 - val_precision_m: 0.9954 - val_recall_m: 0.4844 - val_f1_m: 0.6490\n",
            "Epoch 3/70\n",
            "36/36 [==============================] - 70s 2s/step - loss: 0.2127 - acc: 0.9123 - precision_m: 0.9382 - recall_m: 0.9429 - f1_m: 0.9396 - val_loss: 0.6374 - val_acc: 0.7639 - val_precision_m: 0.9837 - val_recall_m: 0.7034 - val_f1_m: 0.8192\n",
            "Epoch 4/70\n",
            "36/36 [==============================] - 70s 2s/step - loss: 0.1756 - acc: 0.9338 - precision_m: 0.9532 - recall_m: 0.9570 - f1_m: 0.9545 - val_loss: 0.2814 - val_acc: 0.8785 - val_precision_m: 0.9718 - val_recall_m: 0.8677 - val_f1_m: 0.9160\n",
            "Epoch 5/70\n",
            "36/36 [==============================] - 70s 2s/step - loss: 0.1554 - acc: 0.9388 - precision_m: 0.9531 - recall_m: 0.9638 - f1_m: 0.9579 - val_loss: 0.2766 - val_acc: 0.8785 - val_precision_m: 0.9575 - val_recall_m: 0.8801 - val_f1_m: 0.9159\n",
            "Epoch 6/70\n",
            "36/36 [==============================] - 70s 2s/step - loss: 0.1366 - acc: 0.9510 - precision_m: 0.9649 - recall_m: 0.9683 - f1_m: 0.9662 - val_loss: 0.2625 - val_acc: 0.8993 - val_precision_m: 0.9201 - val_recall_m: 0.9511 - val_f1_m: 0.9346\n",
            "Epoch 7/70\n",
            "36/36 [==============================] - 70s 2s/step - loss: 0.1058 - acc: 0.9620 - precision_m: 0.9714 - recall_m: 0.9767 - f1_m: 0.9738 - val_loss: 0.4507 - val_acc: 0.8229 - val_precision_m: 0.9804 - val_recall_m: 0.7861 - val_f1_m: 0.8714\n",
            "Epoch 8/70\n",
            "36/36 [==============================] - 70s 2s/step - loss: 0.0987 - acc: 0.9607 - precision_m: 0.9695 - recall_m: 0.9772 - f1_m: 0.9731 - val_loss: 0.4072 - val_acc: 0.8576 - val_precision_m: 0.9770 - val_recall_m: 0.8344 - val_f1_m: 0.8987\n",
            "Epoch 9/70\n",
            "36/36 [==============================] - 71s 2s/step - loss: 0.0986 - acc: 0.9651 - precision_m: 0.9741 - recall_m: 0.9784 - f1_m: 0.9760 - val_loss: 0.3997 - val_acc: 0.8872 - val_precision_m: 0.9773 - val_recall_m: 0.8731 - val_f1_m: 0.9217\n",
            "Epoch 10/70\n",
            "36/36 [==============================] - 70s 2s/step - loss: 0.0904 - acc: 0.9653 - precision_m: 0.9732 - recall_m: 0.9793 - f1_m: 0.9760 - val_loss: 0.7796 - val_acc: 0.8003 - val_precision_m: 0.9797 - val_recall_m: 0.7564 - val_f1_m: 0.8517\n",
            "Epoch 11/70\n",
            "36/36 [==============================] - 70s 2s/step - loss: 0.0863 - acc: 0.9692 - precision_m: 0.9769 - recall_m: 0.9814 - f1_m: 0.9788 - val_loss: 0.5826 - val_acc: 0.8316 - val_precision_m: 0.9700 - val_recall_m: 0.8060 - val_f1_m: 0.8797\n",
            "Epoch 12/70\n",
            "36/36 [==============================] - 70s 2s/step - loss: 0.0603 - acc: 0.9783 - precision_m: 0.9841 - recall_m: 0.9863 - f1_m: 0.9851 - val_loss: 0.7122 - val_acc: 0.8368 - val_precision_m: 0.9755 - val_recall_m: 0.8079 - val_f1_m: 0.8823\n",
            "Epoch 13/70\n",
            "36/36 [==============================] - 70s 2s/step - loss: 0.0542 - acc: 0.9824 - precision_m: 0.9863 - recall_m: 0.9900 - f1_m: 0.9880 - val_loss: 1.7059 - val_acc: 0.6944 - val_precision_m: 1.0000 - val_recall_m: 0.5998 - val_f1_m: 0.7482\n",
            "Epoch 14/70\n",
            "36/36 [==============================] - 70s 2s/step - loss: 0.0764 - acc: 0.9692 - precision_m: 0.9769 - recall_m: 0.9815 - f1_m: 0.9788 - val_loss: 1.2261 - val_acc: 0.7795 - val_precision_m: 0.9843 - val_recall_m: 0.7251 - val_f1_m: 0.8323\n",
            "Epoch 15/70\n",
            "36/36 [==============================] - 70s 2s/step - loss: 0.0743 - acc: 0.9714 - precision_m: 0.9794 - recall_m: 0.9819 - f1_m: 0.9802 - val_loss: 0.7650 - val_acc: 0.8125 - val_precision_m: 0.9802 - val_recall_m: 0.7703 - val_f1_m: 0.8617\n",
            "Epoch 16/70\n",
            "36/36 [==============================] - 70s 2s/step - loss: 0.0465 - acc: 0.9837 - precision_m: 0.9867 - recall_m: 0.9912 - f1_m: 0.9888 - val_loss: 0.4970 - val_acc: 0.8872 - val_precision_m: 0.9612 - val_recall_m: 0.8897 - val_f1_m: 0.9231\n",
            "Epoch 17/70\n",
            "36/36 [==============================] - 71s 2s/step - loss: 0.0514 - acc: 0.9811 - precision_m: 0.9851 - recall_m: 0.9891 - f1_m: 0.9869 - val_loss: 0.8655 - val_acc: 0.8021 - val_precision_m: 0.9823 - val_recall_m: 0.7535 - val_f1_m: 0.8518\n",
            "Epoch 18/70\n",
            "36/36 [==============================] - 72s 2s/step - loss: 0.0281 - acc: 0.9902 - precision_m: 0.9920 - recall_m: 0.9949 - f1_m: 0.9934 - val_loss: 0.9800 - val_acc: 0.8264 - val_precision_m: 0.9812 - val_recall_m: 0.7890 - val_f1_m: 0.8736\n",
            "Epoch 19/70\n",
            "36/36 [==============================] - 72s 2s/step - loss: 0.0294 - acc: 0.9896 - precision_m: 0.9925 - recall_m: 0.9932 - f1_m: 0.9928 - val_loss: 0.5033 - val_acc: 0.9045 - val_precision_m: 0.9528 - val_recall_m: 0.9201 - val_f1_m: 0.9353\n",
            "Epoch 20/70\n",
            "36/36 [==============================] - 72s 2s/step - loss: 0.0463 - acc: 0.9839 - precision_m: 0.9888 - recall_m: 0.9890 - f1_m: 0.9888 - val_loss: 0.6314 - val_acc: 0.8611 - val_precision_m: 0.9503 - val_recall_m: 0.8635 - val_f1_m: 0.9035\n",
            "Epoch 21/70\n",
            "36/36 [==============================] - 72s 2s/step - loss: 0.0289 - acc: 0.9905 - precision_m: 0.9910 - recall_m: 0.9958 - f1_m: 0.9933 - val_loss: 0.5692 - val_acc: 0.8958 - val_precision_m: 0.9500 - val_recall_m: 0.9121 - val_f1_m: 0.9300\n",
            "Epoch 22/70\n",
            "36/36 [==============================] - 71s 2s/step - loss: 0.0173 - acc: 0.9950 - precision_m: 0.9964 - recall_m: 0.9968 - f1_m: 0.9966 - val_loss: 0.6155 - val_acc: 0.9010 - val_precision_m: 0.9061 - val_recall_m: 0.9711 - val_f1_m: 0.9365\n",
            "Epoch 23/70\n",
            "36/36 [==============================] - 72s 2s/step - loss: 0.0233 - acc: 0.9913 - precision_m: 0.9939 - recall_m: 0.9942 - f1_m: 0.9940 - val_loss: 0.7956 - val_acc: 0.8715 - val_precision_m: 0.9696 - val_recall_m: 0.8592 - val_f1_m: 0.9104\n",
            "Epoch 24/70\n",
            "36/36 [==============================] - 72s 2s/step - loss: 0.0317 - acc: 0.9881 - precision_m: 0.9898 - recall_m: 0.9936 - f1_m: 0.9917 - val_loss: 0.6398 - val_acc: 0.8785 - val_precision_m: 0.9634 - val_recall_m: 0.8755 - val_f1_m: 0.9167\n",
            "Epoch 25/70\n",
            "36/36 [==============================] - 70s 2s/step - loss: 0.0229 - acc: 0.9922 - precision_m: 0.9947 - recall_m: 0.9947 - f1_m: 0.9947 - val_loss: 0.7010 - val_acc: 0.8628 - val_precision_m: 0.9716 - val_recall_m: 0.8462 - val_f1_m: 0.9037\n",
            "Epoch 26/70\n",
            "36/36 [==============================] - 69s 2s/step - loss: 0.0118 - acc: 0.9963 - precision_m: 0.9973 - recall_m: 0.9976 - f1_m: 0.9975 - val_loss: 0.6772 - val_acc: 0.8819 - val_precision_m: 0.9394 - val_recall_m: 0.9063 - val_f1_m: 0.9210\n",
            "Epoch 27/70\n",
            "36/36 [==============================] - 69s 2s/step - loss: 0.0156 - acc: 0.9944 - precision_m: 0.9961 - recall_m: 0.9962 - f1_m: 0.9961 - val_loss: 0.7400 - val_acc: 0.8698 - val_precision_m: 0.9694 - val_recall_m: 0.8583 - val_f1_m: 0.9097\n",
            "Epoch 28/70\n",
            "36/36 [==============================] - 69s 2s/step - loss: 0.0130 - acc: 0.9941 - precision_m: 0.9954 - recall_m: 0.9968 - f1_m: 0.9961 - val_loss: 0.8901 - val_acc: 0.8507 - val_precision_m: 0.9636 - val_recall_m: 0.8368 - val_f1_m: 0.8945\n",
            "Epoch 29/70\n",
            "36/36 [==============================] - 69s 2s/step - loss: 0.0329 - acc: 0.9883 - precision_m: 0.9909 - recall_m: 0.9932 - f1_m: 0.9919 - val_loss: 0.6919 - val_acc: 0.8767 - val_precision_m: 0.9320 - val_recall_m: 0.9049 - val_f1_m: 0.9172\n",
            "Epoch 30/70\n",
            "36/36 [==============================] - 69s 2s/step - loss: 0.0250 - acc: 0.9907 - precision_m: 0.9941 - recall_m: 0.9933 - f1_m: 0.9936 - val_loss: 0.6419 - val_acc: 0.8837 - val_precision_m: 0.9072 - val_recall_m: 0.9437 - val_f1_m: 0.9243\n",
            "Epoch 31/70\n",
            "36/36 [==============================] - 71s 2s/step - loss: 0.0238 - acc: 0.9909 - precision_m: 0.9936 - recall_m: 0.9938 - f1_m: 0.9937 - val_loss: 0.5209 - val_acc: 0.8802 - val_precision_m: 0.9428 - val_recall_m: 0.8976 - val_f1_m: 0.9188\n",
            "Epoch 32/70\n",
            "36/36 [==============================] - 72s 2s/step - loss: 0.0190 - acc: 0.9939 - precision_m: 0.9958 - recall_m: 0.9958 - f1_m: 0.9958 - val_loss: 0.5759 - val_acc: 0.9097 - val_precision_m: 0.9369 - val_recall_m: 0.9457 - val_f1_m: 0.9405\n",
            "Epoch 33/70\n",
            "36/36 [==============================] - 72s 2s/step - loss: 0.0158 - acc: 0.9935 - precision_m: 0.9958 - recall_m: 0.9953 - f1_m: 0.9955 - val_loss: 0.6332 - val_acc: 0.8819 - val_precision_m: 0.9224 - val_recall_m: 0.9241 - val_f1_m: 0.9226\n",
            "Epoch 34/70\n",
            "36/36 [==============================] - 72s 2s/step - loss: 0.0135 - acc: 0.9954 - precision_m: 0.9970 - recall_m: 0.9967 - f1_m: 0.9969 - val_loss: 0.6226 - val_acc: 0.8924 - val_precision_m: 0.9466 - val_recall_m: 0.9129 - val_f1_m: 0.9280\n",
            "Epoch 35/70\n",
            "36/36 [==============================] - 72s 2s/step - loss: 0.0142 - acc: 0.9944 - precision_m: 0.9965 - recall_m: 0.9959 - f1_m: 0.9962 - val_loss: 0.6640 - val_acc: 0.8889 - val_precision_m: 0.9346 - val_recall_m: 0.9185 - val_f1_m: 0.9260\n",
            "Epoch 36/70\n",
            "36/36 [==============================] - 72s 2s/step - loss: 0.0256 - acc: 0.9915 - precision_m: 0.9942 - recall_m: 0.9939 - f1_m: 0.9940 - val_loss: 0.5881 - val_acc: 0.8941 - val_precision_m: 0.9312 - val_recall_m: 0.9303 - val_f1_m: 0.9300\n",
            "Epoch 37/70\n",
            "36/36 [==============================] - 72s 2s/step - loss: 0.0181 - acc: 0.9931 - precision_m: 0.9936 - recall_m: 0.9968 - f1_m: 0.9951 - val_loss: 1.2426 - val_acc: 0.8073 - val_precision_m: 0.9853 - val_recall_m: 0.7581 - val_f1_m: 0.8556\n",
            "Epoch 38/70\n",
            "36/36 [==============================] - 72s 2s/step - loss: 0.0212 - acc: 0.9926 - precision_m: 0.9946 - recall_m: 0.9953 - f1_m: 0.9949 - val_loss: 0.6974 - val_acc: 0.8785 - val_precision_m: 0.9428 - val_recall_m: 0.8952 - val_f1_m: 0.9173\n",
            "Epoch 39/70\n",
            "36/36 [==============================] - 72s 2s/step - loss: 0.0200 - acc: 0.9928 - precision_m: 0.9950 - recall_m: 0.9952 - f1_m: 0.9951 - val_loss: 0.6009 - val_acc: 0.8889 - val_precision_m: 0.9364 - val_recall_m: 0.9167 - val_f1_m: 0.9259\n",
            "Epoch 40/70\n",
            "36/36 [==============================] - 72s 2s/step - loss: 0.0204 - acc: 0.9935 - precision_m: 0.9949 - recall_m: 0.9961 - f1_m: 0.9955 - val_loss: 0.8372 - val_acc: 0.8646 - val_precision_m: 0.9641 - val_recall_m: 0.8554 - val_f1_m: 0.9054\n",
            "Epoch 41/70\n",
            "36/36 [==============================] - 72s 2s/step - loss: 0.0123 - acc: 0.9959 - precision_m: 0.9964 - recall_m: 0.9979 - f1_m: 0.9972 - val_loss: 0.8462 - val_acc: 0.8733 - val_precision_m: 0.9670 - val_recall_m: 0.8650 - val_f1_m: 0.9120\n",
            "Epoch 42/70\n",
            "36/36 [==============================] - 72s 2s/step - loss: 0.0214 - acc: 0.9924 - precision_m: 0.9947 - recall_m: 0.9949 - f1_m: 0.9947 - val_loss: 0.8134 - val_acc: 0.8941 - val_precision_m: 0.8863 - val_recall_m: 0.9867 - val_f1_m: 0.9333\n",
            "Epoch 43/70\n",
            "36/36 [==============================] - 72s 2s/step - loss: 0.0148 - acc: 0.9954 - precision_m: 0.9966 - recall_m: 0.9972 - f1_m: 0.9969 - val_loss: 0.7692 - val_acc: 0.8854 - val_precision_m: 0.9517 - val_recall_m: 0.8961 - val_f1_m: 0.9219\n",
            "Epoch 44/70\n",
            "36/36 [==============================] - 72s 2s/step - loss: 0.0133 - acc: 0.9950 - precision_m: 0.9968 - recall_m: 0.9966 - f1_m: 0.9967 - val_loss: 0.8637 - val_acc: 0.8663 - val_precision_m: 0.9596 - val_recall_m: 0.8620 - val_f1_m: 0.9068\n",
            "Epoch 45/70\n",
            "36/36 [==============================] - 72s 2s/step - loss: 0.0281 - acc: 0.9900 - precision_m: 0.9937 - recall_m: 0.9929 - f1_m: 0.9932 - val_loss: 0.6649 - val_acc: 0.9028 - val_precision_m: 0.9202 - val_recall_m: 0.9550 - val_f1_m: 0.9368\n",
            "Epoch 46/70\n",
            "36/36 [==============================] - 72s 2s/step - loss: 0.0291 - acc: 0.9874 - precision_m: 0.9910 - recall_m: 0.9917 - f1_m: 0.9912 - val_loss: 0.7007 - val_acc: 0.8698 - val_precision_m: 0.9600 - val_recall_m: 0.8670 - val_f1_m: 0.9098\n",
            "Epoch 47/70\n",
            "36/36 [==============================] - 72s 2s/step - loss: 0.0150 - acc: 0.9946 - precision_m: 0.9962 - recall_m: 0.9966 - f1_m: 0.9963 - val_loss: 1.8403 - val_acc: 0.7604 - val_precision_m: 0.9850 - val_recall_m: 0.6973 - val_f1_m: 0.8155\n",
            "Epoch 48/70\n",
            "36/36 [==============================] - 72s 2s/step - loss: 0.0123 - acc: 0.9948 - precision_m: 0.9961 - recall_m: 0.9967 - f1_m: 0.9964 - val_loss: 0.7649 - val_acc: 0.8785 - val_precision_m: 0.9579 - val_recall_m: 0.8806 - val_f1_m: 0.9167\n",
            "Epoch 49/70\n",
            "36/36 [==============================] - 72s 2s/step - loss: 0.0128 - acc: 0.9946 - precision_m: 0.9965 - recall_m: 0.9962 - f1_m: 0.9963 - val_loss: 1.5588 - val_acc: 0.7917 - val_precision_m: 0.9733 - val_recall_m: 0.7474 - val_f1_m: 0.8442\n",
            "Epoch 50/70\n",
            "36/36 [==============================] - 72s 2s/step - loss: 0.0153 - acc: 0.9954 - precision_m: 0.9957 - recall_m: 0.9980 - f1_m: 0.9968 - val_loss: 0.8660 - val_acc: 0.8715 - val_precision_m: 0.9510 - val_recall_m: 0.8781 - val_f1_m: 0.9117\n",
            "Epoch 51/70\n",
            "36/36 [==============================] - 72s 2s/step - loss: 0.0148 - acc: 0.9946 - precision_m: 0.9958 - recall_m: 0.9968 - f1_m: 0.9963 - val_loss: 1.1717 - val_acc: 0.8368 - val_precision_m: 0.9702 - val_recall_m: 0.8120 - val_f1_m: 0.8829\n",
            "Epoch 52/70\n",
            "36/36 [==============================] - 72s 2s/step - loss: 0.0133 - acc: 0.9950 - precision_m: 0.9970 - recall_m: 0.9962 - f1_m: 0.9966 - val_loss: 0.8409 - val_acc: 0.8767 - val_precision_m: 0.9462 - val_recall_m: 0.8892 - val_f1_m: 0.9155\n",
            "Epoch 53/70\n",
            "36/36 [==============================] - 80s 2s/step - loss: 0.0317 - acc: 0.9896 - precision_m: 0.9933 - recall_m: 0.9925 - f1_m: 0.9928 - val_loss: 0.9957 - val_acc: 0.8229 - val_precision_m: 0.9753 - val_recall_m: 0.7892 - val_f1_m: 0.8708\n",
            "Epoch 54/70\n",
            "36/36 [==============================] - 72s 2s/step - loss: 0.0117 - acc: 0.9961 - precision_m: 0.9970 - recall_m: 0.9976 - f1_m: 0.9973 - val_loss: 0.6676 - val_acc: 0.8993 - val_precision_m: 0.9460 - val_recall_m: 0.9209 - val_f1_m: 0.9320\n",
            "Epoch 55/70\n",
            "36/36 [==============================] - 72s 2s/step - loss: 0.0057 - acc: 0.9980 - precision_m: 0.9991 - recall_m: 0.9982 - f1_m: 0.9986 - val_loss: 0.9128 - val_acc: 0.8785 - val_precision_m: 0.9554 - val_recall_m: 0.8825 - val_f1_m: 0.9161\n",
            "Epoch 56/70\n",
            "36/36 [==============================] - 72s 2s/step - loss: 0.0086 - acc: 0.9961 - precision_m: 0.9970 - recall_m: 0.9977 - f1_m: 0.9973 - val_loss: 1.1173 - val_acc: 0.8455 - val_precision_m: 0.9560 - val_recall_m: 0.8369 - val_f1_m: 0.8909\n",
            "Epoch 57/70\n",
            "36/36 [==============================] - 72s 2s/step - loss: 0.0042 - acc: 0.9983 - precision_m: 0.9985 - recall_m: 0.9991 - f1_m: 0.9988 - val_loss: 0.7817 - val_acc: 0.8958 - val_precision_m: 0.9377 - val_recall_m: 0.9254 - val_f1_m: 0.9305\n",
            "Epoch 58/70\n",
            "36/36 [==============================] - 72s 2s/step - loss: 0.0030 - acc: 0.9993 - precision_m: 0.9994 - recall_m: 0.9997 - f1_m: 0.9995 - val_loss: 0.8589 - val_acc: 0.8767 - val_precision_m: 0.9511 - val_recall_m: 0.8845 - val_f1_m: 0.9152\n",
            "Epoch 59/70\n",
            "36/36 [==============================] - 72s 2s/step - loss: 0.0044 - acc: 0.9989 - precision_m: 0.9988 - recall_m: 0.9997 - f1_m: 0.9992 - val_loss: 1.1463 - val_acc: 0.8611 - val_precision_m: 0.9818 - val_recall_m: 0.8349 - val_f1_m: 0.9014\n",
            "Epoch 60/70\n",
            "36/36 [==============================] - 72s 2s/step - loss: 0.0022 - acc: 0.9993 - precision_m: 0.9994 - recall_m: 0.9997 - f1_m: 0.9995 - val_loss: 1.1413 - val_acc: 0.8628 - val_precision_m: 0.9824 - val_recall_m: 0.8361 - val_f1_m: 0.9024\n",
            "Epoch 61/70\n",
            "36/36 [==============================] - 72s 2s/step - loss: 0.0014 - acc: 0.9998 - precision_m: 1.0000 - recall_m: 0.9997 - f1_m: 0.9999 - val_loss: 1.0585 - val_acc: 0.8698 - val_precision_m: 0.9774 - val_recall_m: 0.8496 - val_f1_m: 0.9085\n",
            "Epoch 62/70\n",
            "36/36 [==============================] - 72s 2s/step - loss: 0.0026 - acc: 0.9993 - precision_m: 0.9997 - recall_m: 0.9994 - f1_m: 0.9996 - val_loss: 0.7691 - val_acc: 0.9010 - val_precision_m: 0.9548 - val_recall_m: 0.9140 - val_f1_m: 0.9332\n",
            "Epoch 63/70\n",
            "36/36 [==============================] - 72s 2s/step - loss: 0.0013 - acc: 0.9996 - precision_m: 0.9997 - recall_m: 0.9997 - f1_m: 0.9997 - val_loss: 0.7777 - val_acc: 0.9010 - val_precision_m: 0.9397 - val_recall_m: 0.9302 - val_f1_m: 0.9340\n",
            "Epoch 64/70\n",
            "36/36 [==============================] - 72s 2s/step - loss: 2.9764e-04 - acc: 1.0000 - precision_m: 1.0000 - recall_m: 1.0000 - f1_m: 1.0000 - val_loss: 0.7954 - val_acc: 0.9010 - val_precision_m: 0.9440 - val_recall_m: 0.9260 - val_f1_m: 0.9339\n",
            "Epoch 65/70\n",
            "36/36 [==============================] - 72s 2s/step - loss: 9.5436e-05 - acc: 1.0000 - precision_m: 1.0000 - recall_m: 1.0000 - f1_m: 1.0000 - val_loss: 0.7699 - val_acc: 0.9080 - val_precision_m: 0.9447 - val_recall_m: 0.9352 - val_f1_m: 0.9389\n",
            "Epoch 66/70\n",
            "36/36 [==============================] - 72s 2s/step - loss: 7.8797e-05 - acc: 1.0000 - precision_m: 1.0000 - recall_m: 1.0000 - f1_m: 1.0000 - val_loss: 0.7544 - val_acc: 0.9097 - val_precision_m: 0.9448 - val_recall_m: 0.9374 - val_f1_m: 0.9400\n",
            "Epoch 67/70\n",
            "36/36 [==============================] - 72s 2s/step - loss: 5.0622e-05 - acc: 1.0000 - precision_m: 1.0000 - recall_m: 1.0000 - f1_m: 1.0000 - val_loss: 0.7583 - val_acc: 0.9080 - val_precision_m: 0.9447 - val_recall_m: 0.9352 - val_f1_m: 0.9389\n",
            "Epoch 68/70\n",
            "36/36 [==============================] - 72s 2s/step - loss: 2.2223e-05 - acc: 1.0000 - precision_m: 1.0000 - recall_m: 1.0000 - f1_m: 1.0000 - val_loss: 0.7577 - val_acc: 0.9097 - val_precision_m: 0.9471 - val_recall_m: 0.9352 - val_f1_m: 0.9400\n",
            "Epoch 69/70\n",
            "36/36 [==============================] - 72s 2s/step - loss: 3.5655e-05 - acc: 1.0000 - precision_m: 1.0000 - recall_m: 1.0000 - f1_m: 1.0000 - val_loss: 0.7686 - val_acc: 0.9097 - val_precision_m: 0.9468 - val_recall_m: 0.9352 - val_f1_m: 0.9401\n",
            "Epoch 70/70\n",
            "36/36 [==============================] - 72s 2s/step - loss: 2.6027e-05 - acc: 1.0000 - precision_m: 1.0000 - recall_m: 1.0000 - f1_m: 1.0000 - val_loss: 0.7712 - val_acc: 0.9115 - val_precision_m: 0.9491 - val_recall_m: 0.9352 - val_f1_m: 0.9412\n"
          ]
        }
      ]
    },
    {
      "cell_type": "markdown",
      "source": [
        ""
      ],
      "metadata": {
        "id": "mx65hm9Ad-BZ"
      }
    },
    {
      "cell_type": "markdown",
      "metadata": {
        "id": "jxJ-xRy2mqWA"
      },
      "source": [
        ""
      ]
    },
    {
      "cell_type": "code",
      "metadata": {
        "id": "IqHWpWRWppOC",
        "colab": {
          "base_uri": "https://localhost:8080/"
        },
        "outputId": "f84f053d-fcb8-4521-e9be-0442303d6664"
      },
      "source": [
        "model.summary()"
      ],
      "execution_count": null,
      "outputs": [
        {
          "output_type": "stream",
          "name": "stdout",
          "text": [
            "__________________________________________________________________________________________________\n",
            "Layer (type)                    Output Shape         Param #     Connected to                     \n",
            "==================================================================================================\n",
            "input_1 (InputLayer)            (None, 50, 50, 4)    0                                            \n",
            "__________________________________________________________________________________________________\n",
            "quaternion_conv2d_1 (Quaternion (None, 50, 50, 64)   128         input_1[0][0]                    \n",
            "__________________________________________________________________________________________________\n",
            "batch_normalization_1 (BatchNor (None, 50, 50, 64)   256         quaternion_conv2d_1[0][0]        \n",
            "__________________________________________________________________________________________________\n",
            "re_lu_1 (ReLU)                  (None, 50, 50, 64)   0           batch_normalization_1[0][0]      \n",
            "__________________________________________________________________________________________________\n",
            "channel_attention_1 (ChannelAtt (None, 50, 50, 64)   0           re_lu_1[0][0]                    \n",
            "__________________________________________________________________________________________________\n",
            "spatial_attention_1 (SpatialAtt (None, 50, 50, 64)   0           channel_attention_1[0][0]        \n",
            "__________________________________________________________________________________________________\n",
            "max_pooling2d_1 (MaxPooling2D)  (None, 25, 25, 64)   0           spatial_attention_1[0][0]        \n",
            "__________________________________________________________________________________________________\n",
            "quaternion_conv2d_2 (Quaternion (None, 25, 25, 64)   1088        max_pooling2d_1[0][0]            \n",
            "__________________________________________________________________________________________________\n",
            "batch_normalization_2 (BatchNor (None, 25, 25, 64)   256         quaternion_conv2d_2[0][0]        \n",
            "__________________________________________________________________________________________________\n",
            "elu_1 (ELU)                     (None, 25, 25, 64)   0           batch_normalization_2[0][0]      \n",
            "__________________________________________________________________________________________________\n",
            "quaternion_conv2d_3 (Quaternion (None, 25, 25, 64)   1088        elu_1[0][0]                      \n",
            "__________________________________________________________________________________________________\n",
            "batch_normalization_3 (BatchNor (None, 25, 25, 64)   256         quaternion_conv2d_3[0][0]        \n",
            "__________________________________________________________________________________________________\n",
            "elu_2 (ELU)                     (None, 25, 25, 64)   0           batch_normalization_3[0][0]      \n",
            "__________________________________________________________________________________________________\n",
            "quaternion_conv2d_4 (Quaternion (None, 25, 25, 128)  2176        elu_2[0][0]                      \n",
            "__________________________________________________________________________________________________\n",
            "quaternion_conv2d_5 (Quaternion (None, 25, 25, 128)  2176        max_pooling2d_1[0][0]            \n",
            "__________________________________________________________________________________________________\n",
            "batch_normalization_4 (BatchNor (None, 25, 25, 128)  512         quaternion_conv2d_4[0][0]        \n",
            "__________________________________________________________________________________________________\n",
            "batch_normalization_5 (BatchNor (None, 25, 25, 128)  512         quaternion_conv2d_5[0][0]        \n",
            "__________________________________________________________________________________________________\n",
            "elu_3 (ELU)                     (None, 25, 25, 128)  0           batch_normalization_4[0][0]      \n",
            "__________________________________________________________________________________________________\n",
            "add_1 (Add)                     (None, 25, 25, 128)  0           batch_normalization_5[0][0]      \n",
            "                                                                 elu_3[0][0]                      \n",
            "__________________________________________________________________________________________________\n",
            "re_lu_2 (ReLU)                  (None, 25, 25, 128)  0           add_1[0][0]                      \n",
            "__________________________________________________________________________________________________\n",
            "max_pooling2d_2 (MaxPooling2D)  (None, 12, 12, 128)  0           re_lu_2[0][0]                    \n",
            "__________________________________________________________________________________________________\n",
            "channel_attention_2 (ChannelAtt (None, 12, 12, 128)  0           max_pooling2d_2[0][0]            \n",
            "__________________________________________________________________________________________________\n",
            "spatial_attention_2 (SpatialAtt (None, 12, 12, 128)  0           channel_attention_2[0][0]        \n",
            "__________________________________________________________________________________________________\n",
            "quaternion_conv2d_6 (Quaternion (None, 12, 12, 128)  4224        spatial_attention_2[0][0]        \n",
            "__________________________________________________________________________________________________\n",
            "batch_normalization_6 (BatchNor (None, 12, 12, 128)  512         quaternion_conv2d_6[0][0]        \n",
            "__________________________________________________________________________________________________\n",
            "elu_4 (ELU)                     (None, 12, 12, 128)  0           batch_normalization_6[0][0]      \n",
            "__________________________________________________________________________________________________\n",
            "quaternion_conv2d_7 (Quaternion (None, 12, 12, 128)  4224        elu_4[0][0]                      \n",
            "__________________________________________________________________________________________________\n",
            "batch_normalization_7 (BatchNor (None, 12, 12, 128)  512         quaternion_conv2d_7[0][0]        \n",
            "__________________________________________________________________________________________________\n",
            "elu_5 (ELU)                     (None, 12, 12, 128)  0           batch_normalization_7[0][0]      \n",
            "__________________________________________________________________________________________________\n",
            "quaternion_conv2d_8 (Quaternion (None, 12, 12, 256)  8448        elu_5[0][0]                      \n",
            "__________________________________________________________________________________________________\n",
            "quaternion_conv2d_9 (Quaternion (None, 12, 12, 256)  8448        spatial_attention_2[0][0]        \n",
            "__________________________________________________________________________________________________\n",
            "batch_normalization_8 (BatchNor (None, 12, 12, 256)  1024        quaternion_conv2d_8[0][0]        \n",
            "__________________________________________________________________________________________________\n",
            "batch_normalization_9 (BatchNor (None, 12, 12, 256)  1024        quaternion_conv2d_9[0][0]        \n",
            "__________________________________________________________________________________________________\n",
            "elu_6 (ELU)                     (None, 12, 12, 256)  0           batch_normalization_8[0][0]      \n",
            "__________________________________________________________________________________________________\n",
            "add_2 (Add)                     (None, 12, 12, 256)  0           batch_normalization_9[0][0]      \n",
            "                                                                 elu_6[0][0]                      \n",
            "__________________________________________________________________________________________________\n",
            "re_lu_3 (ReLU)                  (None, 12, 12, 256)  0           add_2[0][0]                      \n",
            "__________________________________________________________________________________________________\n",
            "max_pooling2d_3 (MaxPooling2D)  (None, 6, 6, 256)    0           re_lu_3[0][0]                    \n",
            "__________________________________________________________________________________________________\n",
            "channel_attention_3 (ChannelAtt (None, 6, 6, 256)    0           max_pooling2d_3[0][0]            \n",
            "__________________________________________________________________________________________________\n",
            "spatial_attention_3 (SpatialAtt (None, 6, 6, 256)    0           channel_attention_3[0][0]        \n",
            "__________________________________________________________________________________________________\n",
            "quaternion_conv2d_10 (Quaternio (None, 6, 6, 256)    16640       spatial_attention_3[0][0]        \n",
            "__________________________________________________________________________________________________\n",
            "batch_normalization_10 (BatchNo (None, 6, 6, 256)    1024        quaternion_conv2d_10[0][0]       \n",
            "__________________________________________________________________________________________________\n",
            "elu_7 (ELU)                     (None, 6, 6, 256)    0           batch_normalization_10[0][0]     \n",
            "__________________________________________________________________________________________________\n",
            "quaternion_conv2d_11 (Quaternio (None, 6, 6, 256)    16640       elu_7[0][0]                      \n",
            "__________________________________________________________________________________________________\n",
            "batch_normalization_11 (BatchNo (None, 6, 6, 256)    1024        quaternion_conv2d_11[0][0]       \n",
            "__________________________________________________________________________________________________\n",
            "elu_8 (ELU)                     (None, 6, 6, 256)    0           batch_normalization_11[0][0]     \n",
            "__________________________________________________________________________________________________\n",
            "quaternion_conv2d_12 (Quaternio (None, 6, 6, 384)    24960       elu_8[0][0]                      \n",
            "__________________________________________________________________________________________________\n",
            "quaternion_conv2d_13 (Quaternio (None, 6, 6, 384)    24960       spatial_attention_3[0][0]        \n",
            "__________________________________________________________________________________________________\n",
            "batch_normalization_12 (BatchNo (None, 6, 6, 384)    1536        quaternion_conv2d_12[0][0]       \n",
            "__________________________________________________________________________________________________\n",
            "batch_normalization_13 (BatchNo (None, 6, 6, 384)    1536        quaternion_conv2d_13[0][0]       \n",
            "__________________________________________________________________________________________________\n",
            "elu_9 (ELU)                     (None, 6, 6, 384)    0           batch_normalization_12[0][0]     \n",
            "__________________________________________________________________________________________________\n",
            "add_3 (Add)                     (None, 6, 6, 384)    0           batch_normalization_13[0][0]     \n",
            "                                                                 elu_9[0][0]                      \n",
            "__________________________________________________________________________________________________\n",
            "re_lu_4 (ReLU)                  (None, 6, 6, 384)    0           add_3[0][0]                      \n",
            "__________________________________________________________________________________________________\n",
            "max_pooling2d_4 (MaxPooling2D)  (None, 3, 3, 384)    0           re_lu_4[0][0]                    \n",
            "__________________________________________________________________________________________________\n",
            "channel_attention_4 (ChannelAtt (None, 3, 3, 384)    0           max_pooling2d_4[0][0]            \n",
            "__________________________________________________________________________________________________\n",
            "spatial_attention_4 (SpatialAtt (None, 3, 3, 384)    0           channel_attention_4[0][0]        \n",
            "__________________________________________________________________________________________________\n",
            "quaternion_conv2d_14 (Quaternio (None, 3, 3, 384)    37248       spatial_attention_4[0][0]        \n",
            "__________________________________________________________________________________________________\n",
            "batch_normalization_14 (BatchNo (None, 3, 3, 384)    1536        quaternion_conv2d_14[0][0]       \n",
            "__________________________________________________________________________________________________\n",
            "elu_10 (ELU)                    (None, 3, 3, 384)    0           batch_normalization_14[0][0]     \n",
            "__________________________________________________________________________________________________\n",
            "quaternion_conv2d_15 (Quaternio (None, 3, 3, 384)    37248       elu_10[0][0]                     \n",
            "__________________________________________________________________________________________________\n",
            "batch_normalization_15 (BatchNo (None, 3, 3, 384)    1536        quaternion_conv2d_15[0][0]       \n",
            "__________________________________________________________________________________________________\n",
            "elu_11 (ELU)                    (None, 3, 3, 384)    0           batch_normalization_15[0][0]     \n",
            "__________________________________________________________________________________________________\n",
            "quaternion_conv2d_16 (Quaternio (None, 3, 3, 512)    49664       elu_11[0][0]                     \n",
            "__________________________________________________________________________________________________\n",
            "quaternion_conv2d_17 (Quaternio (None, 3, 3, 512)    49664       spatial_attention_4[0][0]        \n",
            "__________________________________________________________________________________________________\n",
            "batch_normalization_16 (BatchNo (None, 3, 3, 512)    2048        quaternion_conv2d_16[0][0]       \n",
            "__________________________________________________________________________________________________\n",
            "batch_normalization_17 (BatchNo (None, 3, 3, 512)    2048        quaternion_conv2d_17[0][0]       \n",
            "__________________________________________________________________________________________________\n",
            "elu_12 (ELU)                    (None, 3, 3, 512)    0           batch_normalization_16[0][0]     \n",
            "__________________________________________________________________________________________________\n",
            "add_4 (Add)                     (None, 3, 3, 512)    0           batch_normalization_17[0][0]     \n",
            "                                                                 elu_12[0][0]                     \n",
            "__________________________________________________________________________________________________\n",
            "re_lu_5 (ReLU)                  (None, 3, 3, 512)    0           add_4[0][0]                      \n",
            "__________________________________________________________________________________________________\n",
            "max_pooling2d_5 (MaxPooling2D)  (None, 1, 1, 512)    0           re_lu_5[0][0]                    \n",
            "__________________________________________________________________________________________________\n",
            "channel_attention_5 (ChannelAtt (None, 1, 1, 512)    0           max_pooling2d_5[0][0]            \n",
            "__________________________________________________________________________________________________\n",
            "spatial_attention_5 (SpatialAtt (None, 1, 1, 512)    0           channel_attention_5[0][0]        \n",
            "__________________________________________________________________________________________________\n",
            "global_average_pooling2d_1 (Glo (None, 512)          0           spatial_attention_5[0][0]        \n",
            "__________________________________________________________________________________________________\n",
            "dense_1 (Dense)                 (None, 512)          262656      global_average_pooling2d_1[0][0] \n",
            "__________________________________________________________________________________________________\n",
            "dropout_1 (Dropout)             (None, 512)          0           dense_1[0][0]                    \n",
            "__________________________________________________________________________________________________\n",
            "dense_2 (Dense)                 (None, 1)            513         dropout_1[0][0]                  \n",
            "==================================================================================================\n",
            "Total params: 569,345\n",
            "Trainable params: 560,769\n",
            "Non-trainable params: 8,576\n",
            "__________________________________________________________________________________________________\n"
          ]
        }
      ]
    },
    {
      "cell_type": "code",
      "source": [
        "len(model.layers)"
      ],
      "metadata": {
        "colab": {
          "base_uri": "https://localhost:8080/"
        },
        "id": "MawHKOdYo079",
        "outputId": "1af1af96-f1ec-43c3-ea64-cf949b3b53c5"
      },
      "execution_count": null,
      "outputs": [
        {
          "output_type": "execute_result",
          "data": {
            "text/plain": [
              "75"
            ]
          },
          "metadata": {},
          "execution_count": 45
        }
      ]
    },
    {
      "cell_type": "code",
      "metadata": {
        "id": "JLEW_7vM0iPQ",
        "colab": {
          "base_uri": "https://localhost:8080/"
        },
        "outputId": "fad06d44-42df-441c-97dc-e3dbb54a4aa4"
      },
      "source": [
        "print(history.history.keys())"
      ],
      "execution_count": null,
      "outputs": [
        {
          "output_type": "stream",
          "name": "stdout",
          "text": [
            "dict_keys(['val_loss', 'val_acc', 'val_precision_m', 'val_recall_m', 'val_f1_m', 'loss', 'acc', 'precision_m', 'recall_m', 'f1_m'])\n"
          ]
        }
      ]
    },
    {
      "cell_type": "code",
      "metadata": {
        "id": "hPFYD1H7psfz",
        "colab": {
          "base_uri": "https://localhost:8080/",
          "height": 611
        },
        "outputId": "98c532ad-0a61-4881-e7f6-1ee7ed2bc7b6"
      },
      "source": [
        "# tensorboard logs \n",
        "print(history.history.keys())\n",
        "#  \"Accuracy\"\n",
        "plt.plot(history.history['acc'])\n",
        "plt.plot(history.history['val_acc'])\n",
        "plt.title('model accuracy')\n",
        "plt.ylabel('accuracy')\n",
        "plt.xlabel('epoch')\n",
        "plt.legend(['train', 'validation'], loc='upper left')\n",
        "plt.savefig('acc')\n",
        "plt.show()\n",
        "\n",
        "# \"Loss\"\n",
        "plt.plot(history.history['loss'])\n",
        "plt.plot(history.history['val_loss'])\n",
        "plt.title('model loss')\n",
        "plt.ylabel('loss')\n",
        "plt.xlabel('epoch')\n",
        "plt.legend(['train', 'validation'], loc='upper left')\n",
        "\n",
        "plt.savefig('loss')\n",
        "plt.show()"
      ],
      "execution_count": null,
      "outputs": [
        {
          "output_type": "stream",
          "name": "stdout",
          "text": [
            "dict_keys(['val_loss', 'val_acc', 'val_precision_m', 'val_recall_m', 'val_f1_m', 'loss', 'acc', 'precision_m', 'recall_m', 'f1_m'])\n"
          ]
        },
        {
          "output_type": "display_data",
          "data": {
            "image/png": "[encoded data removed]",
            "text/plain": [
              "<Figure size 432x288 with 1 Axes>"
            ]
          },
          "metadata": {
            "needs_background": "light"
          }
        },
        {
          "output_type": "display_data",
          "data": {
            "image/png": "[encoded data removed]",
            "text/plain": [
              "<Figure size 432x288 with 1 Axes>"
            ]
          },
          "metadata": {
            "needs_background": "light"
          }
        }
      ]
    },
    {
      "cell_type": "code",
      "source": [
        "# tensorboard logs \n",
        "print(history.history.keys())\n",
        "#  \"Accuracy\"\n",
        "plt.plot(history.history['precision_m'])\n",
        "plt.plot(history.history['val_precision_m'])\n",
        "plt.title('model precision')\n",
        "plt.ylabel('precsion')\n",
        "plt.xlabel('epoch')\n",
        "plt.legend(['train', 'validation'], loc='upper left')\n",
        "plt.savefig('precsion')\n",
        "plt.show()"
      ],
      "metadata": {
        "colab": {
          "base_uri": "https://localhost:8080/",
          "height": 334
        },
        "id": "qq-nFCYusSV_",
        "outputId": "5ead28ae-b0e3-4b08-ded5-645c4b356dd9"
      },
      "execution_count": null,
      "outputs": [
        {
          "output_type": "stream",
          "name": "stdout",
          "text": [
            "dict_keys(['val_loss', 'val_acc', 'val_precision_m', 'val_recall_m', 'val_f1_m', 'loss', 'acc', 'precision_m', 'recall_m', 'f1_m'])\n"
          ]
        },
        {
          "output_type": "display_data",
          "data": {
            "image/png": "[encoded data removed]",
            "text/plain": [
              "<Figure size 432x288 with 1 Axes>"
            ]
          },
          "metadata": {
            "needs_background": "light"
          }
        }
      ]
    },
    {
      "cell_type": "code",
      "source": [
        "# tensorboard logs \n",
        "print(history.history.keys())\n",
        "#  \"Accuracy\"\n",
        "plt.plot(history.history['recall_m'])\n",
        "plt.plot(history.history['val_recall_m'])\n",
        "plt.title('model recall')\n",
        "plt.ylabel('recalln')\n",
        "plt.xlabel('epoch')\n",
        "plt.legend(['train', 'validation'], loc='upper left')\n",
        "plt.savefig('recall')\n",
        "plt.show()"
      ],
      "metadata": {
        "colab": {
          "base_uri": "https://localhost:8080/",
          "height": 334
        },
        "id": "jN8_PV9Is44X",
        "outputId": "079e2b5c-f5c0-4161-b1af-dd44f511612e"
      },
      "execution_count": null,
      "outputs": [
        {
          "output_type": "stream",
          "name": "stdout",
          "text": [
            "dict_keys(['val_loss', 'val_acc', 'val_precision_m', 'val_recall_m', 'val_f1_m', 'loss', 'acc', 'precision_m', 'recall_m', 'f1_m'])\n"
          ]
        },
        {
          "output_type": "display_data",
          "data": {
            "image/png": "[encoded data removed]",
            "text/plain": [
              "<Figure size 432x288 with 1 Axes>"
            ]
          },
          "metadata": {
            "needs_background": "light"
          }
        }
      ]
    },
    {
      "cell_type": "code",
      "source": [
        "# tensorboard logs \n",
        "print(history.history.keys())\n",
        "#  \"Accuracy\"\n",
        "plt.plot(history.history['f1_m'])\n",
        "plt.plot(history.history['val_f1_m'])\n",
        "plt.title('model f1')\n",
        "plt.ylabel('f1')\n",
        "plt.xlabel('epoch')\n",
        "plt.legend(['train', 'validation'], loc='upper left')\n",
        "plt.savefig('f1')\n",
        "plt.show()"
      ],
      "metadata": {
        "colab": {
          "base_uri": "https://localhost:8080/",
          "height": 334
        },
        "id": "G0hfjJlxtKB4",
        "outputId": "d65368df-a118-402c-a7ae-1c75e0f238e4"
      },
      "execution_count": null,
      "outputs": [
        {
          "output_type": "stream",
          "name": "stdout",
          "text": [
            "dict_keys(['val_loss', 'val_acc', 'val_precision_m', 'val_recall_m', 'val_f1_m', 'loss', 'acc', 'precision_m', 'recall_m', 'f1_m'])\n"
          ]
        },
        {
          "output_type": "display_data",
          "data": {
            "image/png": "[encoded data removed]",
            "text/plain": [
              "<Figure size 432x288 with 1 Axes>"
            ]
          },
          "metadata": {
            "needs_background": "light"
          }
        }
      ]
    },
    {
      "cell_type": "code",
      "metadata": {
        "id": "mN_joYZ6WxHD",
        "colab": {
          "base_uri": "https://localhost:8080/"
        },
        "outputId": "c3c2addd-265e-4ac0-cc2f-2e9c656fcb28"
      },
      "source": [
        "print('\\nhistory dict:', history.history)"
      ],
      "execution_count": null,
      "outputs": [
        {
          "output_type": "stream",
          "name": "stdout",
          "text": [
            "\n",
            "history dict: {'val_loss': [1.015379508336385, 1.0493835674391851, 0.6373671061462827, 0.2813666976160473, 0.2765786084863875, 0.26251202159457737, 0.45066316260231865, 0.4072015815311008, 0.3996925685140822, 0.7796070873737335, 0.5826486233207915, 0.7122029198540581, 1.7059362332026164, 1.2261427243550618, 0.7649760180049472, 0.4969942602846358, 0.8655257787969377, 0.9799760546949174, 0.503302224808269, 0.6313800281948514, 0.5691976547241211, 0.6154610613981882, 0.7956172724564871, 0.6398349934154086, 0.7010262840323978, 0.6772016419304742, 0.740019776754909, 0.8901015785005357, 0.69185338417689, 0.641854594151179, 0.5208568175633749, 0.5758803817960951, 0.6331758234235976, 0.6226059761312273, 0.6640123625596365, 0.5881006585227119, 1.2425770163536072, 0.6973719762431251, 0.6008931563960181, 0.8371661735905541, 0.8461668756273057, 0.8134439256456163, 0.7691637873649597, 0.8636567758189307, 0.6649422446886698, 0.7006751332018111, 1.8403327133920457, 0.7648533119095696, 1.5588335527314081, 0.8660290936628977, 1.1716534429126315, 0.8408718870745765, 0.995668394698037, 0.6675596750444837, 0.9127764900525411, 1.1173363857799106, 0.7817268504036797, 0.8589278393321567, 1.1463040113449097, 1.141304976410336, 1.0585181646876864, 0.7690567970275879, 0.77767081061999, 0.7953639328479767, 0.7698529064655304, 0.754360106256273, 0.7582526836130354, 0.757687466012107, 0.7685593631532457, 0.7711846133073171], 'val_acc': [0.4652777777777778, 0.6059027777777778, 0.7638888888888888, 0.8784722222222222, 0.8784722222222222, 0.8993055555555556, 0.8229166666666666, 0.8576388888888888, 0.8871527777777778, 0.8003472222222222, 0.8315972222222222, 0.8368055555555556, 0.6944444444444444, 0.7795138888888888, 0.8125, 0.8871527777777778, 0.8020833333333334, 0.8263888888888888, 0.9045138888888888, 0.8611111111111112, 0.8958333333333334, 0.9010416666666666, 0.8715277777777778, 0.8784722222222222, 0.8628472222222222, 0.8819444444444444, 0.8697916666666666, 0.8506944444444444, 0.8767361111111112, 0.8836805555555556, 0.8802083333333334, 0.9097222222222222, 0.8819444444444444, 0.8923611111111112, 0.8888888888888888, 0.8940972222222222, 0.8072916666666666, 0.8784722222222222, 0.8888888888888888, 0.8645833333333334, 0.8732638888888888, 0.8940972222222222, 0.8854166666666666, 0.8663194444444444, 0.9027777777777778, 0.8697916666666666, 0.7604166666666666, 0.8784722222222222, 0.7916666666666666, 0.8715277777777778, 0.8368055555555556, 0.8767361111111112, 0.8229166666666666, 0.8993055555555556, 0.8784722222222222, 0.8454861111111112, 0.8958333333333334, 0.8767361111111112, 0.8611111111111112, 0.8628472222222222, 0.8697916666666666, 0.9010416666666666, 0.9010416666666666, 0.9010416666666666, 0.9079861111111112, 0.9097222222222222, 0.9079861111111112, 0.9097222222222222, 0.9097222222222222, 0.9114583333333334], 'val_precision_m': [0.9920634892251756, 0.9953703681627909, 0.9836795197592841, 0.971764882405599, 0.9575364788373312, 0.9200920462608337, 0.9803855154249403, 0.9770033293300204, 0.9772750205463834, 0.979650636514028, 0.9699583583407931, 0.97548994090822, 1.0, 0.9842733144760132, 0.980215483241611, 0.9612217346827189, 0.982270081837972, 0.9811885952949524, 0.9528412421544393, 0.9503151443269517, 0.9499706692165799, 0.9060908555984497, 0.9696245657073127, 0.9634496768315634, 0.9715600609779358, 0.9394369257820977, 0.9693889684147305, 0.9635933703846402, 0.9320195847087436, 0.9071894817882113, 0.9427782164679633, 0.9368906617164612, 0.9223541418711344, 0.9465630451838175, 0.9345837963951958, 0.9312182598643832, 0.9852527909808688, 0.9427946408589681, 0.9364263150427077, 0.964074518945482, 0.9669728808932834, 0.8863397704230415, 0.951651758617825, 0.9596202572186788, 0.9201852348115709, 0.959980328877767, 0.9849575691752963, 0.9579065839449564, 0.9732555879486932, 0.9510137902365791, 0.970164524184333, 0.9462263716591729, 0.9753481679492526, 0.9459664622942606, 0.9554247657457987, 0.9560444951057434, 0.9376531574461195, 0.951111548476749, 0.9818048675855001, 0.9824234445889791, 0.9773914416631063, 0.954751451810201, 0.9396804438696967, 0.9440438747406006, 0.9447121620178223, 0.944757514529758, 0.9447121620178223, 0.9470739430851407, 0.9468319680955675, 0.9490932491090562], 'val_recall_m': [0.29846791095203823, 0.4843662944104936, 0.7034428185886807, 0.8676633172565036, 0.8801201515727572, 0.9511099060376486, 0.7861218518680997, 0.8343973954518636, 0.8730564912160238, 0.7563757101694742, 0.8060160809093051, 0.8079481654696994, 0.5997696121533712, 0.7251239816347758, 0.770258453157213, 0.8897295064396329, 0.75346397029029, 0.7889797356393602, 0.9201305508613586, 0.8634547061390347, 0.9121373825603061, 0.9710696405834622, 0.8591515355639987, 0.875491287973192, 0.846176889207628, 0.9062658349672953, 0.858257942729526, 0.8368116749657525, 0.9048699074321322, 0.9436853064431084, 0.8975899285740323, 0.94571586449941, 0.9240903125868903, 0.9128521879514059, 0.9184887011845907, 0.930326932006412, 0.7580703496932983, 0.8951605028576322, 0.9167297350035774, 0.8553530838754442, 0.8650498456425137, 0.98674166864819, 0.8961484829584757, 0.8620448642306857, 0.955049475034078, 0.8669997851053873, 0.697264035542806, 0.8805587689081827, 0.7473765942785475, 0.8781474563810561, 0.8119874397913615, 0.8892388343811035, 0.7892392807536655, 0.9208587871657478, 0.882483979066213, 0.8369306458367242, 0.925404515531328, 0.8844627737998962, 0.8349003063307868, 0.8361209962103102, 0.8496437072753906, 0.9139569136831496, 0.9302295049031576, 0.9259891774919298, 0.9352071020338271, 0.9374293287595113, 0.9352071020338271, 0.9352071020338271, 0.9352071020338271, 0.9352071020338271], 'val_f1_m': [0.4562784002886878, 0.6489735643068949, 0.8192257285118103, 0.9159697956509061, 0.9159096346961128, 0.9345617161856757, 0.8713661034901937, 0.8987115820248922, 0.9217121269967821, 0.8516814708709717, 0.8796704212824503, 0.8822615411546495, 0.7481599516338773, 0.8322902785407172, 0.8617031772931417, 0.9230842192967733, 0.8517655796474881, 0.8735806941986084, 0.9353413846757677, 0.9034758342636956, 0.9300231403774686, 0.9365323517057631, 0.9104152984089322, 0.9166666401757134, 0.9036827352311876, 0.9210358063379923, 0.9097332755724589, 0.8944775925742255, 0.9172161353958977, 0.9242841932508681, 0.9187844726774428, 0.9404601388507419, 0.922588931189643, 0.9280325373013815, 0.9260010653071933, 0.9299766023953756, 0.8556169602606032, 0.9173395037651062, 0.9258885516060723, 0.9053651822937859, 0.9119670126173232, 0.9333145154847039, 0.9219491283098856, 0.9067714677916633, 0.9367761015892029, 0.9098488556014167, 0.8154598739412096, 0.9166847070058187, 0.8442357447412279, 0.9116867118411593, 0.8829031785329183, 0.9154837992456224, 0.8707841038703918, 0.9320471286773682, 0.9161331918504503, 0.8909494413269891, 0.93047653304206, 0.9151733981238471, 0.9013602534929911, 0.9024321966701083, 0.9084536631902059, 0.933178100321028, 0.9340371489524841, 0.9338666134410434, 0.9388590190145705, 0.9400037990676032, 0.9388590190145705, 0.940001818868849, 0.9400701853964064, 0.9411651359664069], 'loss': [0.6514507846699821, 0.2448966610762808, 0.21269037326176962, 0.17555340503652891, 0.1554356813430786, 0.1365739864607652, 0.10582125031699736, 0.09869757708575991, 0.09862716713299353, 0.09038496607293685, 0.08633687730050749, 0.06033210140756435, 0.05421181124014159, 0.07644300550843279, 0.07434748552946581, 0.04653583412679533, 0.05143466617705093, 0.02805293502751738, 0.02942123220095204, 0.046340809022593826, 0.028877141303382814, 0.017310505823439196, 0.02327439595764089, 0.03171751586099466, 0.022853815520647913, 0.011775863575167023, 0.015616113336161815, 0.013001844699222906, 0.03285787801077175, 0.02501110614846564, 0.02380190510302782, 0.01898186269035149, 0.015819393656177756, 0.013452946974818284, 0.014197467512632202, 0.02564070913164566, 0.01807091576241267, 0.021164586222665902, 0.019963328011928953, 0.02043751149257231, 0.0123103528490497, 0.02140312005778671, 0.014816319568328455, 0.01330545890959911, 0.028127676791983604, 0.029132094732227012, 0.015040602315113775, 0.012311962247218212, 0.012808261149782792, 0.015318429893846365, 0.014778763139879124, 0.013254415521967329, 0.03171424343195718, 0.011720910403204875, 0.0057284683037626865, 0.008558789291580778, 0.004152638500171533, 0.0029589706791739445, 0.0043803121126176035, 0.00223583320161601, 0.0014189198130528287, 0.0025527693007537287, 0.0012628845016075098, 0.00029764228336009383, 9.543554892843531e-05, 7.879650412532e-05, 5.0621625446309634e-05, 2.2223027283669377e-05, 3.565465230318902e-05, 2.6026652398690607e-05], 'acc': [0.8259548611111112, 0.9021267361111112, 0.9123263888888888, 0.9338107638888888, 0.9388020833333334, 0.9509548611111112, 0.9620225694444444, 0.9607204861111112, 0.9650607638888888, 0.9652777777777778, 0.9691840277777778, 0.9782986111111112, 0.982421875, 0.9691840277777778, 0.9713541666666666, 0.9837239583333334, 0.9811197916666666, 0.990234375, 0.9895833333333334, 0.9839409722222222, 0.9904513888888888, 0.9950086805555556, 0.9913194444444444, 0.9880642361111112, 0.9921875, 0.9963107638888888, 0.9943576388888888, 0.994140625, 0.98828125, 0.9906684027777778, 0.9908854166666666, 0.9939236111111112, 0.9934895833333334, 0.9954427083333334, 0.9943576388888888, 0.9915364583333334, 0.9930555555555556, 0.9926215277777778, 0.9928385416666666, 0.9934895833333334, 0.9958767361111112, 0.9924045138888888, 0.9954427083333334, 0.9950086805555556, 0.9900173611111112, 0.9874131944444444, 0.9945746527777778, 0.9947916666666666, 0.9945746527777778, 0.9954427083333334, 0.9945746527777778, 0.9950086805555556, 0.9895833333333334, 0.99609375, 0.998046875, 0.99609375, 0.9982638888888888, 0.9993489583333334, 0.9989149305555556, 0.9993489583333334, 0.9997829861111112, 0.9993489583333334, 0.9995659722222222, 1.0, 1.0, 1.0, 1.0, 1.0, 1.0, 1.0], 'precision_m': [0.8780843085712857, 0.9306892769204246, 0.9381843523846732, 0.9531780779361725, 0.9530870682663388, 0.9649115171697404, 0.9713501532872518, 0.9695485101805793, 0.9741132491164737, 0.9731806185510423, 0.9768816530704498, 0.9841291887892617, 0.9862692322995927, 0.9769045859575272, 0.9793794420030382, 0.9867194609509574, 0.985062215063307, 0.9920295857720904, 0.9925463481081856, 0.9888337088955773, 0.9910181628333198, 0.9964187575711144, 0.9939494530359904, 0.9898446318176057, 0.9946866946087943, 0.9973020321793027, 0.9961369848913617, 0.9953916668891907, 0.9908881684144338, 0.9941485822200775, 0.993592694401741, 0.9957691679398218, 0.9958120385805765, 0.9970356954468621, 0.9965228537718455, 0.9942450937297609, 0.9935976184076734, 0.9946223596731821, 0.9949885043832991, 0.994934113489257, 0.9964384221368365, 0.9947115431229273, 0.9966319070922004, 0.996778377228313, 0.993696371714274, 0.9910361054870818, 0.996152197321256, 0.9960572090413835, 0.9964551958772871, 0.995705685681767, 0.9958134624693129, 0.9970186319616106, 0.9932909260193507, 0.9970150474045012, 0.9991257256931729, 0.9969830811023712, 0.9984831213951111, 0.9993989600075616, 0.99879423280557, 0.9994083808528053, 1.0, 0.999707602792316, 0.9997136311398612, 1.0, 1.0, 1.0, 1.0, 1.0, 1.0, 1.0], 'recall_m': [0.8845325909141037, 0.9372369233104918, 0.9429232395357556, 0.9570153637064828, 0.9637623776992162, 0.9682903322908614, 0.9766559302806854, 0.9772204293145074, 0.9783841785457399, 0.979281461901135, 0.981366882721583, 0.9862515330314636, 0.9899985492229462, 0.9815256910191642, 0.9819247259034051, 0.9911981986628638, 0.9890578753418393, 0.9948997447888056, 0.9932429906394746, 0.9889677216609319, 0.9957653416527642, 0.9968367516994476, 0.9941872010628382, 0.9935926844676336, 0.9947491023275588, 0.9976470089621015, 0.9961604475975037, 0.9967574344740974, 0.9931562526358498, 0.9932671934366226, 0.9938193675544527, 0.9958139244053099, 0.9952960792515013, 0.9967494987779193, 0.9958914038207796, 0.9939186953836017, 0.9967849105596542, 0.9953292740715874, 0.9951712737480799, 0.9961402532127168, 0.997891891333792, 0.9948605183098052, 0.9971673505173789, 0.996630009677675, 0.9929012540313933, 0.9917176713546118, 0.9965658436218897, 0.9967245790693495, 0.9961583647463057, 0.9979964627159966, 0.9967656317684386, 0.9962095138099458, 0.9925348593129052, 0.9975952059030533, 0.9981932126813464, 0.9977319671048058, 0.9991271495819092, 0.9996878902117411, 0.999694749712944, 0.9996878902117411, 0.9997379448678758, 0.9993993822071288, 0.9996878902117411, 1.0, 1.0, 1.0, 1.0, 1.0, 1.0, 1.0], 'f1_m': [0.8723555575642321, 0.9325607551468743, 0.9395576135979758, 0.9544553591145409, 0.9578872703843646, 0.9662381029791303, 0.9738009356790118, 0.973124043809043, 0.9759722054004669, 0.9759684238168929, 0.9788406259483762, 0.9850743197732501, 0.9879735310872396, 0.9787733306487402, 0.9802473386128744, 0.9888327535655763, 0.9868943128320906, 0.9933967093626658, 0.992831751704216, 0.9887689616945055, 0.9933315780427721, 0.9965987006823221, 0.9940245366758771, 0.9916717857122421, 0.9946883320808411, 0.9974590556489097, 0.9961200207471848, 0.9960505763689677, 0.9919460200601153, 0.9936397737926908, 0.9936659567885928, 0.9957620816098319, 0.9955229461193085, 0.9968760013580322, 0.9961767743031184, 0.9940434230698479, 0.9951443804634942, 0.9949247241020203, 0.9950590282678604, 0.9955001423756281, 0.997151353292995, 0.9947460144758224, 0.996865741080708, 0.9966703206300735, 0.9932016597853767, 0.991232317354944, 0.9963305857446458, 0.9963698238134384, 0.9962766799661849, 0.9968187858661016, 0.9962584359778298, 0.9965736187166638, 0.9928214665916231, 0.9972854240073098, 0.9986490259567896, 0.9973453432321548, 0.998798645204968, 0.9995409018463559, 0.9992403503921297, 0.9995456652508842, 0.999868349896537, 0.9995510826508204, 0.9996991339657042, 1.0, 1.0, 1.0, 1.0, 1.0, 1.0, 1.0]}\n"
          ]
        }
      ]
    },
    {
      "cell_type": "markdown",
      "metadata": {
        "id": "i2soOKFq1ctk"
      },
      "source": [
        "# Evaluation on testing set "
      ]
    },
    {
      "cell_type": "code",
      "metadata": {
        "id": "-npqPviY0Bkr",
        "colab": {
          "base_uri": "https://localhost:8080/"
        },
        "outputId": "b5e45d7e-b8b8-4299-d5e8-ceb5a3c99c3a"
      },
      "source": [
        "\n",
        "loss, accuracy, f1_score, precision, recall = model.evaluate_generator(batch_generator(df_test[:256], 256,len(df_test[:256])//256),steps=len(df_test[:256])//256,verbose=1)"
      ],
      "execution_count": null,
      "outputs": [
        {
          "output_type": "stream",
          "name": "stdout",
          "text": [
            "\r1/1 [==============================] - 4s 4s/step\n"
          ]
        }
      ]
    },
    {
      "cell_type": "code",
      "source": [
        "print(model.evaluate_generator(batch_generator(df_test[:256], 256,len(df_test[:256])//256),steps=len(df_test[:256])//256,verbose=1))"
      ],
      "metadata": {
        "id": "ad0UcLKvDKAQ",
        "colab": {
          "base_uri": "https://localhost:8080/"
        },
        "outputId": "9ebaadfc-701d-42d2-ae27-336f9e0073c8"
      },
      "execution_count": null,
      "outputs": [
        {
          "output_type": "stream",
          "name": "stdout",
          "text": [
            "\r1/1 [==============================] - 5s 5s/step\n",
            "[0.390999972820282, 0.94140625, 0.9523809552192688, 0.9677419066429138, 0.9599999189376831]\n"
          ]
        }
      ]
    },
    {
      "cell_type": "code",
      "source": [
        "print(model.evaluate_generator(batch_generator(df_train[:256], 256,len(df_train[:256])//256),steps=len(df_train[:256])//256,verbose=1))"
      ],
      "metadata": {
        "id": "BaBQkFP-DaaP",
        "colab": {
          "base_uri": "https://localhost:8080/"
        },
        "outputId": "93f9793e-8a2a-49bb-b951-f7b918a1ad57"
      },
      "execution_count": null,
      "outputs": [
        {
          "output_type": "stream",
          "name": "stdout",
          "text": [
            "\r1/1 [==============================] - 5s 5s/step\n",
            "[5.310982305672951e-05, 1.0, 1.0, 1.0, 1.0]\n"
          ]
        }
      ]
    },
    {
      "cell_type": "code",
      "source": [
        "print(model.evaluate_generator(batch_generator(df_val[:256], 256,len(df_val[:256])//256),steps=len(df_val[:256])//256,verbose=1))"
      ],
      "metadata": {
        "id": "hb4w1uOIE-DX",
        "colab": {
          "base_uri": "https://localhost:8080/"
        },
        "outputId": "58f40975-3bbc-43f2-cf04-1745e5f463fb"
      },
      "execution_count": 87,
      "outputs": [
        {
          "output_type": "stream",
          "name": "stdout",
          "text": [
            "\r1/1 [==============================] - 4s 4s/step\n",
            "[0.8101717233657837, 0.91015625, 0.9521276354789734, 0.9274611473083496, 0.9396325349807739]\n"
          ]
        }
      ]
    },
    {
      "cell_type": "code",
      "source": [
        "help(model.evaluate_generator)"
      ],
      "metadata": {
        "id": "1xkZBtt8Ga43",
        "colab": {
          "base_uri": "https://localhost:8080/"
        },
        "outputId": "276042cd-f4cb-4d33-a728-814a1248f061"
      },
      "execution_count": 88,
      "outputs": [
        {
          "output_type": "stream",
          "name": "stdout",
          "text": [
            "Help on method evaluate_generator in module keras.engine.training:\n",
            "\n",
            "evaluate_generator(generator, steps=None, max_queue_size=10, workers=1, use_multiprocessing=False, verbose=0) method of keras.engine.training.Model instance\n",
            "    Evaluates the model on a data generator.\n",
            "    \n",
            "    The generator should return the same kind of data\n",
            "    as accepted by `test_on_batch`.\n",
            "    \n",
            "    # Arguments\n",
            "        generator: Generator yielding tuples (inputs, targets)\n",
            "            or (inputs, targets, sample_weights)\n",
            "            or an instance of Sequence (keras.utils.Sequence)\n",
            "            object in order to avoid duplicate data\n",
            "            when using multiprocessing.\n",
            "        steps: Total number of steps (batches of samples)\n",
            "            to yield from `generator` before stopping.\n",
            "            Optional for `Sequence`: if unspecified, will use\n",
            "            the `len(generator)` as a number of steps.\n",
            "        max_queue_size: maximum size for the generator queue\n",
            "        workers: Integer. Maximum number of processes to spin up\n",
            "            when using process based threading.\n",
            "            If unspecified, `workers` will default to 1. If 0, will\n",
            "            execute the generator on the main thread.\n",
            "        use_multiprocessing: if True, use process based threading.\n",
            "            Note that because\n",
            "            this implementation relies on multiprocessing,\n",
            "            you should not pass\n",
            "            non picklable arguments to the generator\n",
            "            as they can't be passed\n",
            "            easily to children processes.\n",
            "        verbose: verbosity mode, 0 or 1.\n",
            "    \n",
            "    # Returns\n",
            "        Scalar test loss (if the model has a single output and no metrics)\n",
            "        or list of scalars (if the model has multiple outputs\n",
            "        and/or metrics). The attribute `model.metrics_names` will give you\n",
            "        the display labels for the scalar outputs.\n",
            "    \n",
            "    # Raises\n",
            "        ValueError: In case the generator yields\n",
            "            data in an invalid format.\n",
            "\n"
          ]
        }
      ]
    },
    {
      "cell_type": "markdown",
      "metadata": {
        "id": "4rapfUmhiyFQ"
      },
      "source": [
        "### **The performance metrics**"
      ]
    },
    {
      "cell_type": "code",
      "metadata": {
        "id": "w6VOqcdlrKXT",
        "colab": {
          "base_uri": "https://localhost:8080/"
        },
        "outputId": "122badb1-fc08-4c91-d131-5f20634914c9"
      },
      "source": [
        "from sklearn.metrics import confusion_matrix\n",
        "\n",
        "y_pred=model.predict_generator(batch_generator(df_test[:256], 256,len(df_test[:256])//256),steps=len(df_test[:256])//256,verbose=1)\n",
        "\n",
        "y_true=df_test[:256].labels\n",
        "array=confusion_matrix(y_true, (1.2*y_pred).round(),normalize=\"true\")"
      ],
      "execution_count": 89,
      "outputs": [
        {
          "output_type": "stream",
          "name": "stdout",
          "text": [
            "\r1/1 [==============================] - 3s 3s/step\n"
          ]
        }
      ]
    },
    {
      "cell_type": "code",
      "source": [
        "from sklearn.datasets import make_circles\n",
        "from sklearn.metrics import accuracy_score\n",
        "from sklearn.metrics import precision_score\n",
        "from sklearn.metrics import recall_score\n",
        "from sklearn.metrics import f1_score\n",
        "from sklearn.metrics import cohen_kappa_score\n",
        "from sklearn.metrics import roc_auc_score\n",
        "from sklearn.metrics import confusion_matrix\n",
        "from keras.models import Sequential\n",
        "from keras.layers import Dense"
      ],
      "metadata": {
        "id": "YWEy-dGoH7cV"
      },
      "execution_count": 90,
      "outputs": []
    },
    {
      "cell_type": "code",
      "source": [
        "accuracy = accuracy_score(y_true, (1.2*y_pred).round())"
      ],
      "metadata": {
        "id": "5puhANpbHwLt"
      },
      "execution_count": 91,
      "outputs": []
    },
    {
      "cell_type": "code",
      "source": [
        "accuracy"
      ],
      "metadata": {
        "id": "WvkI7h3yIENk",
        "colab": {
          "base_uri": "https://localhost:8080/"
        },
        "outputId": "fc696b7b-c774-4144-f3c3-070749e558f9"
      },
      "execution_count": 92,
      "outputs": [
        {
          "output_type": "execute_result",
          "data": {
            "text/plain": [
              "0.9453125"
            ]
          },
          "metadata": {},
          "execution_count": 92
        }
      ]
    },
    {
      "cell_type": "code",
      "source": [
        "# accuracy: (tp + tn) / (p + n)\n",
        "accuracy = accuracy_score(y_true, (1.2*y_pred).round())\n",
        "print('Accuracy: %f' % accuracy)\n",
        "# precision tp / (tp + fp)\n",
        "precision = precision_score(y_true, (1.2*y_pred).round())\n",
        "print('Precision: %f' % precision)\n",
        "# recall: tp / (tp + fn)\n",
        "recall = recall_score(y_true, (1.2*y_pred).round())\n",
        "print('Recall: %f' % recall)\n",
        "# f1: 2 tp / (2 tp + fp + fn)\n",
        "f1 = f1_score(y_true, (1.2*y_pred).round())\n",
        "print('F1 score: %f' % f1)\n",
        " \n",
        "# kappa\n",
        "kappa = cohen_kappa_score(y_true, (1.2*y_pred).round())\n",
        "print('Cohens kappa: %f' % kappa)\n",
        "# ROC AUC\n",
        "auc = roc_auc_score(y_true, (1.2*y_pred).round())\n",
        "print('ROC AUC: %f' % auc)\n",
        "# confusion matrix\n",
        "matrix = confusion_matrix(y_true, (1.2*y_pred).round())\n",
        "print(matrix)"
      ],
      "metadata": {
        "id": "rPQwlHeDIPSs",
        "colab": {
          "base_uri": "https://localhost:8080/"
        },
        "outputId": "606e841d-e061-41a6-b9bf-20f675d4375c"
      },
      "execution_count": 93,
      "outputs": [
        {
          "output_type": "stream",
          "name": "stdout",
          "text": [
            "Accuracy: 0.945312\n",
            "Precision: 0.952632\n",
            "Recall: 0.973118\n",
            "F1 score: 0.962766\n",
            "Cohens kappa: 0.859869\n",
            "ROC AUC: 0.922273\n",
            "[[ 61   9]\n",
            " [  5 181]]\n"
          ]
        }
      ]
    },
    {
      "cell_type": "code",
      "source": [
        "import sklearn.metrics as metrics"
      ],
      "metadata": {
        "id": "j5k7h0SInFOU"
      },
      "execution_count": 94,
      "outputs": []
    },
    {
      "cell_type": "code",
      "source": [
        "fpr, tpr, threshold = metrics.roc_curve(y_true, (1.2*y_pred).round())\n",
        "roc_auc = metrics.auc(fpr, tpr)\n",
        "\n",
        "plt.title('Receiver Operating Characteristic')\n",
        "plt.plot(fpr, tpr, 'b', label='AUC = %0.2f' % roc_auc)\n",
        "plt.legend(loc='lower right')\n",
        "plt.plot([0, 1], [0, 1], 'r--')\n",
        "plt.xlim([0, 1])\n",
        "plt.ylim([0, 1])\n",
        "plt.ylabel('True Positive Rate')\n",
        "plt.xlabel('False Positive Rate')\n",
        "plt.savefig('roc')\n",
        "plt.show()\n"
      ],
      "metadata": {
        "id": "IHkkDLqVJbZM",
        "colab": {
          "base_uri": "https://localhost:8080/",
          "height": 315
        },
        "outputId": "1bc08f14-2a01-47b3-f9e4-bc6d982e134e"
      },
      "execution_count": 95,
      "outputs": [
        {
          "output_type": "display_data",
          "data": {
            "image/png": "[encoded data removed]",
            "text/plain": [
              "<Figure size 432x288 with 1 Axes>"
            ]
          },
          "metadata": {}
        }
      ]
    },
    {
      "cell_type": "code",
      "source": [
        "print(metrics.accuracy_score(y_true, (1.2*y_pred).round()))"
      ],
      "metadata": {
        "id": "D390ZWCFKRZc",
        "colab": {
          "base_uri": "https://localhost:8080/"
        },
        "outputId": "b98dd397-a851-4e25-9ef5-ce2ac86ee31c"
      },
      "execution_count": 96,
      "outputs": [
        {
          "output_type": "stream",
          "name": "stdout",
          "text": [
            "0.9453125\n"
          ]
        }
      ]
    },
    {
      "cell_type": "code",
      "source": [
        "import numpy as np\n",
        "import pandas as pd\n",
        "import seaborn as sns\n",
        "import matplotlib.pyplot as plt\n",
        "\n",
        "# machine learning libraries\n",
        "\n",
        "import statsmodels.api as sm\n",
        "from sklearn.model_selection import train_test_split\n",
        "from sklearn.preprocessing import StandardScaler\n",
        "from sklearn.linear_model import LogisticRegression\n",
        "from statsmodels.stats.outliers_influence import variance_inflation_factor\n",
        "from sklearn.feature_selection import RFE\n",
        "from sklearn.metrics import confusion_matrix\n",
        "\n",
        "from sklearn.metrics import roc_curve,roc_auc_score\n",
        "\n",
        "import warnings\n",
        "warnings.filterwarnings('ignore')"
      ],
      "metadata": {
        "id": "3DabFXjfLgJD"
      },
      "execution_count": 97,
      "outputs": []
    },
    {
      "cell_type": "code",
      "source": [
        " # Now let's calculate accuracy sensitivity and specificity for various probability cutoffs.\n",
        "cutoff_df = pd.DataFrame( columns = ['Probability','Accuracy','Sensitivity','Specificity'])\n",
        "from sklearn.metrics import confusion_matrix\n",
        "\n",
        "# TP = confusion[1,1] # true positive \n",
        "# TN = confusion[0,0] # true negatives\n",
        "# FP = confusion[0,1] # false positives\n",
        "# FN = confusion[1,0] # false negatives\n",
        "\n",
        "num = [0.0,0.1,0.2,0.3,0.4,0.5,0.6,0.7,0.8,0.9]\n",
        "for i in num:\n",
        "    cm1 = metrics.confusion_matrix(y_true, (1.2*y_pred).round())\n",
        "    total1=sum(sum(cm1))\n",
        "    Accuracy = (cm1[0,0]+cm1[1,1])/total1\n",
        "    \n",
        "    Specificity = cm1[0,0]/(cm1[0,0]+cm1[0,1])\n",
        "    Sensitivity = cm1[1,1]/(cm1[1,0]+cm1[1,1])\n",
        "    cutoff_df.loc[i] =[ i ,Accuracy,Sensitivity,Specificity]\n",
        "print(cutoff_df)"
      ],
      "metadata": {
        "id": "5rI3siAzKikk",
        "colab": {
          "base_uri": "https://localhost:8080/"
        },
        "outputId": "27fcb564-60d4-455d-d6e6-c325534a6d98"
      },
      "execution_count": 98,
      "outputs": [
        {
          "output_type": "stream",
          "name": "stdout",
          "text": [
            "     Probability  Accuracy  Sensitivity  Specificity\n",
            "0.0          0.0  0.945312     0.973118     0.871429\n",
            "0.1          0.1  0.945312     0.973118     0.871429\n",
            "0.2          0.2  0.945312     0.973118     0.871429\n",
            "0.3          0.3  0.945312     0.973118     0.871429\n",
            "0.4          0.4  0.945312     0.973118     0.871429\n",
            "0.5          0.5  0.945312     0.973118     0.871429\n",
            "0.6          0.6  0.945312     0.973118     0.871429\n",
            "0.7          0.7  0.945312     0.973118     0.871429\n",
            "0.8          0.8  0.945312     0.973118     0.871429\n",
            "0.9          0.9  0.945312     0.973118     0.871429\n"
          ]
        }
      ]
    },
    {
      "cell_type": "code",
      "source": [
        "print(Accuracy,Sensitivity,Specificity)"
      ],
      "metadata": {
        "id": "d0OmDokKLqWK",
        "colab": {
          "base_uri": "https://localhost:8080/"
        },
        "outputId": "ab0f7254-b962-4e1d-980b-4fec3e2447b5"
      },
      "execution_count": 99,
      "outputs": [
        {
          "output_type": "stream",
          "name": "stdout",
          "text": [
            "0.9453125 0.9731182795698925 0.8714285714285714\n"
          ]
        }
      ]
    },
    {
      "cell_type": "code",
      "source": [
        "import matplotlib.pyplot as plt\n",
        "# Let's plot accuracy sensitivity and specificity for various probabilities.\n",
        "cutoff_df.plot.line(x='Probability', y=['Accuracy','Sensitivity','Specificity'])\n",
        "plt.show()"
      ],
      "metadata": {
        "id": "4ZGG4CKAPNJp",
        "colab": {
          "base_uri": "https://localhost:8080/",
          "height": 295
        },
        "outputId": "32eecce3-f46b-4c21-a684-97c697182749"
      },
      "execution_count": 100,
      "outputs": [
        {
          "output_type": "display_data",
          "data": {
            "image/png": "[encoded data removed]",
            "text/plain": [
              "<Figure size 432x288 with 1 Axes>"
            ]
          },
          "metadata": {}
        }
      ]
    },
    {
      "cell_type": "code",
      "source": [
        "# # Let's plot accuracy sensitivity and specificity for various probabilities.\n",
        "\n",
        "\n",
        "import matplotlib.pyplot as plt\n",
        "\n",
        "\n",
        "cutoff_df = pd.DataFrame( columns = ['Probability','Accuracy','Sensitivity','Specificity'])\n",
        "\n",
        "plt.show()\n",
        "plt.savefig('ss')"
      ],
      "metadata": {
        "id": "Dewbpm0cLzxK",
        "colab": {
          "base_uri": "https://localhost:8080/",
          "height": 35
        },
        "outputId": "ae2e0edb-b21a-4c6c-900a-bd8a4ce8caa8"
      },
      "execution_count": 101,
      "outputs": [
        {
          "output_type": "display_data",
          "data": {
            "text/plain": [
              "<Figure size 432x288 with 0 Axes>"
            ]
          },
          "metadata": {}
        }
      ]
    },
    {
      "cell_type": "code",
      "metadata": {
        "id": "MmEE2CXl3Ug9",
        "colab": {
          "base_uri": "https://localhost:8080/",
          "height": 273
        },
        "outputId": "a3d03523-5238-49e3-837f-8e6ad326c6f3"
      },
      "source": [
        "import seaborn as sn\n",
        "\n",
        "df_cm = pd.DataFrame(array, range(2), range(2))\n",
        "# plt.figure(figsize=(10,7))\n",
        "sn.set(font_scale=1.4) # for label size\n",
        "sn.heatmap(df_cm, annot=True, annot_kws={\"size\": 16}) # font size\n",
        "plt.savefig(\"conf\")\n",
        "plt.show()"
      ],
      "execution_count": 102,
      "outputs": [
        {
          "output_type": "display_data",
          "data": {
            "image/png": "[encoded data removed]",
            "text/plain": [
              "<Figure size 432x288 with 2 Axes>"
            ]
          },
          "metadata": {}
        }
      ]
    },
    {
      "cell_type": "code",
      "source": [
        "df_cm"
      ],
      "metadata": {
        "id": "pFSLNMoPG8KP",
        "colab": {
          "base_uri": "https://localhost:8080/",
          "height": 112
        },
        "outputId": "f2dee1e8-1dd5-4e49-bfde-c745a78a386b"
      },
      "execution_count": 103,
      "outputs": [
        {
          "output_type": "execute_result",
          "data": {
            "text/html": [
              "\n",
              "  <div id=\"df-1074f887-7fb7-46ea-8f84-55002d21ab4a\">\n",
              "    <div class=\"colab-df-container\">\n",
              "      <div>\n",
              "<style scoped>\n",
              "    .dataframe tbody tr th:only-of-type {\n",
              "        vertical-align: middle;\n",
              "    }\n",
              "\n",
              "    .dataframe tbody tr th {\n",
              "        vertical-align: top;\n",
              "    }\n",
              "\n",
              "    .dataframe thead th {\n",
              "        text-align: right;\n",
              "    }\n",
              "</style>\n",
              "<table border=\"1\" class=\"dataframe\">\n",
              "  <thead>\n",
              "    <tr style=\"text-align: right;\">\n",
              "      <th></th>\n",
              "      <th>0</th>\n",
              "      <th>1</th>\n",
              "    </tr>\n",
              "  </thead>\n",
              "  <tbody>\n",
              "    <tr>\n",
              "      <th>0</th>\n",
              "      <td>0.871429</td>\n",
              "      <td>0.128571</td>\n",
              "    </tr>\n",
              "    <tr>\n",
              "      <th>1</th>\n",
              "      <td>0.026882</td>\n",
              "      <td>0.973118</td>\n",
              "    </tr>\n",
              "  </tbody>\n",
              "</table>\n",
              "</div>\n",
              "      <button class=\"colab-df-convert\" onclick=\"convertToInteractive('df-1074f887-7fb7-46ea-8f84-55002d21ab4a')\"\n",
              "              title=\"Convert this dataframe to an interactive table.\"\n",
              "              style=\"display:none;\">\n",
              "        \n",
              "  <svg xmlns=\"http://www.w3.org/2000/svg\" height=\"24px\"viewBox=\"0 0 24 24\"\n",
              "       width=\"24px\">\n",
              "    <path d=\"M0 0h24v24H0V0z\" fill=\"none\"/>\n",
              "    <path d=\"M18.56 5.44l.94 2.06.94-2.06 2.06-.94-2.06-.94-.94-2.06-.94 2.06-2.06.94zm-11 1L8.5 8.5l.94-2.06 2.06-.94-2.06-.94L8.5 2.5l-.94 2.06-2.06.94zm10 10l.94 2.06.94-2.06 2.06-.94-2.06-.94-.94-2.06-.94 2.06-2.06.94z\"/><path d=\"M17.41 7.96l-1.37-1.37c-.4-.4-.92-.59-1.43-.59-.52 0-1.04.2-1.43.59L10.3 9.45l-7.72 7.72c-.78.78-.78 2.05 0 2.83L4 21.41c.39.39.9.59 1.41.59.51 0 1.02-.2 1.41-.59l7.78-7.78 2.81-2.81c.8-.78.8-2.07 0-2.86zM5.41 20L4 18.59l7.72-7.72 1.47 1.35L5.41 20z\"/>\n",
              "  </svg>\n",
              "      </button>\n",
              "      \n",
              "  <style>\n",
              "    .colab-df-container {\n",
              "      display:flex;\n",
              "      flex-wrap:wrap;\n",
              "      gap: 12px;\n",
              "    }\n",
              "\n",
              "    .colab-df-convert {\n",
              "      background-color: #E8F0FE;\n",
              "      border: none;\n",
              "      border-radius: 50%;\n",
              "      cursor: pointer;\n",
              "      display: none;\n",
              "      fill: #1967D2;\n",
              "      height: 32px;\n",
              "      padding: 0 0 0 0;\n",
              "      width: 32px;\n",
              "    }\n",
              "\n",
              "    .colab-df-convert:hover {\n",
              "      background-color: #E2EBFA;\n",
              "      box-shadow: 0px 1px 2px rgba(60, 64, 67, 0.3), 0px 1px 3px 1px rgba(60, 64, 67, 0.15);\n",
              "      fill: #174EA6;\n",
              "    }\n",
              "\n",
              "    [theme=dark] .colab-df-convert {\n",
              "      background-color: #3B4455;\n",
              "      fill: #D2E3FC;\n",
              "    }\n",
              "\n",
              "    [theme=dark] .colab-df-convert:hover {\n",
              "      background-color: #434B5C;\n",
              "      box-shadow: 0px 1px 3px 1px rgba(0, 0, 0, 0.15);\n",
              "      filter: drop-shadow(0px 1px 2px rgba(0, 0, 0, 0.3));\n",
              "      fill: #FFFFFF;\n",
              "    }\n",
              "  </style>\n",
              "\n",
              "      <script>\n",
              "        const buttonEl =\n",
              "          document.querySelector('#df-1074f887-7fb7-46ea-8f84-55002d21ab4a button.colab-df-convert');\n",
              "        buttonEl.style.display =\n",
              "          google.colab.kernel.accessAllowed ? 'block' : 'none';\n",
              "\n",
              "        async function convertToInteractive(key) {\n",
              "          const element = document.querySelector('#df-1074f887-7fb7-46ea-8f84-55002d21ab4a');\n",
              "          const dataTable =\n",
              "            await google.colab.kernel.invokeFunction('convertToInteractive',\n",
              "                                                     [key], {});\n",
              "          if (!dataTable) return;\n",
              "\n",
              "          const docLinkHtml = 'Like what you see? Visit the ' +\n",
              "            '<a target=\"_blank\" href=https://colab.research.google.com/notebooks/data_table.ipynb>data table notebook</a>'\n",
              "            + ' to learn more about interactive tables.';\n",
              "          element.innerHTML = '';\n",
              "          dataTable['output_type'] = 'display_data';\n",
              "          await google.colab.output.renderOutput(dataTable, element);\n",
              "          const docLink = document.createElement('div');\n",
              "          docLink.innerHTML = docLinkHtml;\n",
              "          element.appendChild(docLink);\n",
              "        }\n",
              "      </script>\n",
              "    </div>\n",
              "  </div>\n",
              "  "
            ],
            "text/plain": [
              "          0         1\n",
              "0  0.871429  0.128571\n",
              "1  0.026882  0.973118"
            ]
          },
          "metadata": {},
          "execution_count": 103
        }
      ]
    },
    {
      "cell_type": "code",
      "source": [
        "help(model.predict_generator)"
      ],
      "metadata": {
        "id": "ZZ4PVR5fGrq-",
        "colab": {
          "base_uri": "https://localhost:8080/"
        },
        "outputId": "e0863320-63e7-49d0-9a88-e5ab1c15c22d"
      },
      "execution_count": 104,
      "outputs": [
        {
          "output_type": "stream",
          "name": "stdout",
          "text": [
            "Help on method predict_generator in module keras.engine.training:\n",
            "\n",
            "predict_generator(generator, steps=None, max_queue_size=10, workers=1, use_multiprocessing=False, verbose=0) method of keras.engine.training.Model instance\n",
            "    Generates predictions for the input samples from a data generator.\n",
            "    \n",
            "    The generator should return the same kind of data as accepted by\n",
            "    `predict_on_batch`.\n",
            "    \n",
            "    # Arguments\n",
            "        generator: Generator yielding batches of input samples\n",
            "            or an instance of Sequence (keras.utils.Sequence)\n",
            "            object in order to avoid duplicate data\n",
            "            when using multiprocessing.\n",
            "        steps: Total number of steps (batches of samples)\n",
            "            to yield from `generator` before stopping.\n",
            "            Optional for `Sequence`: if unspecified, will use\n",
            "            the `len(generator)` as a number of steps.\n",
            "        max_queue_size: Maximum size for the generator queue.\n",
            "        workers: Integer. Maximum number of processes to spin up\n",
            "            when using process based threading.\n",
            "            If unspecified, `workers` will default to 1. If 0, will\n",
            "            execute the generator on the main thread.\n",
            "        use_multiprocessing: If `True`, use process based threading.\n",
            "            Note that because\n",
            "            this implementation relies on multiprocessing,\n",
            "            you should not pass\n",
            "            non picklable arguments to the generator\n",
            "            as they can't be passed\n",
            "            easily to children processes.\n",
            "        verbose: verbosity mode, 0 or 1.\n",
            "    \n",
            "    # Returns\n",
            "        Numpy array(s) of predictions.\n",
            "    \n",
            "    # Raises\n",
            "        ValueError: In case the generator yields\n",
            "            data in an invalid format.\n",
            "\n"
          ]
        }
      ]
    },
    {
      "cell_type": "code",
      "metadata": {
        "id": "mPiq2i-ezhYK",
        "colab": {
          "base_uri": "https://localhost:8080/"
        },
        "outputId": "00f54eb8-315b-4d46-bb9c-7ba8e5f452fc"
      },
      "source": [
        "print(accuracy, f1_score, precision, recall)"
      ],
      "execution_count": 105,
      "outputs": [
        {
          "output_type": "stream",
          "name": "stdout",
          "text": [
            "0.9453125 <function f1_score at 0x7f1b00b1b200> 0.9526315789473684 0.9731182795698925\n"
          ]
        }
      ]
    },
    {
      "cell_type": "code",
      "metadata": {
        "id": "L-BPbhLgpMD3"
      },
      "source": [
        "sensitivity=recall"
      ],
      "execution_count": 106,
      "outputs": []
    },
    {
      "cell_type": "code",
      "metadata": {
        "id": "G9XP9HFqvxpr",
        "colab": {
          "base_uri": "https://localhost:8080/"
        },
        "outputId": "bd6fb3ec-d529-41c8-edd5-e2872ac5bded"
      },
      "source": [
        "sensitivity"
      ],
      "execution_count": 107,
      "outputs": [
        {
          "output_type": "execute_result",
          "data": {
            "text/plain": [
              "0.9731182795698925"
            ]
          },
          "metadata": {},
          "execution_count": 107
        }
      ]
    },
    {
      "cell_type": "code",
      "metadata": {
        "id": "swe1iFPErQtI"
      },
      "source": [
        "tn, fp, fn, tp =array.ravel()"
      ],
      "execution_count": 108,
      "outputs": []
    },
    {
      "cell_type": "code",
      "metadata": {
        "id": "4WpiFp7mvUvt",
        "colab": {
          "base_uri": "https://localhost:8080/"
        },
        "outputId": "a41db240-3a5b-4227-f80e-a9e0aaeb895f"
      },
      "source": [
        "tn, fp, fn, tp"
      ],
      "execution_count": 109,
      "outputs": [
        {
          "output_type": "execute_result",
          "data": {
            "text/plain": [
              "(0.8714285714285714,\n",
              " 0.12857142857142856,\n",
              " 0.026881720430107527,\n",
              " 0.9731182795698925)"
            ]
          },
          "metadata": {},
          "execution_count": 109
        }
      ]
    },
    {
      "cell_type": "code",
      "metadata": {
        "id": "-SKGwcHovcj6"
      },
      "source": [
        "specificity =tn / (tn + fp)"
      ],
      "execution_count": 110,
      "outputs": []
    },
    {
      "cell_type": "code",
      "metadata": {
        "id": "qjdK3Ad8vukt",
        "colab": {
          "base_uri": "https://localhost:8080/"
        },
        "outputId": "18c40648-9b76-4bfa-c3c0-5803f337a1e2"
      },
      "source": [
        "specificity"
      ],
      "execution_count": 111,
      "outputs": [
        {
          "output_type": "execute_result",
          "data": {
            "text/plain": [
              "0.8714285714285714"
            ]
          },
          "metadata": {},
          "execution_count": 111
        }
      ]
    },
    {
      "cell_type": "code",
      "metadata": {
        "id": "kPQP8Rk71N1v"
      },
      "source": [
        "from sklearn.metrics import roc_curve\n",
        "from sklearn.metrics import roc_auc_score"
      ],
      "execution_count": 112,
      "outputs": []
    },
    {
      "cell_type": "code",
      "metadata": {
        "id": "gV1kwZjt3MT4",
        "colab": {
          "base_uri": "https://localhost:8080/",
          "height": 315
        },
        "outputId": "302e9031-ba2d-459d-fb02-95d7375443d3"
      },
      "source": [
        "import sklearn.metrics as metrics\n",
        "# calculate the fpr and tpr for all thresholds of the classification\n",
        "\n",
        "fpr, tpr, threshold = metrics.roc_curve(y_true,y_pred)\n",
        "roc_auc = metrics.auc(fpr, tpr)\n",
        "\n",
        "# method I: plt\n",
        "import matplotlib.pyplot as plt\n",
        "plt.title('Receiver Operating Characteristic')\n",
        "plt.plot(fpr, tpr, 'b', label = 'AUC = %0.2f' % roc_auc)\n",
        "plt.legend(loc = 'lower right')\n",
        "plt.plot([0, 1], [0, 1],'r--')\n",
        "plt.xlim([0, 1])\n",
        "plt.ylim([0, 1])\n",
        "plt.ylabel('True Positive Rate')\n",
        "plt.xlabel('False Positive Rate')\n",
        "plt.show()"
      ],
      "execution_count": 113,
      "outputs": [
        {
          "output_type": "display_data",
          "data": {
            "image/png": "[encoded data removed]",
            "text/plain": [
              "<Figure size 432x288 with 1 Axes>"
            ]
          },
          "metadata": {}
        }
      ]
    },
    {
      "cell_type": "code",
      "metadata": {
        "id": "Miq1KLPhU2BA"
      },
      "source": [
        "model.save_weights('mymodel_weights')"
      ],
      "execution_count": 114,
      "outputs": []
    },
    {
      "cell_type": "code",
      "source": [
        "for x in model.layers:\n",
        "  print(x)"
      ],
      "metadata": {
        "id": "pTHb7m-XrNNl",
        "colab": {
          "base_uri": "https://localhost:8080/"
        },
        "outputId": "53b4ae93-0f9c-4ada-e7c7-8f69ff295a68"
      },
      "execution_count": 115,
      "outputs": [
        {
          "output_type": "stream",
          "name": "stdout",
          "text": [
            "<keras.engine.input_layer.InputLayer object at 0x7f1ab7f0bd90>\n",
            "<complexnn.conv.QuaternionConv2D object at 0x7f1ab7f0bcd0>\n",
            "<keras.layers.normalization.BatchNormalization object at 0x7f1ab7f0b850>\n",
            "<keras.layers.advanced_activations.ReLU object at 0x7f1b26d709d0>\n",
            "<__main__.ChannelAttention object at 0x7f1ab7f45e10>\n",
            "<__main__.SpatialAttention object at 0x7f1ab7ecbe90>\n",
            "<keras.layers.pooling.MaxPooling2D object at 0x7f1ab7ecb650>\n",
            "<complexnn.conv.QuaternionConv2D object at 0x7f1aaa2e7d90>\n",
            "<keras.layers.normalization.BatchNormalization object at 0x7f1aaa28f9d0>\n",
            "<keras.layers.advanced_activations.ELU object at 0x7f1aaa28fa10>\n",
            "<complexnn.conv.QuaternionConv2D object at 0x7f1aaa2b4950>\n",
            "<keras.layers.normalization.BatchNormalization object at 0x7f1aaa2cb2d0>\n",
            "<keras.layers.advanced_activations.ELU object at 0x7f1aaa253150>\n",
            "<complexnn.conv.QuaternionConv2D object at 0x7f1aaa2187d0>\n",
            "<complexnn.conv.QuaternionConv2D object at 0x7f1aaa1f97d0>\n",
            "<keras.layers.normalization.BatchNormalization object at 0x7f1aaa228b90>\n",
            "<keras.layers.normalization.BatchNormalization object at 0x7f1aaa190890>\n",
            "<keras.layers.advanced_activations.ELU object at 0x7f1aaa228dd0>\n",
            "<keras.layers.merge.Add object at 0x7f1aaa1903d0>\n",
            "<keras.layers.advanced_activations.ReLU object at 0x7f1aaa15d890>\n",
            "<keras.layers.pooling.MaxPooling2D object at 0x7f1aaa156f50>\n",
            "<__main__.ChannelAttention object at 0x7f1aaa114810>\n",
            "<__main__.SpatialAttention object at 0x7f1aaa114890>\n",
            "<complexnn.conv.QuaternionConv2D object at 0x7f1aaa114910>\n",
            "<keras.layers.normalization.BatchNormalization object at 0x7f1aaa11bc50>\n",
            "<keras.layers.advanced_activations.ELU object at 0x7f1aaa11bfd0>\n",
            "<complexnn.conv.QuaternionConv2D object at 0x7f1aaa140e10>\n",
            "<keras.layers.normalization.BatchNormalization object at 0x7f1aaa0dc410>\n",
            "<keras.layers.advanced_activations.ELU object at 0x7f1aaa0dc190>\n",
            "<complexnn.conv.QuaternionConv2D object at 0x7f1aaa0a4e50>\n",
            "<complexnn.conv.QuaternionConv2D object at 0x7f1aaa089e90>\n",
            "<keras.layers.normalization.BatchNormalization object at 0x7f1aaa0bbcd0>\n",
            "<keras.layers.normalization.BatchNormalization object at 0x7f1aaa033610>\n",
            "<keras.layers.advanced_activations.ELU object at 0x7f1aaa0bbed0>\n",
            "<keras.layers.merge.Add object at 0x7f1aaa033c50>\n",
            "<keras.layers.advanced_activations.ReLU object at 0x7f1aa07e7cd0>\n",
            "<keras.layers.pooling.MaxPooling2D object at 0x7f1aa07eec10>\n",
            "<__main__.ChannelAttention object at 0x7f1aa079ff90>\n",
            "<__main__.SpatialAttention object at 0x7f1aa079fe10>\n",
            "<complexnn.conv.QuaternionConv2D object at 0x7f1aa079ffd0>\n",
            "<keras.layers.normalization.BatchNormalization object at 0x7f1aa07af710>\n",
            "<keras.layers.advanced_activations.ELU object at 0x7f1aa07af750>\n",
            "<complexnn.conv.QuaternionConv2D object at 0x7f1aa0750a90>\n",
            "<keras.layers.normalization.BatchNormalization object at 0x7f1aa076b850>\n",
            "<keras.layers.advanced_activations.ELU object at 0x7f1aa076b710>\n",
            "<complexnn.conv.QuaternionConv2D object at 0x7f1aa0734d50>\n",
            "<complexnn.conv.QuaternionConv2D object at 0x7f1aa069ef50>\n",
            "<keras.layers.normalization.BatchNormalization object at 0x7f1aa06cc0d0>\n",
            "<keras.layers.normalization.BatchNormalization object at 0x7f1aa06afed0>\n",
            "<keras.layers.advanced_activations.ELU object at 0x7f1aa0691d90>\n",
            "<keras.layers.merge.Add object at 0x7f1aa0675910>\n",
            "<keras.layers.advanced_activations.ReLU object at 0x7f1aa067c210>\n",
            "<keras.layers.pooling.MaxPooling2D object at 0x7f1aa0603ad0>\n",
            "<__main__.ChannelAttention object at 0x7f1aa0624e90>\n",
            "<__main__.SpatialAttention object at 0x7f1aa0624cd0>\n",
            "<complexnn.conv.QuaternionConv2D object at 0x7f1aa0628110>\n",
            "<keras.layers.normalization.BatchNormalization object at 0x7f1aa05c9d90>\n",
            "<keras.layers.advanced_activations.ELU object at 0x7f1aa05e5f90>\n",
            "<complexnn.conv.QuaternionConv2D object at 0x7f1aa05ec190>\n",
            "<keras.layers.normalization.BatchNormalization object at 0x7f1aa0583f50>\n",
            "<keras.layers.advanced_activations.ELU object at 0x7f1aa054ae50>\n",
            "<complexnn.conv.QuaternionConv2D object at 0x7f1aa0556650>\n",
            "<complexnn.conv.QuaternionConv2D object at 0x7f1aa0531e90>\n",
            "<keras.layers.normalization.BatchNormalization object at 0x7f1aa05687d0>\n",
            "<keras.layers.normalization.BatchNormalization object at 0x7f1aa04d6350>\n",
            "<keras.layers.advanced_activations.ELU object at 0x7f1aa056fc90>\n",
            "<keras.layers.merge.Add object at 0x7f1aa04ca9d0>\n",
            "<keras.layers.advanced_activations.ReLU object at 0x7f1aa049aed0>\n",
            "<keras.layers.pooling.MaxPooling2D object at 0x7f1aa049a710>\n",
            "<__main__.ChannelAttention object at 0x7f1aa0454950>\n",
            "<__main__.SpatialAttention object at 0x7f1aa0454710>\n",
            "<keras.layers.pooling.GlobalAveragePooling2D object at 0x7f1aa04547d0>\n",
            "<keras.layers.core.Dense object at 0x7f1aa0458550>\n",
            "<keras.layers.core.Dropout object at 0x7f1aa0461610>\n",
            "<keras.layers.core.Dense object at 0x7f1aa04612d0>\n"
          ]
        }
      ]
    },
    {
      "cell_type": "code",
      "source": [
        "from keras.models import Sequential\n",
        "from keras.layers import Dense\n",
        "from keras.utils.vis_utils import plot_model\n",
        "\n",
        "plot_model(model, to_file='model_plot.png', show_shapes=True, show_layer_names=True)"
      ],
      "metadata": {
        "id": "KZmhwqQ4rXUT"
      },
      "execution_count": 116,
      "outputs": []
    },
    {
      "cell_type": "code",
      "source": [
        "import pandas as pd"
      ],
      "metadata": {
        "id": "KdZvpFNuwFzt"
      },
      "execution_count": 117,
      "outputs": []
    },
    {
      "cell_type": "code",
      "source": [
        "# convert the history.history dict to a pandas DataFrame:     \n",
        "hist_df = pd.DataFrame(history.history) \n",
        "\n",
        "# save to json:  \n",
        "hist_json_file = 'history.json' \n",
        "with open(hist_json_file, mode='w') as f:\n",
        "    hist_df.to_json(f)\n",
        "\n",
        "# or save to csv: \n",
        "hist_csv_file = 'history.csv'\n",
        "with open(hist_csv_file, mode='w') as f:\n",
        "    hist_df.to_csv(f)"
      ],
      "metadata": {
        "id": "iOUHleKbwLC9"
      },
      "execution_count": 118,
      "outputs": []
    }
  ]
}