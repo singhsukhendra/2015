{
  "nbformat": 4,
  "nbformat_minor": 0,
  "metadata": {
    "colab": {
      "name": "Pneumonia_Detection_with_Quaternion_Residual_Attention_Network.ipynb",
      "provenance": [],
      "collapsed_sections": [],
      "include_colab_link": true
    },
    "kernelspec": {
      "name": "python3",
      "display_name": "Python 3"
    },
    "accelerator": "GPU"
  },
  "cells": [
    {
      "cell_type": "markdown",
      "metadata": {
        "id": "view-in-github",
        "colab_type": "text"
      },
      "source": [
        "<a href=\"https://colab.research.google.com/github/singhsukhendra/2015/blob/master/Pneumonia_Detection_with_Quaternion_Residual_Attention_Network.ipynb\" target=\"_parent\"><img src=\"https://colab.research.google.com/assets/colab-badge.svg\" alt=\"Open In Colab\"/></a>"
      ]
    },
    {
      "cell_type": "code",
      "metadata": {
        "id": "bm3z_Bcgq8J3",
        "colab": {
          "base_uri": "https://localhost:8080/"
        },
        "outputId": "33c2472f-13cb-4d84-d831-41158f17cf04"
      },
      "source": [
        "!pip install kaggle"
      ],
      "execution_count": 1,
      "outputs": [
        {
          "output_type": "stream",
          "name": "stdout",
          "text": [
            "Requirement already satisfied: kaggle in /usr/local/lib/python3.7/dist-packages (1.5.12)\n",
            "Requirement already satisfied: six>=1.10 in /usr/local/lib/python3.7/dist-packages (from kaggle) (1.15.0)\n",
            "Requirement already satisfied: python-slugify in /usr/local/lib/python3.7/dist-packages (from kaggle) (6.0.1)\n",
            "Requirement already satisfied: urllib3 in /usr/local/lib/python3.7/dist-packages (from kaggle) (1.24.3)\n",
            "Requirement already satisfied: tqdm in /usr/local/lib/python3.7/dist-packages (from kaggle) (4.62.3)\n",
            "Requirement already satisfied: python-dateutil in /usr/local/lib/python3.7/dist-packages (from kaggle) (2.8.2)\n",
            "Requirement already satisfied: certifi in /usr/local/lib/python3.7/dist-packages (from kaggle) (2021.10.8)\n",
            "Requirement already satisfied: requests in /usr/local/lib/python3.7/dist-packages (from kaggle) (2.23.0)\n",
            "Requirement already satisfied: text-unidecode>=1.3 in /usr/local/lib/python3.7/dist-packages (from python-slugify->kaggle) (1.3)\n",
            "Requirement already satisfied: idna<3,>=2.5 in /usr/local/lib/python3.7/dist-packages (from requests->kaggle) (2.10)\n",
            "Requirement already satisfied: chardet<4,>=3.0.2 in /usr/local/lib/python3.7/dist-packages (from requests->kaggle) (3.0.4)\n"
          ]
        }
      ]
    },
    {
      "cell_type": "code",
      "metadata": {
        "id": "qDJG2WbbrJdt",
        "colab": {
          "base_uri": "https://localhost:8080/"
        },
        "outputId": "d8a99738-3668-445e-b16f-95452ad0cfc2"
      },
      "source": [
        "!pip install keras==\"2.2.4\""
      ],
      "execution_count": 2,
      "outputs": [
        {
          "output_type": "stream",
          "name": "stdout",
          "text": [
            "Collecting keras==2.2.4\n",
            "  Downloading Keras-2.2.4-py2.py3-none-any.whl (312 kB)\n",
            "\u001b[K     |████████████████████████████████| 312 kB 5.3 MB/s \n",
            "\u001b[?25hRequirement already satisfied: numpy>=1.9.1 in /usr/local/lib/python3.7/dist-packages (from keras==2.2.4) (1.21.5)\n",
            "Collecting keras-applications>=1.0.6\n",
            "  Downloading Keras_Applications-1.0.8-py3-none-any.whl (50 kB)\n",
            "\u001b[K     |████████████████████████████████| 50 kB 3.4 MB/s \n",
            "\u001b[?25hRequirement already satisfied: six>=1.9.0 in /usr/local/lib/python3.7/dist-packages (from keras==2.2.4) (1.15.0)\n",
            "Requirement already satisfied: keras-preprocessing>=1.0.5 in /usr/local/lib/python3.7/dist-packages (from keras==2.2.4) (1.1.2)\n",
            "Requirement already satisfied: scipy>=0.14 in /usr/local/lib/python3.7/dist-packages (from keras==2.2.4) (1.4.1)\n",
            "Requirement already satisfied: h5py in /usr/local/lib/python3.7/dist-packages (from keras==2.2.4) (3.1.0)\n",
            "Requirement already satisfied: pyyaml in /usr/local/lib/python3.7/dist-packages (from keras==2.2.4) (3.13)\n",
            "Requirement already satisfied: cached-property in /usr/local/lib/python3.7/dist-packages (from h5py->keras==2.2.4) (1.5.2)\n",
            "Installing collected packages: keras-applications, keras\n",
            "  Attempting uninstall: keras\n",
            "    Found existing installation: keras 2.8.0\n",
            "    Uninstalling keras-2.8.0:\n",
            "      Successfully uninstalled keras-2.8.0\n",
            "\u001b[31mERROR: pip's dependency resolver does not currently take into account all the packages that are installed. This behaviour is the source of the following dependency conflicts.\n",
            "tensorflow 2.8.0 requires tf-estimator-nightly==2.8.0.dev2021122109, which is not installed.\n",
            "tensorflow 2.8.0 requires keras<2.9,>=2.8.0rc0, but you have keras 2.2.4 which is incompatible.\u001b[0m\n",
            "Successfully installed keras-2.2.4 keras-applications-1.0.8\n"
          ]
        }
      ]
    },
    {
      "cell_type": "code",
      "metadata": {
        "id": "9vcX1sn1rOgi",
        "colab": {
          "base_uri": "https://localhost:8080/"
        },
        "outputId": "3fe20d5f-1dcc-4924-f036-3f2e5b869ef1"
      },
      "source": [
        "!pip install tensorflow==1.15"
      ],
      "execution_count": 3,
      "outputs": [
        {
          "output_type": "stream",
          "name": "stdout",
          "text": [
            "Collecting tensorflow==1.15\n",
            "  Downloading tensorflow-1.15.0-cp37-cp37m-manylinux2010_x86_64.whl (412.3 MB)\n",
            "\u001b[K     |████████████████████████████████| 412.3 MB 24 kB/s \n",
            "\u001b[?25hRequirement already satisfied: opt-einsum>=2.3.2 in /usr/local/lib/python3.7/dist-packages (from tensorflow==1.15) (3.3.0)\n",
            "Requirement already satisfied: numpy<2.0,>=1.16.0 in /usr/local/lib/python3.7/dist-packages (from tensorflow==1.15) (1.21.5)\n",
            "Requirement already satisfied: termcolor>=1.1.0 in /usr/local/lib/python3.7/dist-packages (from tensorflow==1.15) (1.1.0)\n",
            "Requirement already satisfied: wheel>=0.26 in /usr/local/lib/python3.7/dist-packages (from tensorflow==1.15) (0.37.1)\n",
            "Requirement already satisfied: keras-applications>=1.0.8 in /usr/local/lib/python3.7/dist-packages (from tensorflow==1.15) (1.0.8)\n",
            "Requirement already satisfied: astor>=0.6.0 in /usr/local/lib/python3.7/dist-packages (from tensorflow==1.15) (0.8.1)\n",
            "Collecting gast==0.2.2\n",
            "  Downloading gast-0.2.2.tar.gz (10 kB)\n",
            "Requirement already satisfied: google-pasta>=0.1.6 in /usr/local/lib/python3.7/dist-packages (from tensorflow==1.15) (0.2.0)\n",
            "Requirement already satisfied: six>=1.10.0 in /usr/local/lib/python3.7/dist-packages (from tensorflow==1.15) (1.15.0)\n",
            "Collecting tensorflow-estimator==1.15.1\n",
            "  Downloading tensorflow_estimator-1.15.1-py2.py3-none-any.whl (503 kB)\n",
            "\u001b[K     |████████████████████████████████| 503 kB 33.6 MB/s \n",
            "\u001b[?25hRequirement already satisfied: wrapt>=1.11.1 in /usr/local/lib/python3.7/dist-packages (from tensorflow==1.15) (1.13.3)\n",
            "Requirement already satisfied: grpcio>=1.8.6 in /usr/local/lib/python3.7/dist-packages (from tensorflow==1.15) (1.43.0)\n",
            "Requirement already satisfied: protobuf>=3.6.1 in /usr/local/lib/python3.7/dist-packages (from tensorflow==1.15) (3.17.3)\n",
            "Collecting tensorboard<1.16.0,>=1.15.0\n",
            "  Downloading tensorboard-1.15.0-py3-none-any.whl (3.8 MB)\n",
            "\u001b[K     |████████████████████████████████| 3.8 MB 11.8 MB/s \n",
            "\u001b[?25hRequirement already satisfied: keras-preprocessing>=1.0.5 in /usr/local/lib/python3.7/dist-packages (from tensorflow==1.15) (1.1.2)\n",
            "Requirement already satisfied: absl-py>=0.7.0 in /usr/local/lib/python3.7/dist-packages (from tensorflow==1.15) (1.0.0)\n",
            "Requirement already satisfied: h5py in /usr/local/lib/python3.7/dist-packages (from keras-applications>=1.0.8->tensorflow==1.15) (3.1.0)\n",
            "Requirement already satisfied: werkzeug>=0.11.15 in /usr/local/lib/python3.7/dist-packages (from tensorboard<1.16.0,>=1.15.0->tensorflow==1.15) (1.0.1)\n",
            "Requirement already satisfied: markdown>=2.6.8 in /usr/local/lib/python3.7/dist-packages (from tensorboard<1.16.0,>=1.15.0->tensorflow==1.15) (3.3.6)\n",
            "Requirement already satisfied: setuptools>=41.0.0 in /usr/local/lib/python3.7/dist-packages (from tensorboard<1.16.0,>=1.15.0->tensorflow==1.15) (57.4.0)\n",
            "Requirement already satisfied: importlib-metadata>=4.4 in /usr/local/lib/python3.7/dist-packages (from markdown>=2.6.8->tensorboard<1.16.0,>=1.15.0->tensorflow==1.15) (4.11.1)\n",
            "Requirement already satisfied: zipp>=0.5 in /usr/local/lib/python3.7/dist-packages (from importlib-metadata>=4.4->markdown>=2.6.8->tensorboard<1.16.0,>=1.15.0->tensorflow==1.15) (3.7.0)\n",
            "Requirement already satisfied: typing-extensions>=3.6.4 in /usr/local/lib/python3.7/dist-packages (from importlib-metadata>=4.4->markdown>=2.6.8->tensorboard<1.16.0,>=1.15.0->tensorflow==1.15) (3.10.0.2)\n",
            "Requirement already satisfied: cached-property in /usr/local/lib/python3.7/dist-packages (from h5py->keras-applications>=1.0.8->tensorflow==1.15) (1.5.2)\n",
            "Building wheels for collected packages: gast\n",
            "  Building wheel for gast (setup.py) ... \u001b[?25l\u001b[?25hdone\n",
            "  Created wheel for gast: filename=gast-0.2.2-py3-none-any.whl size=7554 sha256=51350916e7e502413d98ac082bda21e8df26b4719f5f73acd43af03d003677fa\n",
            "  Stored in directory: /root/.cache/pip/wheels/21/7f/02/420f32a803f7d0967b48dd823da3f558c5166991bfd204eef3\n",
            "Successfully built gast\n",
            "Installing collected packages: tensorflow-estimator, tensorboard, gast, tensorflow\n",
            "  Attempting uninstall: tensorflow-estimator\n",
            "    Found existing installation: tensorflow-estimator 2.8.0\n",
            "    Uninstalling tensorflow-estimator-2.8.0:\n",
            "      Successfully uninstalled tensorflow-estimator-2.8.0\n",
            "  Attempting uninstall: tensorboard\n",
            "    Found existing installation: tensorboard 2.8.0\n",
            "    Uninstalling tensorboard-2.8.0:\n",
            "      Successfully uninstalled tensorboard-2.8.0\n",
            "  Attempting uninstall: gast\n",
            "    Found existing installation: gast 0.5.3\n",
            "    Uninstalling gast-0.5.3:\n",
            "      Successfully uninstalled gast-0.5.3\n",
            "  Attempting uninstall: tensorflow\n",
            "    Found existing installation: tensorflow 2.8.0\n",
            "    Uninstalling tensorflow-2.8.0:\n",
            "      Successfully uninstalled tensorflow-2.8.0\n",
            "\u001b[31mERROR: pip's dependency resolver does not currently take into account all the packages that are installed. This behaviour is the source of the following dependency conflicts.\n",
            "tensorflow-probability 0.16.0 requires gast>=0.3.2, but you have gast 0.2.2 which is incompatible.\n",
            "kapre 0.3.7 requires tensorflow>=2.0.0, but you have tensorflow 1.15.0 which is incompatible.\u001b[0m\n",
            "Successfully installed gast-0.2.2 tensorboard-1.15.0 tensorflow-1.15.0 tensorflow-estimator-1.15.1\n"
          ]
        }
      ]
    },
    {
      "cell_type": "code",
      "metadata": {
        "id": "NU8uoUkcrYEw"
      },
      "source": [
        "!mkdir -p ~/.kaggle/\n",
        "!cp kaggle.json ~/.kaggle/"
      ],
      "execution_count": 4,
      "outputs": []
    },
    {
      "cell_type": "code",
      "metadata": {
        "id": "YeeFuFZtsDUI",
        "colab": {
          "base_uri": "https://localhost:8080/"
        },
        "outputId": "a1370ea6-e7b2-474a-bb78-03093166f53f"
      },
      "source": [
        "!kaggle datasets download -d paultimothymooney/chest-xray-pneumonia"
      ],
      "execution_count": 5,
      "outputs": [
        {
          "output_type": "stream",
          "name": "stdout",
          "text": [
            "Warning: Your Kaggle API key is readable by other users on this system! To fix this, you can run 'chmod 600 /root/.kaggle/kaggle.json'\n",
            "Downloading chest-xray-pneumonia.zip to /content\n",
            "100% 2.29G/2.29G [00:17<00:00, 82.9MB/s]\n",
            "100% 2.29G/2.29G [00:17<00:00, 138MB/s] \n"
          ]
        }
      ]
    },
    {
      "cell_type": "code",
      "metadata": {
        "id": "d1whZNjgvfHu"
      },
      "source": [
        "\n",
        "import zipfile\n",
        "with zipfile.ZipFile(\"/content/chest-xray-pneumonia.zip\",\"r\") as zip_ref:\n",
        "    zip_ref.extractall(\"chest-xray-pneumonia\")"
      ],
      "execution_count": 6,
      "outputs": []
    },
    {
      "cell_type": "code",
      "metadata": {
        "id": "aNBD8eABtMUJ"
      },
      "source": [
        "! mkdir data_used"
      ],
      "execution_count": 7,
      "outputs": []
    },
    {
      "cell_type": "code",
      "metadata": {
        "id": "FF738dIOzyXu"
      },
      "source": [
        "!mkdir data_used/NORMAL"
      ],
      "execution_count": 8,
      "outputs": []
    },
    {
      "cell_type": "code",
      "metadata": {
        "id": "l_HfM3tGzzTa"
      },
      "source": [
        "!mkdir data_used/PNEUMONIA"
      ],
      "execution_count": 9,
      "outputs": []
    },
    {
      "cell_type": "code",
      "metadata": {
        "id": "PR7BL4vMRFoj"
      },
      "source": [
        "! cp -r /content/chest-xray-pneumonia/chest_xray/chest_xray/train/NORMAL/*.jpeg   /content/data_used/NORMAL"
      ],
      "execution_count": 10,
      "outputs": []
    },
    {
      "cell_type": "code",
      "metadata": {
        "id": "CBQKu5yVRMAh"
      },
      "source": [
        "! cp -r /content/chest-xray-pneumonia/chest_xray/chest_xray/test/NORMAL/*.jpeg   /content/data_used/NORMAL"
      ],
      "execution_count": 11,
      "outputs": []
    },
    {
      "cell_type": "code",
      "metadata": {
        "id": "ESLCNfZBRMvh"
      },
      "source": [
        "! cp -r /content/chest-xray-pneumonia/chest_xray/chest_xray/val/NORMAL/*.jpeg   /content/data_used/NORMAL"
      ],
      "execution_count": 12,
      "outputs": []
    },
    {
      "cell_type": "code",
      "metadata": {
        "id": "fxbeAAYoQ4_2"
      },
      "source": [
        "! cp -r /content/chest-xray-pneumonia/chest_xray/chest_xray/train/PNEUMONIA/*.jpeg   /content/data_used/PNEUMONIA"
      ],
      "execution_count": 13,
      "outputs": []
    },
    {
      "cell_type": "code",
      "metadata": {
        "id": "OWlwaCwaRA7F"
      },
      "source": [
        "! cp -r /content/chest-xray-pneumonia/chest_xray/chest_xray/test/PNEUMONIA/*.jpeg   /content/data_used/PNEUMONIA"
      ],
      "execution_count": 14,
      "outputs": []
    },
    {
      "cell_type": "code",
      "metadata": {
        "id": "oTW6bBnAtb06"
      },
      "source": [
        "! cp -r /content/chest-xray-pneumonia/chest_xray/chest_xray/val/PNEUMONIA/*.jpeg   /content/data_used/PNEUMONIA"
      ],
      "execution_count": 15,
      "outputs": []
    },
    {
      "cell_type": "code",
      "metadata": {
        "id": "n8ZgYZxsodN7"
      },
      "source": [
        "import zipfile\n",
        "\n",
        "with zipfile.ZipFile(\"complexnn.zip\",\"r\") as zip_ref:\n",
        "    zip_ref.extractall()"
      ],
      "execution_count": 16,
      "outputs": []
    },
    {
      "cell_type": "code",
      "metadata": {
        "id": "esgXl_scoiop"
      },
      "source": [
        "import pandas as pd\n",
        "import numpy as np\n",
        "import os\n",
        "\n",
        "from glob import glob\n",
        "import itertools\n",
        "import fnmatch\n",
        "import random\n",
        "import matplotlib.pylab as plt\n",
        "#import seaborn as sns\n",
        "import cv2\n",
        "from sklearn.model_selection import train_test_split\n",
        "%matplotlib inline"
      ],
      "execution_count": 17,
      "outputs": []
    },
    {
      "cell_type": "code",
      "metadata": {
        "id": "0PVZlJ6IolPd",
        "colab": {
          "base_uri": "https://localhost:8080/"
        },
        "outputId": "f261cec4-8766-4a38-d1a7-cf2433c6687d"
      },
      "source": [
        "imagePatches = glob('/content/data_used/*/*.jpeg', recursive=True)\n",
        "for filename in imagePatches[0:1000]:\n",
        "    print(filename)"
      ],
      "execution_count": 18,
      "outputs": [
        {
          "output_type": "stream",
          "name": "stdout",
          "text": [
            "/content/data_used/NORMAL/IM-0145-0001.jpeg\n",
            "/content/data_used/NORMAL/NORMAL2-IM-0851-0001-0001.jpeg\n",
            "/content/data_used/NORMAL/IM-0484-0001.jpeg\n",
            "/content/data_used/NORMAL/IM-0689-0001.jpeg\n",
            "/content/data_used/NORMAL/IM-0721-0001.jpeg\n",
            "/content/data_used/NORMAL/NORMAL2-IM-0418-0001.jpeg\n",
            "/content/data_used/NORMAL/IM-0230-0001.jpeg\n",
            "/content/data_used/NORMAL/IM-0578-0001.jpeg\n",
            "/content/data_used/NORMAL/NORMAL2-IM-0898-0001.jpeg\n",
            "/content/data_used/NORMAL/NORMAL2-IM-0386-0001.jpeg\n",
            "/content/data_used/NORMAL/NORMAL2-IM-1422-0001.jpeg\n",
            "/content/data_used/NORMAL/IM-0448-0001.jpeg\n",
            "/content/data_used/NORMAL/NORMAL2-IM-0496-0001.jpeg\n",
            "/content/data_used/NORMAL/IM-0354-0001.jpeg\n",
            "/content/data_used/NORMAL/IM-0183-0001.jpeg\n",
            "/content/data_used/NORMAL/NORMAL2-IM-1022-0001.jpeg\n",
            "/content/data_used/NORMAL/NORMAL2-IM-1112-0001.jpeg\n",
            "/content/data_used/NORMAL/NORMAL2-IM-0954-0001.jpeg\n",
            "/content/data_used/NORMAL/NORMAL2-IM-0907-0001.jpeg\n",
            "/content/data_used/NORMAL/IM-0640-0001-0002.jpeg\n",
            "/content/data_used/NORMAL/IM-0542-0001.jpeg\n",
            "/content/data_used/NORMAL/NORMAL2-IM-0373-0001.jpeg\n",
            "/content/data_used/NORMAL/NORMAL2-IM-0775-0001.jpeg\n",
            "/content/data_used/NORMAL/NORMAL2-IM-0650-0001.jpeg\n",
            "/content/data_used/NORMAL/IM-0664-0001.jpeg\n",
            "/content/data_used/NORMAL/IM-0600-0001.jpeg\n",
            "/content/data_used/NORMAL/IM-0317-0001.jpeg\n",
            "/content/data_used/NORMAL/IM-0033-0001.jpeg\n",
            "/content/data_used/NORMAL/NORMAL2-IM-1026-0001.jpeg\n",
            "/content/data_used/NORMAL/NORMAL2-IM-0621-0001.jpeg\n",
            "/content/data_used/NORMAL/IM-0514-0001.jpeg\n",
            "/content/data_used/NORMAL/IM-0554-0001.jpeg\n",
            "/content/data_used/NORMAL/NORMAL2-IM-0222-0001.jpeg\n",
            "/content/data_used/NORMAL/NORMAL2-IM-0481-0001.jpeg\n",
            "/content/data_used/NORMAL/NORMAL2-IM-0881-0001.jpeg\n",
            "/content/data_used/NORMAL/IM-0622-0001-0001.jpeg\n",
            "/content/data_used/NORMAL/NORMAL2-IM-1356-0001.jpeg\n",
            "/content/data_used/NORMAL/IM-0511-0001-0002.jpeg\n",
            "/content/data_used/NORMAL/NORMAL2-IM-0362-0001.jpeg\n",
            "/content/data_used/NORMAL/NORMAL2-IM-0814-0001.jpeg\n",
            "/content/data_used/NORMAL/NORMAL2-IM-0983-0001.jpeg\n",
            "/content/data_used/NORMAL/IM-0444-0001.jpeg\n",
            "/content/data_used/NORMAL/NORMAL2-IM-1345-0001.jpeg\n",
            "/content/data_used/NORMAL/NORMAL2-IM-0730-0001.jpeg\n",
            "/content/data_used/NORMAL/NORMAL2-IM-0949-0001.jpeg\n",
            "/content/data_used/NORMAL/IM-0706-0001.jpeg\n",
            "/content/data_used/NORMAL/NORMAL2-IM-0397-0001.jpeg\n",
            "/content/data_used/NORMAL/IM-0262-0001.jpeg\n",
            "/content/data_used/NORMAL/IM-0521-0001.jpeg\n",
            "/content/data_used/NORMAL/IM-0537-0001.jpeg\n",
            "/content/data_used/NORMAL/NORMAL2-IM-0611-0001.jpeg\n",
            "/content/data_used/NORMAL/NORMAL2-IM-0929-0001.jpeg\n",
            "/content/data_used/NORMAL/NORMAL2-IM-1117-0001.jpeg\n",
            "/content/data_used/NORMAL/NORMAL2-IM-1093-0001.jpeg\n",
            "/content/data_used/NORMAL/NORMAL2-IM-0480-0001.jpeg\n",
            "/content/data_used/NORMAL/NORMAL2-IM-0854-0001.jpeg\n",
            "/content/data_used/NORMAL/NORMAL2-IM-0846-0001.jpeg\n",
            "/content/data_used/NORMAL/IM-0659-0001.jpeg\n",
            "/content/data_used/NORMAL/IM-0475-0001.jpeg\n",
            "/content/data_used/NORMAL/IM-0017-0001.jpeg\n",
            "/content/data_used/NORMAL/IM-0488-0001.jpeg\n",
            "/content/data_used/NORMAL/NORMAL2-IM-0993-0001.jpeg\n",
            "/content/data_used/NORMAL/NORMAL2-IM-1091-0001.jpeg\n",
            "/content/data_used/NORMAL/IM-0520-0001.jpeg\n",
            "/content/data_used/NORMAL/NORMAL2-IM-0653-0001.jpeg\n",
            "/content/data_used/NORMAL/IM-0294-0001.jpeg\n",
            "/content/data_used/NORMAL/NORMAL2-IM-1285-0001.jpeg\n",
            "/content/data_used/NORMAL/IM-0131-0001.jpeg\n",
            "/content/data_used/NORMAL/IM-0502-0001.jpeg\n",
            "/content/data_used/NORMAL/NORMAL2-IM-0665-0001.jpeg\n",
            "/content/data_used/NORMAL/NORMAL2-IM-1291-0001.jpeg\n",
            "/content/data_used/NORMAL/IM-0644-0001-0001.jpeg\n",
            "/content/data_used/NORMAL/IM-0235-0001.jpeg\n",
            "/content/data_used/NORMAL/NORMAL2-IM-0807-0001.jpeg\n",
            "/content/data_used/NORMAL/IM-0620-0001-0002.jpeg\n",
            "/content/data_used/NORMAL/NORMAL2-IM-0868-0001.jpeg\n",
            "/content/data_used/NORMAL/NORMAL2-IM-1094-0001-0001.jpeg\n",
            "/content/data_used/NORMAL/NORMAL2-IM-0847-0001.jpeg\n",
            "/content/data_used/NORMAL/IM-0311-0001.jpeg\n",
            "/content/data_used/NORMAL/IM-0679-0001.jpeg\n",
            "/content/data_used/NORMAL/NORMAL2-IM-0130-0001.jpeg\n",
            "/content/data_used/NORMAL/IM-0339-0001.jpeg\n",
            "/content/data_used/NORMAL/IM-0435-0001.jpeg\n",
            "/content/data_used/NORMAL/NORMAL2-IM-0571-0001.jpeg\n",
            "/content/data_used/NORMAL/IM-0011-0001-0001.jpeg\n",
            "/content/data_used/NORMAL/IM-0551-0001-0002.jpeg\n",
            "/content/data_used/NORMAL/NORMAL2-IM-1205-0001.jpeg\n",
            "/content/data_used/NORMAL/NORMAL2-IM-0971-0001-0002.jpeg\n",
            "/content/data_used/NORMAL/NORMAL2-IM-0173-0001-0002.jpeg\n",
            "/content/data_used/NORMAL/IM-0261-0001.jpeg\n",
            "/content/data_used/NORMAL/NORMAL2-IM-1260-0001.jpeg\n",
            "/content/data_used/NORMAL/NORMAL2-IM-0662-0001.jpeg\n",
            "/content/data_used/NORMAL/NORMAL2-IM-0910-0001.jpeg\n",
            "/content/data_used/NORMAL/NORMAL2-IM-0145-0001.jpeg\n",
            "/content/data_used/NORMAL/IM-0031-0001.jpeg\n",
            "/content/data_used/NORMAL/NORMAL2-IM-0307-0001.jpeg\n",
            "/content/data_used/NORMAL/NORMAL2-IM-0777-0001.jpeg\n",
            "/content/data_used/NORMAL/NORMAL2-IM-0319-0001.jpeg\n",
            "/content/data_used/NORMAL/NORMAL2-IM-0992-0001.jpeg\n",
            "/content/data_used/NORMAL/NORMAL2-IM-0971-0001-0001.jpeg\n",
            "/content/data_used/NORMAL/IM-0151-0001.jpeg\n",
            "/content/data_used/NORMAL/NORMAL2-IM-1154-0001-0002.jpeg\n",
            "/content/data_used/NORMAL/NORMAL2-IM-0502-0001.jpeg\n",
            "/content/data_used/NORMAL/NORMAL2-IM-1108-0001.jpeg\n",
            "/content/data_used/NORMAL/NORMAL2-IM-1289-0001.jpeg\n",
            "/content/data_used/NORMAL/NORMAL2-IM-1118-0001.jpeg\n",
            "/content/data_used/NORMAL/NORMAL2-IM-1088-0001.jpeg\n",
            "/content/data_used/NORMAL/IM-0037-0001.jpeg\n",
            "/content/data_used/NORMAL/IM-0293-0001.jpeg\n",
            "/content/data_used/NORMAL/NORMAL2-IM-0873-0001.jpeg\n",
            "/content/data_used/NORMAL/IM-0010-0001.jpeg\n",
            "/content/data_used/NORMAL/IM-0312-0001.jpeg\n",
            "/content/data_used/NORMAL/NORMAL2-IM-0493-0001.jpeg\n",
            "/content/data_used/NORMAL/IM-0601-0001.jpeg\n",
            "/content/data_used/NORMAL/NORMAL2-IM-0870-0001.jpeg\n",
            "/content/data_used/NORMAL/NORMAL2-IM-1288-0001.jpeg\n",
            "/content/data_used/NORMAL/NORMAL2-IM-1214-0001.jpeg\n",
            "/content/data_used/NORMAL/NORMAL2-IM-1371-0001.jpeg\n",
            "/content/data_used/NORMAL/IM-0505-0001.jpeg\n",
            "/content/data_used/NORMAL/NORMAL2-IM-1041-0001.jpeg\n",
            "/content/data_used/NORMAL/NORMAL2-IM-0518-0001.jpeg\n",
            "/content/data_used/NORMAL/NORMAL2-IM-0012-0001.jpeg\n",
            "/content/data_used/NORMAL/NORMAL2-IM-1243-0001.jpeg\n",
            "/content/data_used/NORMAL/IM-0635-0001.jpeg\n",
            "/content/data_used/NORMAL/NORMAL2-IM-0443-0001.jpeg\n",
            "/content/data_used/NORMAL/NORMAL2-IM-1237-0001.jpeg\n",
            "/content/data_used/NORMAL/IM-0704-0001.jpeg\n",
            "/content/data_used/NORMAL/NORMAL2-IM-0029-0001.jpeg\n",
            "/content/data_used/NORMAL/NORMAL2-IM-0439-0001.jpeg\n",
            "/content/data_used/NORMAL/IM-0286-0001.jpeg\n",
            "/content/data_used/NORMAL/IM-0717-0001.jpeg\n",
            "/content/data_used/NORMAL/IM-0482-0001.jpeg\n",
            "/content/data_used/NORMAL/IM-0590-0001.jpeg\n",
            "/content/data_used/NORMAL/NORMAL2-IM-0330-0001.jpeg\n",
            "/content/data_used/NORMAL/NORMAL2-IM-0849-0001.jpeg\n",
            "/content/data_used/NORMAL/NORMAL2-IM-0447-0001.jpeg\n",
            "/content/data_used/NORMAL/NORMAL2-IM-0587-0001-0002.jpeg\n",
            "/content/data_used/NORMAL/NORMAL2-IM-1294-0001-0001.jpeg\n",
            "/content/data_used/NORMAL/IM-0553-0001-0003.jpeg\n",
            "/content/data_used/NORMAL/IM-0466-0001.jpeg\n",
            "/content/data_used/NORMAL/NORMAL2-IM-0774-0001.jpeg\n",
            "/content/data_used/NORMAL/IM-0350-0001.jpeg\n",
            "/content/data_used/NORMAL/NORMAL2-IM-1154-0001.jpeg\n",
            "/content/data_used/NORMAL/NORMAL2-IM-0599-0001.jpeg\n",
            "/content/data_used/NORMAL/NORMAL2-IM-1109-0001.jpeg\n",
            "/content/data_used/NORMAL/NORMAL2-IM-0678-0001.jpeg\n",
            "/content/data_used/NORMAL/NORMAL2-IM-0692-0001.jpeg\n",
            "/content/data_used/NORMAL/IM-0735-0001.jpeg\n",
            "/content/data_used/NORMAL/NORMAL2-IM-0543-0001.jpeg\n",
            "/content/data_used/NORMAL/NORMAL2-IM-0645-0001.jpeg\n",
            "/content/data_used/NORMAL/NORMAL2-IM-0936-0001.jpeg\n",
            "/content/data_used/NORMAL/IM-0364-0001.jpeg\n",
            "/content/data_used/NORMAL/NORMAL2-IM-0578-0001.jpeg\n",
            "/content/data_used/NORMAL/NORMAL2-IM-1327-0001.jpeg\n",
            "/content/data_used/NORMAL/IM-0166-0001.jpeg\n",
            "/content/data_used/NORMAL/NORMAL2-IM-1242-0001.jpeg\n",
            "/content/data_used/NORMAL/IM-0439-0001.jpeg\n",
            "/content/data_used/NORMAL/NORMAL2-IM-1158-0001.jpeg\n",
            "/content/data_used/NORMAL/IM-0545-0001-0002.jpeg\n",
            "/content/data_used/NORMAL/NORMAL2-IM-1104-0001.jpeg\n",
            "/content/data_used/NORMAL/NORMAL2-IM-0620-0001.jpeg\n",
            "/content/data_used/NORMAL/NORMAL2-IM-0399-0001.jpeg\n",
            "/content/data_used/NORMAL/NORMAL2-IM-0661-0001.jpeg\n",
            "/content/data_used/NORMAL/NORMAL2-IM-0339-0001.jpeg\n",
            "/content/data_used/NORMAL/NORMAL2-IM-1128-0001-0002.jpeg\n",
            "/content/data_used/NORMAL/IM-0671-0001.jpeg\n",
            "/content/data_used/NORMAL/NORMAL2-IM-0441-0001.jpeg\n",
            "/content/data_used/NORMAL/IM-0692-0001.jpeg\n",
            "/content/data_used/NORMAL/IM-0189-0001.jpeg\n",
            "/content/data_used/NORMAL/NORMAL2-IM-0535-0001.jpeg\n",
            "/content/data_used/NORMAL/IM-0742-0001.jpeg\n",
            "/content/data_used/NORMAL/NORMAL2-IM-0888-0001.jpeg\n",
            "/content/data_used/NORMAL/NORMAL2-IM-0976-0001.jpeg\n",
            "/content/data_used/NORMAL/IM-0209-0001.jpeg\n",
            "/content/data_used/NORMAL/NORMAL2-IM-1322-0001.jpeg\n",
            "/content/data_used/NORMAL/NORMAL2-IM-0210-0001.jpeg\n",
            "/content/data_used/NORMAL/NORMAL2-IM-1058-0001.jpeg\n",
            "/content/data_used/NORMAL/IM-0025-0001.jpeg\n",
            "/content/data_used/NORMAL/IM-0316-0001.jpeg\n",
            "/content/data_used/NORMAL/IM-0429-0001.jpeg\n",
            "/content/data_used/NORMAL/IM-0533-0001-0001.jpeg\n",
            "/content/data_used/NORMAL/IM-0553-0001.jpeg\n",
            "/content/data_used/NORMAL/NORMAL2-IM-0511-0001.jpeg\n",
            "/content/data_used/NORMAL/IM-0531-0001-0001.jpeg\n",
            "/content/data_used/NORMAL/NORMAL2-IM-0332-0001.jpeg\n",
            "/content/data_used/NORMAL/IM-0399-0001.jpeg\n",
            "/content/data_used/NORMAL/NORMAL2-IM-1027-0001.jpeg\n",
            "/content/data_used/NORMAL/IM-0657-0001.jpeg\n",
            "/content/data_used/NORMAL/NORMAL2-IM-1277-0001-0002.jpeg\n",
            "/content/data_used/NORMAL/IM-0656-0001-0002.jpeg\n",
            "/content/data_used/NORMAL/IM-0253-0001.jpeg\n",
            "/content/data_used/NORMAL/IM-0680-0001.jpeg\n",
            "/content/data_used/NORMAL/IM-0492-0001.jpeg\n",
            "/content/data_used/NORMAL/IM-0168-0001.jpeg\n",
            "/content/data_used/NORMAL/IM-0045-0001.jpeg\n",
            "/content/data_used/NORMAL/NORMAL2-IM-0797-0001.jpeg\n",
            "/content/data_used/NORMAL/NORMAL2-IM-1266-0001-0001.jpeg\n",
            "/content/data_used/NORMAL/IM-0681-0001.jpeg\n",
            "/content/data_used/NORMAL/IM-0467-0001.jpeg\n",
            "/content/data_used/NORMAL/NORMAL2-IM-0867-0001.jpeg\n",
            "/content/data_used/NORMAL/IM-0644-0001-0002.jpeg\n",
            "/content/data_used/NORMAL/NORMAL2-IM-1232-0001.jpeg\n",
            "/content/data_used/NORMAL/NORMAL2-IM-0930-0001.jpeg\n",
            "/content/data_used/NORMAL/NORMAL2-IM-1219-0001.jpeg\n",
            "/content/data_used/NORMAL/IM-0650-0001-0001.jpeg\n",
            "/content/data_used/NORMAL/IM-0535-0001.jpeg\n",
            "/content/data_used/NORMAL/NORMAL2-IM-0540-0001.jpeg\n",
            "/content/data_used/NORMAL/IM-0519-0001.jpeg\n",
            "/content/data_used/NORMAL/IM-0539-0001-0001.jpeg\n",
            "/content/data_used/NORMAL/NORMAL2-IM-1051-0001.jpeg\n",
            "/content/data_used/NORMAL/IM-0577-0001.jpeg\n",
            "/content/data_used/NORMAL/NORMAL2-IM-1014-0001.jpeg\n",
            "/content/data_used/NORMAL/NORMAL2-IM-0321-0001.jpeg\n",
            "/content/data_used/NORMAL/IM-0220-0001.jpeg\n",
            "/content/data_used/NORMAL/NORMAL2-IM-0417-0001.jpeg\n",
            "/content/data_used/NORMAL/NORMAL2-IM-0139-0001.jpeg\n",
            "/content/data_used/NORMAL/NORMAL2-IM-1180-0001.jpeg\n",
            "/content/data_used/NORMAL/IM-0451-0001.jpeg\n",
            "/content/data_used/NORMAL/IM-0022-0001.jpeg\n",
            "/content/data_used/NORMAL/NORMAL2-IM-0423-0001.jpeg\n",
            "/content/data_used/NORMAL/IM-0455-0001.jpeg\n",
            "/content/data_used/NORMAL/NORMAL2-IM-0376-0001.jpeg\n",
            "/content/data_used/NORMAL/NORMAL2-IM-0568-0001.jpeg\n",
            "/content/data_used/NORMAL/NORMAL2-IM-0098-0001.jpeg\n",
            "/content/data_used/NORMAL/IM-0006-0001.jpeg\n",
            "/content/data_used/NORMAL/NORMAL2-IM-0746-0001.jpeg\n",
            "/content/data_used/NORMAL/NORMAL2-IM-1120-0001.jpeg\n",
            "/content/data_used/NORMAL/IM-0300-0001.jpeg\n",
            "/content/data_used/NORMAL/NORMAL2-IM-1196-0001.jpeg\n",
            "/content/data_used/NORMAL/NORMAL2-IM-0618-0001.jpeg\n",
            "/content/data_used/NORMAL/NORMAL2-IM-1113-0001.jpeg\n",
            "/content/data_used/NORMAL/IM-0548-0001.jpeg\n",
            "/content/data_used/NORMAL/NORMAL2-IM-0989-0001.jpeg\n",
            "/content/data_used/NORMAL/NORMAL2-IM-0352-0001.jpeg\n",
            "/content/data_used/NORMAL/NORMAL2-IM-1349-0001.jpeg\n",
            "/content/data_used/NORMAL/IM-0491-0001-0001.jpeg\n",
            "/content/data_used/NORMAL/IM-0272-0001.jpeg\n",
            "/content/data_used/NORMAL/NORMAL2-IM-1341-0001.jpeg\n",
            "/content/data_used/NORMAL/NORMAL2-IM-0079-0001.jpeg\n",
            "/content/data_used/NORMAL/NORMAL2-IM-1174-0001.jpeg\n",
            "/content/data_used/NORMAL/NORMAL2-IM-0381-0001.jpeg\n",
            "/content/data_used/NORMAL/IM-0667-0001.jpeg\n",
            "/content/data_used/NORMAL/NORMAL2-IM-0705-0001.jpeg\n",
            "/content/data_used/NORMAL/IM-0746-0001.jpeg\n",
            "/content/data_used/NORMAL/IM-0083-0001.jpeg\n",
            "/content/data_used/NORMAL/IM-0499-0001-0002.jpeg\n",
            "/content/data_used/NORMAL/IM-0245-0001.jpeg\n",
            "/content/data_used/NORMAL/IM-0036-0001.jpeg\n",
            "/content/data_used/NORMAL/NORMAL2-IM-1305-0001.jpeg\n",
            "/content/data_used/NORMAL/IM-0491-0001-0002.jpeg\n",
            "/content/data_used/NORMAL/IM-0237-0001.jpeg\n",
            "/content/data_used/NORMAL/NORMAL2-IM-1290-0001.jpeg\n",
            "/content/data_used/NORMAL/NORMAL2-IM-1073-0001.jpeg\n",
            "/content/data_used/NORMAL/IM-0618-0001-0001.jpeg\n",
            "/content/data_used/NORMAL/NORMAL2-IM-1100-0001.jpeg\n",
            "/content/data_used/NORMAL/NORMAL2-IM-0931-0001.jpeg\n",
            "/content/data_used/NORMAL/IM-0491-0001.jpeg\n",
            "/content/data_used/NORMAL/NORMAL2-IM-0313-0001.jpeg\n",
            "/content/data_used/NORMAL/IM-0203-0001.jpeg\n",
            "/content/data_used/NORMAL/NORMAL2-IM-0995-0001-0001.jpeg\n",
            "/content/data_used/NORMAL/NORMAL2-IM-0551-0001.jpeg\n",
            "/content/data_used/NORMAL/IM-0211-0001.jpeg\n",
            "/content/data_used/NORMAL/IM-0643-0001.jpeg\n",
            "/content/data_used/NORMAL/IM-0216-0001.jpeg\n",
            "/content/data_used/NORMAL/NORMAL2-IM-0588-0001.jpeg\n",
            "/content/data_used/NORMAL/NORMAL2-IM-1250-0001.jpeg\n",
            "/content/data_used/NORMAL/IM-0431-0001.jpeg\n",
            "/content/data_used/NORMAL/NORMAL2-IM-0994-0001.jpeg\n",
            "/content/data_used/NORMAL/IM-0089-0001.jpeg\n",
            "/content/data_used/NORMAL/NORMAL2-IM-1043-0001.jpeg\n",
            "/content/data_used/NORMAL/IM-0437-0001-0001.jpeg\n",
            "/content/data_used/NORMAL/NORMAL2-IM-1269-0001-0002.jpeg\n",
            "/content/data_used/NORMAL/NORMAL2-IM-0451-0001.jpeg\n",
            "/content/data_used/NORMAL/NORMAL2-IM-0440-0001.jpeg\n",
            "/content/data_used/NORMAL/NORMAL2-IM-1002-0001.jpeg\n",
            "/content/data_used/NORMAL/NORMAL2-IM-0468-0001.jpeg\n",
            "/content/data_used/NORMAL/NORMAL2-IM-0882-0001.jpeg\n",
            "/content/data_used/NORMAL/NORMAL2-IM-0408-0001.jpeg\n",
            "/content/data_used/NORMAL/NORMAL2-IM-0232-0001.jpeg\n",
            "/content/data_used/NORMAL/IM-0501-0001-0001.jpeg\n",
            "/content/data_used/NORMAL/NORMAL2-IM-0346-0001.jpeg\n",
            "/content/data_used/NORMAL/NORMAL2-IM-1334-0001.jpeg\n",
            "/content/data_used/NORMAL/NORMAL2-IM-0489-0001.jpeg\n",
            "/content/data_used/NORMAL/NORMAL2-IM-1048-0001.jpeg\n",
            "/content/data_used/NORMAL/NORMAL2-IM-0700-0001.jpeg\n",
            "/content/data_used/NORMAL/NORMAL2-IM-0389-0001.jpeg\n",
            "/content/data_used/NORMAL/IM-0007-0001.jpeg\n",
            "/content/data_used/NORMAL/NORMAL2-IM-0969-0001.jpeg\n",
            "/content/data_used/NORMAL/NORMAL2-IM-0445-0001.jpeg\n",
            "/content/data_used/NORMAL/NORMAL2-IM-1185-0001.jpeg\n",
            "/content/data_used/NORMAL/IM-0631-0001-0001.jpeg\n",
            "/content/data_used/NORMAL/NORMAL2-IM-1124-0001.jpeg\n",
            "/content/data_used/NORMAL/IM-0629-0001-0002.jpeg\n",
            "/content/data_used/NORMAL/NORMAL2-IM-0206-0001.jpeg\n",
            "/content/data_used/NORMAL/NORMAL2-IM-0651-0004.jpeg\n",
            "/content/data_used/NORMAL/IM-0654-0001.jpeg\n",
            "/content/data_used/NORMAL/IM-0027-0001.jpeg\n",
            "/content/data_used/NORMAL/IM-0631-0001-0002.jpeg\n",
            "/content/data_used/NORMAL/IM-0005-0001.jpeg\n",
            "/content/data_used/NORMAL/NORMAL2-IM-0887-0001.jpeg\n",
            "/content/data_used/NORMAL/IM-0028-0001.jpeg\n",
            "/content/data_used/NORMAL/NORMAL2-IM-0335-0001.jpeg\n",
            "/content/data_used/NORMAL/IM-0164-0001.jpeg\n",
            "/content/data_used/NORMAL/NORMAL2-IM-1060-0001.jpeg\n",
            "/content/data_used/NORMAL/IM-0490-0001.jpeg\n",
            "/content/data_used/NORMAL/IM-0467-0001-0001.jpeg\n",
            "/content/data_used/NORMAL/NORMAL2-IM-0981-0001.jpeg\n",
            "/content/data_used/NORMAL/NORMAL2-IM-0577-0001.jpeg\n",
            "/content/data_used/NORMAL/IM-0551-0001.jpeg\n",
            "/content/data_used/NORMAL/NORMAL2-IM-0555-0001-0002.jpeg\n",
            "/content/data_used/NORMAL/NORMAL2-IM-1188-0001.jpeg\n",
            "/content/data_used/NORMAL/IM-0712-0001.jpeg\n",
            "/content/data_used/NORMAL/NORMAL2-IM-1277-0001.jpeg\n",
            "/content/data_used/NORMAL/NORMAL2-IM-0391-0001.jpeg\n",
            "/content/data_used/NORMAL/IM-0063-0001.jpeg\n",
            "/content/data_used/NORMAL/NORMAL2-IM-0473-0001.jpeg\n",
            "/content/data_used/NORMAL/IM-0368-0001.jpeg\n",
            "/content/data_used/NORMAL/IM-0489-0001.jpeg\n",
            "/content/data_used/NORMAL/NORMAL2-IM-0066-0001.jpeg\n",
            "/content/data_used/NORMAL/IM-0472-0001.jpeg\n",
            "/content/data_used/NORMAL/NORMAL2-IM-0465-0001.jpeg\n",
            "/content/data_used/NORMAL/IM-0460-0001.jpeg\n",
            "/content/data_used/NORMAL/IM-0736-0001.jpeg\n",
            "/content/data_used/NORMAL/NORMAL2-IM-1025-0001.jpeg\n",
            "/content/data_used/NORMAL/NORMAL2-IM-1225-0001.jpeg\n",
            "/content/data_used/NORMAL/NORMAL2-IM-1245-0001.jpeg\n",
            "/content/data_used/NORMAL/IM-0330-0001.jpeg\n",
            "/content/data_used/NORMAL/IM-0632-0001.jpeg\n",
            "/content/data_used/NORMAL/IM-0423-0001.jpeg\n",
            "/content/data_used/NORMAL/NORMAL2-IM-1181-0001.jpeg\n",
            "/content/data_used/NORMAL/NORMAL2-IM-0776-0001.jpeg\n",
            "/content/data_used/NORMAL/NORMAL2-IM-1145-0001.jpeg\n",
            "/content/data_used/NORMAL/IM-0620-0001.jpeg\n",
            "/content/data_used/NORMAL/NORMAL2-IM-0589-0001.jpeg\n",
            "/content/data_used/NORMAL/IM-0666-0001-0002.jpeg\n",
            "/content/data_used/NORMAL/NORMAL2-IM-0453-0001.jpeg\n",
            "/content/data_used/NORMAL/NORMAL2-IM-0272-0001.jpeg\n",
            "/content/data_used/NORMAL/NORMAL2-IM-0693-0001.jpeg\n",
            "/content/data_used/NORMAL/NORMAL2-IM-0851-0001.jpeg\n",
            "/content/data_used/NORMAL/IM-0724-0001.jpeg\n",
            "/content/data_used/NORMAL/IM-0213-0001.jpeg\n",
            "/content/data_used/NORMAL/IM-0140-0001.jpeg\n",
            "/content/data_used/NORMAL/IM-0627-0001.jpeg\n",
            "/content/data_used/NORMAL/NORMAL2-IM-1350-0001.jpeg\n",
            "/content/data_used/NORMAL/IM-0739-0001.jpeg\n",
            "/content/data_used/NORMAL/NORMAL2-IM-0041-0001.jpeg\n",
            "/content/data_used/NORMAL/NORMAL2-IM-0427-0001.jpeg\n",
            "/content/data_used/NORMAL/IM-0480-0001.jpeg\n",
            "/content/data_used/NORMAL/NORMAL2-IM-0857-0001.jpeg\n",
            "/content/data_used/NORMAL/IM-0686-0001.jpeg\n",
            "/content/data_used/NORMAL/NORMAL2-IM-1011-0001.jpeg\n",
            "/content/data_used/NORMAL/IM-0103-0001.jpeg\n",
            "/content/data_used/NORMAL/NORMAL2-IM-1317-0001.jpeg\n",
            "/content/data_used/NORMAL/NORMAL2-IM-0412-0001.jpeg\n",
            "/content/data_used/NORMAL/NORMAL2-IM-0559-0001.jpeg\n",
            "/content/data_used/NORMAL/NORMAL2-IM-0622-0001.jpeg\n",
            "/content/data_used/NORMAL/IM-0505-0001-0002.jpeg\n",
            "/content/data_used/NORMAL/NORMAL2-IM-0637-0001.jpeg\n",
            "/content/data_used/NORMAL/NORMAL2-IM-0660-0001.jpeg\n",
            "/content/data_used/NORMAL/IM-0519-0001-0002.jpeg\n",
            "/content/data_used/NORMAL/NORMAL2-IM-0643-0001.jpeg\n",
            "/content/data_used/NORMAL/IM-0675-0001.jpeg\n",
            "/content/data_used/NORMAL/IM-0319-0001.jpeg\n",
            "/content/data_used/NORMAL/NORMAL2-IM-1023-0001.jpeg\n",
            "/content/data_used/NORMAL/NORMAL2-IM-1067-0001-0001.jpeg\n",
            "/content/data_used/NORMAL/IM-0309-0001.jpeg\n",
            "/content/data_used/NORMAL/IM-0250-0001.jpeg\n",
            "/content/data_used/NORMAL/IM-0011-0001.jpeg\n",
            "/content/data_used/NORMAL/NORMAL2-IM-0479-0001.jpeg\n",
            "/content/data_used/NORMAL/IM-0437-0001-0002.jpeg\n",
            "/content/data_used/NORMAL/NORMAL2-IM-1135-0001.jpeg\n",
            "/content/data_used/NORMAL/NORMAL2-IM-0238-0001.jpeg\n",
            "/content/data_used/NORMAL/NORMAL2-IM-0273-0001.jpeg\n",
            "/content/data_used/NORMAL/IM-0693-0001.jpeg\n",
            "/content/data_used/NORMAL/NORMAL2-IM-0513-0001.jpeg\n",
            "/content/data_used/NORMAL/NORMAL2-IM-1147-0001.jpeg\n",
            "/content/data_used/NORMAL/NORMAL2-IM-1430-0001.jpeg\n",
            "/content/data_used/NORMAL/IM-0509-0001.jpeg\n",
            "/content/data_used/NORMAL/IM-0345-0001.jpeg\n",
            "/content/data_used/NORMAL/NORMAL2-IM-1440-0001.jpeg\n",
            "/content/data_used/NORMAL/NORMAL2-IM-1054-0001.jpeg\n",
            "/content/data_used/NORMAL/NORMAL2-IM-0282-0001.jpeg\n",
            "/content/data_used/NORMAL/IM-0478-0001.jpeg\n",
            "/content/data_used/NORMAL/NORMAL2-IM-1106-0001.jpeg\n",
            "/content/data_used/NORMAL/NORMAL2-IM-0636-0001.jpeg\n",
            "/content/data_used/NORMAL/NORMAL2-IM-0765-0001.jpeg\n",
            "/content/data_used/NORMAL/IM-0440-0001.jpeg\n",
            "/content/data_used/NORMAL/NORMAL2-IM-1064-0001.jpeg\n",
            "/content/data_used/NORMAL/NORMAL2-IM-1286-0001.jpeg\n",
            "/content/data_used/NORMAL/IM-0248-0001.jpeg\n",
            "/content/data_used/NORMAL/IM-0432-0001.jpeg\n",
            "/content/data_used/NORMAL/IM-0464-0001.jpeg\n",
            "/content/data_used/NORMAL/IM-0226-0001.jpeg\n",
            "/content/data_used/NORMAL/IM-0582-0001.jpeg\n",
            "/content/data_used/NORMAL/NORMAL2-IM-0790-0001.jpeg\n",
            "/content/data_used/NORMAL/NORMAL2-IM-1282-0001.jpeg\n",
            "/content/data_used/NORMAL/NORMAL2-IM-0648-0001.jpeg\n",
            "/content/data_used/NORMAL/NORMAL2-IM-1094-0001-0002.jpeg\n",
            "/content/data_used/NORMAL/NORMAL2-IM-1004-0001.jpeg\n",
            "/content/data_used/NORMAL/IM-0674-0001.jpeg\n",
            "/content/data_used/NORMAL/IM-0501-0001-0002.jpeg\n",
            "/content/data_used/NORMAL/IM-0369-0001.jpeg\n",
            "/content/data_used/NORMAL/NORMAL2-IM-0913-0001.jpeg\n",
            "/content/data_used/NORMAL/IM-0453-0001.jpeg\n",
            "/content/data_used/NORMAL/NORMAL2-IM-0454-0001.jpeg\n",
            "/content/data_used/NORMAL/IM-0016-0001.jpeg\n",
            "/content/data_used/NORMAL/IM-0685-0001.jpeg\n",
            "/content/data_used/NORMAL/NORMAL2-IM-1226-0001.jpeg\n",
            "/content/data_used/NORMAL/NORMAL2-IM-0345-0001.jpeg\n",
            "/content/data_used/NORMAL/IM-0240-0001.jpeg\n",
            "/content/data_used/NORMAL/IM-0429-0001-0002.jpeg\n",
            "/content/data_used/NORMAL/IM-0101-0001.jpeg\n",
            "/content/data_used/NORMAL/IM-0228-0001.jpeg\n",
            "/content/data_used/NORMAL/NORMAL2-IM-0111-0001.jpeg\n",
            "/content/data_used/NORMAL/NORMAL2-IM-0937-0001.jpeg\n",
            "/content/data_used/NORMAL/IM-0333-0001.jpeg\n",
            "/content/data_used/NORMAL/IM-0205-0001.jpeg\n",
            "/content/data_used/NORMAL/NORMAL2-IM-0252-0001.jpeg\n",
            "/content/data_used/NORMAL/NORMAL2-IM-1261-0001.jpeg\n",
            "/content/data_used/NORMAL/NORMAL2-IM-0102-0001.jpeg\n",
            "/content/data_used/NORMAL/NORMAL2-IM-0793-0001.jpeg\n",
            "/content/data_used/NORMAL/NORMAL2-IM-1161-0001.jpeg\n",
            "/content/data_used/NORMAL/IM-0207-0001.jpeg\n",
            "/content/data_used/NORMAL/IM-0543-0001-0002.jpeg\n",
            "/content/data_used/NORMAL/IM-0766-0001.jpeg\n",
            "/content/data_used/NORMAL/IM-0517-0001.jpeg\n",
            "/content/data_used/NORMAL/IM-0320-0001.jpeg\n",
            "/content/data_used/NORMAL/NORMAL2-IM-1016-0001.jpeg\n",
            "/content/data_used/NORMAL/NORMAL2-IM-0117-0001.jpeg\n",
            "/content/data_used/NORMAL/NORMAL2-IM-0979-0001.jpeg\n",
            "/content/data_used/NORMAL/NORMAL2-IM-1269-0001.jpeg\n",
            "/content/data_used/NORMAL/IM-0557-0001.jpeg\n",
            "/content/data_used/NORMAL/IM-0501-0001.jpeg\n",
            "/content/data_used/NORMAL/NORMAL2-IM-0780-0001.jpeg\n",
            "/content/data_used/NORMAL/NORMAL2-IM-1192-0001.jpeg\n",
            "/content/data_used/NORMAL/NORMAL2-IM-0027-0001.jpeg\n",
            "/content/data_used/NORMAL/IM-0751-0001.jpeg\n",
            "/content/data_used/NORMAL/IM-0299-0001.jpeg\n",
            "/content/data_used/NORMAL/IM-0195-0001.jpeg\n",
            "/content/data_used/NORMAL/NORMAL2-IM-1351-0001.jpeg\n",
            "/content/data_used/NORMAL/NORMAL2-IM-0415-0001.jpeg\n",
            "/content/data_used/NORMAL/NORMAL2-IM-0456-0001.jpeg\n",
            "/content/data_used/NORMAL/NORMAL2-IM-1264-0001.jpeg\n",
            "/content/data_used/NORMAL/NORMAL2-IM-1357-0001.jpeg\n",
            "/content/data_used/NORMAL/IM-0661-0001.jpeg\n",
            "/content/data_used/NORMAL/NORMAL2-IM-0671-0001.jpeg\n",
            "/content/data_used/NORMAL/IM-0733-0001.jpeg\n",
            "/content/data_used/NORMAL/NORMAL2-IM-0809-0001.jpeg\n",
            "/content/data_used/NORMAL/NORMAL2-IM-0699-0001.jpeg\n",
            "/content/data_used/NORMAL/IM-0624-0001-0002.jpeg\n",
            "/content/data_used/NORMAL/NORMAL2-IM-0819-0001.jpeg\n",
            "/content/data_used/NORMAL/IM-0527-0001.jpeg\n",
            "/content/data_used/NORMAL/IM-0695-0001.jpeg\n",
            "/content/data_used/NORMAL/NORMAL2-IM-0303-0001.jpeg\n",
            "/content/data_used/NORMAL/NORMAL2-IM-1152-0001-0002.jpeg\n",
            "/content/data_used/NORMAL/IM-0750-0001.jpeg\n",
            "/content/data_used/NORMAL/NORMAL2-IM-0952-0001.jpeg\n",
            "/content/data_used/NORMAL/IM-0033-0001-0002.jpeg\n",
            "/content/data_used/NORMAL/IM-0152-0001.jpeg\n",
            "/content/data_used/NORMAL/IM-0496-0001.jpeg\n",
            "/content/data_used/NORMAL/NORMAL2-IM-0410-0001.jpeg\n",
            "/content/data_used/NORMAL/IM-0495-0001.jpeg\n",
            "/content/data_used/NORMAL/NORMAL2-IM-0657-0001.jpeg\n",
            "/content/data_used/NORMAL/NORMAL2-IM-1277-0001-0001.jpeg\n",
            "/content/data_used/NORMAL/IM-0129-0001.jpeg\n",
            "/content/data_used/NORMAL/IM-0081-0001.jpeg\n",
            "/content/data_used/NORMAL/IM-0115-0001.jpeg\n",
            "/content/data_used/NORMAL/NORMAL2-IM-1038-0001.jpeg\n",
            "/content/data_used/NORMAL/NORMAL2-IM-1234-0001.jpeg\n",
            "/content/data_used/NORMAL/IM-0716-0001.jpeg\n",
            "/content/data_used/NORMAL/NORMAL2-IM-1365-0001.jpeg\n",
            "/content/data_used/NORMAL/NORMAL2-IM-0563-0001.jpeg\n",
            "/content/data_used/NORMAL/IM-0367-0001.jpeg\n",
            "/content/data_used/NORMAL/NORMAL2-IM-1348-0001.jpeg\n",
            "/content/data_used/NORMAL/IM-0665-0001.jpeg\n",
            "/content/data_used/NORMAL/NORMAL2-IM-0333-0001.jpeg\n",
            "/content/data_used/NORMAL/IM-0691-0001.jpeg\n",
            "/content/data_used/NORMAL/NORMAL2-IM-1203-0001.jpeg\n",
            "/content/data_used/NORMAL/IM-0605-0001.jpeg\n",
            "/content/data_used/NORMAL/IM-0095-0001.jpeg\n",
            "/content/data_used/NORMAL/NORMAL2-IM-1345-0001-0002.jpeg\n",
            "/content/data_used/NORMAL/IM-0461-0001.jpeg\n",
            "/content/data_used/NORMAL/NORMAL2-IM-0455-0001.jpeg\n",
            "/content/data_used/NORMAL/NORMAL2-IM-1105-0001.jpeg\n",
            "/content/data_used/NORMAL/IM-0609-0001.jpeg\n",
            "/content/data_used/NORMAL/NORMAL2-IM-1150-0001.jpeg\n",
            "/content/data_used/NORMAL/NORMAL2-IM-0893-0001.jpeg\n",
            "/content/data_used/NORMAL/NORMAL2-IM-1200-0001.jpeg\n",
            "/content/data_used/NORMAL/IM-0615-0001.jpeg\n",
            "/content/data_used/NORMAL/NORMAL2-IM-0933-0001.jpeg\n",
            "/content/data_used/NORMAL/NORMAL2-IM-0535-0001-0002.jpeg\n",
            "/content/data_used/NORMAL/NORMAL2-IM-0845-0001.jpeg\n",
            "/content/data_used/NORMAL/NORMAL2-IM-0045-0001.jpeg\n",
            "/content/data_used/NORMAL/NORMAL2-IM-1128-0001-0001.jpeg\n",
            "/content/data_used/NORMAL/IM-0694-0001.jpeg\n",
            "/content/data_used/NORMAL/NORMAL2-IM-0927-0001.jpeg\n",
            "/content/data_used/NORMAL/NORMAL2-IM-0105-0001.jpeg\n",
            "/content/data_used/NORMAL/IM-0528-0001.jpeg\n",
            "/content/data_used/NORMAL/NORMAL2-IM-0966-0001.jpeg\n",
            "/content/data_used/NORMAL/IM-0545-0001-0001.jpeg\n",
            "/content/data_used/NORMAL/IM-0199-0001.jpeg\n",
            "/content/data_used/NORMAL/NORMAL2-IM-0824-0001.jpeg\n",
            "/content/data_used/NORMAL/IM-0256-0001.jpeg\n",
            "/content/data_used/NORMAL/IM-0011-0001-0002.jpeg\n",
            "/content/data_used/NORMAL/NORMAL2-IM-0539-0001.jpeg\n",
            "/content/data_used/NORMAL/IM-0215-0001.jpeg\n",
            "/content/data_used/NORMAL/IM-0625-0001.jpeg\n",
            "/content/data_used/NORMAL/NORMAL2-IM-0110-0001.jpeg\n",
            "/content/data_used/NORMAL/IM-0079-0001.jpeg\n",
            "/content/data_used/NORMAL/NORMAL2-IM-0810-0001.jpeg\n",
            "/content/data_used/NORMAL/IM-0324-0001.jpeg\n",
            "/content/data_used/NORMAL/IM-0549-0001-0002.jpeg\n",
            "/content/data_used/NORMAL/NORMAL2-IM-1270-0001.jpeg\n",
            "/content/data_used/NORMAL/NORMAL2-IM-0310-0001.jpeg\n",
            "/content/data_used/NORMAL/NORMAL2-IM-0309-0001.jpeg\n",
            "/content/data_used/NORMAL/IM-0251-0001.jpeg\n",
            "/content/data_used/NORMAL/IM-0509-0001-0001.jpeg\n",
            "/content/data_used/NORMAL/NORMAL2-IM-0978-0001.jpeg\n",
            "/content/data_used/NORMAL/IM-0110-0001.jpeg\n",
            "/content/data_used/NORMAL/NORMAL2-IM-0507-0001.jpeg\n",
            "/content/data_used/NORMAL/IM-0023-0001.jpeg\n",
            "/content/data_used/NORMAL/IM-0357-0001.jpeg\n",
            "/content/data_used/NORMAL/NORMAL2-IM-1316-0001.jpeg\n",
            "/content/data_used/NORMAL/IM-0626-0001-0001.jpeg\n",
            "/content/data_used/NORMAL/NORMAL2-IM-0572-0001.jpeg\n",
            "/content/data_used/NORMAL/NORMAL2-IM-0635-0001.jpeg\n",
            "/content/data_used/NORMAL/NORMAL2-IM-0501-0001.jpeg\n",
            "/content/data_used/NORMAL/NORMAL2-IM-0292-0001.jpeg\n",
            "/content/data_used/NORMAL/NORMAL2-IM-0832-0001.jpeg\n",
            "/content/data_used/NORMAL/IM-0185-0001.jpeg\n",
            "/content/data_used/NORMAL/IM-0420-0001.jpeg\n",
            "/content/data_used/NORMAL/NORMAL2-IM-0058-0001.jpeg\n",
            "/content/data_used/NORMAL/IM-0434-0001.jpeg\n",
            "/content/data_used/NORMAL/NORMAL2-IM-1090-0001.jpeg\n",
            "/content/data_used/NORMAL/IM-0093-0001.jpeg\n",
            "/content/data_used/NORMAL/NORMAL2-IM-0604-0001.jpeg\n",
            "/content/data_used/NORMAL/IM-0646-0001.jpeg\n",
            "/content/data_used/NORMAL/NORMAL2-IM-0926-0001.jpeg\n",
            "/content/data_used/NORMAL/IM-0073-0001.jpeg\n",
            "/content/data_used/NORMAL/NORMAL2-IM-1163-0001.jpeg\n",
            "/content/data_used/NORMAL/IM-0347-0001.jpeg\n",
            "/content/data_used/NORMAL/NORMAL2-IM-0370-0001.jpeg\n",
            "/content/data_used/NORMAL/IM-0666-0001-0001.jpeg\n",
            "/content/data_used/NORMAL/IM-0337-0001.jpeg\n",
            "/content/data_used/NORMAL/NORMAL2-IM-0394-0001.jpeg\n",
            "/content/data_used/NORMAL/NORMAL2-IM-1306-0001.jpeg\n",
            "/content/data_used/NORMAL/NORMAL2-IM-0525-0001.jpeg\n",
            "/content/data_used/NORMAL/IM-0318-0001.jpeg\n",
            "/content/data_used/NORMAL/IM-0754-0001.jpeg\n",
            "/content/data_used/NORMAL/NORMAL2-IM-1437-0001.jpeg\n",
            "/content/data_used/NORMAL/NORMAL2-IM-1311-0001.jpeg\n",
            "/content/data_used/NORMAL/NORMAL2-IM-0246-0001-0002.jpeg\n",
            "/content/data_used/NORMAL/NORMAL2-IM-0651-0001.jpeg\n",
            "/content/data_used/NORMAL/NORMAL2-IM-0592-0001.jpeg\n",
            "/content/data_used/NORMAL/IM-0629-0001-0003.jpeg\n",
            "/content/data_used/NORMAL/IM-0239-0001.jpeg\n",
            "/content/data_used/NORMAL/NORMAL2-IM-0403-0001.jpeg\n",
            "/content/data_used/NORMAL/IM-0711-0001.jpeg\n",
            "/content/data_used/NORMAL/NORMAL2-IM-0924-0001.jpeg\n",
            "/content/data_used/NORMAL/NORMAL2-IM-0822-0001.jpeg\n",
            "/content/data_used/NORMAL/NORMAL2-IM-0828-0001.jpeg\n",
            "/content/data_used/NORMAL/NORMAL2-IM-0667-0001.jpeg\n",
            "/content/data_used/NORMAL/NORMAL2-IM-1256-0001.jpeg\n",
            "/content/data_used/NORMAL/NORMAL2-IM-1156-0001.jpeg\n",
            "/content/data_used/NORMAL/IM-0540-0001.jpeg\n",
            "/content/data_used/NORMAL/IM-0206-0001.jpeg\n",
            "/content/data_used/NORMAL/IM-0607-0001.jpeg\n",
            "/content/data_used/NORMAL/NORMAL2-IM-0970-0001.jpeg\n",
            "/content/data_used/NORMAL/IM-0658-0001.jpeg\n",
            "/content/data_used/NORMAL/IM-0143-0001.jpeg\n",
            "/content/data_used/NORMAL/IM-0752-0001.jpeg\n",
            "/content/data_used/NORMAL/NORMAL2-IM-1126-0001.jpeg\n",
            "/content/data_used/NORMAL/NORMAL2-IM-0649-0001.jpeg\n",
            "/content/data_used/NORMAL/NORMAL2-IM-0416-0001-0002.jpeg\n",
            "/content/data_used/NORMAL/NORMAL2-IM-0462-0001.jpeg\n",
            "/content/data_used/NORMAL/IM-0238-0001.jpeg\n",
            "/content/data_used/NORMAL/IM-0363-0001.jpeg\n",
            "/content/data_used/NORMAL/NORMAL2-IM-0425-0001.jpeg\n",
            "/content/data_used/NORMAL/NORMAL2-IM-0259-0001.jpeg\n",
            "/content/data_used/NORMAL/IM-0560-0001.jpeg\n",
            "/content/data_used/NORMAL/NORMAL2-IM-0885-0001.jpeg\n",
            "/content/data_used/NORMAL/IM-0210-0001.jpeg\n",
            "/content/data_used/NORMAL/IM-0282-0001.jpeg\n",
            "/content/data_used/NORMAL/NORMAL2-IM-1102-0001-0002.jpeg\n",
            "/content/data_used/NORMAL/NORMAL2-IM-1123-0001.jpeg\n",
            "/content/data_used/NORMAL/IM-0117-0001.jpeg\n",
            "/content/data_used/NORMAL/IM-0465-0001.jpeg\n",
            "/content/data_used/NORMAL/NORMAL2-IM-1279-0001.jpeg\n",
            "/content/data_used/NORMAL/IM-0552-0001.jpeg\n",
            "/content/data_used/NORMAL/NORMAL2-IM-0772-0001.jpeg\n",
            "/content/data_used/NORMAL/IM-0365-0001.jpeg\n",
            "/content/data_used/NORMAL/NORMAL2-IM-1175-0001.jpeg\n",
            "/content/data_used/NORMAL/NORMAL2-IM-0690-0001.jpeg\n",
            "/content/data_used/NORMAL/IM-0534-0001.jpeg\n",
            "/content/data_used/NORMAL/IM-0279-0001.jpeg\n",
            "/content/data_used/NORMAL/NORMAL2-IM-0727-0001.jpeg\n",
            "/content/data_used/NORMAL/IM-0536-0001.jpeg\n",
            "/content/data_used/NORMAL/IM-0214-0001.jpeg\n",
            "/content/data_used/NORMAL/IM-0416-0001.jpeg\n",
            "/content/data_used/NORMAL/NORMAL2-IM-0818-0001-0002.jpeg\n",
            "/content/data_used/NORMAL/NORMAL2-IM-1252-0001.jpeg\n",
            "/content/data_used/NORMAL/NORMAL2-IM-1167-0001.jpeg\n",
            "/content/data_used/NORMAL/NORMAL2-IM-0555-0001.jpeg\n",
            "/content/data_used/NORMAL/NORMAL2-IM-0925-0001.jpeg\n",
            "/content/data_used/NORMAL/NORMAL2-IM-0516-0001.jpeg\n",
            "/content/data_used/NORMAL/NORMAL2-IM-0464-0001.jpeg\n",
            "/content/data_used/NORMAL/NORMAL2-IM-0950-0001.jpeg\n",
            "/content/data_used/NORMAL/NORMAL2-IM-0935-0001.jpeg\n",
            "/content/data_used/NORMAL/IM-0513-0001.jpeg\n",
            "/content/data_used/NORMAL/IM-0662-0001.jpeg\n",
            "/content/data_used/NORMAL/IM-0382-0001.jpeg\n",
            "/content/data_used/NORMAL/IM-0276-0001.jpeg\n",
            "/content/data_used/NORMAL/NORMAL2-IM-0294-0001.jpeg\n",
            "/content/data_used/NORMAL/IM-0450-0001.jpeg\n",
            "/content/data_used/NORMAL/IM-0764-0001.jpeg\n",
            "/content/data_used/NORMAL/NORMAL2-IM-1320-0001.jpeg\n",
            "/content/data_used/NORMAL/NORMAL2-IM-0634-0001.jpeg\n",
            "/content/data_used/NORMAL/NORMAL2-IM-0437-0001.jpeg\n",
            "/content/data_used/NORMAL/IM-0511-0001.jpeg\n",
            "/content/data_used/NORMAL/NORMAL2-IM-0962-0001.jpeg\n",
            "/content/data_used/NORMAL/NORMAL2-IM-0129-0001.jpeg\n",
            "/content/data_used/NORMAL/NORMAL2-IM-1015-0001.jpeg\n",
            "/content/data_used/NORMAL/NORMAL2-IM-1049-0001.jpeg\n",
            "/content/data_used/NORMAL/IM-0458-0001.jpeg\n",
            "/content/data_used/NORMAL/IM-0439-0001-0002.jpeg\n",
            "/content/data_used/NORMAL/IM-0474-0001.jpeg\n",
            "/content/data_used/NORMAL/IM-0701-0001.jpeg\n",
            "/content/data_used/NORMAL/IM-0555-0001-0001.jpeg\n",
            "/content/data_used/NORMAL/IM-0507-0001.jpeg\n",
            "/content/data_used/NORMAL/NORMAL2-IM-1343-0001.jpeg\n",
            "/content/data_used/NORMAL/NORMAL2-IM-0859-0001.jpeg\n",
            "/content/data_used/NORMAL/IM-0326-0001.jpeg\n",
            "/content/data_used/NORMAL/NORMAL2-IM-0848-0001.jpeg\n",
            "/content/data_used/NORMAL/IM-0505-0001-0001.jpeg\n",
            "/content/data_used/NORMAL/NORMAL2-IM-0449-0001.jpeg\n",
            "/content/data_used/NORMAL/NORMAL2-IM-0877-0001.jpeg\n",
            "/content/data_used/NORMAL/NORMAL2-IM-0490-0001.jpeg\n",
            "/content/data_used/NORMAL/NORMAL2-IM-0564-0001.jpeg\n",
            "/content/data_used/NORMAL/NORMAL2-IM-0486-0001.jpeg\n",
            "/content/data_used/NORMAL/IM-0479-0001.jpeg\n",
            "/content/data_used/NORMAL/NORMAL2-IM-0081-0001.jpeg\n",
            "/content/data_used/NORMAL/IM-0274-0001.jpeg\n",
            "/content/data_used/NORMAL/IM-0439-0001-0001.jpeg\n",
            "/content/data_used/NORMAL/NORMAL2-IM-0246-0001-0001.jpeg\n",
            "/content/data_used/NORMAL/NORMAL2-IM-1116-0001-0001.jpeg\n",
            "/content/data_used/NORMAL/NORMAL2-IM-0219-0001.jpeg\n",
            "/content/data_used/NORMAL/IM-0663-0001.jpeg\n",
            "/content/data_used/NORMAL/IM-0003-0001.jpeg\n",
            "/content/data_used/NORMAL/NORMAL2-IM-0865-0001.jpeg\n",
            "/content/data_used/NORMAL/NORMAL2-IM-1142-0001-0001.jpeg\n",
            "/content/data_used/NORMAL/IM-0530-0001.jpeg\n",
            "/content/data_used/NORMAL/NORMAL2-IM-1329-0001.jpeg\n",
            "/content/data_used/NORMAL/IM-0305-0001.jpeg\n",
            "/content/data_used/NORMAL/NORMAL2-IM-0393-0001.jpeg\n",
            "/content/data_used/NORMAL/NORMAL2-IM-0051-0001.jpeg\n",
            "/content/data_used/NORMAL/NORMAL2-IM-1332-0001.jpeg\n",
            "/content/data_used/NORMAL/IM-0308-0001.jpeg\n",
            "/content/data_used/NORMAL/IM-0187-0001.jpeg\n",
            "/content/data_used/NORMAL/NORMAL2-IM-0602-0001.jpeg\n",
            "/content/data_used/NORMAL/NORMAL2-IM-0987-0001.jpeg\n",
            "/content/data_used/NORMAL/NORMAL2-IM-0073-0001.jpeg\n",
            "/content/data_used/NORMAL/IM-0497-0001-0002.jpeg\n",
            "/content/data_used/NORMAL/NORMAL2-IM-0799-0001.jpeg\n",
            "/content/data_used/NORMAL/NORMAL2-IM-0609-0001.jpeg\n",
            "/content/data_used/NORMAL/IM-0608-0001.jpeg\n",
            "/content/data_used/NORMAL/IM-0629-0001.jpeg\n",
            "/content/data_used/NORMAL/IM-0379-0001.jpeg\n",
            "/content/data_used/NORMAL/IM-0698-0001.jpeg\n",
            "/content/data_used/NORMAL/IM-0511-0001-0001.jpeg\n",
            "/content/data_used/NORMAL/IM-0553-0001-0002.jpeg\n",
            "/content/data_used/NORMAL/NORMAL2-IM-0804-0001.jpeg\n",
            "/content/data_used/NORMAL/IM-0630-0001.jpeg\n",
            "/content/data_used/NORMAL/IM-0608-0001-0001.jpeg\n",
            "/content/data_used/NORMAL/IM-0718-0001.jpeg\n",
            "/content/data_used/NORMAL/NORMAL2-IM-0830-0001.jpeg\n",
            "/content/data_used/NORMAL/IM-0737-0001.jpeg\n",
            "/content/data_used/NORMAL/NORMAL2-IM-0829-0001.jpeg\n",
            "/content/data_used/NORMAL/NORMAL2-IM-0287-0001.jpeg\n",
            "/content/data_used/NORMAL/NORMAL2-IM-0249-0001.jpeg\n",
            "/content/data_used/NORMAL/NORMAL2-IM-0237-0001.jpeg\n",
            "/content/data_used/NORMAL/NORMAL2-IM-1360-0001.jpeg\n",
            "/content/data_used/NORMAL/IM-0533-0001-0002.jpeg\n",
            "/content/data_used/NORMAL/NORMAL2-IM-1010-0001.jpeg\n",
            "/content/data_used/NORMAL/IM-0545-0001.jpeg\n",
            "/content/data_used/NORMAL/IM-0598-0001.jpeg\n",
            "/content/data_used/NORMAL/NORMAL2-IM-1008-0001.jpeg\n",
            "/content/data_used/NORMAL/IM-0391-0001.jpeg\n",
            "/content/data_used/NORMAL/NORMAL2-IM-1040-0001.jpeg\n",
            "/content/data_used/NORMAL/IM-0234-0001.jpeg\n",
            "/content/data_used/NORMAL/IM-0614-0001.jpeg\n",
            "/content/data_used/NORMAL/NORMAL2-IM-0404-0001.jpeg\n",
            "/content/data_used/NORMAL/IM-0405-0001.jpeg\n",
            "/content/data_used/NORMAL/NORMAL2-IM-1128-0001.jpeg\n",
            "/content/data_used/NORMAL/IM-0668-0001.jpeg\n",
            "/content/data_used/NORMAL/IM-0660-0001-0002.jpeg\n",
            "/content/data_used/NORMAL/NORMAL2-IM-1033-0001.jpeg\n",
            "/content/data_used/NORMAL/NORMAL2-IM-0472-0001.jpeg\n",
            "/content/data_used/NORMAL/IM-0634-0001.jpeg\n",
            "/content/data_used/NORMAL/NORMAL2-IM-0579-0001.jpeg\n",
            "/content/data_used/NORMAL/NORMAL2-IM-0689-0001.jpeg\n",
            "/content/data_used/NORMAL/NORMAL2-IM-0839-0001.jpeg\n",
            "/content/data_used/NORMAL/NORMAL2-IM-1345-0001-0001.jpeg\n",
            "/content/data_used/NORMAL/IM-0596-0001.jpeg\n",
            "/content/data_used/NORMAL/NORMAL2-IM-1125-0001.jpeg\n",
            "/content/data_used/NORMAL/IM-0075-0001.jpeg\n",
            "/content/data_used/NORMAL/IM-0588-0001.jpeg\n",
            "/content/data_used/NORMAL/IM-0035-0001.jpeg\n",
            "/content/data_used/NORMAL/NORMAL2-IM-0458-0001.jpeg\n",
            "/content/data_used/NORMAL/IM-0483-0001.jpeg\n",
            "/content/data_used/NORMAL/NORMAL2-IM-0213-0001.jpeg\n",
            "/content/data_used/NORMAL/NORMAL2-IM-0856-0001.jpeg\n",
            "/content/data_used/NORMAL/IM-0571-0001.jpeg\n",
            "/content/data_used/NORMAL/IM-0591-0001.jpeg\n",
            "/content/data_used/NORMAL/NORMAL2-IM-0482-0001.jpeg\n",
            "/content/data_used/NORMAL/NORMAL2-IM-0361-0001.jpeg\n",
            "/content/data_used/NORMAL/NORMAL2-IM-0476-0001.jpeg\n",
            "/content/data_used/NORMAL/NORMAL2-IM-0429-0001.jpeg\n",
            "/content/data_used/NORMAL/IM-0728-0001.jpeg\n",
            "/content/data_used/NORMAL/IM-0356-0001.jpeg\n",
            "/content/data_used/NORMAL/IM-0561-0001.jpeg\n",
            "/content/data_used/NORMAL/IM-0568-0001.jpeg\n",
            "/content/data_used/NORMAL/NORMAL2-IM-1376-0001.jpeg\n",
            "/content/data_used/NORMAL/NORMAL2-IM-1293-0001.jpeg\n",
            "/content/data_used/NORMAL/IM-0323-0001.jpeg\n",
            "/content/data_used/NORMAL/IM-0579-0001.jpeg\n",
            "/content/data_used/NORMAL/NORMAL2-IM-0312-0001.jpeg\n",
            "/content/data_used/NORMAL/NORMAL2-IM-0832-0001-0001.jpeg\n",
            "/content/data_used/NORMAL/IM-0512-0001.jpeg\n",
            "/content/data_used/NORMAL/NORMAL2-IM-0695-0001.jpeg\n",
            "/content/data_used/NORMAL/IM-0266-0001.jpeg\n",
            "/content/data_used/NORMAL/NORMAL2-IM-0687-0001.jpeg\n",
            "/content/data_used/NORMAL/IM-0403-0001.jpeg\n",
            "/content/data_used/NORMAL/NORMAL2-IM-0820-0001.jpeg\n",
            "/content/data_used/NORMAL/NORMAL2-IM-1344-0001.jpeg\n",
            "/content/data_used/NORMAL/NORMAL2-IM-0475-0001.jpeg\n",
            "/content/data_used/NORMAL/IM-0727-0001.jpeg\n",
            "/content/data_used/NORMAL/NORMAL2-IM-0359-0001.jpeg\n",
            "/content/data_used/NORMAL/IM-0508-0001.jpeg\n",
            "/content/data_used/NORMAL/NORMAL2-IM-1142-0001-0002.jpeg\n",
            "/content/data_used/NORMAL/IM-0563-0001.jpeg\n",
            "/content/data_used/NORMAL/NORMAL2-IM-0886-0001.jpeg\n",
            "/content/data_used/NORMAL/NORMAL2-IM-1110-0001.jpeg\n",
            "/content/data_used/NORMAL/NORMAL2-IM-0552-0001.jpeg\n",
            "/content/data_used/NORMAL/IM-0102-0001.jpeg\n",
            "/content/data_used/NORMAL/NORMAL2-IM-0587-0001.jpeg\n",
            "/content/data_used/NORMAL/NORMAL2-IM-0072-0001.jpeg\n",
            "/content/data_used/NORMAL/NORMAL2-IM-0413-0001.jpeg\n",
            "/content/data_used/NORMAL/IM-0219-0001.jpeg\n",
            "/content/data_used/NORMAL/NORMAL2-IM-0723-0001.jpeg\n",
            "/content/data_used/NORMAL/NORMAL2-IM-0463-0001.jpeg\n",
            "/content/data_used/NORMAL/IM-0656-0001-0001.jpeg\n",
            "/content/data_used/NORMAL/NORMAL2-IM-1436-0001.jpeg\n",
            "/content/data_used/NORMAL/NORMAL2-IM-0934-0001.jpeg\n",
            "/content/data_used/NORMAL/IM-0652-0001.jpeg\n",
            "/content/data_used/NORMAL/IM-0408-0001.jpeg\n",
            "/content/data_used/NORMAL/IM-0325-0001.jpeg\n",
            "/content/data_used/NORMAL/IM-0666-0001.jpeg\n",
            "/content/data_used/NORMAL/NORMAL2-IM-0718-0001.jpeg\n",
            "/content/data_used/NORMAL/IM-0149-0001.jpeg\n",
            "/content/data_used/NORMAL/NORMAL2-IM-0278-0001.jpeg\n",
            "/content/data_used/NORMAL/NORMAL2-IM-0686-0001.jpeg\n",
            "/content/data_used/NORMAL/IM-0525-0001-0001.jpeg\n",
            "/content/data_used/NORMAL/NORMAL2-IM-0997-0001.jpeg\n",
            "/content/data_used/NORMAL/IM-0524-0001.jpeg\n",
            "/content/data_used/NORMAL/IM-0182-0001.jpeg\n",
            "/content/data_used/NORMAL/NORMAL2-IM-0424-0001.jpeg\n",
            "/content/data_used/NORMAL/NORMAL2-IM-0831-0001.jpeg\n",
            "/content/data_used/NORMAL/NORMAL2-IM-1423-0001.jpeg\n",
            "/content/data_used/NORMAL/NORMAL2-IM-0141-0001.jpeg\n",
            "/content/data_used/NORMAL/IM-0574-0001.jpeg\n",
            "/content/data_used/NORMAL/IM-0435-0001-0001.jpeg\n",
            "/content/data_used/NORMAL/IM-0313-0001.jpeg\n",
            "/content/data_used/NORMAL/IM-0030-0001.jpeg\n",
            "/content/data_used/NORMAL/NORMAL2-IM-0217-0001.jpeg\n",
            "/content/data_used/NORMAL/NORMAL2-IM-0741-0001.jpeg\n",
            "/content/data_used/NORMAL/NORMAL2-IM-0305-0001.jpeg\n",
            "/content/data_used/NORMAL/NORMAL2-IM-1253-0001.jpeg\n",
            "/content/data_used/NORMAL/NORMAL2-IM-0897-0001.jpeg\n",
            "/content/data_used/NORMAL/NORMAL2-IM-1130-0001.jpeg\n",
            "/content/data_used/NORMAL/NORMAL2-IM-0508-0001.jpeg\n",
            "/content/data_used/NORMAL/IM-0623-0001.jpeg\n",
            "/content/data_used/NORMAL/NORMAL2-IM-0983-0001-0002.jpeg\n",
            "/content/data_used/NORMAL/NORMAL2-IM-1018-0001.jpeg\n",
            "/content/data_used/NORMAL/IM-0677-0001.jpeg\n",
            "/content/data_used/NORMAL/NORMAL2-IM-0326-0001.jpeg\n",
            "/content/data_used/NORMAL/NORMAL2-IM-1089-0001.jpeg\n",
            "/content/data_used/NORMAL/NORMAL2-IM-0903-0001.jpeg\n",
            "/content/data_used/NORMAL/NORMAL2-IM-0338-0001.jpeg\n",
            "/content/data_used/NORMAL/NORMAL2-IM-1169-0001.jpeg\n",
            "/content/data_used/NORMAL/NORMAL2-IM-0407-0001.jpeg\n",
            "/content/data_used/NORMAL/IM-0463-0001.jpeg\n",
            "/content/data_used/NORMAL/IM-0428-0001.jpeg\n",
            "/content/data_used/NORMAL/NORMAL2-IM-0960-0001.jpeg\n",
            "/content/data_used/NORMAL/IM-0761-0001.jpeg\n",
            "/content/data_used/NORMAL/NORMAL2-IM-0855-0001.jpeg\n",
            "/content/data_used/NORMAL/NORMAL2-IM-0368-0001.jpeg\n",
            "/content/data_used/NORMAL/NORMAL2-IM-0869-0001.jpeg\n",
            "/content/data_used/NORMAL/NORMAL2-IM-0725-0001.jpeg\n",
            "/content/data_used/NORMAL/IM-0158-0001.jpeg\n",
            "/content/data_used/NORMAL/NORMAL2-IM-1171-0001.jpeg\n",
            "/content/data_used/NORMAL/IM-0071-0001.jpeg\n",
            "/content/data_used/NORMAL/NORMAL2-IM-0095-0001.jpeg\n",
            "/content/data_used/NORMAL/NORMAL2-IM-1330-0001.jpeg\n",
            "/content/data_used/NORMAL/IM-0613-0001.jpeg\n",
            "/content/data_used/NORMAL/NORMAL2-IM-1103-0001-0001.jpeg\n",
            "/content/data_used/NORMAL/NORMAL2-IM-0322-0001.jpeg\n",
            "/content/data_used/NORMAL/NORMAL2-IM-1187-0001.jpeg\n",
            "/content/data_used/NORMAL/IM-0413-0001.jpeg\n",
            "/content/data_used/NORMAL/NORMAL2-IM-0448-0001.jpeg\n",
            "/content/data_used/NORMAL/NORMAL2-IM-0908-0001.jpeg\n",
            "/content/data_used/NORMAL/IM-0683-0001.jpeg\n",
            "/content/data_used/NORMAL/IM-0077-0001.jpeg\n",
            "/content/data_used/NORMAL/IM-0346-0001.jpeg\n",
            "/content/data_used/NORMAL/NORMAL2-IM-0983-0001-0001.jpeg\n",
            "/content/data_used/NORMAL/IM-0622-0001-0002.jpeg\n",
            "/content/data_used/NORMAL/IM-0713-0001.jpeg\n",
            "/content/data_used/NORMAL/IM-0015-0001.jpeg\n",
            "/content/data_used/NORMAL/IM-0519-0001-0001.jpeg\n",
            "/content/data_used/NORMAL/NORMAL2-IM-0553-0001.jpeg\n",
            "/content/data_used/NORMAL/IM-0747-0001.jpeg\n",
            "/content/data_used/NORMAL/NORMAL2-IM-1197-0001.jpeg\n",
            "/content/data_used/NORMAL/NORMAL2-IM-0530-0001.jpeg\n",
            "/content/data_used/NORMAL/NORMAL2-IM-0286-0001.jpeg\n",
            "/content/data_used/NORMAL/NORMAL2-IM-0836-0001.jpeg\n",
            "/content/data_used/NORMAL/IM-0438-0001.jpeg\n",
            "/content/data_used/NORMAL/NORMAL2-IM-1294-0001-0002.jpeg\n",
            "/content/data_used/NORMAL/NORMAL2-IM-0357-0001.jpeg\n",
            "/content/data_used/NORMAL/IM-0606-0001.jpeg\n",
            "/content/data_used/NORMAL/IM-0105-0001.jpeg\n",
            "/content/data_used/NORMAL/IM-0584-0001.jpeg\n",
            "/content/data_used/NORMAL/IM-0019-0001.jpeg\n",
            "/content/data_used/NORMAL/NORMAL2-IM-1412-0001.jpeg\n",
            "/content/data_used/NORMAL/NORMAL2-IM-0626-0001.jpeg\n",
            "/content/data_used/NORMAL/IM-0242-0001.jpeg\n",
            "/content/data_used/NORMAL/NORMAL2-IM-0654-0001.jpeg\n",
            "/content/data_used/NORMAL/NORMAL2-IM-1328-0001.jpeg\n",
            "/content/data_used/NORMAL/NORMAL2-IM-1222-0001.jpeg\n",
            "/content/data_used/NORMAL/IM-0649-0001.jpeg\n",
            "/content/data_used/NORMAL/NORMAL2-IM-0520-0001.jpeg\n",
            "/content/data_used/NORMAL/NORMAL2-IM-1310-0001.jpeg\n",
            "/content/data_used/NORMAL/NORMAL2-IM-0315-0001.jpeg\n",
            "/content/data_used/NORMAL/NORMAL2-IM-0388-0001.jpeg\n",
            "/content/data_used/NORMAL/NORMAL2-IM-0390-0001.jpeg\n",
            "/content/data_used/NORMAL/IM-0620-0001-0001.jpeg\n",
            "/content/data_used/NORMAL/NORMAL2-IM-1111-0001.jpeg\n",
            "/content/data_used/NORMAL/IM-0748-0001.jpeg\n",
            "/content/data_used/NORMAL/NORMAL2-IM-0863-0001.jpeg\n",
            "/content/data_used/NORMAL/IM-0273-0001.jpeg\n",
            "/content/data_used/NORMAL/NORMAL2-IM-0028-0001.jpeg\n",
            "/content/data_used/NORMAL/NORMAL2-IM-0537-0001.jpeg\n",
            "/content/data_used/NORMAL/NORMAL2-IM-0096-0001.jpeg\n",
            "/content/data_used/NORMAL/IM-0355-0001.jpeg\n",
            "/content/data_used/NORMAL/NORMAL2-IM-0421-0001.jpeg\n",
            "/content/data_used/NORMAL/NORMAL2-IM-1001-0001.jpeg\n",
            "/content/data_used/NORMAL/NORMAL2-IM-1315-0001.jpeg\n",
            "/content/data_used/NORMAL/NORMAL2-IM-0808-0001.jpeg\n",
            "/content/data_used/NORMAL/NORMAL2-IM-1406-0001.jpeg\n",
            "/content/data_used/NORMAL/NORMAL2-IM-0707-0001.jpeg\n",
            "/content/data_used/NORMAL/IM-0147-0001.jpeg\n",
            "/content/data_used/NORMAL/NORMAL2-IM-1020-0001.jpeg\n",
            "/content/data_used/NORMAL/NORMAL2-IM-0557-0001.jpeg\n",
            "/content/data_used/NORMAL/IM-0624-0001.jpeg\n",
            "/content/data_used/NORMAL/NORMAL2-IM-0576-0001.jpeg\n",
            "/content/data_used/NORMAL/IM-0392-0001.jpeg\n",
            "/content/data_used/NORMAL/IM-0160-0001.jpeg\n",
            "/content/data_used/NORMAL/IM-0499-0001.jpeg\n",
            "/content/data_used/NORMAL/NORMAL2-IM-0416-0001.jpeg\n",
            "/content/data_used/NORMAL/NORMAL2-IM-0567-0001.jpeg\n",
            "/content/data_used/NORMAL/IM-0049-0001.jpeg\n",
            "/content/data_used/NORMAL/NORMAL2-IM-0283-0001.jpeg\n",
            "/content/data_used/NORMAL/IM-0526-0001.jpeg\n",
            "/content/data_used/NORMAL/IM-0109-0001.jpeg\n",
            "/content/data_used/NORMAL/IM-0177-0001.jpeg\n",
            "/content/data_used/NORMAL/NORMAL2-IM-0841-0001.jpeg\n",
            "/content/data_used/NORMAL/NORMAL2-IM-0980-0001.jpeg\n",
            "/content/data_used/NORMAL/IM-0335-0001.jpeg\n",
            "/content/data_used/NORMAL/NORMAL2-IM-1227-0001.jpeg\n",
            "/content/data_used/NORMAL/IM-0700-0001.jpeg\n",
            "/content/data_used/NORMAL/NORMAL2-IM-1266-0001-0002.jpeg\n",
            "/content/data_used/NORMAL/NORMAL2-IM-1055-0001.jpeg\n",
            "/content/data_used/NORMAL/IM-0085-0001.jpeg\n",
            "/content/data_used/NORMAL/IM-0377-0001.jpeg\n",
            "/content/data_used/NORMAL/NORMAL2-IM-0327-0001.jpeg\n",
            "/content/data_used/NORMAL/NORMAL2-IM-0995-0001.jpeg\n",
            "/content/data_used/NORMAL/NORMAL2-IM-0325-0001.jpeg\n",
            "/content/data_used/NORMAL/NORMAL2-IM-0601-0001.jpeg\n",
            "/content/data_used/NORMAL/IM-0732-0001.jpeg\n",
            "/content/data_used/NORMAL/IM-0332-0001.jpeg\n",
            "/content/data_used/NORMAL/IM-0329-0001.jpeg\n",
            "/content/data_used/NORMAL/NORMAL2-IM-0594-0001.jpeg\n",
            "/content/data_used/NORMAL/NORMAL2-IM-0550-0001.jpeg\n",
            "/content/data_used/NORMAL/IM-0539-0001-0002.jpeg\n",
            "/content/data_used/NORMAL/NORMAL2-IM-0580-0001.jpeg\n",
            "/content/data_used/NORMAL/IM-0684-0001.jpeg\n",
            "/content/data_used/NORMAL/IM-0522-0001.jpeg\n",
            "/content/data_used/NORMAL/IM-0642-0001.jpeg\n",
            "/content/data_used/NORMAL/IM-0531-0001.jpeg\n",
            "/content/data_used/NORMAL/NORMAL2-IM-1141-0001.jpeg\n",
            "/content/data_used/NORMAL/NORMAL2-IM-0771-0001.jpeg\n",
            "/content/data_used/NORMAL/NORMAL2-IM-1194-0001.jpeg\n",
            "/content/data_used/NORMAL/IM-0119-0001.jpeg\n",
            "/content/data_used/NORMAL/NORMAL2-IM-1170-0001.jpeg\n",
            "/content/data_used/NORMAL/NORMAL2-IM-1307-0001.jpeg\n",
            "/content/data_used/NORMAL/NORMAL2-IM-0603-0001.jpeg\n",
            "/content/data_used/NORMAL/IM-0410-0001.jpeg\n",
            "/content/data_used/NORMAL/NORMAL2-IM-0948-0001.jpeg\n",
            "/content/data_used/NORMAL/NORMAL2-IM-1047-0001.jpeg\n",
            "/content/data_used/NORMAL/IM-0619-0001.jpeg\n",
            "/content/data_used/NORMAL/NORMAL2-IM-0419-0001.jpeg\n",
            "/content/data_used/NORMAL/NORMAL2-IM-0669-0001.jpeg\n",
            "/content/data_used/NORMAL/NORMAL2-IM-0853-0001.jpeg\n",
            "/content/data_used/NORMAL/IM-0283-0001.jpeg\n",
            "/content/data_used/NORMAL/NORMAL2-IM-0663-0001.jpeg\n",
            "/content/data_used/NORMAL/IM-0516-0001.jpeg\n",
            "/content/data_used/NORMAL/NORMAL2-IM-0951-0001.jpeg\n",
            "/content/data_used/NORMAL/NORMAL2-IM-0107-0001.jpeg\n",
            "/content/data_used/NORMAL/NORMAL2-IM-1005-0001.jpeg\n",
            "/content/data_used/NORMAL/NORMAL2-IM-0941-0001.jpeg\n",
            "/content/data_used/NORMAL/IM-0107-0001.jpeg\n",
            "/content/data_used/NORMAL/NORMAL2-IM-0815-0001.jpeg\n",
            "/content/data_used/NORMAL/IM-0340-0001.jpeg\n",
            "/content/data_used/NORMAL/NORMAL2-IM-1152-0001-0001.jpeg\n",
            "/content/data_used/NORMAL/IM-0278-0001.jpeg\n",
            "/content/data_used/NORMAL/NORMAL2-IM-0664-0001.jpeg\n",
            "/content/data_used/NORMAL/NORMAL2-IM-1257-0001.jpeg\n",
            "/content/data_used/NORMAL/IM-0517-0001-0001.jpeg\n",
            "/content/data_used/NORMAL/IM-0087-0001.jpeg\n",
            "/content/data_used/NORMAL/IM-0593-0001.jpeg\n",
            "/content/data_used/NORMAL/NORMAL2-IM-0623-0001.jpeg\n",
            "/content/data_used/NORMAL/NORMAL2-IM-0554-0001.jpeg\n",
            "/content/data_used/NORMAL/IM-0473-0001.jpeg\n",
            "/content/data_used/NORMAL/NORMAL2-IM-1116-0001-0002.jpeg\n",
            "/content/data_used/NORMAL/IM-0193-0001.jpeg\n",
            "/content/data_used/NORMAL/NORMAL2-IM-0353-0001.jpeg\n",
            "/content/data_used/NORMAL/NORMAL2-IM-0512-0001.jpeg\n",
            "/content/data_used/NORMAL/NORMAL2-IM-0975-0001.jpeg\n",
            "/content/data_used/NORMAL/NORMAL2-IM-0289-0001.jpeg\n",
            "/content/data_used/NORMAL/NORMAL2-IM-0914-0001.jpeg\n",
            "/content/data_used/NORMAL/IM-0617-0001.jpeg\n",
            "/content/data_used/NORMAL/IM-0541-0001.jpeg\n",
            "/content/data_used/NORMAL/NORMAL2-IM-1209-0001.jpeg\n",
            "/content/data_used/NORMAL/IM-0570-0001.jpeg\n",
            "/content/data_used/NORMAL/IM-0437-0001.jpeg\n",
            "/content/data_used/NORMAL/NORMAL2-IM-0744-0001.jpeg\n",
            "/content/data_used/NORMAL/NORMAL2-IM-0595-0001.jpeg\n",
            "/content/data_used/NORMAL/NORMAL2-IM-1266-0001.jpeg\n",
            "/content/data_used/NORMAL/NORMAL2-IM-1300-0001.jpeg\n",
            "/content/data_used/NORMAL/NORMAL2-IM-1206-0001.jpeg\n",
            "/content/data_used/NORMAL/NORMAL2-IM-0629-0001.jpeg\n",
            "/content/data_used/NORMAL/IM-0236-0001.jpeg\n",
            "/content/data_used/NORMAL/IM-0476-0001.jpeg\n",
            "/content/data_used/NORMAL/NORMAL2-IM-0383-0001.jpeg\n",
            "/content/data_used/NORMAL/IM-0127-0001.jpeg\n",
            "/content/data_used/NORMAL/IM-0421-0001.jpeg\n",
            "/content/data_used/NORMAL/IM-0217-0001.jpeg\n",
            "/content/data_used/NORMAL/NORMAL2-IM-0575-0001.jpeg\n",
            "/content/data_used/NORMAL/NORMAL2-IM-1019-0001.jpeg\n",
            "/content/data_used/NORMAL/IM-0314-0001.jpeg\n",
            "/content/data_used/NORMAL/IM-0604-0001.jpeg\n",
            "/content/data_used/NORMAL/NORMAL2-IM-0753-0001.jpeg\n",
            "/content/data_used/NORMAL/IM-0651-0001.jpeg\n",
            "/content/data_used/NORMAL/NORMAL2-IM-0555-0001-0001.jpeg\n",
            "/content/data_used/NORMAL/NORMAL2-IM-1020-0001-0002.jpeg\n",
            "/content/data_used/NORMAL/NORMAL2-IM-1039-0001.jpeg\n",
            "/content/data_used/NORMAL/IM-0533-0001.jpeg\n",
            "/content/data_used/NORMAL/IM-0371-0001.jpeg\n",
            "/content/data_used/NORMAL/IM-0381-0001.jpeg\n",
            "/content/data_used/NORMAL/NORMAL2-IM-0757-0001.jpeg\n",
            "/content/data_used/NORMAL/NORMAL2-IM-0825-0001.jpeg\n",
            "/content/data_used/NORMAL/IM-0599-0001.jpeg\n",
            "/content/data_used/NORMAL/NORMAL2-IM-0246-0001.jpeg\n",
            "/content/data_used/NORMAL/NORMAL2-IM-1062-0001.jpeg\n",
            "/content/data_used/NORMAL/NORMAL2-IM-0569-0001.jpeg\n",
            "/content/data_used/NORMAL/NORMAL2-IM-0406-0001.jpeg\n",
            "/content/data_used/NORMAL/NORMAL2-IM-0304-0001.jpeg\n",
            "/content/data_used/NORMAL/IM-0669-0001.jpeg\n",
            "/content/data_used/NORMAL/IM-0504-0001.jpeg\n",
            "/content/data_used/NORMAL/NORMAL2-IM-0672-0001.jpeg\n",
            "/content/data_used/NORMAL/IM-0401-0001.jpeg\n",
            "/content/data_used/NORMAL/IM-0289-0001.jpeg\n",
            "/content/data_used/NORMAL/NORMAL2-IM-0340-0001.jpeg\n",
            "/content/data_used/NORMAL/NORMAL2-IM-0974-0001.jpeg\n",
            "/content/data_used/NORMAL/IM-0091-0001.jpeg\n",
            "/content/data_used/NORMAL/NORMAL2-IM-0132-0001.jpeg\n",
            "/content/data_used/NORMAL/NORMAL2-IM-0030-0001.jpeg\n",
            "/content/data_used/NORMAL/IM-0510-0001.jpeg\n",
            "/content/data_used/NORMAL/IM-0343-0001.jpeg\n",
            "/content/data_used/NORMAL/IM-0348-0001.jpeg\n",
            "/content/data_used/NORMAL/NORMAL2-IM-1254-0001.jpeg\n",
            "/content/data_used/NORMAL/IM-0722-0001.jpeg\n",
            "/content/data_used/NORMAL/NORMAL2-IM-1218-0001.jpeg\n",
            "/content/data_used/NORMAL/NORMAL2-IM-0880-0001.jpeg\n",
            "/content/data_used/NORMAL/NORMAL2-IM-0923-0001.jpeg\n",
            "/content/data_used/NORMAL/IM-0154-0001.jpeg\n",
            "/content/data_used/NORMAL/NORMAL2-IM-1258-0001-0002.jpeg\n",
            "/content/data_used/NORMAL/NORMAL2-IM-1302-0001.jpeg\n",
            "/content/data_used/NORMAL/NORMAL2-IM-1096-0001.jpeg\n",
            "/content/data_used/NORMAL/NORMAL2-IM-0395-0001-0001.jpeg\n",
            "/content/data_used/NORMAL/IM-0631-0001.jpeg\n",
            "/content/data_used/NORMAL/IM-0740-0001.jpeg\n"
          ]
        }
      ]
    },
    {
      "cell_type": "code",
      "metadata": {
        "id": "4dY9EiJbovKR",
        "colab": {
          "base_uri": "https://localhost:8080/"
        },
        "outputId": "bbcb61b1-110a-41a0-8fb9-a3585ebfead0"
      },
      "source": [
        "patternZero = '*IM*.jpeg'\n",
        "patternOne = '*person*.jpeg'\n",
        "classZero = fnmatch.filter(imagePatches, patternZero)\n",
        "classOne = fnmatch.filter(imagePatches, patternOne)\n",
        "print(\"IDC(-)\\n\\n\",classZero[0:5],'\\n')\n",
        "print(\"IDC(+)\\n\\n\",classOne[0:5])"
      ],
      "execution_count": 19,
      "outputs": [
        {
          "output_type": "stream",
          "name": "stdout",
          "text": [
            "IDC(-)\n",
            "\n",
            " ['/content/data_used/NORMAL/IM-0145-0001.jpeg', '/content/data_used/NORMAL/NORMAL2-IM-0851-0001-0001.jpeg', '/content/data_used/NORMAL/IM-0484-0001.jpeg', '/content/data_used/NORMAL/IM-0689-0001.jpeg', '/content/data_used/NORMAL/IM-0721-0001.jpeg'] \n",
            "\n",
            "IDC(+)\n",
            "\n",
            " ['/content/data_used/PNEUMONIA/person956_virus_1628.jpeg', '/content/data_used/PNEUMONIA/person1300_virus_2240.jpeg', '/content/data_used/PNEUMONIA/person579_virus_1123.jpeg', '/content/data_used/PNEUMONIA/person16_virus_47.jpeg', '/content/data_used/PNEUMONIA/person1306_bacteria_3275.jpeg']\n"
          ]
        }
      ]
    },
    {
      "cell_type": "code",
      "metadata": {
        "id": "6NdRVSpwv9D8",
        "colab": {
          "base_uri": "https://localhost:8080/"
        },
        "outputId": "f360d144-bf02-4ea9-bfa0-c4cb0ae34884"
      },
      "source": [
        "print(len(classZero))\n",
        "print(len(classOne))"
      ],
      "execution_count": 20,
      "outputs": [
        {
          "output_type": "stream",
          "name": "stdout",
          "text": [
            "1583\n",
            "4273\n"
          ]
        }
      ]
    },
    {
      "cell_type": "code",
      "metadata": {
        "id": "cQbT9IlEozHD"
      },
      "source": [
        "X=[]\n",
        "y=[]\n",
        "\n",
        "for u in classZero:\n",
        "  X.append(u)\n",
        "  y.append(0)\n",
        "\n",
        "for u in classOne:\n",
        "  X.append(u)\n",
        "  y.append(1)"
      ],
      "execution_count": 21,
      "outputs": []
    },
    {
      "cell_type": "code",
      "metadata": {
        "id": "gyAP06j_o5y5"
      },
      "source": [
        "df = pd.DataFrame()\n",
        "df[\"images\"]=X\n",
        "df[\"labels\"]=y\n",
        "df=df.sample(frac=1)"
      ],
      "execution_count": 22,
      "outputs": []
    },
    {
      "cell_type": "code",
      "metadata": {
        "id": "86jc5Cqzo-ha"
      },
      "source": [
        "def RgbToQuaternion(img):\n",
        " b,g,r = cv2.split(img)\n",
        "\n",
        " M=np.zeros((50,50,4))\n",
        " M[:,:,1]=r\n",
        " M[:,:,2]=g\n",
        " M[:,:,3]=b\n",
        " return(np.array(M))"
      ],
      "execution_count": 23,
      "outputs": []
    },
    {
      "cell_type": "code",
      "metadata": {
        "id": "NlZUb-10pCcQ"
      },
      "source": [
        "def batch_generator(df,batch_size,steps):\n",
        " idx=1\n",
        " while True: \n",
        "  yield load_data(df,idx-1,batch_size)## Yields data\n",
        "  if idx < steps:\n",
        "    idx+=1\n",
        "  else:\n",
        "    idx=1"
      ],
      "execution_count": 24,
      "outputs": []
    },
    {
      "cell_type": "code",
      "metadata": {
        "id": "cyVdNldPpI84"
      },
      "source": [
        "def load_data(df,idx,batch_size):\n",
        " start=idx*batch_size\n",
        " end=(idx+1)*batch_size\n",
        " x = []\n",
        " y = [] \n",
        " for  row  in df.values[start:end,:]:\n",
        "  img=row[0]\n",
        "\n",
        "  full_size_image = cv2.imread(img)\n",
        "  X=cv2.resize(full_size_image, (50,50), interpolation=cv2.INTER_CUBIC)\n",
        "\n",
        "  image = RgbToQuaternion(X) /255.\n",
        "  x.append(image) \n",
        "  y.append(row[-1] )\n",
        "\n",
        " return (np.array(x).reshape(-1,50,50,4), np.array(y).reshape(-1))"
      ],
      "execution_count": 25,
      "outputs": []
    },
    {
      "cell_type": "code",
      "metadata": {
        "id": "V29ZJA8RpM7k"
      },
      "source": [
        "df_train, df = train_test_split(df, test_size=0.20)\n",
        "df_test, df_val = train_test_split(df, test_size=0.5)"
      ],
      "execution_count": 26,
      "outputs": []
    },
    {
      "cell_type": "code",
      "metadata": {
        "id": "FQl7Oj4HpS20",
        "colab": {
          "base_uri": "https://localhost:8080/"
        },
        "outputId": "59e2c1e0-0b0a-472a-8d29-7c7267979299"
      },
      "source": [
        "\n",
        "from   complexnn                             import *\n",
        "import keras\n",
        "from   keras.layers                          import *\n",
        "from   keras.models                          import Model\n",
        "import keras.backend                         as     K\n",
        "import numpy                                 as     np\n"
      ],
      "execution_count": 27,
      "outputs": [
        {
          "output_type": "stream",
          "name": "stderr",
          "text": [
            "Using TensorFlow backend.\n"
          ]
        }
      ]
    },
    {
      "cell_type": "code",
      "source": [
        "#from   tensorflow.keras.layers                          import *"
      ],
      "metadata": {
        "id": "qWtlwF40XDqx"
      },
      "execution_count": 28,
      "outputs": []
    },
    {
      "cell_type": "code",
      "source": [
        "from keras.optimizers import Adam"
      ],
      "metadata": {
        "id": "02iDVZYTclSt"
      },
      "execution_count": 29,
      "outputs": []
    },
    {
      "cell_type": "code",
      "metadata": {
        "id": "scrD3pE8pTa5"
      },
      "source": [
        "#from keras.optimizers import adam\n",
        "opt = Adam(lr = 0.001,decay=1e-6)"
      ],
      "execution_count": 30,
      "outputs": []
    },
    {
      "cell_type": "code",
      "source": [
        "#import tensorflow as tf\n",
        "# ensure consistency across runs\n",
        "from numpy.random import seed\n",
        "seed(1)"
      ],
      "metadata": {
        "id": "m_lEa6isT32W"
      },
      "execution_count": 31,
      "outputs": []
    },
    {
      "cell_type": "code",
      "source": [
        "class ChannelAttention(keras.layers.Layer):\n",
        "      def __init__(self, filters, ratio):\n",
        "        super(ChannelAttention, self).__init__()\n",
        "        self.filters = filters\n",
        "        self.ratio = ratio\n",
        "\n",
        "        def build(self, input_shape):\n",
        "            self.shared_layer_one = tf.keras.layers.Dense(self.filters//self.ratio,\n",
        "                             activation='relu', kernel_initializer='he_normal', \n",
        "                              use_bias=True, \n",
        "                              bias_initializer='zeros')\n",
        "            self.shared_layer_two = tf.keras.layers.Dense(self.filters,\n",
        "                             kernel_initializer='he_normal',\n",
        "                             use_bias=True,\n",
        "                             bias_initializer='zeros')\n",
        "\n",
        "        def call(self, inputs):\n",
        "            # AvgPool\n",
        "            avg_pool = keras.layers.GlobalAveragePooling2D()(inputs)\n",
        "            \n",
        "\n",
        "            avg_pool = self.shared_layer_one(avg_pool)\n",
        "            avg_pool = self.shared_layer_two(avg_pool)\n",
        "\n",
        "            # MaxPool\n",
        "            max_pool = keras.layers.GlobalMaxPooling2D()(inputs)\n",
        "            max_pool = keras.layers.Reshape((1,1,filters))(max_pool)\n",
        "\n",
        "            max_pool = self.shared_layer_one(max_pool)\n",
        "            max_pool = self.shared_layer_two(max_pool)\n",
        "\n",
        "\n",
        "            attention = keras.layers.Add()([avg_pool,max_pool])\n",
        "            attention = keras.layers.Activation('sigmoid')(attention)\n",
        "            \n",
        "            return keras.layers.Multiply()([inputs, attention])\n",
        "\n",
        "class SpatialAttention(keras.layers.Layer):\n",
        "      def __init__(self, kernel_size):\n",
        "        super(SpatialAttention, self).__init__()\n",
        "        self.kernel_size = kernel_size\n",
        "        \n",
        "        def build(self, input_shape):\n",
        "            self.conv2d = keras.layers.Conv2D(filters = 1,\n",
        "                    kernel_size=self.kernel_size,\n",
        "                    strides=1,\n",
        "                    padding='same',\n",
        "                    activation='sigmoid',\n",
        "                    kernel_initializer='he_normal',\n",
        "                    use_bias=False)\n",
        "\n",
        "        def call(self, inputs):\n",
        "            \n",
        "            # AvgPool\n",
        "            avg_pool = keras.layers.Lambda(lambda x: tf.keras.backend.mean(x, axis=3, keepdims=True))(inputs)\n",
        "            \n",
        "            # MaxPool\n",
        "            max_pool = keras.layers.Lambda(lambda x: tf.keras.backend.max(x, axis=3, keepdims=True))(inputs)\n",
        "\n",
        "            attention = keras.layers.Concatenate(axis=3)([avg_pool, max_pool])\n",
        "\n",
        "            attention = self.conv2d(attention)\n",
        "\n",
        "\n",
        "            return tf.keras.layers.multiply([inputs, attention])\n",
        "\n"
      ],
      "metadata": {
        "id": "bc3DiSGyPNdu"
      },
      "execution_count": 32,
      "outputs": []
    },
    {
      "cell_type": "code",
      "metadata": {
        "id": "x91xqzQI6Mx2"
      },
      "source": [
        "def residual_block(mod_, f_in, f_out, strides_ = (1,1), use_shortcut_ = False):   \n",
        "    shortcut_ = mod_\n",
        "    \n",
        "    k_ = (1,1)\n",
        "    \n",
        "    mod_ = QuaternionConv2D(f_in, kernel_size=k_, strides=(1,1), padding = \"same\")(mod_)\n",
        "    mod_ = BatchNormalization()(mod_)\n",
        "    mod_ = ELU()(mod_)\n",
        "    \n",
        "    mod_ = QuaternionConv2D(f_in, kernel_size=k_, strides=strides_, padding = \"same\")(mod_)\n",
        "    mod_ = BatchNormalization()(mod_)\n",
        "    mod_ = ELU()(mod_)\n",
        "    \n",
        "    mod_ = QuaternionConv2D(f_out, kernel_size=k_, strides=(1,1), padding = \"same\")(mod_)\n",
        "    mod_ = BatchNormalization()(mod_)\n",
        "    mod_ = ELU()(mod_)\n",
        "    \n",
        "    if use_shortcut_ == True or strides_ != (1,1):\n",
        "        shortcut_ = QuaternionConv2D(f_out, kernel_size=k_, strides=strides_, padding = \"same\")(shortcut_)\n",
        "        shortcut_ = BatchNormalization()(shortcut_)\n",
        "        \n",
        "    mod_ = Add()([shortcut_, mod_])\n",
        "    mod_ = ReLU()(mod_)\n",
        "    \n",
        "    return mod_"
      ],
      "execution_count": 33,
      "outputs": []
    },
    {
      "cell_type": "code",
      "metadata": {
        "id": "wf2l0CgN6OwO"
      },
      "source": [
        "def model_build(in_):\n",
        "    \n",
        "    k_=(1,1)\n",
        "    \n",
        "    mod_ = QuaternionConv2D(16, kernel_size=k_, strides = (1,1), padding = \"same\")(in_)\n",
        "    \n",
        "    mod_ = BatchNormalization()(mod_)    \n",
        "    \n",
        "    mod_ = ReLU()(mod_)\n",
        "    mod_=  ChannelAttention(16, 8)(mod_)\n",
        "    mod_= SpatialAttention(3)(mod_)\n",
        "    mod_ = MaxPooling2D()(mod_)\n",
        "    \n",
        "    mod_ = residual_block(mod_, 16, 32, use_shortcut_=True)\n",
        "    \n",
        "    mod_ = MaxPooling2D()(mod_)\n",
        "    mod_=  ChannelAttention(16, 8)(mod_)\n",
        "    mod_= SpatialAttention(3)(mod_)\n",
        "    \n",
        "    mod_ = residual_block(mod_, 32, 64, use_shortcut_=True)\n",
        "    \n",
        "    mod_ = MaxPooling2D()(mod_)\n",
        "    mod_=  ChannelAttention(32, 8)(mod_)\n",
        "    mod_= SpatialAttention(3)(mod_)\n",
        "    \n",
        "    mod_ = residual_block(mod_, 64, 96, use_shortcut_=True)\n",
        "    \n",
        "    mod_ = MaxPooling2D()(mod_)\n",
        "    mod_=  ChannelAttention(64, 8)(mod_)\n",
        "    mod_= SpatialAttention(3)(mod_)\n",
        "    \n",
        "    mod_ = residual_block(mod_, 96, 128, use_shortcut_=True)\n",
        "    \n",
        "    mod_ = MaxPooling2D()(mod_)\n",
        "    mod_=  ChannelAttention(96, 8)(mod_)\n",
        "    mod_= SpatialAttention(3)(mod_)\n",
        "    \n",
        "    \n",
        "    mod_ = GlobalAveragePooling2D()(mod_)\n",
        "    \n",
        "    mod_ = Dense(512, activation = \"relu\")(mod_)\n",
        "    \n",
        "    mod_ = Dropout(0.5)(mod_)\n",
        "    \n",
        "    mod_ = Dense(1, activation=\"sigmoid\")(mod_)\n",
        "    \n",
        "    return mod_"
      ],
      "execution_count": 34,
      "outputs": []
    },
    {
      "cell_type": "code",
      "metadata": {
        "id": "fN8TNhyZ0m3U"
      },
      "source": [
        "def recall_m(y_true, y_pred):\n",
        "    true_positives = K.sum(K.round(K.clip(y_true * y_pred, 0, 1)))\n",
        "    possible_positives = K.sum(K.round(K.clip(y_true, 0, 1)))\n",
        "    recall = true_positives / (possible_positives + K.epsilon())\n",
        "    return recall\n",
        "\n",
        "def precision_m(y_true, y_pred):\n",
        "    true_positives = K.sum(K.round(K.clip(y_true * y_pred, 0, 1)))\n",
        "    predicted_positives = K.sum(K.round(K.clip(y_pred, 0, 1)))\n",
        "    precision = true_positives / (predicted_positives + K.epsilon())\n",
        "    return precision\n",
        "\n",
        "def f1_m(y_true, y_pred):\n",
        "    precision = precision_m(y_true, y_pred)\n",
        "    recall = recall_m(y_true, y_pred)\n",
        "    return 2*((precision*recall)/(precision+recall+K.epsilon()))"
      ],
      "execution_count": 35,
      "outputs": []
    },
    {
      "cell_type": "code",
      "metadata": {
        "id": "Bl7huBsapW1F",
        "colab": {
          "base_uri": "https://localhost:8080/"
        },
        "outputId": "f5c5e11a-a5ed-464a-92d5-39080694c166"
      },
      "source": [
        "in_ = Input((50,50,4))\n",
        "model_ = model_build(in_)"
      ],
      "execution_count": 36,
      "outputs": [
        {
          "output_type": "stream",
          "name": "stdout",
          "text": [
            "WARNING:tensorflow:From /usr/local/lib/python3.7/dist-packages/keras/backend/tensorflow_backend.py:74: The name tf.get_default_graph is deprecated. Please use tf.compat.v1.get_default_graph instead.\n",
            "\n",
            "WARNING:tensorflow:From /usr/local/lib/python3.7/dist-packages/keras/backend/tensorflow_backend.py:517: The name tf.placeholder is deprecated. Please use tf.compat.v1.placeholder instead.\n",
            "\n",
            "WARNING:tensorflow:From /usr/local/lib/python3.7/dist-packages/keras/backend/tensorflow_backend.py:174: The name tf.get_default_session is deprecated. Please use tf.compat.v1.get_default_session instead.\n",
            "\n",
            "WARNING:tensorflow:From /usr/local/lib/python3.7/dist-packages/keras/backend/tensorflow_backend.py:181: The name tf.ConfigProto is deprecated. Please use tf.compat.v1.ConfigProto instead.\n",
            "\n",
            "WARNING:tensorflow:From /usr/local/lib/python3.7/dist-packages/keras/backend/tensorflow_backend.py:186: The name tf.Session is deprecated. Please use tf.compat.v1.Session instead.\n",
            "\n",
            "WARNING:tensorflow:From /usr/local/lib/python3.7/dist-packages/keras/backend/tensorflow_backend.py:190: The name tf.global_variables is deprecated. Please use tf.compat.v1.global_variables instead.\n",
            "\n",
            "WARNING:tensorflow:From /usr/local/lib/python3.7/dist-packages/keras/backend/tensorflow_backend.py:199: The name tf.is_variable_initialized is deprecated. Please use tf.compat.v1.is_variable_initialized instead.\n",
            "\n",
            "WARNING:tensorflow:From /usr/local/lib/python3.7/dist-packages/keras/backend/tensorflow_backend.py:206: The name tf.variables_initializer is deprecated. Please use tf.compat.v1.variables_initializer instead.\n",
            "\n",
            "WARNING:tensorflow:From /usr/local/lib/python3.7/dist-packages/keras/backend/tensorflow_backend.py:1834: The name tf.nn.fused_batch_norm is deprecated. Please use tf.compat.v1.nn.fused_batch_norm instead.\n",
            "\n",
            "WARNING:tensorflow:From /usr/local/lib/python3.7/dist-packages/keras/backend/tensorflow_backend.py:133: The name tf.placeholder_with_default is deprecated. Please use tf.compat.v1.placeholder_with_default instead.\n",
            "\n",
            "WARNING:tensorflow:From /usr/local/lib/python3.7/dist-packages/keras/backend/tensorflow_backend.py:3976: The name tf.nn.max_pool is deprecated. Please use tf.nn.max_pool2d instead.\n",
            "\n",
            "WARNING:tensorflow:From /usr/local/lib/python3.7/dist-packages/keras/backend/tensorflow_backend.py:4138: The name tf.random_uniform is deprecated. Please use tf.random.uniform instead.\n",
            "\n",
            "WARNING:tensorflow:From /usr/local/lib/python3.7/dist-packages/keras/backend/tensorflow_backend.py:3445: calling dropout (from tensorflow.python.ops.nn_ops) with keep_prob is deprecated and will be removed in a future version.\n",
            "Instructions for updating:\n",
            "Please use `rate` instead of `keep_prob`. Rate should be set to `rate = 1 - keep_prob`.\n"
          ]
        }
      ]
    },
    {
      "cell_type": "code",
      "metadata": {
        "id": "Y9zNnD_C5ymO",
        "colab": {
          "base_uri": "https://localhost:8080/"
        },
        "outputId": "f38fdb73-99da-451e-932d-db98609c486f"
      },
      "source": [
        "model = Model(input = in_, output = model_)"
      ],
      "execution_count": 37,
      "outputs": [
        {
          "output_type": "stream",
          "name": "stderr",
          "text": [
            "/usr/local/lib/python3.7/dist-packages/ipykernel_launcher.py:1: UserWarning: Update your `Model` call to the Keras 2 API: `Model(inputs=Tensor(\"in..., outputs=Tensor(\"de...)`\n",
            "  \"\"\"Entry point for launching an IPython kernel.\n"
          ]
        }
      ]
    },
    {
      "cell_type": "code",
      "source": [
        "import numpy as np\n",
        "import pandas as pd\n",
        "import matplotlib.pyplot as plt\n",
        "import seaborn as sns\n",
        "import tensorflow as tf\n",
        "from tensorflow.keras.models import Sequential\n",
        "from tensorflow.keras.layers import Dense, Conv2D , MaxPool2D , Flatten , Dropout , BatchNormalization, GlobalAveragePooling2D\n",
        "from tensorflow.keras.preprocessing.image import ImageDataGenerator, array_to_img, img_to_array\n",
        "from sklearn.model_selection import train_test_split\n",
        "from sklearn.metrics import classification_report,confusion_matrix\n",
        "from tensorflow.keras.callbacks import ReduceLROnPlateau\n",
        "import cv2\n",
        "import os"
      ],
      "metadata": {
        "id": "DUt-QaWsTpn6"
      },
      "execution_count": 38,
      "outputs": []
    },
    {
      "cell_type": "code",
      "source": [
        "METRICS = [\n",
        "      tf.keras.metrics.TruePositives(name='tp'),\n",
        "      tf.keras.metrics.FalsePositives(name='fp'),\n",
        "      tf.keras.metrics.TrueNegatives(name='tn'),\n",
        "      tf.keras.metrics.FalseNegatives(name='fn'), \n",
        "      tf.keras.metrics.BinaryAccuracy(name='accuracy'),\n",
        "      tf.keras.metrics.Precision(name='precision'),\n",
        "      tf.keras.metrics.Recall(name='recall'),\n",
        "      tf.keras.metrics.AUC(name='roc', curve='ROC'), # roc curve\n",
        "      tf.keras.metrics.AUC(name='prc', curve='PR') # precision-recall curve\n",
        "]"
      ],
      "metadata": {
        "id": "DO3eaGiPThhU",
        "colab": {
          "base_uri": "https://localhost:8080/"
        },
        "outputId": "4b0f0f65-3319-4130-e782-31a0e7a4877f"
      },
      "execution_count": 39,
      "outputs": [
        {
          "output_type": "stream",
          "name": "stdout",
          "text": [
            "WARNING:tensorflow:From /usr/local/lib/python3.7/dist-packages/tensorflow_core/python/ops/resource_variable_ops.py:1630: calling BaseResourceVariable.__init__ (from tensorflow.python.ops.resource_variable_ops) with constraint is deprecated and will be removed in a future version.\n",
            "Instructions for updating:\n",
            "If using Keras pass *_constraint arguments to layers.\n"
          ]
        }
      ]
    },
    {
      "cell_type": "code",
      "metadata": {
        "id": "DkpAkRI056K7",
        "colab": {
          "base_uri": "https://localhost:8080/"
        },
        "outputId": "009e5cb3-478c-430c-8789-91239eb1ab36"
      },
      "source": [
        "           \n",
        "model.compile(optimizer=opt, loss='binary_crossentropy', metrics=['accuracy',precision_m,recall_m,f1_m])"
      ],
      "execution_count": 40,
      "outputs": [
        {
          "output_type": "stream",
          "name": "stdout",
          "text": [
            "WARNING:tensorflow:From /usr/local/lib/python3.7/dist-packages/keras/optimizers.py:790: The name tf.train.Optimizer is deprecated. Please use tf.compat.v1.train.Optimizer instead.\n",
            "\n",
            "WARNING:tensorflow:From /usr/local/lib/python3.7/dist-packages/keras/backend/tensorflow_backend.py:3376: The name tf.log is deprecated. Please use tf.math.log instead.\n",
            "\n",
            "WARNING:tensorflow:From /usr/local/lib/python3.7/dist-packages/tensorflow_core/python/ops/nn_impl.py:183: where (from tensorflow.python.ops.array_ops) is deprecated and will be removed in a future version.\n",
            "Instructions for updating:\n",
            "Use tf.where in 2.0, which has the same broadcast rule as np.where\n"
          ]
        }
      ]
    },
    {
      "cell_type": "code",
      "metadata": {
        "id": "9anher7jpaFM",
        "colab": {
          "base_uri": "https://localhost:8080/"
        },
        "outputId": "6315c813-de82-49d1-ea9e-5ca2b38db857"
      },
      "source": [
        "history =model.fit_generator(batch_generator(df_train, 128,len(df_train)//128),\\\n",
        "                    steps_per_epoch=len(df_train)//128,epochs=50,\\\n",
        "                    verbose=1,validation_data=batch_generator(df_val, 64,len(df_val)//64),validation_steps=len(df_val)//64)"
      ],
      "execution_count": 41,
      "outputs": [
        {
          "output_type": "stream",
          "name": "stdout",
          "text": [
            "WARNING:tensorflow:From /usr/local/lib/python3.7/dist-packages/keras/backend/tensorflow_backend.py:986: The name tf.assign_add is deprecated. Please use tf.compat.v1.assign_add instead.\n",
            "\n",
            "WARNING:tensorflow:From /usr/local/lib/python3.7/dist-packages/keras/backend/tensorflow_backend.py:973: The name tf.assign is deprecated. Please use tf.compat.v1.assign instead.\n",
            "\n",
            "Epoch 1/50\n",
            "36/36 [==============================] - 78s 2s/step - loss: 0.6958 - acc: 0.8305 - precision_m: 0.8922 - recall_m: 0.8866 - f1_m: 0.8751 - val_loss: 0.5858 - val_acc: 0.7153 - val_precision_m: 0.9891 - val_recall_m: 0.6170 - val_f1_m: 0.7578\n",
            "Epoch 2/50\n",
            "36/36 [==============================] - 68s 2s/step - loss: 0.2244 - acc: 0.9110 - precision_m: 0.9375 - recall_m: 0.9415 - f1_m: 0.9390 - val_loss: 0.3438 - val_acc: 0.8576 - val_precision_m: 0.9636 - val_recall_m: 0.8371 - val_f1_m: 0.8950\n",
            "Epoch 3/50\n",
            "36/36 [==============================] - 67s 2s/step - loss: 0.1818 - acc: 0.9345 - precision_m: 0.9537 - recall_m: 0.9572 - f1_m: 0.9550 - val_loss: 0.2866 - val_acc: 0.8837 - val_precision_m: 0.8811 - val_recall_m: 0.9679 - val_f1_m: 0.9218\n",
            "Epoch 4/50\n",
            "36/36 [==============================] - 67s 2s/step - loss: 0.1618 - acc: 0.9355 - precision_m: 0.9543 - recall_m: 0.9585 - f1_m: 0.9559 - val_loss: 0.2441 - val_acc: 0.8854 - val_precision_m: 0.9067 - val_recall_m: 0.9398 - val_f1_m: 0.9220\n",
            "Epoch 5/50\n",
            "36/36 [==============================] - 66s 2s/step - loss: 0.1372 - acc: 0.9503 - precision_m: 0.9636 - recall_m: 0.9688 - f1_m: 0.9659 - val_loss: 0.5288 - val_acc: 0.8229 - val_precision_m: 0.8034 - val_recall_m: 0.9925 - val_f1_m: 0.8868\n",
            "Epoch 6/50\n",
            "36/36 [==============================] - 67s 2s/step - loss: 0.1212 - acc: 0.9503 - precision_m: 0.9632 - recall_m: 0.9692 - f1_m: 0.9659 - val_loss: 0.5449 - val_acc: 0.8351 - val_precision_m: 0.8137 - val_recall_m: 0.9954 - val_f1_m: 0.8942\n",
            "Epoch 7/50\n",
            "36/36 [==============================] - 66s 2s/step - loss: 0.1134 - acc: 0.9583 - precision_m: 0.9664 - recall_m: 0.9772 - f1_m: 0.9714 - val_loss: 0.3494 - val_acc: 0.8698 - val_precision_m: 0.8591 - val_recall_m: 0.9763 - val_f1_m: 0.9132\n",
            "Epoch 8/50\n",
            "36/36 [==============================] - 66s 2s/step - loss: 0.1104 - acc: 0.9555 - precision_m: 0.9659 - recall_m: 0.9739 - f1_m: 0.9695 - val_loss: 0.3187 - val_acc: 0.8819 - val_precision_m: 0.9465 - val_recall_m: 0.8887 - val_f1_m: 0.9159\n",
            "Epoch 9/50\n",
            "36/36 [==============================] - 66s 2s/step - loss: 0.0928 - acc: 0.9633 - precision_m: 0.9744 - recall_m: 0.9757 - f1_m: 0.9747 - val_loss: 0.7342 - val_acc: 0.7951 - val_precision_m: 0.9589 - val_recall_m: 0.7485 - val_f1_m: 0.8394\n",
            "Epoch 10/50\n",
            "36/36 [==============================] - 66s 2s/step - loss: 0.0703 - acc: 0.9724 - precision_m: 0.9792 - recall_m: 0.9837 - f1_m: 0.9812 - val_loss: 0.7907 - val_acc: 0.7743 - val_precision_m: 0.9801 - val_recall_m: 0.7020 - val_f1_m: 0.8165\n",
            "Epoch 11/50\n",
            "36/36 [==============================] - 69s 2s/step - loss: 0.0631 - acc: 0.9755 - precision_m: 0.9825 - recall_m: 0.9847 - f1_m: 0.9833 - val_loss: 0.3909 - val_acc: 0.8837 - val_precision_m: 0.9587 - val_recall_m: 0.8806 - val_f1_m: 0.9170\n",
            "Epoch 12/50\n",
            "36/36 [==============================] - 66s 2s/step - loss: 0.0654 - acc: 0.9742 - precision_m: 0.9791 - recall_m: 0.9858 - f1_m: 0.9822 - val_loss: 0.5548 - val_acc: 0.8611 - val_precision_m: 0.9386 - val_recall_m: 0.8661 - val_f1_m: 0.9005\n",
            "Epoch 13/50\n",
            "36/36 [==============================] - 68s 2s/step - loss: 0.0678 - acc: 0.9737 - precision_m: 0.9802 - recall_m: 0.9844 - f1_m: 0.9819 - val_loss: 3.0434 - val_acc: 0.5278 - val_precision_m: 0.9926 - val_recall_m: 0.3502 - val_f1_m: 0.5147\n",
            "Epoch 14/50\n",
            "36/36 [==============================] - 67s 2s/step - loss: 0.0735 - acc: 0.9677 - precision_m: 0.9761 - recall_m: 0.9802 - f1_m: 0.9778 - val_loss: 1.1869 - val_acc: 0.7222 - val_precision_m: 0.9704 - val_recall_m: 0.6353 - val_f1_m: 0.7664\n",
            "Epoch 15/50\n",
            "36/36 [==============================] - 66s 2s/step - loss: 0.0563 - acc: 0.9789 - precision_m: 0.9848 - recall_m: 0.9866 - f1_m: 0.9855 - val_loss: 0.7709 - val_acc: 0.8524 - val_precision_m: 0.8583 - val_recall_m: 0.9493 - val_f1_m: 0.9009\n",
            "Epoch 16/50\n",
            "36/36 [==============================] - 70s 2s/step - loss: 0.0389 - acc: 0.9846 - precision_m: 0.9876 - recall_m: 0.9915 - f1_m: 0.9894 - val_loss: 0.6529 - val_acc: 0.8681 - val_precision_m: 0.9361 - val_recall_m: 0.8776 - val_f1_m: 0.9048\n",
            "Epoch 17/50\n",
            "36/36 [==============================] - 67s 2s/step - loss: 0.0470 - acc: 0.9818 - precision_m: 0.9885 - recall_m: 0.9865 - f1_m: 0.9874 - val_loss: 0.6133 - val_acc: 0.8368 - val_precision_m: 0.9508 - val_recall_m: 0.8175 - val_f1_m: 0.8782\n",
            "Epoch 18/50\n",
            "36/36 [==============================] - 66s 2s/step - loss: 0.0372 - acc: 0.9883 - precision_m: 0.9908 - recall_m: 0.9931 - f1_m: 0.9919 - val_loss: 0.8033 - val_acc: 0.8229 - val_precision_m: 0.9713 - val_recall_m: 0.7833 - val_f1_m: 0.8654\n",
            "Epoch 19/50\n",
            "36/36 [==============================] - 66s 2s/step - loss: 0.0430 - acc: 0.9833 - precision_m: 0.9878 - recall_m: 0.9898 - f1_m: 0.9887 - val_loss: 0.6058 - val_acc: 0.8646 - val_precision_m: 0.9448 - val_recall_m: 0.8652 - val_f1_m: 0.9021\n",
            "Epoch 20/50\n",
            "36/36 [==============================] - 66s 2s/step - loss: 0.0422 - acc: 0.9826 - precision_m: 0.9873 - recall_m: 0.9890 - f1_m: 0.9880 - val_loss: 1.7669 - val_acc: 0.6580 - val_precision_m: 0.9913 - val_recall_m: 0.5352 - val_f1_m: 0.6930\n",
            "Epoch 21/50\n",
            "36/36 [==============================] - 67s 2s/step - loss: 0.0348 - acc: 0.9868 - precision_m: 0.9907 - recall_m: 0.9912 - f1_m: 0.9909 - val_loss: 1.4668 - val_acc: 0.7326 - val_precision_m: 0.9823 - val_recall_m: 0.6399 - val_f1_m: 0.7720\n",
            "Epoch 22/50\n",
            "36/36 [==============================] - 67s 2s/step - loss: 0.0269 - acc: 0.9918 - precision_m: 0.9930 - recall_m: 0.9958 - f1_m: 0.9944 - val_loss: 1.3692 - val_acc: 0.7431 - val_precision_m: 0.9721 - val_recall_m: 0.6679 - val_f1_m: 0.7894\n",
            "Epoch 23/50\n",
            "36/36 [==============================] - 67s 2s/step - loss: 0.0168 - acc: 0.9941 - precision_m: 0.9949 - recall_m: 0.9970 - f1_m: 0.9959 - val_loss: 0.9550 - val_acc: 0.8299 - val_precision_m: 0.9702 - val_recall_m: 0.7910 - val_f1_m: 0.8700\n",
            "Epoch 24/50\n",
            "36/36 [==============================] - 66s 2s/step - loss: 0.0208 - acc: 0.9922 - precision_m: 0.9958 - recall_m: 0.9935 - f1_m: 0.9946 - val_loss: 0.7600 - val_acc: 0.8594 - val_precision_m: 0.9649 - val_recall_m: 0.8394 - val_f1_m: 0.8966\n",
            "Epoch 25/50\n",
            "36/36 [==============================] - 66s 2s/step - loss: 0.0166 - acc: 0.9941 - precision_m: 0.9952 - recall_m: 0.9967 - f1_m: 0.9960 - val_loss: 0.7287 - val_acc: 0.8715 - val_precision_m: 0.9730 - val_recall_m: 0.8489 - val_f1_m: 0.9055\n",
            "Epoch 26/50\n",
            "36/36 [==============================] - 66s 2s/step - loss: 0.0223 - acc: 0.9926 - precision_m: 0.9941 - recall_m: 0.9960 - f1_m: 0.9950 - val_loss: 0.9214 - val_acc: 0.8073 - val_precision_m: 0.9643 - val_recall_m: 0.7614 - val_f1_m: 0.8492\n",
            "Epoch 27/50\n",
            "36/36 [==============================] - 66s 2s/step - loss: 0.0210 - acc: 0.9922 - precision_m: 0.9938 - recall_m: 0.9956 - f1_m: 0.9947 - val_loss: 0.6938 - val_acc: 0.8628 - val_precision_m: 0.9580 - val_recall_m: 0.8475 - val_f1_m: 0.8983\n",
            "Epoch 28/50\n",
            "36/36 [==============================] - 66s 2s/step - loss: 0.0169 - acc: 0.9933 - precision_m: 0.9950 - recall_m: 0.9959 - f1_m: 0.9954 - val_loss: 0.6018 - val_acc: 0.8837 - val_precision_m: 0.9679 - val_recall_m: 0.8684 - val_f1_m: 0.9149\n",
            "Epoch 29/50\n",
            "36/36 [==============================] - 67s 2s/step - loss: 0.0363 - acc: 0.9874 - precision_m: 0.9905 - recall_m: 0.9924 - f1_m: 0.9914 - val_loss: 0.6096 - val_acc: 0.8785 - val_precision_m: 0.9493 - val_recall_m: 0.8815 - val_f1_m: 0.9132\n",
            "Epoch 30/50\n",
            "36/36 [==============================] - 66s 2s/step - loss: 0.0295 - acc: 0.9887 - precision_m: 0.9908 - recall_m: 0.9938 - f1_m: 0.9922 - val_loss: 0.7688 - val_acc: 0.8507 - val_precision_m: 0.9731 - val_recall_m: 0.8184 - val_f1_m: 0.8877\n",
            "Epoch 31/50\n",
            "36/36 [==============================] - 66s 2s/step - loss: 0.0308 - acc: 0.9889 - precision_m: 0.9922 - recall_m: 0.9925 - f1_m: 0.9923 - val_loss: 0.6053 - val_acc: 0.8663 - val_precision_m: 0.9639 - val_recall_m: 0.8475 - val_f1_m: 0.9014\n",
            "Epoch 32/50\n",
            "36/36 [==============================] - 68s 2s/step - loss: 0.0330 - acc: 0.9894 - precision_m: 0.9923 - recall_m: 0.9933 - f1_m: 0.9927 - val_loss: 0.6787 - val_acc: 0.8611 - val_precision_m: 0.9587 - val_recall_m: 0.8475 - val_f1_m: 0.8985\n",
            "Epoch 33/50\n",
            "36/36 [==============================] - 65s 2s/step - loss: 0.0271 - acc: 0.9905 - precision_m: 0.9940 - recall_m: 0.9931 - f1_m: 0.9935 - val_loss: 0.4906 - val_acc: 0.8941 - val_precision_m: 0.9189 - val_recall_m: 0.9303 - val_f1_m: 0.9243\n",
            "Epoch 34/50\n",
            "36/36 [==============================] - 66s 2s/step - loss: 0.0219 - acc: 0.9907 - precision_m: 0.9934 - recall_m: 0.9941 - f1_m: 0.9936 - val_loss: 0.5161 - val_acc: 0.8976 - val_precision_m: 0.9637 - val_recall_m: 0.8927 - val_f1_m: 0.9262\n",
            "Epoch 35/50\n",
            "36/36 [==============================] - 66s 2s/step - loss: 0.0234 - acc: 0.9915 - precision_m: 0.9946 - recall_m: 0.9936 - f1_m: 0.9940 - val_loss: 0.5421 - val_acc: 0.9080 - val_precision_m: 0.9092 - val_recall_m: 0.9700 - val_f1_m: 0.9378\n",
            "Epoch 36/50\n",
            "36/36 [==============================] - 73s 2s/step - loss: 0.0270 - acc: 0.9881 - precision_m: 0.9915 - recall_m: 0.9922 - f1_m: 0.9918 - val_loss: 0.5752 - val_acc: 0.9010 - val_precision_m: 0.9091 - val_recall_m: 0.9595 - val_f1_m: 0.9331\n",
            "Epoch 37/50\n",
            "36/36 [==============================] - 67s 2s/step - loss: 0.0191 - acc: 0.9915 - precision_m: 0.9935 - recall_m: 0.9950 - f1_m: 0.9942 - val_loss: 0.6872 - val_acc: 0.8663 - val_precision_m: 0.9493 - val_recall_m: 0.8615 - val_f1_m: 0.9024\n",
            "Epoch 38/50\n",
            "36/36 [==============================] - 67s 2s/step - loss: 0.0103 - acc: 0.9957 - precision_m: 0.9965 - recall_m: 0.9976 - f1_m: 0.9970 - val_loss: 0.8929 - val_acc: 0.8542 - val_precision_m: 0.9824 - val_recall_m: 0.8127 - val_f1_m: 0.8887\n",
            "Epoch 39/50\n",
            "36/36 [==============================] - 66s 2s/step - loss: 0.0158 - acc: 0.9941 - precision_m: 0.9958 - recall_m: 0.9960 - f1_m: 0.9959 - val_loss: 0.5150 - val_acc: 0.8993 - val_precision_m: 0.9492 - val_recall_m: 0.9090 - val_f1_m: 0.9282\n",
            "Epoch 40/50\n",
            "36/36 [==============================] - 67s 2s/step - loss: 0.0052 - acc: 0.9980 - precision_m: 0.9982 - recall_m: 0.9991 - f1_m: 0.9987 - val_loss: 0.7818 - val_acc: 0.8646 - val_precision_m: 0.9608 - val_recall_m: 0.8486 - val_f1_m: 0.9005\n",
            "Epoch 41/50\n",
            "36/36 [==============================] - 66s 2s/step - loss: 0.0012 - acc: 0.9998 - precision_m: 0.9997 - recall_m: 1.0000 - f1_m: 0.9998 - val_loss: 0.5623 - val_acc: 0.9028 - val_precision_m: 0.9455 - val_recall_m: 0.9181 - val_f1_m: 0.9311\n",
            "Epoch 42/50\n",
            "36/36 [==============================] - 66s 2s/step - loss: 2.6634e-04 - acc: 1.0000 - precision_m: 1.0000 - recall_m: 1.0000 - f1_m: 1.0000 - val_loss: 0.5813 - val_acc: 0.9115 - val_precision_m: 0.9358 - val_recall_m: 0.9422 - val_f1_m: 0.9384\n",
            "Epoch 43/50\n",
            "36/36 [==============================] - 66s 2s/step - loss: 2.5225e-04 - acc: 1.0000 - precision_m: 1.0000 - recall_m: 1.0000 - f1_m: 1.0000 - val_loss: 0.5976 - val_acc: 0.9115 - val_precision_m: 0.9334 - val_recall_m: 0.9443 - val_f1_m: 0.9384\n",
            "Epoch 44/50\n",
            "36/36 [==============================] - 66s 2s/step - loss: 1.3652e-04 - acc: 1.0000 - precision_m: 1.0000 - recall_m: 1.0000 - f1_m: 1.0000 - val_loss: 0.6067 - val_acc: 0.9132 - val_precision_m: 0.9315 - val_recall_m: 0.9489 - val_f1_m: 0.9397\n",
            "Epoch 45/50\n",
            "36/36 [==============================] - 65s 2s/step - loss: 9.6330e-05 - acc: 1.0000 - precision_m: 1.0000 - recall_m: 1.0000 - f1_m: 1.0000 - val_loss: 0.6161 - val_acc: 0.9132 - val_precision_m: 0.9299 - val_recall_m: 0.9517 - val_f1_m: 0.9402\n",
            "Epoch 46/50\n",
            "36/36 [==============================] - 66s 2s/step - loss: 8.3486e-05 - acc: 1.0000 - precision_m: 1.0000 - recall_m: 1.0000 - f1_m: 1.0000 - val_loss: 0.6193 - val_acc: 0.9115 - val_precision_m: 0.9276 - val_recall_m: 0.9517 - val_f1_m: 0.9390\n",
            "Epoch 47/50\n",
            "36/36 [==============================] - 66s 2s/step - loss: 5.4900e-05 - acc: 1.0000 - precision_m: 1.0000 - recall_m: 1.0000 - f1_m: 1.0000 - val_loss: 0.6262 - val_acc: 0.9115 - val_precision_m: 0.9276 - val_recall_m: 0.9517 - val_f1_m: 0.9390\n",
            "Epoch 48/50\n",
            "36/36 [==============================] - 67s 2s/step - loss: 5.5647e-05 - acc: 1.0000 - precision_m: 1.0000 - recall_m: 1.0000 - f1_m: 1.0000 - val_loss: 0.6268 - val_acc: 0.9115 - val_precision_m: 0.9276 - val_recall_m: 0.9517 - val_f1_m: 0.9390\n",
            "Epoch 49/50\n",
            "36/36 [==============================] - 67s 2s/step - loss: 5.2184e-05 - acc: 1.0000 - precision_m: 1.0000 - recall_m: 1.0000 - f1_m: 1.0000 - val_loss: 0.6308 - val_acc: 0.9115 - val_precision_m: 0.9276 - val_recall_m: 0.9517 - val_f1_m: 0.9390\n",
            "Epoch 50/50\n",
            "36/36 [==============================] - 67s 2s/step - loss: 4.6192e-05 - acc: 1.0000 - precision_m: 1.0000 - recall_m: 1.0000 - f1_m: 1.0000 - val_loss: 0.6340 - val_acc: 0.9115 - val_precision_m: 0.9276 - val_recall_m: 0.9517 - val_f1_m: 0.9390\n"
          ]
        }
      ]
    },
    {
      "cell_type": "markdown",
      "metadata": {
        "id": "jxJ-xRy2mqWA"
      },
      "source": [
        ""
      ]
    },
    {
      "cell_type": "code",
      "metadata": {
        "id": "IqHWpWRWppOC",
        "colab": {
          "base_uri": "https://localhost:8080/"
        },
        "outputId": "8f1ad94b-4cec-442d-f3a3-a45a8dfd8eda"
      },
      "source": [
        "model.summary()"
      ],
      "execution_count": 57,
      "outputs": [
        {
          "output_type": "stream",
          "name": "stdout",
          "text": [
            "__________________________________________________________________________________________________\n",
            "Layer (type)                    Output Shape         Param #     Connected to                     \n",
            "==================================================================================================\n",
            "input_1 (InputLayer)            (None, 50, 50, 4)    0                                            \n",
            "__________________________________________________________________________________________________\n",
            "quaternion_conv2d_1 (Quaternion (None, 50, 50, 64)   128         input_1[0][0]                    \n",
            "__________________________________________________________________________________________________\n",
            "batch_normalization_1 (BatchNor (None, 50, 50, 64)   256         quaternion_conv2d_1[0][0]        \n",
            "__________________________________________________________________________________________________\n",
            "re_lu_1 (ReLU)                  (None, 50, 50, 64)   0           batch_normalization_1[0][0]      \n",
            "__________________________________________________________________________________________________\n",
            "channel_attention_1 (ChannelAtt (None, 50, 50, 64)   0           re_lu_1[0][0]                    \n",
            "__________________________________________________________________________________________________\n",
            "spatial_attention_1 (SpatialAtt (None, 50, 50, 64)   0           channel_attention_1[0][0]        \n",
            "__________________________________________________________________________________________________\n",
            "max_pooling2d_1 (MaxPooling2D)  (None, 25, 25, 64)   0           spatial_attention_1[0][0]        \n",
            "__________________________________________________________________________________________________\n",
            "quaternion_conv2d_2 (Quaternion (None, 25, 25, 64)   1088        max_pooling2d_1[0][0]            \n",
            "__________________________________________________________________________________________________\n",
            "batch_normalization_2 (BatchNor (None, 25, 25, 64)   256         quaternion_conv2d_2[0][0]        \n",
            "__________________________________________________________________________________________________\n",
            "elu_1 (ELU)                     (None, 25, 25, 64)   0           batch_normalization_2[0][0]      \n",
            "__________________________________________________________________________________________________\n",
            "quaternion_conv2d_3 (Quaternion (None, 25, 25, 64)   1088        elu_1[0][0]                      \n",
            "__________________________________________________________________________________________________\n",
            "batch_normalization_3 (BatchNor (None, 25, 25, 64)   256         quaternion_conv2d_3[0][0]        \n",
            "__________________________________________________________________________________________________\n",
            "elu_2 (ELU)                     (None, 25, 25, 64)   0           batch_normalization_3[0][0]      \n",
            "__________________________________________________________________________________________________\n",
            "quaternion_conv2d_4 (Quaternion (None, 25, 25, 128)  2176        elu_2[0][0]                      \n",
            "__________________________________________________________________________________________________\n",
            "quaternion_conv2d_5 (Quaternion (None, 25, 25, 128)  2176        max_pooling2d_1[0][0]            \n",
            "__________________________________________________________________________________________________\n",
            "batch_normalization_4 (BatchNor (None, 25, 25, 128)  512         quaternion_conv2d_4[0][0]        \n",
            "__________________________________________________________________________________________________\n",
            "batch_normalization_5 (BatchNor (None, 25, 25, 128)  512         quaternion_conv2d_5[0][0]        \n",
            "__________________________________________________________________________________________________\n",
            "elu_3 (ELU)                     (None, 25, 25, 128)  0           batch_normalization_4[0][0]      \n",
            "__________________________________________________________________________________________________\n",
            "add_1 (Add)                     (None, 25, 25, 128)  0           batch_normalization_5[0][0]      \n",
            "                                                                 elu_3[0][0]                      \n",
            "__________________________________________________________________________________________________\n",
            "re_lu_2 (ReLU)                  (None, 25, 25, 128)  0           add_1[0][0]                      \n",
            "__________________________________________________________________________________________________\n",
            "max_pooling2d_2 (MaxPooling2D)  (None, 12, 12, 128)  0           re_lu_2[0][0]                    \n",
            "__________________________________________________________________________________________________\n",
            "channel_attention_2 (ChannelAtt (None, 12, 12, 128)  0           max_pooling2d_2[0][0]            \n",
            "__________________________________________________________________________________________________\n",
            "spatial_attention_2 (SpatialAtt (None, 12, 12, 128)  0           channel_attention_2[0][0]        \n",
            "__________________________________________________________________________________________________\n",
            "quaternion_conv2d_6 (Quaternion (None, 12, 12, 128)  4224        spatial_attention_2[0][0]        \n",
            "__________________________________________________________________________________________________\n",
            "batch_normalization_6 (BatchNor (None, 12, 12, 128)  512         quaternion_conv2d_6[0][0]        \n",
            "__________________________________________________________________________________________________\n",
            "elu_4 (ELU)                     (None, 12, 12, 128)  0           batch_normalization_6[0][0]      \n",
            "__________________________________________________________________________________________________\n",
            "quaternion_conv2d_7 (Quaternion (None, 12, 12, 128)  4224        elu_4[0][0]                      \n",
            "__________________________________________________________________________________________________\n",
            "batch_normalization_7 (BatchNor (None, 12, 12, 128)  512         quaternion_conv2d_7[0][0]        \n",
            "__________________________________________________________________________________________________\n",
            "elu_5 (ELU)                     (None, 12, 12, 128)  0           batch_normalization_7[0][0]      \n",
            "__________________________________________________________________________________________________\n",
            "quaternion_conv2d_8 (Quaternion (None, 12, 12, 256)  8448        elu_5[0][0]                      \n",
            "__________________________________________________________________________________________________\n",
            "quaternion_conv2d_9 (Quaternion (None, 12, 12, 256)  8448        spatial_attention_2[0][0]        \n",
            "__________________________________________________________________________________________________\n",
            "batch_normalization_8 (BatchNor (None, 12, 12, 256)  1024        quaternion_conv2d_8[0][0]        \n",
            "__________________________________________________________________________________________________\n",
            "batch_normalization_9 (BatchNor (None, 12, 12, 256)  1024        quaternion_conv2d_9[0][0]        \n",
            "__________________________________________________________________________________________________\n",
            "elu_6 (ELU)                     (None, 12, 12, 256)  0           batch_normalization_8[0][0]      \n",
            "__________________________________________________________________________________________________\n",
            "add_2 (Add)                     (None, 12, 12, 256)  0           batch_normalization_9[0][0]      \n",
            "                                                                 elu_6[0][0]                      \n",
            "__________________________________________________________________________________________________\n",
            "re_lu_3 (ReLU)                  (None, 12, 12, 256)  0           add_2[0][0]                      \n",
            "__________________________________________________________________________________________________\n",
            "max_pooling2d_3 (MaxPooling2D)  (None, 6, 6, 256)    0           re_lu_3[0][0]                    \n",
            "__________________________________________________________________________________________________\n",
            "channel_attention_3 (ChannelAtt (None, 6, 6, 256)    0           max_pooling2d_3[0][0]            \n",
            "__________________________________________________________________________________________________\n",
            "spatial_attention_3 (SpatialAtt (None, 6, 6, 256)    0           channel_attention_3[0][0]        \n",
            "__________________________________________________________________________________________________\n",
            "quaternion_conv2d_10 (Quaternio (None, 6, 6, 256)    16640       spatial_attention_3[0][0]        \n",
            "__________________________________________________________________________________________________\n",
            "batch_normalization_10 (BatchNo (None, 6, 6, 256)    1024        quaternion_conv2d_10[0][0]       \n",
            "__________________________________________________________________________________________________\n",
            "elu_7 (ELU)                     (None, 6, 6, 256)    0           batch_normalization_10[0][0]     \n",
            "__________________________________________________________________________________________________\n",
            "quaternion_conv2d_11 (Quaternio (None, 6, 6, 256)    16640       elu_7[0][0]                      \n",
            "__________________________________________________________________________________________________\n",
            "batch_normalization_11 (BatchNo (None, 6, 6, 256)    1024        quaternion_conv2d_11[0][0]       \n",
            "__________________________________________________________________________________________________\n",
            "elu_8 (ELU)                     (None, 6, 6, 256)    0           batch_normalization_11[0][0]     \n",
            "__________________________________________________________________________________________________\n",
            "quaternion_conv2d_12 (Quaternio (None, 6, 6, 384)    24960       elu_8[0][0]                      \n",
            "__________________________________________________________________________________________________\n",
            "quaternion_conv2d_13 (Quaternio (None, 6, 6, 384)    24960       spatial_attention_3[0][0]        \n",
            "__________________________________________________________________________________________________\n",
            "batch_normalization_12 (BatchNo (None, 6, 6, 384)    1536        quaternion_conv2d_12[0][0]       \n",
            "__________________________________________________________________________________________________\n",
            "batch_normalization_13 (BatchNo (None, 6, 6, 384)    1536        quaternion_conv2d_13[0][0]       \n",
            "__________________________________________________________________________________________________\n",
            "elu_9 (ELU)                     (None, 6, 6, 384)    0           batch_normalization_12[0][0]     \n",
            "__________________________________________________________________________________________________\n",
            "add_3 (Add)                     (None, 6, 6, 384)    0           batch_normalization_13[0][0]     \n",
            "                                                                 elu_9[0][0]                      \n",
            "__________________________________________________________________________________________________\n",
            "re_lu_4 (ReLU)                  (None, 6, 6, 384)    0           add_3[0][0]                      \n",
            "__________________________________________________________________________________________________\n",
            "max_pooling2d_4 (MaxPooling2D)  (None, 3, 3, 384)    0           re_lu_4[0][0]                    \n",
            "__________________________________________________________________________________________________\n",
            "channel_attention_4 (ChannelAtt (None, 3, 3, 384)    0           max_pooling2d_4[0][0]            \n",
            "__________________________________________________________________________________________________\n",
            "spatial_attention_4 (SpatialAtt (None, 3, 3, 384)    0           channel_attention_4[0][0]        \n",
            "__________________________________________________________________________________________________\n",
            "quaternion_conv2d_14 (Quaternio (None, 3, 3, 384)    37248       spatial_attention_4[0][0]        \n",
            "__________________________________________________________________________________________________\n",
            "batch_normalization_14 (BatchNo (None, 3, 3, 384)    1536        quaternion_conv2d_14[0][0]       \n",
            "__________________________________________________________________________________________________\n",
            "elu_10 (ELU)                    (None, 3, 3, 384)    0           batch_normalization_14[0][0]     \n",
            "__________________________________________________________________________________________________\n",
            "quaternion_conv2d_15 (Quaternio (None, 3, 3, 384)    37248       elu_10[0][0]                     \n",
            "__________________________________________________________________________________________________\n",
            "batch_normalization_15 (BatchNo (None, 3, 3, 384)    1536        quaternion_conv2d_15[0][0]       \n",
            "__________________________________________________________________________________________________\n",
            "elu_11 (ELU)                    (None, 3, 3, 384)    0           batch_normalization_15[0][0]     \n",
            "__________________________________________________________________________________________________\n",
            "quaternion_conv2d_16 (Quaternio (None, 3, 3, 512)    49664       elu_11[0][0]                     \n",
            "__________________________________________________________________________________________________\n",
            "quaternion_conv2d_17 (Quaternio (None, 3, 3, 512)    49664       spatial_attention_4[0][0]        \n",
            "__________________________________________________________________________________________________\n",
            "batch_normalization_16 (BatchNo (None, 3, 3, 512)    2048        quaternion_conv2d_16[0][0]       \n",
            "__________________________________________________________________________________________________\n",
            "batch_normalization_17 (BatchNo (None, 3, 3, 512)    2048        quaternion_conv2d_17[0][0]       \n",
            "__________________________________________________________________________________________________\n",
            "elu_12 (ELU)                    (None, 3, 3, 512)    0           batch_normalization_16[0][0]     \n",
            "__________________________________________________________________________________________________\n",
            "add_4 (Add)                     (None, 3, 3, 512)    0           batch_normalization_17[0][0]     \n",
            "                                                                 elu_12[0][0]                     \n",
            "__________________________________________________________________________________________________\n",
            "re_lu_5 (ReLU)                  (None, 3, 3, 512)    0           add_4[0][0]                      \n",
            "__________________________________________________________________________________________________\n",
            "max_pooling2d_5 (MaxPooling2D)  (None, 1, 1, 512)    0           re_lu_5[0][0]                    \n",
            "__________________________________________________________________________________________________\n",
            "channel_attention_5 (ChannelAtt (None, 1, 1, 512)    0           max_pooling2d_5[0][0]            \n",
            "__________________________________________________________________________________________________\n",
            "spatial_attention_5 (SpatialAtt (None, 1, 1, 512)    0           channel_attention_5[0][0]        \n",
            "__________________________________________________________________________________________________\n",
            "global_average_pooling2d_1 (Glo (None, 512)          0           spatial_attention_5[0][0]        \n",
            "__________________________________________________________________________________________________\n",
            "dense_1 (Dense)                 (None, 512)          262656      global_average_pooling2d_1[0][0] \n",
            "__________________________________________________________________________________________________\n",
            "dropout_1 (Dropout)             (None, 512)          0           dense_1[0][0]                    \n",
            "__________________________________________________________________________________________________\n",
            "dense_2 (Dense)                 (None, 1)            513         dropout_1[0][0]                  \n",
            "==================================================================================================\n",
            "Total params: 569,345\n",
            "Trainable params: 560,769\n",
            "Non-trainable params: 8,576\n",
            "__________________________________________________________________________________________________\n"
          ]
        }
      ]
    },
    {
      "cell_type": "code",
      "source": [
        "len(model.layers)"
      ],
      "metadata": {
        "colab": {
          "base_uri": "https://localhost:8080/"
        },
        "id": "MawHKOdYo079",
        "outputId": "38db3bab-304d-493a-dd03-0367ef12a472"
      },
      "execution_count": 101,
      "outputs": [
        {
          "output_type": "execute_result",
          "data": {
            "text/plain": [
              "75"
            ]
          },
          "metadata": {},
          "execution_count": 101
        }
      ]
    },
    {
      "cell_type": "code",
      "metadata": {
        "id": "JLEW_7vM0iPQ",
        "colab": {
          "base_uri": "https://localhost:8080/"
        },
        "outputId": "f0f862ab-d70e-482f-e575-b7ca4fba863e"
      },
      "source": [
        "print(history.history.keys())"
      ],
      "execution_count": 58,
      "outputs": [
        {
          "output_type": "stream",
          "name": "stdout",
          "text": [
            "dict_keys(['val_loss', 'val_acc', 'val_precision_m', 'val_recall_m', 'val_f1_m', 'loss', 'acc', 'precision_m', 'recall_m', 'f1_m'])\n"
          ]
        }
      ]
    },
    {
      "cell_type": "code",
      "metadata": {
        "id": "hPFYD1H7psfz",
        "colab": {
          "base_uri": "https://localhost:8080/",
          "height": 651
        },
        "outputId": "a652cf86-ac86-4748-dcc0-adefb020e27a"
      },
      "source": [
        "# tensorboard logs \n",
        "print(history.history.keys())\n",
        "#  \"Accuracy\"\n",
        "plt.plot(history.history['acc'])\n",
        "plt.plot(history.history['val_acc'])\n",
        "plt.title('model accuracy')\n",
        "plt.ylabel('accuracy')\n",
        "plt.xlabel('epoch')\n",
        "plt.legend(['train', 'validation'], loc='upper left')\n",
        "plt.savefig('acc')\n",
        "plt.show()\n",
        "\n",
        "# \"Loss\"\n",
        "plt.plot(history.history['loss'])\n",
        "plt.plot(history.history['val_loss'])\n",
        "plt.title('model loss')\n",
        "plt.ylabel('loss')\n",
        "plt.xlabel('epoch')\n",
        "plt.legend(['train', 'validation'], loc='upper left')\n",
        "\n",
        "plt.savefig('loss')\n",
        "plt.show()"
      ],
      "execution_count": 106,
      "outputs": [
        {
          "output_type": "stream",
          "name": "stdout",
          "text": [
            "dict_keys(['val_loss', 'val_acc', 'val_precision_m', 'val_recall_m', 'val_f1_m', 'loss', 'acc', 'precision_m', 'recall_m', 'f1_m'])\n"
          ]
        },
        {
          "output_type": "display_data",
          "data": {
            "image/png": "[encoded data removed]",
            "text/plain": [
              "<Figure size 432x288 with 1 Axes>"
            ]
          },
          "metadata": {}
        },
        {
          "output_type": "display_data",
          "data": {
            "image/png": "[encoded data removed]",
            "text/plain": [
              "<Figure size 432x288 with 1 Axes>"
            ]
          },
          "metadata": {}
        }
      ]
    },
    {
      "cell_type": "code",
      "source": [
        "# tensorboard logs \n",
        "print(history.history.keys())\n",
        "#  \"Accuracy\"\n",
        "plt.plot(history.history['precision_m'])\n",
        "plt.plot(history.history['val_precision_m'])\n",
        "plt.title('model precision')\n",
        "plt.ylabel('precsion')\n",
        "plt.xlabel('epoch')\n",
        "plt.legend(['train', 'validation'], loc='upper left')\n",
        "plt.savefig('precsion')\n",
        "plt.show()"
      ],
      "metadata": {
        "colab": {
          "base_uri": "https://localhost:8080/",
          "height": 354
        },
        "id": "qq-nFCYusSV_",
        "outputId": "397a780e-ba5e-4c5c-d997-169375f222e9"
      },
      "execution_count": 112,
      "outputs": [
        {
          "output_type": "stream",
          "name": "stdout",
          "text": [
            "dict_keys(['val_loss', 'val_acc', 'val_precision_m', 'val_recall_m', 'val_f1_m', 'loss', 'acc', 'precision_m', 'recall_m', 'f1_m'])\n"
          ]
        },
        {
          "output_type": "display_data",
          "data": {
            "image/png": "[encoded data removed]",
            "text/plain": [
              "<Figure size 432x288 with 1 Axes>"
            ]
          },
          "metadata": {}
        }
      ]
    },
    {
      "cell_type": "code",
      "source": [
        "# tensorboard logs \n",
        "print(history.history.keys())\n",
        "#  \"Accuracy\"\n",
        "plt.plot(history.history['recall_m'])\n",
        "plt.plot(history.history['val_recall_m'])\n",
        "plt.title('model recall')\n",
        "plt.ylabel('recalln')\n",
        "plt.xlabel('epoch')\n",
        "plt.legend(['train', 'validation'], loc='upper left')\n",
        "plt.savefig('recall')\n",
        "plt.show()"
      ],
      "metadata": {
        "colab": {
          "base_uri": "https://localhost:8080/",
          "height": 354
        },
        "id": "jN8_PV9Is44X",
        "outputId": "781da6b4-13f6-48e7-9794-1f03618e0e2b"
      },
      "execution_count": 113,
      "outputs": [
        {
          "output_type": "stream",
          "name": "stdout",
          "text": [
            "dict_keys(['val_loss', 'val_acc', 'val_precision_m', 'val_recall_m', 'val_f1_m', 'loss', 'acc', 'precision_m', 'recall_m', 'f1_m'])\n"
          ]
        },
        {
          "output_type": "display_data",
          "data": {
            "image/png": "[encoded data removed]",
            "text/plain": [
              "<Figure size 432x288 with 1 Axes>"
            ]
          },
          "metadata": {}
        }
      ]
    },
    {
      "cell_type": "code",
      "source": [
        "# tensorboard logs \n",
        "print(history.history.keys())\n",
        "#  \"Accuracy\"\n",
        "plt.plot(history.history['f1_m'])\n",
        "plt.plot(history.history['val_f1_m'])\n",
        "plt.title('model f1')\n",
        "plt.ylabel('f1')\n",
        "plt.xlabel('epoch')\n",
        "plt.legend(['train', 'validation'], loc='upper left')\n",
        "plt.savefig('f1')\n",
        "plt.show()"
      ],
      "metadata": {
        "colab": {
          "base_uri": "https://localhost:8080/",
          "height": 354
        },
        "id": "G0hfjJlxtKB4",
        "outputId": "36c7d662-7b91-42d1-abfe-fbcf7d648ca5"
      },
      "execution_count": 114,
      "outputs": [
        {
          "output_type": "stream",
          "name": "stdout",
          "text": [
            "dict_keys(['val_loss', 'val_acc', 'val_precision_m', 'val_recall_m', 'val_f1_m', 'loss', 'acc', 'precision_m', 'recall_m', 'f1_m'])\n"
          ]
        },
        {
          "output_type": "display_data",
          "data": {
            "image/png": "[encoded data removed]",
            "text/plain": [
              "<Figure size 432x288 with 1 Axes>"
            ]
          },
          "metadata": {}
        }
      ]
    },
    {
      "cell_type": "code",
      "metadata": {
        "id": "mN_joYZ6WxHD",
        "colab": {
          "base_uri": "https://localhost:8080/"
        },
        "outputId": "a2fc936a-bf2e-453b-8715-c943c4af33c8"
      },
      "source": [
        "print('\\nhistory dict:', history.history)"
      ],
      "execution_count": 60,
      "outputs": [
        {
          "output_type": "stream",
          "name": "stdout",
          "text": [
            "\n",
            "history dict: {'val_loss': [0.585760172870424, 0.3437786400318146, 0.28656725419892204, 0.2440882275501887, 0.5287534793217977, 0.5448814663622115, 0.349440336227417, 0.3187349769804213, 0.7341820134056939, 0.7907089855935838, 0.39087601833873326, 0.5547898511091868, 3.043407917022705, 1.1868688993983798, 0.7709226475821601, 0.6529486808511946, 0.6133460336261325, 0.8033363024393717, 0.6058381961451637, 1.7668763266669378, 1.46682698196835, 1.3692440655496385, 0.9550305207570394, 0.7600478397475349, 0.7286537554528978, 0.9214360581503974, 0.6938129630353715, 0.6017643047703637, 0.6095570988125272, 0.7687914702627394, 0.6052743196487427, 0.6786576840612624, 0.49062108827961814, 0.5160969131522708, 0.5421372718281217, 0.5752110448148515, 0.6871678895420499, 0.8928966058625115, 0.514979769786199, 0.7818014787303077, 0.5622700750827789, 0.5812738753027387, 0.5976260933611128, 0.6067231595516205, 0.6160872115029229, 0.6192651755279965, 0.6261551943090227, 0.6268063452508714, 0.6307531926367018, 0.634007453918457], 'val_acc': [0.7152777777777778, 0.8576388888888888, 0.8836805555555556, 0.8854166666666666, 0.8229166666666666, 0.8350694444444444, 0.8697916666666666, 0.8819444444444444, 0.7951388888888888, 0.7743055555555556, 0.8836805555555556, 0.8611111111111112, 0.5277777777777778, 0.7222222222222222, 0.8524305555555556, 0.8680555555555556, 0.8368055555555556, 0.8229166666666666, 0.8645833333333334, 0.6579861111111112, 0.7326388888888888, 0.7430555555555556, 0.8298611111111112, 0.859375, 0.8715277777777778, 0.8072916666666666, 0.8628472222222222, 0.8836805555555556, 0.8784722222222222, 0.8506944444444444, 0.8663194444444444, 0.8611111111111112, 0.8940972222222222, 0.8975694444444444, 0.9079861111111112, 0.9010416666666666, 0.8663194444444444, 0.8541666666666666, 0.8993055555555556, 0.8645833333333334, 0.9027777777777778, 0.9114583333333334, 0.9114583333333334, 0.9131944444444444, 0.9131944444444444, 0.9114583333333334, 0.9114583333333334, 0.9114583333333334, 0.9114583333333334, 0.9114583333333334], 'val_precision_m': [0.9890873034795126, 0.9636404183175828, 0.8811004294289483, 0.9066630668110318, 0.8033631775114272, 0.8136591249042087, 0.8591396808624268, 0.9464521408081055, 0.958935923046536, 0.9800707432958815, 0.9587301876809862, 0.9386308855480618, 0.9925925930341085, 0.970427135626475, 0.8582993745803833, 0.9361364642779032, 0.9508009288046095, 0.9713020920753479, 0.9447821180025736, 0.991282045841217, 0.9822796914312575, 0.9721224705378214, 0.970244824886322, 0.9649497204356723, 0.9730474419063992, 0.9643125865194533, 0.9580205347802904, 0.967939191394382, 0.9492826130655077, 0.973142060968611, 0.9639085266325209, 0.9587356117036607, 0.9188854561911689, 0.963666922516293, 0.9092146423127916, 0.909052828947703, 0.9493108524216546, 0.9823750125037299, 0.9491577545801798, 0.9608446955680847, 0.9455358584721884, 0.9357970092031691, 0.9333882530530294, 0.9315201772583855, 0.9298949506547716, 0.9275941650072733, 0.9275941650072733, 0.9275941650072733, 0.9275941650072733, 0.9275941650072733], 'val_recall_m': [0.6169999175601535, 0.8371429178449843, 0.9679011570082771, 0.9397725727823045, 0.992546816666921, 0.99539581934611, 0.9762948950131735, 0.8887410759925842, 0.7484558290905423, 0.701958093378279, 0.8806028432316251, 0.8661368621720208, 0.3501945204204983, 0.6353068616655138, 0.9492704206042819, 0.8776336974567838, 0.8175098167525398, 0.7832652197943794, 0.8651574585172865, 0.5351811548074087, 0.6398795048395792, 0.6678730845451355, 0.7910012933943007, 0.8393542038069831, 0.8488759795824686, 0.7613988055123223, 0.8475099802017212, 0.868431932396359, 0.8814667661984762, 0.8183607194158766, 0.847536928123898, 0.8474513093630472, 0.9302743739551969, 0.8927199575636122, 0.9699681202570597, 0.9595102998945448, 0.8615370326571994, 0.8126916885375977, 0.9090395702256097, 0.8486219644546509, 0.9181344045533074, 0.9421819912062751, 0.9442637165387472, 0.9488678905698988, 0.9517168932490878, 0.9517168932490878, 0.9517168932490878, 0.9517168932490878, 0.9517168932490878, 0.9517168932490878], 'val_f1_m': [0.757778114742703, 0.8949735164642334, 0.9218255678812662, 0.9220145874553256, 0.8868054615126716, 0.8942007554901971, 0.9131954511006674, 0.9159430530336168, 0.8393687142266167, 0.816523273785909, 0.9170123206244575, 0.9004968139860365, 0.5147358245319791, 0.7663613425360786, 0.9009297887484232, 0.9048192633522881, 0.878210206826528, 0.8653928769959344, 0.9021180272102356, 0.6929528249634637, 0.7719768219523959, 0.7893997497028775, 0.8699765337838067, 0.8966172602441576, 0.9054752853181627, 0.8491997255219353, 0.8982566396395365, 0.9148701495594449, 0.9132330218950907, 0.8876863982942369, 0.9013667040401034, 0.8985479474067688, 0.9243015713161893, 0.9261556797557406, 0.9377735389603509, 0.9330905874570211, 0.9024345543649461, 0.8887437184651693, 0.9282131459977891, 0.9005176226298014, 0.9310806857215034, 0.9383907847934299, 0.9384144279691908, 0.9396688805686103, 0.9401691357294718, 0.9389790693918864, 0.9389790693918864, 0.9389790693918864, 0.9389790693918864, 0.9389790693918864], 'loss': [0.6957668678628074, 0.22437839748130906, 0.18182703231771788, 0.1618102757881085, 0.13717168497128618, 0.12120243089480533, 0.11336991470307112, 0.11042623972106311, 0.0927684126007888, 0.07033493545734221, 0.06312664380917947, 0.06536204968061712, 0.06778655064085291, 0.07346130498788422, 0.056330196637039386, 0.038885017792280346, 0.046959358241616025, 0.03722505636202792, 0.04300726572465566, 0.04215306976240956, 0.03480869067910438, 0.026910804018067818, 0.01683274982820472, 0.0208007952120776, 0.016633690900764324, 0.022337765866217926, 0.020989525112478685, 0.016889860064515635, 0.03630181545546899, 0.029539440978421934, 0.03084384128063296, 0.032974397343221225, 0.027059660574498896, 0.021883076422252797, 0.02340323184358163, 0.026990173602825962, 0.019056774087301973, 0.010315492883415168, 0.015822171049270157, 0.00519375371772589, 0.0012156833555410332, 0.0002663358105665894, 0.00025224818788653164, 0.0001365159001680796, 9.632950080787041e-05, 8.348626518757858e-05, 5.489958471116552e-05, 5.56470538413123e-05, 5.218394000571102e-05, 4.6192385045489776e-05], 'acc': [0.8305121527777778, 0.9110243055555556, 0.9344618055555556, 0.935546875, 0.9503038194444444, 0.9503038194444444, 0.9583333333333334, 0.9555121527777778, 0.9633246527777778, 0.9724392361111112, 0.9754774305555556, 0.9741753472222222, 0.9737413194444444, 0.9676649305555556, 0.9789496527777778, 0.9845920138888888, 0.9817708333333334, 0.98828125, 0.9832899305555556, 0.9826388888888888, 0.9867621527777778, 0.9917534722222222, 0.994140625, 0.9921875, 0.994140625, 0.9926215277777778, 0.9921875, 0.9932725694444444, 0.9874131944444444, 0.9887152777777778, 0.9889322916666666, 0.9893663194444444, 0.9904513888888888, 0.9906684027777778, 0.9915364583333334, 0.9880642361111112, 0.9915364583333334, 0.9956597222222222, 0.994140625, 0.998046875, 0.9997829861111112, 1.0, 1.0, 1.0, 1.0, 1.0, 1.0, 1.0, 1.0, 1.0], 'precision_m': [0.8922055049075021, 0.9374534471167458, 0.9537138558096356, 0.9543091207742691, 0.963611427280638, 0.9631768398814731, 0.9663808196783066, 0.9659137361579471, 0.974365148279402, 0.9791829834381739, 0.9824892861975564, 0.9790725045733981, 0.9801590657896466, 0.9761384907695982, 0.9848170197672315, 0.9875869585408105, 0.9884900897741318, 0.9908137387699552, 0.9878186798757977, 0.9873361753092872, 0.9907041605975893, 0.9930140177408854, 0.9948930243651072, 0.9958000861936145, 0.9952413472864363, 0.9940523836347792, 0.9938376413451301, 0.9950189954704709, 0.9904992828766505, 0.9907556590106752, 0.992248954044448, 0.9922845032480028, 0.9939512328969108, 0.9933799902598063, 0.9946435557471381, 0.9915373573700587, 0.9934524413612154, 0.9964717941151725, 0.9958160354031457, 0.9982480059067408, 0.999680714474784, 1.0, 1.0, 1.0, 1.0, 1.0, 1.0, 1.0, 1.0, 1.0], 'recall_m': [0.8865610158277882, 0.9415484286016889, 0.9571840117375056, 0.958489317033026, 0.9688061955902312, 0.9691721647977829, 0.9772193547752168, 0.9739062918557061, 0.9756600277291404, 0.9836697528759638, 0.9846637464231915, 0.9857551720407274, 0.9843696554501852, 0.9802353117201064, 0.9866065200832155, 0.9915037138594521, 0.98650933139854, 0.9930543171034919, 0.989754930138588, 0.9890060971180598, 0.9912475314405229, 0.9958419866032071, 0.9970483730236689, 0.9935237632857429, 0.9967256287733713, 0.9959597935279211, 0.9955602139234543, 0.9958637538883421, 0.9924065652820799, 0.9937532775931888, 0.9925316671530405, 0.9933127297295464, 0.9931232449081209, 0.9941171473926969, 0.9935852057403989, 0.9921956426567502, 0.995026687781016, 0.9976417736874686, 0.9960421919822693, 0.9991459184222751, 1.0, 1.0, 1.0, 1.0, 1.0, 1.0, 1.0, 1.0, 1.0, 1.0], 'f1_m': [0.8751075458195474, 0.9389696170886358, 0.9549898289971881, 0.9558665206034979, 0.9658795760737525, 0.9658653570546044, 0.9713938799169328, 0.9694810741477542, 0.9747199830081728, 0.9812204440434774, 0.9833291901482476, 0.9821822643280029, 0.9819495810402764, 0.9777677655220032, 0.9855295204453998, 0.9894442326492734, 0.9873730540275574, 0.9918725854820676, 0.9886699269215266, 0.9880088617404302, 0.990892133778996, 0.994369904200236, 0.9959347115622627, 0.9946105264955096, 0.9959536608722475, 0.9949686229228973, 0.9946500923898485, 0.9954016125864453, 0.9913607074154748, 0.9921902103556527, 0.9923153850767348, 0.9927213307884004, 0.9934710777468152, 0.993628086315261, 0.9940434330039554, 0.9917554176516004, 0.9941814243793488, 0.9970300661193, 0.9958895809120603, 0.9986901548173692, 0.9998394333653979, 1.0, 1.0, 1.0, 1.0, 1.0, 1.0, 1.0, 1.0, 1.0]}\n"
          ]
        }
      ]
    },
    {
      "cell_type": "markdown",
      "metadata": {
        "id": "i2soOKFq1ctk"
      },
      "source": [
        "# Evaluation on testing set "
      ]
    },
    {
      "cell_type": "code",
      "metadata": {
        "id": "-npqPviY0Bkr",
        "colab": {
          "base_uri": "https://localhost:8080/"
        },
        "outputId": "580eb029-2c2a-4456-d0bc-d7a9816e4b7e"
      },
      "source": [
        "\n",
        "loss, accuracy, f1_score, precision, recall = model.evaluate_generator(batch_generator(df_test[:256], 256,len(df_test[:256])//256),steps=len(df_test[:256])//256,verbose=1)"
      ],
      "execution_count": 61,
      "outputs": [
        {
          "output_type": "stream",
          "name": "stdout",
          "text": [
            "\r1/1 [==============================] - 4s 4s/step\n"
          ]
        }
      ]
    },
    {
      "cell_type": "code",
      "source": [
        "print(model.evaluate_generator(batch_generator(df_test[:256], 256,len(df_test[:256])//256),steps=len(df_test[:256])//256,verbose=1))"
      ],
      "metadata": {
        "id": "ad0UcLKvDKAQ",
        "colab": {
          "base_uri": "https://localhost:8080/"
        },
        "outputId": "bac42ab5-036b-4f37-92b5-a673268a7fac"
      },
      "execution_count": 62,
      "outputs": [
        {
          "output_type": "stream",
          "name": "stdout",
          "text": [
            "\r1/1 [==============================] - 6s 6s/step\n",
            "[0.34346288442611694, 0.94921875, 0.9679144620895386, 0.9627659320831299, 0.9653332233428955]\n"
          ]
        }
      ]
    },
    {
      "cell_type": "code",
      "source": [
        "print(model.evaluate_generator(batch_generator(df_train[:256], 256,len(df_train[:256])//256),steps=len(df_train[:256])//256,verbose=1))"
      ],
      "metadata": {
        "id": "BaBQkFP-DaaP",
        "colab": {
          "base_uri": "https://localhost:8080/"
        },
        "outputId": "85f32c66-6873-4a8c-cf71-467fb54c81cb"
      },
      "execution_count": 63,
      "outputs": [
        {
          "output_type": "stream",
          "name": "stdout",
          "text": [
            "\r1/1 [==============================] - 5s 5s/step\n",
            "[3.7193654861766845e-05, 1.0, 1.0, 1.0, 1.0]\n"
          ]
        }
      ]
    },
    {
      "cell_type": "code",
      "source": [
        "print(model.evaluate_generator(batch_generator(df_val[:256], 256,len(df_val[:256])//256),steps=len(df_val[:256])//256,verbose=1))"
      ],
      "metadata": {
        "id": "hb4w1uOIE-DX",
        "colab": {
          "base_uri": "https://localhost:8080/"
        },
        "outputId": "e3363426-8e07-472b-d5f3-13827d5fc9e1"
      },
      "execution_count": 64,
      "outputs": [
        {
          "output_type": "stream",
          "name": "stdout",
          "text": [
            "\r1/1 [==============================] - 5s 5s/step\n",
            "[0.6928139328956604, 0.89453125, 0.9132652878761292, 0.9470899701118469, 0.929870069026947]\n"
          ]
        }
      ]
    },
    {
      "cell_type": "code",
      "source": [
        "help(model.evaluate_generator)"
      ],
      "metadata": {
        "id": "1xkZBtt8Ga43",
        "colab": {
          "base_uri": "https://localhost:8080/"
        },
        "outputId": "47af7f1c-9749-4f3c-b38e-b63073891e70"
      },
      "execution_count": 65,
      "outputs": [
        {
          "output_type": "stream",
          "name": "stdout",
          "text": [
            "Help on method evaluate_generator in module keras.engine.training:\n",
            "\n",
            "evaluate_generator(generator, steps=None, max_queue_size=10, workers=1, use_multiprocessing=False, verbose=0) method of keras.engine.training.Model instance\n",
            "    Evaluates the model on a data generator.\n",
            "    \n",
            "    The generator should return the same kind of data\n",
            "    as accepted by `test_on_batch`.\n",
            "    \n",
            "    # Arguments\n",
            "        generator: Generator yielding tuples (inputs, targets)\n",
            "            or (inputs, targets, sample_weights)\n",
            "            or an instance of Sequence (keras.utils.Sequence)\n",
            "            object in order to avoid duplicate data\n",
            "            when using multiprocessing.\n",
            "        steps: Total number of steps (batches of samples)\n",
            "            to yield from `generator` before stopping.\n",
            "            Optional for `Sequence`: if unspecified, will use\n",
            "            the `len(generator)` as a number of steps.\n",
            "        max_queue_size: maximum size for the generator queue\n",
            "        workers: Integer. Maximum number of processes to spin up\n",
            "            when using process based threading.\n",
            "            If unspecified, `workers` will default to 1. If 0, will\n",
            "            execute the generator on the main thread.\n",
            "        use_multiprocessing: if True, use process based threading.\n",
            "            Note that because\n",
            "            this implementation relies on multiprocessing,\n",
            "            you should not pass\n",
            "            non picklable arguments to the generator\n",
            "            as they can't be passed\n",
            "            easily to children processes.\n",
            "        verbose: verbosity mode, 0 or 1.\n",
            "    \n",
            "    # Returns\n",
            "        Scalar test loss (if the model has a single output and no metrics)\n",
            "        or list of scalars (if the model has multiple outputs\n",
            "        and/or metrics). The attribute `model.metrics_names` will give you\n",
            "        the display labels for the scalar outputs.\n",
            "    \n",
            "    # Raises\n",
            "        ValueError: In case the generator yields\n",
            "            data in an invalid format.\n",
            "\n"
          ]
        }
      ]
    },
    {
      "cell_type": "markdown",
      "metadata": {
        "id": "4rapfUmhiyFQ"
      },
      "source": [
        "### **The performance metrics**"
      ]
    },
    {
      "cell_type": "code",
      "metadata": {
        "id": "w6VOqcdlrKXT",
        "colab": {
          "base_uri": "https://localhost:8080/"
        },
        "outputId": "53ef1a73-953f-4290-a251-b72886759032"
      },
      "source": [
        "from sklearn.metrics import confusion_matrix\n",
        "\n",
        "y_pred=model.predict_generator(batch_generator(df_test[:256], 256,len(df_test[:256])//256),steps=len(df_test[:256])//256,verbose=1)\n",
        "\n",
        "y_true=df_test[:256].labels\n",
        "array=confusion_matrix(y_true, (1.2*y_pred).round(),normalize=\"true\")"
      ],
      "execution_count": 66,
      "outputs": [
        {
          "output_type": "stream",
          "name": "stdout",
          "text": [
            "\r1/1 [==============================] - 5s 5s/step\n"
          ]
        }
      ]
    },
    {
      "cell_type": "code",
      "source": [
        "from sklearn.datasets import make_circles\n",
        "from sklearn.metrics import accuracy_score\n",
        "from sklearn.metrics import precision_score\n",
        "from sklearn.metrics import recall_score\n",
        "from sklearn.metrics import f1_score\n",
        "from sklearn.metrics import cohen_kappa_score\n",
        "from sklearn.metrics import roc_auc_score\n",
        "from sklearn.metrics import confusion_matrix\n",
        "from keras.models import Sequential\n",
        "from keras.layers import Dense"
      ],
      "metadata": {
        "id": "YWEy-dGoH7cV"
      },
      "execution_count": 67,
      "outputs": []
    },
    {
      "cell_type": "code",
      "source": [
        "accuracy = accuracy_score(y_true, (1.2*y_pred).round())"
      ],
      "metadata": {
        "id": "5puhANpbHwLt"
      },
      "execution_count": 68,
      "outputs": []
    },
    {
      "cell_type": "code",
      "source": [
        "accuracy"
      ],
      "metadata": {
        "id": "WvkI7h3yIENk",
        "colab": {
          "base_uri": "https://localhost:8080/"
        },
        "outputId": "d23ec625-9354-4fc8-de5f-6092465ff52e"
      },
      "execution_count": 69,
      "outputs": [
        {
          "output_type": "execute_result",
          "data": {
            "text/plain": [
              "0.94921875"
            ]
          },
          "metadata": {},
          "execution_count": 69
        }
      ]
    },
    {
      "cell_type": "code",
      "source": [
        "# accuracy: (tp + tn) / (p + n)\n",
        "accuracy = accuracy_score(y_true, (1.2*y_pred).round())\n",
        "print('Accuracy: %f' % accuracy)\n",
        "# precision tp / (tp + fp)\n",
        "precision = precision_score(y_true, (1.2*y_pred).round())\n",
        "print('Precision: %f' % precision)\n",
        "# recall: tp / (tp + fn)\n",
        "recall = recall_score(y_true, (1.2*y_pred).round())\n",
        "print('Recall: %f' % recall)\n",
        "# f1: 2 tp / (2 tp + fp + fn)\n",
        "f1 = f1_score(y_true, (1.2*y_pred).round())\n",
        "print('F1 score: %f' % f1)\n",
        " \n",
        "# kappa\n",
        "kappa = cohen_kappa_score(y_true, (1.2*y_pred).round())\n",
        "print('Cohens kappa: %f' % kappa)\n",
        "# ROC AUC\n",
        "auc = roc_auc_score(y_true, (1.2*y_pred).round())\n",
        "print('ROC AUC: %f' % auc)\n",
        "# confusion matrix\n",
        "matrix = confusion_matrix(y_true, (1.2*y_pred).round())\n",
        "print(matrix)"
      ],
      "metadata": {
        "id": "rPQwlHeDIPSs",
        "colab": {
          "base_uri": "https://localhost:8080/"
        },
        "outputId": "2ada2622-cc99-4732-dcce-c1a87f5316d8"
      },
      "execution_count": 70,
      "outputs": [
        {
          "output_type": "stream",
          "name": "stdout",
          "text": [
            "Accuracy: 0.949219\n",
            "Precision: 0.967914\n",
            "Recall: 0.962766\n",
            "F1 score: 0.965333\n",
            "Cohens kappa: 0.870445\n",
            "ROC AUC: 0.937265\n",
            "[[ 62   6]\n",
            " [  7 181]]\n"
          ]
        }
      ]
    },
    {
      "cell_type": "code",
      "source": [
        "import sklearn.metrics as metrics"
      ],
      "metadata": {
        "id": "j5k7h0SInFOU"
      },
      "execution_count": 74,
      "outputs": []
    },
    {
      "cell_type": "code",
      "source": [
        "fpr, tpr, threshold = metrics.roc_curve(y_true, (1.2*y_pred).round())\n",
        "roc_auc = metrics.auc(fpr, tpr)\n",
        "\n",
        "plt.title('Receiver Operating Characteristic')\n",
        "plt.plot(fpr, tpr, 'b', label='AUC = %0.2f' % roc_auc)\n",
        "plt.legend(loc='lower right')\n",
        "plt.plot([0, 1], [0, 1], 'r--')\n",
        "plt.xlim([0, 1])\n",
        "plt.ylim([0, 1])\n",
        "plt.ylabel('True Positive Rate')\n",
        "plt.xlabel('False Positive Rate')\n",
        "plt.savefig('roc')\n",
        "plt.show()\n"
      ],
      "metadata": {
        "id": "IHkkDLqVJbZM",
        "colab": {
          "base_uri": "https://localhost:8080/",
          "height": 315
        },
        "outputId": "c4aa8e73-37b8-4feb-976c-13dd2ce41bd7"
      },
      "execution_count": 105,
      "outputs": [
        {
          "output_type": "display_data",
          "data": {
            "image/png": "[encoded data removed]",
            "text/plain": [
              "<Figure size 432x288 with 1 Axes>"
            ]
          },
          "metadata": {}
        }
      ]
    },
    {
      "cell_type": "code",
      "source": [
        "print(metrics.accuracy_score(y_true, (1.2*y_pred).round()))"
      ],
      "metadata": {
        "id": "D390ZWCFKRZc",
        "colab": {
          "base_uri": "https://localhost:8080/"
        },
        "outputId": "e6f0bcf9-5b13-4bb5-c6a0-770df302af79"
      },
      "execution_count": 76,
      "outputs": [
        {
          "output_type": "stream",
          "name": "stdout",
          "text": [
            "0.94921875\n"
          ]
        }
      ]
    },
    {
      "cell_type": "code",
      "source": [
        "import numpy as np\n",
        "import pandas as pd\n",
        "import seaborn as sns\n",
        "import matplotlib.pyplot as plt\n",
        "\n",
        "# machine learning libraries\n",
        "\n",
        "import statsmodels.api as sm\n",
        "from sklearn.model_selection import train_test_split\n",
        "from sklearn.preprocessing import StandardScaler\n",
        "from sklearn.linear_model import LogisticRegression\n",
        "from statsmodels.stats.outliers_influence import variance_inflation_factor\n",
        "from sklearn.feature_selection import RFE\n",
        "from sklearn.metrics import confusion_matrix\n",
        "\n",
        "from sklearn.metrics import roc_curve,roc_auc_score\n",
        "\n",
        "import warnings\n",
        "warnings.filterwarnings('ignore')"
      ],
      "metadata": {
        "id": "3DabFXjfLgJD",
        "colab": {
          "base_uri": "https://localhost:8080/"
        },
        "outputId": "8b739130-0f4c-4620-ef7e-f2deca90f991"
      },
      "execution_count": 77,
      "outputs": [
        {
          "output_type": "stream",
          "name": "stderr",
          "text": [
            "/usr/local/lib/python3.7/dist-packages/statsmodels/tools/_testing.py:19: FutureWarning: pandas.util.testing is deprecated. Use the functions in the public API at pandas.testing instead.\n",
            "  import pandas.util.testing as tm\n"
          ]
        }
      ]
    },
    {
      "cell_type": "code",
      "source": [
        " # Now let's calculate accuracy sensitivity and specificity for various probability cutoffs.\n",
        "cutoff_df = pd.DataFrame( columns = ['Probability','Accuracy','Sensitivity','Specificity'])\n",
        "from sklearn.metrics import confusion_matrix\n",
        "\n",
        "# TP = confusion[1,1] # true positive \n",
        "# TN = confusion[0,0] # true negatives\n",
        "# FP = confusion[0,1] # false positives\n",
        "# FN = confusion[1,0] # false negatives\n",
        "\n",
        "num = [0.0,0.1,0.2,0.3,0.4,0.5,0.6,0.7,0.8,0.9]\n",
        "for i in num:\n",
        "    cm1 = metrics.confusion_matrix(y_true, (1.2*y_pred).round())\n",
        "    total1=sum(sum(cm1))\n",
        "    Accuracy = (cm1[0,0]+cm1[1,1])/total1\n",
        "    \n",
        "    Specificity = cm1[0,0]/(cm1[0,0]+cm1[0,1])\n",
        "    Sensitivity = cm1[1,1]/(cm1[1,0]+cm1[1,1])\n",
        "    cutoff_df.loc[i] =[ i ,Accuracy,Sensitivity,Specificity]\n",
        "print(cutoff_df)"
      ],
      "metadata": {
        "id": "5rI3siAzKikk",
        "colab": {
          "base_uri": "https://localhost:8080/"
        },
        "outputId": "dadb6992-0bda-4558-cd73-09838730f968"
      },
      "execution_count": 78,
      "outputs": [
        {
          "output_type": "stream",
          "name": "stdout",
          "text": [
            "     Probability  Accuracy  Sensitivity  Specificity\n",
            "0.0          0.0  0.949219     0.962766     0.911765\n",
            "0.1          0.1  0.949219     0.962766     0.911765\n",
            "0.2          0.2  0.949219     0.962766     0.911765\n",
            "0.3          0.3  0.949219     0.962766     0.911765\n",
            "0.4          0.4  0.949219     0.962766     0.911765\n",
            "0.5          0.5  0.949219     0.962766     0.911765\n",
            "0.6          0.6  0.949219     0.962766     0.911765\n",
            "0.7          0.7  0.949219     0.962766     0.911765\n",
            "0.8          0.8  0.949219     0.962766     0.911765\n",
            "0.9          0.9  0.949219     0.962766     0.911765\n"
          ]
        }
      ]
    },
    {
      "cell_type": "code",
      "source": [
        "print(Accuracy,Sensitivity,Specificity)"
      ],
      "metadata": {
        "id": "d0OmDokKLqWK",
        "colab": {
          "base_uri": "https://localhost:8080/"
        },
        "outputId": "2340e3d5-0a5f-4550-cf0e-902c22d813de"
      },
      "execution_count": 79,
      "outputs": [
        {
          "output_type": "stream",
          "name": "stdout",
          "text": [
            "0.94921875 0.9627659574468085 0.9117647058823529\n"
          ]
        }
      ]
    },
    {
      "cell_type": "code",
      "source": [
        "import matplotlib.pyplot as plt\n",
        "# Let's plot accuracy sensitivity and specificity for various probabilities.\n",
        "cutoff_df.plot.line(x='Probability', y=['Accuracy','Sensitivity','Specificity'])\n",
        "plt.show()"
      ],
      "metadata": {
        "id": "4ZGG4CKAPNJp",
        "colab": {
          "base_uri": "https://localhost:8080/",
          "height": 279
        },
        "outputId": "7ba307f1-182f-481b-f64c-69c23226ede8"
      },
      "execution_count": 80,
      "outputs": [
        {
          "output_type": "display_data",
          "data": {
            "image/png": "[encoded data removed]",
            "text/plain": [
              "<Figure size 432x288 with 1 Axes>"
            ]
          },
          "metadata": {
            "needs_background": "light"
          }
        }
      ]
    },
    {
      "cell_type": "code",
      "source": [
        "# # Let's plot accuracy sensitivity and specificity for various probabilities.\n",
        "\n",
        "\n",
        "import matplotlib.pyplot as plt\n",
        "\n",
        "\n",
        "cutoff_df = pd.DataFrame( columns = ['Probability','Accuracy','Sensitivity','Specificity'])\n",
        "\n",
        "plt.show()\n",
        "plt.savefig('ss')"
      ],
      "metadata": {
        "id": "Dewbpm0cLzxK",
        "colab": {
          "base_uri": "https://localhost:8080/",
          "height": 35
        },
        "outputId": "9df587db-fdc4-4c66-b3d2-6dc156a5c9a2"
      },
      "execution_count": 81,
      "outputs": [
        {
          "output_type": "display_data",
          "data": {
            "text/plain": [
              "<Figure size 432x288 with 0 Axes>"
            ]
          },
          "metadata": {}
        }
      ]
    },
    {
      "cell_type": "code",
      "metadata": {
        "id": "MmEE2CXl3Ug9",
        "colab": {
          "base_uri": "https://localhost:8080/",
          "height": 273
        },
        "outputId": "c0202e0d-3eb1-4032-f0d2-ccb0d7ab24a8"
      },
      "source": [
        "import seaborn as sn\n",
        "\n",
        "df_cm = pd.DataFrame(array, range(2), range(2))\n",
        "# plt.figure(figsize=(10,7))\n",
        "sn.set(font_scale=1.4) # for label size\n",
        "sn.heatmap(df_cm, annot=True, annot_kws={\"size\": 16}) # font size\n",
        "plt.savefig(\"conf\")\n",
        "plt.show()"
      ],
      "execution_count": 107,
      "outputs": [
        {
          "output_type": "display_data",
          "data": {
            "image/png": "[encoded data removed]",
            "text/plain": [
              "<Figure size 432x288 with 2 Axes>"
            ]
          },
          "metadata": {}
        }
      ]
    },
    {
      "cell_type": "code",
      "source": [
        "df_cm"
      ],
      "metadata": {
        "id": "pFSLNMoPG8KP",
        "colab": {
          "base_uri": "https://localhost:8080/",
          "height": 112
        },
        "outputId": "22977845-9989-4918-dd5c-60052b1d99f3"
      },
      "execution_count": 83,
      "outputs": [
        {
          "output_type": "execute_result",
          "data": {
            "text/html": [
              "\n",
              "  <div id=\"df-5fc087d1-9496-46b5-bd41-4ff064490eaf\">\n",
              "    <div class=\"colab-df-container\">\n",
              "      <div>\n",
              "<style scoped>\n",
              "    .dataframe tbody tr th:only-of-type {\n",
              "        vertical-align: middle;\n",
              "    }\n",
              "\n",
              "    .dataframe tbody tr th {\n",
              "        vertical-align: top;\n",
              "    }\n",
              "\n",
              "    .dataframe thead th {\n",
              "        text-align: right;\n",
              "    }\n",
              "</style>\n",
              "<table border=\"1\" class=\"dataframe\">\n",
              "  <thead>\n",
              "    <tr style=\"text-align: right;\">\n",
              "      <th></th>\n",
              "      <th>0</th>\n",
              "      <th>1</th>\n",
              "    </tr>\n",
              "  </thead>\n",
              "  <tbody>\n",
              "    <tr>\n",
              "      <th>0</th>\n",
              "      <td>0.911765</td>\n",
              "      <td>0.088235</td>\n",
              "    </tr>\n",
              "    <tr>\n",
              "      <th>1</th>\n",
              "      <td>0.037234</td>\n",
              "      <td>0.962766</td>\n",
              "    </tr>\n",
              "  </tbody>\n",
              "</table>\n",
              "</div>\n",
              "      <button class=\"colab-df-convert\" onclick=\"convertToInteractive('df-5fc087d1-9496-46b5-bd41-4ff064490eaf')\"\n",
              "              title=\"Convert this dataframe to an interactive table.\"\n",
              "              style=\"display:none;\">\n",
              "        \n",
              "  <svg xmlns=\"http://www.w3.org/2000/svg\" height=\"24px\"viewBox=\"0 0 24 24\"\n",
              "       width=\"24px\">\n",
              "    <path d=\"M0 0h24v24H0V0z\" fill=\"none\"/>\n",
              "    <path d=\"M18.56 5.44l.94 2.06.94-2.06 2.06-.94-2.06-.94-.94-2.06-.94 2.06-2.06.94zm-11 1L8.5 8.5l.94-2.06 2.06-.94-2.06-.94L8.5 2.5l-.94 2.06-2.06.94zm10 10l.94 2.06.94-2.06 2.06-.94-2.06-.94-.94-2.06-.94 2.06-2.06.94z\"/><path d=\"M17.41 7.96l-1.37-1.37c-.4-.4-.92-.59-1.43-.59-.52 0-1.04.2-1.43.59L10.3 9.45l-7.72 7.72c-.78.78-.78 2.05 0 2.83L4 21.41c.39.39.9.59 1.41.59.51 0 1.02-.2 1.41-.59l7.78-7.78 2.81-2.81c.8-.78.8-2.07 0-2.86zM5.41 20L4 18.59l7.72-7.72 1.47 1.35L5.41 20z\"/>\n",
              "  </svg>\n",
              "      </button>\n",
              "      \n",
              "  <style>\n",
              "    .colab-df-container {\n",
              "      display:flex;\n",
              "      flex-wrap:wrap;\n",
              "      gap: 12px;\n",
              "    }\n",
              "\n",
              "    .colab-df-convert {\n",
              "      background-color: #E8F0FE;\n",
              "      border: none;\n",
              "      border-radius: 50%;\n",
              "      cursor: pointer;\n",
              "      display: none;\n",
              "      fill: #1967D2;\n",
              "      height: 32px;\n",
              "      padding: 0 0 0 0;\n",
              "      width: 32px;\n",
              "    }\n",
              "\n",
              "    .colab-df-convert:hover {\n",
              "      background-color: #E2EBFA;\n",
              "      box-shadow: 0px 1px 2px rgba(60, 64, 67, 0.3), 0px 1px 3px 1px rgba(60, 64, 67, 0.15);\n",
              "      fill: #174EA6;\n",
              "    }\n",
              "\n",
              "    [theme=dark] .colab-df-convert {\n",
              "      background-color: #3B4455;\n",
              "      fill: #D2E3FC;\n",
              "    }\n",
              "\n",
              "    [theme=dark] .colab-df-convert:hover {\n",
              "      background-color: #434B5C;\n",
              "      box-shadow: 0px 1px 3px 1px rgba(0, 0, 0, 0.15);\n",
              "      filter: drop-shadow(0px 1px 2px rgba(0, 0, 0, 0.3));\n",
              "      fill: #FFFFFF;\n",
              "    }\n",
              "  </style>\n",
              "\n",
              "      <script>\n",
              "        const buttonEl =\n",
              "          document.querySelector('#df-5fc087d1-9496-46b5-bd41-4ff064490eaf button.colab-df-convert');\n",
              "        buttonEl.style.display =\n",
              "          google.colab.kernel.accessAllowed ? 'block' : 'none';\n",
              "\n",
              "        async function convertToInteractive(key) {\n",
              "          const element = document.querySelector('#df-5fc087d1-9496-46b5-bd41-4ff064490eaf');\n",
              "          const dataTable =\n",
              "            await google.colab.kernel.invokeFunction('convertToInteractive',\n",
              "                                                     [key], {});\n",
              "          if (!dataTable) return;\n",
              "\n",
              "          const docLinkHtml = 'Like what you see? Visit the ' +\n",
              "            '<a target=\"_blank\" href=https://colab.research.google.com/notebooks/data_table.ipynb>data table notebook</a>'\n",
              "            + ' to learn more about interactive tables.';\n",
              "          element.innerHTML = '';\n",
              "          dataTable['output_type'] = 'display_data';\n",
              "          await google.colab.output.renderOutput(dataTable, element);\n",
              "          const docLink = document.createElement('div');\n",
              "          docLink.innerHTML = docLinkHtml;\n",
              "          element.appendChild(docLink);\n",
              "        }\n",
              "      </script>\n",
              "    </div>\n",
              "  </div>\n",
              "  "
            ],
            "text/plain": [
              "          0         1\n",
              "0  0.911765  0.088235\n",
              "1  0.037234  0.962766"
            ]
          },
          "metadata": {},
          "execution_count": 83
        }
      ]
    },
    {
      "cell_type": "code",
      "source": [
        "help(model.predict_generator)"
      ],
      "metadata": {
        "id": "ZZ4PVR5fGrq-",
        "colab": {
          "base_uri": "https://localhost:8080/"
        },
        "outputId": "0aa9c844-481f-4fd4-a7b1-0212b3eb1f8f"
      },
      "execution_count": 84,
      "outputs": [
        {
          "output_type": "stream",
          "name": "stdout",
          "text": [
            "Help on method predict_generator in module keras.engine.training:\n",
            "\n",
            "predict_generator(generator, steps=None, max_queue_size=10, workers=1, use_multiprocessing=False, verbose=0) method of keras.engine.training.Model instance\n",
            "    Generates predictions for the input samples from a data generator.\n",
            "    \n",
            "    The generator should return the same kind of data as accepted by\n",
            "    `predict_on_batch`.\n",
            "    \n",
            "    # Arguments\n",
            "        generator: Generator yielding batches of input samples\n",
            "            or an instance of Sequence (keras.utils.Sequence)\n",
            "            object in order to avoid duplicate data\n",
            "            when using multiprocessing.\n",
            "        steps: Total number of steps (batches of samples)\n",
            "            to yield from `generator` before stopping.\n",
            "            Optional for `Sequence`: if unspecified, will use\n",
            "            the `len(generator)` as a number of steps.\n",
            "        max_queue_size: Maximum size for the generator queue.\n",
            "        workers: Integer. Maximum number of processes to spin up\n",
            "            when using process based threading.\n",
            "            If unspecified, `workers` will default to 1. If 0, will\n",
            "            execute the generator on the main thread.\n",
            "        use_multiprocessing: If `True`, use process based threading.\n",
            "            Note that because\n",
            "            this implementation relies on multiprocessing,\n",
            "            you should not pass\n",
            "            non picklable arguments to the generator\n",
            "            as they can't be passed\n",
            "            easily to children processes.\n",
            "        verbose: verbosity mode, 0 or 1.\n",
            "    \n",
            "    # Returns\n",
            "        Numpy array(s) of predictions.\n",
            "    \n",
            "    # Raises\n",
            "        ValueError: In case the generator yields\n",
            "            data in an invalid format.\n",
            "\n"
          ]
        }
      ]
    },
    {
      "cell_type": "code",
      "metadata": {
        "id": "mPiq2i-ezhYK",
        "colab": {
          "base_uri": "https://localhost:8080/"
        },
        "outputId": "20ee8bd1-4483-49f9-e5de-7dbfe5b66eae"
      },
      "source": [
        "print(accuracy, f1_score, precision, recall)"
      ],
      "execution_count": 86,
      "outputs": [
        {
          "output_type": "stream",
          "name": "stdout",
          "text": [
            "0.94921875 <function f1_score at 0x7f3045e35710> 0.9679144385026738 0.9627659574468085\n"
          ]
        }
      ]
    },
    {
      "cell_type": "code",
      "metadata": {
        "id": "L-BPbhLgpMD3"
      },
      "source": [
        "sensitivity=recall"
      ],
      "execution_count": 87,
      "outputs": []
    },
    {
      "cell_type": "code",
      "metadata": {
        "id": "G9XP9HFqvxpr",
        "colab": {
          "base_uri": "https://localhost:8080/"
        },
        "outputId": "c19c7394-66e2-4428-861b-8964ec62db6c"
      },
      "source": [
        "sensitivity"
      ],
      "execution_count": 88,
      "outputs": [
        {
          "output_type": "execute_result",
          "data": {
            "text/plain": [
              "0.9627659574468085"
            ]
          },
          "metadata": {},
          "execution_count": 88
        }
      ]
    },
    {
      "cell_type": "code",
      "metadata": {
        "id": "swe1iFPErQtI"
      },
      "source": [
        "tn, fp, fn, tp =array.ravel()"
      ],
      "execution_count": 91,
      "outputs": []
    },
    {
      "cell_type": "code",
      "metadata": {
        "id": "4WpiFp7mvUvt",
        "colab": {
          "base_uri": "https://localhost:8080/"
        },
        "outputId": "97b26c68-7dac-490b-b0b9-b5e4f681cd4d"
      },
      "source": [
        "tn, fp, fn, tp"
      ],
      "execution_count": 92,
      "outputs": [
        {
          "output_type": "execute_result",
          "data": {
            "text/plain": [
              "(0.9117647058823529,\n",
              " 0.08823529411764706,\n",
              " 0.03723404255319149,\n",
              " 0.9627659574468085)"
            ]
          },
          "metadata": {},
          "execution_count": 92
        }
      ]
    },
    {
      "cell_type": "code",
      "metadata": {
        "id": "-SKGwcHovcj6"
      },
      "source": [
        "specificity =tn / (tn + fp)"
      ],
      "execution_count": 95,
      "outputs": []
    },
    {
      "cell_type": "code",
      "metadata": {
        "id": "qjdK3Ad8vukt",
        "colab": {
          "base_uri": "https://localhost:8080/"
        },
        "outputId": "999e439b-56b9-4d02-f850-139ac02fcb39"
      },
      "source": [
        "specificity"
      ],
      "execution_count": 94,
      "outputs": [
        {
          "output_type": "execute_result",
          "data": {
            "text/plain": [
              "0.9117647058823529"
            ]
          },
          "metadata": {},
          "execution_count": 94
        }
      ]
    },
    {
      "cell_type": "code",
      "metadata": {
        "id": "kPQP8Rk71N1v"
      },
      "source": [
        "from sklearn.metrics import roc_curve\n",
        "from sklearn.metrics import roc_auc_score"
      ],
      "execution_count": 96,
      "outputs": []
    },
    {
      "cell_type": "code",
      "metadata": {
        "id": "gV1kwZjt3MT4",
        "colab": {
          "base_uri": "https://localhost:8080/",
          "height": 315
        },
        "outputId": "ea156bba-e742-48a1-fe7a-e3371da569ae"
      },
      "source": [
        "import sklearn.metrics as metrics\n",
        "# calculate the fpr and tpr for all thresholds of the classification\n",
        "\n",
        "fpr, tpr, threshold = metrics.roc_curve(y_true,y_pred)\n",
        "roc_auc = metrics.auc(fpr, tpr)\n",
        "\n",
        "# method I: plt\n",
        "import matplotlib.pyplot as plt\n",
        "plt.title('Receiver Operating Characteristic')\n",
        "plt.plot(fpr, tpr, 'b', label = 'AUC = %0.2f' % roc_auc)\n",
        "plt.legend(loc = 'lower right')\n",
        "plt.plot([0, 1], [0, 1],'r--')\n",
        "plt.xlim([0, 1])\n",
        "plt.ylim([0, 1])\n",
        "plt.ylabel('True Positive Rate')\n",
        "plt.xlabel('False Positive Rate')\n",
        "plt.show()"
      ],
      "execution_count": 97,
      "outputs": [
        {
          "output_type": "display_data",
          "data": {
            "image/png": "[encoded data removed]",
            "text/plain": [
              "<Figure size 432x288 with 1 Axes>"
            ]
          },
          "metadata": {}
        }
      ]
    },
    {
      "cell_type": "code",
      "metadata": {
        "id": "Miq1KLPhU2BA"
      },
      "source": [
        "model.save_weights('mymodel_weights')"
      ],
      "execution_count": 98,
      "outputs": []
    },
    {
      "cell_type": "code",
      "source": [
        "for x in model.layers:\n",
        "  print(x)"
      ],
      "metadata": {
        "colab": {
          "base_uri": "https://localhost:8080/"
        },
        "id": "pTHb7m-XrNNl",
        "outputId": "4e9bf27e-4d1f-4985-f687-31e183796621"
      },
      "execution_count": 108,
      "outputs": [
        {
          "output_type": "stream",
          "name": "stdout",
          "text": [
            "<keras.engine.input_layer.InputLayer object at 0x7f2ffd30ae10>\n",
            "<complexnn.conv.QuaternionConv2D object at 0x7f2ffd30aa90>\n",
            "<keras.layers.normalization.BatchNormalization object at 0x7f2ffd30e1d0>\n",
            "<keras.layers.advanced_activations.ReLU object at 0x7f2ffd30e250>\n",
            "<__main__.ChannelAttention object at 0x7f2ffd29df10>\n",
            "<__main__.SpatialAttention object at 0x7f2ffd29d650>\n",
            "<keras.layers.pooling.MaxPooling2D object at 0x7f2ffd30ec50>\n",
            "<complexnn.conv.QuaternionConv2D object at 0x7f2ff033cbd0>\n",
            "<keras.layers.normalization.BatchNormalization object at 0x7f2ff032bc10>\n",
            "<keras.layers.advanced_activations.ELU object at 0x7f2ff032b090>\n",
            "<complexnn.conv.QuaternionConv2D object at 0x7f2ff0302fd0>\n",
            "<keras.layers.normalization.BatchNormalization object at 0x7f2ff029c390>\n",
            "<keras.layers.advanced_activations.ELU object at 0x7f2ff0260a50>\n",
            "<complexnn.conv.QuaternionConv2D object at 0x7f2ff0279e90>\n",
            "<complexnn.conv.QuaternionConv2D object at 0x7f2ff0250e50>\n",
            "<keras.layers.normalization.BatchNormalization object at 0x7f2ff021efd0>\n",
            "<keras.layers.normalization.BatchNormalization object at 0x7f2ff01e9e50>\n",
            "<keras.layers.advanced_activations.ELU object at 0x7f2ff021ef50>\n",
            "<keras.layers.merge.Add object at 0x7f2ff01e91d0>\n",
            "<keras.layers.advanced_activations.ReLU object at 0x7f2ff01ab350>\n",
            "<keras.layers.pooling.MaxPooling2D object at 0x7f2ff01b2f90>\n",
            "<__main__.ChannelAttention object at 0x7f2ff016b710>\n",
            "<__main__.SpatialAttention object at 0x7f2ff016b790>\n",
            "<complexnn.conv.QuaternionConv2D object at 0x7f2ff016b810>\n",
            "<keras.layers.normalization.BatchNormalization object at 0x7f2ff0171e90>\n",
            "<keras.layers.advanced_activations.ELU object at 0x7f2ff01127d0>\n",
            "<complexnn.conv.QuaternionConv2D object at 0x7f2ff0118610>\n",
            "<keras.layers.normalization.BatchNormalization object at 0x7f2ff01332d0>\n",
            "<keras.layers.advanced_activations.ELU object at 0x7f2ff01336d0>\n",
            "<complexnn.conv.QuaternionConv2D object at 0x7f2ff00f9fd0>\n",
            "<complexnn.conv.QuaternionConv2D object at 0x7f2ff005c550>\n",
            "<keras.layers.normalization.BatchNormalization object at 0x7f2ff0091d90>\n",
            "<keras.layers.normalization.BatchNormalization object at 0x7f2ff00786d0>\n",
            "<keras.layers.advanced_activations.ELU object at 0x7f2ff0091b90>\n",
            "<keras.layers.merge.Add object at 0x7f2ff0078610>\n",
            "<keras.layers.advanced_activations.ReLU object at 0x7f2ff0046b10>\n",
            "<keras.layers.pooling.MaxPooling2D object at 0x7f2ff004aa10>\n",
            "<__main__.ChannelAttention object at 0x7f2faed12d50>\n",
            "<__main__.SpatialAttention object at 0x7f2faed12ad0>\n",
            "<complexnn.conv.QuaternionConv2D object at 0x7f2faed12bd0>\n",
            "<keras.layers.normalization.BatchNormalization object at 0x7f2faed1f550>\n",
            "<keras.layers.advanced_activations.ELU object at 0x7f2faed1f5d0>\n",
            "<complexnn.conv.QuaternionConv2D object at 0x7f2faecc48d0>\n",
            "<keras.layers.normalization.BatchNormalization object at 0x7f2faecdb990>\n",
            "<keras.layers.advanced_activations.ELU object at 0x7f2faecdb4d0>\n",
            "<complexnn.conv.QuaternionConv2D object at 0x7f2faec30cd0>\n",
            "<complexnn.conv.QuaternionConv2D object at 0x7f2faec13150>\n",
            "<keras.layers.normalization.BatchNormalization object at 0x7f2faec4e690>\n",
            "<keras.layers.normalization.BatchNormalization object at 0x7f2faebacb10>\n",
            "<keras.layers.advanced_activations.ELU object at 0x7f2faec4e910>\n",
            "<keras.layers.merge.Add object at 0x7f2faeb72d90>\n",
            "<keras.layers.advanced_activations.ReLU object at 0x7f2faeb7ef10>\n",
            "<keras.layers.pooling.MaxPooling2D object at 0x7f2faeb7e050>\n",
            "<__main__.ChannelAttention object at 0x7f2faeb2dfd0>\n",
            "<__main__.SpatialAttention object at 0x7f2faeb35290>\n",
            "<complexnn.conv.QuaternionConv2D object at 0x7f2faeb35190>\n",
            "<keras.layers.normalization.BatchNormalization object at 0x7f2faeb3aa90>\n",
            "<keras.layers.advanced_activations.ELU object at 0x7f2faeb3ab10>\n",
            "<complexnn.conv.QuaternionConv2D object at 0x7f2faeb62910>\n",
            "<keras.layers.normalization.BatchNormalization object at 0x7f2faeaf9a10>\n",
            "<keras.layers.advanced_activations.ELU object at 0x7f2faeabff50>\n",
            "<complexnn.conv.QuaternionConv2D object at 0x7f2faeaccdd0>\n",
            "<complexnn.conv.QuaternionConv2D object at 0x7f2faea2d610>\n",
            "<keras.layers.normalization.BatchNormalization object at 0x7f2faea74a90>\n",
            "<keras.layers.normalization.BatchNormalization object at 0x7f2faea472d0>\n",
            "<keras.layers.advanced_activations.ELU object at 0x7f2faeaa57d0>\n",
            "<keras.layers.merge.Add object at 0x7f2faea476d0>\n",
            "<keras.layers.advanced_activations.ReLU object at 0x7f2faea148d0>\n",
            "<keras.layers.pooling.MaxPooling2D object at 0x7f2faea14650>\n",
            "<__main__.ChannelAttention object at 0x7f2fae9c97d0>\n",
            "<__main__.SpatialAttention object at 0x7f2fae9c9550>\n",
            "<keras.layers.pooling.GlobalAveragePooling2D object at 0x7f2fae9c9650>\n",
            "<keras.layers.core.Dense object at 0x7f2fae9d2290>\n",
            "<keras.layers.core.Dropout object at 0x7f2fae9d9490>\n",
            "<keras.layers.core.Dense object at 0x7f2fae9d9190>\n"
          ]
        }
      ]
    },
    {
      "cell_type": "code",
      "source": [
        "from keras.models import Sequential\n",
        "from keras.layers import Dense\n",
        "from keras.utils.vis_utils import plot_model\n",
        "\n",
        "plot_model(model, to_file='model_plot.png', show_shapes=True, show_layer_names=True)"
      ],
      "metadata": {
        "id": "KZmhwqQ4rXUT"
      },
      "execution_count": 110,
      "outputs": []
    }
  ]
}